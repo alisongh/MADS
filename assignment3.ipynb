{
 "cells": [
  {
   "cell_type": "markdown",
   "metadata": {},
   "source": [
    "Before you turn this problem in, make sure everything runs as expected. First, **restart the kernel** (in the menubar, select Kernel$\\rightarrow$Restart) and then **run all cells** (in the menubar, select Cell$\\rightarrow$Run All). Make sure your notebook executed to the end.\n",
    "\n",
    "Make sure you fill in any place that says `YOUR CODE HERE` or \"YOUR ANSWER HERE.\" Please remember that homeworks are to be completed independently. You may not share code with others."
   ]
  },
  {
   "cell_type": "code",
   "execution_count": null,
   "metadata": {},
   "outputs": [],
   "source": [
    "NAME = \"Liwen Huang\""
   ]
  },
  {
   "cell_type": "markdown",
   "metadata": {},
   "source": [
    "---"
   ]
  },
  {
   "cell_type": "markdown",
   "metadata": {},
   "source": [
    "# Information Visualization I \n",
    "## School of Information, University of Michigan\n",
    "\n",
    "## Week 3: \n",
    "- Perception / Cognition\n",
    "\n",
    "## Assignment Overview\n",
    "### This assignment's objectives include:\n",
    "\n",
    "- Review, refect, and apply the concepts of the perception pipeline. Justify how different encodings impact the effectiveness of a visualization depending on the human perception process.\n",
    "\n",
    "![\"Drowing\"](assets/preattentive_resized.png)\n",
    "\n",
    "<p style=\"text-align: center;\"> Preattentive Processing </p>\n",
    "\n",
    "\n",
    "- Recreate visualizations and propose new and alternative visualizations using [Altair](https://altair-viz.github.io/) \n",
    "\n",
    "### The total score of this assignment will be 100 points consisting of:\n",
    "- Case study reflection: America’s Favorite ‘Star Wars’ Movies (And Least Favorite Characters) (30 points)\n",
    "- Altair programming exercise (70 points)\n",
    "\n",
    "### Resources:\n",
    "- Article by [FiveThirtyEight](https://fivethirtyeight.com) available  [online](https://fivethirtyeight.com/features/americas-favorite-star-wars-movies-and-least-favorite-characters/) (Hickey, 2014)  \n",
    "- Datasets from FiveThirtyEight, we have downloaded a subset of this data in the folder [./assets](assets)\n",
    "    - The original dataset can be found at [FiveThirtyEight Star Wars Survey](https://github.com/fivethirtyeight/data/tree/master/star-wars-survey)\n",
    "    \n",
    "    \n",
    "### Important notes:\n",
    "1) Grading for this assignment is entirely done by manual inspection. Focus on getting the visualization to look like our example. It doesn't need to be pixel perfect (e.g., you may not always know what our example is scaled by), but it should be pretty close. Hint: go back to lab in week 2 on altair for some styling help. A *lot* of the look and feel can be done in one line of code.\n",
    "\n",
    "2) There will be a couple of places where the numbers you get when you select rows may be a little different than 538, but the percents should still work (e.g., 828 instead of 834). You'll see this in our examples. If you can somehow get the data to match exactly, that's great too.\n",
    "\n",
    "3) When turning in your PDF, please use the File -> Print -> Save as PDF option ***from your browser***. Do ***not*** use the File->Download as->PDF option. Complete instructions for this are under Resources in the Coursera page for this class."
   ]
  },
  {
   "cell_type": "markdown",
   "metadata": {},
   "source": [
    "## Part 1. Perception and Cognition (30 points)\n",
    "Read the article [\"America’s Favorite ‘Star Wars’ Movies (And Least Favorite Characters),\"](https://fivethirtyeight.com/features/americas-favorite-star-wars-movies-and-least-favorite-characters/) and answer the following questions:\n"
   ]
  },
  {
   "cell_type": "markdown",
   "metadata": {},
   "source": [
    "### 1.1 List the different data types in the following visualizations and their encodings (10 points)\n",
    "Look at the following visualizations. For each, list the variable, their type, and the encoding used (e.g., Weight, quantitative, color, ...)\n",
    "\n",
    "![\"Drowing\"](assets/how_rate_resized.png)\n",
    "![\"Drowing\"](assets/have_seen_resized.png)"
   ]
  },
  {
   "cell_type": "markdown",
   "metadata": {
    "deletable": false,
    "nbgrader": {
     "checksum": "a0fbd0222110265bbbbaaca3c575ffbe",
     "grade": true,
     "grade_id": "cell-41859c1ffe9ce303",
     "locked": false,
     "points": 0,
     "schema_version": 1,
     "solution": true
    }
   },
   "source": [
    "1. Color\n",
    "2. Length \n",
    "3. Quantitative"
   ]
  },
  {
   "cell_type": "markdown",
   "metadata": {},
   "source": [
    "### 1.2 Propose an alternative encoding for the following visualization. Compare the visualizations based on perception. (10 points)\n",
    "Either hand-draw or use an application to create a sketched solution. Upload an image and describe the differences between your solution and the FiveThirtyEight image in terms of perception (specifically for the task of comparing one movie to another).\n",
    "\n",
    "![\"Drowing\"](assets/have_seen_resized.png)"
   ]
  },
  {
   "cell_type": "markdown",
   "metadata": {
    "deletable": false,
    "nbgrader": {
     "checksum": "211c992a25ab42d544dc1b6d1706b7bf",
     "grade": true,
     "grade_id": "cell-224da315028c73f3",
     "locked": false,
     "points": 0,
     "schema_version": 1,
     "solution": true
    }
   },
   "source": [
    "I create an alternative encoding as a radial chart. The only difference between the bar chart and the radial chart is that the radial chart integrates all information in single image. They have same function of comparison and the audiences can access the number of each movie.\n",
    "\n",
    "![\"Drowing\"](assets/my_image_1.png)"
   ]
  },
  {
   "cell_type": "markdown",
   "metadata": {},
   "source": [
    "### 1.3 Propose an alternative encoding for the following visualization. Compare the visualizations based on perception. (10 points)\n",
    "Again, either-hand draw or use an application to create a sketched solution. Upload an image and describe the differences between your solution and the FiveThirtyEight image in terms of perception (specifically for the task of comparing one movie to another).\n",
    "\n",
    "![\"Drowing\"](assets/how_rate_resized.png)"
   ]
  },
  {
   "cell_type": "markdown",
   "metadata": {
    "deletable": false,
    "nbgrader": {
     "checksum": "4005f794ef41413ec8763d2060e88174",
     "grade": true,
     "grade_id": "cell-324914f3529e9279",
     "locked": false,
     "points": 0,
     "schema_version": 1,
     "solution": true
    }
   },
   "source": [
    "Same as 1.2, I still chose radial chart to represent this aspect. However, I don't believe radial chart performs well comparing with the bar chart. Even though all information integrates into one single image, it is difficult to understand for audiences because it takes time to distinguish meanings of different colors.\n",
    "\n",
    "![\"Drowing\"](assets/my_image_1_1.png)"
   ]
  },
  {
   "cell_type": "markdown",
   "metadata": {},
   "source": [
    "## Part 2. Altair programming exercise (70 points)\n",
    "We have provided you with some code and parts of the article [America’s Favorite ‘Star Wars’ Movies (And Least Favorite Characters)](https://fivethirtyeight.com/features/americas-favorite-star-wars-movies-and-least-favorite-characters/). This article is based on the dataset:\n",
    "\n",
    "1. [StarWars](data/StarWars.csv) Created by FiveThirtyEight based on a survey ran through SurveyMonkey Audience, surveying 1,186 respondents from June 3 to 6 2014. Available [online] (https://github.com/fivethirtyeight/data/tree/master/star-wars-survey)\n",
    "\n",
    "To earn points for this assignment, you must:\n",
    "\n",
    "- Recreate the visualizations in the article (replace the images in the article with a code cell that creates a visualization). We provide one example. Each visualization is worth 10 points (40 points/ 10 each x 4 total ).\n",
    "\n",
    "    - _Partial credit can be granted for each visualization (up to 5 points) if you provide the grammar of graphics description of the visualization without a functional Altair implementation_\n",
    "\n",
    "\n",
    "- Propose one alternative visualization for one of the article visualizations. Add a short paragraph describing why your visualization is more *effective* based on principles of perception/cognition. (15 points/ 10 points plot + 5 justification)\n",
    "\n",
    "\n",
    "- Propose a new visualization to complement a part of the article. Add a short paragraph justifying your decisions in terms of Perception/Cognition processes.  (15 points/ 10 points plot + 5 justification)\n"
   ]
  },
  {
   "cell_type": "code",
   "execution_count": 1,
   "metadata": {},
   "outputs": [],
   "source": [
    "import pandas as pd\n",
    "import altair as alt\n",
    "import numpy as np\n",
    "import math"
   ]
  },
  {
   "cell_type": "code",
   "execution_count": 2,
   "metadata": {},
   "outputs": [
    {
     "output_type": "execute_result",
     "data": {
      "text/plain": [
       "RendererRegistry.enable('default')"
      ]
     },
     "metadata": {},
     "execution_count": 2
    }
   ],
   "source": [
    "# enable correct rendering\n",
    "alt.renderers.enable('default')"
   ]
  },
  {
   "cell_type": "code",
   "execution_count": 3,
   "metadata": {},
   "outputs": [
    {
     "output_type": "execute_result",
     "data": {
      "text/plain": [
       "DataTransformerRegistry.enable('json')"
      ]
     },
     "metadata": {},
     "execution_count": 3
    }
   ],
   "source": [
    "# uses intermediate json files to speed things up\n",
    "alt.data_transformers.enable('json')"
   ]
  },
  {
   "cell_type": "code",
   "execution_count": 4,
   "metadata": {},
   "outputs": [],
   "source": [
    "sw = pd.read_csv('assets/StarWars.csv', encoding='latin1')"
   ]
  },
  {
   "cell_type": "code",
   "execution_count": 5,
   "metadata": {},
   "outputs": [],
   "source": [
    "# Some format is needed for the survey dataframe, we provide the formatted dataset in a dataframe \n",
    "sw = sw.rename(columns={'Have you seen any of the 6 films in the Star Wars franchise?':'seen_any_movie',\n",
    "                        'Do you consider yourself to be a fan of the Star Wars film franchise?': 'fan',\n",
    "                        'Which of the following Star Wars films have you seen? Please select all that apply.' : 'seen_EI',\n",
    "                        'Unnamed: 4' : 'seen_EII',\n",
    "                        'Unnamed: 5' : 'seen_EIII',\n",
    "                        'Unnamed: 6' : 'seen_EIV',\n",
    "                        'Unnamed: 7' : 'seen_EV',\n",
    "                        'Unnamed: 8' : 'seen_EVI',\n",
    "                        'Please rank the Star Wars films in order of preference with 1 being your favorite film in the franchise and 6 being your least favorite film.' : 'rank_EI',\n",
    "                        'Unnamed: 10' : 'rank_EII',\n",
    "                        'Unnamed: 11' : 'rank_EIII',\n",
    "                        'Unnamed: 12' : 'rank_EIV',\n",
    "                        'Unnamed: 13' : 'rank_EV',\n",
    "                        'Unnamed: 14' : 'rank_EVI',\n",
    "                        'Please state whether you view the following characters favorably, unfavorably, or are unfamiliar with him/her.' : 'fav_HS',\n",
    "                        'Unnamed: 16' : 'fav_LS',\n",
    "                        'Unnamed: 17' : 'fav_PLO',\n",
    "                        'Unnamed: 18' : 'fav_AS',\n",
    "                        'Unnamed: 19' : 'fav_OWK',\n",
    "                        'Unnamed: 20' : 'fav_EP',\n",
    "                        'Unnamed: 21' : 'fav_DV',\n",
    "                        'Unnamed: 22' : 'fav_LC',\n",
    "                        'Unnamed: 23' : 'fav_BF',\n",
    "                        'Unnamed: 24' : 'fav_C3',\n",
    "                        'Unnamed: 25' : 'fav_RD',\n",
    "                        'Unnamed: 26' : 'fav_JJB',\n",
    "                        'Unnamed: 27' : 'fav_PA',\n",
    "                        'Unnamed: 28' : 'fav_Y',\n",
    "                       })\n",
    "sw = sw.drop([0])"
   ]
  },
  {
   "cell_type": "code",
   "execution_count": 6,
   "metadata": {},
   "outputs": [
    {
     "output_type": "execute_result",
     "data": {
      "text/plain": [
       "      RespondentID seen_any_movie  fan  \\\n",
       "434   3.290598e+09            Yes   No   \n",
       "205   3.290992e+09            Yes  Yes   \n",
       "377   3.290696e+09            Yes  Yes   \n",
       "1021  3.288648e+09            Yes   No   \n",
       "348   3.290734e+09            Yes   No   \n",
       "\n",
       "                                       seen_EI  \\\n",
       "434   Star Wars: Episode I  The Phantom Menace   \n",
       "205   Star Wars: Episode I  The Phantom Menace   \n",
       "377   Star Wars: Episode I  The Phantom Menace   \n",
       "1021  Star Wars: Episode I  The Phantom Menace   \n",
       "348   Star Wars: Episode I  The Phantom Menace   \n",
       "\n",
       "                                         seen_EII  \\\n",
       "434   Star Wars: Episode II  Attack of the Clones   \n",
       "205   Star Wars: Episode II  Attack of the Clones   \n",
       "377   Star Wars: Episode II  Attack of the Clones   \n",
       "1021  Star Wars: Episode II  Attack of the Clones   \n",
       "348                                           NaN   \n",
       "\n",
       "                                        seen_EIII  \\\n",
       "434                                           NaN   \n",
       "205                                           NaN   \n",
       "377   Star Wars: Episode III  Revenge of the Sith   \n",
       "1021  Star Wars: Episode III  Revenge of the Sith   \n",
       "348                                           NaN   \n",
       "\n",
       "                               seen_EIV  \\\n",
       "434                                 NaN   \n",
       "205   Star Wars: Episode IV  A New Hope   \n",
       "377   Star Wars: Episode IV  A New Hope   \n",
       "1021  Star Wars: Episode IV  A New Hope   \n",
       "348                                 NaN   \n",
       "\n",
       "                                           seen_EV  \\\n",
       "434   Star Wars: Episode V The Empire Strikes Back   \n",
       "205   Star Wars: Episode V The Empire Strikes Back   \n",
       "377   Star Wars: Episode V The Empire Strikes Back   \n",
       "1021  Star Wars: Episode V The Empire Strikes Back   \n",
       "348                                            NaN   \n",
       "\n",
       "                                      seen_EVI rank_EI  ...  \\\n",
       "434   Star Wars: Episode VI Return of the Jedi       1  ...   \n",
       "205   Star Wars: Episode VI Return of the Jedi       4  ...   \n",
       "377   Star Wars: Episode VI Return of the Jedi       6  ...   \n",
       "1021  Star Wars: Episode VI Return of the Jedi       4  ...   \n",
       "348                                        NaN       1  ...   \n",
       "\n",
       "                   fav_Y       Which character shot first?  \\\n",
       "434       Very favorably  I don't understand this question   \n",
       "205       Very favorably                               Han   \n",
       "377       Very favorably                            Greedo   \n",
       "1021      Very favorably                               Han   \n",
       "348   Somewhat favorably  I don't understand this question   \n",
       "\n",
       "     Are you familiar with the Expanded Universe?  \\\n",
       "434                                            No   \n",
       "205                                            No   \n",
       "377                                            No   \n",
       "1021                                           No   \n",
       "348                                            No   \n",
       "\n",
       "     Do you consider yourself to be a fan of the Expanded Universe?æ  \\\n",
       "434                                                 NaN                 \n",
       "205                                                 NaN                 \n",
       "377                                                 NaN                 \n",
       "1021                                                NaN                 \n",
       "348                                                 NaN                 \n",
       "\n",
       "     Do you consider yourself to be a fan of the Star Trek franchise?  Gender  \\\n",
       "434                                                  No                Female   \n",
       "205                                                 Yes                Female   \n",
       "377                                                 Yes                Female   \n",
       "1021                                                Yes                  Male   \n",
       "348                                                  No                  Male   \n",
       "\n",
       "        Age     Household Income                         Education  \\\n",
       "434   45-60  $100,000 - $149,999  Some college or Associate degree   \n",
       "205   18-29    $25,000 - $49,999                   Bachelor degree   \n",
       "377   45-60  $100,000 - $149,999                   Graduate degree   \n",
       "1021  45-60            $150,000+                   Graduate degree   \n",
       "348   45-60    $25,000 - $49,999                   Bachelor degree   \n",
       "\n",
       "     Location (Census Region)  \n",
       "434        East South Central  \n",
       "205        East North Central  \n",
       "377                   Pacific  \n",
       "1021           South Atlantic  \n",
       "348                   Pacific  \n",
       "\n",
       "[5 rows x 38 columns]"
      ],
      "text/html": "<div>\n<style scoped>\n    .dataframe tbody tr th:only-of-type {\n        vertical-align: middle;\n    }\n\n    .dataframe tbody tr th {\n        vertical-align: top;\n    }\n\n    .dataframe thead th {\n        text-align: right;\n    }\n</style>\n<table border=\"1\" class=\"dataframe\">\n  <thead>\n    <tr style=\"text-align: right;\">\n      <th></th>\n      <th>RespondentID</th>\n      <th>seen_any_movie</th>\n      <th>fan</th>\n      <th>seen_EI</th>\n      <th>seen_EII</th>\n      <th>seen_EIII</th>\n      <th>seen_EIV</th>\n      <th>seen_EV</th>\n      <th>seen_EVI</th>\n      <th>rank_EI</th>\n      <th>...</th>\n      <th>fav_Y</th>\n      <th>Which character shot first?</th>\n      <th>Are you familiar with the Expanded Universe?</th>\n      <th>Do you consider yourself to be a fan of the Expanded Universe?æ</th>\n      <th>Do you consider yourself to be a fan of the Star Trek franchise?</th>\n      <th>Gender</th>\n      <th>Age</th>\n      <th>Household Income</th>\n      <th>Education</th>\n      <th>Location (Census Region)</th>\n    </tr>\n  </thead>\n  <tbody>\n    <tr>\n      <th>434</th>\n      <td>3.290598e+09</td>\n      <td>Yes</td>\n      <td>No</td>\n      <td>Star Wars: Episode I  The Phantom Menace</td>\n      <td>Star Wars: Episode II  Attack of the Clones</td>\n      <td>NaN</td>\n      <td>NaN</td>\n      <td>Star Wars: Episode V The Empire Strikes Back</td>\n      <td>Star Wars: Episode VI Return of the Jedi</td>\n      <td>1</td>\n      <td>...</td>\n      <td>Very favorably</td>\n      <td>I don't understand this question</td>\n      <td>No</td>\n      <td>NaN</td>\n      <td>No</td>\n      <td>Female</td>\n      <td>45-60</td>\n      <td>$100,000 - $149,999</td>\n      <td>Some college or Associate degree</td>\n      <td>East South Central</td>\n    </tr>\n    <tr>\n      <th>205</th>\n      <td>3.290992e+09</td>\n      <td>Yes</td>\n      <td>Yes</td>\n      <td>Star Wars: Episode I  The Phantom Menace</td>\n      <td>Star Wars: Episode II  Attack of the Clones</td>\n      <td>NaN</td>\n      <td>Star Wars: Episode IV  A New Hope</td>\n      <td>Star Wars: Episode V The Empire Strikes Back</td>\n      <td>Star Wars: Episode VI Return of the Jedi</td>\n      <td>4</td>\n      <td>...</td>\n      <td>Very favorably</td>\n      <td>Han</td>\n      <td>No</td>\n      <td>NaN</td>\n      <td>Yes</td>\n      <td>Female</td>\n      <td>18-29</td>\n      <td>$25,000 - $49,999</td>\n      <td>Bachelor degree</td>\n      <td>East North Central</td>\n    </tr>\n    <tr>\n      <th>377</th>\n      <td>3.290696e+09</td>\n      <td>Yes</td>\n      <td>Yes</td>\n      <td>Star Wars: Episode I  The Phantom Menace</td>\n      <td>Star Wars: Episode II  Attack of the Clones</td>\n      <td>Star Wars: Episode III  Revenge of the Sith</td>\n      <td>Star Wars: Episode IV  A New Hope</td>\n      <td>Star Wars: Episode V The Empire Strikes Back</td>\n      <td>Star Wars: Episode VI Return of the Jedi</td>\n      <td>6</td>\n      <td>...</td>\n      <td>Very favorably</td>\n      <td>Greedo</td>\n      <td>No</td>\n      <td>NaN</td>\n      <td>Yes</td>\n      <td>Female</td>\n      <td>45-60</td>\n      <td>$100,000 - $149,999</td>\n      <td>Graduate degree</td>\n      <td>Pacific</td>\n    </tr>\n    <tr>\n      <th>1021</th>\n      <td>3.288648e+09</td>\n      <td>Yes</td>\n      <td>No</td>\n      <td>Star Wars: Episode I  The Phantom Menace</td>\n      <td>Star Wars: Episode II  Attack of the Clones</td>\n      <td>Star Wars: Episode III  Revenge of the Sith</td>\n      <td>Star Wars: Episode IV  A New Hope</td>\n      <td>Star Wars: Episode V The Empire Strikes Back</td>\n      <td>Star Wars: Episode VI Return of the Jedi</td>\n      <td>4</td>\n      <td>...</td>\n      <td>Very favorably</td>\n      <td>Han</td>\n      <td>No</td>\n      <td>NaN</td>\n      <td>Yes</td>\n      <td>Male</td>\n      <td>45-60</td>\n      <td>$150,000+</td>\n      <td>Graduate degree</td>\n      <td>South Atlantic</td>\n    </tr>\n    <tr>\n      <th>348</th>\n      <td>3.290734e+09</td>\n      <td>Yes</td>\n      <td>No</td>\n      <td>Star Wars: Episode I  The Phantom Menace</td>\n      <td>NaN</td>\n      <td>NaN</td>\n      <td>NaN</td>\n      <td>NaN</td>\n      <td>NaN</td>\n      <td>1</td>\n      <td>...</td>\n      <td>Somewhat favorably</td>\n      <td>I don't understand this question</td>\n      <td>No</td>\n      <td>NaN</td>\n      <td>No</td>\n      <td>Male</td>\n      <td>45-60</td>\n      <td>$25,000 - $49,999</td>\n      <td>Bachelor degree</td>\n      <td>Pacific</td>\n    </tr>\n  </tbody>\n</table>\n<p>5 rows × 38 columns</p>\n</div>"
     },
     "metadata": {},
     "execution_count": 6
    }
   ],
   "source": [
    "# take a peak to look at the data\n",
    "sw.sample(5)"
   ]
  },
  {
   "cell_type": "markdown",
   "metadata": {},
   "source": [
    "# America’s Favorite ‘Star Wars’ Movies (And Least Favorite Characters)"
   ]
  },
  {
   "cell_type": "markdown",
   "metadata": {},
   "source": [
    "_Original article available at [FiveThirtyEight](https://fivethirtyeight.com/features/americas-favorite-star-wars-movies-and-least-favorite-characters/)_\n",
    "\n",
    "By [Walt Hickey](https://fivethirtyeight.com/contributors/walt-hickey/)\n",
    "\n",
    "Filed under [Movies](https://fivethirtyeight.com/tag/movies/)\n",
    "\n",
    "Get the data on [GitHub](https://github.com/fivethirtyeight/data/tree/master/star-wars-survey)"
   ]
  },
  {
   "cell_type": "markdown",
   "metadata": {},
   "source": [
    "This week, I caught a sneak peek [of the X-Wing fighter](http://www.wired.com/2014/07/star-wars-episode-vii-x-wing/) from the new “Star Wars” films in production. The forthcoming movies — and the middling response to the most recent trilogy — provide a perfect excuse to examine some questions I’ve long wanted answers to: How many people are “Star Wars” fans? Does the rest of America realize that “The Empire Strikes Back” is clearly the best of the bunch? Which characters are most well-liked and most hated? And who shot first, Han Solo or Greedo?\n",
    "\n",
    "We ran a poll through [SurveyMonkey Audience](https://www.surveymonkey.com/mp/audience/), surveying 1,186 respondents from June 3 to 6 (the [data](https://github.com/fivethirtyeight/data/tree/master/star-wars-survey) is available [on GitHub](https://github.com/fivethirtyeight/data)). Seventy-nine percent of those respondents said they had watched at least one of the “Star Wars” films. This question, incidentally, had a substantial difference by gender: 85 percent of men have seen at least one “Star Wars” film compared to 72 percent of women. Of people who have seen a film, men were also more likely to consider themselves a fan of the franchise: 72 percent of men compared to 60 percent of women.\n",
    "\n",
    "We then asked respondents which of the films they had seen. With 835 people responding, here’s the probability that someone has seen a given “Star Wars” film given that they have seen any Star Wars film:"
   ]
  },
  {
   "cell_type": "markdown",
   "metadata": {},
   "source": [
    "![\"Sol1\"](assets/have_seen_resized.png)"
   ]
  },
  {
   "cell_type": "code",
   "execution_count": 7,
   "metadata": {},
   "outputs": [
    {
     "output_type": "stream",
     "name": "stdout",
     "text": [
      "sort order:  ['The Phantom Meanance', 'Attack of the clones', 'Revenge of the Sith', 'A New Hope', 'The Empire Strikes Back', 'The Return of the Jedi']\n"
     ]
    }
   ],
   "source": [
    "# Sample visualization\n",
    "\n",
    "# We're going to fix the labels a bit so will create a mapping to the full names\n",
    "episodes = ['EI', 'EII', 'EIII', 'EIV', 'EV', 'EVI']\n",
    "names = {\n",
    "    'EI' : 'The Phantom Meanance', 'EII' : 'Attack of the clones', 'EIII' : 'Revenge of the Sith', \n",
    "    'EIV': 'A New Hope', 'EV': 'The Empire Strikes Back', 'EVI' : 'The Return of the Jedi'\n",
    "}\n",
    "\n",
    "# we're also going to use this order to sort, so names_l will now have our sort order\n",
    "names_l = [names[ep] for ep in episodes]\n",
    "\n",
    "print(\"sort order: \",names_l)"
   ]
  },
  {
   "cell_type": "code",
   "execution_count": 8,
   "metadata": {},
   "outputs": [
    {
     "output_type": "stream",
     "name": "stdout",
     "text": [
      "total who have seen at least one:  835\n"
     ]
    }
   ],
   "source": [
    "# let's do some data pre-processing... sw (star wars) has everything\n",
    "\n",
    "# We want to only use those people who have seen at least one movie, let's get the people, toss NAs\n",
    "# and get the total count\n",
    "\n",
    "# find people who have at least on of the columns (seen_*) not NaN\n",
    "seen_at_least_one = sw.dropna(subset=['seen_' + ep for ep in episodes],how='all')\n",
    "total = len(seen_at_least_one)\n",
    "\n",
    "print(\"total who have seen at least one: \", total)"
   ]
  },
  {
   "cell_type": "code",
   "execution_count": 9,
   "metadata": {},
   "outputs": [
    {
     "output_type": "execute_result",
     "data": {
      "text/plain": [
       "                      Name  Percentage\n",
       "0     The Phantom Meanance    0.805988\n",
       "1     Attack of the clones    0.683832\n",
       "2      Revenge of the Sith    0.658683\n",
       "3               A New Hope    0.726946\n",
       "4  The Empire Strikes Back    0.907784\n",
       "5   The Return of the Jedi    0.883832"
      ],
      "text/html": "<div>\n<style scoped>\n    .dataframe tbody tr th:only-of-type {\n        vertical-align: middle;\n    }\n\n    .dataframe tbody tr th {\n        vertical-align: top;\n    }\n\n    .dataframe thead th {\n        text-align: right;\n    }\n</style>\n<table border=\"1\" class=\"dataframe\">\n  <thead>\n    <tr style=\"text-align: right;\">\n      <th></th>\n      <th>Name</th>\n      <th>Percentage</th>\n    </tr>\n  </thead>\n  <tbody>\n    <tr>\n      <th>0</th>\n      <td>The Phantom Meanance</td>\n      <td>0.805988</td>\n    </tr>\n    <tr>\n      <th>1</th>\n      <td>Attack of the clones</td>\n      <td>0.683832</td>\n    </tr>\n    <tr>\n      <th>2</th>\n      <td>Revenge of the Sith</td>\n      <td>0.658683</td>\n    </tr>\n    <tr>\n      <th>3</th>\n      <td>A New Hope</td>\n      <td>0.726946</td>\n    </tr>\n    <tr>\n      <th>4</th>\n      <td>The Empire Strikes Back</td>\n      <td>0.907784</td>\n    </tr>\n    <tr>\n      <th>5</th>\n      <td>The Return of the Jedi</td>\n      <td>0.883832</td>\n    </tr>\n  </tbody>\n</table>\n</div>"
     },
     "metadata": {},
     "execution_count": 9
    }
   ],
   "source": [
    "# for each movie, we're going to calculate the percents and generate a new data frame\n",
    "percs = []\n",
    "\n",
    "# loop over each column and calculate the number of people who have seen the movie\n",
    "# specifically, filter out the people who are *NaN* for a specific episode (e.g., ep_EII), count them\n",
    "# and divide by the percent\n",
    "for seen_ep in ['seen_' + ep for ep in episodes]:\n",
    "    perc = len(seen_at_least_one[~ pd.isna(seen_at_least_one[seen_ep])]) / total\n",
    "    percs.append(perc)\n",
    "    \n",
    "# at this point percs is holding our percentages\n",
    "\n",
    "# now we're going use a trick to make tuples--pairing names with percents--using \"zip\" and then make a dataframe\n",
    "tuples = list(zip([names[ep] for ep in episodes],percs))\n",
    "seen_per_df = pd.DataFrame(tuples, columns = ['Name', 'Percentage'])\n",
    "seen_per_df"
   ]
  },
  {
   "cell_type": "code",
   "execution_count": 10,
   "metadata": {},
   "outputs": [
    {
     "output_type": "execute_result",
     "data": {
      "text/html": "\n<div id=\"altair-viz-eee24863d6504a95925ad34eb5d91328\"></div>\n<script type=\"text/javascript\">\n  (function(spec, embedOpt){\n    let outputDiv = document.currentScript.previousElementSibling;\n    if (outputDiv.id !== \"altair-viz-eee24863d6504a95925ad34eb5d91328\") {\n      outputDiv = document.getElementById(\"altair-viz-eee24863d6504a95925ad34eb5d91328\");\n    }\n    const paths = {\n      \"vega\": \"https://cdn.jsdelivr.net/npm//vega@5?noext\",\n      \"vega-lib\": \"https://cdn.jsdelivr.net/npm//vega-lib?noext\",\n      \"vega-lite\": \"https://cdn.jsdelivr.net/npm//vega-lite@4.8.1?noext\",\n      \"vega-embed\": \"https://cdn.jsdelivr.net/npm//vega-embed@6?noext\",\n    };\n\n    function loadScript(lib) {\n      return new Promise(function(resolve, reject) {\n        var s = document.createElement('script');\n        s.src = paths[lib];\n        s.async = true;\n        s.onload = () => resolve(paths[lib]);\n        s.onerror = () => reject(`Error loading script: ${paths[lib]}`);\n        document.getElementsByTagName(\"head\")[0].appendChild(s);\n      });\n    }\n\n    function showError(err) {\n      outputDiv.innerHTML = `<div class=\"error\" style=\"color:red;\">${err}</div>`;\n      throw err;\n    }\n\n    function displayChart(vegaEmbed) {\n      vegaEmbed(outputDiv, spec, embedOpt)\n        .catch(err => showError(`Javascript Error: ${err.message}<br>This usually means there's a typo in your chart specification. See the javascript console for the full traceback.`));\n    }\n\n    if(typeof define === \"function\" && define.amd) {\n      requirejs.config({paths});\n      require([\"vega-embed\"], displayChart, err => showError(`Error loading script: ${err.message}`));\n    } else if (typeof vegaEmbed === \"function\") {\n      displayChart(vegaEmbed);\n    } else {\n      loadScript(\"vega\")\n        .then(() => loadScript(\"vega-lite\"))\n        .then(() => loadScript(\"vega-embed\"))\n        .catch(showError)\n        .then(() => displayChart(vegaEmbed));\n    }\n  })({\"config\": {\"view\": {\"continuousWidth\": 400, \"continuousHeight\": 300}}, \"data\": {\"url\": \"altair-data-8dfc48d9c22df4b9733ceb10c26ef357.json\", \"format\": {\"type\": \"json\"}}, \"mark\": {\"type\": \"bar\", \"size\": 20}, \"encoding\": {\"x\": {\"type\": \"quantitative\", \"axis\": null, \"field\": \"Percentage\"}, \"y\": {\"type\": \"nominal\", \"axis\": {\"tickCount\": 5, \"title\": \"\"}, \"field\": \"Name\", \"sort\": [\"The Phantom Meanance\", \"Attack of the clones\", \"Revenge of the Sith\", \"A New Hope\", \"The Empire Strikes Back\", \"The Return of the Jedi\"]}}, \"$schema\": \"https://vega.github.io/schema/vega-lite/v4.8.1.json\"}, {\"mode\": \"vega-lite\"});\n</script>",
      "text/plain": [
       "alt.Chart(...)"
      ]
     },
     "metadata": {},
     "execution_count": 10
    }
   ],
   "source": [
    "# ok, time to make the chart... let's make a bar chart (use mark_bar)\n",
    "bars = alt.Chart(seen_per_df).mark_bar(size=20).encode(\n",
    "    # encode x as the percent, and hide the axis\n",
    "    x=alt.X(\n",
    "        'Percentage',\n",
    "        axis=None),\n",
    "    y=alt.Y(\n",
    "        # encode y using the name, use the movie name to label the axis, sort using the names_l\n",
    "        'Name:N',\n",
    "         axis=alt.Axis(tickCount=5, title=''),\n",
    "         # we give the sorting order to avoid alphabetical order\n",
    "         sort=names_l\n",
    "    )\n",
    ")\n",
    "\n",
    "# at this point we don't really have a great plot (it's missing the annotations, titles, etc.)\n",
    "bars\n"
   ]
  },
  {
   "cell_type": "code",
   "execution_count": 11,
   "metadata": {},
   "outputs": [
    {
     "output_type": "execute_result",
     "data": {
      "text/html": "\n<div id=\"altair-viz-25473c8aab0940e2a375515ba6efd8b5\"></div>\n<script type=\"text/javascript\">\n  (function(spec, embedOpt){\n    let outputDiv = document.currentScript.previousElementSibling;\n    if (outputDiv.id !== \"altair-viz-25473c8aab0940e2a375515ba6efd8b5\") {\n      outputDiv = document.getElementById(\"altair-viz-25473c8aab0940e2a375515ba6efd8b5\");\n    }\n    const paths = {\n      \"vega\": \"https://cdn.jsdelivr.net/npm//vega@5?noext\",\n      \"vega-lib\": \"https://cdn.jsdelivr.net/npm//vega-lib?noext\",\n      \"vega-lite\": \"https://cdn.jsdelivr.net/npm//vega-lite@4.8.1?noext\",\n      \"vega-embed\": \"https://cdn.jsdelivr.net/npm//vega-embed@6?noext\",\n    };\n\n    function loadScript(lib) {\n      return new Promise(function(resolve, reject) {\n        var s = document.createElement('script');\n        s.src = paths[lib];\n        s.async = true;\n        s.onload = () => resolve(paths[lib]);\n        s.onerror = () => reject(`Error loading script: ${paths[lib]}`);\n        document.getElementsByTagName(\"head\")[0].appendChild(s);\n      });\n    }\n\n    function showError(err) {\n      outputDiv.innerHTML = `<div class=\"error\" style=\"color:red;\">${err}</div>`;\n      throw err;\n    }\n\n    function displayChart(vegaEmbed) {\n      vegaEmbed(outputDiv, spec, embedOpt)\n        .catch(err => showError(`Javascript Error: ${err.message}<br>This usually means there's a typo in your chart specification. See the javascript console for the full traceback.`));\n    }\n\n    if(typeof define === \"function\" && define.amd) {\n      requirejs.config({paths});\n      require([\"vega-embed\"], displayChart, err => showError(`Error loading script: ${err.message}`));\n    } else if (typeof vegaEmbed === \"function\") {\n      displayChart(vegaEmbed);\n    } else {\n      loadScript(\"vega\")\n        .then(() => loadScript(\"vega-lite\"))\n        .then(() => loadScript(\"vega-embed\"))\n        .catch(showError)\n        .then(() => displayChart(vegaEmbed));\n    }\n  })({\"config\": {\"view\": {\"continuousWidth\": 400, \"continuousHeight\": 300, \"strokeWidth\": 0}, \"mark\": {\"color\": \"#008fd5\"}, \"scale\": {\"bandPaddingInner\": 0.2}}, \"layer\": [{\"mark\": {\"type\": \"text\", \"align\": \"left\", \"baseline\": \"middle\", \"dx\": 3}, \"encoding\": {\"text\": {\"type\": \"quantitative\", \"field\": \"Percentage\", \"format\": \".0%\"}, \"x\": {\"type\": \"quantitative\", \"axis\": null, \"field\": \"Percentage\"}, \"y\": {\"type\": \"nominal\", \"axis\": {\"tickCount\": 5, \"title\": \"\"}, \"field\": \"Name\", \"sort\": [\"The Phantom Meanance\", \"Attack of the clones\", \"Revenge of the Sith\", \"A New Hope\", \"The Empire Strikes Back\", \"The Return of the Jedi\"]}}}, {\"mark\": {\"type\": \"bar\", \"size\": 20}, \"encoding\": {\"x\": {\"type\": \"quantitative\", \"axis\": null, \"field\": \"Percentage\"}, \"y\": {\"type\": \"nominal\", \"axis\": {\"tickCount\": 5, \"title\": \"\"}, \"field\": \"Name\", \"sort\": [\"The Phantom Meanance\", \"Attack of the clones\", \"Revenge of the Sith\", \"A New Hope\", \"The Empire Strikes Back\", \"The Return of the Jedi\"]}}}], \"data\": {\"url\": \"altair-data-8dfc48d9c22df4b9733ceb10c26ef357.json\", \"format\": {\"type\": \"json\"}}, \"height\": 180, \"title\": \"Which 'Star Wars' Movies Have you Seen?\", \"width\": 500, \"$schema\": \"https://vega.github.io/schema/vega-lite/v4.8.1.json\"}, {\"mode\": \"vega-lite\"});\n</script>",
      "text/plain": [
       "alt.LayerChart(...)"
      ]
     },
     "metadata": {},
     "execution_count": 11
    }
   ],
   "source": [
    "# we're going to overlay the text with the percentages, so let's make another visualization\n",
    "# that's just text labels\n",
    "\n",
    "text = bars.mark_text(\n",
    "    align='left',\n",
    "    baseline='middle',\n",
    "    dx=3  # Nudges text to right so it doesn't appear on top of the bar\n",
    ").encode(\n",
    "    # we'll use the percentage as the text\n",
    "    text=alt.Text('Percentage:Q',format='.0%')\n",
    ")\n",
    "\n",
    "# finally, we're going to combine the bars and the text and do some styling\n",
    "seen_movies = (text + bars).configure_mark(\n",
    "    # we don't love the blue\n",
    "    color='#008fd5'\n",
    ").configure_view(\n",
    "    # we don't want a stroke around the bars\n",
    "    strokeWidth=0\n",
    ").configure_scale(\n",
    "    # add some padding\n",
    "    bandPaddingInner=0.2\n",
    ").properties(\n",
    "    # set the dimensions of the visualization\n",
    "    width=500,\n",
    "    height=180\n",
    ").properties(\n",
    "    # add a title\n",
    "    title=\"Which 'Star Wars' Movies Have you Seen?\"\n",
    ")\n",
    "\n",
    "seen_movies\n",
    "\n",
    "# note that we are NOT formatting this in the Five Thirty Eight Style yet... we'll leave that to you to figure out"
   ]
  },
  {
   "cell_type": "markdown",
   "metadata": {},
   "source": [
    "So we can see that “Star Wars: Episode V — The Empire Strikes Back” is the film seen by the most number of people, followed by “Star Wars: Episode VI — Return of the Jedi.” Appallingly, more people reported seeing “Star Wars: Episode I — The Phantom Menace” than the original “Star Wars” (renamed “Star Wars: Episode IV — A New Hope”).\n",
    "\n",
    "So, which movie is the best? We asked the subset of 471 respondents who indicated they have seen every “Star Wars” film to rank them from best to worst. From that question, we calculated the share of respondents who rated each film as their favorite."
   ]
  },
  {
   "cell_type": "markdown",
   "metadata": {},
   "source": [
    "![\"Sol1\"](assets/best_movie_article_resized.png)\n",
    "\n",
    "\n",
    "** Homework note: Click [here](assets/best_movie.png) to see a version of this plot generated in Altair."
   ]
  },
  {
   "cell_type": "markdown",
   "metadata": {},
   "source": [
    "### 2.1 What's the best 'Star Wars' movie? Recreate the above image using altair (10 POINTS)"
   ]
  },
  {
   "cell_type": "code",
   "execution_count": 12,
   "metadata": {},
   "outputs": [
    {
     "output_type": "stream",
     "name": "stdout",
     "text": [
      "total who have seen all movies:  471\n"
     ]
    }
   ],
   "source": [
    "# let's do some data pre-processing... sw (star wars) has everything\n",
    "\n",
    "# We want to only use those people who have seen at least one movie, let's get the people, toss NAs\n",
    "# and get the total count\n",
    "\n",
    "# find people who have at least on of the columns (seen_*) not NaN\n",
    "seen_all_movies = sw.dropna(subset=['seen_' + ep for ep in episodes],how='any')\n",
    "total = len(seen_all_movies)\n",
    "\n",
    "print(\"total who have seen all movies: \", total)"
   ]
  },
  {
   "cell_type": "code",
   "execution_count": 13,
   "metadata": {},
   "outputs": [
    {
     "output_type": "execute_result",
     "data": {
      "text/plain": [
       "                      Name  Percentage\n",
       "0     The Phantom Meanance    0.099788\n",
       "1     Attack of the clones    0.038217\n",
       "2      Revenge of the Sith    0.057325\n",
       "3               A New Hope    0.271762\n",
       "4  The Empire Strikes Back    0.358811\n",
       "5   The Return of the Jedi    0.174098"
      ],
      "text/html": "<div>\n<style scoped>\n    .dataframe tbody tr th:only-of-type {\n        vertical-align: middle;\n    }\n\n    .dataframe tbody tr th {\n        vertical-align: top;\n    }\n\n    .dataframe thead th {\n        text-align: right;\n    }\n</style>\n<table border=\"1\" class=\"dataframe\">\n  <thead>\n    <tr style=\"text-align: right;\">\n      <th></th>\n      <th>Name</th>\n      <th>Percentage</th>\n    </tr>\n  </thead>\n  <tbody>\n    <tr>\n      <th>0</th>\n      <td>The Phantom Meanance</td>\n      <td>0.099788</td>\n    </tr>\n    <tr>\n      <th>1</th>\n      <td>Attack of the clones</td>\n      <td>0.038217</td>\n    </tr>\n    <tr>\n      <th>2</th>\n      <td>Revenge of the Sith</td>\n      <td>0.057325</td>\n    </tr>\n    <tr>\n      <th>3</th>\n      <td>A New Hope</td>\n      <td>0.271762</td>\n    </tr>\n    <tr>\n      <th>4</th>\n      <td>The Empire Strikes Back</td>\n      <td>0.358811</td>\n    </tr>\n    <tr>\n      <th>5</th>\n      <td>The Return of the Jedi</td>\n      <td>0.174098</td>\n    </tr>\n  </tbody>\n</table>\n</div>"
     },
     "metadata": {},
     "execution_count": 13
    }
   ],
   "source": [
    "# for each movie, we're going to calculate the percents and generate a new data frame\n",
    "percs = []\n",
    "\n",
    "# loop over each column and calculate the number of people who have seen the movie\n",
    "# specifically, filter out the people who are *NaN* for a specific episode (e.g., ep_EII), count them\n",
    "# and divide by the percent\n",
    "for rank_ep in [f'rank_' + ep for ep in episodes]:\n",
    "    perc = seen_all_movies[seen_all_movies[rank_ep] == '1'].shape[0] / total\n",
    "    percs.append(perc)\n",
    "    \n",
    "# at this point percs is holding our percentages\n",
    "\n",
    "# now we're going use a trick to make tuples--pairing names with percents--using \"zip\" and then make a dataframe\n",
    "tuples = list(zip([names[ep] for ep in episodes],percs))\n",
    "rank_per_df = pd.DataFrame(tuples, columns = ['Name', 'Percentage'])\n",
    "rank_per_df"
   ]
  },
  {
   "cell_type": "code",
   "execution_count": 14,
   "metadata": {},
   "outputs": [
    {
     "output_type": "execute_result",
     "data": {
      "text/html": "\n<div id=\"altair-viz-13da7d935475422e83f3d2244863169b\"></div>\n<script type=\"text/javascript\">\n  (function(spec, embedOpt){\n    let outputDiv = document.currentScript.previousElementSibling;\n    if (outputDiv.id !== \"altair-viz-13da7d935475422e83f3d2244863169b\") {\n      outputDiv = document.getElementById(\"altair-viz-13da7d935475422e83f3d2244863169b\");\n    }\n    const paths = {\n      \"vega\": \"https://cdn.jsdelivr.net/npm//vega@5?noext\",\n      \"vega-lib\": \"https://cdn.jsdelivr.net/npm//vega-lib?noext\",\n      \"vega-lite\": \"https://cdn.jsdelivr.net/npm//vega-lite@4.8.1?noext\",\n      \"vega-embed\": \"https://cdn.jsdelivr.net/npm//vega-embed@6?noext\",\n    };\n\n    function loadScript(lib) {\n      return new Promise(function(resolve, reject) {\n        var s = document.createElement('script');\n        s.src = paths[lib];\n        s.async = true;\n        s.onload = () => resolve(paths[lib]);\n        s.onerror = () => reject(`Error loading script: ${paths[lib]}`);\n        document.getElementsByTagName(\"head\")[0].appendChild(s);\n      });\n    }\n\n    function showError(err) {\n      outputDiv.innerHTML = `<div class=\"error\" style=\"color:red;\">${err}</div>`;\n      throw err;\n    }\n\n    function displayChart(vegaEmbed) {\n      vegaEmbed(outputDiv, spec, embedOpt)\n        .catch(err => showError(`Javascript Error: ${err.message}<br>This usually means there's a typo in your chart specification. See the javascript console for the full traceback.`));\n    }\n\n    if(typeof define === \"function\" && define.amd) {\n      requirejs.config({paths});\n      require([\"vega-embed\"], displayChart, err => showError(`Error loading script: ${err.message}`));\n    } else if (typeof vegaEmbed === \"function\") {\n      displayChart(vegaEmbed);\n    } else {\n      loadScript(\"vega\")\n        .then(() => loadScript(\"vega-lite\"))\n        .then(() => loadScript(\"vega-embed\"))\n        .catch(showError)\n        .then(() => displayChart(vegaEmbed));\n    }\n  })({\"config\": {\"view\": {\"continuousWidth\": 400, \"continuousHeight\": 300}}, \"data\": {\"url\": \"altair-data-7f676a56b3f0705ad4d6d08eab13eedd.json\", \"format\": {\"type\": \"json\"}}, \"mark\": {\"type\": \"bar\", \"size\": 20}, \"encoding\": {\"x\": {\"type\": \"quantitative\", \"axis\": null, \"field\": \"Percentage\"}, \"y\": {\"type\": \"nominal\", \"axis\": {\"tickCount\": 5, \"title\": \"\"}, \"field\": \"Name\", \"sort\": [\"The Phantom Meanance\", \"Attack of the clones\", \"Revenge of the Sith\", \"A New Hope\", \"The Empire Strikes Back\", \"The Return of the Jedi\"]}}, \"$schema\": \"https://vega.github.io/schema/vega-lite/v4.8.1.json\"}, {\"mode\": \"vega-lite\"});\n</script>",
      "text/plain": [
       "alt.Chart(...)"
      ]
     },
     "metadata": {},
     "execution_count": 14
    }
   ],
   "source": [
    "# ok, time to make the chart... let's make a bar chart (use mark_bar)\n",
    "bars = alt.Chart(rank_per_df).mark_bar(size=20).encode(\n",
    "    # encode x as the percent, and hide the axis\n",
    "    x=alt.X(\n",
    "        'Percentage',\n",
    "        axis=None),\n",
    "    y=alt.Y(\n",
    "        # encode y using the name, use the movie name to label the axis, sort using the names_l\n",
    "        'Name:N',\n",
    "         axis=alt.Axis(tickCount=5, title=''),\n",
    "         # we give the sorting order to avoid alphabetical order\n",
    "         sort=names_l\n",
    "    )\n",
    ")\n",
    "\n",
    "# at this point we don't really have a great plot (it's missing the annotations, titles, etc.)\n",
    "bars\n"
   ]
  },
  {
   "cell_type": "code",
   "execution_count": 15,
   "metadata": {},
   "outputs": [
    {
     "output_type": "execute_result",
     "data": {
      "text/html": "\n<div id=\"altair-viz-4026910d43584380adc099505e12f2bc\"></div>\n<script type=\"text/javascript\">\n  (function(spec, embedOpt){\n    let outputDiv = document.currentScript.previousElementSibling;\n    if (outputDiv.id !== \"altair-viz-4026910d43584380adc099505e12f2bc\") {\n      outputDiv = document.getElementById(\"altair-viz-4026910d43584380adc099505e12f2bc\");\n    }\n    const paths = {\n      \"vega\": \"https://cdn.jsdelivr.net/npm//vega@5?noext\",\n      \"vega-lib\": \"https://cdn.jsdelivr.net/npm//vega-lib?noext\",\n      \"vega-lite\": \"https://cdn.jsdelivr.net/npm//vega-lite@4.8.1?noext\",\n      \"vega-embed\": \"https://cdn.jsdelivr.net/npm//vega-embed@6?noext\",\n    };\n\n    function loadScript(lib) {\n      return new Promise(function(resolve, reject) {\n        var s = document.createElement('script');\n        s.src = paths[lib];\n        s.async = true;\n        s.onload = () => resolve(paths[lib]);\n        s.onerror = () => reject(`Error loading script: ${paths[lib]}`);\n        document.getElementsByTagName(\"head\")[0].appendChild(s);\n      });\n    }\n\n    function showError(err) {\n      outputDiv.innerHTML = `<div class=\"error\" style=\"color:red;\">${err}</div>`;\n      throw err;\n    }\n\n    function displayChart(vegaEmbed) {\n      vegaEmbed(outputDiv, spec, embedOpt)\n        .catch(err => showError(`Javascript Error: ${err.message}<br>This usually means there's a typo in your chart specification. See the javascript console for the full traceback.`));\n    }\n\n    if(typeof define === \"function\" && define.amd) {\n      requirejs.config({paths});\n      require([\"vega-embed\"], displayChart, err => showError(`Error loading script: ${err.message}`));\n    } else if (typeof vegaEmbed === \"function\") {\n      displayChart(vegaEmbed);\n    } else {\n      loadScript(\"vega\")\n        .then(() => loadScript(\"vega-lite\"))\n        .then(() => loadScript(\"vega-embed\"))\n        .catch(showError)\n        .then(() => displayChart(vegaEmbed));\n    }\n  })({\"config\": {\"view\": {\"continuousWidth\": 400, \"continuousHeight\": 300, \"strokeOpacity\": 0}, \"axis\": {\"domain\": false, \"grid\": false}, \"background\": \"whitesmoke\", \"mark\": {\"color\": \"#008FD5\"}, \"title\": {\"anchor\": \"start\", \"fontSize\": 20, \"fontWeight\": 700, \"subtitleFontWeight\": 300}}, \"layer\": [{\"mark\": {\"type\": \"text\", \"align\": \"left\", \"baseline\": \"middle\", \"dx\": 3}, \"encoding\": {\"text\": {\"type\": \"quantitative\", \"field\": \"Percentage\", \"format\": \".0%\"}, \"x\": {\"type\": \"quantitative\", \"axis\": null, \"field\": \"Percentage\"}, \"y\": {\"type\": \"nominal\", \"axis\": {\"tickCount\": 5, \"title\": \"\"}, \"field\": \"Name\", \"sort\": [\"The Phantom Meanance\", \"Attack of the clones\", \"Revenge of the Sith\", \"A New Hope\", \"The Empire Strikes Back\", \"The Return of the Jedi\"]}}}, {\"mark\": {\"type\": \"bar\", \"size\": 20}, \"encoding\": {\"x\": {\"type\": \"quantitative\", \"axis\": null, \"field\": \"Percentage\"}, \"y\": {\"type\": \"nominal\", \"axis\": {\"tickCount\": 5, \"title\": \"\"}, \"field\": \"Name\", \"sort\": [\"The Phantom Meanance\", \"Attack of the clones\", \"Revenge of the Sith\", \"A New Hope\", \"The Empire Strikes Back\", \"The Return of the Jedi\"]}}}], \"data\": {\"url\": \"altair-data-7f676a56b3f0705ad4d6d08eab13eedd.json\", \"format\": {\"type\": \"json\"}}, \"height\": 180, \"title\": {\"text\": [\"What's the best 'Star War' Movie?\"], \"subtitle\": [\"Of 471 respondents who have seen all six films\"]}, \"width\": 500, \"$schema\": \"https://vega.github.io/schema/vega-lite/v4.8.1.json\"}, {\"mode\": \"vega-lite\"});\n</script>",
      "text/plain": [
       "alt.LayerChart(...)"
      ]
     },
     "metadata": {},
     "execution_count": 15
    }
   ],
   "source": [
    "# we're going to overlay the text with the percentages, so let's make another visualization\n",
    "# that's just text labels\n",
    "\n",
    "text = bars.mark_text(\n",
    "    align='left',\n",
    "    baseline='middle',\n",
    "    dx=3  # Nudges text to right so it doesn't appear on top of the bar\n",
    ").encode(\n",
    "    # we'll use the percentage as the text\n",
    "    text=alt.Text('Percentage:Q',format='.0%')\n",
    ")\n",
    "\n",
    "# finally, we're going to combine the bars and the text and do some styling\n",
    "best_movies = (text + bars).configure_view(\n",
    "    # we don't want a stroke around the bars\n",
    "    # remove border\n",
    "    strokeWidth=0\n",
    ").configure_scale(\n",
    "    # add some padding\n",
    "    bandPaddingInner=0.2\n",
    ").properties(\n",
    "    # set the dimensions of the visualization\n",
    "    width=500,\n",
    "    height=180\n",
    ").properties(\n",
    "    # add a title\n",
    "    title={\n",
    "    \"text\":[\"What's the best 'Star War' Movie?\"],\n",
    "    \"subtitle\":[\"Of 471 respondents who have seen all six films\"]},\n",
    ").configure(\n",
    "    # customize background color\n",
    "    background=\"whitesmoke\"\n",
    ").configure_title(\n",
    "    # customize title and sub-title\n",
    "    fontSize=20, anchor='start', fontWeight=700, subtitleFontWeight=300\n",
    ").configure_view(\n",
    "    # remove border\n",
    "    strokeOpacity=0\n",
    ").configure_axis(\n",
    "    # remove axis line\n",
    "    grid=False, domain=False\n",
    ").configure_mark(\n",
    "    color='#008FD5'\n",
    ")\n",
    "\n",
    "\n",
    "best_movies\n",
    "\n",
    "# note that we are NOT formatting this in the Five Thirty Eight Style yet... we'll leave that to you to figure out"
   ]
  },
  {
   "cell_type": "markdown",
   "metadata": {},
   "source": [
    "## Make sure to *style* your visualization to match the original the best you can"
   ]
  },
  {
   "cell_type": "markdown",
   "metadata": {},
   "source": [
    "We can also drill down and find out, generally, how people rate the films. Overall, fans broke into two camps: those who preferred the original three movies and those who preferred the three prequels. People who said “The Empire Strikes Back” was their favorite were also likely to rate “A New Hope” and “Return of the Jedi” higher as well. Those who rated “The Phantom Menace” as the best film were more likely to rate prequels higher.\n",
    "\n",
    "This chart shows how often each film was rated in the top third (best or second-best), the middle third (third or fourth) or the bottom third (second-worst or worst). It’s a more nuanced take on the series:"
   ]
  },
  {
   "cell_type": "markdown",
   "metadata": {},
   "source": [
    "![\"Sol1\"](assets/how_rate_resized.png)\n",
    "\n",
    "** Homework note: Click [here](assets/people_rate.png) to see a version of this plot generated in Altair."
   ]
  },
  {
   "cell_type": "markdown",
   "metadata": {},
   "source": [
    "### 2.2 How people rate the 'Star Wars' movie? Recreate the above image using altair (10 POINTS)"
   ]
  },
  {
   "cell_type": "code",
   "execution_count": 16,
   "metadata": {},
   "outputs": [
    {
     "output_type": "stream",
     "name": "stdout",
     "text": [
      "total who have seen all movies:  471\n"
     ]
    }
   ],
   "source": [
    "# let's do some data pre-processing... sw (star wars) has everything\n",
    "\n",
    "# We want to only use those people who have seen at least one movie, let's get the people, toss NAs\n",
    "# and get the total count\n",
    "\n",
    "# find people who have at least on of the columns (seen_*) not NaN\n",
    "seen_all_movies = sw.dropna(subset=['seen_' + ep for ep in episodes],how='any')\n",
    "total = len(seen_all_movies)\n",
    "\n",
    "print(\"total who have seen all movies: \", total)"
   ]
  },
  {
   "cell_type": "code",
   "execution_count": 17,
   "metadata": {},
   "outputs": [
    {
     "output_type": "execute_result",
     "data": {
      "text/plain": [
       "                      Name  Percentage\n",
       "0     The Phantom Meanance    0.163482\n",
       "1     Attack of the clones    0.138004\n",
       "2      Revenge of the Sith    0.129512\n",
       "3               A New Hope    0.498938\n",
       "4  The Empire Strikes Back    0.641189\n",
       "5   The Return of the Jedi    0.428875"
      ],
      "text/html": "<div>\n<style scoped>\n    .dataframe tbody tr th:only-of-type {\n        vertical-align: middle;\n    }\n\n    .dataframe tbody tr th {\n        vertical-align: top;\n    }\n\n    .dataframe thead th {\n        text-align: right;\n    }\n</style>\n<table border=\"1\" class=\"dataframe\">\n  <thead>\n    <tr style=\"text-align: right;\">\n      <th></th>\n      <th>Name</th>\n      <th>Percentage</th>\n    </tr>\n  </thead>\n  <tbody>\n    <tr>\n      <th>0</th>\n      <td>The Phantom Meanance</td>\n      <td>0.163482</td>\n    </tr>\n    <tr>\n      <th>1</th>\n      <td>Attack of the clones</td>\n      <td>0.138004</td>\n    </tr>\n    <tr>\n      <th>2</th>\n      <td>Revenge of the Sith</td>\n      <td>0.129512</td>\n    </tr>\n    <tr>\n      <th>3</th>\n      <td>A New Hope</td>\n      <td>0.498938</td>\n    </tr>\n    <tr>\n      <th>4</th>\n      <td>The Empire Strikes Back</td>\n      <td>0.641189</td>\n    </tr>\n    <tr>\n      <th>5</th>\n      <td>The Return of the Jedi</td>\n      <td>0.428875</td>\n    </tr>\n  </tbody>\n</table>\n</div>"
     },
     "metadata": {},
     "execution_count": 17
    }
   ],
   "source": [
    "# for each movie, we're going to calculate the percents and generate a new data frame\n",
    "percs = []\n",
    "\n",
    "# loop over each column and calculate the number of people who have seen the movie\n",
    "# specifically, filter out the people who are *NaN* for a specific episode (e.g., ep_EII), count them\n",
    "# and divide by the percent\n",
    "for rank_ep in [f'rank_' + ep for ep in episodes]:\n",
    "    perc = (seen_all_movies[seen_all_movies[rank_ep] == '1'].shape[0] + seen_all_movies[seen_all_movies[rank_ep] == '2'].shape[0]) / total\n",
    "    percs.append(perc)\n",
    "    \n",
    "# at this point percs is holding our percentages\n",
    "\n",
    "# now we're going use a trick to make tuples--pairing names with percents--using \"zip\" and then make a dataframe\n",
    "tuples = list(zip([names[ep] for ep in episodes],percs))\n",
    "top3_df = pd.DataFrame(tuples, columns = ['Name', 'Percentage'])\n",
    "top3_df"
   ]
  },
  {
   "cell_type": "code",
   "execution_count": 18,
   "metadata": {},
   "outputs": [
    {
     "output_type": "execute_result",
     "data": {
      "text/html": "\n<div id=\"altair-viz-0ed616e2594549c28e4a1b0ef2daf7ed\"></div>\n<script type=\"text/javascript\">\n  (function(spec, embedOpt){\n    let outputDiv = document.currentScript.previousElementSibling;\n    if (outputDiv.id !== \"altair-viz-0ed616e2594549c28e4a1b0ef2daf7ed\") {\n      outputDiv = document.getElementById(\"altair-viz-0ed616e2594549c28e4a1b0ef2daf7ed\");\n    }\n    const paths = {\n      \"vega\": \"https://cdn.jsdelivr.net/npm//vega@5?noext\",\n      \"vega-lib\": \"https://cdn.jsdelivr.net/npm//vega-lib?noext\",\n      \"vega-lite\": \"https://cdn.jsdelivr.net/npm//vega-lite@4.8.1?noext\",\n      \"vega-embed\": \"https://cdn.jsdelivr.net/npm//vega-embed@6?noext\",\n    };\n\n    function loadScript(lib) {\n      return new Promise(function(resolve, reject) {\n        var s = document.createElement('script');\n        s.src = paths[lib];\n        s.async = true;\n        s.onload = () => resolve(paths[lib]);\n        s.onerror = () => reject(`Error loading script: ${paths[lib]}`);\n        document.getElementsByTagName(\"head\")[0].appendChild(s);\n      });\n    }\n\n    function showError(err) {\n      outputDiv.innerHTML = `<div class=\"error\" style=\"color:red;\">${err}</div>`;\n      throw err;\n    }\n\n    function displayChart(vegaEmbed) {\n      vegaEmbed(outputDiv, spec, embedOpt)\n        .catch(err => showError(`Javascript Error: ${err.message}<br>This usually means there's a typo in your chart specification. See the javascript console for the full traceback.`));\n    }\n\n    if(typeof define === \"function\" && define.amd) {\n      requirejs.config({paths});\n      require([\"vega-embed\"], displayChart, err => showError(`Error loading script: ${err.message}`));\n    } else if (typeof vegaEmbed === \"function\") {\n      displayChart(vegaEmbed);\n    } else {\n      loadScript(\"vega\")\n        .then(() => loadScript(\"vega-lite\"))\n        .then(() => loadScript(\"vega-embed\"))\n        .catch(showError)\n        .then(() => displayChart(vegaEmbed));\n    }\n  })({\"config\": {\"view\": {\"continuousWidth\": 400, \"continuousHeight\": 300}}, \"data\": {\"url\": \"altair-data-c79be4375c98880ee9219fa7615704fb.json\", \"format\": {\"type\": \"json\"}}, \"mark\": {\"type\": \"bar\", \"color\": \"#77AB43\", \"size\": 20}, \"encoding\": {\"x\": {\"type\": \"quantitative\", \"axis\": null, \"field\": \"Percentage\"}, \"y\": {\"type\": \"nominal\", \"axis\": {\"tickCount\": 5, \"title\": \"\"}, \"field\": \"Name\", \"sort\": [\"The Phantom Meanance\", \"Attack of the clones\", \"Revenge of the Sith\", \"A New Hope\", \"The Empire Strikes Back\", \"The Return of the Jedi\"]}}, \"$schema\": \"https://vega.github.io/schema/vega-lite/v4.8.1.json\"}, {\"mode\": \"vega-lite\"});\n</script>",
      "text/plain": [
       "alt.Chart(...)"
      ]
     },
     "metadata": {},
     "execution_count": 18
    }
   ],
   "source": [
    "# ok, time to make the chart... let's make a bar chart (use mark_bar)\n",
    "top3_bars = alt.Chart(top3_df).mark_bar(size=20, color='#77AB43').encode(\n",
    "    # encode x as the percent, and hide the axis\n",
    "    x=alt.X(\n",
    "        'Percentage',\n",
    "        axis=None),\n",
    "    y=alt.Y(\n",
    "        # encode y using the name, use the movie name to label the axis, sort using the names_l\n",
    "        'Name:N',\n",
    "         axis=alt.Axis(tickCount=5, title=''),\n",
    "         # we give the sorting order to avoid alphabetical order\n",
    "         sort=names_l\n",
    "    )\n",
    ")\n",
    "\n",
    "# at this point we don't really have a great plot (it's missing the annotations, titles, etc.)\n",
    "top3_bars\n"
   ]
  },
  {
   "cell_type": "code",
   "execution_count": 19,
   "metadata": {},
   "outputs": [
    {
     "output_type": "execute_result",
     "data": {
      "text/html": "\n<div id=\"altair-viz-61f038eda2734d2088cfbfa5b997641c\"></div>\n<script type=\"text/javascript\">\n  (function(spec, embedOpt){\n    let outputDiv = document.currentScript.previousElementSibling;\n    if (outputDiv.id !== \"altair-viz-61f038eda2734d2088cfbfa5b997641c\") {\n      outputDiv = document.getElementById(\"altair-viz-61f038eda2734d2088cfbfa5b997641c\");\n    }\n    const paths = {\n      \"vega\": \"https://cdn.jsdelivr.net/npm//vega@5?noext\",\n      \"vega-lib\": \"https://cdn.jsdelivr.net/npm//vega-lib?noext\",\n      \"vega-lite\": \"https://cdn.jsdelivr.net/npm//vega-lite@4.8.1?noext\",\n      \"vega-embed\": \"https://cdn.jsdelivr.net/npm//vega-embed@6?noext\",\n    };\n\n    function loadScript(lib) {\n      return new Promise(function(resolve, reject) {\n        var s = document.createElement('script');\n        s.src = paths[lib];\n        s.async = true;\n        s.onload = () => resolve(paths[lib]);\n        s.onerror = () => reject(`Error loading script: ${paths[lib]}`);\n        document.getElementsByTagName(\"head\")[0].appendChild(s);\n      });\n    }\n\n    function showError(err) {\n      outputDiv.innerHTML = `<div class=\"error\" style=\"color:red;\">${err}</div>`;\n      throw err;\n    }\n\n    function displayChart(vegaEmbed) {\n      vegaEmbed(outputDiv, spec, embedOpt)\n        .catch(err => showError(`Javascript Error: ${err.message}<br>This usually means there's a typo in your chart specification. See the javascript console for the full traceback.`));\n    }\n\n    if(typeof define === \"function\" && define.amd) {\n      requirejs.config({paths});\n      require([\"vega-embed\"], displayChart, err => showError(`Error loading script: ${err.message}`));\n    } else if (typeof vegaEmbed === \"function\") {\n      displayChart(vegaEmbed);\n    } else {\n      loadScript(\"vega\")\n        .then(() => loadScript(\"vega-lite\"))\n        .then(() => loadScript(\"vega-embed\"))\n        .catch(showError)\n        .then(() => displayChart(vegaEmbed));\n    }\n  })({\"config\": {\"view\": {\"continuousWidth\": 400, \"continuousHeight\": 300}}, \"layer\": [{\"mark\": {\"type\": \"text\", \"align\": \"left\", \"baseline\": \"middle\", \"dx\": 3}, \"encoding\": {\"text\": {\"type\": \"quantitative\", \"field\": \"Percentage\", \"format\": \".0%\"}, \"x\": {\"type\": \"quantitative\", \"axis\": null, \"field\": \"Percentage\"}, \"y\": {\"type\": \"nominal\", \"axis\": {\"tickCount\": 5, \"title\": \"\"}, \"field\": \"Name\", \"sort\": [\"The Phantom Meanance\", \"Attack of the clones\", \"Revenge of the Sith\", \"A New Hope\", \"The Empire Strikes Back\", \"The Return of the Jedi\"]}}}, {\"mark\": {\"type\": \"bar\", \"color\": \"#77AB43\", \"size\": 20}, \"encoding\": {\"x\": {\"type\": \"quantitative\", \"axis\": null, \"field\": \"Percentage\"}, \"y\": {\"type\": \"nominal\", \"axis\": {\"tickCount\": 5, \"title\": \"\"}, \"field\": \"Name\", \"sort\": [\"The Phantom Meanance\", \"Attack of the clones\", \"Revenge of the Sith\", \"A New Hope\", \"The Empire Strikes Back\", \"The Return of the Jedi\"]}}}], \"data\": {\"url\": \"altair-data-c79be4375c98880ee9219fa7615704fb.json\", \"format\": {\"type\": \"json\"}}, \"height\": 150, \"title\": {\"text\": [\"Top third\"]}, \"width\": 50, \"$schema\": \"https://vega.github.io/schema/vega-lite/v4.8.1.json\"}, {\"mode\": \"vega-lite\"});\n</script>",
      "text/plain": [
       "alt.LayerChart(...)"
      ]
     },
     "metadata": {},
     "execution_count": 19
    }
   ],
   "source": [
    "# we're going to overlay the text with the percentages, so let's make another visualization\n",
    "# that's just text labels\n",
    "\n",
    "text = top3_bars.mark_text(\n",
    "    align='left',\n",
    "    baseline='middle',\n",
    "    dx=3  # Nudges text to right so it doesn't appear on top of the bar\n",
    ").encode(\n",
    "    # we'll use the percentage as the text\n",
    "    text=alt.Text('Percentage:Q',format='.0%')\n",
    ")\n",
    "\n",
    "# finally, we're going to combine the bars and the text and do some styling\n",
    "top3_movies = (text + top3_bars).properties(\n",
    "    # set the dimensions of the visualization\n",
    "    width=50,\n",
    "    height=150\n",
    ").properties(\n",
    "    # add a title\n",
    "    title={\n",
    "    \"text\":[\"Top third\"]},\n",
    ")\n",
    "\n",
    "\n",
    "top3_movies\n",
    "\n",
    "# note that we are NOT formatting this in the Five Thirty Eight Style yet... we'll leave that to you to figure out"
   ]
  },
  {
   "cell_type": "code",
   "execution_count": 20,
   "metadata": {},
   "outputs": [
    {
     "output_type": "execute_result",
     "data": {
      "text/plain": [
       "                      Name  Percentage\n",
       "0     The Phantom Meanance    0.373673\n",
       "1     Attack of the clones    0.288747\n",
       "2      Revenge of the Sith    0.401274\n",
       "3               A New Hope    0.309979\n",
       "4  The Empire Strikes Back    0.220807\n",
       "5   The Return of the Jedi    0.405520"
      ],
      "text/html": "<div>\n<style scoped>\n    .dataframe tbody tr th:only-of-type {\n        vertical-align: middle;\n    }\n\n    .dataframe tbody tr th {\n        vertical-align: top;\n    }\n\n    .dataframe thead th {\n        text-align: right;\n    }\n</style>\n<table border=\"1\" class=\"dataframe\">\n  <thead>\n    <tr style=\"text-align: right;\">\n      <th></th>\n      <th>Name</th>\n      <th>Percentage</th>\n    </tr>\n  </thead>\n  <tbody>\n    <tr>\n      <th>0</th>\n      <td>The Phantom Meanance</td>\n      <td>0.373673</td>\n    </tr>\n    <tr>\n      <th>1</th>\n      <td>Attack of the clones</td>\n      <td>0.288747</td>\n    </tr>\n    <tr>\n      <th>2</th>\n      <td>Revenge of the Sith</td>\n      <td>0.401274</td>\n    </tr>\n    <tr>\n      <th>3</th>\n      <td>A New Hope</td>\n      <td>0.309979</td>\n    </tr>\n    <tr>\n      <th>4</th>\n      <td>The Empire Strikes Back</td>\n      <td>0.220807</td>\n    </tr>\n    <tr>\n      <th>5</th>\n      <td>The Return of the Jedi</td>\n      <td>0.405520</td>\n    </tr>\n  </tbody>\n</table>\n</div>"
     },
     "metadata": {},
     "execution_count": 20
    }
   ],
   "source": [
    "# for each movie, we're going to calculate the percents and generate a new data frame\n",
    "percs = []\n",
    "\n",
    "# loop over each column and calculate the number of people who have seen the movie\n",
    "# specifically, filter out the people who are *NaN* for a specific episode (e.g., ep_EII), count them\n",
    "# and divide by the percent\n",
    "for rank_ep in [f'rank_' + ep for ep in episodes]:\n",
    "    perc = (seen_all_movies[seen_all_movies[rank_ep] == '3'].shape[0] + seen_all_movies[seen_all_movies[rank_ep] == '4'].shape[0]) / total\n",
    "    percs.append(perc)\n",
    "    \n",
    "# at this point percs is holding our percentages\n",
    "\n",
    "# now we're going use a trick to make tuples--pairing names with percents--using \"zip\" and then make a dataframe\n",
    "tuples = list(zip([names[ep] for ep in episodes],percs))\n",
    "mid3_df = pd.DataFrame(tuples, columns = ['Name', 'Percentage'])\n",
    "mid3_df"
   ]
  },
  {
   "cell_type": "code",
   "execution_count": 21,
   "metadata": {},
   "outputs": [
    {
     "output_type": "execute_result",
     "data": {
      "text/html": "\n<div id=\"altair-viz-35eb6eac1972456389d3134137cbac39\"></div>\n<script type=\"text/javascript\">\n  (function(spec, embedOpt){\n    let outputDiv = document.currentScript.previousElementSibling;\n    if (outputDiv.id !== \"altair-viz-35eb6eac1972456389d3134137cbac39\") {\n      outputDiv = document.getElementById(\"altair-viz-35eb6eac1972456389d3134137cbac39\");\n    }\n    const paths = {\n      \"vega\": \"https://cdn.jsdelivr.net/npm//vega@5?noext\",\n      \"vega-lib\": \"https://cdn.jsdelivr.net/npm//vega-lib?noext\",\n      \"vega-lite\": \"https://cdn.jsdelivr.net/npm//vega-lite@4.8.1?noext\",\n      \"vega-embed\": \"https://cdn.jsdelivr.net/npm//vega-embed@6?noext\",\n    };\n\n    function loadScript(lib) {\n      return new Promise(function(resolve, reject) {\n        var s = document.createElement('script');\n        s.src = paths[lib];\n        s.async = true;\n        s.onload = () => resolve(paths[lib]);\n        s.onerror = () => reject(`Error loading script: ${paths[lib]}`);\n        document.getElementsByTagName(\"head\")[0].appendChild(s);\n      });\n    }\n\n    function showError(err) {\n      outputDiv.innerHTML = `<div class=\"error\" style=\"color:red;\">${err}</div>`;\n      throw err;\n    }\n\n    function displayChart(vegaEmbed) {\n      vegaEmbed(outputDiv, spec, embedOpt)\n        .catch(err => showError(`Javascript Error: ${err.message}<br>This usually means there's a typo in your chart specification. See the javascript console for the full traceback.`));\n    }\n\n    if(typeof define === \"function\" && define.amd) {\n      requirejs.config({paths});\n      require([\"vega-embed\"], displayChart, err => showError(`Error loading script: ${err.message}`));\n    } else if (typeof vegaEmbed === \"function\") {\n      displayChart(vegaEmbed);\n    } else {\n      loadScript(\"vega\")\n        .then(() => loadScript(\"vega-lite\"))\n        .then(() => loadScript(\"vega-embed\"))\n        .catch(showError)\n        .then(() => displayChart(vegaEmbed));\n    }\n  })({\"config\": {\"view\": {\"continuousWidth\": 400, \"continuousHeight\": 300}}, \"data\": {\"url\": \"altair-data-245228199fa45ebfb09d75cc47e84bdf.json\", \"format\": {\"type\": \"json\"}}, \"mark\": {\"type\": \"bar\", \"color\": \"#008FD5\", \"size\": 20}, \"encoding\": {\"x\": {\"type\": \"quantitative\", \"axis\": null, \"field\": \"Percentage\"}, \"y\": {\"type\": \"nominal\", \"axis\": null, \"field\": \"Name\", \"sort\": [\"The Phantom Meanance\", \"Attack of the clones\", \"Revenge of the Sith\", \"A New Hope\", \"The Empire Strikes Back\", \"The Return of the Jedi\"]}}, \"$schema\": \"https://vega.github.io/schema/vega-lite/v4.8.1.json\"}, {\"mode\": \"vega-lite\"});\n</script>",
      "text/plain": [
       "alt.Chart(...)"
      ]
     },
     "metadata": {},
     "execution_count": 21
    }
   ],
   "source": [
    "# ok, time to make the chart... let's make a bar chart (use mark_bar)\n",
    "mid3_bars = alt.Chart(mid3_df).mark_bar(size=20, color='#008FD5').encode(\n",
    "    # encode x as the percent, and hide the axis\n",
    "    x=alt.X(\n",
    "        'Percentage',\n",
    "        axis=None),\n",
    "    y=alt.Y(\n",
    "        # encode y using the name, use the movie name to label the axis, sort using the names_l\n",
    "        'Name:N',\n",
    "         axis=None,\n",
    "         # we give the sorting order to avoid alphabetical order\n",
    "         sort=names_l\n",
    "    )\n",
    ")\n",
    "\n",
    "# at this point we don't really have a great plot (it's missing the annotations, titles, etc.)\n",
    "mid3_bars\n"
   ]
  },
  {
   "cell_type": "code",
   "execution_count": 22,
   "metadata": {},
   "outputs": [
    {
     "output_type": "execute_result",
     "data": {
      "text/html": "\n<div id=\"altair-viz-a1442e118a9f4ad9b2271f937de0eac2\"></div>\n<script type=\"text/javascript\">\n  (function(spec, embedOpt){\n    let outputDiv = document.currentScript.previousElementSibling;\n    if (outputDiv.id !== \"altair-viz-a1442e118a9f4ad9b2271f937de0eac2\") {\n      outputDiv = document.getElementById(\"altair-viz-a1442e118a9f4ad9b2271f937de0eac2\");\n    }\n    const paths = {\n      \"vega\": \"https://cdn.jsdelivr.net/npm//vega@5?noext\",\n      \"vega-lib\": \"https://cdn.jsdelivr.net/npm//vega-lib?noext\",\n      \"vega-lite\": \"https://cdn.jsdelivr.net/npm//vega-lite@4.8.1?noext\",\n      \"vega-embed\": \"https://cdn.jsdelivr.net/npm//vega-embed@6?noext\",\n    };\n\n    function loadScript(lib) {\n      return new Promise(function(resolve, reject) {\n        var s = document.createElement('script');\n        s.src = paths[lib];\n        s.async = true;\n        s.onload = () => resolve(paths[lib]);\n        s.onerror = () => reject(`Error loading script: ${paths[lib]}`);\n        document.getElementsByTagName(\"head\")[0].appendChild(s);\n      });\n    }\n\n    function showError(err) {\n      outputDiv.innerHTML = `<div class=\"error\" style=\"color:red;\">${err}</div>`;\n      throw err;\n    }\n\n    function displayChart(vegaEmbed) {\n      vegaEmbed(outputDiv, spec, embedOpt)\n        .catch(err => showError(`Javascript Error: ${err.message}<br>This usually means there's a typo in your chart specification. See the javascript console for the full traceback.`));\n    }\n\n    if(typeof define === \"function\" && define.amd) {\n      requirejs.config({paths});\n      require([\"vega-embed\"], displayChart, err => showError(`Error loading script: ${err.message}`));\n    } else if (typeof vegaEmbed === \"function\") {\n      displayChart(vegaEmbed);\n    } else {\n      loadScript(\"vega\")\n        .then(() => loadScript(\"vega-lite\"))\n        .then(() => loadScript(\"vega-embed\"))\n        .catch(showError)\n        .then(() => displayChart(vegaEmbed));\n    }\n  })({\"config\": {\"view\": {\"continuousWidth\": 400, \"continuousHeight\": 300}}, \"layer\": [{\"mark\": {\"type\": \"text\", \"align\": \"left\", \"baseline\": \"middle\", \"dx\": 3}, \"encoding\": {\"text\": {\"type\": \"quantitative\", \"field\": \"Percentage\", \"format\": \".0%\"}, \"x\": {\"type\": \"quantitative\", \"axis\": null, \"field\": \"Percentage\"}, \"y\": {\"type\": \"nominal\", \"axis\": null, \"field\": \"Name\", \"sort\": [\"The Phantom Meanance\", \"Attack of the clones\", \"Revenge of the Sith\", \"A New Hope\", \"The Empire Strikes Back\", \"The Return of the Jedi\"]}}}, {\"mark\": {\"type\": \"bar\", \"color\": \"#008FD5\", \"size\": 20}, \"encoding\": {\"x\": {\"type\": \"quantitative\", \"axis\": null, \"field\": \"Percentage\"}, \"y\": {\"type\": \"nominal\", \"axis\": null, \"field\": \"Name\", \"sort\": [\"The Phantom Meanance\", \"Attack of the clones\", \"Revenge of the Sith\", \"A New Hope\", \"The Empire Strikes Back\", \"The Return of the Jedi\"]}}}], \"data\": {\"url\": \"altair-data-245228199fa45ebfb09d75cc47e84bdf.json\", \"format\": {\"type\": \"json\"}}, \"height\": 150, \"title\": {\"text\": [\"Middle third\"]}, \"width\": 50, \"$schema\": \"https://vega.github.io/schema/vega-lite/v4.8.1.json\"}, {\"mode\": \"vega-lite\"});\n</script>",
      "text/plain": [
       "alt.LayerChart(...)"
      ]
     },
     "metadata": {},
     "execution_count": 22
    }
   ],
   "source": [
    "# we're going to overlay the text with the percentages, so let's make another visualization\n",
    "# that's just text labels\n",
    "\n",
    "text = mid3_bars.mark_text(\n",
    "    align='left',\n",
    "    baseline='middle',\n",
    "    dx=3  # Nudges text to right so it doesn't appear on top of the bar\n",
    ").encode(\n",
    "    # we'll use the percentage as the text\n",
    "    text=alt.Text('Percentage:Q',format='.0%')\n",
    ")\n",
    "\n",
    "# finally, we're going to combine the bars and the text and do some styling\n",
    "mid3_movies = (text + mid3_bars).properties(\n",
    "    # set the dimensions of the visualization\n",
    "    width=50,\n",
    "    height=150\n",
    ").properties(\n",
    "    # add a title\n",
    "    title={\n",
    "    \"text\":[\"Middle third\"]},\n",
    ")\n",
    "\n",
    "\n",
    "mid3_movies\n",
    "\n",
    "# note that we are NOT formatting this in the Five Thirty Eight Style yet... we'll leave that to you to figure out"
   ]
  },
  {
   "cell_type": "code",
   "execution_count": 23,
   "metadata": {},
   "outputs": [
    {
     "output_type": "execute_result",
     "data": {
      "text/plain": [
       "                      Name  Percentage\n",
       "0     The Phantom Meanance    0.462845\n",
       "1     Attack of the clones    0.573248\n",
       "2      Revenge of the Sith    0.467091\n",
       "3               A New Hope    0.191083\n",
       "4  The Empire Strikes Back    0.138004\n",
       "5   The Return of the Jedi    0.165605"
      ],
      "text/html": "<div>\n<style scoped>\n    .dataframe tbody tr th:only-of-type {\n        vertical-align: middle;\n    }\n\n    .dataframe tbody tr th {\n        vertical-align: top;\n    }\n\n    .dataframe thead th {\n        text-align: right;\n    }\n</style>\n<table border=\"1\" class=\"dataframe\">\n  <thead>\n    <tr style=\"text-align: right;\">\n      <th></th>\n      <th>Name</th>\n      <th>Percentage</th>\n    </tr>\n  </thead>\n  <tbody>\n    <tr>\n      <th>0</th>\n      <td>The Phantom Meanance</td>\n      <td>0.462845</td>\n    </tr>\n    <tr>\n      <th>1</th>\n      <td>Attack of the clones</td>\n      <td>0.573248</td>\n    </tr>\n    <tr>\n      <th>2</th>\n      <td>Revenge of the Sith</td>\n      <td>0.467091</td>\n    </tr>\n    <tr>\n      <th>3</th>\n      <td>A New Hope</td>\n      <td>0.191083</td>\n    </tr>\n    <tr>\n      <th>4</th>\n      <td>The Empire Strikes Back</td>\n      <td>0.138004</td>\n    </tr>\n    <tr>\n      <th>5</th>\n      <td>The Return of the Jedi</td>\n      <td>0.165605</td>\n    </tr>\n  </tbody>\n</table>\n</div>"
     },
     "metadata": {},
     "execution_count": 23
    }
   ],
   "source": [
    "# for each movie, we're going to calculate the percents and generate a new data frame\n",
    "percs = []\n",
    "\n",
    "# loop over each column and calculate the number of people who have seen the movie\n",
    "# specifically, filter out the people who are *NaN* for a specific episode (e.g., ep_EII), count them\n",
    "# and divide by the percent\n",
    "for rank_ep in [f'rank_' + ep for ep in episodes]:\n",
    "    perc = (seen_all_movies[seen_all_movies[rank_ep] == '5'].shape[0] + seen_all_movies[seen_all_movies[rank_ep] == '6'].shape[0]) / total\n",
    "    percs.append(perc)\n",
    "    \n",
    "# at this point percs is holding our percentages\n",
    "\n",
    "# now we're going use a trick to make tuples--pairing names with percents--using \"zip\" and then make a dataframe\n",
    "tuples = list(zip([names[ep] for ep in episodes],percs))\n",
    "bot3_df = pd.DataFrame(tuples, columns = ['Name', 'Percentage'])\n",
    "bot3_df"
   ]
  },
  {
   "cell_type": "code",
   "execution_count": 24,
   "metadata": {},
   "outputs": [
    {
     "output_type": "execute_result",
     "data": {
      "text/html": "\n<div id=\"altair-viz-bb8035c8537d420981d45390aeb3b489\"></div>\n<script type=\"text/javascript\">\n  (function(spec, embedOpt){\n    let outputDiv = document.currentScript.previousElementSibling;\n    if (outputDiv.id !== \"altair-viz-bb8035c8537d420981d45390aeb3b489\") {\n      outputDiv = document.getElementById(\"altair-viz-bb8035c8537d420981d45390aeb3b489\");\n    }\n    const paths = {\n      \"vega\": \"https://cdn.jsdelivr.net/npm//vega@5?noext\",\n      \"vega-lib\": \"https://cdn.jsdelivr.net/npm//vega-lib?noext\",\n      \"vega-lite\": \"https://cdn.jsdelivr.net/npm//vega-lite@4.8.1?noext\",\n      \"vega-embed\": \"https://cdn.jsdelivr.net/npm//vega-embed@6?noext\",\n    };\n\n    function loadScript(lib) {\n      return new Promise(function(resolve, reject) {\n        var s = document.createElement('script');\n        s.src = paths[lib];\n        s.async = true;\n        s.onload = () => resolve(paths[lib]);\n        s.onerror = () => reject(`Error loading script: ${paths[lib]}`);\n        document.getElementsByTagName(\"head\")[0].appendChild(s);\n      });\n    }\n\n    function showError(err) {\n      outputDiv.innerHTML = `<div class=\"error\" style=\"color:red;\">${err}</div>`;\n      throw err;\n    }\n\n    function displayChart(vegaEmbed) {\n      vegaEmbed(outputDiv, spec, embedOpt)\n        .catch(err => showError(`Javascript Error: ${err.message}<br>This usually means there's a typo in your chart specification. See the javascript console for the full traceback.`));\n    }\n\n    if(typeof define === \"function\" && define.amd) {\n      requirejs.config({paths});\n      require([\"vega-embed\"], displayChart, err => showError(`Error loading script: ${err.message}`));\n    } else if (typeof vegaEmbed === \"function\") {\n      displayChart(vegaEmbed);\n    } else {\n      loadScript(\"vega\")\n        .then(() => loadScript(\"vega-lite\"))\n        .then(() => loadScript(\"vega-embed\"))\n        .catch(showError)\n        .then(() => displayChart(vegaEmbed));\n    }\n  })({\"config\": {\"view\": {\"continuousWidth\": 400, \"continuousHeight\": 300}}, \"data\": {\"url\": \"altair-data-9d4094737fd90d57f3f596d7b7e0a9d7.json\", \"format\": {\"type\": \"json\"}}, \"mark\": {\"type\": \"bar\", \"color\": \"red\", \"size\": 20}, \"encoding\": {\"x\": {\"type\": \"quantitative\", \"axis\": null, \"field\": \"Percentage\"}, \"y\": {\"type\": \"nominal\", \"axis\": null, \"field\": \"Name\", \"sort\": [\"The Phantom Meanance\", \"Attack of the clones\", \"Revenge of the Sith\", \"A New Hope\", \"The Empire Strikes Back\", \"The Return of the Jedi\"]}}, \"$schema\": \"https://vega.github.io/schema/vega-lite/v4.8.1.json\"}, {\"mode\": \"vega-lite\"});\n</script>",
      "text/plain": [
       "alt.Chart(...)"
      ]
     },
     "metadata": {},
     "execution_count": 24
    }
   ],
   "source": [
    "# ok, time to make the chart... let's make a bar chart (use mark_bar)\n",
    "bot3_bars = alt.Chart(bot3_df).mark_bar(size=20, color='red').encode(\n",
    "    # encode x as the percent, and hide the axis\n",
    "    x=alt.X(\n",
    "        'Percentage',\n",
    "        axis=None),\n",
    "    y=alt.Y(\n",
    "        # encode y using the name, use the movie name to label the axis, sort using the names_l\n",
    "        'Name:N',\n",
    "         axis=None,\n",
    "         # we give the sorting order to avoid alphabetical order\n",
    "         sort=names_l\n",
    "    )\n",
    ")\n",
    "\n",
    "# at this point we don't really have a great plot (it's missing the annotations, titles, etc.)\n",
    "bot3_bars\n"
   ]
  },
  {
   "cell_type": "code",
   "execution_count": 25,
   "metadata": {},
   "outputs": [
    {
     "output_type": "execute_result",
     "data": {
      "text/html": "\n<div id=\"altair-viz-37e20b1c6b0f40a3afb2b17c8e56096f\"></div>\n<script type=\"text/javascript\">\n  (function(spec, embedOpt){\n    let outputDiv = document.currentScript.previousElementSibling;\n    if (outputDiv.id !== \"altair-viz-37e20b1c6b0f40a3afb2b17c8e56096f\") {\n      outputDiv = document.getElementById(\"altair-viz-37e20b1c6b0f40a3afb2b17c8e56096f\");\n    }\n    const paths = {\n      \"vega\": \"https://cdn.jsdelivr.net/npm//vega@5?noext\",\n      \"vega-lib\": \"https://cdn.jsdelivr.net/npm//vega-lib?noext\",\n      \"vega-lite\": \"https://cdn.jsdelivr.net/npm//vega-lite@4.8.1?noext\",\n      \"vega-embed\": \"https://cdn.jsdelivr.net/npm//vega-embed@6?noext\",\n    };\n\n    function loadScript(lib) {\n      return new Promise(function(resolve, reject) {\n        var s = document.createElement('script');\n        s.src = paths[lib];\n        s.async = true;\n        s.onload = () => resolve(paths[lib]);\n        s.onerror = () => reject(`Error loading script: ${paths[lib]}`);\n        document.getElementsByTagName(\"head\")[0].appendChild(s);\n      });\n    }\n\n    function showError(err) {\n      outputDiv.innerHTML = `<div class=\"error\" style=\"color:red;\">${err}</div>`;\n      throw err;\n    }\n\n    function displayChart(vegaEmbed) {\n      vegaEmbed(outputDiv, spec, embedOpt)\n        .catch(err => showError(`Javascript Error: ${err.message}<br>This usually means there's a typo in your chart specification. See the javascript console for the full traceback.`));\n    }\n\n    if(typeof define === \"function\" && define.amd) {\n      requirejs.config({paths});\n      require([\"vega-embed\"], displayChart, err => showError(`Error loading script: ${err.message}`));\n    } else if (typeof vegaEmbed === \"function\") {\n      displayChart(vegaEmbed);\n    } else {\n      loadScript(\"vega\")\n        .then(() => loadScript(\"vega-lite\"))\n        .then(() => loadScript(\"vega-embed\"))\n        .catch(showError)\n        .then(() => displayChart(vegaEmbed));\n    }\n  })({\"config\": {\"view\": {\"continuousWidth\": 400, \"continuousHeight\": 300}}, \"layer\": [{\"mark\": {\"type\": \"text\", \"align\": \"left\", \"baseline\": \"middle\", \"dx\": 3}, \"encoding\": {\"text\": {\"type\": \"quantitative\", \"field\": \"Percentage\", \"format\": \".0%\"}, \"x\": {\"type\": \"quantitative\", \"axis\": null, \"field\": \"Percentage\"}, \"y\": {\"type\": \"nominal\", \"axis\": null, \"field\": \"Name\", \"sort\": [\"The Phantom Meanance\", \"Attack of the clones\", \"Revenge of the Sith\", \"A New Hope\", \"The Empire Strikes Back\", \"The Return of the Jedi\"]}}}, {\"mark\": {\"type\": \"bar\", \"color\": \"red\", \"size\": 20}, \"encoding\": {\"x\": {\"type\": \"quantitative\", \"axis\": null, \"field\": \"Percentage\"}, \"y\": {\"type\": \"nominal\", \"axis\": null, \"field\": \"Name\", \"sort\": [\"The Phantom Meanance\", \"Attack of the clones\", \"Revenge of the Sith\", \"A New Hope\", \"The Empire Strikes Back\", \"The Return of the Jedi\"]}}}], \"data\": {\"url\": \"altair-data-9d4094737fd90d57f3f596d7b7e0a9d7.json\", \"format\": {\"type\": \"json\"}}, \"height\": 150, \"title\": {\"text\": [\"Bottom third\"]}, \"width\": 50, \"$schema\": \"https://vega.github.io/schema/vega-lite/v4.8.1.json\"}, {\"mode\": \"vega-lite\"});\n</script>",
      "text/plain": [
       "alt.LayerChart(...)"
      ]
     },
     "metadata": {},
     "execution_count": 25
    }
   ],
   "source": [
    "# we're going to overlay the text with the percentages, so let's make another visualization\n",
    "# that's just text labels\n",
    "\n",
    "text = bot3_bars.mark_text(\n",
    "    align='left',\n",
    "    baseline='middle',\n",
    "    dx=3  # Nudges text to right so it doesn't appear on top of the bar\n",
    ").encode(\n",
    "    # we'll use the percentage as the text\n",
    "    text=alt.Text('Percentage:Q',format='.0%')\n",
    ")\n",
    "\n",
    "# finally, we're going to combine the bars and the text and do some styling\n",
    "bot3_movies = (text + bot3_bars).properties(\n",
    "    # set the dimensions of the visualization\n",
    "    width=50,\n",
    "    height=150\n",
    ").properties(\n",
    "    # add a title\n",
    "    title={\n",
    "    \"text\":[\"Bottom third\"]},\n",
    ")\n",
    "\n",
    "bot3_movies\n",
    "\n",
    "# note that we are NOT formatting this in the Five Thirty Eight Style yet... we'll leave that to you to figure out"
   ]
  },
  {
   "cell_type": "code",
   "execution_count": 26,
   "metadata": {},
   "outputs": [
    {
     "output_type": "execute_result",
     "data": {
      "text/html": "\n<div id=\"altair-viz-f893f345fcf84d61b59726bd29438ff4\"></div>\n<script type=\"text/javascript\">\n  (function(spec, embedOpt){\n    let outputDiv = document.currentScript.previousElementSibling;\n    if (outputDiv.id !== \"altair-viz-f893f345fcf84d61b59726bd29438ff4\") {\n      outputDiv = document.getElementById(\"altair-viz-f893f345fcf84d61b59726bd29438ff4\");\n    }\n    const paths = {\n      \"vega\": \"https://cdn.jsdelivr.net/npm//vega@5?noext\",\n      \"vega-lib\": \"https://cdn.jsdelivr.net/npm//vega-lib?noext\",\n      \"vega-lite\": \"https://cdn.jsdelivr.net/npm//vega-lite@4.8.1?noext\",\n      \"vega-embed\": \"https://cdn.jsdelivr.net/npm//vega-embed@6?noext\",\n    };\n\n    function loadScript(lib) {\n      return new Promise(function(resolve, reject) {\n        var s = document.createElement('script');\n        s.src = paths[lib];\n        s.async = true;\n        s.onload = () => resolve(paths[lib]);\n        s.onerror = () => reject(`Error loading script: ${paths[lib]}`);\n        document.getElementsByTagName(\"head\")[0].appendChild(s);\n      });\n    }\n\n    function showError(err) {\n      outputDiv.innerHTML = `<div class=\"error\" style=\"color:red;\">${err}</div>`;\n      throw err;\n    }\n\n    function displayChart(vegaEmbed) {\n      vegaEmbed(outputDiv, spec, embedOpt)\n        .catch(err => showError(`Javascript Error: ${err.message}<br>This usually means there's a typo in your chart specification. See the javascript console for the full traceback.`));\n    }\n\n    if(typeof define === \"function\" && define.amd) {\n      requirejs.config({paths});\n      require([\"vega-embed\"], displayChart, err => showError(`Error loading script: ${err.message}`));\n    } else if (typeof vegaEmbed === \"function\") {\n      displayChart(vegaEmbed);\n    } else {\n      loadScript(\"vega\")\n        .then(() => loadScript(\"vega-lite\"))\n        .then(() => loadScript(\"vega-embed\"))\n        .catch(showError)\n        .then(() => displayChart(vegaEmbed));\n    }\n  })({\"config\": {\"view\": {\"continuousWidth\": 400, \"continuousHeight\": 300, \"strokeWidth\": 0}, \"axis\": {\"labelFontSize\": 14}, \"background\": \"whitesmoke\", \"legend\": {\"gradientLength\": 400, \"gradientThickness\": 30}}, \"hconcat\": [{\"layer\": [{\"mark\": {\"type\": \"text\", \"align\": \"left\", \"baseline\": \"middle\", \"dx\": 3}, \"encoding\": {\"text\": {\"type\": \"quantitative\", \"field\": \"Percentage\", \"format\": \".0%\"}, \"x\": {\"type\": \"quantitative\", \"axis\": null, \"field\": \"Percentage\"}, \"y\": {\"type\": \"nominal\", \"axis\": {\"tickCount\": 5, \"title\": \"\"}, \"field\": \"Name\", \"sort\": [\"The Phantom Meanance\", \"Attack of the clones\", \"Revenge of the Sith\", \"A New Hope\", \"The Empire Strikes Back\", \"The Return of the Jedi\"]}}}, {\"mark\": {\"type\": \"bar\", \"color\": \"#77AB43\", \"size\": 20}, \"encoding\": {\"x\": {\"type\": \"quantitative\", \"axis\": null, \"field\": \"Percentage\"}, \"y\": {\"type\": \"nominal\", \"axis\": {\"tickCount\": 5, \"title\": \"\"}, \"field\": \"Name\", \"sort\": [\"The Phantom Meanance\", \"Attack of the clones\", \"Revenge of the Sith\", \"A New Hope\", \"The Empire Strikes Back\", \"The Return of the Jedi\"]}}}], \"data\": {\"url\": \"altair-data-c79be4375c98880ee9219fa7615704fb.json\", \"format\": {\"type\": \"json\"}}, \"height\": 150, \"title\": {\"text\": [\"Top third\"]}, \"width\": 50}, {\"layer\": [{\"mark\": {\"type\": \"text\", \"align\": \"left\", \"baseline\": \"middle\", \"dx\": 3}, \"encoding\": {\"text\": {\"type\": \"quantitative\", \"field\": \"Percentage\", \"format\": \".0%\"}, \"x\": {\"type\": \"quantitative\", \"axis\": null, \"field\": \"Percentage\"}, \"y\": {\"type\": \"nominal\", \"axis\": null, \"field\": \"Name\", \"sort\": [\"The Phantom Meanance\", \"Attack of the clones\", \"Revenge of the Sith\", \"A New Hope\", \"The Empire Strikes Back\", \"The Return of the Jedi\"]}}}, {\"mark\": {\"type\": \"bar\", \"color\": \"#008FD5\", \"size\": 20}, \"encoding\": {\"x\": {\"type\": \"quantitative\", \"axis\": null, \"field\": \"Percentage\"}, \"y\": {\"type\": \"nominal\", \"axis\": null, \"field\": \"Name\", \"sort\": [\"The Phantom Meanance\", \"Attack of the clones\", \"Revenge of the Sith\", \"A New Hope\", \"The Empire Strikes Back\", \"The Return of the Jedi\"]}}}], \"data\": {\"url\": \"altair-data-245228199fa45ebfb09d75cc47e84bdf.json\", \"format\": {\"type\": \"json\"}}, \"height\": 150, \"title\": {\"text\": [\"Middle third\"]}, \"width\": 50}, {\"layer\": [{\"mark\": {\"type\": \"text\", \"align\": \"left\", \"baseline\": \"middle\", \"dx\": 3}, \"encoding\": {\"text\": {\"type\": \"quantitative\", \"field\": \"Percentage\", \"format\": \".0%\"}, \"x\": {\"type\": \"quantitative\", \"axis\": null, \"field\": \"Percentage\"}, \"y\": {\"type\": \"nominal\", \"axis\": null, \"field\": \"Name\", \"sort\": [\"The Phantom Meanance\", \"Attack of the clones\", \"Revenge of the Sith\", \"A New Hope\", \"The Empire Strikes Back\", \"The Return of the Jedi\"]}}}, {\"mark\": {\"type\": \"bar\", \"color\": \"red\", \"size\": 20}, \"encoding\": {\"x\": {\"type\": \"quantitative\", \"axis\": null, \"field\": \"Percentage\"}, \"y\": {\"type\": \"nominal\", \"axis\": null, \"field\": \"Name\", \"sort\": [\"The Phantom Meanance\", \"Attack of the clones\", \"Revenge of the Sith\", \"A New Hope\", \"The Empire Strikes Back\", \"The Return of the Jedi\"]}}}], \"data\": {\"url\": \"altair-data-9d4094737fd90d57f3f596d7b7e0a9d7.json\", \"format\": {\"type\": \"json\"}}, \"height\": 150, \"title\": {\"text\": [\"Bottom third\"]}, \"width\": 50}], \"title\": {\"text\": [\"How People Rate the 'Star Wars' Movies\"], \"subtitle\": [\"How often each film was rated in the top, middle and bottom third\", \"(by 471 respondents who have seen all six films)\", \" \", \" \"]}, \"$schema\": \"https://vega.github.io/schema/vega-lite/v4.8.1.json\"}, {\"mode\": \"vega-lite\"});\n</script>",
      "text/plain": [
       "alt.HConcatChart(...)"
      ]
     },
     "metadata": {},
     "execution_count": 26
    }
   ],
   "source": [
    "# Recreate this image using altair here (10 POINTS)\n",
    "\n",
    "# YOUR CODE HERE\n",
    "# raise NotImplementedError()\n",
    "alt.hconcat(top3_movies, mid3_movies, bot3_movies).properties(\n",
    "    # add a title\n",
    "    title={\n",
    "    \"text\":[\"How People Rate the 'Star Wars' Movies\"],\n",
    "    \"subtitle\":[\"How often each film was rated in the top, middle and bottom third\",'(by 471 respondents who have seen all six films)',' ',' ']}\n",
    ").configure_scale(\n",
    "    # add some padding\n",
    "    bandPaddingInner=1\n",
    ").configure(\n",
    "    # customize background color\n",
    "    background=\"whitesmoke\"\n",
    ").configure_view(\n",
    "    strokeWidth=0\n",
    ").configure_axis(\n",
    "    # remove axis line\n",
    "    grid=False, domain=False\n",
    ").configure_axis(\n",
    "    labelFontSize=14\n",
    ").configure_legend(\n",
    "    gradientLength=400,\n",
    "    gradientThickness=30\n",
    ") "
   ]
  },
  {
   "cell_type": "markdown",
   "metadata": {},
   "source": [
    "Finally, we took a boilerplate format used by political favorability polls — “Please state whether you view the following characters favorably, unfavorably, or are unfamiliar with him/her” — and asked respondents to rate characters in the series."
   ]
  },
  {
   "cell_type": "markdown",
   "metadata": {},
   "source": [
    "![\"Sol1\"](assets/char_ranking_resized.png)\n",
    "\n",
    "\n",
    "** Homework note. Here's an example solution generated in Altair:\n",
    "\n",
    "![\"Sol1\"](assets/people_rate_s.png)\n"
   ]
  },
  {
   "cell_type": "markdown",
   "metadata": {},
   "source": [
    "### 2.3 Star Wars' Characters Favorability Ratings. Recreate the above image using altair (10 POINTS)"
   ]
  },
  {
   "cell_type": "code",
   "execution_count": 27,
   "metadata": {},
   "outputs": [
    {
     "output_type": "stream",
     "name": "stdout",
     "text": [
      "sort order:  ['Luke Skywalker', 'Han Solo', 'Princess Leia Organa', 'Obi Wan Kenobi', 'Yoda', 'R2 D2', 'C-3P0', 'Anakin Skywalker', 'Darth Vader', 'Lando Calrissian', 'Padme Amidala', 'Boba Fett', 'Emperor Palpatine', 'Jar Jar Binks']\n"
     ]
    }
   ],
   "source": [
    "actors = ['LS', 'HS','PLO','OWK','Y','RD','C3','AS','DV','LC','PA','BF','EP','JJB']\n",
    "names = {\n",
    "    'LS' : 'Luke Skywalker','HS' : 'Han Solo', 'PLO':'Princess Leia Organa', 'OWK': 'Obi Wan Kenobi', 'Y':'Yoda', 'RD':'R2 D2', 'C3':'C-3P0', 'AS' : 'Anakin Skywalker', 'DV' : 'Darth Vader', 'LC':'Lando Calrissian', 'PA':'Padme Amidala', 'BF':'Boba Fett', 'EP': 'Emperor Palpatine', 'JJB':'Jar Jar Binks'\n",
    "}\n",
    "\n",
    "# we're also going to use this order to sort, so names_l will now have our sort order\n",
    "names_l = [names[ac] for ac in actors]\n",
    "\n",
    "print(\"sort order: \",names_l)"
   ]
  },
  {
   "cell_type": "code",
   "execution_count": 28,
   "metadata": {},
   "outputs": [
    {
     "output_type": "stream",
     "name": "stdout",
     "text": [
      "total who have seen at least one:  834\n"
     ]
    }
   ],
   "source": [
    "# let's do some data pre-processing... sw (star wars) has everything\n",
    "\n",
    "# We want to only use those people who have seen at least one movie, let's get the people, toss NAs\n",
    "# and get the total count\n",
    "\n",
    "# find people who have at least on of the columns (seen_*) not NaN\n",
    "\n",
    "seen_at_least_one = sw.dropna(subset=['fav_' + ac for ac in actors],how='all')\n",
    "total = len(seen_at_least_one)\n",
    "\n",
    "print(\"total who have seen at least one: \", total)"
   ]
  },
  {
   "cell_type": "code",
   "execution_count": 29,
   "metadata": {},
   "outputs": [
    {
     "output_type": "execute_result",
     "data": {
      "text/plain": [
       "                    Name  Percentage\n",
       "0         Luke Skywalker    0.924460\n",
       "1               Han Solo    0.912470\n",
       "2   Princess Leia Organa    0.907674\n",
       "3         Obi Wan Kenobi    0.899281\n",
       "4                   Yoda    0.898082\n",
       "5                  R2 D2    0.895683\n",
       "6                  C-3P0    0.842926\n",
       "7       Anakin Skywalker    0.616307\n",
       "8            Darth Vader    0.576739\n",
       "9       Lando Calrissian    0.437650\n",
       "10         Padme Amidala    0.420863\n",
       "11             Boba Fett    0.348921\n",
       "12     Emperor Palpatine    0.303357\n",
       "13         Jar Jar Binks    0.290168"
      ],
      "text/html": "<div>\n<style scoped>\n    .dataframe tbody tr th:only-of-type {\n        vertical-align: middle;\n    }\n\n    .dataframe tbody tr th {\n        vertical-align: top;\n    }\n\n    .dataframe thead th {\n        text-align: right;\n    }\n</style>\n<table border=\"1\" class=\"dataframe\">\n  <thead>\n    <tr style=\"text-align: right;\">\n      <th></th>\n      <th>Name</th>\n      <th>Percentage</th>\n    </tr>\n  </thead>\n  <tbody>\n    <tr>\n      <th>0</th>\n      <td>Luke Skywalker</td>\n      <td>0.924460</td>\n    </tr>\n    <tr>\n      <th>1</th>\n      <td>Han Solo</td>\n      <td>0.912470</td>\n    </tr>\n    <tr>\n      <th>2</th>\n      <td>Princess Leia Organa</td>\n      <td>0.907674</td>\n    </tr>\n    <tr>\n      <th>3</th>\n      <td>Obi Wan Kenobi</td>\n      <td>0.899281</td>\n    </tr>\n    <tr>\n      <th>4</th>\n      <td>Yoda</td>\n      <td>0.898082</td>\n    </tr>\n    <tr>\n      <th>5</th>\n      <td>R2 D2</td>\n      <td>0.895683</td>\n    </tr>\n    <tr>\n      <th>6</th>\n      <td>C-3P0</td>\n      <td>0.842926</td>\n    </tr>\n    <tr>\n      <th>7</th>\n      <td>Anakin Skywalker</td>\n      <td>0.616307</td>\n    </tr>\n    <tr>\n      <th>8</th>\n      <td>Darth Vader</td>\n      <td>0.576739</td>\n    </tr>\n    <tr>\n      <th>9</th>\n      <td>Lando Calrissian</td>\n      <td>0.437650</td>\n    </tr>\n    <tr>\n      <th>10</th>\n      <td>Padme Amidala</td>\n      <td>0.420863</td>\n    </tr>\n    <tr>\n      <th>11</th>\n      <td>Boba Fett</td>\n      <td>0.348921</td>\n    </tr>\n    <tr>\n      <th>12</th>\n      <td>Emperor Palpatine</td>\n      <td>0.303357</td>\n    </tr>\n    <tr>\n      <th>13</th>\n      <td>Jar Jar Binks</td>\n      <td>0.290168</td>\n    </tr>\n  </tbody>\n</table>\n</div>"
     },
     "metadata": {},
     "execution_count": 29
    }
   ],
   "source": [
    "# for each movie, we're going to calculate the percents and generate a new data frame\n",
    "percs = []\n",
    "\n",
    "# loop over each column and calculate the number of people who have seen the movie\n",
    "# specifically, filter out the people who are *NaN* for a specific episode (e.g., ep_EII), count them\n",
    "# and divide by the percent\n",
    "for actor_ep in ['fav_' + ac for ac in actors]:\n",
    "    perc = (seen_at_least_one[seen_at_least_one[actor_ep] == 'Very favorably'].shape[0] + seen_at_least_one[seen_at_least_one[actor_ep] == 'Somewhat favorably'].shape[0]) / total\n",
    "    percs.append(perc)\n",
    "    \n",
    "# at this point percs is holding our percentages\n",
    "\n",
    "# now we're going use a trick to make tuples--pairing names with percents--using \"zip\" and then make a dataframe\n",
    "tuples = list(zip([names[ac] for ac in actors],percs))\n",
    "fav_df = pd.DataFrame(tuples, columns = ['Name', 'Percentage'])\n",
    "fav_df"
   ]
  },
  {
   "cell_type": "code",
   "execution_count": 30,
   "metadata": {},
   "outputs": [
    {
     "output_type": "execute_result",
     "data": {
      "text/html": "\n<div id=\"altair-viz-ca47b2e8db604647ae11831b38b7ad34\"></div>\n<script type=\"text/javascript\">\n  (function(spec, embedOpt){\n    let outputDiv = document.currentScript.previousElementSibling;\n    if (outputDiv.id !== \"altair-viz-ca47b2e8db604647ae11831b38b7ad34\") {\n      outputDiv = document.getElementById(\"altair-viz-ca47b2e8db604647ae11831b38b7ad34\");\n    }\n    const paths = {\n      \"vega\": \"https://cdn.jsdelivr.net/npm//vega@5?noext\",\n      \"vega-lib\": \"https://cdn.jsdelivr.net/npm//vega-lib?noext\",\n      \"vega-lite\": \"https://cdn.jsdelivr.net/npm//vega-lite@4.8.1?noext\",\n      \"vega-embed\": \"https://cdn.jsdelivr.net/npm//vega-embed@6?noext\",\n    };\n\n    function loadScript(lib) {\n      return new Promise(function(resolve, reject) {\n        var s = document.createElement('script');\n        s.src = paths[lib];\n        s.async = true;\n        s.onload = () => resolve(paths[lib]);\n        s.onerror = () => reject(`Error loading script: ${paths[lib]}`);\n        document.getElementsByTagName(\"head\")[0].appendChild(s);\n      });\n    }\n\n    function showError(err) {\n      outputDiv.innerHTML = `<div class=\"error\" style=\"color:red;\">${err}</div>`;\n      throw err;\n    }\n\n    function displayChart(vegaEmbed) {\n      vegaEmbed(outputDiv, spec, embedOpt)\n        .catch(err => showError(`Javascript Error: ${err.message}<br>This usually means there's a typo in your chart specification. See the javascript console for the full traceback.`));\n    }\n\n    if(typeof define === \"function\" && define.amd) {\n      requirejs.config({paths});\n      require([\"vega-embed\"], displayChart, err => showError(`Error loading script: ${err.message}`));\n    } else if (typeof vegaEmbed === \"function\") {\n      displayChart(vegaEmbed);\n    } else {\n      loadScript(\"vega\")\n        .then(() => loadScript(\"vega-lite\"))\n        .then(() => loadScript(\"vega-embed\"))\n        .catch(showError)\n        .then(() => displayChart(vegaEmbed));\n    }\n  })({\"config\": {\"view\": {\"continuousWidth\": 400, \"continuousHeight\": 300}}, \"data\": {\"url\": \"altair-data-b4fd8b1c9280106e7a66303119540cf9.json\", \"format\": {\"type\": \"json\"}}, \"mark\": {\"type\": \"bar\", \"color\": \"#77AB43\", \"size\": 20}, \"encoding\": {\"x\": {\"type\": \"quantitative\", \"axis\": null, \"field\": \"Percentage\"}, \"y\": {\"type\": \"nominal\", \"axis\": {\"tickCount\": 5, \"title\": \"\"}, \"field\": \"Name\", \"sort\": [\"Luke Skywalker\", \"Han Solo\", \"Princess Leia Organa\", \"Obi Wan Kenobi\", \"Yoda\", \"R2 D2\", \"C-3P0\", \"Anakin Skywalker\", \"Darth Vader\", \"Lando Calrissian\", \"Padme Amidala\", \"Boba Fett\", \"Emperor Palpatine\", \"Jar Jar Binks\"]}}, \"$schema\": \"https://vega.github.io/schema/vega-lite/v4.8.1.json\"}, {\"mode\": \"vega-lite\"});\n</script>",
      "text/plain": [
       "alt.Chart(...)"
      ]
     },
     "metadata": {},
     "execution_count": 30
    }
   ],
   "source": [
    "# ok, time to make the chart... let's make a bar chart (use mark_bar)\n",
    "fav_bars = alt.Chart(fav_df).mark_bar(size=20, color='#77AB43').encode(\n",
    "    # encode x as the percent, and hide the axis\n",
    "    x=alt.X(\n",
    "        'Percentage',\n",
    "        axis=None),\n",
    "    y=alt.Y(\n",
    "        # encode y using the name, use the movie name to label the axis, sort using the names_l\n",
    "        'Name:N',\n",
    "         axis=alt.Axis(tickCount=5, title=''),\n",
    "         # we give the sorting order to avoid alphabetical order\n",
    "         sort=names_l\n",
    "    )\n",
    ")\n",
    "\n",
    "# at this point we don't really have a great plot (it's missing the annotations, titles, etc.)\n",
    "fav_bars\n"
   ]
  },
  {
   "cell_type": "code",
   "execution_count": 31,
   "metadata": {},
   "outputs": [
    {
     "output_type": "execute_result",
     "data": {
      "text/html": "\n<div id=\"altair-viz-8646e2dae7f04e848a96fae352ec57c0\"></div>\n<script type=\"text/javascript\">\n  (function(spec, embedOpt){\n    let outputDiv = document.currentScript.previousElementSibling;\n    if (outputDiv.id !== \"altair-viz-8646e2dae7f04e848a96fae352ec57c0\") {\n      outputDiv = document.getElementById(\"altair-viz-8646e2dae7f04e848a96fae352ec57c0\");\n    }\n    const paths = {\n      \"vega\": \"https://cdn.jsdelivr.net/npm//vega@5?noext\",\n      \"vega-lib\": \"https://cdn.jsdelivr.net/npm//vega-lib?noext\",\n      \"vega-lite\": \"https://cdn.jsdelivr.net/npm//vega-lite@4.8.1?noext\",\n      \"vega-embed\": \"https://cdn.jsdelivr.net/npm//vega-embed@6?noext\",\n    };\n\n    function loadScript(lib) {\n      return new Promise(function(resolve, reject) {\n        var s = document.createElement('script');\n        s.src = paths[lib];\n        s.async = true;\n        s.onload = () => resolve(paths[lib]);\n        s.onerror = () => reject(`Error loading script: ${paths[lib]}`);\n        document.getElementsByTagName(\"head\")[0].appendChild(s);\n      });\n    }\n\n    function showError(err) {\n      outputDiv.innerHTML = `<div class=\"error\" style=\"color:red;\">${err}</div>`;\n      throw err;\n    }\n\n    function displayChart(vegaEmbed) {\n      vegaEmbed(outputDiv, spec, embedOpt)\n        .catch(err => showError(`Javascript Error: ${err.message}<br>This usually means there's a typo in your chart specification. See the javascript console for the full traceback.`));\n    }\n\n    if(typeof define === \"function\" && define.amd) {\n      requirejs.config({paths});\n      require([\"vega-embed\"], displayChart, err => showError(`Error loading script: ${err.message}`));\n    } else if (typeof vegaEmbed === \"function\") {\n      displayChart(vegaEmbed);\n    } else {\n      loadScript(\"vega\")\n        .then(() => loadScript(\"vega-lite\"))\n        .then(() => loadScript(\"vega-embed\"))\n        .catch(showError)\n        .then(() => displayChart(vegaEmbed));\n    }\n  })({\"config\": {\"view\": {\"continuousWidth\": 400, \"continuousHeight\": 300}}, \"layer\": [{\"mark\": {\"type\": \"text\", \"align\": \"left\", \"baseline\": \"middle\", \"dx\": 3}, \"encoding\": {\"text\": {\"type\": \"quantitative\", \"field\": \"Percentage\", \"format\": \".0%\"}, \"x\": {\"type\": \"quantitative\", \"axis\": null, \"field\": \"Percentage\"}, \"y\": {\"type\": \"nominal\", \"axis\": {\"tickCount\": 5, \"title\": \"\"}, \"field\": \"Name\", \"sort\": [\"Luke Skywalker\", \"Han Solo\", \"Princess Leia Organa\", \"Obi Wan Kenobi\", \"Yoda\", \"R2 D2\", \"C-3P0\", \"Anakin Skywalker\", \"Darth Vader\", \"Lando Calrissian\", \"Padme Amidala\", \"Boba Fett\", \"Emperor Palpatine\", \"Jar Jar Binks\"]}}}, {\"mark\": {\"type\": \"bar\", \"color\": \"#77AB43\", \"size\": 20}, \"encoding\": {\"x\": {\"type\": \"quantitative\", \"axis\": null, \"field\": \"Percentage\"}, \"y\": {\"type\": \"nominal\", \"axis\": {\"tickCount\": 5, \"title\": \"\"}, \"field\": \"Name\", \"sort\": [\"Luke Skywalker\", \"Han Solo\", \"Princess Leia Organa\", \"Obi Wan Kenobi\", \"Yoda\", \"R2 D2\", \"C-3P0\", \"Anakin Skywalker\", \"Darth Vader\", \"Lando Calrissian\", \"Padme Amidala\", \"Boba Fett\", \"Emperor Palpatine\", \"Jar Jar Binks\"]}}}], \"data\": {\"url\": \"altair-data-b4fd8b1c9280106e7a66303119540cf9.json\", \"format\": {\"type\": \"json\"}}, \"height\": 400, \"title\": {\"text\": [\"Favorable\"]}, \"width\": 50, \"$schema\": \"https://vega.github.io/schema/vega-lite/v4.8.1.json\"}, {\"mode\": \"vega-lite\"});\n</script>",
      "text/plain": [
       "alt.LayerChart(...)"
      ]
     },
     "metadata": {},
     "execution_count": 31
    }
   ],
   "source": [
    "# we're going to overlay the text with the percentages, so let's make another visualization\n",
    "# that's just text labels\n",
    "\n",
    "text = fav_bars.mark_text(\n",
    "    align='left',\n",
    "    baseline='middle',\n",
    "    dx=3  # Nudges text to right so it doesn't appear on top of the bar\n",
    ").encode(\n",
    "    # we'll use the percentage as the text\n",
    "    text=alt.Text('Percentage:Q',format='.0%')\n",
    ")\n",
    "\n",
    "# finally, we're going to combine the bars and the text and do some styling\n",
    "fav_movies = (text + fav_bars).properties(\n",
    "    # set the dimensions of the visualization\n",
    "    width=50,\n",
    "    height=400\n",
    ").properties(\n",
    "    # add a title\n",
    "    title={\n",
    "    \"text\":[\"Favorable\"]},\n",
    ")\n",
    "\n",
    "fav_movies\n",
    "\n",
    "# note that we are NOT formatting this in the Five Thirty Eight Style yet... we'll leave that to you to figure out"
   ]
  },
  {
   "cell_type": "code",
   "execution_count": 32,
   "metadata": {},
   "outputs": [
    {
     "output_type": "execute_result",
     "data": {
      "text/plain": [
       "                    Name  Percentage\n",
       "0         Luke Skywalker    0.045564\n",
       "1               Han Solo    0.052758\n",
       "2   Princess Leia Organa    0.057554\n",
       "3         Obi Wan Kenobi    0.051559\n",
       "4                   Yoda    0.061151\n",
       "5                  R2 D2    0.068345\n",
       "6                  C-3P0    0.094724\n",
       "7       Anakin Skywalker    0.161871\n",
       "8            Darth Vader    0.100719\n",
       "9       Lando Calrissian    0.282974\n",
       "10         Padme Amidala    0.248201\n",
       "11             Boba Fett    0.297362\n",
       "12     Emperor Palpatine    0.255396\n",
       "13         Jar Jar Binks    0.196643"
      ],
      "text/html": "<div>\n<style scoped>\n    .dataframe tbody tr th:only-of-type {\n        vertical-align: middle;\n    }\n\n    .dataframe tbody tr th {\n        vertical-align: top;\n    }\n\n    .dataframe thead th {\n        text-align: right;\n    }\n</style>\n<table border=\"1\" class=\"dataframe\">\n  <thead>\n    <tr style=\"text-align: right;\">\n      <th></th>\n      <th>Name</th>\n      <th>Percentage</th>\n    </tr>\n  </thead>\n  <tbody>\n    <tr>\n      <th>0</th>\n      <td>Luke Skywalker</td>\n      <td>0.045564</td>\n    </tr>\n    <tr>\n      <th>1</th>\n      <td>Han Solo</td>\n      <td>0.052758</td>\n    </tr>\n    <tr>\n      <th>2</th>\n      <td>Princess Leia Organa</td>\n      <td>0.057554</td>\n    </tr>\n    <tr>\n      <th>3</th>\n      <td>Obi Wan Kenobi</td>\n      <td>0.051559</td>\n    </tr>\n    <tr>\n      <th>4</th>\n      <td>Yoda</td>\n      <td>0.061151</td>\n    </tr>\n    <tr>\n      <th>5</th>\n      <td>R2 D2</td>\n      <td>0.068345</td>\n    </tr>\n    <tr>\n      <th>6</th>\n      <td>C-3P0</td>\n      <td>0.094724</td>\n    </tr>\n    <tr>\n      <th>7</th>\n      <td>Anakin Skywalker</td>\n      <td>0.161871</td>\n    </tr>\n    <tr>\n      <th>8</th>\n      <td>Darth Vader</td>\n      <td>0.100719</td>\n    </tr>\n    <tr>\n      <th>9</th>\n      <td>Lando Calrissian</td>\n      <td>0.282974</td>\n    </tr>\n    <tr>\n      <th>10</th>\n      <td>Padme Amidala</td>\n      <td>0.248201</td>\n    </tr>\n    <tr>\n      <th>11</th>\n      <td>Boba Fett</td>\n      <td>0.297362</td>\n    </tr>\n    <tr>\n      <th>12</th>\n      <td>Emperor Palpatine</td>\n      <td>0.255396</td>\n    </tr>\n    <tr>\n      <th>13</th>\n      <td>Jar Jar Binks</td>\n      <td>0.196643</td>\n    </tr>\n  </tbody>\n</table>\n</div>"
     },
     "metadata": {},
     "execution_count": 32
    }
   ],
   "source": [
    "# for each movie, we're going to calculate the percents and generate a new data frame\n",
    "percs = []\n",
    "\n",
    "# loop over each column and calculate the number of people who have seen the movie\n",
    "# specifically, filter out the people who are *NaN* for a specific episode (e.g., ep_EII), count them\n",
    "# and divide by the percent\n",
    "for actor_ep in ['fav_' + ac for ac in actors]:\n",
    "    perc = seen_at_least_one[seen_at_least_one[actor_ep] == 'Neither favorably nor unfavorably (neutral)'].shape[0] / total\n",
    "    percs.append(perc)\n",
    "    \n",
    "# at this point percs is holding our percentages\n",
    "\n",
    "# now we're going use a trick to make tuples--pairing names with percents--using \"zip\" and then make a dataframe\n",
    "tuples = list(zip([names[ac] for ac in actors],percs))\n",
    "neu_df = pd.DataFrame(tuples, columns = ['Name', 'Percentage'])\n",
    "neu_df"
   ]
  },
  {
   "cell_type": "code",
   "execution_count": 33,
   "metadata": {},
   "outputs": [
    {
     "output_type": "execute_result",
     "data": {
      "text/html": "\n<div id=\"altair-viz-f04c914a599f45708b01cebdd19a7fea\"></div>\n<script type=\"text/javascript\">\n  (function(spec, embedOpt){\n    let outputDiv = document.currentScript.previousElementSibling;\n    if (outputDiv.id !== \"altair-viz-f04c914a599f45708b01cebdd19a7fea\") {\n      outputDiv = document.getElementById(\"altair-viz-f04c914a599f45708b01cebdd19a7fea\");\n    }\n    const paths = {\n      \"vega\": \"https://cdn.jsdelivr.net/npm//vega@5?noext\",\n      \"vega-lib\": \"https://cdn.jsdelivr.net/npm//vega-lib?noext\",\n      \"vega-lite\": \"https://cdn.jsdelivr.net/npm//vega-lite@4.8.1?noext\",\n      \"vega-embed\": \"https://cdn.jsdelivr.net/npm//vega-embed@6?noext\",\n    };\n\n    function loadScript(lib) {\n      return new Promise(function(resolve, reject) {\n        var s = document.createElement('script');\n        s.src = paths[lib];\n        s.async = true;\n        s.onload = () => resolve(paths[lib]);\n        s.onerror = () => reject(`Error loading script: ${paths[lib]}`);\n        document.getElementsByTagName(\"head\")[0].appendChild(s);\n      });\n    }\n\n    function showError(err) {\n      outputDiv.innerHTML = `<div class=\"error\" style=\"color:red;\">${err}</div>`;\n      throw err;\n    }\n\n    function displayChart(vegaEmbed) {\n      vegaEmbed(outputDiv, spec, embedOpt)\n        .catch(err => showError(`Javascript Error: ${err.message}<br>This usually means there's a typo in your chart specification. See the javascript console for the full traceback.`));\n    }\n\n    if(typeof define === \"function\" && define.amd) {\n      requirejs.config({paths});\n      require([\"vega-embed\"], displayChart, err => showError(`Error loading script: ${err.message}`));\n    } else if (typeof vegaEmbed === \"function\") {\n      displayChart(vegaEmbed);\n    } else {\n      loadScript(\"vega\")\n        .then(() => loadScript(\"vega-lite\"))\n        .then(() => loadScript(\"vega-embed\"))\n        .catch(showError)\n        .then(() => displayChart(vegaEmbed));\n    }\n  })({\"config\": {\"view\": {\"continuousWidth\": 400, \"continuousHeight\": 300}}, \"data\": {\"url\": \"altair-data-39df3667dca1437542e298df41bea2d8.json\", \"format\": {\"type\": \"json\"}}, \"mark\": {\"type\": \"bar\", \"color\": \"#008FD5\", \"size\": 20}, \"encoding\": {\"x\": {\"type\": \"quantitative\", \"axis\": null, \"field\": \"Percentage\"}, \"y\": {\"type\": \"nominal\", \"axis\": null, \"field\": \"Name\", \"sort\": [\"Luke Skywalker\", \"Han Solo\", \"Princess Leia Organa\", \"Obi Wan Kenobi\", \"Yoda\", \"R2 D2\", \"C-3P0\", \"Anakin Skywalker\", \"Darth Vader\", \"Lando Calrissian\", \"Padme Amidala\", \"Boba Fett\", \"Emperor Palpatine\", \"Jar Jar Binks\"]}}, \"$schema\": \"https://vega.github.io/schema/vega-lite/v4.8.1.json\"}, {\"mode\": \"vega-lite\"});\n</script>",
      "text/plain": [
       "alt.Chart(...)"
      ]
     },
     "metadata": {},
     "execution_count": 33
    }
   ],
   "source": [
    "# ok, time to make the chart... let's make a bar chart (use mark_bar)\n",
    "neu_bars = alt.Chart(neu_df).mark_bar(size=20, color='#008FD5').encode(\n",
    "    # encode x as the percent, and hide the axis\n",
    "    x=alt.X(\n",
    "        'Percentage',\n",
    "        axis=None),\n",
    "    y=alt.Y(\n",
    "        # encode y using the name, use the movie name to label the axis, sort using the names_l\n",
    "        'Name:N',\n",
    "         axis=None,\n",
    "         # we give the sorting order to avoid alphabetical order\n",
    "         sort=names_l)\n",
    ")\n",
    "\n",
    "# at this point we don't really have a great plot (it's missing the annotations, titles, etc.)\n",
    "neu_bars\n"
   ]
  },
  {
   "cell_type": "code",
   "execution_count": 34,
   "metadata": {},
   "outputs": [
    {
     "output_type": "execute_result",
     "data": {
      "text/html": "\n<div id=\"altair-viz-15c16d363ec244df9f66d2b1e8446f71\"></div>\n<script type=\"text/javascript\">\n  (function(spec, embedOpt){\n    let outputDiv = document.currentScript.previousElementSibling;\n    if (outputDiv.id !== \"altair-viz-15c16d363ec244df9f66d2b1e8446f71\") {\n      outputDiv = document.getElementById(\"altair-viz-15c16d363ec244df9f66d2b1e8446f71\");\n    }\n    const paths = {\n      \"vega\": \"https://cdn.jsdelivr.net/npm//vega@5?noext\",\n      \"vega-lib\": \"https://cdn.jsdelivr.net/npm//vega-lib?noext\",\n      \"vega-lite\": \"https://cdn.jsdelivr.net/npm//vega-lite@4.8.1?noext\",\n      \"vega-embed\": \"https://cdn.jsdelivr.net/npm//vega-embed@6?noext\",\n    };\n\n    function loadScript(lib) {\n      return new Promise(function(resolve, reject) {\n        var s = document.createElement('script');\n        s.src = paths[lib];\n        s.async = true;\n        s.onload = () => resolve(paths[lib]);\n        s.onerror = () => reject(`Error loading script: ${paths[lib]}`);\n        document.getElementsByTagName(\"head\")[0].appendChild(s);\n      });\n    }\n\n    function showError(err) {\n      outputDiv.innerHTML = `<div class=\"error\" style=\"color:red;\">${err}</div>`;\n      throw err;\n    }\n\n    function displayChart(vegaEmbed) {\n      vegaEmbed(outputDiv, spec, embedOpt)\n        .catch(err => showError(`Javascript Error: ${err.message}<br>This usually means there's a typo in your chart specification. See the javascript console for the full traceback.`));\n    }\n\n    if(typeof define === \"function\" && define.amd) {\n      requirejs.config({paths});\n      require([\"vega-embed\"], displayChart, err => showError(`Error loading script: ${err.message}`));\n    } else if (typeof vegaEmbed === \"function\") {\n      displayChart(vegaEmbed);\n    } else {\n      loadScript(\"vega\")\n        .then(() => loadScript(\"vega-lite\"))\n        .then(() => loadScript(\"vega-embed\"))\n        .catch(showError)\n        .then(() => displayChart(vegaEmbed));\n    }\n  })({\"config\": {\"view\": {\"continuousWidth\": 400, \"continuousHeight\": 300}}, \"layer\": [{\"mark\": {\"type\": \"text\", \"align\": \"left\", \"baseline\": \"middle\", \"dx\": 3}, \"encoding\": {\"text\": {\"type\": \"quantitative\", \"field\": \"Percentage\", \"format\": \".0%\"}, \"x\": {\"type\": \"quantitative\", \"axis\": null, \"field\": \"Percentage\"}, \"y\": {\"type\": \"nominal\", \"axis\": null, \"field\": \"Name\", \"sort\": [\"Luke Skywalker\", \"Han Solo\", \"Princess Leia Organa\", \"Obi Wan Kenobi\", \"Yoda\", \"R2 D2\", \"C-3P0\", \"Anakin Skywalker\", \"Darth Vader\", \"Lando Calrissian\", \"Padme Amidala\", \"Boba Fett\", \"Emperor Palpatine\", \"Jar Jar Binks\"]}}}, {\"mark\": {\"type\": \"bar\", \"color\": \"#008FD5\", \"size\": 20}, \"encoding\": {\"x\": {\"type\": \"quantitative\", \"axis\": null, \"field\": \"Percentage\"}, \"y\": {\"type\": \"nominal\", \"axis\": null, \"field\": \"Name\", \"sort\": [\"Luke Skywalker\", \"Han Solo\", \"Princess Leia Organa\", \"Obi Wan Kenobi\", \"Yoda\", \"R2 D2\", \"C-3P0\", \"Anakin Skywalker\", \"Darth Vader\", \"Lando Calrissian\", \"Padme Amidala\", \"Boba Fett\", \"Emperor Palpatine\", \"Jar Jar Binks\"]}}}], \"data\": {\"url\": \"altair-data-39df3667dca1437542e298df41bea2d8.json\", \"format\": {\"type\": \"json\"}}, \"height\": 400, \"title\": {\"text\": [\"Neutral\"]}, \"width\": 50, \"$schema\": \"https://vega.github.io/schema/vega-lite/v4.8.1.json\"}, {\"mode\": \"vega-lite\"});\n</script>",
      "text/plain": [
       "alt.LayerChart(...)"
      ]
     },
     "metadata": {},
     "execution_count": 34
    }
   ],
   "source": [
    "# we're going to overlay the text with the percentages, so let's make another visualization\n",
    "# that's just text labels\n",
    "\n",
    "text = neu_bars.mark_text(\n",
    "    align='left',\n",
    "    baseline='middle',\n",
    "    dx=3  # Nudges text to right so it doesn't appear on top of the bar\n",
    ").encode(\n",
    "    # we'll use the percentage as the text\n",
    "    text=alt.Text('Percentage:Q',format='.0%')\n",
    ")\n",
    "\n",
    "# finally, we're going to combine the bars and the text and do some styling\n",
    "neu_movies = (text + neu_bars).properties(\n",
    "    # set the dimensions of the visualization\n",
    "    width=50,\n",
    "    height=400\n",
    ").properties(\n",
    "    # add a title\n",
    "    title={\n",
    "    \"text\":[\"Neutral\"]},\n",
    ")\n",
    "\n",
    "neu_movies\n",
    "\n",
    "# note that we are NOT formatting this in the Five Thirty Eight Style yet... we'll leave that to you to figure out"
   ]
  },
  {
   "cell_type": "code",
   "execution_count": 35,
   "metadata": {},
   "outputs": [
    {
     "output_type": "execute_result",
     "data": {
      "text/plain": [
       "                    Name  Percentage\n",
       "0         Luke Skywalker    0.019185\n",
       "1               Han Solo    0.010791\n",
       "2   Princess Leia Organa    0.021583\n",
       "3         Obi Wan Kenobi    0.017986\n",
       "4                   Yoda    0.019185\n",
       "5                  R2 D2    0.019185\n",
       "6                  C-3P0    0.035971\n",
       "7       Anakin Skywalker    0.146283\n",
       "8            Darth Vader    0.300959\n",
       "9       Lando Calrissian    0.085132\n",
       "10         Padme Amidala    0.110312\n",
       "11             Boba Fett    0.169065\n",
       "12     Emperor Palpatine    0.230216\n",
       "13         Jar Jar Binks    0.366906"
      ],
      "text/html": "<div>\n<style scoped>\n    .dataframe tbody tr th:only-of-type {\n        vertical-align: middle;\n    }\n\n    .dataframe tbody tr th {\n        vertical-align: top;\n    }\n\n    .dataframe thead th {\n        text-align: right;\n    }\n</style>\n<table border=\"1\" class=\"dataframe\">\n  <thead>\n    <tr style=\"text-align: right;\">\n      <th></th>\n      <th>Name</th>\n      <th>Percentage</th>\n    </tr>\n  </thead>\n  <tbody>\n    <tr>\n      <th>0</th>\n      <td>Luke Skywalker</td>\n      <td>0.019185</td>\n    </tr>\n    <tr>\n      <th>1</th>\n      <td>Han Solo</td>\n      <td>0.010791</td>\n    </tr>\n    <tr>\n      <th>2</th>\n      <td>Princess Leia Organa</td>\n      <td>0.021583</td>\n    </tr>\n    <tr>\n      <th>3</th>\n      <td>Obi Wan Kenobi</td>\n      <td>0.017986</td>\n    </tr>\n    <tr>\n      <th>4</th>\n      <td>Yoda</td>\n      <td>0.019185</td>\n    </tr>\n    <tr>\n      <th>5</th>\n      <td>R2 D2</td>\n      <td>0.019185</td>\n    </tr>\n    <tr>\n      <th>6</th>\n      <td>C-3P0</td>\n      <td>0.035971</td>\n    </tr>\n    <tr>\n      <th>7</th>\n      <td>Anakin Skywalker</td>\n      <td>0.146283</td>\n    </tr>\n    <tr>\n      <th>8</th>\n      <td>Darth Vader</td>\n      <td>0.300959</td>\n    </tr>\n    <tr>\n      <th>9</th>\n      <td>Lando Calrissian</td>\n      <td>0.085132</td>\n    </tr>\n    <tr>\n      <th>10</th>\n      <td>Padme Amidala</td>\n      <td>0.110312</td>\n    </tr>\n    <tr>\n      <th>11</th>\n      <td>Boba Fett</td>\n      <td>0.169065</td>\n    </tr>\n    <tr>\n      <th>12</th>\n      <td>Emperor Palpatine</td>\n      <td>0.230216</td>\n    </tr>\n    <tr>\n      <th>13</th>\n      <td>Jar Jar Binks</td>\n      <td>0.366906</td>\n    </tr>\n  </tbody>\n</table>\n</div>"
     },
     "metadata": {},
     "execution_count": 35
    }
   ],
   "source": [
    "# for each movie, we're going to calculate the percents and generate a new data frame\n",
    "percs = []\n",
    "\n",
    "# loop over each column and calculate the number of people who have seen the movie\n",
    "# specifically, filter out the people who are *NaN* for a specific episode (e.g., ep_EII), count them\n",
    "# and divide by the percent\n",
    "for actor_ep in ['fav_' + ac for ac in actors]:\n",
    "    perc = (seen_at_least_one[seen_at_least_one[actor_ep] == 'Very unfavorably'].shape[0] + seen_at_least_one[seen_at_least_one[actor_ep] == 'Somewhat unfavorably'].shape[0]) / total\n",
    "    percs.append(perc)\n",
    "    \n",
    "# at this point percs is holding our percentages\n",
    "\n",
    "# now we're going use a trick to make tuples--pairing names with percents--using \"zip\" and then make a dataframe\n",
    "tuples = list(zip([names[ac] for ac in actors],percs))\n",
    "unfav_df = pd.DataFrame(tuples, columns = ['Name', 'Percentage'])\n",
    "unfav_df"
   ]
  },
  {
   "cell_type": "code",
   "execution_count": 36,
   "metadata": {},
   "outputs": [
    {
     "output_type": "execute_result",
     "data": {
      "text/html": "\n<div id=\"altair-viz-7742e6708fcd42c0a5627a5636793083\"></div>\n<script type=\"text/javascript\">\n  (function(spec, embedOpt){\n    let outputDiv = document.currentScript.previousElementSibling;\n    if (outputDiv.id !== \"altair-viz-7742e6708fcd42c0a5627a5636793083\") {\n      outputDiv = document.getElementById(\"altair-viz-7742e6708fcd42c0a5627a5636793083\");\n    }\n    const paths = {\n      \"vega\": \"https://cdn.jsdelivr.net/npm//vega@5?noext\",\n      \"vega-lib\": \"https://cdn.jsdelivr.net/npm//vega-lib?noext\",\n      \"vega-lite\": \"https://cdn.jsdelivr.net/npm//vega-lite@4.8.1?noext\",\n      \"vega-embed\": \"https://cdn.jsdelivr.net/npm//vega-embed@6?noext\",\n    };\n\n    function loadScript(lib) {\n      return new Promise(function(resolve, reject) {\n        var s = document.createElement('script');\n        s.src = paths[lib];\n        s.async = true;\n        s.onload = () => resolve(paths[lib]);\n        s.onerror = () => reject(`Error loading script: ${paths[lib]}`);\n        document.getElementsByTagName(\"head\")[0].appendChild(s);\n      });\n    }\n\n    function showError(err) {\n      outputDiv.innerHTML = `<div class=\"error\" style=\"color:red;\">${err}</div>`;\n      throw err;\n    }\n\n    function displayChart(vegaEmbed) {\n      vegaEmbed(outputDiv, spec, embedOpt)\n        .catch(err => showError(`Javascript Error: ${err.message}<br>This usually means there's a typo in your chart specification. See the javascript console for the full traceback.`));\n    }\n\n    if(typeof define === \"function\" && define.amd) {\n      requirejs.config({paths});\n      require([\"vega-embed\"], displayChart, err => showError(`Error loading script: ${err.message}`));\n    } else if (typeof vegaEmbed === \"function\") {\n      displayChart(vegaEmbed);\n    } else {\n      loadScript(\"vega\")\n        .then(() => loadScript(\"vega-lite\"))\n        .then(() => loadScript(\"vega-embed\"))\n        .catch(showError)\n        .then(() => displayChart(vegaEmbed));\n    }\n  })({\"config\": {\"view\": {\"continuousWidth\": 400, \"continuousHeight\": 300}}, \"data\": {\"url\": \"altair-data-912120bd45f5118e1903ba1540d0644d.json\", \"format\": {\"type\": \"json\"}}, \"mark\": {\"type\": \"bar\", \"color\": \"red\", \"size\": 20}, \"encoding\": {\"x\": {\"type\": \"quantitative\", \"axis\": null, \"field\": \"Percentage\"}, \"y\": {\"type\": \"nominal\", \"axis\": null, \"field\": \"Name\", \"sort\": [\"Luke Skywalker\", \"Han Solo\", \"Princess Leia Organa\", \"Obi Wan Kenobi\", \"Yoda\", \"R2 D2\", \"C-3P0\", \"Anakin Skywalker\", \"Darth Vader\", \"Lando Calrissian\", \"Padme Amidala\", \"Boba Fett\", \"Emperor Palpatine\", \"Jar Jar Binks\"]}}, \"$schema\": \"https://vega.github.io/schema/vega-lite/v4.8.1.json\"}, {\"mode\": \"vega-lite\"});\n</script>",
      "text/plain": [
       "alt.Chart(...)"
      ]
     },
     "metadata": {},
     "execution_count": 36
    }
   ],
   "source": [
    "# ok, time to make the chart... let's make a bar chart (use mark_bar)\n",
    "unfav_bars = alt.Chart(unfav_df).mark_bar(size=20, color='red').encode(\n",
    "    # encode x as the percent, and hide the axis\n",
    "    x=alt.X(\n",
    "        'Percentage',\n",
    "        axis=None),\n",
    "    y=alt.Y(\n",
    "        # encode y using the name, use the movie name to label the axis, sort using the names_l\n",
    "        'Name:N',\n",
    "         axis=None,\n",
    "         sort=names_l\n",
    "    )\n",
    ")\n",
    "\n",
    "# at this point we don't really have a great plot (it's missing the annotations, titles, etc.)\n",
    "unfav_bars\n"
   ]
  },
  {
   "cell_type": "code",
   "execution_count": 37,
   "metadata": {},
   "outputs": [
    {
     "output_type": "execute_result",
     "data": {
      "text/html": "\n<div id=\"altair-viz-dd4aab778c4342e597d831bb7c932a60\"></div>\n<script type=\"text/javascript\">\n  (function(spec, embedOpt){\n    let outputDiv = document.currentScript.previousElementSibling;\n    if (outputDiv.id !== \"altair-viz-dd4aab778c4342e597d831bb7c932a60\") {\n      outputDiv = document.getElementById(\"altair-viz-dd4aab778c4342e597d831bb7c932a60\");\n    }\n    const paths = {\n      \"vega\": \"https://cdn.jsdelivr.net/npm//vega@5?noext\",\n      \"vega-lib\": \"https://cdn.jsdelivr.net/npm//vega-lib?noext\",\n      \"vega-lite\": \"https://cdn.jsdelivr.net/npm//vega-lite@4.8.1?noext\",\n      \"vega-embed\": \"https://cdn.jsdelivr.net/npm//vega-embed@6?noext\",\n    };\n\n    function loadScript(lib) {\n      return new Promise(function(resolve, reject) {\n        var s = document.createElement('script');\n        s.src = paths[lib];\n        s.async = true;\n        s.onload = () => resolve(paths[lib]);\n        s.onerror = () => reject(`Error loading script: ${paths[lib]}`);\n        document.getElementsByTagName(\"head\")[0].appendChild(s);\n      });\n    }\n\n    function showError(err) {\n      outputDiv.innerHTML = `<div class=\"error\" style=\"color:red;\">${err}</div>`;\n      throw err;\n    }\n\n    function displayChart(vegaEmbed) {\n      vegaEmbed(outputDiv, spec, embedOpt)\n        .catch(err => showError(`Javascript Error: ${err.message}<br>This usually means there's a typo in your chart specification. See the javascript console for the full traceback.`));\n    }\n\n    if(typeof define === \"function\" && define.amd) {\n      requirejs.config({paths});\n      require([\"vega-embed\"], displayChart, err => showError(`Error loading script: ${err.message}`));\n    } else if (typeof vegaEmbed === \"function\") {\n      displayChart(vegaEmbed);\n    } else {\n      loadScript(\"vega\")\n        .then(() => loadScript(\"vega-lite\"))\n        .then(() => loadScript(\"vega-embed\"))\n        .catch(showError)\n        .then(() => displayChart(vegaEmbed));\n    }\n  })({\"config\": {\"view\": {\"continuousWidth\": 400, \"continuousHeight\": 300}}, \"layer\": [{\"mark\": {\"type\": \"text\", \"align\": \"left\", \"baseline\": \"middle\", \"dx\": 3}, \"encoding\": {\"text\": {\"type\": \"quantitative\", \"field\": \"Percentage\", \"format\": \".0%\"}, \"x\": {\"type\": \"quantitative\", \"axis\": null, \"field\": \"Percentage\"}, \"y\": {\"type\": \"nominal\", \"axis\": null, \"field\": \"Name\", \"sort\": [\"Luke Skywalker\", \"Han Solo\", \"Princess Leia Organa\", \"Obi Wan Kenobi\", \"Yoda\", \"R2 D2\", \"C-3P0\", \"Anakin Skywalker\", \"Darth Vader\", \"Lando Calrissian\", \"Padme Amidala\", \"Boba Fett\", \"Emperor Palpatine\", \"Jar Jar Binks\"]}}}, {\"mark\": {\"type\": \"bar\", \"color\": \"red\", \"size\": 20}, \"encoding\": {\"x\": {\"type\": \"quantitative\", \"axis\": null, \"field\": \"Percentage\"}, \"y\": {\"type\": \"nominal\", \"axis\": null, \"field\": \"Name\", \"sort\": [\"Luke Skywalker\", \"Han Solo\", \"Princess Leia Organa\", \"Obi Wan Kenobi\", \"Yoda\", \"R2 D2\", \"C-3P0\", \"Anakin Skywalker\", \"Darth Vader\", \"Lando Calrissian\", \"Padme Amidala\", \"Boba Fett\", \"Emperor Palpatine\", \"Jar Jar Binks\"]}}}], \"data\": {\"url\": \"altair-data-912120bd45f5118e1903ba1540d0644d.json\", \"format\": {\"type\": \"json\"}}, \"height\": 400, \"title\": {\"text\": [\"Unfavorable\"]}, \"width\": 50, \"$schema\": \"https://vega.github.io/schema/vega-lite/v4.8.1.json\"}, {\"mode\": \"vega-lite\"});\n</script>",
      "text/plain": [
       "alt.LayerChart(...)"
      ]
     },
     "metadata": {},
     "execution_count": 37
    }
   ],
   "source": [
    "# we're going to overlay the text with the percentages, so let's make another visualization\n",
    "# that's just text labels\n",
    "\n",
    "text = unfav_bars.mark_text(\n",
    "    align='left',\n",
    "    baseline='middle',\n",
    "    dx=3  # Nudges text to right so it doesn't appear on top of the bar\n",
    ").encode(\n",
    "    # we'll use the percentage as the text\n",
    "    text=alt.Text('Percentage:Q',format='.0%')\n",
    ")\n",
    "\n",
    "# finally, we're going to combine the bars and the text and do some styling\n",
    "unfav_movies = (text + unfav_bars).properties(\n",
    "    # set the dimensions of the visualization\n",
    "    width=50,\n",
    "    height=400\n",
    ").properties(\n",
    "    # add a title\n",
    "    title={\n",
    "    \"text\":[\"Unfavorable\"]},\n",
    ")\n",
    "\n",
    "unfav_movies\n",
    "\n",
    "# note that we are NOT formatting this in the Five Thirty Eight Style yet... we'll leave that to you to figure out"
   ]
  },
  {
   "cell_type": "code",
   "execution_count": 38,
   "metadata": {},
   "outputs": [
    {
     "output_type": "execute_result",
     "data": {
      "text/plain": [
       "                    Name  Percentage\n",
       "0         Luke Skywalker    0.007194\n",
       "1               Han Solo    0.017986\n",
       "2   Princess Leia Organa    0.009592\n",
       "3         Obi Wan Kenobi    0.020384\n",
       "4                   Yoda    0.011990\n",
       "5                  R2 D2    0.011990\n",
       "6                  C-3P0    0.017986\n",
       "7       Anakin Skywalker    0.062350\n",
       "8            Darth Vader    0.011990\n",
       "9       Lando Calrissian    0.177458\n",
       "10         Padme Amidala    0.196643\n",
       "11             Boba Fett    0.158273\n",
       "12     Emperor Palpatine    0.187050\n",
       "13         Jar Jar Binks    0.130695"
      ],
      "text/html": "<div>\n<style scoped>\n    .dataframe tbody tr th:only-of-type {\n        vertical-align: middle;\n    }\n\n    .dataframe tbody tr th {\n        vertical-align: top;\n    }\n\n    .dataframe thead th {\n        text-align: right;\n    }\n</style>\n<table border=\"1\" class=\"dataframe\">\n  <thead>\n    <tr style=\"text-align: right;\">\n      <th></th>\n      <th>Name</th>\n      <th>Percentage</th>\n    </tr>\n  </thead>\n  <tbody>\n    <tr>\n      <th>0</th>\n      <td>Luke Skywalker</td>\n      <td>0.007194</td>\n    </tr>\n    <tr>\n      <th>1</th>\n      <td>Han Solo</td>\n      <td>0.017986</td>\n    </tr>\n    <tr>\n      <th>2</th>\n      <td>Princess Leia Organa</td>\n      <td>0.009592</td>\n    </tr>\n    <tr>\n      <th>3</th>\n      <td>Obi Wan Kenobi</td>\n      <td>0.020384</td>\n    </tr>\n    <tr>\n      <th>4</th>\n      <td>Yoda</td>\n      <td>0.011990</td>\n    </tr>\n    <tr>\n      <th>5</th>\n      <td>R2 D2</td>\n      <td>0.011990</td>\n    </tr>\n    <tr>\n      <th>6</th>\n      <td>C-3P0</td>\n      <td>0.017986</td>\n    </tr>\n    <tr>\n      <th>7</th>\n      <td>Anakin Skywalker</td>\n      <td>0.062350</td>\n    </tr>\n    <tr>\n      <th>8</th>\n      <td>Darth Vader</td>\n      <td>0.011990</td>\n    </tr>\n    <tr>\n      <th>9</th>\n      <td>Lando Calrissian</td>\n      <td>0.177458</td>\n    </tr>\n    <tr>\n      <th>10</th>\n      <td>Padme Amidala</td>\n      <td>0.196643</td>\n    </tr>\n    <tr>\n      <th>11</th>\n      <td>Boba Fett</td>\n      <td>0.158273</td>\n    </tr>\n    <tr>\n      <th>12</th>\n      <td>Emperor Palpatine</td>\n      <td>0.187050</td>\n    </tr>\n    <tr>\n      <th>13</th>\n      <td>Jar Jar Binks</td>\n      <td>0.130695</td>\n    </tr>\n  </tbody>\n</table>\n</div>"
     },
     "metadata": {},
     "execution_count": 38
    }
   ],
   "source": [
    "# for each movie, we're going to calculate the percents and generate a new data frame\n",
    "percs = []\n",
    "\n",
    "# loop over each column and calculate the number of people who have seen the movie\n",
    "# specifically, filter out the people who are *NaN* for a specific episode (e.g., ep_EII), count them\n",
    "# and divide by the percent\n",
    "for actor_ep in ['fav_' + ac for ac in actors]:\n",
    "    perc = seen_at_least_one[seen_at_least_one[actor_ep] == 'Unfamiliar (N/A)'].shape[0] / total\n",
    "    percs.append(perc)\n",
    "    \n",
    "# at this point percs is holding our percentages\n",
    "\n",
    "# now we're going use a trick to make tuples--pairing names with percents--using \"zip\" and then make a dataframe\n",
    "tuples = list(zip([names[ac] for ac in actors],percs))\n",
    "unfamiliar_df = pd.DataFrame(tuples, columns = ['Name', 'Percentage'])\n",
    "unfamiliar_df"
   ]
  },
  {
   "cell_type": "code",
   "execution_count": 39,
   "metadata": {},
   "outputs": [
    {
     "output_type": "execute_result",
     "data": {
      "text/html": "\n<div id=\"altair-viz-e4113fa45d774064a8178931cd411a0d\"></div>\n<script type=\"text/javascript\">\n  (function(spec, embedOpt){\n    let outputDiv = document.currentScript.previousElementSibling;\n    if (outputDiv.id !== \"altair-viz-e4113fa45d774064a8178931cd411a0d\") {\n      outputDiv = document.getElementById(\"altair-viz-e4113fa45d774064a8178931cd411a0d\");\n    }\n    const paths = {\n      \"vega\": \"https://cdn.jsdelivr.net/npm//vega@5?noext\",\n      \"vega-lib\": \"https://cdn.jsdelivr.net/npm//vega-lib?noext\",\n      \"vega-lite\": \"https://cdn.jsdelivr.net/npm//vega-lite@4.8.1?noext\",\n      \"vega-embed\": \"https://cdn.jsdelivr.net/npm//vega-embed@6?noext\",\n    };\n\n    function loadScript(lib) {\n      return new Promise(function(resolve, reject) {\n        var s = document.createElement('script');\n        s.src = paths[lib];\n        s.async = true;\n        s.onload = () => resolve(paths[lib]);\n        s.onerror = () => reject(`Error loading script: ${paths[lib]}`);\n        document.getElementsByTagName(\"head\")[0].appendChild(s);\n      });\n    }\n\n    function showError(err) {\n      outputDiv.innerHTML = `<div class=\"error\" style=\"color:red;\">${err}</div>`;\n      throw err;\n    }\n\n    function displayChart(vegaEmbed) {\n      vegaEmbed(outputDiv, spec, embedOpt)\n        .catch(err => showError(`Javascript Error: ${err.message}<br>This usually means there's a typo in your chart specification. See the javascript console for the full traceback.`));\n    }\n\n    if(typeof define === \"function\" && define.amd) {\n      requirejs.config({paths});\n      require([\"vega-embed\"], displayChart, err => showError(`Error loading script: ${err.message}`));\n    } else if (typeof vegaEmbed === \"function\") {\n      displayChart(vegaEmbed);\n    } else {\n      loadScript(\"vega\")\n        .then(() => loadScript(\"vega-lite\"))\n        .then(() => loadScript(\"vega-embed\"))\n        .catch(showError)\n        .then(() => displayChart(vegaEmbed));\n    }\n  })({\"config\": {\"view\": {\"continuousWidth\": 400, \"continuousHeight\": 300}}, \"data\": {\"url\": \"altair-data-691674710619278e43e83ef0d50b05b0.json\", \"format\": {\"type\": \"json\"}}, \"mark\": {\"type\": \"bar\", \"color\": \"#A0A0A0\", \"size\": 20}, \"encoding\": {\"x\": {\"type\": \"quantitative\", \"axis\": null, \"field\": \"Percentage\"}, \"y\": {\"type\": \"nominal\", \"axis\": null, \"field\": \"Name\", \"sort\": [\"Luke Skywalker\", \"Han Solo\", \"Princess Leia Organa\", \"Obi Wan Kenobi\", \"Yoda\", \"R2 D2\", \"C-3P0\", \"Anakin Skywalker\", \"Darth Vader\", \"Lando Calrissian\", \"Padme Amidala\", \"Boba Fett\", \"Emperor Palpatine\", \"Jar Jar Binks\"]}}, \"$schema\": \"https://vega.github.io/schema/vega-lite/v4.8.1.json\"}, {\"mode\": \"vega-lite\"});\n</script>",
      "text/plain": [
       "alt.Chart(...)"
      ]
     },
     "metadata": {},
     "execution_count": 39
    }
   ],
   "source": [
    "# ok, time to make the chart... let's make a bar chart (use mark_bar)\n",
    "unfamiliar_bars = alt.Chart(unfamiliar_df).mark_bar(size=20, color='#A0A0A0').encode(\n",
    "    # encode x as the percent, and hide the axis\n",
    "    x=alt.X(\n",
    "        'Percentage',\n",
    "        axis=None),\n",
    "    y=alt.Y(\n",
    "        # encode y using the name, use the movie name to label the axis, sort using the names_l\n",
    "        'Name:N',\n",
    "         axis=None,\n",
    "         sort=names_l\n",
    "    )\n",
    ")\n",
    "\n",
    "# at this point we don't really have a great plot (it's missing the annotations, titles, etc.)\n",
    "unfamiliar_bars\n"
   ]
  },
  {
   "cell_type": "code",
   "execution_count": 40,
   "metadata": {},
   "outputs": [
    {
     "output_type": "execute_result",
     "data": {
      "text/html": "\n<div id=\"altair-viz-44073430e1a84991a042dad6f2d03ca3\"></div>\n<script type=\"text/javascript\">\n  (function(spec, embedOpt){\n    let outputDiv = document.currentScript.previousElementSibling;\n    if (outputDiv.id !== \"altair-viz-44073430e1a84991a042dad6f2d03ca3\") {\n      outputDiv = document.getElementById(\"altair-viz-44073430e1a84991a042dad6f2d03ca3\");\n    }\n    const paths = {\n      \"vega\": \"https://cdn.jsdelivr.net/npm//vega@5?noext\",\n      \"vega-lib\": \"https://cdn.jsdelivr.net/npm//vega-lib?noext\",\n      \"vega-lite\": \"https://cdn.jsdelivr.net/npm//vega-lite@4.8.1?noext\",\n      \"vega-embed\": \"https://cdn.jsdelivr.net/npm//vega-embed@6?noext\",\n    };\n\n    function loadScript(lib) {\n      return new Promise(function(resolve, reject) {\n        var s = document.createElement('script');\n        s.src = paths[lib];\n        s.async = true;\n        s.onload = () => resolve(paths[lib]);\n        s.onerror = () => reject(`Error loading script: ${paths[lib]}`);\n        document.getElementsByTagName(\"head\")[0].appendChild(s);\n      });\n    }\n\n    function showError(err) {\n      outputDiv.innerHTML = `<div class=\"error\" style=\"color:red;\">${err}</div>`;\n      throw err;\n    }\n\n    function displayChart(vegaEmbed) {\n      vegaEmbed(outputDiv, spec, embedOpt)\n        .catch(err => showError(`Javascript Error: ${err.message}<br>This usually means there's a typo in your chart specification. See the javascript console for the full traceback.`));\n    }\n\n    if(typeof define === \"function\" && define.amd) {\n      requirejs.config({paths});\n      require([\"vega-embed\"], displayChart, err => showError(`Error loading script: ${err.message}`));\n    } else if (typeof vegaEmbed === \"function\") {\n      displayChart(vegaEmbed);\n    } else {\n      loadScript(\"vega\")\n        .then(() => loadScript(\"vega-lite\"))\n        .then(() => loadScript(\"vega-embed\"))\n        .catch(showError)\n        .then(() => displayChart(vegaEmbed));\n    }\n  })({\"config\": {\"view\": {\"continuousWidth\": 400, \"continuousHeight\": 300}}, \"layer\": [{\"mark\": {\"type\": \"text\", \"align\": \"left\", \"baseline\": \"middle\", \"dx\": 3}, \"encoding\": {\"text\": {\"type\": \"quantitative\", \"field\": \"Percentage\", \"format\": \".0%\"}, \"x\": {\"type\": \"quantitative\", \"axis\": null, \"field\": \"Percentage\"}, \"y\": {\"type\": \"nominal\", \"axis\": null, \"field\": \"Name\", \"sort\": [\"Luke Skywalker\", \"Han Solo\", \"Princess Leia Organa\", \"Obi Wan Kenobi\", \"Yoda\", \"R2 D2\", \"C-3P0\", \"Anakin Skywalker\", \"Darth Vader\", \"Lando Calrissian\", \"Padme Amidala\", \"Boba Fett\", \"Emperor Palpatine\", \"Jar Jar Binks\"]}}}, {\"mark\": {\"type\": \"bar\", \"color\": \"#A0A0A0\", \"size\": 20}, \"encoding\": {\"x\": {\"type\": \"quantitative\", \"axis\": null, \"field\": \"Percentage\"}, \"y\": {\"type\": \"nominal\", \"axis\": null, \"field\": \"Name\", \"sort\": [\"Luke Skywalker\", \"Han Solo\", \"Princess Leia Organa\", \"Obi Wan Kenobi\", \"Yoda\", \"R2 D2\", \"C-3P0\", \"Anakin Skywalker\", \"Darth Vader\", \"Lando Calrissian\", \"Padme Amidala\", \"Boba Fett\", \"Emperor Palpatine\", \"Jar Jar Binks\"]}}}], \"data\": {\"url\": \"altair-data-691674710619278e43e83ef0d50b05b0.json\", \"format\": {\"type\": \"json\"}}, \"height\": 400, \"title\": {\"text\": [\"Unfamiliar\"]}, \"width\": 50, \"$schema\": \"https://vega.github.io/schema/vega-lite/v4.8.1.json\"}, {\"mode\": \"vega-lite\"});\n</script>",
      "text/plain": [
       "alt.LayerChart(...)"
      ]
     },
     "metadata": {},
     "execution_count": 40
    }
   ],
   "source": [
    "# we're going to overlay the text with the percentages, so let's make another visualization\n",
    "# that's just text labels\n",
    "\n",
    "text = unfamiliar_bars.mark_text(\n",
    "    align='left',\n",
    "    baseline='middle',\n",
    "    dx=3  # Nudges text to right so it doesn't appear on top of the bar\n",
    ").encode(\n",
    "    # we'll use the percentage as the text\n",
    "    text=alt.Text('Percentage:Q',format='.0%')\n",
    ")\n",
    "\n",
    "# finally, we're going to combine the bars and the text and do some styling\n",
    "unfamiliar_movies = (text + unfamiliar_bars).properties(\n",
    "    # set the dimensions of the visualization\n",
    "    width=50,\n",
    "    height=400\n",
    ").properties(\n",
    "    # add a title\n",
    "    title={\n",
    "    \"text\":[\"Unfamiliar\"]},\n",
    ")\n",
    "\n",
    "unfamiliar_movies\n",
    "\n",
    "# note that we are NOT formatting this in the Five Thirty Eight Style yet... we'll leave that to you to figure out"
   ]
  },
  {
   "cell_type": "code",
   "execution_count": 41,
   "metadata": {},
   "outputs": [
    {
     "output_type": "execute_result",
     "data": {
      "text/html": "\n<div id=\"altair-viz-fd839d33b28d43f88212c62eb43c2d04\"></div>\n<script type=\"text/javascript\">\n  (function(spec, embedOpt){\n    let outputDiv = document.currentScript.previousElementSibling;\n    if (outputDiv.id !== \"altair-viz-fd839d33b28d43f88212c62eb43c2d04\") {\n      outputDiv = document.getElementById(\"altair-viz-fd839d33b28d43f88212c62eb43c2d04\");\n    }\n    const paths = {\n      \"vega\": \"https://cdn.jsdelivr.net/npm//vega@5?noext\",\n      \"vega-lib\": \"https://cdn.jsdelivr.net/npm//vega-lib?noext\",\n      \"vega-lite\": \"https://cdn.jsdelivr.net/npm//vega-lite@4.8.1?noext\",\n      \"vega-embed\": \"https://cdn.jsdelivr.net/npm//vega-embed@6?noext\",\n    };\n\n    function loadScript(lib) {\n      return new Promise(function(resolve, reject) {\n        var s = document.createElement('script');\n        s.src = paths[lib];\n        s.async = true;\n        s.onload = () => resolve(paths[lib]);\n        s.onerror = () => reject(`Error loading script: ${paths[lib]}`);\n        document.getElementsByTagName(\"head\")[0].appendChild(s);\n      });\n    }\n\n    function showError(err) {\n      outputDiv.innerHTML = `<div class=\"error\" style=\"color:red;\">${err}</div>`;\n      throw err;\n    }\n\n    function displayChart(vegaEmbed) {\n      vegaEmbed(outputDiv, spec, embedOpt)\n        .catch(err => showError(`Javascript Error: ${err.message}<br>This usually means there's a typo in your chart specification. See the javascript console for the full traceback.`));\n    }\n\n    if(typeof define === \"function\" && define.amd) {\n      requirejs.config({paths});\n      require([\"vega-embed\"], displayChart, err => showError(`Error loading script: ${err.message}`));\n    } else if (typeof vegaEmbed === \"function\") {\n      displayChart(vegaEmbed);\n    } else {\n      loadScript(\"vega\")\n        .then(() => loadScript(\"vega-lite\"))\n        .then(() => loadScript(\"vega-embed\"))\n        .catch(showError)\n        .then(() => displayChart(vegaEmbed));\n    }\n  })({\"config\": {\"view\": {\"continuousWidth\": 400, \"continuousHeight\": 300, \"strokeWidth\": 0}, \"axis\": {\"domain\": false, \"grid\": false, \"labelFontSize\": 12, \"titleFontSize\": 12}, \"background\": \"whitesmoke\", \"legend\": {\"gradientLength\": 400, \"gradientThickness\": 30}}, \"hconcat\": [{\"layer\": [{\"mark\": {\"type\": \"text\", \"align\": \"left\", \"baseline\": \"middle\", \"dx\": 3}, \"encoding\": {\"text\": {\"type\": \"quantitative\", \"field\": \"Percentage\", \"format\": \".0%\"}, \"x\": {\"type\": \"quantitative\", \"axis\": null, \"field\": \"Percentage\"}, \"y\": {\"type\": \"nominal\", \"axis\": {\"tickCount\": 5, \"title\": \"\"}, \"field\": \"Name\", \"sort\": [\"Luke Skywalker\", \"Han Solo\", \"Princess Leia Organa\", \"Obi Wan Kenobi\", \"Yoda\", \"R2 D2\", \"C-3P0\", \"Anakin Skywalker\", \"Darth Vader\", \"Lando Calrissian\", \"Padme Amidala\", \"Boba Fett\", \"Emperor Palpatine\", \"Jar Jar Binks\"]}}}, {\"mark\": {\"type\": \"bar\", \"color\": \"#77AB43\", \"size\": 20}, \"encoding\": {\"x\": {\"type\": \"quantitative\", \"axis\": null, \"field\": \"Percentage\"}, \"y\": {\"type\": \"nominal\", \"axis\": {\"tickCount\": 5, \"title\": \"\"}, \"field\": \"Name\", \"sort\": [\"Luke Skywalker\", \"Han Solo\", \"Princess Leia Organa\", \"Obi Wan Kenobi\", \"Yoda\", \"R2 D2\", \"C-3P0\", \"Anakin Skywalker\", \"Darth Vader\", \"Lando Calrissian\", \"Padme Amidala\", \"Boba Fett\", \"Emperor Palpatine\", \"Jar Jar Binks\"]}}}], \"data\": {\"url\": \"altair-data-b4fd8b1c9280106e7a66303119540cf9.json\", \"format\": {\"type\": \"json\"}}, \"height\": 400, \"title\": {\"text\": [\"Favorable\"]}, \"width\": 50}, {\"layer\": [{\"mark\": {\"type\": \"text\", \"align\": \"left\", \"baseline\": \"middle\", \"dx\": 3}, \"encoding\": {\"text\": {\"type\": \"quantitative\", \"field\": \"Percentage\", \"format\": \".0%\"}, \"x\": {\"type\": \"quantitative\", \"axis\": null, \"field\": \"Percentage\"}, \"y\": {\"type\": \"nominal\", \"axis\": null, \"field\": \"Name\", \"sort\": [\"Luke Skywalker\", \"Han Solo\", \"Princess Leia Organa\", \"Obi Wan Kenobi\", \"Yoda\", \"R2 D2\", \"C-3P0\", \"Anakin Skywalker\", \"Darth Vader\", \"Lando Calrissian\", \"Padme Amidala\", \"Boba Fett\", \"Emperor Palpatine\", \"Jar Jar Binks\"]}}}, {\"mark\": {\"type\": \"bar\", \"color\": \"#008FD5\", \"size\": 20}, \"encoding\": {\"x\": {\"type\": \"quantitative\", \"axis\": null, \"field\": \"Percentage\"}, \"y\": {\"type\": \"nominal\", \"axis\": null, \"field\": \"Name\", \"sort\": [\"Luke Skywalker\", \"Han Solo\", \"Princess Leia Organa\", \"Obi Wan Kenobi\", \"Yoda\", \"R2 D2\", \"C-3P0\", \"Anakin Skywalker\", \"Darth Vader\", \"Lando Calrissian\", \"Padme Amidala\", \"Boba Fett\", \"Emperor Palpatine\", \"Jar Jar Binks\"]}}}], \"data\": {\"url\": \"altair-data-39df3667dca1437542e298df41bea2d8.json\", \"format\": {\"type\": \"json\"}}, \"height\": 400, \"title\": {\"text\": [\"Neutral\"]}, \"width\": 50}, {\"layer\": [{\"mark\": {\"type\": \"text\", \"align\": \"left\", \"baseline\": \"middle\", \"dx\": 3}, \"encoding\": {\"text\": {\"type\": \"quantitative\", \"field\": \"Percentage\", \"format\": \".0%\"}, \"x\": {\"type\": \"quantitative\", \"axis\": null, \"field\": \"Percentage\"}, \"y\": {\"type\": \"nominal\", \"axis\": null, \"field\": \"Name\", \"sort\": [\"Luke Skywalker\", \"Han Solo\", \"Princess Leia Organa\", \"Obi Wan Kenobi\", \"Yoda\", \"R2 D2\", \"C-3P0\", \"Anakin Skywalker\", \"Darth Vader\", \"Lando Calrissian\", \"Padme Amidala\", \"Boba Fett\", \"Emperor Palpatine\", \"Jar Jar Binks\"]}}}, {\"mark\": {\"type\": \"bar\", \"color\": \"red\", \"size\": 20}, \"encoding\": {\"x\": {\"type\": \"quantitative\", \"axis\": null, \"field\": \"Percentage\"}, \"y\": {\"type\": \"nominal\", \"axis\": null, \"field\": \"Name\", \"sort\": [\"Luke Skywalker\", \"Han Solo\", \"Princess Leia Organa\", \"Obi Wan Kenobi\", \"Yoda\", \"R2 D2\", \"C-3P0\", \"Anakin Skywalker\", \"Darth Vader\", \"Lando Calrissian\", \"Padme Amidala\", \"Boba Fett\", \"Emperor Palpatine\", \"Jar Jar Binks\"]}}}], \"data\": {\"url\": \"altair-data-912120bd45f5118e1903ba1540d0644d.json\", \"format\": {\"type\": \"json\"}}, \"height\": 400, \"title\": {\"text\": [\"Unfavorable\"]}, \"width\": 50}, {\"layer\": [{\"mark\": {\"type\": \"text\", \"align\": \"left\", \"baseline\": \"middle\", \"dx\": 3}, \"encoding\": {\"text\": {\"type\": \"quantitative\", \"field\": \"Percentage\", \"format\": \".0%\"}, \"x\": {\"type\": \"quantitative\", \"axis\": null, \"field\": \"Percentage\"}, \"y\": {\"type\": \"nominal\", \"axis\": null, \"field\": \"Name\", \"sort\": [\"Luke Skywalker\", \"Han Solo\", \"Princess Leia Organa\", \"Obi Wan Kenobi\", \"Yoda\", \"R2 D2\", \"C-3P0\", \"Anakin Skywalker\", \"Darth Vader\", \"Lando Calrissian\", \"Padme Amidala\", \"Boba Fett\", \"Emperor Palpatine\", \"Jar Jar Binks\"]}}}, {\"mark\": {\"type\": \"bar\", \"color\": \"#A0A0A0\", \"size\": 20}, \"encoding\": {\"x\": {\"type\": \"quantitative\", \"axis\": null, \"field\": \"Percentage\"}, \"y\": {\"type\": \"nominal\", \"axis\": null, \"field\": \"Name\", \"sort\": [\"Luke Skywalker\", \"Han Solo\", \"Princess Leia Organa\", \"Obi Wan Kenobi\", \"Yoda\", \"R2 D2\", \"C-3P0\", \"Anakin Skywalker\", \"Darth Vader\", \"Lando Calrissian\", \"Padme Amidala\", \"Boba Fett\", \"Emperor Palpatine\", \"Jar Jar Binks\"]}}}], \"data\": {\"url\": \"altair-data-691674710619278e43e83ef0d50b05b0.json\", \"format\": {\"type\": \"json\"}}, \"height\": 400, \"title\": {\"text\": [\"Unfamiliar\"]}, \"width\": 50}], \"title\": {\"text\": [\"'Star Wars' Characters Favorability Ratings\"], \"subtitle\": [\"By 834 respondents\", \" \", \" \"]}, \"$schema\": \"https://vega.github.io/schema/vega-lite/v4.8.1.json\"}, {\"mode\": \"vega-lite\"});\n</script>",
      "text/plain": [
       "alt.HConcatChart(...)"
      ]
     },
     "metadata": {},
     "execution_count": 41
    }
   ],
   "source": [
    "# Recreate this image using altair here (10 POINTS)\n",
    "\n",
    "# # YOUR CODE HERE\n",
    "# raise NotImplementedError()\n",
    "alt.hconcat(fav_movies, neu_movies, unfav_movies, unfamiliar_movies).properties(\n",
    "    # add a title\n",
    "    title={\n",
    "    \"text\":[\"'Star Wars' Characters Favorability Ratings\"],\n",
    "    \"subtitle\":[\"By 834 respondents\",' ',' ']}\n",
    ").configure_scale(\n",
    "    # add some padding\n",
    "    bandPaddingInner=1\n",
    ").configure(\n",
    "    # customize background color\n",
    "    background=\"whitesmoke\"\n",
    ").configure_view(\n",
    "    strokeWidth=0\n",
    ").configure_legend(\n",
    "    gradientLength=400,\n",
    "    gradientThickness=30\n",
    ").configure_axis(\n",
    "    # remove axis line\n",
    "    grid=False, domain=False,\n",
    "    titleFontSize=12,\n",
    "    labelFontSize=12  \n",
    ")"
   ]
  },
  {
   "cell_type": "markdown",
   "metadata": {},
   "source": [
    "You read that correctly. Jar Jar Binks has a lower favorability rating than the actual personification of evil in the galaxy.\n",
    "\n",
    "And for those of you who want to know the impact that [historical revisionism](http://en.wikipedia.org/wiki/Han_shot_first) can have on a society:\n",
    "\n",
    "![\"Sol1\"](assets/shot_first_article_resized.png)\n",
    "\n",
    "\n",
    "** Homework note: Click [here](assets/shot_first.png) to see a version of this plot generated in Altair. You may find that you don't get 834 rows (as 538 did) but the percents should still work."
   ]
  },
  {
   "cell_type": "markdown",
   "metadata": {},
   "source": [
    "### 2.4 Who shot first? Recreate the above image using altair (10 POINTS)"
   ]
  },
  {
   "cell_type": "code",
   "execution_count": 42,
   "metadata": {},
   "outputs": [
    {
     "output_type": "stream",
     "name": "stdout",
     "text": [
      "828 respondents\n"
     ]
    }
   ],
   "source": [
    "total = sw['Which character shot first?'].count()\n",
    "seen_any_movies = sw.dropna(subset=['seen_' + ep for ep in episodes],how='all')\n",
    "\n",
    "print(\"{} respondents\".format(total))"
   ]
  },
  {
   "cell_type": "code",
   "execution_count": 43,
   "metadata": {},
   "outputs": [
    {
     "output_type": "execute_result",
     "data": {
      "text/plain": [
       "                               Name  percentage\n",
       "0                               Han    0.392512\n",
       "1                            Greedo    0.237923\n",
       "2  I don't understand this question    0.368357"
      ],
      "text/html": "<div>\n<style scoped>\n    .dataframe tbody tr th:only-of-type {\n        vertical-align: middle;\n    }\n\n    .dataframe tbody tr th {\n        vertical-align: top;\n    }\n\n    .dataframe thead th {\n        text-align: right;\n    }\n</style>\n<table border=\"1\" class=\"dataframe\">\n  <thead>\n    <tr style=\"text-align: right;\">\n      <th></th>\n      <th>Name</th>\n      <th>percentage</th>\n    </tr>\n  </thead>\n  <tbody>\n    <tr>\n      <th>0</th>\n      <td>Han</td>\n      <td>0.392512</td>\n    </tr>\n    <tr>\n      <th>1</th>\n      <td>Greedo</td>\n      <td>0.237923</td>\n    </tr>\n    <tr>\n      <th>2</th>\n      <td>I don't understand this question</td>\n      <td>0.368357</td>\n    </tr>\n  </tbody>\n</table>\n</div>"
     },
     "metadata": {},
     "execution_count": 43
    }
   ],
   "source": [
    "# for each movie, we're going to calculate the percents and generate a new data frame\n",
    "Han = seen_any_movies[\"Which character shot first?\"] == 'Han'\n",
    "count_Han = sum(Han)\n",
    "Greedo = seen_any_movies[\"Which character shot first?\"] == 'Greedo'\n",
    "count_Greedo = sum(Greedo)\n",
    "idk = seen_any_movies[\"Which character shot first?\"] == \"I don't understand this question\"\n",
    "count_idk = sum(idk)\n",
    "# loop over each column and calculate the number of people who have seen the movie\n",
    "# specifically, filter out the people who are *NaN* for a specific episode (e.g., ep_EII), count them\n",
    "# and divide by the percent\n",
    "\n",
    "perc_Han = count_Han / total\n",
    "perc_Greedo = count_Greedo / total\n",
    "perc_idk = count_idk / total\n",
    "    \n",
    "# at this point percs is holding our percentages\n",
    "d = {'Name':[\"Han\", \"Greedo\", \"I don't understand this question\"], \"percentage\":[perc_Han, perc_Greedo, perc_idk]}\n",
    "char_df = pd.DataFrame(data=d)\n",
    "char_df"
   ]
  },
  {
   "cell_type": "code",
   "execution_count": 44,
   "metadata": {},
   "outputs": [],
   "source": [
    "names =['Han','Greedo',\"I don't understand this question\"]"
   ]
  },
  {
   "cell_type": "code",
   "execution_count": 45,
   "metadata": {},
   "outputs": [
    {
     "output_type": "execute_result",
     "data": {
      "text/html": "\n<div id=\"altair-viz-5a324254042e4b7aaab2a3a4069c8d1f\"></div>\n<script type=\"text/javascript\">\n  (function(spec, embedOpt){\n    let outputDiv = document.currentScript.previousElementSibling;\n    if (outputDiv.id !== \"altair-viz-5a324254042e4b7aaab2a3a4069c8d1f\") {\n      outputDiv = document.getElementById(\"altair-viz-5a324254042e4b7aaab2a3a4069c8d1f\");\n    }\n    const paths = {\n      \"vega\": \"https://cdn.jsdelivr.net/npm//vega@5?noext\",\n      \"vega-lib\": \"https://cdn.jsdelivr.net/npm//vega-lib?noext\",\n      \"vega-lite\": \"https://cdn.jsdelivr.net/npm//vega-lite@4.8.1?noext\",\n      \"vega-embed\": \"https://cdn.jsdelivr.net/npm//vega-embed@6?noext\",\n    };\n\n    function loadScript(lib) {\n      return new Promise(function(resolve, reject) {\n        var s = document.createElement('script');\n        s.src = paths[lib];\n        s.async = true;\n        s.onload = () => resolve(paths[lib]);\n        s.onerror = () => reject(`Error loading script: ${paths[lib]}`);\n        document.getElementsByTagName(\"head\")[0].appendChild(s);\n      });\n    }\n\n    function showError(err) {\n      outputDiv.innerHTML = `<div class=\"error\" style=\"color:red;\">${err}</div>`;\n      throw err;\n    }\n\n    function displayChart(vegaEmbed) {\n      vegaEmbed(outputDiv, spec, embedOpt)\n        .catch(err => showError(`Javascript Error: ${err.message}<br>This usually means there's a typo in your chart specification. See the javascript console for the full traceback.`));\n    }\n\n    if(typeof define === \"function\" && define.amd) {\n      requirejs.config({paths});\n      require([\"vega-embed\"], displayChart, err => showError(`Error loading script: ${err.message}`));\n    } else if (typeof vegaEmbed === \"function\") {\n      displayChart(vegaEmbed);\n    } else {\n      loadScript(\"vega\")\n        .then(() => loadScript(\"vega-lite\"))\n        .then(() => loadScript(\"vega-embed\"))\n        .catch(showError)\n        .then(() => displayChart(vegaEmbed));\n    }\n  })({\"config\": {\"view\": {\"continuousWidth\": 400, \"continuousHeight\": 300}}, \"data\": {\"url\": \"altair-data-6cb0c1ad4c1d216e7f123c5dc213e5fe.json\", \"format\": {\"type\": \"json\"}}, \"mark\": {\"type\": \"bar\", \"color\": \"#008FD5\", \"size\": 20}, \"encoding\": {\"x\": {\"type\": \"quantitative\", \"axis\": null, \"field\": \"percentage\"}, \"y\": {\"type\": \"nominal\", \"axis\": {\"tickCount\": 5, \"title\": \"\"}, \"field\": \"Name\", \"sort\": [\"Han\", \"Greedo\", \"I don't understand this question\"]}}, \"$schema\": \"https://vega.github.io/schema/vega-lite/v4.8.1.json\"}, {\"mode\": \"vega-lite\"});\n</script>",
      "text/plain": [
       "alt.Chart(...)"
      ]
     },
     "metadata": {},
     "execution_count": 45
    }
   ],
   "source": [
    "# ok, time to make the chart... let's make a bar chart (use mark_bar)\n",
    "shot_first_bars = alt.Chart(char_df).mark_bar(size=20, color='#008FD5').encode(\n",
    "    # encode x as the percent, and hide the axis\n",
    "    x=alt.X(\n",
    "        'percentage',\n",
    "        axis=None),\n",
    "    y=alt.Y(\n",
    "        # encode y using the name, use the movie name to label the axis, sort using the names_l\n",
    "        'Name:N',\n",
    "         axis=alt.Axis(tickCount=5, title=''),\n",
    "         sort=names\n",
    "    )\n",
    ")\n",
    "\n",
    "# at this point we don't really have a great plot (it's missing the annotations, titles, etc.)\n",
    "shot_first_bars\n"
   ]
  },
  {
   "cell_type": "code",
   "execution_count": 46,
   "metadata": {},
   "outputs": [
    {
     "output_type": "execute_result",
     "data": {
      "text/html": "\n<div id=\"altair-viz-d704c1f3d51344c9ab621ac8ad6f927f\"></div>\n<script type=\"text/javascript\">\n  (function(spec, embedOpt){\n    let outputDiv = document.currentScript.previousElementSibling;\n    if (outputDiv.id !== \"altair-viz-d704c1f3d51344c9ab621ac8ad6f927f\") {\n      outputDiv = document.getElementById(\"altair-viz-d704c1f3d51344c9ab621ac8ad6f927f\");\n    }\n    const paths = {\n      \"vega\": \"https://cdn.jsdelivr.net/npm//vega@5?noext\",\n      \"vega-lib\": \"https://cdn.jsdelivr.net/npm//vega-lib?noext\",\n      \"vega-lite\": \"https://cdn.jsdelivr.net/npm//vega-lite@4.8.1?noext\",\n      \"vega-embed\": \"https://cdn.jsdelivr.net/npm//vega-embed@6?noext\",\n    };\n\n    function loadScript(lib) {\n      return new Promise(function(resolve, reject) {\n        var s = document.createElement('script');\n        s.src = paths[lib];\n        s.async = true;\n        s.onload = () => resolve(paths[lib]);\n        s.onerror = () => reject(`Error loading script: ${paths[lib]}`);\n        document.getElementsByTagName(\"head\")[0].appendChild(s);\n      });\n    }\n\n    function showError(err) {\n      outputDiv.innerHTML = `<div class=\"error\" style=\"color:red;\">${err}</div>`;\n      throw err;\n    }\n\n    function displayChart(vegaEmbed) {\n      vegaEmbed(outputDiv, spec, embedOpt)\n        .catch(err => showError(`Javascript Error: ${err.message}<br>This usually means there's a typo in your chart specification. See the javascript console for the full traceback.`));\n    }\n\n    if(typeof define === \"function\" && define.amd) {\n      requirejs.config({paths});\n      require([\"vega-embed\"], displayChart, err => showError(`Error loading script: ${err.message}`));\n    } else if (typeof vegaEmbed === \"function\") {\n      displayChart(vegaEmbed);\n    } else {\n      loadScript(\"vega\")\n        .then(() => loadScript(\"vega-lite\"))\n        .then(() => loadScript(\"vega-embed\"))\n        .catch(showError)\n        .then(() => displayChart(vegaEmbed));\n    }\n  })({\"config\": {\"view\": {\"continuousWidth\": 400, \"continuousHeight\": 300, \"strokeWidth\": 0}, \"axis\": {\"domain\": false, \"grid\": false}, \"background\": \"whitesmoke\", \"title\": {\"anchor\": \"start\", \"fontSize\": 20}}, \"layer\": [{\"mark\": {\"type\": \"text\", \"align\": \"left\", \"baseline\": \"middle\", \"dx\": 3}, \"encoding\": {\"text\": {\"type\": \"quantitative\", \"field\": \"percentage\", \"format\": \".0%\"}, \"x\": {\"type\": \"quantitative\", \"axis\": null, \"field\": \"percentage\"}, \"y\": {\"type\": \"nominal\", \"axis\": {\"tickCount\": 5, \"title\": \"\"}, \"field\": \"Name\", \"sort\": [\"Han\", \"Greedo\", \"I don't understand this question\"]}}}, {\"mark\": {\"type\": \"bar\", \"color\": \"#008FD5\", \"size\": 20}, \"encoding\": {\"x\": {\"type\": \"quantitative\", \"axis\": null, \"field\": \"percentage\"}, \"y\": {\"type\": \"nominal\", \"axis\": {\"tickCount\": 5, \"title\": \"\"}, \"field\": \"Name\", \"sort\": [\"Han\", \"Greedo\", \"I don't understand this question\"]}}}], \"data\": {\"url\": \"altair-data-6cb0c1ad4c1d216e7f123c5dc213e5fe.json\", \"format\": {\"type\": \"json\"}}, \"height\": 100, \"title\": {\"text\": [\"Who shot first?\"], \"subtitle\": [\"By 828 respondents\", \" \"]}, \"width\": 500, \"$schema\": \"https://vega.github.io/schema/vega-lite/v4.8.1.json\"}, {\"mode\": \"vega-lite\"});\n</script>",
      "text/plain": [
       "alt.LayerChart(...)"
      ]
     },
     "metadata": {},
     "execution_count": 46
    }
   ],
   "source": [
    "# Recreate this image using altair here (10 POINTS)\n",
    "\n",
    "# YOUR CODE HERE\n",
    "# raise NotImplementedError()\n",
    "\n",
    "text = shot_first_bars.mark_text(\n",
    "    align='left',\n",
    "    baseline='middle',\n",
    "    dx=3  # Nudges text to right so it doesn't appear on top of the bar\n",
    ").encode(\n",
    "    # we'll use the percentage as the text\n",
    "    text=alt.Text('percentage:Q',format='.0%')\n",
    ")\n",
    "\n",
    "# finally, we're going to combine the bars and the text and do some styling\n",
    "shot_first_movies = (text + shot_first_bars).configure_mark(\n",
    "    # we don't love the blue\n",
    "    color='#008FD5'\n",
    ").configure_scale(\n",
    "    # add some padding\n",
    "    bandPaddingInner=0.1\n",
    ").properties(\n",
    "    # set the dimensions of the visualization\n",
    "    width=500,\n",
    "    height=100,\n",
    "    # add a title\n",
    "    title={\n",
    "    \"text\":[\"Who shot first?\"],\n",
    "    \"subtitle\":[\"By 828 respondents\",' ']}\n",
    ").configure(\n",
    "    # customize background color\n",
    "    background=\"whitesmoke\"\n",
    ").configure_title(\n",
    "    fontSize=20, anchor='start'\n",
    ").configure_view(\n",
    "    # we don't want a stroke around the bars\n",
    "    strokeWidth=0\n",
    ").configure_axis(\n",
    "    # remove axis line\n",
    "    grid=False, domain=False\n",
    ")\n",
    "\n",
    "shot_first_movies\n",
    "\n",
    "# note that we are NOT formatting this in the Five Thirty Eight Style yet... we'll leave that to you to figure out"
   ]
  },
  {
   "cell_type": "code",
   "execution_count": 47,
   "metadata": {},
   "outputs": [
    {
     "output_type": "stream",
     "name": "stdout",
     "text": [
      "828\n"
     ]
    }
   ],
   "source": [
    "print(total)"
   ]
  },
  {
   "cell_type": "markdown",
   "metadata": {},
   "source": [
    "### 2.5.1 Make your own (15 points/ 10 points plot + 5 justification)\n",
    "\n",
    "Propose and code an alternative visualization for one of the visualizations *already in the article*. Add a short paragraph describing why your visualization is more (or less) *effective* based on principles of perception/cognition. \n",
    "\n",
    "If you feel your visualization is worse, that's ok! Just tell us why."
   ]
  },
  {
   "cell_type": "code",
   "execution_count": 48,
   "metadata": {},
   "outputs": [
    {
     "output_type": "stream",
     "name": "stdout",
     "text": [
      "sort order:  ['The Phantom Meanance', 'Attack of the clones', 'Revenge of the Sith', 'A New Hope', 'The Empire Strikes Back', 'The Return of the Jedi']\n"
     ]
    }
   ],
   "source": [
    "# Sample visualization\n",
    "\n",
    "# We're going to fix the labels a bit so will create a mapping to the full names\n",
    "episodes = ['EI', 'EII', 'EIII', 'EIV', 'EV', 'EVI']\n",
    "names = {\n",
    "    'EI' : 'The Phantom Meanance', 'EII' : 'Attack of the clones', 'EIII' : 'Revenge of the Sith', \n",
    "    'EIV': 'A New Hope', 'EV': 'The Empire Strikes Back', 'EVI' : 'The Return of the Jedi'\n",
    "}\n",
    "\n",
    "# we're also going to use this order to sort, so names_l will now have our sort order\n",
    "names_l = [names[ep] for ep in episodes]\n",
    "\n",
    "print(\"sort order: \",names_l)"
   ]
  },
  {
   "cell_type": "code",
   "execution_count": 49,
   "metadata": {},
   "outputs": [
    {
     "output_type": "execute_result",
     "data": {
      "text/plain": [
       "                       Name  Gender  percentage\n",
       "0      The Phantom Meanance    Male    0.125265\n",
       "1      The Phantom Meanance  Female    0.193206\n",
       "2      Attack of the clones    Male    0.116773\n",
       "3      Attack of the clones  Female    0.369427\n",
       "4       Revenge of the Sith    Male    0.080679\n",
       "5       Revenge of the Sith  Female    0.475584\n",
       "6                A New Hope    Male    0.012739\n",
       "7                A New Hope  Female    0.316348\n",
       "8   The Empire Strikes Back    Male    0.019108\n",
       "9   The Empire Strikes Back  Female    0.184713\n",
       "10   The Return of the Jedi    Male    0.023355\n",
       "11   The Return of the Jedi  Female    0.212314"
      ],
      "text/html": "<div>\n<style scoped>\n    .dataframe tbody tr th:only-of-type {\n        vertical-align: middle;\n    }\n\n    .dataframe tbody tr th {\n        vertical-align: top;\n    }\n\n    .dataframe thead th {\n        text-align: right;\n    }\n</style>\n<table border=\"1\" class=\"dataframe\">\n  <thead>\n    <tr style=\"text-align: right;\">\n      <th></th>\n      <th>Name</th>\n      <th>Gender</th>\n      <th>percentage</th>\n    </tr>\n  </thead>\n  <tbody>\n    <tr>\n      <th>0</th>\n      <td>The Phantom Meanance</td>\n      <td>Male</td>\n      <td>0.125265</td>\n    </tr>\n    <tr>\n      <th>1</th>\n      <td>The Phantom Meanance</td>\n      <td>Female</td>\n      <td>0.193206</td>\n    </tr>\n    <tr>\n      <th>2</th>\n      <td>Attack of the clones</td>\n      <td>Male</td>\n      <td>0.116773</td>\n    </tr>\n    <tr>\n      <th>3</th>\n      <td>Attack of the clones</td>\n      <td>Female</td>\n      <td>0.369427</td>\n    </tr>\n    <tr>\n      <th>4</th>\n      <td>Revenge of the Sith</td>\n      <td>Male</td>\n      <td>0.080679</td>\n    </tr>\n    <tr>\n      <th>5</th>\n      <td>Revenge of the Sith</td>\n      <td>Female</td>\n      <td>0.475584</td>\n    </tr>\n    <tr>\n      <th>6</th>\n      <td>A New Hope</td>\n      <td>Male</td>\n      <td>0.012739</td>\n    </tr>\n    <tr>\n      <th>7</th>\n      <td>A New Hope</td>\n      <td>Female</td>\n      <td>0.316348</td>\n    </tr>\n    <tr>\n      <th>8</th>\n      <td>The Empire Strikes Back</td>\n      <td>Male</td>\n      <td>0.019108</td>\n    </tr>\n    <tr>\n      <th>9</th>\n      <td>The Empire Strikes Back</td>\n      <td>Female</td>\n      <td>0.184713</td>\n    </tr>\n    <tr>\n      <th>10</th>\n      <td>The Return of the Jedi</td>\n      <td>Male</td>\n      <td>0.023355</td>\n    </tr>\n    <tr>\n      <th>11</th>\n      <td>The Return of the Jedi</td>\n      <td>Female</td>\n      <td>0.212314</td>\n    </tr>\n  </tbody>\n</table>\n</div>"
     },
     "metadata": {},
     "execution_count": 49
    }
   ],
   "source": [
    "bot3_gender = pd.DataFrame({'Name':['The Phantom Meanance','The Phantom Meanance', 'Attack of the clones','Attack of the clones', 'Revenge of the Sith','Revenge of the Sith', 'A New Hope','A New Hope', 'The Empire Strikes Back','The Empire Strikes Back', 'The Return of the Jedi', 'The Return of the Jedi'], 'Gender':['Male','Female','Male','Female','Male','Female','Male','Female','Male','Female','Male','Female'], 'percentage':[0.125265, 0.193206, 0.116773, 0.369427, 0.080679, 0.475584, 0.012739, 0.316348, 0.019108, 0.184713, 0.023355, 0.212314]})\n",
    "bot3_gender"
   ]
  },
  {
   "cell_type": "code",
   "execution_count": 50,
   "metadata": {},
   "outputs": [
    {
     "output_type": "execute_result",
     "data": {
      "text/plain": [
       "                       Name  Gender  percentage\n",
       "0      The Phantom Meanance    Male    0.046709\n",
       "1      The Phantom Meanance  Female    0.433121\n",
       "2      Attack of the clones    Male    0.053079\n",
       "3      Attack of the clones  Female    0.343949\n",
       "4       Revenge of the Sith    Male    0.093418\n",
       "5       Revenge of the Sith  Female    0.316348\n",
       "6                A New Hope    Male    0.059448\n",
       "7                A New Hope  Female    0.265393\n",
       "8   The Empire Strikes Back    Male    0.027601\n",
       "9   The Empire Strikes Back  Female    0.146497\n",
       "10   The Return of the Jedi    Male    0.097665\n",
       "11   The Return of the Jedi  Female    0.248408"
      ],
      "text/html": "<div>\n<style scoped>\n    .dataframe tbody tr th:only-of-type {\n        vertical-align: middle;\n    }\n\n    .dataframe tbody tr th {\n        vertical-align: top;\n    }\n\n    .dataframe thead th {\n        text-align: right;\n    }\n</style>\n<table border=\"1\" class=\"dataframe\">\n  <thead>\n    <tr style=\"text-align: right;\">\n      <th></th>\n      <th>Name</th>\n      <th>Gender</th>\n      <th>percentage</th>\n    </tr>\n  </thead>\n  <tbody>\n    <tr>\n      <th>0</th>\n      <td>The Phantom Meanance</td>\n      <td>Male</td>\n      <td>0.046709</td>\n    </tr>\n    <tr>\n      <th>1</th>\n      <td>The Phantom Meanance</td>\n      <td>Female</td>\n      <td>0.433121</td>\n    </tr>\n    <tr>\n      <th>2</th>\n      <td>Attack of the clones</td>\n      <td>Male</td>\n      <td>0.053079</td>\n    </tr>\n    <tr>\n      <th>3</th>\n      <td>Attack of the clones</td>\n      <td>Female</td>\n      <td>0.343949</td>\n    </tr>\n    <tr>\n      <th>4</th>\n      <td>Revenge of the Sith</td>\n      <td>Male</td>\n      <td>0.093418</td>\n    </tr>\n    <tr>\n      <th>5</th>\n      <td>Revenge of the Sith</td>\n      <td>Female</td>\n      <td>0.316348</td>\n    </tr>\n    <tr>\n      <th>6</th>\n      <td>A New Hope</td>\n      <td>Male</td>\n      <td>0.059448</td>\n    </tr>\n    <tr>\n      <th>7</th>\n      <td>A New Hope</td>\n      <td>Female</td>\n      <td>0.265393</td>\n    </tr>\n    <tr>\n      <th>8</th>\n      <td>The Empire Strikes Back</td>\n      <td>Male</td>\n      <td>0.027601</td>\n    </tr>\n    <tr>\n      <th>9</th>\n      <td>The Empire Strikes Back</td>\n      <td>Female</td>\n      <td>0.146497</td>\n    </tr>\n    <tr>\n      <th>10</th>\n      <td>The Return of the Jedi</td>\n      <td>Male</td>\n      <td>0.097665</td>\n    </tr>\n    <tr>\n      <th>11</th>\n      <td>The Return of the Jedi</td>\n      <td>Female</td>\n      <td>0.248408</td>\n    </tr>\n  </tbody>\n</table>\n</div>"
     },
     "metadata": {},
     "execution_count": 50
    }
   ],
   "source": [
    "mid3_gender = pd.DataFrame({'Name':['The Phantom Meanance','The Phantom Meanance', 'Attack of the clones','Attack of the clones', 'Revenge of the Sith','Revenge of the Sith', 'A New Hope','A New Hope', 'The Empire Strikes Back','The Empire Strikes Back', 'The Return of the Jedi', 'The Return of the Jedi'], 'Gender':['Male','Female','Male','Female','Male','Female','Male','Female','Male','Female','Male','Female'], 'percentage':[0.046709, 0.433121, 0.053079, 0.343949, 0.093418, 0.316348, 0.059448, 0.265393, 0.027601, 0.146497, 0.097665, 0.248408]})\n",
    "mid3_gender"
   ]
  },
  {
   "cell_type": "code",
   "execution_count": 51,
   "metadata": {},
   "outputs": [
    {
     "output_type": "execute_result",
     "data": {
      "text/plain": [
       "                       Name  Gender  percentage\n",
       "0      The Phantom Meanance    Male    0.016985\n",
       "1      The Phantom Meanance  Female    0.027601\n",
       "2      Attack of the clones    Male    0.019108\n",
       "3      Attack of the clones  Female    0.021231\n",
       "4       Revenge of the Sith    Male    0.014862\n",
       "5       Revenge of the Sith  Female    0.016985\n",
       "6                A New Hope    Male    0.116773\n",
       "7                A New Hope  Female    0.036093\n",
       "8   The Empire Strikes Back    Male    0.142251\n",
       "9   The Empire Strikes Back  Female    0.050955\n",
       "10   The Return of the Jedi    Male    0.067941\n",
       "11   The Return of the Jedi  Female    0.029724"
      ],
      "text/html": "<div>\n<style scoped>\n    .dataframe tbody tr th:only-of-type {\n        vertical-align: middle;\n    }\n\n    .dataframe tbody tr th {\n        vertical-align: top;\n    }\n\n    .dataframe thead th {\n        text-align: right;\n    }\n</style>\n<table border=\"1\" class=\"dataframe\">\n  <thead>\n    <tr style=\"text-align: right;\">\n      <th></th>\n      <th>Name</th>\n      <th>Gender</th>\n      <th>percentage</th>\n    </tr>\n  </thead>\n  <tbody>\n    <tr>\n      <th>0</th>\n      <td>The Phantom Meanance</td>\n      <td>Male</td>\n      <td>0.016985</td>\n    </tr>\n    <tr>\n      <th>1</th>\n      <td>The Phantom Meanance</td>\n      <td>Female</td>\n      <td>0.027601</td>\n    </tr>\n    <tr>\n      <th>2</th>\n      <td>Attack of the clones</td>\n      <td>Male</td>\n      <td>0.019108</td>\n    </tr>\n    <tr>\n      <th>3</th>\n      <td>Attack of the clones</td>\n      <td>Female</td>\n      <td>0.021231</td>\n    </tr>\n    <tr>\n      <th>4</th>\n      <td>Revenge of the Sith</td>\n      <td>Male</td>\n      <td>0.014862</td>\n    </tr>\n    <tr>\n      <th>5</th>\n      <td>Revenge of the Sith</td>\n      <td>Female</td>\n      <td>0.016985</td>\n    </tr>\n    <tr>\n      <th>6</th>\n      <td>A New Hope</td>\n      <td>Male</td>\n      <td>0.116773</td>\n    </tr>\n    <tr>\n      <th>7</th>\n      <td>A New Hope</td>\n      <td>Female</td>\n      <td>0.036093</td>\n    </tr>\n    <tr>\n      <th>8</th>\n      <td>The Empire Strikes Back</td>\n      <td>Male</td>\n      <td>0.142251</td>\n    </tr>\n    <tr>\n      <th>9</th>\n      <td>The Empire Strikes Back</td>\n      <td>Female</td>\n      <td>0.050955</td>\n    </tr>\n    <tr>\n      <th>10</th>\n      <td>The Return of the Jedi</td>\n      <td>Male</td>\n      <td>0.067941</td>\n    </tr>\n    <tr>\n      <th>11</th>\n      <td>The Return of the Jedi</td>\n      <td>Female</td>\n      <td>0.029724</td>\n    </tr>\n  </tbody>\n</table>\n</div>"
     },
     "metadata": {},
     "execution_count": 51
    }
   ],
   "source": [
    "top3_gender = pd.DataFrame({'Name':['The Phantom Meanance','The Phantom Meanance', 'Attack of the clones','Attack of the clones', 'Revenge of the Sith','Revenge of the Sith', 'A New Hope','A New Hope', 'The Empire Strikes Back','The Empire Strikes Back', 'The Return of the Jedi', 'The Return of the Jedi'], 'Gender':['Male','Female','Male','Female','Male','Female','Male','Female','Male','Female','Male','Female'], 'percentage':[0.016985, 0.027601, 0.019108, 0.021231, 0.014862, 0.016985, 0.116773, 0.036093, 0.142251, 0.050955, 0.067941, 0.029724]})\n",
    "top3_gender"
   ]
  },
  {
   "cell_type": "code",
   "execution_count": 52,
   "metadata": {},
   "outputs": [
    {
     "output_type": "execute_result",
     "data": {
      "text/html": "\n<div id=\"altair-viz-4d1d036155f04aa9aa03c62ec923f4b4\"></div>\n<script type=\"text/javascript\">\n  (function(spec, embedOpt){\n    let outputDiv = document.currentScript.previousElementSibling;\n    if (outputDiv.id !== \"altair-viz-4d1d036155f04aa9aa03c62ec923f4b4\") {\n      outputDiv = document.getElementById(\"altair-viz-4d1d036155f04aa9aa03c62ec923f4b4\");\n    }\n    const paths = {\n      \"vega\": \"https://cdn.jsdelivr.net/npm//vega@5?noext\",\n      \"vega-lib\": \"https://cdn.jsdelivr.net/npm//vega-lib?noext\",\n      \"vega-lite\": \"https://cdn.jsdelivr.net/npm//vega-lite@4.8.1?noext\",\n      \"vega-embed\": \"https://cdn.jsdelivr.net/npm//vega-embed@6?noext\",\n    };\n\n    function loadScript(lib) {\n      return new Promise(function(resolve, reject) {\n        var s = document.createElement('script');\n        s.src = paths[lib];\n        s.async = true;\n        s.onload = () => resolve(paths[lib]);\n        s.onerror = () => reject(`Error loading script: ${paths[lib]}`);\n        document.getElementsByTagName(\"head\")[0].appendChild(s);\n      });\n    }\n\n    function showError(err) {\n      outputDiv.innerHTML = `<div class=\"error\" style=\"color:red;\">${err}</div>`;\n      throw err;\n    }\n\n    function displayChart(vegaEmbed) {\n      vegaEmbed(outputDiv, spec, embedOpt)\n        .catch(err => showError(`Javascript Error: ${err.message}<br>This usually means there's a typo in your chart specification. See the javascript console for the full traceback.`));\n    }\n\n    if(typeof define === \"function\" && define.amd) {\n      requirejs.config({paths});\n      require([\"vega-embed\"], displayChart, err => showError(`Error loading script: ${err.message}`));\n    } else if (typeof vegaEmbed === \"function\") {\n      displayChart(vegaEmbed);\n    } else {\n      loadScript(\"vega\")\n        .then(() => loadScript(\"vega-lite\"))\n        .then(() => loadScript(\"vega-embed\"))\n        .catch(showError)\n        .then(() => displayChart(vegaEmbed));\n    }\n  })({\"config\": {\"view\": {\"continuousWidth\": 400, \"continuousHeight\": 300}}, \"layer\": [{\"mark\": \"bar\", \"encoding\": {\"color\": {\"type\": \"nominal\", \"field\": \"Gender\", \"title\": \"Gender\"}, \"x\": {\"type\": \"nominal\", \"field\": \"Name\", \"sort\": [\"The Phantom Meanance\", \"Attack of the clones\", \"Revenge of the Sith\", \"A New Hope\", \"The Empire Strikes Back\", \"The Return of the Jedi\"], \"title\": \"Movie Name\"}, \"y\": {\"type\": \"quantitative\", \"axis\": null, \"field\": \"percentage\", \"title\": \"Percentage\"}}, \"height\": 400, \"width\": 150}, {\"mark\": {\"type\": \"text\", \"color\": \"black\"}, \"encoding\": {\"text\": {\"type\": \"quantitative\", \"field\": \"percentage\", \"format\": \".0%\"}, \"x\": {\"type\": \"nominal\", \"field\": \"Name\"}, \"y\": {\"type\": \"quantitative\", \"field\": \"percentage\", \"stack\": \"zero\"}}}], \"data\": {\"url\": \"altair-data-784fdf6fd6e9cc3b3e5e471ce5f4e140.json\", \"format\": {\"type\": \"json\"}}, \"title\": [\"Top Third\"], \"$schema\": \"https://vega.github.io/schema/vega-lite/v4.8.1.json\"}, {\"mode\": \"vega-lite\"});\n</script>",
      "text/plain": [
       "alt.LayerChart(...)"
      ]
     },
     "metadata": {},
     "execution_count": 52
    }
   ],
   "source": [
    "bar = alt.Chart(top3_gender).mark_bar().encode(\n",
    "    x=alt.X('Name',title='Movie Name',sort=names_l),\n",
    "    y=alt.Y('percentage:Q',title='Percentage',axis=None),\n",
    "    color=alt.Color('Gender', title='Gender')\n",
    ").properties(height=400, width=150)\n",
    "\n",
    "text = alt.Chart(top3_gender).mark_text(color='black').encode(\n",
    "    x=alt.X('Name:N'),\n",
    "    y=alt.Y('percentage:Q', stack='zero'),\n",
    "    text=alt.Text('percentage',format='.0%')\n",
    ")\n",
    "\n",
    "top3_bygender=(bar + text).properties(\n",
    "    title=['Top Third']\n",
    ")\n",
    "top3_bygender"
   ]
  },
  {
   "cell_type": "code",
   "execution_count": 53,
   "metadata": {},
   "outputs": [
    {
     "output_type": "execute_result",
     "data": {
      "text/html": "\n<div id=\"altair-viz-633d0675ff114f959abbdbf6da1790c2\"></div>\n<script type=\"text/javascript\">\n  (function(spec, embedOpt){\n    let outputDiv = document.currentScript.previousElementSibling;\n    if (outputDiv.id !== \"altair-viz-633d0675ff114f959abbdbf6da1790c2\") {\n      outputDiv = document.getElementById(\"altair-viz-633d0675ff114f959abbdbf6da1790c2\");\n    }\n    const paths = {\n      \"vega\": \"https://cdn.jsdelivr.net/npm//vega@5?noext\",\n      \"vega-lib\": \"https://cdn.jsdelivr.net/npm//vega-lib?noext\",\n      \"vega-lite\": \"https://cdn.jsdelivr.net/npm//vega-lite@4.8.1?noext\",\n      \"vega-embed\": \"https://cdn.jsdelivr.net/npm//vega-embed@6?noext\",\n    };\n\n    function loadScript(lib) {\n      return new Promise(function(resolve, reject) {\n        var s = document.createElement('script');\n        s.src = paths[lib];\n        s.async = true;\n        s.onload = () => resolve(paths[lib]);\n        s.onerror = () => reject(`Error loading script: ${paths[lib]}`);\n        document.getElementsByTagName(\"head\")[0].appendChild(s);\n      });\n    }\n\n    function showError(err) {\n      outputDiv.innerHTML = `<div class=\"error\" style=\"color:red;\">${err}</div>`;\n      throw err;\n    }\n\n    function displayChart(vegaEmbed) {\n      vegaEmbed(outputDiv, spec, embedOpt)\n        .catch(err => showError(`Javascript Error: ${err.message}<br>This usually means there's a typo in your chart specification. See the javascript console for the full traceback.`));\n    }\n\n    if(typeof define === \"function\" && define.amd) {\n      requirejs.config({paths});\n      require([\"vega-embed\"], displayChart, err => showError(`Error loading script: ${err.message}`));\n    } else if (typeof vegaEmbed === \"function\") {\n      displayChart(vegaEmbed);\n    } else {\n      loadScript(\"vega\")\n        .then(() => loadScript(\"vega-lite\"))\n        .then(() => loadScript(\"vega-embed\"))\n        .catch(showError)\n        .then(() => displayChart(vegaEmbed));\n    }\n  })({\"config\": {\"view\": {\"continuousWidth\": 400, \"continuousHeight\": 300}}, \"layer\": [{\"mark\": \"bar\", \"encoding\": {\"color\": {\"type\": \"nominal\", \"field\": \"Gender\"}, \"x\": {\"type\": \"nominal\", \"field\": \"Name\", \"title\": \"Movie Name\"}, \"y\": {\"type\": \"quantitative\", \"axis\": null, \"field\": \"percentage\", \"title\": \"Percentage\"}}, \"height\": 400, \"width\": 150}, {\"mark\": {\"type\": \"text\", \"color\": \"black\"}, \"encoding\": {\"text\": {\"type\": \"quantitative\", \"field\": \"percentage\", \"format\": \".0%\"}, \"x\": {\"type\": \"nominal\", \"field\": \"Name\"}, \"y\": {\"type\": \"quantitative\", \"field\": \"percentage\", \"stack\": \"zero\"}}}], \"data\": {\"url\": \"altair-data-5f03fbcb186cf5c784ce873f2ba84ed0.json\", \"format\": {\"type\": \"json\"}}, \"title\": [\"Middle Third\"], \"$schema\": \"https://vega.github.io/schema/vega-lite/v4.8.1.json\"}, {\"mode\": \"vega-lite\"});\n</script>",
      "text/plain": [
       "alt.LayerChart(...)"
      ]
     },
     "metadata": {},
     "execution_count": 53
    }
   ],
   "source": [
    "bar = alt.Chart(mid3_gender).mark_bar().encode(\n",
    "    x=alt.X('Name',title='Movie Name'),\n",
    "    y=alt.Y('percentage:Q',axis=None,title='Percentage',),\n",
    "    color='Gender'\n",
    ").properties(height=400, width=150)\n",
    "\n",
    "text = alt.Chart(mid3_gender).mark_text(color='black').encode(\n",
    "    x=alt.X('Name:N'),\n",
    "    y=alt.Y('percentage:Q', stack='zero'),\n",
    "    text=alt.Text('percentage',format='.0%')\n",
    ")\n",
    "\n",
    "mid3_bygender=(bar + text).properties(\n",
    "    title=['Middle Third']\n",
    ")\n",
    "mid3_bygender"
   ]
  },
  {
   "cell_type": "code",
   "execution_count": 54,
   "metadata": {},
   "outputs": [
    {
     "output_type": "execute_result",
     "data": {
      "text/html": "\n<div id=\"altair-viz-238805fe7b7f40f1844e9ae973c320ef\"></div>\n<script type=\"text/javascript\">\n  (function(spec, embedOpt){\n    let outputDiv = document.currentScript.previousElementSibling;\n    if (outputDiv.id !== \"altair-viz-238805fe7b7f40f1844e9ae973c320ef\") {\n      outputDiv = document.getElementById(\"altair-viz-238805fe7b7f40f1844e9ae973c320ef\");\n    }\n    const paths = {\n      \"vega\": \"https://cdn.jsdelivr.net/npm//vega@5?noext\",\n      \"vega-lib\": \"https://cdn.jsdelivr.net/npm//vega-lib?noext\",\n      \"vega-lite\": \"https://cdn.jsdelivr.net/npm//vega-lite@4.8.1?noext\",\n      \"vega-embed\": \"https://cdn.jsdelivr.net/npm//vega-embed@6?noext\",\n    };\n\n    function loadScript(lib) {\n      return new Promise(function(resolve, reject) {\n        var s = document.createElement('script');\n        s.src = paths[lib];\n        s.async = true;\n        s.onload = () => resolve(paths[lib]);\n        s.onerror = () => reject(`Error loading script: ${paths[lib]}`);\n        document.getElementsByTagName(\"head\")[0].appendChild(s);\n      });\n    }\n\n    function showError(err) {\n      outputDiv.innerHTML = `<div class=\"error\" style=\"color:red;\">${err}</div>`;\n      throw err;\n    }\n\n    function displayChart(vegaEmbed) {\n      vegaEmbed(outputDiv, spec, embedOpt)\n        .catch(err => showError(`Javascript Error: ${err.message}<br>This usually means there's a typo in your chart specification. See the javascript console for the full traceback.`));\n    }\n\n    if(typeof define === \"function\" && define.amd) {\n      requirejs.config({paths});\n      require([\"vega-embed\"], displayChart, err => showError(`Error loading script: ${err.message}`));\n    } else if (typeof vegaEmbed === \"function\") {\n      displayChart(vegaEmbed);\n    } else {\n      loadScript(\"vega\")\n        .then(() => loadScript(\"vega-lite\"))\n        .then(() => loadScript(\"vega-embed\"))\n        .catch(showError)\n        .then(() => displayChart(vegaEmbed));\n    }\n  })({\"config\": {\"view\": {\"continuousWidth\": 400, \"continuousHeight\": 300}}, \"layer\": [{\"mark\": \"bar\", \"encoding\": {\"color\": {\"type\": \"nominal\", \"field\": \"Gender\"}, \"x\": {\"type\": \"nominal\", \"field\": \"Name\", \"title\": \"Movie Name\"}, \"y\": {\"type\": \"quantitative\", \"axis\": null, \"field\": \"percentage\", \"title\": \"Percentage\"}}, \"height\": 400, \"width\": 150}, {\"mark\": {\"type\": \"text\", \"color\": \"black\"}, \"encoding\": {\"text\": {\"type\": \"quantitative\", \"field\": \"percentage\", \"format\": \".0%\"}, \"x\": {\"type\": \"nominal\", \"field\": \"Name\"}, \"y\": {\"type\": \"quantitative\", \"field\": \"percentage\", \"stack\": \"zero\"}}}], \"data\": {\"url\": \"altair-data-9c204a1f5a446f3742ec7d4e0e163211.json\", \"format\": {\"type\": \"json\"}}, \"title\": [\"Bottom Third\"], \"$schema\": \"https://vega.github.io/schema/vega-lite/v4.8.1.json\"}, {\"mode\": \"vega-lite\"});\n</script>",
      "text/plain": [
       "alt.LayerChart(...)"
      ]
     },
     "metadata": {},
     "execution_count": 54
    }
   ],
   "source": [
    "bar = alt.Chart(bot3_gender).mark_bar().encode(\n",
    "    x=alt.X('Name',title='Movie Name'),\n",
    "    y=alt.Y('percentage:Q',title='Percentage',axis=None),\n",
    "    color='Gender'\n",
    ").properties(height=400, width=150)\n",
    "\n",
    "text = alt.Chart(bot3_gender).mark_text(color='black').encode(\n",
    "    x=alt.X('Name:N'),\n",
    "    y=alt.Y('percentage:Q', stack='zero'),\n",
    "    text=alt.Text('percentage',format='.0%')\n",
    ")\n",
    "\n",
    "bot3_bygender=(bar + text).properties(\n",
    "    title=['Bottom Third']\n",
    ")\n",
    "bot3_bygender"
   ]
  },
  {
   "cell_type": "code",
   "execution_count": 55,
   "metadata": {},
   "outputs": [
    {
     "output_type": "execute_result",
     "data": {
      "text/html": "\n<div id=\"altair-viz-13b9324651694196b80e9c0097db9b99\"></div>\n<script type=\"text/javascript\">\n  (function(spec, embedOpt){\n    let outputDiv = document.currentScript.previousElementSibling;\n    if (outputDiv.id !== \"altair-viz-13b9324651694196b80e9c0097db9b99\") {\n      outputDiv = document.getElementById(\"altair-viz-13b9324651694196b80e9c0097db9b99\");\n    }\n    const paths = {\n      \"vega\": \"https://cdn.jsdelivr.net/npm//vega@5?noext\",\n      \"vega-lib\": \"https://cdn.jsdelivr.net/npm//vega-lib?noext\",\n      \"vega-lite\": \"https://cdn.jsdelivr.net/npm//vega-lite@4.8.1?noext\",\n      \"vega-embed\": \"https://cdn.jsdelivr.net/npm//vega-embed@6?noext\",\n    };\n\n    function loadScript(lib) {\n      return new Promise(function(resolve, reject) {\n        var s = document.createElement('script');\n        s.src = paths[lib];\n        s.async = true;\n        s.onload = () => resolve(paths[lib]);\n        s.onerror = () => reject(`Error loading script: ${paths[lib]}`);\n        document.getElementsByTagName(\"head\")[0].appendChild(s);\n      });\n    }\n\n    function showError(err) {\n      outputDiv.innerHTML = `<div class=\"error\" style=\"color:red;\">${err}</div>`;\n      throw err;\n    }\n\n    function displayChart(vegaEmbed) {\n      vegaEmbed(outputDiv, spec, embedOpt)\n        .catch(err => showError(`Javascript Error: ${err.message}<br>This usually means there's a typo in your chart specification. See the javascript console for the full traceback.`));\n    }\n\n    if(typeof define === \"function\" && define.amd) {\n      requirejs.config({paths});\n      require([\"vega-embed\"], displayChart, err => showError(`Error loading script: ${err.message}`));\n    } else if (typeof vegaEmbed === \"function\") {\n      displayChart(vegaEmbed);\n    } else {\n      loadScript(\"vega\")\n        .then(() => loadScript(\"vega-lite\"))\n        .then(() => loadScript(\"vega-embed\"))\n        .catch(showError)\n        .then(() => displayChart(vegaEmbed));\n    }\n  })({\"config\": {\"view\": {\"continuousWidth\": 400, \"continuousHeight\": 300, \"strokeOpacity\": 0}, \"axis\": {\"domain\": false, \"grid\": false}}, \"hconcat\": [{\"layer\": [{\"mark\": \"bar\", \"encoding\": {\"color\": {\"type\": \"nominal\", \"field\": \"Gender\", \"title\": \"Gender\"}, \"x\": {\"type\": \"nominal\", \"field\": \"Name\", \"sort\": [\"The Phantom Meanance\", \"Attack of the clones\", \"Revenge of the Sith\", \"A New Hope\", \"The Empire Strikes Back\", \"The Return of the Jedi\"], \"title\": \"Movie Name\"}, \"y\": {\"type\": \"quantitative\", \"axis\": null, \"field\": \"percentage\", \"title\": \"Percentage\"}}, \"height\": 400, \"width\": 150}, {\"mark\": {\"type\": \"text\", \"color\": \"black\"}, \"encoding\": {\"text\": {\"type\": \"quantitative\", \"field\": \"percentage\", \"format\": \".0%\"}, \"x\": {\"type\": \"nominal\", \"field\": \"Name\"}, \"y\": {\"type\": \"quantitative\", \"field\": \"percentage\", \"stack\": \"zero\"}}}], \"data\": {\"url\": \"altair-data-784fdf6fd6e9cc3b3e5e471ce5f4e140.json\", \"format\": {\"type\": \"json\"}}, \"title\": [\"Top Third\"]}, {\"layer\": [{\"mark\": \"bar\", \"encoding\": {\"color\": {\"type\": \"nominal\", \"field\": \"Gender\"}, \"x\": {\"type\": \"nominal\", \"field\": \"Name\", \"title\": \"Movie Name\"}, \"y\": {\"type\": \"quantitative\", \"axis\": null, \"field\": \"percentage\", \"title\": \"Percentage\"}}, \"height\": 400, \"width\": 150}, {\"mark\": {\"type\": \"text\", \"color\": \"black\"}, \"encoding\": {\"text\": {\"type\": \"quantitative\", \"field\": \"percentage\", \"format\": \".0%\"}, \"x\": {\"type\": \"nominal\", \"field\": \"Name\"}, \"y\": {\"type\": \"quantitative\", \"field\": \"percentage\", \"stack\": \"zero\"}}}], \"data\": {\"url\": \"altair-data-5f03fbcb186cf5c784ce873f2ba84ed0.json\", \"format\": {\"type\": \"json\"}}, \"title\": [\"Middle Third\"]}, {\"layer\": [{\"mark\": \"bar\", \"encoding\": {\"color\": {\"type\": \"nominal\", \"field\": \"Gender\"}, \"x\": {\"type\": \"nominal\", \"field\": \"Name\", \"title\": \"Movie Name\"}, \"y\": {\"type\": \"quantitative\", \"axis\": null, \"field\": \"percentage\", \"title\": \"Percentage\"}}, \"height\": 400, \"width\": 150}, {\"mark\": {\"type\": \"text\", \"color\": \"black\"}, \"encoding\": {\"text\": {\"type\": \"quantitative\", \"field\": \"percentage\", \"format\": \".0%\"}, \"x\": {\"type\": \"nominal\", \"field\": \"Name\"}, \"y\": {\"type\": \"quantitative\", \"field\": \"percentage\", \"stack\": \"zero\"}}}], \"data\": {\"url\": \"altair-data-9c204a1f5a446f3742ec7d4e0e163211.json\", \"format\": {\"type\": \"json\"}}, \"title\": [\"Bottom Third\"]}], \"title\": {\"text\": [\"How People Rate the 'Star Wars' Movies\"], \"subtitle\": [\"How often each film was rated in the top, middle and bottom third by gender\", \"(by 471 respondents who have seen all six films)\", \" \", \" \"]}, \"$schema\": \"https://vega.github.io/schema/vega-lite/v4.8.1.json\"}, {\"mode\": \"vega-lite\"});\n</script>",
      "text/plain": [
       "alt.HConcatChart(...)"
      ]
     },
     "metadata": {},
     "execution_count": 55
    }
   ],
   "source": [
    "alt.hconcat(top3_bygender, mid3_bygender, bot3_bygender).properties(\n",
    "    title={\n",
    "    \"text\":[\"How People Rate the 'Star Wars' Movies\"],\n",
    "    \"subtitle\":[\"How often each film was rated in the top, middle and bottom third by gender\",'(by 471 respondents who have seen all six films)',' ',' ']}\n",
    ").configure_view(\n",
    "    # remove border\n",
    "    strokeOpacity=0\n",
    ").configure_axis(\n",
    "    # remove axis line\n",
    "    grid=False, domain=False\n",
    ")"
   ]
  },
  {
   "cell_type": "markdown",
   "metadata": {},
   "source": [
    "*Provide your justification here*\n",
    "\n",
    "I add gender into the chart which contains more information. We can read that more male audiences vote for middle and bottom characters than female audiences, but it's probably caused by less female respondents than males. Besides, it is a little bit hard to interpret for human beings because movie names displays in vertically."
   ]
  },
  {
   "cell_type": "markdown",
   "metadata": {},
   "source": [
    "### 2.5.2 Make your own (15 points/ 10 points plot + 5 justification)\n",
    "Propose and code a *new visualization* to complement a part of the article. Add a short paragraph justifying your decisions in terms of Perception/Cognition processes.\n",
    "\n",
    "If you feel your visualization is worse, that's ok! Just tell us why."
   ]
  },
  {
   "cell_type": "code",
   "execution_count": 56,
   "metadata": {},
   "outputs": [
    {
     "output_type": "error",
     "ename": "ValueError",
     "evalue": "Length mismatch: Expected axis has 14 elements, new values have 6 elements",
     "traceback": [
      "\u001b[1;31m---------------------------------------------------------------------------\u001b[0m",
      "\u001b[1;31mValueError\u001b[0m                                Traceback (most recent call last)",
      "\u001b[1;32m<ipython-input-56-c27ba72af509>\u001b[0m in \u001b[0;36m<module>\u001b[1;34m\u001b[0m\n\u001b[0;32m      1\u001b[0m \u001b[0mfavo_df\u001b[0m \u001b[1;33m=\u001b[0m \u001b[0mfav_df\u001b[0m\u001b[1;33m.\u001b[0m\u001b[0mT\u001b[0m\u001b[1;33m\u001b[0m\u001b[1;33m\u001b[0m\u001b[0m\n\u001b[1;32m----> 2\u001b[1;33m \u001b[0mfavo_df\u001b[0m\u001b[1;33m.\u001b[0m\u001b[0mcolumns\u001b[0m\u001b[1;33m=\u001b[0m\u001b[0mnames_l\u001b[0m\u001b[1;33m\u001b[0m\u001b[1;33m\u001b[0m\u001b[0m\n\u001b[0m\u001b[0;32m      3\u001b[0m \u001b[0mfavo_df\u001b[0m\u001b[1;33m.\u001b[0m\u001b[0mreset_index\u001b[0m\u001b[1;33m(\u001b[0m\u001b[1;33m)\u001b[0m\u001b[1;33m\u001b[0m\u001b[1;33m\u001b[0m\u001b[0m\n\u001b[0;32m      4\u001b[0m \u001b[0mfavo_df\u001b[0m\u001b[1;33m\u001b[0m\u001b[1;33m\u001b[0m\u001b[0m\n",
      "\u001b[1;32m~\\anaconda3\\lib\\site-packages\\pandas\\core\\generic.py\u001b[0m in \u001b[0;36m__setattr__\u001b[1;34m(self, name, value)\u001b[0m\n\u001b[0;32m   5150\u001b[0m         \u001b[1;32mtry\u001b[0m\u001b[1;33m:\u001b[0m\u001b[1;33m\u001b[0m\u001b[1;33m\u001b[0m\u001b[0m\n\u001b[0;32m   5151\u001b[0m             \u001b[0mobject\u001b[0m\u001b[1;33m.\u001b[0m\u001b[0m__getattribute__\u001b[0m\u001b[1;33m(\u001b[0m\u001b[0mself\u001b[0m\u001b[1;33m,\u001b[0m \u001b[0mname\u001b[0m\u001b[1;33m)\u001b[0m\u001b[1;33m\u001b[0m\u001b[1;33m\u001b[0m\u001b[0m\n\u001b[1;32m-> 5152\u001b[1;33m             \u001b[1;32mreturn\u001b[0m \u001b[0mobject\u001b[0m\u001b[1;33m.\u001b[0m\u001b[0m__setattr__\u001b[0m\u001b[1;33m(\u001b[0m\u001b[0mself\u001b[0m\u001b[1;33m,\u001b[0m \u001b[0mname\u001b[0m\u001b[1;33m,\u001b[0m \u001b[0mvalue\u001b[0m\u001b[1;33m)\u001b[0m\u001b[1;33m\u001b[0m\u001b[1;33m\u001b[0m\u001b[0m\n\u001b[0m\u001b[0;32m   5153\u001b[0m         \u001b[1;32mexcept\u001b[0m \u001b[0mAttributeError\u001b[0m\u001b[1;33m:\u001b[0m\u001b[1;33m\u001b[0m\u001b[1;33m\u001b[0m\u001b[0m\n\u001b[0;32m   5154\u001b[0m             \u001b[1;32mpass\u001b[0m\u001b[1;33m\u001b[0m\u001b[1;33m\u001b[0m\u001b[0m\n",
      "\u001b[1;32mpandas\\_libs\\properties.pyx\u001b[0m in \u001b[0;36mpandas._libs.properties.AxisProperty.__set__\u001b[1;34m()\u001b[0m\n",
      "\u001b[1;32m~\\anaconda3\\lib\\site-packages\\pandas\\core\\generic.py\u001b[0m in \u001b[0;36m_set_axis\u001b[1;34m(self, axis, labels)\u001b[0m\n\u001b[0;32m    562\u001b[0m     \u001b[1;32mdef\u001b[0m \u001b[0m_set_axis\u001b[0m\u001b[1;33m(\u001b[0m\u001b[0mself\u001b[0m\u001b[1;33m,\u001b[0m \u001b[0maxis\u001b[0m\u001b[1;33m:\u001b[0m \u001b[0mint\u001b[0m\u001b[1;33m,\u001b[0m \u001b[0mlabels\u001b[0m\u001b[1;33m:\u001b[0m \u001b[0mIndex\u001b[0m\u001b[1;33m)\u001b[0m \u001b[1;33m->\u001b[0m \u001b[1;32mNone\u001b[0m\u001b[1;33m:\u001b[0m\u001b[1;33m\u001b[0m\u001b[1;33m\u001b[0m\u001b[0m\n\u001b[0;32m    563\u001b[0m         \u001b[0mlabels\u001b[0m \u001b[1;33m=\u001b[0m \u001b[0mensure_index\u001b[0m\u001b[1;33m(\u001b[0m\u001b[0mlabels\u001b[0m\u001b[1;33m)\u001b[0m\u001b[1;33m\u001b[0m\u001b[1;33m\u001b[0m\u001b[0m\n\u001b[1;32m--> 564\u001b[1;33m         \u001b[0mself\u001b[0m\u001b[1;33m.\u001b[0m\u001b[0m_mgr\u001b[0m\u001b[1;33m.\u001b[0m\u001b[0mset_axis\u001b[0m\u001b[1;33m(\u001b[0m\u001b[0maxis\u001b[0m\u001b[1;33m,\u001b[0m \u001b[0mlabels\u001b[0m\u001b[1;33m)\u001b[0m\u001b[1;33m\u001b[0m\u001b[1;33m\u001b[0m\u001b[0m\n\u001b[0m\u001b[0;32m    565\u001b[0m         \u001b[0mself\u001b[0m\u001b[1;33m.\u001b[0m\u001b[0m_clear_item_cache\u001b[0m\u001b[1;33m(\u001b[0m\u001b[1;33m)\u001b[0m\u001b[1;33m\u001b[0m\u001b[1;33m\u001b[0m\u001b[0m\n\u001b[0;32m    566\u001b[0m \u001b[1;33m\u001b[0m\u001b[0m\n",
      "\u001b[1;32m~\\anaconda3\\lib\\site-packages\\pandas\\core\\internals\\managers.py\u001b[0m in \u001b[0;36mset_axis\u001b[1;34m(self, axis, new_labels)\u001b[0m\n\u001b[0;32m    224\u001b[0m \u001b[1;33m\u001b[0m\u001b[0m\n\u001b[0;32m    225\u001b[0m         \u001b[1;32mif\u001b[0m \u001b[0mnew_len\u001b[0m \u001b[1;33m!=\u001b[0m \u001b[0mold_len\u001b[0m\u001b[1;33m:\u001b[0m\u001b[1;33m\u001b[0m\u001b[1;33m\u001b[0m\u001b[0m\n\u001b[1;32m--> 226\u001b[1;33m             raise ValueError(\n\u001b[0m\u001b[0;32m    227\u001b[0m                 \u001b[1;34mf\"Length mismatch: Expected axis has {old_len} elements, new \"\u001b[0m\u001b[1;33m\u001b[0m\u001b[1;33m\u001b[0m\u001b[0m\n\u001b[0;32m    228\u001b[0m                 \u001b[1;34mf\"values have {new_len} elements\"\u001b[0m\u001b[1;33m\u001b[0m\u001b[1;33m\u001b[0m\u001b[0m\n",
      "\u001b[1;31mValueError\u001b[0m: Length mismatch: Expected axis has 14 elements, new values have 6 elements"
     ]
    }
   ],
   "source": [
    "favo_df = fav_df.T\n",
    "favo_df.columns=names_l\n",
    "favo_df.reset_index()\n",
    "favo_df"
   ]
  },
  {
   "cell_type": "code",
   "execution_count": null,
   "metadata": {},
   "outputs": [],
   "source": [
    "neur_df = neu_df.T\n",
    "neur_df.columns=names_l\n",
    "neur_df.reset_index()\n",
    "neur_df"
   ]
  },
  {
   "cell_type": "code",
   "execution_count": null,
   "metadata": {},
   "outputs": [],
   "source": [
    "unfa_df = unfav_df.T\n",
    "unfa_df.columns=names_l\n",
    "unfa_df.reset_index()\n",
    "unfa_df"
   ]
  },
  {
   "cell_type": "code",
   "execution_count": null,
   "metadata": {},
   "outputs": [],
   "source": [
    "unfam_df = unfamiliar_df.T\n",
    "unfam_df.columns=names_l\n",
    "unfam_df.reset_index()\n",
    "unfam_df"
   ]
  },
  {
   "cell_type": "code",
   "execution_count": null,
   "metadata": {},
   "outputs": [],
   "source": [
    "import matplotlib.pyplot as plt"
   ]
  },
  {
   "cell_type": "code",
   "execution_count": null,
   "metadata": {},
   "outputs": [],
   "source": [
    "# Each attribute we'll plot in the radar chart.\n",
    "labels = names_l\n",
    "fav_values = favo_df.loc['Percentage'].tolist()\n",
    "num_vars = len(labels)\n",
    "angles = np.linspace(0, 2 * np.pi, num_vars, endpoint=False).tolist()\n",
    "\n",
    "fav_values += fav_values[:1]\n",
    "angles += angles[:1]\n",
    "\n",
    "fig, ax = plt.subplots(figsize=(6, 6), subplot_kw=dict(polar=True))\n",
    "\n",
    "# plt.xticks(angles[:-1], labels, color='grey', size=10)\n",
    "# ax.plot(angles, values, color='red', linewidth=1)\n",
    "plt.xticks(angles[:-1], labels, color='grey', size=10)\n",
    "ax.fill(angles, fav_values, color='blue', alpha=0.25)\n",
    "ax.plot(angles, fav_values, linewidth=1,\n",
    "        linestyle='solid', label='Favorable')\n",
    "ax.fill(angles, fav_values, 'skyblue', alpha=0.4)\n",
    "\n",
    "# part 2\n",
    "neu_favlues=neur_df.loc['Percentage'].tolist()\n",
    "neu_favlues += neu_favlues[:1]\n",
    "ax.plot(angles, neu_favlues, linewidth=1,\n",
    "        linestyle='solid', label='Neutral')\n",
    "ax.fill(angles, neu_favlues, 'lightpink', alpha=0.4)\n",
    "\n",
    "# part 3\n",
    "un_favlues=unfa_df.loc['Percentage'].tolist()\n",
    "un_favlues += un_favlues[:1]\n",
    "ax.plot(angles, un_favlues, linewidth=1,\n",
    "        linestyle='solid', label='Unfavorable')\n",
    "ax.fill(angles, un_favlues, 'lightgreen', alpha=0.4)\n",
    "\n",
    "# part 3\n",
    "unf_favlues=unfam_df.loc['Percentage'].tolist()\n",
    "unf_favlues += unf_favlues[:1]\n",
    "ax.plot(angles, unf_favlues, linewidth=1,\n",
    "        linestyle='solid', label='Unfamiliar')\n",
    "ax.fill(angles, unf_favlues, 'lightyellow', alpha=0.4)\n",
    "\n",
    "plt.legend(loc='upper right', bbox_to_anchor=(0.1, 0.1))\n",
    "plt.title(\"'Star Wars' Characters Favorabiliy Ratings\",fontsize=20)\n",
    "\n",
    "plt.show()\n"
   ]
  },
  {
   "cell_type": "markdown",
   "metadata": {},
   "source": [
    "*Provide your justification here*\n",
    "\n",
    "I use matplotlib to create a radial chart, aka spider chart for the favorability ratings. The final output is not exactly what I expected and ugly. However, it does the function of showing the big differences between types(favoable, neutral, unfavorable and unfamiliar). I still prefer the FiveThirtyEight's chart because it's clear and easy to interpret."
   ]
  },
  {
   "cell_type": "code",
   "execution_count": null,
   "metadata": {},
   "outputs": [],
   "source": []
  }
 ],
 "metadata": {
  "coursera": {
   "schema_names": [
    "mads_information_visualization_i_v3_assignment3"
   ]
  },
  "kernelspec": {
   "display_name": "Python 3",
   "language": "python",
   "name": "python3"
  },
  "language_info": {
   "codemirror_mode": {
    "name": "ipython",
    "version": 3
   },
   "file_extension": ".py",
   "mimetype": "text/x-python",
   "name": "python",
   "nbconvert_exporter": "python",
   "pygments_lexer": "ipython3",
   "version": "3.8.5-final"
  },
  "toc": {
   "colors": {
    "hover_highlight": "#DAA520",
    "running_highlight": "#FF0000",
    "selected_highlight": "#FFD700"
   },
   "moveMenuLeft": true,
   "nav_menu": {
    "height": "282px",
    "width": "252px"
   },
   "navigate_menu": true,
   "number_sections": false,
   "sideBar": true,
   "threshold": 4,
   "toc_cell": false,
   "toc_section_display": "none",
   "toc_window_display": true,
   "widenNotebook": false
  }
 },
 "nbformat": 4,
 "nbformat_minor": 2
}