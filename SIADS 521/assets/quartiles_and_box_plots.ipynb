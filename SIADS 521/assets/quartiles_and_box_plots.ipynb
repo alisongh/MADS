{
 "cells": [
  {
   "cell_type": "code",
   "execution_count": 20,
   "metadata": {},
   "outputs": [
    {
     "name": "stdout",
     "output_type": "stream",
     "text": [
      "   sepal_length  sepal_width  petal_length  petal_width species\n",
      "0           5.1          3.5           1.4          0.2  setosa\n",
      "1           4.9          3.0           1.4          0.2  setosa\n",
      "2           4.7          3.2           1.3          0.2  setosa\n",
      "3           4.6          3.1           1.5          0.2  setosa\n",
      "4           5.0          3.6           1.4          0.2  setosa\n"
     ]
    }
   ],
   "source": [
    "# Import the pandas and numpy library\n",
    "import pandas as pd\n",
    "import matplotlib as mpl\n",
    "mpl.get_backend()\n",
    "\n",
    "import matplotlib.pyplot as plt\n",
    "\n",
    "\n",
    "# Load the iris.csv dataset\n",
    "iris = pd.read_csv('iris.csv')\n",
    "\n",
    "\n",
    "# Look at the first 5 rows\n",
    "print(iris.head())"
   ]
  },
  {
   "cell_type": "code",
   "execution_count": 21,
   "metadata": {},
   "outputs": [
    {
     "data": {
      "text/plain": [
       "0.25    5.1\n",
       "0.50    5.8\n",
       "0.75    6.4\n",
       "Name: sepal_length, dtype: float64"
      ]
     },
     "execution_count": 21,
     "metadata": {},
     "output_type": "execute_result"
    }
   ],
   "source": [
    "#We can use pandas .quartile method to calculate 3 quartiles, the lower 25%, 50%, \n",
    "#and upper 25% for the sepal_length variable.\n",
    "\n",
    "iris['sepal_length'].quantile([.25, .5, .75])"
   ]
  },
  {
   "cell_type": "code",
   "execution_count": 22,
   "metadata": {},
   "outputs": [
    {
     "data": {
      "image/png": "[encoded data removed]",
      "text/plain": [
       "<Figure size 432x288 with 1 Axes>"
      ]
     },
     "metadata": {
      "needs_background": "light"
     },
     "output_type": "display_data"
    }
   ],
   "source": [
    "# basic plot\n",
    "plt.boxplot(iris['sepal_length'])\n",
    "plt.show()"
   ]
  },
  {
   "cell_type": "code",
   "execution_count": 23,
   "metadata": {},
   "outputs": [
    {
     "data": {
      "text/plain": [
       "count    150.000000\n",
       "mean       5.843333\n",
       "std        0.828066\n",
       "min        4.300000\n",
       "25%        5.100000\n",
       "50%        5.800000\n",
       "75%        6.400000\n",
       "max        7.900000\n",
       "Name: sepal_length, dtype: float64"
      ]
     },
     "execution_count": 23,
     "metadata": {},
     "output_type": "execute_result"
    }
   ],
   "source": [
    "#We can confirm all of these numbers by using the .describe function.\n",
    "\n",
    "iris['sepal_length'].describe()"
   ]
  },
  {
   "cell_type": "code",
   "execution_count": 29,
   "metadata": {},
   "outputs": [
    {
     "data": {
      "image/png": "[encoded data removed]",
      "text/plain": [
       "<Figure size 432x288 with 1 Axes>"
      ]
     },
     "metadata": {
      "needs_background": "light"
     },
     "output_type": "display_data"
    }
   ],
   "source": [
    "#We can also control the appearance and add statistics, like the mean, by adjusting the parameters.\n",
    "\n",
    "#As I said, the line inside the box represents the median value, but we can also plot a marker for the mean using \n",
    "#the additional parameter called “showmeans”=TRUE, and change the plot to horizonal using “vert”= False.\n",
    "\n",
    "plt.boxplot(iris['sepal_length'],showmeans=True, vert = False)\n",
    "plt.show()"
   ]
  },
  {
   "cell_type": "code",
   "execution_count": 25,
   "metadata": {},
   "outputs": [
    {
     "data": {
      "image/png": "[encoded data removed]",
      "text/plain": [
       "<Figure size 432x288 with 1 Axes>"
      ]
     },
     "metadata": {
      "needs_background": "light"
     },
     "output_type": "display_data"
    }
   ],
   "source": [
    "irisvars=[iris['sepal_length'], iris['sepal_width'],iris['petal_width'], iris['petal_length']]\n",
    "box = plt.boxplot(irisvars, showmeans=True)"
   ]
  },
  {
   "cell_type": "code",
   "execution_count": 33,
   "metadata": {},
   "outputs": [
    {
     "data": {
      "text/plain": [
       "[None]"
      ]
     },
     "execution_count": 33,
     "metadata": {},
     "output_type": "execute_result"
    },
    {
     "data": {
      "image/png": "[encoded data removed]",
      "text/plain": [
       "<Figure size 432x288 with 1 Axes>"
      ]
     },
     "metadata": {
      "needs_background": "light"
     },
     "output_type": "display_data"
    }
   ],
   "source": [
    "#Each boxplot can have its own colours, this can be set through the pyplot function setp():\n",
    "box = plt.boxplot(irisvars, showmeans=True)\n",
    "# add colours\n",
    "   # sepal_length = red\n",
    "plt.setp(box['boxes'][0], color='red')\n",
    "plt.setp(box['caps'][0], color='red')\n",
    "plt.setp(box['whiskers'][0], color='red')"
   ]
  },
  {
   "cell_type": "code",
   "execution_count": 37,
   "metadata": {},
   "outputs": [
    {
     "data": {
      "text/plain": [
       "([<matplotlib.axis.XTick at 0x11307c7f0>,\n",
       "  <matplotlib.axis.XTick at 0x11307cc88>,\n",
       "  <matplotlib.axis.XTick at 0x11306ecc0>,\n",
       "  <matplotlib.axis.XTick at 0x113a5c390>],\n",
       " <a list of 4 Text xticklabel objects>)"
      ]
     },
     "execution_count": 37,
     "metadata": {},
     "output_type": "execute_result"
    },
    {
     "data": {
      "image/png": "[encoded data removed]",
      "text/plain": [
       "<Figure size 432x288 with 1 Axes>"
      ]
     },
     "metadata": {
      "needs_background": "light"
     },
     "output_type": "display_data"
    }
   ],
   "source": [
    "box = plt.boxplot(irisvars, showmeans=True)\n",
    "\n",
    "\n",
    "\n",
    "plt.title('Iris Dataset', fontsize=18) # chart title\n",
    "plt.ylabel('width and length') # y axis title\n",
    "plt.xticks([1,2,3, 4], ['sepal_length','sepal_width','petal_width','petal_length']) # x axis labels"
   ]
  },
  {
   "cell_type": "code",
   "execution_count": 39,
   "metadata": {},
   "outputs": [
    {
     "data": {
      "image/png": "[encoded data removed]",
      "text/plain": [
       "<Figure size 432x288 with 1 Axes>"
      ]
     },
     "metadata": {
      "needs_background": "light"
     },
     "output_type": "display_data"
    }
   ],
   "source": [
    "#The matplotlib boxplot looks okay for a for first pass analysis. \n",
    "#Before we end the tutorial, let’s take a sneak peek at plotting with the seaborn library. Let us say we want to plot a boxplot of sepal length by iris type, we would use pandas like\n",
    "\n",
    "#To make basic boxplot with Seaborn, we can use the pandas data frame as input and use Seaborn’s boxplot function. In addition to the data, we can also specify multiple options to customize the boxplot with Seaborn. \n",
    "#Let’s choose color palette scheme for the boxplot with Seaborn. Here, we have chosen colorblind friendly palette “colorblind”. Other color palette options available in Seaborn include deep, muted, bright, pastel, and dark. Let us also specify the width of the boxes in boxplot.\n",
    "\n",
    "# import seaborn\n",
    "import seaborn as sns\n",
    "\n",
    "seaplot = sns.boxplot(y='sepal_length', x='species', \n",
    "                 data=iris, \n",
    "                 width=0.5,\n",
    "                 palette=\"colorblind\")\n"
   ]
  },
  {
   "cell_type": "code",
   "execution_count": 40,
   "metadata": {},
   "outputs": [],
   "source": [
    "# output file name\n",
    "plot_file_name=\"boxplot_with_seaborn.jpg\"\n",
    " \n",
    "# save as jpeg\n",
    "seaplot.figure.savefig(plot_file_name,\n",
    "                    format='jpeg',\n",
    "                    dpi=100)"
   ]
  },
  {
   "cell_type": "code",
   "execution_count": null,
   "metadata": {},
   "outputs": [],
   "source": []
  }
 ],
 "metadata": {
  "kernelspec": {
   "display_name": "Python 3",
   "language": "python",
   "name": "python3"
  },
  "language_info": {
   "codemirror_mode": {
    "name": "ipython",
    "version": 3
   },
   "file_extension": ".py",
   "mimetype": "text/x-python",
   "name": "python",
   "nbconvert_exporter": "python",
   "pygments_lexer": "ipython3",
   "version": "3.7.1"
  }
 },
 "nbformat": 4,
 "nbformat_minor": 2
}
