{
 "cells": [
  {
   "cell_type": "markdown",
   "metadata": {},
   "source": [
    "## Mapping and Geographic Investigation \n",
    "\n",
    "Capturing physical landscape traits in a written form is perhaps one of the oldest and most common examples\n",
    "of information visualization still in use today. Geographical Information Systems (GIS) are high specialized\n",
    "and complex, and made up of a myriad of unique techniques and tools. In this lecture I want to dip our toes\n",
    "into this world, and show you how you can leverage geographical information to lead to insight in\n",
    "computational narratives."
   ]
  },
  {
   "cell_type": "code",
   "execution_count": null,
   "metadata": {},
   "outputs": [],
   "source": [
    "# Let's start with bringing in a few of our common libraries\n",
    "import pandas as pd\n",
    "import numpy as np\n",
    "import matplotlib.pyplot as plt"
   ]
  },
  {
   "cell_type": "code",
   "execution_count": null,
   "metadata": {},
   "outputs": [],
   "source": [
    "# Now we'll setup matplotlib\n",
    "%matplotlib inline"
   ]
  },
  {
   "cell_type": "code",
   "execution_count": null,
   "metadata": {},
   "outputs": [],
   "source": [
    "# And we'll set some matplotlib defaults\n",
    "import matplotlib as mpl\n",
    "mpl.rcParams['figure.figsize'] = [16.0,8.0]"
   ]
  },
  {
   "cell_type": "code",
   "execution_count": null,
   "metadata": {},
   "outputs": [],
   "source": [
    "# The first bit of data I want to share with you is a single session of running data. Actually, this is a\n",
    "# small piece of data from your project data source. Let's read in and take a look.\n",
    "df=pd.read_csv(\"run.csv\")\n",
    "df.head()"
   ]
  },
  {
   "cell_type": "code",
   "execution_count": null,
   "metadata": {},
   "outputs": [],
   "source": [
    "# Ok, so this data is made up of a latitude and longitude, a timestamp on what looks to be a second frequency\n",
    "# as well as power, in watts, and heart rate, in beats per minute, and an enhanced_altitude probably in feet.\n",
    "# I think that the first thing we need to consider when mapping is this longitude and lattitude. These look\n",
    "# like really odd numbers, and it turns out that this data source is trying to capture the maximum prescision\n",
    "# possible in an unsigned integer, so we need to convert these to more traditional decimal format. To be\n",
    "# honest, I don't really know anything about this data format, but a little bit of googling suggests that this\n",
    "# is easily done by multiplying by 180 degrees then dividing by 2 to the power of 31, so let's do that\n",
    "df[\"position_lat_degrees\"] = df[\"position_lat\"] * ( 180 / 2**31 )\n",
    "df[\"position_long_degrees\"] = df[\"position_long\"] * ( 180 / 2**31 )\n",
    "\n",
    "# Now, it turns out we're not really done with this. You see, the earth is round(ish), but we are going to try\n",
    "# and look at it on the screen which is flat(ish). My wife, who has a physical geography degree, gave me a\n",
    "# mini lecture on all the great and awesome ways you can take global positions like longitude and latitude and\n",
    "# convert them for display on flat things like maps. I'm going to save you from that (feel free to look up map\n",
    "# projections on wikipediate) and tell you that we're going to use the Mercantor projection. Even better, I'm\n",
    "# going to share with you the code to convert from latitude in degrees to a flat Mercantor projection which\n",
    "# comes courtesy of the Open Street Map effort at https://wiki.openstreetmap.org/wiki/Mercator\n",
    "\n",
    "import math\n",
    "def lat2y(a):\n",
    "  return 180.0/math.pi*math.log(math.tan(math.pi/4.0+a*(math.pi/180.0)/2.0))\n",
    "df[\"position_lat_degrees_mercantor\"]=df[\"position_lat_degrees\"].apply(lat2y)\n",
    "\n",
    "# And lastly, let's drop anything with missing values. This is a simplification for the moment, and might not\n",
    "# be what you actually want to do in practice\n",
    "df=df.dropna()\n",
    "df.head()"
   ]
  },
  {
   "cell_type": "code",
   "execution_count": null,
   "metadata": {},
   "outputs": [],
   "source": [
    "# The first approach I want to show you is probably the most simple. The gist is that we will render an image\n",
    "# behind an Axes object, then just use our regular plotting on the Axes object. For this to work it means we\n",
    "# need an image and we need to know the coordinates of the image bounds. Then we can set the \"extent\", which\n",
    "# represents the bounds of the map. This means our image behind the Axes object will be using the same\n",
    "# coordinate system as the Axes object itself, and the plot will be locked.\n",
    "\n",
    "# First the image. I got mine through an export from Open Street Map and saved it in map.png. You can get a\n",
    "# map directly from http://www.openstreetmap.org. To display this, we use the pyplot imread() function and\n",
    "# pair it with imshow()\n",
    "image=plt.imread(\"map.png\")\n",
    "plt.imshow(image, alpha=0.5, extent=[-83.77141,-83.75977,46.75230,46.76620])"
   ]
  },
  {
   "cell_type": "code",
   "execution_count": null,
   "metadata": {},
   "outputs": [],
   "source": [
    "# Ok, great! That created a map, and we can see the X and Y axes are constrained by the extent that I setup.\n",
    "# Now, the extent doesn't really matter, you can choose whatever you want, just make sure it aligns with\n",
    "# whatever your map is. In this case, I looked for the min/max of my different fields in the data, then went\n",
    "# to open street map and found a map that at least covered those bounds, because I want to show the whole\n",
    "# data."
   ]
  },
  {
   "cell_type": "code",
   "execution_count": null,
   "metadata": {},
   "outputs": [],
   "source": [
    "# Now it's actually really easy to overlay our data on top of this plot, we just use whatever plotting\n",
    "# function which exists in pyplot that we are interested in! In this case I'm going to use scatter(). I'm\n",
    "# going to add a color bar as well, and change the values of the dots being plotted based on the power column\n",
    "# in our data.\n",
    "\n",
    "# Reshow the image, because we didn't turn off image closing in jupyter\n",
    "plt.imshow(image, alpha=0.5, extent=[-83.77141,-83.75977,46.75230,46.76620])\n",
    "# Plot our longitude and mercantor projected latitude data. We can set the series of data we want to be the\n",
    "# colors of points using the c parameters, and we can choose from different color maps using the cmap\n",
    "# parameter.\n",
    "plt.scatter(df[\"position_long_degrees\"],df[\"position_lat_degrees_mercantor\"],\n",
    "            s=5, c=df[\"Power\"], cmap='Blues', alpha=0.75)\n",
    "# Now we get pyplot to render a colorbar so we know the meeting of the colors\n",
    "plt.colorbar().set_label(\"Power (watts)\")\n",
    "# And let's set a meaningful title\n",
    "plt.suptitle(\"Power data from {} to {}\".format(np.min(df[\"timestamp\"]),np.max(df[\"timestamp\"])),size='20');"
   ]
  },
  {
   "cell_type": "code",
   "execution_count": null,
   "metadata": {},
   "outputs": [],
   "source": [
    "# Nice! We have a map, and we have some points plotted on the map showing the various power measurements! If\n",
    "# you look at this you'll notice that many of the power colors look basically the same. What's going on here?\n",
    "# Notice that the colorbar range goes from around 100 watts to 400 watts. It seems we have some outliers! Low\n",
    "# power points which are skewing the automatic coloring. You probably have enough skills now to change this,\n",
    "# why not pause the video and give it a try?"
   ]
  },
  {
   "cell_type": "code",
   "execution_count": null,
   "metadata": {},
   "outputs": [],
   "source": [
    "# Ok, for the second approach, I want to see if we can bring in altitude as well, so we're going to look at\n",
    "# a 3D plot. Let's import our 3D Axes library\n",
    "from mpl_toolkits.mplot3d import Axes3D\n",
    "# Now let's generate a 3D Axes to work with, we do this by calling the get current axes function and setting\n",
    "# the projection to 3D\n",
    "fig = plt.figure()\n",
    "ax = fig.gca(projection='3d')\n",
    "#ax=plt.gca(projection='3d')\n",
    "\n",
    "# Here I've captured the return value, which is the 3DAxes object. This acts a *lot* like the Axes object, but\n",
    "# because it's a 3DAxes object pyplot convenience functions, like scatter(), aren't immediately available. But\n",
    "# the process is basically the same as before, just that there is a third piece of data, the Z direction,\n",
    "# which we'll set to the DataFrame enhanced_altitude column.\n",
    "artists=ax.scatter(df[\"position_long_degrees\"],df[\"position_lat_degrees_mercantor\"],df[\"enhanced_altitude\"],\n",
    "                   s=5, c=df[\"Power\"], cmap='Blues')\n",
    "\n",
    "# You'll notice that I captured the return of the scatter() function as well, which is a list of Artists. This\n",
    "# needs to be sent to colorbar so it knows how to calculate the range of values to show.\n",
    "plt.colorbar(artists).set_label(\"Power (watts)\")\n",
    "\n",
    "# Now let's setup some axes labels\n",
    "ax.set_xlabel('Longitude')\n",
    "ax.set_ylabel('Latitude')\n",
    "ax.set_zlabel('Altitude')"
   ]
  },
  {
   "cell_type": "code",
   "execution_count": null,
   "metadata": {},
   "outputs": [],
   "source": [
    "# Nice! We can see that the long tail is at a lower elevation than the movement at the top, which fits with\n",
    "# personal information I have about the location (since I know this is up a hill!).\n",
    "\n",
    "# One more example before we leave this data. It would be nice if we could see a range of different\n",
    "# projections in this three dimensional space. One way to do that is with the matplotlib animation routines.\n",
    "# First, let's setup our Axes3D again\n",
    "fig = plt.figure()\n",
    "ax = fig.gca(projection='3d')\n",
    "\n",
    "# Now we define an initializeation function which will render the initial image, and return a set of Artists\n",
    "# to render\n",
    "def init():\n",
    "    ax.scatter(df[\"position_long_degrees\"],df[\"position_lat_degrees_mercantor\"],df[\"enhanced_altitude\"])\n",
    "    return ax.get_children()\n",
    "\n",
    "# The animation routines for matplotlib need to look through these children at each frame of the video. We\n",
    "# need to define a function which also updates the view. In our case, all we are going to do is rotate the\n",
    "# camera a bit. This is done with the Axes view_init() function, which takes two numbers determining rotation.\n",
    "# Each time a frame is called for, our update function will be called with some content. In this case, we'll\n",
    "# make this content just one of the parameters to view_init()\n",
    "def update_view(frame):\n",
    "    ax.view_init(30,frame)\n",
    "    return ax.get_children()\n",
    "\n",
    "# To start this whole process, we need the matplotlib animation routines\n",
    "from matplotlib import animation\n",
    "\n",
    "# And now we can setup the function which will call everything. Notice that I'll provide a list of frame\n",
    "# numbers from 0 through 360 degrees in 3 degree increments. each item of this list will be passed through to\n",
    "# my update_view() function after some time interval.\n",
    "anim = animation.FuncAnimation(fig, update_view, init_func=init,\n",
    "                               frames=[x for x in range(0,360,3)], interval=20)\n",
    "\n",
    "# The last step is that we now need to start this and render it to the screen. The simpliest way to do this is\n",
    "# with the Jupyter HTML() function, which displays some HTML. Then we can start anim running and ask it to\n",
    "# generate an HTML 5-based video.\n",
    "from IPython.display import HTML\n",
    "HTML(anim.to_jshtml()) #also see to_html5_video() and save()"
   ]
  },
  {
   "cell_type": "code",
   "execution_count": null,
   "metadata": {},
   "outputs": [],
   "source": [
    "# So that takes awhile to render, since matplotlib has to run through all of the frames and write them out\n",
    "# to a javascript file to embed in the browser front end, managed by Jupyter. This part of the ecosystem is\n",
    "# pretty raw actually, and could use some tweaking, but it's handy to also have a save() function for building\n",
    "# animations you might want to look at afterwards. And why the first frame is rendered statically on the page\n",
    "# as well as the video I'm not sure -- if you happen to find out feel free to let me know so I can update\n",
    "# this lecture!"
   ]
  },
  {
   "cell_type": "code",
   "execution_count": null,
   "metadata": {},
   "outputs": [],
   "source": [
    "# You know, it might be nice if that video could also look through a few different camera angles as well. We\n",
    "# set it to 30 degrees, but maybe a second value could be passed in to frames to iterate upon. Why not pause\n",
    "# the video and give it a try?"
   ]
  },
  {
   "cell_type": "code",
   "execution_count": null,
   "metadata": {},
   "outputs": [],
   "source": [
    "# This method of creating a map using an image with extents is simple and reliable, though it's maybe not as\n",
    "# fast and seemless as it could be. An alternative approach taken for maps in web systems is to use tile\n",
    "# server. Tile servers actually create a matrix of maps at different zoom levels, then serve up portions of a\n",
    "# map (the tiles) as requested from the client. This is how Google Maps, for instance, works, and it creates a\n",
    "# responsive experience at the cost of being a bit more fragile, as network access is needed. This paradigm is\n",
    "# also available in the Jupyter notebooks as well, through a project called leaflet. This project is all\n",
    "# client side JavaScript which does the map requesting and rendering. To connect this to our python backend we\n",
    "# can use the folium project. Let's walk through an example."
   ]
  },
  {
   "cell_type": "code",
   "execution_count": null,
   "metadata": {},
   "outputs": [],
   "source": [
    "# Let's import Folium\n",
    "import folium\n",
    "# Now let's render a spot from our previous data, for this we pick the center point of the map and a zoom\n",
    "# level\n",
    "m=folium.Map(location=[42.24,-83.764], zoom_start=12)\n",
    "# A key eye will notice that I had to reverse our longitude and latitude for this library, *and* I'm not using\n",
    "# the mercantor changed values for longitude. Welcome to geographical information systems!\n",
    "display(m)"
   ]
  },
  {
   "cell_type": "code",
   "execution_count": null,
   "metadata": {},
   "outputs": [],
   "source": [
    "# Immediately you'll notice that the user experience is nice, and you can see that the data is being streamed\n",
    "# by the OpenStreetMap project (lower right corner).\n",
    "\n",
    "# We can add callouts to the map using the Marker class, let's set this for our start and end.\n",
    "m=folium.Map(location=[42.296,-83.768], zoom_start=15)\n",
    "folium.Marker([df[\"position_lat_degrees\"].iloc[0],df[\"position_long_degrees\"].iloc[0]], \n",
    "              popup=\"Start\").add_to(m)\n",
    "folium.Marker([df[\"position_lat_degrees\"].iloc[-1],df[\"position_long_degrees\"].iloc[-1]], \n",
    "              popup=\"Stop\").add_to(m)\n",
    "\n",
    "# We also want to map the whole running route. The docs for folium point to a PolyLine as the appropriate\n",
    "# class to use. The PolyLine takes a list of locations as tuples, which means we have to combine our latiude\n",
    "# and longitude values pairwise, and this is easily achieved through the use of python's zip() function\n",
    "route=folium.PolyLine(locations=zip(df[\"position_lat_degrees\"],df[\"position_long_degrees\"]),\n",
    "                    weight=5,color='blue').add_to(m)\n",
    "\n",
    "# Let's take a look at that\n",
    "display(m)"
   ]
  },
  {
   "cell_type": "code",
   "execution_count": null,
   "metadata": {},
   "outputs": [],
   "source": [
    "# Wow! What a nice rendering. We can zoom and look around and get a nice interactive sense of our data. And\n",
    "# the docs really demonstrate how to use leaflet to do interesting things that have been well optimized in the\n",
    "# browser and JavaScript world, including setting colors through HTML codes and events. And I'll be honest, I\n",
    "# don't really know much about folium and how we might do something like, add interactivity through invents,\n",
    "# or show popups to allow for exploration of individual data points, or even create a short video which might\n",
    "# demo interesting aspects of the map. But these might be interesting places to take your final project, and\n",
    "# I'm hoping a few of you do decide to show me something interesting with folium!"
   ]
  },
  {
   "cell_type": "code",
   "execution_count": null,
   "metadata": {},
   "outputs": [],
   "source": [
    "# But before we leave mapping, I want to demonstrate one more information visualization technique that is\n",
    "# common in data science and how folium supports it, and this is called the Choropleth. The Choropleth is\n",
    "# basically a geographic heat map, where a map is rendered then a heat map of geopolitical boundaries is\n",
    "# rendered on top with colors representing some value from the dataset."
   ]
  },
  {
   "cell_type": "code",
   "execution_count": null,
   "metadata": {},
   "outputs": [],
   "source": [
    "# Let's read in some sample data. I picked this data up from the Statistics Canada website on the provinces\n",
    "# and territories and their populations.\n",
    "df_pop=pd.DataFrame(\n",
    "[[\"Newfoundland and Labrador\",528817],\n",
    "[\"Prince Edward Island\",152021],\n",
    "[\"Nova Scotia\",953869],\n",
    "[\"New Brunswick\",759655],\n",
    "[\"Quebec\",8394034],\n",
    "[\"Ontario\",14193384],\n",
    "[\"Manitoba\",1338109],\n",
    "[\"Saskatchewan\",1163925],\n",
    "[\"Alberta\",4286134],\n",
    "[\"British Columbia\",4817160],\n",
    "[\"Yukon\",38459],\n",
    "[\"Northwest Territories\",44520],\n",
    "[\"Nunavut\",37996]], columns=[\"Province\",\"Population\"])\n",
    "\n",
    "# And here's a dataset I got from the QuantHockey website. I thought maybe it would be interesting to go and\n",
    "# look at which province tends to train the most NHL players per capita. I'm actually from a province right in\n",
    "# the middle of Canada called Saskatchewan, and we don't have an NHL team which is a bit disappointing. We have\n",
    "# to drive 6 hours to go watch a game live, either in Alberta (Edmonton or Calgary) or Manitoba (Winnipeg).\n",
    "# Here's a link to the QuantHockey dataset: https://www.quanthockey.com/nhl/province-totals/nhl-players-career-stats.html\n",
    "df_players=pd.read_csv(\"hockey_players_by_province.csv\")\n",
    "\n",
    "# Now let's merge these datasets together\n",
    "df=df_players.merge(df_pop,on=\"Province\")\n",
    "\n",
    "# And calculate the ratio of NHL players by province population\n",
    "df[\"Ratio\"]=df[\"Players\"]/df[\"Population\"]\n",
    "df.head()"
   ]
  },
  {
   "cell_type": "code",
   "execution_count": null,
   "metadata": {},
   "outputs": [],
   "source": [
    "# So, making a Choropleth in folium is actually pretty easy, as long as you have a shape file for your\n",
    "# geopolitical regions. Just like different map projections, shape files are a huge bag of hurt with multiple\n",
    "# competing specifications and details on how to convert from one to another. To be honest, this is a massive\n",
    "# time sink, but an emerging open standard which seems to be available now is called geojson. As the name\n",
    "# implies, geojson files are all json coded polygons with embedded metadata. I've save the geopolitical borders\n",
    "# for Canadian provinces in the cdn.json file.\n",
    "\n",
    "# Ok, let's start by making a new map zoomed pretty far out - Canada's pretty big\n",
    "m = folium.Map(location=[58,-92], zoom_start=3)\n",
    "\n",
    "# Now we create the Choropleth object. The first parameter is geodata, which points to our json file. Then\n",
    "# we indicate the pandas dataframe we want to use as the data, and we provide the two columns, where the first\n",
    "# is a reference to the region we want to color and the second is the value we want to use for the heat map.\n",
    "# We have to specify a color, then an important parameter called \"key_on\". This last parameter maps to the\n",
    "# features in our json data file.\n",
    "folium.Choropleth(geo_data=\"cdn.json\", data=df, columns=[\"Province\",\"Ratio\"],\n",
    "                  fill_color='YlOrRd',key_on='feature.properties.name').add_to(m)\n",
    "\n",
    "# And now we just render our map.\n",
    "display(m)"
   ]
  },
  {
   "cell_type": "code",
   "execution_count": null,
   "metadata": {},
   "outputs": [],
   "source": [
    "# Nice, a Choropleth map. We can see that there are two regions which are gray, indicating that they have no\n",
    "# data. We also see that folium automatically adds the colorbar at the top of the map. There's a lot of light\n",
    "# yellow, indicating a small amount of NHL training, and then one province in particular seems to be quite\n",
    "# high when producing NHL players. It turns out that maybe not having a home team means folks from\n",
    "# Saskatchewan get out and play more hockey instead of just watching it from the couch."
   ]
  },
  {
   "cell_type": "markdown",
   "metadata": {},
   "source": [
    "In this lecture I've just touched on some of the information mapping you can do mixing geographical\n",
    "structures and data. We've seen several different approaches, from rendering a simple data plot superimposed\n",
    "over a map, to polygon coloring in the choropleth. Geographical Information Systems (GIS) are a big area,\n",
    "but it's helpful to know a few things about spatial representation of data for those times when the physical\n",
    "is a part of your investigation. "
   ]
  }
 ],
 "metadata": {
  "kernelspec": {
   "display_name": "Python 3",
   "language": "python",
   "name": "python3"
  },
  "language_info": {
   "codemirror_mode": {
    "name": "ipython",
    "version": 3
   },
   "file_extension": ".py",
   "mimetype": "text/x-python",
   "name": "python",
   "nbconvert_exporter": "python",
   "pygments_lexer": "ipython3",
   "version": "3.7.3"
  }
 },
 "nbformat": 4,
 "nbformat_minor": 2
}
