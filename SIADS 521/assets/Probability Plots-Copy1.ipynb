{
 "cells": [
  {
   "cell_type": "markdown",
   "metadata": {},
   "source": [
    "# Probability Plots"
   ]
  },
  {
   "cell_type": "markdown",
   "metadata": {},
   "source": [
    "In this lecture, we'll be using another case study to help us learn about probability plots. In particular,\n",
    "we'll be focusing on something called a Quantile-Quantile plot (QQ plot), which is a graphical technique\n",
    "that allows us to see whether a particular data set follows a given distribution. We'll also discuss how to\n",
    "use a statistical test to make quantitative determinations as to whether or not a sample is indeed drawn\n",
    "from a particular distribution.\n",
    "\n",
    "Now, one of the benefits of learning data science from a large public research university like the\n",
    "University of Michigan is that we're able not just to share with you different techniques and approaches,\n",
    "but to ground those techniques in our own work. As you might know, my research is in an area broadly known\n",
    "as _learning analytics_, which is the study of learning, teaching, and education through data and analytics\n",
    "processes. So in this lecture I'm going to share some of our own work and how we applied visual exploration\n",
    "and statistical methods to understand and evaluate educational predictive models."
   ]
  },
  {
   "cell_type": "markdown",
   "metadata": {},
   "source": [
    "## Motivation: Educational Predictive Models"
   ]
  },
  {
   "cell_type": "markdown",
   "metadata": {},
   "source": [
    "<img src=\"Student_Explorer_Info.png\" alt=\"Student Explorer\" style=\"width: 500px;\"/>"
   ]
  },
  {
   "cell_type": "markdown",
   "metadata": {},
   "source": [
    "One area of current are of interest in education involves developing predictive models for use in early\n",
    "warning systems. So, for instance, we may want to predict how a student might perform in a class and\n",
    "identify those who may be at risk for dropping out of a course. The hope is to use this information in order\n",
    "to stage an appropriate intervention and provide that student with the necessary support and resources to\n",
    "succeed. At the University of Michigan we actually have one of these systems called *Student Explorer*,\n",
    "which was created by a colleague of mine, Stephanie Teasley, who is faculty here in the School of\n",
    "Information. You can see from the diagram above that it uses a number of different features about the\n",
    "student grade, the course average, and the site page views to classify the student into one of three\n",
    "categories, and it uses a sort of red yellow green signal light metaphor when communicating this to advisors\n",
    "depending upon the risk category the student is in."
   ]
  },
  {
   "cell_type": "markdown",
   "metadata": {},
   "source": [
    "Many of these early warning systems use private and sensitive student data such as your grades,\n",
    "demographics, online activity logs, and other details. As a result, there are have concerns about how this\n",
    "data is being used and the potential implications, including:\n",
    "\n",
    "* personal privacy concerns \n",
    "* legislative oversight \n",
    "* and risks and inequities"
   ]
  },
  {
   "cell_type": "markdown",
   "metadata": {},
   "source": [
    "While universities have many protocols, procedures, and structure to keep your data safe and secure,\n",
    "numerous news stories on data breaches certainly do not instill confidence in people regarding how their\n",
    "data is being managed. For education specifically, there are also pieces of legislation, such as FERPA,\n",
    "which restricts how personal identifying information is to be used and shared."
   ]
  },
  {
   "cell_type": "markdown",
   "metadata": {},
   "source": [
    "And so this brings you to the research issue I've been studying, with my PhD student Warren Li and\n",
    "collaborator Florian Schuab who is faculty here in the School of Information. Specifically, if students\n",
    "explicitly opt-out of having their data shared for these purposes, how would that affect the quality of\n",
    "predictive models we were able to build? Would it add bias to the models across groups like differnt ethnic\n",
    "groups or students in different years in their programs? Would the models degrade to the point where they\n",
    "are no longer usable and, how fast would this degradation happen?\n",
    "\n",
    "So, we started to explore this, and collected data on how students would opt out, and how it might affect\n",
    "the quality of predictive models"
   ]
  },
  {
   "cell_type": "markdown",
   "metadata": {},
   "source": [
    "## Analyzing Grade Predictions from a Model"
   ]
  },
  {
   "cell_type": "code",
   "execution_count": 1,
   "metadata": {},
   "outputs": [
    {
     "data": {
      "text/html": [
       "<div>\n",
       "<style scoped>\n",
       "    .dataframe tbody tr th:only-of-type {\n",
       "        vertical-align: middle;\n",
       "    }\n",
       "\n",
       "    .dataframe tbody tr th {\n",
       "        vertical-align: top;\n",
       "    }\n",
       "\n",
       "    .dataframe thead th {\n",
       "        text-align: right;\n",
       "    }\n",
       "</style>\n",
       "<table border=\"1\" class=\"dataframe\">\n",
       "  <thead>\n",
       "    <tr style=\"text-align: right;\">\n",
       "      <th></th>\n",
       "      <th>Actual</th>\n",
       "      <th>Predicted</th>\n",
       "    </tr>\n",
       "  </thead>\n",
       "  <tbody>\n",
       "    <tr>\n",
       "      <th>0</th>\n",
       "      <td>B+</td>\n",
       "      <td>B</td>\n",
       "    </tr>\n",
       "    <tr>\n",
       "      <th>1</th>\n",
       "      <td>A</td>\n",
       "      <td>A</td>\n",
       "    </tr>\n",
       "    <tr>\n",
       "      <th>2</th>\n",
       "      <td>B+</td>\n",
       "      <td>B</td>\n",
       "    </tr>\n",
       "    <tr>\n",
       "      <th>3</th>\n",
       "      <td>B+</td>\n",
       "      <td>A</td>\n",
       "    </tr>\n",
       "    <tr>\n",
       "      <th>4</th>\n",
       "      <td>A-</td>\n",
       "      <td>A</td>\n",
       "    </tr>\n",
       "  </tbody>\n",
       "</table>\n",
       "</div>"
      ],
      "text/plain": [
       "  Actual Predicted\n",
       "0     B+         B\n",
       "1      A         A\n",
       "2     B+         B\n",
       "3     B+         A\n",
       "4     A-         A"
      ]
     },
     "execution_count": 1,
     "metadata": {},
     "output_type": "execute_result"
    }
   ],
   "source": [
    "# I can't share the original data, and so we won't implement the machine learning model here. Instead I've\n",
    "# have provided a select subgroup of grades and predictions from our model which I'll use to demonstrate our\n",
    "# analysis approach. Let's load that into a DataFrame.\n",
    "import pandas as pd \n",
    "import numpy as np\n",
    "import matplotlib.pyplot as plt\n",
    "%matplotlib inline\n",
    "original_df = pd.read_pickle(\"./mads_data_pre.pkl\")\n",
    "\n",
    "# We're also going to define two constant lists: one for the valid letter grades, and another for their\n",
    "# corresponding grade points. These will be used later on.\n",
    "VALID_GRADES = ['A', 'A-', 'B+', 'B', 'B-', 'C+', 'C', 'C-', 'D+', 'D', 'D-', 'E']\n",
    "NUMERIC_GRADES = [4.0, 3.7, 3.3, 3.0, 2.7, 2.3, 2.0, 1.7, 1.3, 1.0, 0.7, 0.0]\n",
    "\n",
    "# Now let's look at the DataFrame\n",
    "original_df.head()"
   ]
  },
  {
   "cell_type": "code",
   "execution_count": 14,
   "metadata": {},
   "outputs": [],
   "source": [
    "# Now, we need a way to organize this information and get a visual sense of what our model is doing. To do so,\n",
    "# let's plot the actual grades student's received against the predicted grades. So for example, how many times\n",
    "# did our model predict an A grade when the student actually received an A, versus a B, and so forth?\n",
    "\n",
    "# To do this, I'm going to build something called a confusion matrix\n",
    "def plot_confusion_matrix(cm, classes,\n",
    "                          normalize=False):\n",
    "    \n",
    "    cm = np.float_(cm)\n",
    "    # if the normalize flag is set then we'll just change the data values through scaling\n",
    "    if normalize:\n",
    "        cm = cm / cm.sum(axis=1)[:, np.newaxis]\n",
    "    # now, the plot I'm going to show is actually just called imshow, and it's used to show images, or pixel\n",
    "    # data. this is basically what will be passed in by cm, since it's a square matrix. So we're essentially\n",
    "    # rendering a bunch of pixels to the screen, a grid of values\n",
    "    plt.imshow(cm, interpolation='nearest', cmap=plt.cm.Blues)\n",
    "    plt.colorbar()    \n",
    "    # notice that I've set the cmap. This is the color map we want to use to show values, and you can read\n",
    "    # about it in the docs. My PhD student Warren particularly likes blues, so this is why we're using these\n",
    "    # values\n",
    "\n",
    "    # Now let's set a title and some axes grades\n",
    "    plt.title('Confusion matrix')\n",
    "    plt.ylabel('True label')\n",
    "    plt.xlabel('Predicted label')\n",
    "    \n",
    "    # And lets update the X and Y tick_marks. We expect these to be the grades which are passed in\n",
    "    tick_marks = np.arange(len(classes))\n",
    "    plt.xticks(tick_marks, classes, rotation=45)\n",
    "    plt.yticks(tick_marks, classes)"
   ]
  },
  {
   "cell_type": "code",
   "execution_count": 15,
   "metadata": {},
   "outputs": [
    {
     "data": {
      "text/plain": [
       "array([[54062,  2972,  6218,   793,     0,   527,    24,     0,     0,\n",
       "            0,     0,     0],\n",
       "       [25494,  2808,  5881,   467,     0,   764,    20,     0,     0,\n",
       "            0,     0,     0],\n",
       "       [ 9889,  2860,  6991,   545,     0,  1445,   111,     0,     0,\n",
       "            0,     0,     0],\n",
       "       [15387,  2702,  6210,   915,     0,  1030,    31,     0,     0,\n",
       "            0,     0,     0],\n",
       "       [ 3753,  1642,  4330,   172,     0,  1269,   109,     0,     0,\n",
       "            0,     0,     0],\n",
       "       [  972,   894,  2207,    18,     0,  1338,   128,     0,     0,\n",
       "            0,     0,     0],\n",
       "       [ 1426,   912,  2429,    27,     0,  1150,   123,     0,     0,\n",
       "            0,     0,     0],\n",
       "       [  352,   452,   971,     9,     0,   676,    75,     0,     0,\n",
       "            0,     0,     0],\n",
       "       [  116,   182,   408,     0,     0,   331,    56,     0,     0,\n",
       "            0,     0,     0],\n",
       "       [  100,   166,   325,     1,     0,   280,    36,     0,     0,\n",
       "            0,     0,     0],\n",
       "       [   41,    71,   127,     2,     0,   100,    34,     0,     0,\n",
       "            0,     0,     0],\n",
       "       [  140,   301,   342,    11,     0,   387,    75,     0,     0,\n",
       "            0,     0,     0]])"
      ]
     },
     "execution_count": 15,
     "metadata": {},
     "output_type": "execute_result"
    }
   ],
   "source": [
    "# Ok, we have the mechanis of plotting a square matrix of values down now. This will come in handy, not just\n",
    "# here but any time you are interested in looking at a confusion matrix, which is essentially a square\n",
    "# matrix of your actual values versus predicted values. This helps you identify where error might lie in your\n",
    "# model\n",
    "\n",
    "# Speaking of, let's create that matrix. We have a dataframe of results, but we want to now aggregate that\n",
    "# into a list of true grades versus predicted grades. The library sklearn, which you'll use in the machine\n",
    "# learning course, has a nice function to create this kind of matrix\n",
    "from sklearn.metrics import confusion_matrix\n",
    "confusion_matrix(original_df['Actual'], original_df['Predicted'])"
   ]
  },
  {
   "cell_type": "code",
   "execution_count": 16,
   "metadata": {},
   "outputs": [
    {
     "data": {
      "image/png": "[encoded data removed]",
      "text/plain": [
       "<Figure size 432x288 with 2 Axes>"
      ]
     },
     "metadata": {
      "needs_background": "light"
     },
     "output_type": "display_data"
    }
   ],
   "source": [
    "# Ok, that's interesting! We see big numbers in some places and small numbers in other places. It's not\n",
    "# super meaningful to us yet, so let's use our plotting function\n",
    "plot_confusion_matrix(cm, VALID_GRADES)"
   ]
  },
  {
   "cell_type": "code",
   "execution_count": 23,
   "metadata": {},
   "outputs": [
    {
     "data": {
      "text/plain": [
       "Actual\n",
       "A     64596\n",
       "A-    35434\n",
       "B     21841\n",
       "B+    26275\n",
       "B-    11275\n",
       "C      5557\n",
       "C+     6067\n",
       "C-     2535\n",
       "D      1093\n",
       "D+      908\n",
       "D-      375\n",
       "E      1256\n",
       "dtype: int64"
      ]
     },
     "execution_count": 23,
     "metadata": {},
     "output_type": "execute_result"
    }
   ],
   "source": [
    "# Notice that regardless of the number of true labels, we almost always predict that a student will receive\n",
    "# either an A- or an A! What's with that? Let's take a look at the frequencies of our data\n",
    "original_df.groupby('Actual').apply(len)"
   ]
  },
  {
   "cell_type": "code",
   "execution_count": null,
   "metadata": {},
   "outputs": [],
   "source": [
    "# Ok, so we see that in this dataset there are way more \"A grade\" predictions (over 100,000!) when compared to\n",
    "# any other grade. Why is that?"
   ]
  },
  {
   "cell_type": "markdown",
   "metadata": {},
   "source": [
    "## Visualizing Distributions: Quantile-Quantile Plots"
   ]
  },
  {
   "cell_type": "markdown",
   "metadata": {},
   "source": [
    "To try and figure out why this is happening, let's try running some **diagnostics**, and try to get a better\n",
    "understanding regarding our underlying data. Specifically, we're going to make a QQ plot, which stands for\n",
    "Quantile-Qunatile plot.\n",
    "\n",
    "Now, from the boxplots and violinplots discussion you should be familiar with Quartiles, which are points\n",
    "that separate out 25% (or one quarter) of the data. Quantiles (also known as percentiles) are just a\n",
    "generalization of this idea. So the 0.5 quantile would be the 50th percentile, and so half of the data would\n",
    "lie below/above this point.\n",
    "\n",
    "To create a QQ plot we will:\n",
    "1. To order our n data points in ascending order (we're making each point it's own quantile)\n",
    "2. To evenly divide a normal distribution into n+1 segments (each with equal area) \n",
    "3. To compute the z-values for each of these \"cut-off\" points (theoretical quantiles)\n",
    "4. To plot the actual quantiles against the theoretical quantiles\n",
    "\n",
    "Now, the open textbook I've shared has a discussion of this under the term Quantile-Normal plot, since they\n",
    "are specifically interested in checking whether a given set of data is normally distributed or not, and they\n",
    "call these QN plots. You can find this on page 83, and here's a link to that textbook again:\n",
    "https://www.stat.cmu.edu/~hseltman/309/Book/chapter4.pdf\n",
    "\n",
    "In addition to this though, there are a couple of demonstrations of what quantiles and percentiles are which\n",
    "you can review here https://www.youtube.com/watch?v=IFKQLDmRK0Y\n",
    "\n",
    "One more resource is this nice video on QQ plots, which you might find helpful\n",
    "https://www.youtube.com/watch?v=okjYjClSjOg\n",
    "\n",
    "But what I want to get on to show you is the code that we used to actually build this plot for our data."
   ]
  },
  {
   "cell_type": "code",
   "execution_count": 24,
   "metadata": {},
   "outputs": [
    {
     "data": {
      "text/plain": [
       "<BarContainer object of 12 artists>"
      ]
     },
     "execution_count": 24,
     "metadata": {},
     "output_type": "execute_result"
    },
    {
     "data": {
      "image/png": "[encoded data removed]",
      "text/plain": [
       "<Figure size 720x360 with 2 Axes>"
      ]
     },
     "metadata": {
      "needs_background": "light"
     },
     "output_type": "display_data"
    }
   ],
   "source": [
    "#You won't need to manually go through this process. Instead, we'll be using the probability plot \n",
    "#function from the scipy.stats library. \n",
    "\n",
    "import scipy.stats as stats\n",
    "grade_point_dict = dict(zip(VALID_GRADES, NUMERIC_GRADES))\n",
    "grade_dist = original_df.replace({'Actual' : grade_point_dict})['Actual']\n",
    "\n",
    "plt.figure(figsize=(10,5))\n",
    "ax1 = plt.subplot(121)\n",
    "ax2 = plt.subplot(122)\n",
    "\n",
    "#We're going to plot two sets of data. First, let's turn our original grade distribution into a \n",
    "#numpy array. We're going to make a QQ plot, and show the corresponding bar plot as well. \n",
    "\n",
    "#CASE 1: Original Grade Distribution\n",
    "grades = np.array(grade_dist.astype('float'))\n",
    "stats.probplot(grades, dist=stats.norm, plot=ax1)\n",
    "ax2.bar(VALID_GRADES, [sum([1 for x in grades if x == grade]) for grade in NUMERIC_GRADES])\n",
    "\n",
    "#If the data are normal, then we would expect to see a line that closely follows the red diagonal. \n",
    "#However, this is clearly not the case; notice that we assign way more \"A's\" than any other grade!\n",
    "#As a result, the distribution is skewed right. To demonstrate what happens if we do have something\n",
    "#that looks more bell-curve shaped, let's uncomment the portion below and see what happens if we\n",
    "#artificially come up with a grade distribution. Notice that most of the dots do fall along the diagonal.\n",
    "\n",
    "#CASE 2: Artificial 'Curved' Grade Distribution\n",
    "# curved = [4.0]*1 + [3.7]*2 + [3.3]*2 + [3.0]*3 + [2.7]*5 + [2.3]*7 + [2.0]*7 + [1.7]*5 + \\\n",
    "#          [1.3]*3 + [1.0]*2 + [0.7]*2 + [0.0]*1\n",
    "# stats.probplot(curved, dist=stats.norm, plot=ax1)\n",
    "# ax2.bar(VALID_GRADES, [sum([1 for x in curved if x == grade]) for grade in NUMERIC_GRADES])"
   ]
  },
  {
   "cell_type": "markdown",
   "metadata": {},
   "source": [
    "So, one of the problems is that there is significantly more data for high grades, and so our model is unable to predict other types of grades reliably. In other words, if we just predicted that everyone would get an 'A', we'd have a pretty good accuracy already! Even though that wouldn't make for a very useful predictive model. To combat this, we can try to balance out our dataset and try undersampling, as shown below:\n",
    "\n",
    "![undersampling](undersampling.png)\n",
    "\n",
    "So, since there are only 3 F's, we'll just take a random sample of 3 A's, B's, and C's and ignore the rest. In the actual study, we oversampled by generating synthetic points. But to keep things simple for now, we'll stick with undersampling."
   ]
  },
  {
   "cell_type": "code",
   "execution_count": 82,
   "metadata": {},
   "outputs": [
    {
     "name": "stdout",
     "output_type": "stream",
     "text": [
      "[7998, 4, 67369, 6301, 10668, 1666, 14337, 2975, 7148, 45799, 3258, 9689]\n"
     ]
    },
    {
     "data": {
      "image/png": "[encoded data removed]",
      "text/plain": [
       "<Figure size 432x288 with 2 Axes>"
      ]
     },
     "metadata": {},
     "output_type": "display_data"
    }
   ],
   "source": [
    "#After implementing this change and rerunning the models, we get a new set of prediction, which we'll\n",
    "#read into another dataframe. \n",
    "processed_df = pd.read_pickle(\"./mads_data_post.pkl\")\n",
    "\n",
    "from sklearn.metrics import confusion_matrix\n",
    "true_g = [grade for grade in processed_df['Actual']]\n",
    "pred_g = [grade for grade in processed_df['Predicted']]\n",
    "print([sum([1 for x in pred_g if x == grade]) for grade in VALID_GRADES])\n",
    "cm = confusion_matrix(true_g, pred_g)\n",
    "plot_confusion_matrix(cm, VALID_GRADES)\n",
    "\n",
    "#Notice that we get a much broader range of predictions now!"
   ]
  },
  {
   "cell_type": "code",
   "execution_count": 80,
   "metadata": {},
   "outputs": [],
   "source": [
    "#In general, how do we interpret QQ-plots? To illustrate, we've provided a function\n",
    "#that let's us plot a skewed distribution with parameters you can play with.\n",
    "\n",
    "def randn_skew(N, skew=0.0, loc=0.0, scale=1.0):\n",
    "    sigma = skew / np.sqrt(1.0 + skew**2) \n",
    "    u0 = np.random.randn(N)\n",
    "    v = np.random.randn(N)\n",
    "    u1 = (sigma*u0 + np.sqrt(1.0 - sigma**2)*v) * scale\n",
    "    u1[u0 < 0] *= -1\n",
    "    u1 = u1 + loc\n",
    "    return u1"
   ]
  },
  {
   "cell_type": "code",
   "execution_count": 81,
   "metadata": {},
   "outputs": [
    {
     "data": {
      "text/plain": [
       "(array([ 5.,  7.,  9., 15., 15., 14., 16.,  9.,  6.,  4.]),\n",
       " array([-1.88234952, -1.49321161, -1.1040737 , -0.71493578, -0.32579787,\n",
       "         0.06334004,  0.45247795,  0.84161587,  1.23075378,  1.61989169,\n",
       "         2.0090296 ]),\n",
       " <a list of 10 Patch objects>)"
      ]
     },
     "execution_count": 81,
     "metadata": {},
     "output_type": "execute_result"
    },
    {
     "data": {
      "image/png": "[encoded data removed]",
      "text/plain": [
       "<Figure size 720x360 with 2 Axes>"
      ]
     },
     "metadata": {},
     "output_type": "display_data"
    }
   ],
   "source": [
    "import scipy.stats as stats\n",
    "\n",
    "#First, we're going to convert the letter grades into their corresponding numerical grade points.\n",
    "grade_point_dict = dict(zip(VALID_GRADES, NUMERIC_GRADES))\n",
    "grade_dist = original_df.replace({'Actual' : grade_point_dict})['Actual']\n",
    "\n",
    "plt.figure(figsize=(10,5))\n",
    "ax1 = plt.subplot(121)\n",
    "ax2 = plt.subplot(122)\n",
    "\n",
    "#Now, let's try playing around with different conditions and see what the QQ plot looks like.\n",
    "#Specifically, we're going to try analyzing a distribution with long tails (large SD), \n",
    "#short tails (small SD), right (positive) skew, and left (negative) skew.\n",
    "#MODIFY THE PARAMETERS BELOW (number of points, skew, mean, standard deviation)\n",
    "measurements = randn_skew(100, 0, 0, 1)\n",
    "\n",
    "#CASE 3: Generated Skew-Normal Distribution\n",
    "stats.probplot(measurements, dist=stats.norm, plot=ax1)\n",
    "ax2.hist(measurements)"
   ]
  },
  {
   "cell_type": "markdown",
   "metadata": {},
   "source": [
    "### Statistical Tests: Comparing Distributions\n",
    "\n",
    "Now let's discuss how to compare two distributions using hypothesis testing. "
   ]
  },
  {
   "cell_type": "markdown",
   "metadata": {},
   "source": [
    "Given the null hypothesis $H_0$, that our distribution is normal, and our alternative hypothesis $H_a$, that our distribution is not normal, we can conduct a Kolmogorov-Smirnov (or KS) test to determine whether or not we should reject the null hypothesis. Similar to how we can find a z-statistic or a t-statistic, we can also calculate a KS test statistic. \n",
    "\n",
    "--------------------------------------------\n",
    "\n",
    "The formal definition is given for reference, but you won't be expected to understand the details, and the material in this subbox is purely optional:\n",
    "\n",
    "$$ D_n = \\max_x | F_n(x) - F(x) | $$\n",
    "\n",
    "where $F(x)$ is a cumulative distribution function (cdf) and $F_n(x)$ is an empirical distribution function given by \n",
    "\n",
    "$$ F_n(x) = \\frac{1}{n} \\sum_{i=1}^n I_{[-\\infty, x]}(X_i)$$\n",
    "\n",
    "and $I_{[-\\infty, x]}$ is an indicator function equal to 1 if $X_i \\leq x$ and 0 otherwise.\n",
    "\n",
    "--------------------------------------------\n",
    "\n",
    "The definition is provided for your reference in case you are interested, but you don't need to fully understand these equations. The main idea can be illustrated by this diagram below, \n",
    "\n",
    "|   one-sample KS test             |              two-sample KS test    |\n",
    "|:--------------------------------:| :--------------------------------: |\n",
    "|![one sample KS](KS_Example.png)  |  ![two sample KS](KS2_Example.png) |\n",
    "\n",
    "For the one-sample KS test, we can see if its cdf is compareable to a distribution we're interested in, such as a normal distribution. The test statistic is calculated by considering the largest distance between these two sets, as shown in the figure. The same concept applies even if we are looking at two discrete data sets, such as what's shown in the two-sample KS test."
   ]
  },
  {
   "cell_type": "code",
   "execution_count": 76,
   "metadata": {},
   "outputs": [
    {
     "name": "stdout",
     "output_type": "stream",
     "text": [
      "Original Grade Distribution: 0.9424497416495455 0.0\n",
      "Generated Normal Distribution: 0.05900128217101372 0.8772240988156372\n"
     ]
    }
   ],
   "source": [
    "#And, perhaps as expected, we can make our lives easier and conduct this hypothesis test by using\n",
    "#a pre-existing function from the scipy.stats library. \n",
    "#Let's first do a sanity check and conduct a one-sample KS test for the original grade distribution,\n",
    "#as well as a generated set of values we know are normal. Pause and think about what you might expect\n",
    "#to see for the test statistics and p-values.\n",
    "\n",
    "from scipy import stats\n",
    "measurements = randn_skew(100, 0, 0, 1)\n",
    "D_grade, p_grade = stats.kstest(grades, 'norm', mode='asymp')\n",
    "D_normal, p_normal = stats.kstest(measurements, 'norm', mode='asymp')\n",
    "\n",
    "print('Original Grade Distribution:', D_grade, p_grade)\n",
    "print('Generated Normal Distribution:', D_normal, p_normal)\n",
    "\n",
    "#Note that values match our intuition! There is enough evidence to reject the null hypothesis \n",
    "#for the original grades, but not in the case of the generated sample."
   ]
  },
  {
   "cell_type": "code",
   "execution_count": 19,
   "metadata": {
    "scrolled": true
   },
   "outputs": [
    {
     "name": "stdout",
     "output_type": "stream",
     "text": [
      "       male    female\n",
      "0  0.213443  0.236896\n",
      "1  0.209455  0.230511\n",
      "2  0.178433  0.187019\n",
      "3  0.231013  0.249993\n",
      "4  0.219908  0.233172\n"
     ]
    }
   ],
   "source": [
    "#Now let's take a look at a case where you might want to conduct a 2-sample KS test.\n",
    "#Recall that we talked about some of the risks of bias in predictive models earlier on.\n",
    "#Below, we've loaded in some results which show the performance of our predictive models\n",
    "#when predicting on male and female students. Each point represents a different amount\n",
    "#of simulated opt-out, evenly-spaced from 0-99%. \n",
    "\n",
    "gender_df = pd.read_pickle('./mads_data_gender.pkl')\n",
    "print(gender_df.head())\n",
    "\n",
    "#As an aside, the actual metric used is something called Cohen's Kappa, which takes the \n",
    "#probability of agreement by chance into account. A value of 0.0 means that the the predictions\n",
    "#are no better than chance, while a value of 1.0 means that we have perfect agreement (predictions)."
   ]
  },
  {
   "cell_type": "code",
   "execution_count": 86,
   "metadata": {},
   "outputs": [
    {
     "data": {
      "image/png": "[encoded data removed]",
      "text/plain": [
       "<Figure size 432x288 with 1 Axes>"
      ]
     },
     "metadata": {},
     "output_type": "display_data"
    }
   ],
   "source": [
    "gender = ['Male', 'Female']\n",
    "drop_percentages = np.linspace(0.00, 0.99, 25)\n",
    "\n",
    "plt.figure()\n",
    "scores_by_gender = {gender: [x for x in gender_df[gender]] for gender in gender_df.columns}\n",
    "for label, y_arr in scores_by_gender.items():\n",
    "    plt.plot(\n",
    "        drop_percentages,\n",
    "        y_arr,\n",
    "        label=label\n",
    "    )\n",
    "plt.ylim(ymin=0, ymax=1)\n",
    "plt.title('Opt-out Effect on Kappa for Decision Trees by Gender')\n",
    "plt.ylabel('$\\kappa$')\n",
    "plt.xlabel('Proportion of data dropped from training set')\n",
    "lgd = plt.legend(loc='upper left')\n",
    "\n",
    "#We want to see whether there is actually a difference between these two curves. Just looking\n",
    "#at the plot, it seems like there is not much difference between our ability to predict grades\n",
    "#for male students versus female students, but let's use the statistical tools we just learned\n",
    "#to answer this question more definitively. "
   ]
  },
  {
   "cell_type": "code",
   "execution_count": 50,
   "metadata": {},
   "outputs": [
    {
     "name": "stdout",
     "output_type": "stream",
     "text": [
      "0.28 0.237010099316509\n",
      "25\n"
     ]
    }
   ],
   "source": [
    "#This time, we'll use the ks_2samp function and pass in the appropriate samples.\n",
    "\n",
    "D, p = stats.ks_2samp(scores_by_gender['male'], scores_by_gender['female'])\n",
    "print(D,p)\n",
    "\n",
    "print(len(scores_by_gender['male']))\n",
    "\n",
    "#And indeed, the results fit nicely with our intuition! We cannot reject the null hypothesis,\n",
    "#that these sets are both pulled from the same distribution. "
   ]
  },
  {
   "cell_type": "markdown",
   "metadata": {},
   "source": [
    "### Conclusions\n",
    "\n",
    "In this lecture, we've talked about probability plots and statistical tests to help us compare different distributions. While we specifically mentioned QQ plots and KS tests, there are also other graphical tools such as P-P plots and tests such as the Shapiro-Wilk or Anderson-Darling test, each with their own advantages and disadvantages. However, we've tried to equip you with all the key ideas behind these techniques and we encourage you to explore additional ones if you'd like. \n",
    "\n",
    "In the full paper of this study, we found that there's actually quite a significant range of opt-out that schools have to consider when developing these systems, which vary depending on how you count people who don't respond to your data sharing requests, and even whether the question wording is simply changed from \"opt-in\" to \"opt-out\". Furthermore, we do in fact spot some bias: we are better at predicting grades for seniors versus freshman, but this gap quickly narrows as opt-out increases.\n",
    "If you're interested in learning more, we've provided a link to the paper here: https://dl-acm-org.proxy.lib.umich.edu/citation.cfm?id=3303809"
   ]
  }
 ],
 "metadata": {
  "kernelspec": {
   "display_name": "Python 3",
   "language": "python",
   "name": "python3"
  },
  "language_info": {
   "codemirror_mode": {
    "name": "ipython",
    "version": 3
   },
   "file_extension": ".py",
   "mimetype": "text/x-python",
   "name": "python",
   "nbconvert_exporter": "python",
   "pygments_lexer": "ipython3",
   "version": "3.7.3"
  }
 },
 "nbformat": 4,
 "nbformat_minor": 2
}
