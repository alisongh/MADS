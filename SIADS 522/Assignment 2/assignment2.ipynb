{
 "cells": [
  {
   "cell_type": "markdown",
   "metadata": {},
   "source": [
    "Before you turn this problem in, make sure everything runs as expected. First, **restart the kernel** (in the menubar, select Kernel$\\rightarrow$Restart) and then **run all cells** (in the menubar, select Cell$\\rightarrow$Run All). Make sure your notebook executed to the end.\n",
    "\n",
    "Make sure you fill in any place that says `YOUR CODE HERE` or \"YOUR ANSWER HERE.\" Please remember that homeworks are to be completed independently. You may not share code with others."
   ]
  },
  {
   "cell_type": "code",
   "execution_count": 1,
   "metadata": {},
   "outputs": [],
   "source": [
    "NAME = \"Liwen Huang\""
   ]
  },
  {
   "cell_type": "markdown",
   "metadata": {},
   "source": [
    "---"
   ]
  },
  {
   "cell_type": "markdown",
   "metadata": {},
   "source": [
    "# Information Visualization I \n",
    "## School of Information, University of Michigan\n",
    "\n",
    "## Week 2: \n",
    "- Expressiveness and Effectiveness\n",
    "- Grammar of Graphics\n",
    "\n",
    "## Assignment Overview\n",
    "### Our objectives for this week:\n",
    "\n",
    "- Review, reflect, and apply the concepts of encoding. Given a visualization recreate the data that was encoded.\n",
    "- Review, reflect, and apply the concepts of Expressiveness and Effectiveness. Given a visualization, evaluate alternatives with the same expressiveness.\n",
    "\n",
    "![\"Drawing\"](assets/data-table-resized.png)\n",
    "\n",
    "\n",
    "<p style=\"text-align: center;\">Two visualizations, same expressiveness </p>\n",
    "\n",
    "- Review and evaluate an implementation of Grammar of Graphics using [Altair](https://altair-viz.github.io/) \n",
    "\n",
    "### The total score of this assignment will be 100 points consisting of:\n",
    "- Case study reflection: Next Bechdel Test (30 points)\n",
    "- Altair programming exercise (70 points)\n",
    "- Bonus (5 points)\n",
    "\n",
    "\n",
    "### Resources:\n",
    "- This article by [FiveThirtyEight](https://fivethirtyeight.com) available [online](https://projects.fivethirtyeight.com/next-bechdel/) (Hickey, Koeze, Dottle, Wezerek 2017)  \n",
    "- Datasets from FiveThirtyEight, we have downloaded a subset of these datasets available in the folder for your use into [./assets](./assets)\n",
    "    - The original dataset can be found on [FiveThirtyEight Next Bechdel Dataset](https://github.com/fivethirtyeight/data/tree/master/next-bechdel)\n",
    "    \n",
    "    \n",
    "### Important notes:\n",
    "1) Grading for this assignment is largely done by manual inspection. The autograder checks the basic details but is imperfect. Sometimes it will pass the test but not look right, sometimes it will look right and fail the test. That's fine! You should guide your answer by the look of our examples. It doesn't need to be pixel perfect (e.g., you may not always know what our example is scaled by), but it should be pretty close.\n",
    "\n",
    "2) When turning in your PDF, please use the File -> Print -> Save as PDF option ***from your browser***. Do ***not*** use the File->Download as->PDF option. Complete instructions for this are under Resources in the Coursera page for this class.\n",
    "\n",
    "3) Pay attention to the return types of your functions. "
   ]
  },
  {
   "cell_type": "markdown",
   "metadata": {},
   "source": [
    "## Part 1. Expressiveness and Effectiveness (30 points)\n",
    "Read the following article [*Creating the next Bechdel Test*](https://projects.fivethirtyeight.com/next-bechdel/) and answer the following questions:\n"
   ]
  },
  {
   "cell_type": "markdown",
   "metadata": {},
   "source": [
    "### 1.1 Recreate the table (by hand or excel) needed to create the following visualization (7 points)\n",
    "\n",
    "You *should* consider the interactive parts of the visualization in your answer. Take a picture or screenshot of your table and add it to the answer below\n",
    "\n",
    "![\"Drawing\"](assets/article_1.png)\n",
    "\n",
    "\n",
    "An easy way to upload images is to jump into the [./assets](./assets) directory (or use the Coursera notebook explorer and navigate to it) and then use the upload button to save your image:\n",
    "\n",
    "![upload](assets/upload.png)\n",
    "\n",
    "Once you have the image, you can link to it using the markdown command: `![answer1.2](assets/my_image_1.2.png)`"
   ]
  },
  {
   "cell_type": "markdown",
   "metadata": {
    "deletable": false,
    "nbgrader": {
     "checksum": "91ea6cc6efb45e855a4f141dab85c3a3",
     "grade": true,
     "grade_id": "cell-20290d73f12b3f9f",
     "locked": false,
     "points": 0,
     "schema_version": 1,
     "solution": true
    }
   },
   "source": [
    "YOUR ANSWER HERE\n",
    "\n",
    "![\"answer1.2\"](assets/my_image_1.2.png)"
   ]
  },
  {
   "cell_type": "markdown",
   "metadata": {},
   "source": [
    "### 1.2 Sketch an alternative visualization with the same expressiveness (7 points)\n",
    "By hand is fine, but you can also use a tool. This is a sketch, the data need not be perfectly accurate or to scale. Again, upload a picture or screenshot below. Make sure there is enough annotation so it's clear why your picture has the same expressiveness."
   ]
  },
  {
   "cell_type": "markdown",
   "metadata": {
    "deletable": false,
    "nbgrader": {
     "checksum": "c2bd64e98ff1e94679857bbae395f3f8",
     "grade": true,
     "grade_id": "cell-818150fc326a93bd",
     "locked": false,
     "points": 0,
     "schema_version": 1,
     "solution": true
    }
   },
   "source": [
    "YOUR ANSWER HERE\n",
    "\n",
    "![\"answer1.2\"](assets/my_image_1.2_1.png)\n",
    "\n",
    "\n",
    "<p style=\"text-align: center;\">When the mouse cursors move to the mark, it shows the name of movie and % of female automatically </p>"
   ]
  },
  {
   "cell_type": "markdown",
   "metadata": {},
   "source": [
    "### 1.3 Sketch an alternative visualization with the same expressiveness of the following visualization (10 points)\n",
    "\n",
    "![\"article\"](assets/article_2_resized.png)\n",
    "\n",
    "\n",
    "Same deal as last question: by hand or with a tool is fine. The data need not be perfectly accurate or to scale. Make sure there is enough annotation so it's clear why your picture has the same expressiveness. Again, upload a picture or screenshot below. "
   ]
  },
  {
   "cell_type": "markdown",
   "metadata": {
    "deletable": false,
    "nbgrader": {
     "checksum": "ad987ed052e361e442f1355c036285da",
     "grade": true,
     "grade_id": "cell-308f4bbbe330bcc3",
     "locked": false,
     "points": 0,
     "schema_version": 1,
     "solution": true
    }
   },
   "source": [
    "![\"answer1.2\"](assets/my_image_1.2_2.png)\n",
    "\n",
    "<p style=\"text-align: center;\">When the mouse cursors moves to the mark, it shows the list of tests automatically </p>\n"
   ]
  },
  {
   "cell_type": "markdown",
   "metadata": {},
   "source": [
    "### 1.4 Reflect on which visualization you think is more *effective* and why? (6 points)\n",
    "You are comparing the original figure in 1.3 and the one you created."
   ]
  },
  {
   "cell_type": "markdown",
   "metadata": {
    "deletable": false,
    "nbgrader": {
     "checksum": "404c7b60173ff29336f18e5c0f678090",
     "grade": true,
     "grade_id": "cell-53c80be72ac1b53e",
     "locked": false,
     "points": 0,
     "schema_version": 1,
     "solution": true
    }
   },
   "source": [
    "I think the figure I created is more effective. The domain of this project is to determine the relationship between number of actors and genders. For the original figure in 1.3, the author/researcher just make a flat list to check which tests the movie passed. The length of the list is a little bit long and the reader has to go back and forth to recheck the movie on the top of the list. \n",
    "\n",
    "Through visualization I created the reader can easily read the portion of test passing. When you move the mouse cursors to the chart, it shows up the list of tests automatically. Besides, my visualization saves space and the audience doesn't need to go back and forth. Last but not least, my visualization is very straghtforward and visualizaed even though it's not colorful."
   ]
  },
  {
   "cell_type": "markdown",
   "metadata": {},
   "source": [
    "## Part 2. Altair programming exercise (70 points)\n",
    "We have provided some code to create visualizations based on the following datasets:\n",
    "\n",
    "1. [all_tests](assets/nextBechdel_allTests.csv) Is a collection of different Bechdel test results for the 50 top-grossing films [at the domestic box office in 2016](https://www.the-numbers.com/box-office-records/domestic/all-movies/cumulative/released-in-2016)\n",
    "2. [cast_gender](assets/nextBechdel_castGender.csv) Is the gender for all the cast member of each movie in the Bechdel rankings\n",
    "3. [top_2016](assets/top_2016.csv) Is the date, box office and theater count for each top 2016 movie.\n",
    "\n",
    "Complete each assignment function and run each cell to generate the final visualizations\n"
   ]
  },
  {
   "cell_type": "code",
   "execution_count": 2,
   "metadata": {},
   "outputs": [],
   "source": [
    "import pandas as pd\n",
    "import numpy as np\n",
    "import altair as alt"
   ]
  },
  {
   "cell_type": "code",
   "execution_count": 3,
   "metadata": {},
   "outputs": [
    {
     "data": {
      "text/plain": [
       "RendererRegistry.enable('default')"
      ]
     },
     "execution_count": 3,
     "metadata": {},
     "output_type": "execute_result"
    }
   ],
   "source": [
    "# enable correct rendering\n",
    "alt.renderers.enable('default')"
   ]
  },
  {
   "cell_type": "code",
   "execution_count": 4,
   "metadata": {},
   "outputs": [
    {
     "data": {
      "text/plain": [
       "DataTransformerRegistry.enable('json')"
      ]
     },
     "execution_count": 4,
     "metadata": {},
     "output_type": "execute_result"
    }
   ],
   "source": [
    "# uses intermediate json files to speed things up\n",
    "alt.data_transformers.enable('json')"
   ]
  },
  {
   "cell_type": "code",
   "execution_count": 5,
   "metadata": {},
   "outputs": [],
   "source": [
    "# read all the tables\n",
    "all_tests_df = pd.read_csv('assets/nextBechdel_allTests.csv')\n",
    "cast_gender = pd.read_csv('assets/nextBechdel_castGender.csv')\n",
    "top_2016 = pd.read_csv('assets/top_2016.csv')"
   ]
  },
  {
   "cell_type": "code",
   "execution_count": 6,
   "metadata": {},
   "outputs": [],
   "source": [
    "# set up the tables for use\n",
    "actors_movies = top_2016.set_index('Movie').join(cast_gender.set_index('MOVIE')).join(all_tests_df.set_index('movie')).reset_index().dropna()\n",
    "movies_order = top_2016.sort_values(by=['Rank'])['Movie'].tolist()"
   ]
  },
  {
   "cell_type": "markdown",
   "metadata": {},
   "source": [
    "### 2.1 Variables encoded (5 points)\n",
    "Warmup: complete the `variables_encoded` function.\n",
    "Return the number of variables encoded in the following example"
   ]
  },
  {
   "cell_type": "code",
   "execution_count": 7,
   "metadata": {},
   "outputs": [],
   "source": [
    "base = alt.Chart(actors_movies).transform_filter(\n",
    "    (alt.datum.TYPE != 'Unknown') & (alt.datum.GENDER != 'Unknown') & (alt.datum.GENDER != 'null')\n",
    ")"
   ]
  },
  {
   "cell_type": "code",
   "execution_count": 8,
   "metadata": {},
   "outputs": [],
   "source": [
    "encoding = base.transform_filter(\n",
    "    alt.datum.GENDER == 'Female'\n",
    ").encode(\n",
    "    y= alt.Y(\n",
    "        'index:N',\n",
    "        sort= movies_order\n",
    "    ),\n",
    "    x=alt.X('count(index):Q',\n",
    "            title='cast count'),\n",
    ")\n",
    "\n",
    "def m_bar():\n",
    "    return encoding.mark_bar().properties(title='Female')\n",
    "\n",
    "bar = m_bar()"
   ]
  },
  {
   "cell_type": "code",
   "execution_count": 9,
   "metadata": {},
   "outputs": [
    {
     "data": {
      "text/html": [
       "\n",
       "<div id=\"altair-viz-30217736a77e4cbb816b6bf43d657303\"></div>\n",
       "<script type=\"text/javascript\">\n",
       "  (function(spec, embedOpt){\n",
       "    const outputDiv = document.getElementById(\"altair-viz-30217736a77e4cbb816b6bf43d657303\");\n",
       "    const paths = {\n",
       "      \"vega\": \"https://cdn.jsdelivr.net/npm//vega@5?noext\",\n",
       "      \"vega-lib\": \"https://cdn.jsdelivr.net/npm//vega-lib?noext\",\n",
       "      \"vega-lite\": \"https://cdn.jsdelivr.net/npm//vega-lite@4.0.2?noext\",\n",
       "      \"vega-embed\": \"https://cdn.jsdelivr.net/npm//vega-embed@6?noext\",\n",
       "    };\n",
       "\n",
       "    function loadScript(lib) {\n",
       "      return new Promise(function(resolve, reject) {\n",
       "        var s = document.createElement('script');\n",
       "        s.src = paths[lib];\n",
       "        s.async = true;\n",
       "        s.onload = () => resolve(paths[lib]);\n",
       "        s.onerror = () => reject(`Error loading script: ${paths[lib]}`);\n",
       "        document.getElementsByTagName(\"head\")[0].appendChild(s);\n",
       "      });\n",
       "    }\n",
       "\n",
       "    function showError(err) {\n",
       "      outputDiv.innerHTML = `<div class=\"error\" style=\"color:red;\">${err}</div>`;\n",
       "      throw err;\n",
       "    }\n",
       "\n",
       "    function displayChart(vegaEmbed) {\n",
       "      vegaEmbed(outputDiv, spec, embedOpt)\n",
       "        .catch(err => showError(`Javascript Error: ${err.message}<br>This usually means there's a typo in your chart specification. See the javascript console for the full traceback.`));\n",
       "    }\n",
       "\n",
       "    if(typeof define === \"function\" && define.amd) {\n",
       "      requirejs.config({paths});\n",
       "      require([\"vega-embed\"], displayChart, err => showError(`Error loading script: ${err.message}`));\n",
       "    } else if (typeof vegaEmbed === \"function\") {\n",
       "      displayChart(vegaEmbed);\n",
       "    } else {\n",
       "      loadScript(\"vega\")\n",
       "        .then(() => loadScript(\"vega-lite\"))\n",
       "        .then(() => loadScript(\"vega-embed\"))\n",
       "        .catch(showError)\n",
       "        .then(() => displayChart(vegaEmbed));\n",
       "    }\n",
       "  })({\"config\": {\"view\": {\"continuousWidth\": 400, \"continuousHeight\": 300}}, \"data\": {\"url\": \"altair-data-b2fe8fb5616f2f0ec61f01d320bf8001.json\", \"format\": {\"type\": \"json\"}}, \"mark\": \"bar\", \"encoding\": {\"x\": {\"type\": \"quantitative\", \"aggregate\": \"count\", \"field\": \"index\", \"title\": \"cast count\"}, \"y\": {\"type\": \"nominal\", \"field\": \"index\", \"sort\": [\"Rogue One\", \"Finding Dory\", \"Captain America: Civil War\", \"The Secret Life of Pets\", \"The Jungle Book\", \"Deadpool\", \"Zootopia\", \"Batman v Superman: Dawn of Justice\", \"Suicide Squad\", \"Sing\", \"Moana\", \"Fantastic Beasts and Where to Find Them\", \"Doctor Strange\", \"Hidden Figures\", \"Jason Bourne\", \"Star Trek Beyond\", \"X-Men: Apocalypse\", \"Trolls\", \"La La Land\", \"Kung Fu Panda 3\", \"Ghostbusters\", \"Central Intelligence\", \"The Legend of Tarzan\", \"Sully\", \"Bad Moms\", \"The Angry Birds Movie\", \"Independence Day: Resurgence\", \"The Conjuring 2\", \"Arrival\", \"Passengers\", \"Sausage Party\", \"The Magnificent Seven\", \"Ride Along 2\", \"Don't Breathe\", \"Miss Peregrine's Home for Peculiar Children\", \"The Accountant\", \"Teenage Mutant Ninja Turtles: Out of the Shadows\", \"The Purge: Election Year\", \"Alice Through the Looking Glass\", \"Pete's Dragon\", \"The Girl on the Train\", \"Boo! A Madea Halloween\", \"Storks\", \"10 Cloverfield Lane\", \"Lights Out\", \"Hacksaw Ridge\", \"Allegiant\", \"Now You See Me 2\", \"Ice Age: Collision Course\", \"The Boss\"]}}, \"title\": \"Female\", \"transform\": [{\"filter\": \"(((datum.TYPE !== 'Unknown') && (datum.GENDER !== 'Unknown')) && (datum.GENDER !== 'null'))\"}, {\"filter\": \"(datum.GENDER === 'Female')\"}], \"$schema\": \"https://vega.github.io/schema/vega-lite/v4.0.2.json\"}, {\"mode\": \"vega-lite\"});\n",
       "</script>"
      ],
      "text/plain": [
       "alt.Chart(...)"
      ]
     },
     "execution_count": 9,
     "metadata": {},
     "output_type": "execute_result"
    }
   ],
   "source": [
    "bar"
   ]
  },
  {
   "cell_type": "code",
   "execution_count": 10,
   "metadata": {
    "deletable": false,
    "nbgrader": {
     "checksum": "29c1a83d9d996688c2c423cad81dd7ea",
     "grade": false,
     "grade_id": "variables_encoded",
     "locked": false,
     "schema_version": 1,
     "solution": true
    }
   },
   "outputs": [],
   "source": [
    "def variables_encoded():\n",
    "    \"\"\"\n",
    "    This is a helper function for automated grading, just return the number (e.g., 'return 50000;'). You don't\n",
    "    need to do anything fancy here.\n",
    "    \"\"\"\n",
    "    return 2\n",
    "    # YOUR CODE HERE\n",
    "    # raise NotImplementedError()"
   ]
  },
  {
   "cell_type": "code",
   "execution_count": 11,
   "metadata": {
    "deletable": false,
    "editable": false,
    "nbgrader": {
     "checksum": "92bf91827a8977210399a1e86ae1f8b7",
     "grade": true,
     "grade_id": "variables_encoded_test",
     "locked": true,
     "points": 5,
     "schema_version": 1,
     "solution": false
    }
   },
   "outputs": [],
   "source": [
    "#hidden tests are within this cell"
   ]
  },
  {
   "cell_type": "markdown",
   "metadata": {},
   "source": [
    "### 2.2 Alternative encoding (5 points)\n",
    "Complete the `m_circle` function. Change the encoding used in the previous example from a bar to a circle. Your visualization should look like \n",
    "\n",
    "![\"Drawing\"](assets/alt_enc_1_resized.png)\n",
    "\n",
    "click [here](assets/alt_enc_1_resized_fullImage.png) to see the full-sized image."
   ]
  },
  {
   "cell_type": "code",
   "execution_count": 12,
   "metadata": {
    "deletable": false,
    "nbgrader": {
     "checksum": "201ca1e6fb35a43c20d4a415f857ab24",
     "grade": false,
     "grade_id": "m_circle",
     "locked": false,
     "schema_version": 1,
     "solution": true
    }
   },
   "outputs": [],
   "source": [
    "base = alt.Chart(actors_movies).transform_filter(\n",
    "    (alt.datum.TYPE != 'Unknown') & (alt.datum.GENDER != 'Unknown') & (alt.datum.GENDER != 'null')\n",
    ")\n",
    "encoding = base.transform_filter(\n",
    "    alt.datum.GENDER == 'Female'\n",
    ").encode(\n",
    "    y= alt.Y(\n",
    "        'index:N',\n",
    "        sort= movies_order\n",
    "    ),\n",
    "    x=alt.X('count(index):Q',\n",
    "            title='cast count'),\n",
    ")\n",
    "def m_circle():\n",
    "    \"\"\"\n",
    "    return the call to altair function that uses the circle mark for the variables encoded in the previous example \n",
    "    \"\"\"\n",
    "    return encoding.mark_circle().properties(title='Female')\n",
    "\n",
    "bar = m_circle()\n",
    "    # return encoding. (...)\n",
    "    # YOUR CODE HERE\n",
    "    # raise NotImplementedError()"
   ]
  },
  {
   "cell_type": "code",
   "execution_count": 13,
   "metadata": {},
   "outputs": [
    {
     "data": {
      "text/html": [
       "\n",
       "<div id=\"altair-viz-5745e2121e414c5384bebcec5deae658\"></div>\n",
       "<script type=\"text/javascript\">\n",
       "  (function(spec, embedOpt){\n",
       "    const outputDiv = document.getElementById(\"altair-viz-5745e2121e414c5384bebcec5deae658\");\n",
       "    const paths = {\n",
       "      \"vega\": \"https://cdn.jsdelivr.net/npm//vega@5?noext\",\n",
       "      \"vega-lib\": \"https://cdn.jsdelivr.net/npm//vega-lib?noext\",\n",
       "      \"vega-lite\": \"https://cdn.jsdelivr.net/npm//vega-lite@4.0.2?noext\",\n",
       "      \"vega-embed\": \"https://cdn.jsdelivr.net/npm//vega-embed@6?noext\",\n",
       "    };\n",
       "\n",
       "    function loadScript(lib) {\n",
       "      return new Promise(function(resolve, reject) {\n",
       "        var s = document.createElement('script');\n",
       "        s.src = paths[lib];\n",
       "        s.async = true;\n",
       "        s.onload = () => resolve(paths[lib]);\n",
       "        s.onerror = () => reject(`Error loading script: ${paths[lib]}`);\n",
       "        document.getElementsByTagName(\"head\")[0].appendChild(s);\n",
       "      });\n",
       "    }\n",
       "\n",
       "    function showError(err) {\n",
       "      outputDiv.innerHTML = `<div class=\"error\" style=\"color:red;\">${err}</div>`;\n",
       "      throw err;\n",
       "    }\n",
       "\n",
       "    function displayChart(vegaEmbed) {\n",
       "      vegaEmbed(outputDiv, spec, embedOpt)\n",
       "        .catch(err => showError(`Javascript Error: ${err.message}<br>This usually means there's a typo in your chart specification. See the javascript console for the full traceback.`));\n",
       "    }\n",
       "\n",
       "    if(typeof define === \"function\" && define.amd) {\n",
       "      requirejs.config({paths});\n",
       "      require([\"vega-embed\"], displayChart, err => showError(`Error loading script: ${err.message}`));\n",
       "    } else if (typeof vegaEmbed === \"function\") {\n",
       "      displayChart(vegaEmbed);\n",
       "    } else {\n",
       "      loadScript(\"vega\")\n",
       "        .then(() => loadScript(\"vega-lite\"))\n",
       "        .then(() => loadScript(\"vega-embed\"))\n",
       "        .catch(showError)\n",
       "        .then(() => displayChart(vegaEmbed));\n",
       "    }\n",
       "  })({\"config\": {\"view\": {\"continuousWidth\": 400, \"continuousHeight\": 300}}, \"data\": {\"url\": \"altair-data-b2fe8fb5616f2f0ec61f01d320bf8001.json\", \"format\": {\"type\": \"json\"}}, \"mark\": \"circle\", \"encoding\": {\"x\": {\"type\": \"quantitative\", \"aggregate\": \"count\", \"field\": \"index\", \"title\": \"cast count\"}, \"y\": {\"type\": \"nominal\", \"field\": \"index\", \"sort\": [\"Rogue One\", \"Finding Dory\", \"Captain America: Civil War\", \"The Secret Life of Pets\", \"The Jungle Book\", \"Deadpool\", \"Zootopia\", \"Batman v Superman: Dawn of Justice\", \"Suicide Squad\", \"Sing\", \"Moana\", \"Fantastic Beasts and Where to Find Them\", \"Doctor Strange\", \"Hidden Figures\", \"Jason Bourne\", \"Star Trek Beyond\", \"X-Men: Apocalypse\", \"Trolls\", \"La La Land\", \"Kung Fu Panda 3\", \"Ghostbusters\", \"Central Intelligence\", \"The Legend of Tarzan\", \"Sully\", \"Bad Moms\", \"The Angry Birds Movie\", \"Independence Day: Resurgence\", \"The Conjuring 2\", \"Arrival\", \"Passengers\", \"Sausage Party\", \"The Magnificent Seven\", \"Ride Along 2\", \"Don't Breathe\", \"Miss Peregrine's Home for Peculiar Children\", \"The Accountant\", \"Teenage Mutant Ninja Turtles: Out of the Shadows\", \"The Purge: Election Year\", \"Alice Through the Looking Glass\", \"Pete's Dragon\", \"The Girl on the Train\", \"Boo! A Madea Halloween\", \"Storks\", \"10 Cloverfield Lane\", \"Lights Out\", \"Hacksaw Ridge\", \"Allegiant\", \"Now You See Me 2\", \"Ice Age: Collision Course\", \"The Boss\"]}}, \"title\": \"Female\", \"transform\": [{\"filter\": \"(((datum.TYPE !== 'Unknown') && (datum.GENDER !== 'Unknown')) && (datum.GENDER !== 'null'))\"}, {\"filter\": \"(datum.GENDER === 'Female')\"}], \"$schema\": \"https://vega.github.io/schema/vega-lite/v4.0.2.json\"}, {\"mode\": \"vega-lite\"});\n",
       "</script>"
      ],
      "text/plain": [
       "alt.Chart(...)"
      ]
     },
     "execution_count": 13,
     "metadata": {},
     "output_type": "execute_result"
    }
   ],
   "source": [
    "circle = m_circle()\n",
    "circle"
   ]
  },
  {
   "cell_type": "code",
   "execution_count": 14,
   "metadata": {
    "deletable": false,
    "editable": false,
    "nbgrader": {
     "checksum": "4110fded6798868f72b43bccdfdea1b5",
     "grade": true,
     "grade_id": "m_circle_test",
     "locked": true,
     "points": 5,
     "schema_version": 1,
     "solution": false
    }
   },
   "outputs": [],
   "source": [
    "#hidden tests are within this cell"
   ]
  },
  {
   "cell_type": "markdown",
   "metadata": {},
   "source": [
    "### 2.3 Increase variables encoded (5 points)\n",
    "Complete the `female_actors` function. Modify the first bar chart encoding the type of the actor with the color of the bar. Your visualization should look like the following (note that we don't have labels yet):\n",
    "![\"Drawing\"](assets/alt_enc_2_resized.png)\n",
    "\n",
    "click [here](assets/alt_enc_2_fullSize.png) to see the full-sized image.\n",
    "\n",
    "- _Partial credit can be granted for each visualization (up to 2 points) if you provide a description of what the missing piece of the function is supposed to do without need for an Altair working version_\n"
   ]
  },
  {
   "cell_type": "code",
   "execution_count": 15,
   "metadata": {
    "deletable": false,
    "nbgrader": {
     "checksum": "f1df22d7b0e264e9ea4e4b554a90e9ab",
     "grade": false,
     "grade_id": "female_actors",
     "locked": false,
     "schema_version": 1,
     "solution": true
    }
   },
   "outputs": [],
   "source": [
    "def female_actors():\n",
    "    \"\"\"\n",
    "    return the call to Altair function that uses the bar mark for the variables and the color for the TYPE \n",
    "    \"\"\"\n",
    "\n",
    "    \n",
    "    # this is the original chart, you should replace this code\n",
    "    encoding = base.encode(\n",
    "        y= alt.Y(\n",
    "            'index:N',\n",
    "            sort= movies_order,\n",
    "            axis=None\n",
    "        ),\n",
    "        x=alt.X('count(index):Q',\n",
    "                title='cast count'\n",
    "                ),\n",
    "        color='TYPE',\n",
    "        order=alt.Order(\n",
    "            'TYPE',\n",
    "            sort='descending'\n",
    "        )\n",
    "        # add color encoding\n",
    "    )\n",
    " \n",
    "    # YOUR CODE HERE\n",
    "    # raise NotImplementedError()\n",
    "    \n",
    "   \n",
    "    return encoding.mark_bar().properties(title='Female')"
   ]
  },
  {
   "cell_type": "code",
   "execution_count": 16,
   "metadata": {},
   "outputs": [
    {
     "data": {
      "text/html": [
       "\n",
       "<div id=\"altair-viz-09df068c0f444d0ca3b206bd89fb7739\"></div>\n",
       "<script type=\"text/javascript\">\n",
       "  (function(spec, embedOpt){\n",
       "    const outputDiv = document.getElementById(\"altair-viz-09df068c0f444d0ca3b206bd89fb7739\");\n",
       "    const paths = {\n",
       "      \"vega\": \"https://cdn.jsdelivr.net/npm//vega@5?noext\",\n",
       "      \"vega-lib\": \"https://cdn.jsdelivr.net/npm//vega-lib?noext\",\n",
       "      \"vega-lite\": \"https://cdn.jsdelivr.net/npm//vega-lite@4.0.2?noext\",\n",
       "      \"vega-embed\": \"https://cdn.jsdelivr.net/npm//vega-embed@6?noext\",\n",
       "    };\n",
       "\n",
       "    function loadScript(lib) {\n",
       "      return new Promise(function(resolve, reject) {\n",
       "        var s = document.createElement('script');\n",
       "        s.src = paths[lib];\n",
       "        s.async = true;\n",
       "        s.onload = () => resolve(paths[lib]);\n",
       "        s.onerror = () => reject(`Error loading script: ${paths[lib]}`);\n",
       "        document.getElementsByTagName(\"head\")[0].appendChild(s);\n",
       "      });\n",
       "    }\n",
       "\n",
       "    function showError(err) {\n",
       "      outputDiv.innerHTML = `<div class=\"error\" style=\"color:red;\">${err}</div>`;\n",
       "      throw err;\n",
       "    }\n",
       "\n",
       "    function displayChart(vegaEmbed) {\n",
       "      vegaEmbed(outputDiv, spec, embedOpt)\n",
       "        .catch(err => showError(`Javascript Error: ${err.message}<br>This usually means there's a typo in your chart specification. See the javascript console for the full traceback.`));\n",
       "    }\n",
       "\n",
       "    if(typeof define === \"function\" && define.amd) {\n",
       "      requirejs.config({paths});\n",
       "      require([\"vega-embed\"], displayChart, err => showError(`Error loading script: ${err.message}`));\n",
       "    } else if (typeof vegaEmbed === \"function\") {\n",
       "      displayChart(vegaEmbed);\n",
       "    } else {\n",
       "      loadScript(\"vega\")\n",
       "        .then(() => loadScript(\"vega-lite\"))\n",
       "        .then(() => loadScript(\"vega-embed\"))\n",
       "        .catch(showError)\n",
       "        .then(() => displayChart(vegaEmbed));\n",
       "    }\n",
       "  })({\"config\": {\"view\": {\"continuousWidth\": 400, \"continuousHeight\": 300}}, \"data\": {\"url\": \"altair-data-b2fe8fb5616f2f0ec61f01d320bf8001.json\", \"format\": {\"type\": \"json\"}}, \"mark\": \"bar\", \"encoding\": {\"color\": {\"type\": \"nominal\", \"field\": \"TYPE\"}, \"order\": {\"type\": \"nominal\", \"field\": \"TYPE\", \"sort\": \"descending\"}, \"x\": {\"type\": \"quantitative\", \"aggregate\": \"count\", \"field\": \"index\", \"title\": \"cast count\"}, \"y\": {\"type\": \"nominal\", \"axis\": null, \"field\": \"index\", \"sort\": [\"Rogue One\", \"Finding Dory\", \"Captain America: Civil War\", \"The Secret Life of Pets\", \"The Jungle Book\", \"Deadpool\", \"Zootopia\", \"Batman v Superman: Dawn of Justice\", \"Suicide Squad\", \"Sing\", \"Moana\", \"Fantastic Beasts and Where to Find Them\", \"Doctor Strange\", \"Hidden Figures\", \"Jason Bourne\", \"Star Trek Beyond\", \"X-Men: Apocalypse\", \"Trolls\", \"La La Land\", \"Kung Fu Panda 3\", \"Ghostbusters\", \"Central Intelligence\", \"The Legend of Tarzan\", \"Sully\", \"Bad Moms\", \"The Angry Birds Movie\", \"Independence Day: Resurgence\", \"The Conjuring 2\", \"Arrival\", \"Passengers\", \"Sausage Party\", \"The Magnificent Seven\", \"Ride Along 2\", \"Don't Breathe\", \"Miss Peregrine's Home for Peculiar Children\", \"The Accountant\", \"Teenage Mutant Ninja Turtles: Out of the Shadows\", \"The Purge: Election Year\", \"Alice Through the Looking Glass\", \"Pete's Dragon\", \"The Girl on the Train\", \"Boo! A Madea Halloween\", \"Storks\", \"10 Cloverfield Lane\", \"Lights Out\", \"Hacksaw Ridge\", \"Allegiant\", \"Now You See Me 2\", \"Ice Age: Collision Course\", \"The Boss\"]}}, \"title\": \"Female\", \"transform\": [{\"filter\": \"(((datum.TYPE !== 'Unknown') && (datum.GENDER !== 'Unknown')) && (datum.GENDER !== 'null'))\"}], \"$schema\": \"https://vega.github.io/schema/vega-lite/v4.0.2.json\"}, {\"mode\": \"vega-lite\"});\n",
       "</script>"
      ],
      "text/plain": [
       "alt.Chart(...)"
      ]
     },
     "execution_count": 16,
     "metadata": {},
     "output_type": "execute_result"
    }
   ],
   "source": [
    "female = female_actors()\n",
    "female"
   ]
  },
  {
   "cell_type": "code",
   "execution_count": 17,
   "metadata": {
    "deletable": false,
    "editable": false,
    "nbgrader": {
     "checksum": "3656c3679c91795df6a1faa412179676",
     "grade": true,
     "grade_id": "female_actors_test",
     "locked": true,
     "points": 5,
     "schema_version": 1,
     "solution": false
    }
   },
   "outputs": [],
   "source": [
    "#hidden tests are within this cell\n"
   ]
  },
  {
   "cell_type": "markdown",
   "metadata": {},
   "source": [
    "### 2.4 Change filter transform (5 points)\n",
    "Complete the male_actors function, modify the previous visualization so that the actors visualized have Male gender. Use the Altair transform function for this, not Pandas.\n",
    "\n",
    "\n",
    "![\"Drawing\"](assets/alt_enc_3_resized.png)\n",
    "\n",
    "click [here](assets/alt_enc_3_fullSize.png) to see the full-sized image.\n",
    "\n",
    "- _Partial credit can be granted for each visualization (up to 2 points) if you provide a description of what the missing piece of the function is supposed to do without need for an altair working version_"
   ]
  },
  {
   "cell_type": "code",
   "execution_count": 18,
   "metadata": {
    "deletable": false,
    "nbgrader": {
     "checksum": "8ec9a0a4a2e15251bfcf8904fb4b5ce7",
     "grade": false,
     "grade_id": "male_actors",
     "locked": false,
     "schema_version": 1,
     "solution": true
    }
   },
   "outputs": [],
   "source": [
    "def male_actors():\n",
    "    \"\"\"\n",
    "    return an altair-defined chart that uses the bar mark for the variables and the color for the TYPE \n",
    "    this function filters the actors to be male\n",
    "    \"\"\"\n",
    "    #add filter transform\n",
    "    # This is the starting point. Again, modify or replace this code to get the encoding we describe above\n",
    "    encoding = base.transform_filter(\n",
    "        alt.datum.GENDER == 'Male'\n",
    "        ).encode(\n",
    "            y= alt.Y(\n",
    "            'index:N',\n",
    "            sort= movies_order\n",
    "        ),\n",
    "        x=alt.X('count(index):Q',\n",
    "                sort='descending',\n",
    "                title='cast count'),\n",
    "        color='TYPE',\n",
    "        order=alt.Order(\n",
    "            'TYPE',\n",
    "            sort='descending'\n",
    "        )\n",
    "         # add color encoding\n",
    "    ).mark_bar().properties(title='Male')\n",
    "    \n",
    "    # YOUR CODE HERE\n",
    "    # raise NotImplementedError()\n",
    "    \n",
    "    return encoding.mark_bar().properties(title='Male')"
   ]
  },
  {
   "cell_type": "code",
   "execution_count": 19,
   "metadata": {},
   "outputs": [
    {
     "data": {
      "text/html": [
       "\n",
       "<div id=\"altair-viz-8ec3a241a370463aa763069b9e76737b\"></div>\n",
       "<script type=\"text/javascript\">\n",
       "  (function(spec, embedOpt){\n",
       "    const outputDiv = document.getElementById(\"altair-viz-8ec3a241a370463aa763069b9e76737b\");\n",
       "    const paths = {\n",
       "      \"vega\": \"https://cdn.jsdelivr.net/npm//vega@5?noext\",\n",
       "      \"vega-lib\": \"https://cdn.jsdelivr.net/npm//vega-lib?noext\",\n",
       "      \"vega-lite\": \"https://cdn.jsdelivr.net/npm//vega-lite@4.0.2?noext\",\n",
       "      \"vega-embed\": \"https://cdn.jsdelivr.net/npm//vega-embed@6?noext\",\n",
       "    };\n",
       "\n",
       "    function loadScript(lib) {\n",
       "      return new Promise(function(resolve, reject) {\n",
       "        var s = document.createElement('script');\n",
       "        s.src = paths[lib];\n",
       "        s.async = true;\n",
       "        s.onload = () => resolve(paths[lib]);\n",
       "        s.onerror = () => reject(`Error loading script: ${paths[lib]}`);\n",
       "        document.getElementsByTagName(\"head\")[0].appendChild(s);\n",
       "      });\n",
       "    }\n",
       "\n",
       "    function showError(err) {\n",
       "      outputDiv.innerHTML = `<div class=\"error\" style=\"color:red;\">${err}</div>`;\n",
       "      throw err;\n",
       "    }\n",
       "\n",
       "    function displayChart(vegaEmbed) {\n",
       "      vegaEmbed(outputDiv, spec, embedOpt)\n",
       "        .catch(err => showError(`Javascript Error: ${err.message}<br>This usually means there's a typo in your chart specification. See the javascript console for the full traceback.`));\n",
       "    }\n",
       "\n",
       "    if(typeof define === \"function\" && define.amd) {\n",
       "      requirejs.config({paths});\n",
       "      require([\"vega-embed\"], displayChart, err => showError(`Error loading script: ${err.message}`));\n",
       "    } else if (typeof vegaEmbed === \"function\") {\n",
       "      displayChart(vegaEmbed);\n",
       "    } else {\n",
       "      loadScript(\"vega\")\n",
       "        .then(() => loadScript(\"vega-lite\"))\n",
       "        .then(() => loadScript(\"vega-embed\"))\n",
       "        .catch(showError)\n",
       "        .then(() => displayChart(vegaEmbed));\n",
       "    }\n",
       "  })({\"config\": {\"view\": {\"continuousWidth\": 400, \"continuousHeight\": 300}}, \"data\": {\"url\": \"altair-data-b2fe8fb5616f2f0ec61f01d320bf8001.json\", \"format\": {\"type\": \"json\"}}, \"mark\": \"bar\", \"encoding\": {\"color\": {\"type\": \"nominal\", \"field\": \"TYPE\"}, \"order\": {\"type\": \"nominal\", \"field\": \"TYPE\", \"sort\": \"descending\"}, \"x\": {\"type\": \"quantitative\", \"aggregate\": \"count\", \"field\": \"index\", \"sort\": \"descending\", \"title\": \"cast count\"}, \"y\": {\"type\": \"nominal\", \"field\": \"index\", \"sort\": [\"Rogue One\", \"Finding Dory\", \"Captain America: Civil War\", \"The Secret Life of Pets\", \"The Jungle Book\", \"Deadpool\", \"Zootopia\", \"Batman v Superman: Dawn of Justice\", \"Suicide Squad\", \"Sing\", \"Moana\", \"Fantastic Beasts and Where to Find Them\", \"Doctor Strange\", \"Hidden Figures\", \"Jason Bourne\", \"Star Trek Beyond\", \"X-Men: Apocalypse\", \"Trolls\", \"La La Land\", \"Kung Fu Panda 3\", \"Ghostbusters\", \"Central Intelligence\", \"The Legend of Tarzan\", \"Sully\", \"Bad Moms\", \"The Angry Birds Movie\", \"Independence Day: Resurgence\", \"The Conjuring 2\", \"Arrival\", \"Passengers\", \"Sausage Party\", \"The Magnificent Seven\", \"Ride Along 2\", \"Don't Breathe\", \"Miss Peregrine's Home for Peculiar Children\", \"The Accountant\", \"Teenage Mutant Ninja Turtles: Out of the Shadows\", \"The Purge: Election Year\", \"Alice Through the Looking Glass\", \"Pete's Dragon\", \"The Girl on the Train\", \"Boo! A Madea Halloween\", \"Storks\", \"10 Cloverfield Lane\", \"Lights Out\", \"Hacksaw Ridge\", \"Allegiant\", \"Now You See Me 2\", \"Ice Age: Collision Course\", \"The Boss\"]}}, \"title\": \"Male\", \"transform\": [{\"filter\": \"(((datum.TYPE !== 'Unknown') && (datum.GENDER !== 'Unknown')) && (datum.GENDER !== 'null'))\"}, {\"filter\": \"(datum.GENDER === 'Male')\"}], \"$schema\": \"https://vega.github.io/schema/vega-lite/v4.0.2.json\"}, {\"mode\": \"vega-lite\"});\n",
       "</script>"
      ],
      "text/plain": [
       "alt.Chart(...)"
      ]
     },
     "execution_count": 19,
     "metadata": {},
     "output_type": "execute_result"
    }
   ],
   "source": [
    "male = male_actors()\n",
    "male"
   ]
  },
  {
   "cell_type": "code",
   "execution_count": 20,
   "metadata": {
    "deletable": false,
    "editable": false,
    "nbgrader": {
     "checksum": "0779b1ead6032a632eb159c7d24ca452",
     "grade": true,
     "grade_id": "male_actors_test",
     "locked": true,
     "points": 5,
     "schema_version": 1,
     "solution": false
    }
   },
   "outputs": [],
   "source": [
    "#hidden tests are within this cell"
   ]
  },
  {
   "cell_type": "markdown",
   "metadata": {},
   "source": [
    "### 2.5 Variables encoded 2 (5 points)\n",
    "Complete the `variables_encoded_2` function.\n",
    "Return the number of variables encoded in the following plot (again, something like `return 5000;`... we're using this for automated testing). If you have been able to complete the previous examples, the plot should look like this\n",
    "\n",
    "![\"Drawing\"](assets/visualization_resized.png)\n",
    "\n",
    "click [here](assets/visualization_fullSize.png) to see the full-sized image."
   ]
  },
  {
   "cell_type": "code",
   "execution_count": 21,
   "metadata": {},
   "outputs": [
    {
     "data": {
      "text/html": [
       "\n",
       "<div id=\"altair-viz-5fe3c66e4d734abd9ee669efb8e30fc6\"></div>\n",
       "<script type=\"text/javascript\">\n",
       "  (function(spec, embedOpt){\n",
       "    const outputDiv = document.getElementById(\"altair-viz-5fe3c66e4d734abd9ee669efb8e30fc6\");\n",
       "    const paths = {\n",
       "      \"vega\": \"https://cdn.jsdelivr.net/npm//vega@5?noext\",\n",
       "      \"vega-lib\": \"https://cdn.jsdelivr.net/npm//vega-lib?noext\",\n",
       "      \"vega-lite\": \"https://cdn.jsdelivr.net/npm//vega-lite@4.0.2?noext\",\n",
       "      \"vega-embed\": \"https://cdn.jsdelivr.net/npm//vega-embed@6?noext\",\n",
       "    };\n",
       "\n",
       "    function loadScript(lib) {\n",
       "      return new Promise(function(resolve, reject) {\n",
       "        var s = document.createElement('script');\n",
       "        s.src = paths[lib];\n",
       "        s.async = true;\n",
       "        s.onload = () => resolve(paths[lib]);\n",
       "        s.onerror = () => reject(`Error loading script: ${paths[lib]}`);\n",
       "        document.getElementsByTagName(\"head\")[0].appendChild(s);\n",
       "      });\n",
       "    }\n",
       "\n",
       "    function showError(err) {\n",
       "      outputDiv.innerHTML = `<div class=\"error\" style=\"color:red;\">${err}</div>`;\n",
       "      throw err;\n",
       "    }\n",
       "\n",
       "    function displayChart(vegaEmbed) {\n",
       "      vegaEmbed(outputDiv, spec, embedOpt)\n",
       "        .catch(err => showError(`Javascript Error: ${err.message}<br>This usually means there's a typo in your chart specification. See the javascript console for the full traceback.`));\n",
       "    }\n",
       "\n",
       "    if(typeof define === \"function\" && define.amd) {\n",
       "      requirejs.config({paths});\n",
       "      require([\"vega-embed\"], displayChart, err => showError(`Error loading script: ${err.message}`));\n",
       "    } else if (typeof vegaEmbed === \"function\") {\n",
       "      displayChart(vegaEmbed);\n",
       "    } else {\n",
       "      loadScript(\"vega\")\n",
       "        .then(() => loadScript(\"vega-lite\"))\n",
       "        .then(() => loadScript(\"vega-embed\"))\n",
       "        .catch(showError)\n",
       "        .then(() => displayChart(vegaEmbed));\n",
       "    }\n",
       "  })({\"config\": {\"view\": {\"continuousWidth\": 400, \"continuousHeight\": 300}}, \"hconcat\": [{\"mark\": \"bar\", \"encoding\": {\"color\": {\"type\": \"nominal\", \"field\": \"TYPE\"}, \"order\": {\"type\": \"nominal\", \"field\": \"TYPE\", \"sort\": \"descending\"}, \"x\": {\"type\": \"quantitative\", \"aggregate\": \"count\", \"field\": \"index\", \"sort\": \"descending\", \"title\": \"cast count\"}, \"y\": {\"type\": \"nominal\", \"field\": \"index\", \"sort\": [\"Rogue One\", \"Finding Dory\", \"Captain America: Civil War\", \"The Secret Life of Pets\", \"The Jungle Book\", \"Deadpool\", \"Zootopia\", \"Batman v Superman: Dawn of Justice\", \"Suicide Squad\", \"Sing\", \"Moana\", \"Fantastic Beasts and Where to Find Them\", \"Doctor Strange\", \"Hidden Figures\", \"Jason Bourne\", \"Star Trek Beyond\", \"X-Men: Apocalypse\", \"Trolls\", \"La La Land\", \"Kung Fu Panda 3\", \"Ghostbusters\", \"Central Intelligence\", \"The Legend of Tarzan\", \"Sully\", \"Bad Moms\", \"The Angry Birds Movie\", \"Independence Day: Resurgence\", \"The Conjuring 2\", \"Arrival\", \"Passengers\", \"Sausage Party\", \"The Magnificent Seven\", \"Ride Along 2\", \"Don't Breathe\", \"Miss Peregrine's Home for Peculiar Children\", \"The Accountant\", \"Teenage Mutant Ninja Turtles: Out of the Shadows\", \"The Purge: Election Year\", \"Alice Through the Looking Glass\", \"Pete's Dragon\", \"The Girl on the Train\", \"Boo! A Madea Halloween\", \"Storks\", \"10 Cloverfield Lane\", \"Lights Out\", \"Hacksaw Ridge\", \"Allegiant\", \"Now You See Me 2\", \"Ice Age: Collision Course\", \"The Boss\"]}}, \"title\": \"Male\", \"transform\": [{\"filter\": \"(((datum.TYPE !== 'Unknown') && (datum.GENDER !== 'Unknown')) && (datum.GENDER !== 'null'))\"}, {\"filter\": \"(datum.GENDER === 'Male')\"}]}, {\"mark\": \"text\", \"encoding\": {\"color\": {\"type\": \"nominal\", \"field\": \"bechdel\"}, \"text\": {\"type\": \"quantitative\", \"field\": \"Rank\"}, \"y\": {\"type\": \"ordinal\", \"axis\": null, \"field\": \"Rank\"}}, \"transform\": [{\"filter\": \"(((datum.TYPE !== 'Unknown') && (datum.GENDER !== 'Unknown')) && (datum.GENDER !== 'null'))\"}], \"width\": 20}, {\"mark\": \"bar\", \"encoding\": {\"color\": {\"type\": \"nominal\", \"field\": \"TYPE\"}, \"order\": {\"type\": \"nominal\", \"field\": \"TYPE\", \"sort\": \"descending\"}, \"x\": {\"type\": \"quantitative\", \"aggregate\": \"count\", \"field\": \"index\", \"title\": \"cast count\"}, \"y\": {\"type\": \"nominal\", \"axis\": null, \"field\": \"index\", \"sort\": [\"Rogue One\", \"Finding Dory\", \"Captain America: Civil War\", \"The Secret Life of Pets\", \"The Jungle Book\", \"Deadpool\", \"Zootopia\", \"Batman v Superman: Dawn of Justice\", \"Suicide Squad\", \"Sing\", \"Moana\", \"Fantastic Beasts and Where to Find Them\", \"Doctor Strange\", \"Hidden Figures\", \"Jason Bourne\", \"Star Trek Beyond\", \"X-Men: Apocalypse\", \"Trolls\", \"La La Land\", \"Kung Fu Panda 3\", \"Ghostbusters\", \"Central Intelligence\", \"The Legend of Tarzan\", \"Sully\", \"Bad Moms\", \"The Angry Birds Movie\", \"Independence Day: Resurgence\", \"The Conjuring 2\", \"Arrival\", \"Passengers\", \"Sausage Party\", \"The Magnificent Seven\", \"Ride Along 2\", \"Don't Breathe\", \"Miss Peregrine's Home for Peculiar Children\", \"The Accountant\", \"Teenage Mutant Ninja Turtles: Out of the Shadows\", \"The Purge: Election Year\", \"Alice Through the Looking Glass\", \"Pete's Dragon\", \"The Girl on the Train\", \"Boo! A Madea Halloween\", \"Storks\", \"10 Cloverfield Lane\", \"Lights Out\", \"Hacksaw Ridge\", \"Allegiant\", \"Now You See Me 2\", \"Ice Age: Collision Course\", \"The Boss\"]}}, \"title\": \"Female\", \"transform\": [{\"filter\": \"(((datum.TYPE !== 'Unknown') && (datum.GENDER !== 'Unknown')) && (datum.GENDER !== 'null'))\"}]}], \"data\": {\"url\": \"altair-data-b2fe8fb5616f2f0ec61f01d320bf8001.json\", \"format\": {\"type\": \"json\"}}, \"$schema\": \"https://vega.github.io/schema/vega-lite/v4.0.2.json\"}, {\"mode\": \"vega-lite\"});\n",
       "</script>"
      ],
      "text/plain": [
       "alt.HConcatChart(...)"
      ]
     },
     "execution_count": 21,
     "metadata": {},
     "output_type": "execute_result"
    }
   ],
   "source": [
    "middle = base.encode(\n",
    "    y=alt.Y('Rank:O', axis=None),\n",
    "    text=alt.Text('Rank:Q'),\n",
    "    color=alt.Color('bechdel:N')\n",
    ").mark_text().properties(width=20)\n",
    "\n",
    "# merge together the three charts, male, middle, female\n",
    "male | middle | female"
   ]
  },
  {
   "cell_type": "code",
   "execution_count": 22,
   "metadata": {
    "deletable": false,
    "nbgrader": {
     "checksum": "602b60ddc3171537ab07047a3f8a8cbb",
     "grade": false,
     "grade_id": "variables_encoded_2",
     "locked": false,
     "schema_version": 1,
     "solution": true
    }
   },
   "outputs": [],
   "source": [
    "def variables_encoded_2():\n",
    "    \"\"\"\n",
    "    return the number of variables encoded in the given example\n",
    "    \"\"\"\n",
    "    # YOUR CODE HERE\n",
    "    # rank, index(movie name), cast count, gender, type, bechdel test\n",
    "    return 6\n",
    "    # raise NotImplementedError()"
   ]
  },
  {
   "cell_type": "code",
   "execution_count": 23,
   "metadata": {
    "deletable": false,
    "editable": false,
    "nbgrader": {
     "checksum": "5a227fc538e27371422c2cafe7447289",
     "grade": true,
     "grade_id": "variables_encoded_2_test",
     "locked": true,
     "points": 5,
     "schema_version": 1,
     "solution": false
    }
   },
   "outputs": [],
   "source": [
    "#hidden tests are within this cell"
   ]
  },
  {
   "cell_type": "markdown",
   "metadata": {},
   "source": [
    "### 2.6 Alternative encoding 1 (20 Points)\n",
    "Create a new visualization within the `alternative_encoding_one` function with the following encoding:\n",
    "- Use circles as the mark\n",
    "- Use the scale of the circles to encode the number of actors on each category\n",
    "- Use the y position of the circle to encode the movie\n",
    "- Use the x position of the circle to encode the type of actor\n",
    "- Use the color of the circle to encode the gender of the actor\n",
    "- Match the styling of the example\n",
    "\n",
    "\n",
    "![\"Drawing\"](assets/visualization_2_resized.png)\n",
    "\n",
    "click [here](assets/visualization_2_fullSize.png) to see the full-sized image.\n",
    "\n",
    "- _Partial credit can be granted for each visualization (up to 5 points) if you provide a description of what the missing piece of the function is supposed to do_"
   ]
  },
  {
   "cell_type": "code",
   "execution_count": 24,
   "metadata": {
    "deletable": false,
    "nbgrader": {
     "checksum": "5fc7614b9c9cefc1f70a0bceb231ea10",
     "grade": false,
     "grade_id": "alternative_encoding_one",
     "locked": false,
     "schema_version": 1,
     "solution": true
    }
   },
   "outputs": [],
   "source": [
    "def alternative_encoding_one():\n",
    "    \"\"\"\n",
    "    return call to altair function for the new visualization\n",
    "    \"\"\"\n",
    "    #change this\n",
    "    plot = base.mark_circle(\n",
    "       opacity=0.8,\n",
    "       stroke='black',\n",
    "       strokeWidth=1\n",
    "    ).encode(\n",
    "        alt.X('TYPE:O'),\n",
    "        alt.Y('index:N',\n",
    "              sort= movies_order\n",
    "              ),\n",
    "        alt.Size('count(index):Q',\n",
    "        scale=alt.Scale(range=[0,4500]),\n",
    "        legend=alt.Legend(title='Count of actors', symbolFillColor='white')),\n",
    "        alt.Color('GENDER')\n",
    "        #complete this\n",
    "    ).properties(\n",
    "        width=350,\n",
    "        height=880\n",
    "    )\n",
    "    # YOUR CODE HERE\n",
    "    # raise NotImplementedError()\n",
    "    return plot"
   ]
  },
  {
   "cell_type": "code",
   "execution_count": 25,
   "metadata": {},
   "outputs": [
    {
     "data": {
      "text/html": [
       "\n",
       "<div id=\"altair-viz-6671eaee2a5c4a72a4d13dd4e6360133\"></div>\n",
       "<script type=\"text/javascript\">\n",
       "  (function(spec, embedOpt){\n",
       "    const outputDiv = document.getElementById(\"altair-viz-6671eaee2a5c4a72a4d13dd4e6360133\");\n",
       "    const paths = {\n",
       "      \"vega\": \"https://cdn.jsdelivr.net/npm//vega@5?noext\",\n",
       "      \"vega-lib\": \"https://cdn.jsdelivr.net/npm//vega-lib?noext\",\n",
       "      \"vega-lite\": \"https://cdn.jsdelivr.net/npm//vega-lite@4.0.2?noext\",\n",
       "      \"vega-embed\": \"https://cdn.jsdelivr.net/npm//vega-embed@6?noext\",\n",
       "    };\n",
       "\n",
       "    function loadScript(lib) {\n",
       "      return new Promise(function(resolve, reject) {\n",
       "        var s = document.createElement('script');\n",
       "        s.src = paths[lib];\n",
       "        s.async = true;\n",
       "        s.onload = () => resolve(paths[lib]);\n",
       "        s.onerror = () => reject(`Error loading script: ${paths[lib]}`);\n",
       "        document.getElementsByTagName(\"head\")[0].appendChild(s);\n",
       "      });\n",
       "    }\n",
       "\n",
       "    function showError(err) {\n",
       "      outputDiv.innerHTML = `<div class=\"error\" style=\"color:red;\">${err}</div>`;\n",
       "      throw err;\n",
       "    }\n",
       "\n",
       "    function displayChart(vegaEmbed) {\n",
       "      vegaEmbed(outputDiv, spec, embedOpt)\n",
       "        .catch(err => showError(`Javascript Error: ${err.message}<br>This usually means there's a typo in your chart specification. See the javascript console for the full traceback.`));\n",
       "    }\n",
       "\n",
       "    if(typeof define === \"function\" && define.amd) {\n",
       "      requirejs.config({paths});\n",
       "      require([\"vega-embed\"], displayChart, err => showError(`Error loading script: ${err.message}`));\n",
       "    } else if (typeof vegaEmbed === \"function\") {\n",
       "      displayChart(vegaEmbed);\n",
       "    } else {\n",
       "      loadScript(\"vega\")\n",
       "        .then(() => loadScript(\"vega-lite\"))\n",
       "        .then(() => loadScript(\"vega-embed\"))\n",
       "        .catch(showError)\n",
       "        .then(() => displayChart(vegaEmbed));\n",
       "    }\n",
       "  })({\"config\": {\"view\": {\"continuousWidth\": 400, \"continuousHeight\": 300}}, \"hconcat\": [{\"mark\": \"text\", \"encoding\": {\"color\": {\"type\": \"nominal\", \"field\": \"bechdel\"}, \"text\": {\"type\": \"quantitative\", \"field\": \"Rank\"}, \"y\": {\"type\": \"ordinal\", \"axis\": null, \"field\": \"Rank\"}}, \"transform\": [{\"filter\": \"(((datum.TYPE !== 'Unknown') && (datum.GENDER !== 'Unknown')) && (datum.GENDER !== 'null'))\"}], \"width\": 20}, {\"mark\": {\"type\": \"circle\", \"opacity\": 0.8, \"stroke\": \"black\", \"strokeWidth\": 1}, \"encoding\": {\"color\": {\"type\": \"nominal\", \"field\": \"GENDER\"}, \"size\": {\"type\": \"quantitative\", \"aggregate\": \"count\", \"field\": \"index\", \"legend\": {\"symbolFillColor\": \"white\", \"title\": \"Count of actors\"}, \"scale\": {\"range\": [0, 4500]}}, \"x\": {\"type\": \"ordinal\", \"field\": \"TYPE\"}, \"y\": {\"type\": \"nominal\", \"field\": \"index\", \"sort\": [\"Rogue One\", \"Finding Dory\", \"Captain America: Civil War\", \"The Secret Life of Pets\", \"The Jungle Book\", \"Deadpool\", \"Zootopia\", \"Batman v Superman: Dawn of Justice\", \"Suicide Squad\", \"Sing\", \"Moana\", \"Fantastic Beasts and Where to Find Them\", \"Doctor Strange\", \"Hidden Figures\", \"Jason Bourne\", \"Star Trek Beyond\", \"X-Men: Apocalypse\", \"Trolls\", \"La La Land\", \"Kung Fu Panda 3\", \"Ghostbusters\", \"Central Intelligence\", \"The Legend of Tarzan\", \"Sully\", \"Bad Moms\", \"The Angry Birds Movie\", \"Independence Day: Resurgence\", \"The Conjuring 2\", \"Arrival\", \"Passengers\", \"Sausage Party\", \"The Magnificent Seven\", \"Ride Along 2\", \"Don't Breathe\", \"Miss Peregrine's Home for Peculiar Children\", \"The Accountant\", \"Teenage Mutant Ninja Turtles: Out of the Shadows\", \"The Purge: Election Year\", \"Alice Through the Looking Glass\", \"Pete's Dragon\", \"The Girl on the Train\", \"Boo! A Madea Halloween\", \"Storks\", \"10 Cloverfield Lane\", \"Lights Out\", \"Hacksaw Ridge\", \"Allegiant\", \"Now You See Me 2\", \"Ice Age: Collision Course\", \"The Boss\"]}}, \"height\": 880, \"transform\": [{\"filter\": \"(((datum.TYPE !== 'Unknown') && (datum.GENDER !== 'Unknown')) && (datum.GENDER !== 'null'))\"}], \"width\": 350}], \"data\": {\"url\": \"altair-data-b2fe8fb5616f2f0ec61f01d320bf8001.json\", \"format\": {\"type\": \"json\"}}, \"$schema\": \"https://vega.github.io/schema/vega-lite/v4.0.2.json\"}, {\"mode\": \"vega-lite\"});\n",
       "</script>"
      ],
      "text/plain": [
       "alt.HConcatChart(...)"
      ]
     },
     "execution_count": 25,
     "metadata": {},
     "output_type": "execute_result"
    }
   ],
   "source": [
    "al_enc_one = alternative_encoding_one()\n",
    "middle | al_enc_one"
   ]
  },
  {
   "cell_type": "code",
   "execution_count": 26,
   "metadata": {
    "deletable": false,
    "editable": false,
    "nbgrader": {
     "checksum": "483e0280d9d01d653eba82505453157d",
     "grade": true,
     "grade_id": "alternative_encoding_one_test",
     "locked": true,
     "points": 20,
     "schema_version": 1,
     "solution": false
    }
   },
   "outputs": [],
   "source": [
    "#hidden tests are within this cell\n"
   ]
  },
  {
   "cell_type": "markdown",
   "metadata": {},
   "source": [
    "### 2.7 Alternative encoding 2 (25 Points)\n",
    "complete `female_actors_1()` and `male_actors_1()` functions to create a new visualization with the following encoding:\n",
    "- The left and right plot should filter male and female actors respectively\n",
    "- Use rectangles as the mark\n",
    "- Use the text inside each rectangle to encode the count of actors one each category (gender, type and movie)\n",
    "- Use the y position of the rectangle to encode the movie\n",
    "- Use the x position of the rectangle to encode the type of actor\n",
    "- Use the color of the rectangle to encode whether that movie passes the Bechdel test or not (bechdel variable)\n",
    "- Note that only the female vis has labels on the left, the male vis does not\n",
    "\n",
    "The top of the female plot would look like this (click [here](assets/visualization_3_fullSize.png) to see the full-sized image):\n",
    "\n",
    "![\"Drawing\"](assets/visualization_3_resized.png)\n",
    "\n",
    "If you've done everything correctly, your final visualization should look like the one below (click [here](assets/visualization_3_full.png) for the full plot).\n",
    "\n",
    "![\"Drawing\"](assets/visualization_3.png)\n",
    "\n",
    "- _Partial credit can be granted for each visualization (up to 4 points for each function) if you provide a description of what the missing piece of the function is supposed to do without need for an Altair working version_"
   ]
  },
  {
   "cell_type": "code",
   "execution_count": 27,
   "metadata": {
    "deletable": false,
    "nbgrader": {
     "checksum": "688d0acc7cb6ae97607db6a9a1a6be37",
     "grade": false,
     "grade_id": "female_actors_1",
     "locked": false,
     "schema_version": 1,
     "solution": true
    }
   },
   "outputs": [],
   "source": [
    "def female_actors_1():\n",
    "    \"\"\"\n",
    "    return call to altair function for the new visualization\n",
    "    \"\"\"\n",
    "    # modify to add filter transform\n",
    "    female_p = base.transform_filter(\n",
    "    alt.datum.GENDER == 'Female').mark_rect().encode(\n",
    "        alt.X('TYPE:O'),\n",
    "        alt.Y('index:N',\n",
    "            sort=movies_order),\n",
    "        color=alt.Color('bechdel:N')\n",
    "    )\n",
    "\n",
    "    text = base.transform_filter(\n",
    "        alt.datum.GENDER == 'Female').mark_text(align='center',baseline='middle').encode(\n",
    "        y = alt.Y('index:N',\n",
    "                sort=movies_order),\n",
    "        x = 'TYPE:O',\n",
    "        text='count(index)')\n",
    "\n",
    "    # YOUR CODE HERE\n",
    "    # raise NotImplementedError()\n",
    "    return female_p + text"
   ]
  },
  {
   "cell_type": "code",
   "execution_count": 28,
   "metadata": {},
   "outputs": [
    {
     "data": {
      "text/html": [
       "\n",
       "<div id=\"altair-viz-2d478bce75484200a07aa3f409a98ce9\"></div>\n",
       "<script type=\"text/javascript\">\n",
       "  (function(spec, embedOpt){\n",
       "    const outputDiv = document.getElementById(\"altair-viz-2d478bce75484200a07aa3f409a98ce9\");\n",
       "    const paths = {\n",
       "      \"vega\": \"https://cdn.jsdelivr.net/npm//vega@5?noext\",\n",
       "      \"vega-lib\": \"https://cdn.jsdelivr.net/npm//vega-lib?noext\",\n",
       "      \"vega-lite\": \"https://cdn.jsdelivr.net/npm//vega-lite@4.0.2?noext\",\n",
       "      \"vega-embed\": \"https://cdn.jsdelivr.net/npm//vega-embed@6?noext\",\n",
       "    };\n",
       "\n",
       "    function loadScript(lib) {\n",
       "      return new Promise(function(resolve, reject) {\n",
       "        var s = document.createElement('script');\n",
       "        s.src = paths[lib];\n",
       "        s.async = true;\n",
       "        s.onload = () => resolve(paths[lib]);\n",
       "        s.onerror = () => reject(`Error loading script: ${paths[lib]}`);\n",
       "        document.getElementsByTagName(\"head\")[0].appendChild(s);\n",
       "      });\n",
       "    }\n",
       "\n",
       "    function showError(err) {\n",
       "      outputDiv.innerHTML = `<div class=\"error\" style=\"color:red;\">${err}</div>`;\n",
       "      throw err;\n",
       "    }\n",
       "\n",
       "    function displayChart(vegaEmbed) {\n",
       "      vegaEmbed(outputDiv, spec, embedOpt)\n",
       "        .catch(err => showError(`Javascript Error: ${err.message}<br>This usually means there's a typo in your chart specification. See the javascript console for the full traceback.`));\n",
       "    }\n",
       "\n",
       "    if(typeof define === \"function\" && define.amd) {\n",
       "      requirejs.config({paths});\n",
       "      require([\"vega-embed\"], displayChart, err => showError(`Error loading script: ${err.message}`));\n",
       "    } else if (typeof vegaEmbed === \"function\") {\n",
       "      displayChart(vegaEmbed);\n",
       "    } else {\n",
       "      loadScript(\"vega\")\n",
       "        .then(() => loadScript(\"vega-lite\"))\n",
       "        .then(() => loadScript(\"vega-embed\"))\n",
       "        .catch(showError)\n",
       "        .then(() => displayChart(vegaEmbed));\n",
       "    }\n",
       "  })({\"config\": {\"view\": {\"continuousWidth\": 400, \"continuousHeight\": 300}}, \"layer\": [{\"mark\": \"rect\", \"encoding\": {\"color\": {\"type\": \"nominal\", \"field\": \"bechdel\"}, \"x\": {\"type\": \"ordinal\", \"field\": \"TYPE\"}, \"y\": {\"type\": \"nominal\", \"field\": \"index\", \"sort\": [\"Rogue One\", \"Finding Dory\", \"Captain America: Civil War\", \"The Secret Life of Pets\", \"The Jungle Book\", \"Deadpool\", \"Zootopia\", \"Batman v Superman: Dawn of Justice\", \"Suicide Squad\", \"Sing\", \"Moana\", \"Fantastic Beasts and Where to Find Them\", \"Doctor Strange\", \"Hidden Figures\", \"Jason Bourne\", \"Star Trek Beyond\", \"X-Men: Apocalypse\", \"Trolls\", \"La La Land\", \"Kung Fu Panda 3\", \"Ghostbusters\", \"Central Intelligence\", \"The Legend of Tarzan\", \"Sully\", \"Bad Moms\", \"The Angry Birds Movie\", \"Independence Day: Resurgence\", \"The Conjuring 2\", \"Arrival\", \"Passengers\", \"Sausage Party\", \"The Magnificent Seven\", \"Ride Along 2\", \"Don't Breathe\", \"Miss Peregrine's Home for Peculiar Children\", \"The Accountant\", \"Teenage Mutant Ninja Turtles: Out of the Shadows\", \"The Purge: Election Year\", \"Alice Through the Looking Glass\", \"Pete's Dragon\", \"The Girl on the Train\", \"Boo! A Madea Halloween\", \"Storks\", \"10 Cloverfield Lane\", \"Lights Out\", \"Hacksaw Ridge\", \"Allegiant\", \"Now You See Me 2\", \"Ice Age: Collision Course\", \"The Boss\"]}}, \"transform\": [{\"filter\": \"(((datum.TYPE !== 'Unknown') && (datum.GENDER !== 'Unknown')) && (datum.GENDER !== 'null'))\"}, {\"filter\": \"(datum.GENDER === 'Female')\"}]}, {\"mark\": {\"type\": \"text\", \"align\": \"center\", \"baseline\": \"middle\"}, \"encoding\": {\"text\": {\"type\": \"nominal\", \"aggregate\": \"count\", \"field\": \"index\"}, \"x\": {\"type\": \"ordinal\", \"field\": \"TYPE\"}, \"y\": {\"type\": \"nominal\", \"field\": \"index\", \"sort\": [\"Rogue One\", \"Finding Dory\", \"Captain America: Civil War\", \"The Secret Life of Pets\", \"The Jungle Book\", \"Deadpool\", \"Zootopia\", \"Batman v Superman: Dawn of Justice\", \"Suicide Squad\", \"Sing\", \"Moana\", \"Fantastic Beasts and Where to Find Them\", \"Doctor Strange\", \"Hidden Figures\", \"Jason Bourne\", \"Star Trek Beyond\", \"X-Men: Apocalypse\", \"Trolls\", \"La La Land\", \"Kung Fu Panda 3\", \"Ghostbusters\", \"Central Intelligence\", \"The Legend of Tarzan\", \"Sully\", \"Bad Moms\", \"The Angry Birds Movie\", \"Independence Day: Resurgence\", \"The Conjuring 2\", \"Arrival\", \"Passengers\", \"Sausage Party\", \"The Magnificent Seven\", \"Ride Along 2\", \"Don't Breathe\", \"Miss Peregrine's Home for Peculiar Children\", \"The Accountant\", \"Teenage Mutant Ninja Turtles: Out of the Shadows\", \"The Purge: Election Year\", \"Alice Through the Looking Glass\", \"Pete's Dragon\", \"The Girl on the Train\", \"Boo! A Madea Halloween\", \"Storks\", \"10 Cloverfield Lane\", \"Lights Out\", \"Hacksaw Ridge\", \"Allegiant\", \"Now You See Me 2\", \"Ice Age: Collision Course\", \"The Boss\"]}}, \"transform\": [{\"filter\": \"(((datum.TYPE !== 'Unknown') && (datum.GENDER !== 'Unknown')) && (datum.GENDER !== 'null'))\"}, {\"filter\": \"(datum.GENDER === 'Female')\"}]}], \"data\": {\"url\": \"altair-data-b2fe8fb5616f2f0ec61f01d320bf8001.json\", \"format\": {\"type\": \"json\"}}, \"$schema\": \"https://vega.github.io/schema/vega-lite/v4.0.2.json\"}, {\"mode\": \"vega-lite\"});\n",
       "</script>"
      ],
      "text/plain": [
       "alt.LayerChart(...)"
      ]
     },
     "execution_count": 28,
     "metadata": {},
     "output_type": "execute_result"
    }
   ],
   "source": [
    "f_a_1 = female_actors_1()\n",
    "f_a_1"
   ]
  },
  {
   "cell_type": "code",
   "execution_count": 29,
   "metadata": {
    "deletable": false,
    "editable": false,
    "nbgrader": {
     "checksum": "2aff53ff4d001b8fe0f745985ae04797",
     "grade": true,
     "grade_id": "female_actors_1_test",
     "locked": true,
     "points": 12.5,
     "schema_version": 1,
     "solution": false
    }
   },
   "outputs": [],
   "source": [
    "#hidden tests are within this cell\n"
   ]
  },
  {
   "cell_type": "code",
   "execution_count": 30,
   "metadata": {
    "deletable": false,
    "nbgrader": {
     "checksum": "c743a1867df38e2aadfee3391a06e652",
     "grade": false,
     "grade_id": "male_actors_1",
     "locked": false,
     "schema_version": 1,
     "solution": true
    }
   },
   "outputs": [],
   "source": [
    "def male_actors_1():\n",
    "    \"\"\"\n",
    "    return call to altair function for the new visualization\n",
    "    \"\"\"\n",
    "    # modify to add filter transform\n",
    "    male_p = base.transform_filter(\n",
    "    alt.datum.GENDER == 'Male').mark_rect().encode(\n",
    "        alt.X('TYPE:O'),\n",
    "        alt.Y('index:N',\n",
    "            sort=movies_order,\n",
    "            axis=None),\n",
    "        color=alt.Color('bechdel:N')\n",
    "    )\n",
    "\n",
    "    text = base.transform_filter(\n",
    "        alt.datum.GENDER == 'Male').mark_text(align='center',baseline='middle').encode(\n",
    "        y = alt.Y('index:N',\n",
    "                sort=movies_order),\n",
    "        x = 'TYPE:O',\n",
    "        text='count(index)')\n",
    "\n",
    "    # YOUR CODE HERE\n",
    "    # raise NotImplementedError()\n",
    "    return male_p + text"
   ]
  },
  {
   "cell_type": "code",
   "execution_count": 31,
   "metadata": {},
   "outputs": [
    {
     "data": {
      "text/html": [
       "\n",
       "<div id=\"altair-viz-6b8563e2540e489899ba67cb13d9a6c0\"></div>\n",
       "<script type=\"text/javascript\">\n",
       "  (function(spec, embedOpt){\n",
       "    const outputDiv = document.getElementById(\"altair-viz-6b8563e2540e489899ba67cb13d9a6c0\");\n",
       "    const paths = {\n",
       "      \"vega\": \"https://cdn.jsdelivr.net/npm//vega@5?noext\",\n",
       "      \"vega-lib\": \"https://cdn.jsdelivr.net/npm//vega-lib?noext\",\n",
       "      \"vega-lite\": \"https://cdn.jsdelivr.net/npm//vega-lite@4.0.2?noext\",\n",
       "      \"vega-embed\": \"https://cdn.jsdelivr.net/npm//vega-embed@6?noext\",\n",
       "    };\n",
       "\n",
       "    function loadScript(lib) {\n",
       "      return new Promise(function(resolve, reject) {\n",
       "        var s = document.createElement('script');\n",
       "        s.src = paths[lib];\n",
       "        s.async = true;\n",
       "        s.onload = () => resolve(paths[lib]);\n",
       "        s.onerror = () => reject(`Error loading script: ${paths[lib]}`);\n",
       "        document.getElementsByTagName(\"head\")[0].appendChild(s);\n",
       "      });\n",
       "    }\n",
       "\n",
       "    function showError(err) {\n",
       "      outputDiv.innerHTML = `<div class=\"error\" style=\"color:red;\">${err}</div>`;\n",
       "      throw err;\n",
       "    }\n",
       "\n",
       "    function displayChart(vegaEmbed) {\n",
       "      vegaEmbed(outputDiv, spec, embedOpt)\n",
       "        .catch(err => showError(`Javascript Error: ${err.message}<br>This usually means there's a typo in your chart specification. See the javascript console for the full traceback.`));\n",
       "    }\n",
       "\n",
       "    if(typeof define === \"function\" && define.amd) {\n",
       "      requirejs.config({paths});\n",
       "      require([\"vega-embed\"], displayChart, err => showError(`Error loading script: ${err.message}`));\n",
       "    } else if (typeof vegaEmbed === \"function\") {\n",
       "      displayChart(vegaEmbed);\n",
       "    } else {\n",
       "      loadScript(\"vega\")\n",
       "        .then(() => loadScript(\"vega-lite\"))\n",
       "        .then(() => loadScript(\"vega-embed\"))\n",
       "        .catch(showError)\n",
       "        .then(() => displayChart(vegaEmbed));\n",
       "    }\n",
       "  })({\"config\": {\"view\": {\"continuousWidth\": 400, \"continuousHeight\": 300}}, \"layer\": [{\"mark\": \"rect\", \"encoding\": {\"color\": {\"type\": \"nominal\", \"field\": \"bechdel\"}, \"x\": {\"type\": \"ordinal\", \"field\": \"TYPE\"}, \"y\": {\"type\": \"nominal\", \"axis\": null, \"field\": \"index\", \"sort\": [\"Rogue One\", \"Finding Dory\", \"Captain America: Civil War\", \"The Secret Life of Pets\", \"The Jungle Book\", \"Deadpool\", \"Zootopia\", \"Batman v Superman: Dawn of Justice\", \"Suicide Squad\", \"Sing\", \"Moana\", \"Fantastic Beasts and Where to Find Them\", \"Doctor Strange\", \"Hidden Figures\", \"Jason Bourne\", \"Star Trek Beyond\", \"X-Men: Apocalypse\", \"Trolls\", \"La La Land\", \"Kung Fu Panda 3\", \"Ghostbusters\", \"Central Intelligence\", \"The Legend of Tarzan\", \"Sully\", \"Bad Moms\", \"The Angry Birds Movie\", \"Independence Day: Resurgence\", \"The Conjuring 2\", \"Arrival\", \"Passengers\", \"Sausage Party\", \"The Magnificent Seven\", \"Ride Along 2\", \"Don't Breathe\", \"Miss Peregrine's Home for Peculiar Children\", \"The Accountant\", \"Teenage Mutant Ninja Turtles: Out of the Shadows\", \"The Purge: Election Year\", \"Alice Through the Looking Glass\", \"Pete's Dragon\", \"The Girl on the Train\", \"Boo! A Madea Halloween\", \"Storks\", \"10 Cloverfield Lane\", \"Lights Out\", \"Hacksaw Ridge\", \"Allegiant\", \"Now You See Me 2\", \"Ice Age: Collision Course\", \"The Boss\"]}}, \"transform\": [{\"filter\": \"(((datum.TYPE !== 'Unknown') && (datum.GENDER !== 'Unknown')) && (datum.GENDER !== 'null'))\"}, {\"filter\": \"(datum.GENDER === 'Male')\"}]}, {\"mark\": {\"type\": \"text\", \"align\": \"center\", \"baseline\": \"middle\"}, \"encoding\": {\"text\": {\"type\": \"nominal\", \"aggregate\": \"count\", \"field\": \"index\"}, \"x\": {\"type\": \"ordinal\", \"field\": \"TYPE\"}, \"y\": {\"type\": \"nominal\", \"field\": \"index\", \"sort\": [\"Rogue One\", \"Finding Dory\", \"Captain America: Civil War\", \"The Secret Life of Pets\", \"The Jungle Book\", \"Deadpool\", \"Zootopia\", \"Batman v Superman: Dawn of Justice\", \"Suicide Squad\", \"Sing\", \"Moana\", \"Fantastic Beasts and Where to Find Them\", \"Doctor Strange\", \"Hidden Figures\", \"Jason Bourne\", \"Star Trek Beyond\", \"X-Men: Apocalypse\", \"Trolls\", \"La La Land\", \"Kung Fu Panda 3\", \"Ghostbusters\", \"Central Intelligence\", \"The Legend of Tarzan\", \"Sully\", \"Bad Moms\", \"The Angry Birds Movie\", \"Independence Day: Resurgence\", \"The Conjuring 2\", \"Arrival\", \"Passengers\", \"Sausage Party\", \"The Magnificent Seven\", \"Ride Along 2\", \"Don't Breathe\", \"Miss Peregrine's Home for Peculiar Children\", \"The Accountant\", \"Teenage Mutant Ninja Turtles: Out of the Shadows\", \"The Purge: Election Year\", \"Alice Through the Looking Glass\", \"Pete's Dragon\", \"The Girl on the Train\", \"Boo! A Madea Halloween\", \"Storks\", \"10 Cloverfield Lane\", \"Lights Out\", \"Hacksaw Ridge\", \"Allegiant\", \"Now You See Me 2\", \"Ice Age: Collision Course\", \"The Boss\"]}}, \"transform\": [{\"filter\": \"(((datum.TYPE !== 'Unknown') && (datum.GENDER !== 'Unknown')) && (datum.GENDER !== 'null'))\"}, {\"filter\": \"(datum.GENDER === 'Male')\"}]}], \"data\": {\"url\": \"altair-data-b2fe8fb5616f2f0ec61f01d320bf8001.json\", \"format\": {\"type\": \"json\"}}, \"$schema\": \"https://vega.github.io/schema/vega-lite/v4.0.2.json\"}, {\"mode\": \"vega-lite\"});\n",
       "</script>"
      ],
      "text/plain": [
       "alt.LayerChart(...)"
      ]
     },
     "execution_count": 31,
     "metadata": {},
     "output_type": "execute_result"
    }
   ],
   "source": [
    "m_a_1 = male_actors_1()\n",
    "m_a_1"
   ]
  },
  {
   "cell_type": "code",
   "execution_count": 32,
   "metadata": {
    "deletable": false,
    "editable": false,
    "nbgrader": {
     "checksum": "c772ba0e513e44d36bfaa035890dd2b9",
     "grade": true,
     "grade_id": "male_actors_1_test",
     "locked": true,
     "points": 12.5,
     "schema_version": 1,
     "solution": false
    }
   },
   "outputs": [],
   "source": [
    "#hidden tests are within this cell\n"
   ]
  },
  {
   "cell_type": "code",
   "execution_count": 33,
   "metadata": {},
   "outputs": [
    {
     "data": {
      "text/html": [
       "\n",
       "<div id=\"altair-viz-453831806d4f460d9ed02a81ab886be5\"></div>\n",
       "<script type=\"text/javascript\">\n",
       "  (function(spec, embedOpt){\n",
       "    const outputDiv = document.getElementById(\"altair-viz-453831806d4f460d9ed02a81ab886be5\");\n",
       "    const paths = {\n",
       "      \"vega\": \"https://cdn.jsdelivr.net/npm//vega@5?noext\",\n",
       "      \"vega-lib\": \"https://cdn.jsdelivr.net/npm//vega-lib?noext\",\n",
       "      \"vega-lite\": \"https://cdn.jsdelivr.net/npm//vega-lite@4.0.2?noext\",\n",
       "      \"vega-embed\": \"https://cdn.jsdelivr.net/npm//vega-embed@6?noext\",\n",
       "    };\n",
       "\n",
       "    function loadScript(lib) {\n",
       "      return new Promise(function(resolve, reject) {\n",
       "        var s = document.createElement('script');\n",
       "        s.src = paths[lib];\n",
       "        s.async = true;\n",
       "        s.onload = () => resolve(paths[lib]);\n",
       "        s.onerror = () => reject(`Error loading script: ${paths[lib]}`);\n",
       "        document.getElementsByTagName(\"head\")[0].appendChild(s);\n",
       "      });\n",
       "    }\n",
       "\n",
       "    function showError(err) {\n",
       "      outputDiv.innerHTML = `<div class=\"error\" style=\"color:red;\">${err}</div>`;\n",
       "      throw err;\n",
       "    }\n",
       "\n",
       "    function displayChart(vegaEmbed) {\n",
       "      vegaEmbed(outputDiv, spec, embedOpt)\n",
       "        .catch(err => showError(`Javascript Error: ${err.message}<br>This usually means there's a typo in your chart specification. See the javascript console for the full traceback.`));\n",
       "    }\n",
       "\n",
       "    if(typeof define === \"function\" && define.amd) {\n",
       "      requirejs.config({paths});\n",
       "      require([\"vega-embed\"], displayChart, err => showError(`Error loading script: ${err.message}`));\n",
       "    } else if (typeof vegaEmbed === \"function\") {\n",
       "      displayChart(vegaEmbed);\n",
       "    } else {\n",
       "      loadScript(\"vega\")\n",
       "        .then(() => loadScript(\"vega-lite\"))\n",
       "        .then(() => loadScript(\"vega-embed\"))\n",
       "        .catch(showError)\n",
       "        .then(() => displayChart(vegaEmbed));\n",
       "    }\n",
       "  })({\"config\": {\"view\": {\"continuousWidth\": 400, \"continuousHeight\": 300}}, \"hconcat\": [{\"layer\": [{\"mark\": \"rect\", \"encoding\": {\"color\": {\"type\": \"nominal\", \"field\": \"bechdel\"}, \"x\": {\"type\": \"ordinal\", \"field\": \"TYPE\"}, \"y\": {\"type\": \"nominal\", \"field\": \"index\", \"sort\": [\"Rogue One\", \"Finding Dory\", \"Captain America: Civil War\", \"The Secret Life of Pets\", \"The Jungle Book\", \"Deadpool\", \"Zootopia\", \"Batman v Superman: Dawn of Justice\", \"Suicide Squad\", \"Sing\", \"Moana\", \"Fantastic Beasts and Where to Find Them\", \"Doctor Strange\", \"Hidden Figures\", \"Jason Bourne\", \"Star Trek Beyond\", \"X-Men: Apocalypse\", \"Trolls\", \"La La Land\", \"Kung Fu Panda 3\", \"Ghostbusters\", \"Central Intelligence\", \"The Legend of Tarzan\", \"Sully\", \"Bad Moms\", \"The Angry Birds Movie\", \"Independence Day: Resurgence\", \"The Conjuring 2\", \"Arrival\", \"Passengers\", \"Sausage Party\", \"The Magnificent Seven\", \"Ride Along 2\", \"Don't Breathe\", \"Miss Peregrine's Home for Peculiar Children\", \"The Accountant\", \"Teenage Mutant Ninja Turtles: Out of the Shadows\", \"The Purge: Election Year\", \"Alice Through the Looking Glass\", \"Pete's Dragon\", \"The Girl on the Train\", \"Boo! A Madea Halloween\", \"Storks\", \"10 Cloverfield Lane\", \"Lights Out\", \"Hacksaw Ridge\", \"Allegiant\", \"Now You See Me 2\", \"Ice Age: Collision Course\", \"The Boss\"]}}, \"transform\": [{\"filter\": \"(((datum.TYPE !== 'Unknown') && (datum.GENDER !== 'Unknown')) && (datum.GENDER !== 'null'))\"}, {\"filter\": \"(datum.GENDER === 'Female')\"}]}, {\"mark\": {\"type\": \"text\", \"align\": \"center\", \"baseline\": \"middle\"}, \"encoding\": {\"text\": {\"type\": \"nominal\", \"aggregate\": \"count\", \"field\": \"index\"}, \"x\": {\"type\": \"ordinal\", \"field\": \"TYPE\"}, \"y\": {\"type\": \"nominal\", \"field\": \"index\", \"sort\": [\"Rogue One\", \"Finding Dory\", \"Captain America: Civil War\", \"The Secret Life of Pets\", \"The Jungle Book\", \"Deadpool\", \"Zootopia\", \"Batman v Superman: Dawn of Justice\", \"Suicide Squad\", \"Sing\", \"Moana\", \"Fantastic Beasts and Where to Find Them\", \"Doctor Strange\", \"Hidden Figures\", \"Jason Bourne\", \"Star Trek Beyond\", \"X-Men: Apocalypse\", \"Trolls\", \"La La Land\", \"Kung Fu Panda 3\", \"Ghostbusters\", \"Central Intelligence\", \"The Legend of Tarzan\", \"Sully\", \"Bad Moms\", \"The Angry Birds Movie\", \"Independence Day: Resurgence\", \"The Conjuring 2\", \"Arrival\", \"Passengers\", \"Sausage Party\", \"The Magnificent Seven\", \"Ride Along 2\", \"Don't Breathe\", \"Miss Peregrine's Home for Peculiar Children\", \"The Accountant\", \"Teenage Mutant Ninja Turtles: Out of the Shadows\", \"The Purge: Election Year\", \"Alice Through the Looking Glass\", \"Pete's Dragon\", \"The Girl on the Train\", \"Boo! A Madea Halloween\", \"Storks\", \"10 Cloverfield Lane\", \"Lights Out\", \"Hacksaw Ridge\", \"Allegiant\", \"Now You See Me 2\", \"Ice Age: Collision Course\", \"The Boss\"]}}, \"transform\": [{\"filter\": \"(((datum.TYPE !== 'Unknown') && (datum.GENDER !== 'Unknown')) && (datum.GENDER !== 'null'))\"}, {\"filter\": \"(datum.GENDER === 'Female')\"}]}]}, {\"mark\": \"text\", \"encoding\": {\"color\": {\"type\": \"nominal\", \"field\": \"bechdel\"}, \"text\": {\"type\": \"quantitative\", \"field\": \"Rank\"}, \"y\": {\"type\": \"ordinal\", \"axis\": null, \"field\": \"Rank\"}}, \"transform\": [{\"filter\": \"(((datum.TYPE !== 'Unknown') && (datum.GENDER !== 'Unknown')) && (datum.GENDER !== 'null'))\"}], \"width\": 20}, {\"layer\": [{\"mark\": \"rect\", \"encoding\": {\"color\": {\"type\": \"nominal\", \"field\": \"bechdel\"}, \"x\": {\"type\": \"ordinal\", \"field\": \"TYPE\"}, \"y\": {\"type\": \"nominal\", \"axis\": null, \"field\": \"index\", \"sort\": [\"Rogue One\", \"Finding Dory\", \"Captain America: Civil War\", \"The Secret Life of Pets\", \"The Jungle Book\", \"Deadpool\", \"Zootopia\", \"Batman v Superman: Dawn of Justice\", \"Suicide Squad\", \"Sing\", \"Moana\", \"Fantastic Beasts and Where to Find Them\", \"Doctor Strange\", \"Hidden Figures\", \"Jason Bourne\", \"Star Trek Beyond\", \"X-Men: Apocalypse\", \"Trolls\", \"La La Land\", \"Kung Fu Panda 3\", \"Ghostbusters\", \"Central Intelligence\", \"The Legend of Tarzan\", \"Sully\", \"Bad Moms\", \"The Angry Birds Movie\", \"Independence Day: Resurgence\", \"The Conjuring 2\", \"Arrival\", \"Passengers\", \"Sausage Party\", \"The Magnificent Seven\", \"Ride Along 2\", \"Don't Breathe\", \"Miss Peregrine's Home for Peculiar Children\", \"The Accountant\", \"Teenage Mutant Ninja Turtles: Out of the Shadows\", \"The Purge: Election Year\", \"Alice Through the Looking Glass\", \"Pete's Dragon\", \"The Girl on the Train\", \"Boo! A Madea Halloween\", \"Storks\", \"10 Cloverfield Lane\", \"Lights Out\", \"Hacksaw Ridge\", \"Allegiant\", \"Now You See Me 2\", \"Ice Age: Collision Course\", \"The Boss\"]}}, \"transform\": [{\"filter\": \"(((datum.TYPE !== 'Unknown') && (datum.GENDER !== 'Unknown')) && (datum.GENDER !== 'null'))\"}, {\"filter\": \"(datum.GENDER === 'Male')\"}]}, {\"mark\": {\"type\": \"text\", \"align\": \"center\", \"baseline\": \"middle\"}, \"encoding\": {\"text\": {\"type\": \"nominal\", \"aggregate\": \"count\", \"field\": \"index\"}, \"x\": {\"type\": \"ordinal\", \"field\": \"TYPE\"}, \"y\": {\"type\": \"nominal\", \"field\": \"index\", \"sort\": [\"Rogue One\", \"Finding Dory\", \"Captain America: Civil War\", \"The Secret Life of Pets\", \"The Jungle Book\", \"Deadpool\", \"Zootopia\", \"Batman v Superman: Dawn of Justice\", \"Suicide Squad\", \"Sing\", \"Moana\", \"Fantastic Beasts and Where to Find Them\", \"Doctor Strange\", \"Hidden Figures\", \"Jason Bourne\", \"Star Trek Beyond\", \"X-Men: Apocalypse\", \"Trolls\", \"La La Land\", \"Kung Fu Panda 3\", \"Ghostbusters\", \"Central Intelligence\", \"The Legend of Tarzan\", \"Sully\", \"Bad Moms\", \"The Angry Birds Movie\", \"Independence Day: Resurgence\", \"The Conjuring 2\", \"Arrival\", \"Passengers\", \"Sausage Party\", \"The Magnificent Seven\", \"Ride Along 2\", \"Don't Breathe\", \"Miss Peregrine's Home for Peculiar Children\", \"The Accountant\", \"Teenage Mutant Ninja Turtles: Out of the Shadows\", \"The Purge: Election Year\", \"Alice Through the Looking Glass\", \"Pete's Dragon\", \"The Girl on the Train\", \"Boo! A Madea Halloween\", \"Storks\", \"10 Cloverfield Lane\", \"Lights Out\", \"Hacksaw Ridge\", \"Allegiant\", \"Now You See Me 2\", \"Ice Age: Collision Course\", \"The Boss\"]}}, \"transform\": [{\"filter\": \"(((datum.TYPE !== 'Unknown') && (datum.GENDER !== 'Unknown')) && (datum.GENDER !== 'null'))\"}, {\"filter\": \"(datum.GENDER === 'Male')\"}]}]}], \"data\": {\"url\": \"altair-data-b2fe8fb5616f2f0ec61f01d320bf8001.json\", \"format\": {\"type\": \"json\"}}, \"$schema\": \"https://vega.github.io/schema/vega-lite/v4.0.2.json\"}, {\"mode\": \"vega-lite\"});\n",
       "</script>"
      ],
      "text/plain": [
       "alt.HConcatChart(...)"
      ]
     },
     "execution_count": 33,
     "metadata": {},
     "output_type": "execute_result"
    }
   ],
   "source": [
    "# create the visualization\n",
    "f_a_1 | middle | m_a_1"
   ]
  },
  {
   "cell_type": "markdown",
   "metadata": {},
   "source": [
    "### 2.8 (Bonus) Compare effectiveness (5 points)\n",
    "Look at the visualization for question 2.7. How does this visualization compare in terms of effectiveness to the visualizations in questions 2.5 and 2.6?"
   ]
  },
  {
   "cell_type": "markdown",
   "metadata": {
    "deletable": false,
    "nbgrader": {
     "checksum": "c8ecdf15b1e94566592eb89935a72128",
     "grade": true,
     "grade_id": "cell-ce75e2176c7151d8",
     "locked": false,
     "points": 0,
     "schema_version": 1,
     "solution": true
    }
   },
   "source": [
    "Before comparing these visualizations, we need to figure out the domain of this question first. The domain is to compare the number of actors by gender in different movies or you can say in another way, what's the relationship between number of actors by gender and gender inequality. This extends to study the gender inequality amongst film actors. The tool of testing the gender inequality is the Bechdel Test which is a measure of the representatioin of women in fiction. The next step is to list variables we need. We have Gender, Type, number of actors by gender, Movie name, and Bechdel Test. The ideal visualization is more likely to show all of information we need in one image. \n",
    "\n",
    "For 2.5 chart, it's effective because the reader/audience can measure or read sizes of bars. Besides, the reader can compare numbers of actors by gender with different movies and know which type of female actors plays an important role in each movie.\n",
    "\n",
    "For 2.6 chart, it's ineffective because there're too many circles, which covered each other, in a limited space and it's hard to measure sizes of circles. It is also hard to make comparision among movies. But, it's very easy to see that the proportion of supporting female actors is the largest.\n",
    "\n",
    "For 2.7 chart, it's less effective than 2.5 chart because even though the number of actors by gender shows on each block/rectangle, it's still difficult to compare with other movies. It's hard to pick up movies which has the most female actors and the least female actors. But, it's more effective than 2.6 chart because the number is much easier to read/encode by human beings than the area of circles.\n",
    "\n",
    "**In conclusion, compare in terms of effectiveness, 2.5 > 2.7 > 2.6.**"
   ]
  },
  {
   "cell_type": "code",
   "execution_count": null,
   "metadata": {},
   "outputs": [],
   "source": []
  }
 ],
 "metadata": {
  "coursera": {
   "schema_names": [
    "mads_information_visualization_i_v3_assignment2"
   ]
  },
  "kernelspec": {
   "display_name": "Python 3",
   "language": "python",
   "name": "python3"
  },
  "language_info": {
   "codemirror_mode": {
    "name": "ipython",
    "version": 3
   },
   "file_extension": ".py",
   "mimetype": "text/x-python",
   "name": "python",
   "nbconvert_exporter": "python",
   "pygments_lexer": "ipython3",
   "version": "3.7.3"
  },
  "toc": {
   "colors": {
    "hover_highlight": "#DAA520",
    "running_highlight": "#FF0000",
    "selected_highlight": "#FFD700"
   },
   "moveMenuLeft": true,
   "nav_menu": {
    "height": "390px",
    "width": "252px"
   },
   "navigate_menu": true,
   "number_sections": false,
   "sideBar": true,
   "threshold": 4,
   "toc_cell": false,
   "toc_section_display": "none",
   "toc_window_display": true,
   "widenNotebook": false
  }
 },
 "nbformat": 4,
 "nbformat_minor": 2
}
