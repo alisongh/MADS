{
 "cells": [
  {
   "cell_type": "markdown",
   "metadata": {},
   "source": [
    "Before you turn this problem in, make sure everything runs as expected. First, **restart the kernel** (in the menubar, select Kernel$\\rightarrow$Restart) and then **run all cells** (in the menubar, select Cell$\\rightarrow$Run All). Make sure your notebook executed to the end.\n",
    "\n",
    "Make sure you fill in any place that says `YOUR CODE HERE` or \"YOUR ANSWER HERE.\" Please remember that homeworks are to be completed independently. You may not share code with others."
   ]
  },
  {
   "cell_type": "code",
   "execution_count": 1,
   "metadata": {},
   "outputs": [],
   "source": [
    "NAME = \"\""
   ]
  },
  {
   "cell_type": "markdown",
   "metadata": {},
   "source": [
    "---"
   ]
  },
  {
   "cell_type": "markdown",
   "metadata": {},
   "source": [
    "# Information Visualization I \n",
    "## School of Information, University of Michigan\n",
    "\n",
    "## Week 1: \n",
    "- Domain identification vs Abstract Task extraction\n",
    "- Pandas Review \n",
    "\n",
    "## Assignment Overview\n",
    "### The objectives for this week are for you to:\n",
    "\n",
    "- Review, reflect, and apply the concepts of Domain Tasks and Abstract Tasks. Specifically, given a real context, identify the expert's goals and then abstract the visualization tasks. \n",
    "\n",
    "![\"Drawing\"](assets/domain-abstraction.png)\n",
    "\n",
    "\n",
    "\n",
    "- Review and evaluate the domain of [Pandas](https://pandas.pydata.org/) as a tool for reading, manipulating, and analyzing datasets in Python.\n",
    "\n",
    "### The total score of this assignment will be 100 points consisting of:\n",
    "- Case study reflection: Car congestion and crash rates (20 points)\n",
    "- Pandas programming exercise (80 points)\n",
    "\n",
    "\n",
    "### Resources:\n",
    "- We're going to be recreating parts of this article by [CMAP](https://www.cmap.illinois.gov/) available [online](https://www.cmap.illinois.gov/updates/all/-/asset_publisher/UIMfSLnFfMB6/content/crash-scans-show-relationship-between-congestion-and-crash-rates) (CMAP, 2016)  \n",
    "- We'll need the datasets from the city of Chicago. We have downloaded a subset to the local folder [/assets](assets/)\n",
    "    - If you're curious, the original dataset can be found on [Chicago Data Portal](https://data.cityofchicago.org/)\n",
    "        - [Chicago Traffic Tracker - Historical Congestion Estimates by Segment - 2011-2018](https://data.cityofchicago.org/Transportation/Chicago-Traffic-Tracker-Historical-Congestion-Esti/77hq-huss)\n",
    "        - [Traffic Crashes - Crashes](https://data.cityofchicago.org/Transportation/Traffic-Crashes-Crashes/85ca-t3if)\n",
    "- Altair\n",
    "    - We will use a python library called [Altair](https://altair-viz.github.io/) for the visualizations. Don't worry about understanding this code. You will only need to prepare the data for the visualization in Pandas. If you do it correctly, our code will produce the visualization for you.\n",
    "    \n",
    "    \n",
    "### Important notes:\n",
    "1) When turning in your PDF, please use the File -> Print -> Save as PDF option ***from your browser***. Do ***not*** use the File->Download as->PDF option. Complete instructions for this are under Resources in the Coursera page for this class.\n",
    "\n",
    "2) Pay attention to the return types of your functions. Sometimes things will look right but fail later if you return the wrong kind of object (e.g., Array instead of Series)"
   ]
  },
  {
   "cell_type": "code",
   "execution_count": null,
   "metadata": {},
   "outputs": [],
   "source": []
  },
  {
   "cell_type": "markdown",
   "metadata": {},
   "source": [
    "## Part 1. Domain identification vs Abstract Task extraction (20 points)\n",
    "Read the following article by CMAP [Crash scans show the relationship between congestion and crash rates](https://www.cmap.illinois.gov/updates/all/-/asset_publisher/UIMfSLnFfMB6/content/crash-scans-show-relationship-between-congestion-and-crash-rates) and answer the following questions.\n",
    "\n",
    "Remember: Domain tasks are questions an analyst (or reader) might need to figure out. For example, a retail analyst might want to know: how many fruit did we sell? or what’s the relationship between temperature and fruits rotting? A learning analyst would have the domain task: how often do students pass the class? or how does study time correlate with grade? An advertising analyst would ask: how many people clicked on an ad? or what’s the relationship between time of day and click through rate?  \n",
    "\n",
    "Abstract tasks are generic: What’s the sum of a quantitative variable? or what’s the correlation between two variables? Notice we gave two examples for each analyst type and these roughly map to the two abstract questions. You should not use domain language (e.g., accidents) when describing abstract tasks. \n"
   ]
  },
  {
   "cell_type": "markdown",
   "metadata": {},
   "source": [
    "### 1.1 Briefly describe who you think performed this analysis. What is their expertise? What is their goal for the article? Give 3 examples of domain tasks featured in the article. (10 points)"
   ]
  },
  {
   "cell_type": "markdown",
   "metadata": {
    "deletable": false,
    "nbgrader": {
     "checksum": "9c4d5f0e75443aa37e45648d0da2c137",
     "grade": true,
     "grade_id": "cell-d5cc91ff23d1fd3d",
     "locked": false,
     "points": 0,
     "schema_version": 1,
     "solution": true
    }
   },
   "source": [
    "This analysis should be performed by the analyst and employees of the Department of Transportation of Chicago, especially for the specific employees focusing on the ground transporation. They expertise on the knowledge of ground transporation, such as the surface transportation networks and public way safe for users. They have mature knowledge about the priciple of designing of transportation networks and they are skilled in choosing and using the approprate tools to collect and analyze data, for example why we need to build an expressway in the specific area and how does it relieve the traffic. \n",
    "The main goal is to build and improve the transporation system to improve the traffic efficiency and decrease accident rates. \n",
    "\n",
    "**Domain tasks**\n",
    "<ol>\n",
    "<li>What's the relationship between crash rate and congestion?</li>\n",
    "<li>Is there any relationship between the travel time and crash rate? If so, how?</li>\n",
    "<li>Does the expressway decrease the crash rate? Why?</li>\n",
    "</ol>"
   ]
  },
  {
   "cell_type": "markdown",
   "metadata": {},
   "source": [
    "### 1.2  For each domain task describe the abstract task (10 points)"
   ]
  },
  {
   "cell_type": "markdown",
   "metadata": {
    "deletable": false,
    "nbgrader": {
     "checksum": "97e0177cfa416088176c7eca5d75b5ec",
     "grade": true,
     "grade_id": "cell-06458778598db3cb",
     "locked": false,
     "points": 0,
     "schema_version": 1,
     "solution": true
    }
   },
   "source": [
    "* What's the relationship between crash rate and congestion?\n",
    "<ol>\n",
    "<li>How many variables we need to consider?</li>\n",
    "<li>What are the max and min of the quantitive variables?</li>\n",
    "</ol>\n",
    "* Is there any relationship between the travel time and crash rate? If so, how?\n",
    "<ol>\n",
    "<li>What are variables we use to consider the relationship between the travel time and crash rate?</li>\n",
    "</ol>\n",
    "* Does the expressway decrease the crash rate? Why?\n",
    "<ol>\n",
    "<li>What is the sum of the quantitive variables?</li>\n",
    "</ol>"
   ]
  },
  {
   "cell_type": "markdown",
   "metadata": {},
   "source": [
    "## Part 2. Pandas programming exercise (80 points)\n",
    "We have provided some code to create visualizations based on these two datasets:\n",
    "1. [Historic Congestion](assets/Pulaski.small.csv.gz) \n",
    "2. [Traffic Crashes](assets/Traffic.Crashes.csv.gz)\n",
    "\n",
    "Complete each assignment function and run each cell to generate the final visualizations\n"
   ]
  },
  {
   "cell_type": "code",
   "execution_count": 1,
   "metadata": {},
   "outputs": [],
   "source": [
    "import pandas as pd\n",
    "import numpy as np\n",
    "import altair as alt"
   ]
  },
  {
   "cell_type": "code",
   "execution_count": 2,
   "metadata": {},
   "outputs": [
    {
     "output_type": "execute_result",
     "data": {
      "text/plain": [
       "RendererRegistry.enable('default')"
      ]
     },
     "metadata": {},
     "execution_count": 2
    }
   ],
   "source": [
    "# enable correct rendering\n",
    "alt.renderers.enable('default')"
   ]
  },
  {
   "cell_type": "code",
   "execution_count": 3,
   "metadata": {},
   "outputs": [
    {
     "output_type": "execute_result",
     "data": {
      "text/plain": [
       "DataTransformerRegistry.enable('json')"
      ]
     },
     "metadata": {},
     "execution_count": 3
    }
   ],
   "source": [
    "# uses intermediate json files to speed things up\n",
    "alt.data_transformers.enable('json')"
   ]
  },
  {
   "cell_type": "markdown",
   "metadata": {},
   "source": [
    "### PART A: Historic Congestion ( 55 points)\n",
    "For parts 2.1 to 2.5 we will use the Historic Congestion dataset. This dataset contains measures of speed for different segments. For this subsample, the available measures are limited to traffic on Pulaski Road in 2018."
   ]
  },
  {
   "cell_type": "markdown",
   "metadata": {},
   "source": [
    "### 2.1 Read and resample (15 points)\n",
    "Complete the `read_csv` and `get_group_first_row` functions.\n",
    "Since our dataset is large we want to only grab one measurement per hour for each segment. To do this, we will resample by selecting the first measure for each month, day, hour on each segment. Complete the `get_group_first_row` function to achieve this. Note that the file we are loading is compressed--depending on how you load the file, this may or may not make a difference ([you'll want to look at the API documents](https://pandas.pydata.org/pandas-docs/stable/reference/index.html))."
   ]
  },
  {
   "cell_type": "code",
   "execution_count": 4,
   "metadata": {
    "deletable": false,
    "nbgrader": {
     "checksum": "a32e2d72dc4cc0c752512e1a7b8aa10b",
     "grade": false,
     "grade_id": "read_file",
     "locked": false,
     "schema_version": 1,
     "solution": true
    }
   },
   "outputs": [],
   "source": [
    "def read_csv(filename):\n",
    "    \"\"\"Read the csv file from filename (uncompress 'gz' if needed)\n",
    "    return the dataframe resulting from reading the columns\n",
    "    \"\"\"\n",
    "    filestring = \"gz\"\n",
    "    if filename in filestring:\n",
    "        df = pd.read_csv(filename, compression='gzip')\n",
    "    else:\n",
    "        df = pd.read_csv(filename)\n",
    "\n",
    "    return df\n",
    "    # YOUR CODE HERE\n",
    "    # raise NotImplementedError()"
   ]
  },
  {
   "cell_type": "code",
   "execution_count": 5,
   "metadata": {
    "deletable": false,
    "editable": false,
    "nbgrader": {
     "checksum": "23cf8de0415932d8234c517261a81310",
     "grade": true,
     "grade_id": "read_file_test",
     "locked": true,
     "points": 5,
     "schema_version": 1,
     "solution": false
    }
   },
   "outputs": [
    {
     "output_type": "stream",
     "name": "stdout",
     "text": [
      "(3195450, 10)\n"
     ]
    }
   ],
   "source": [
    "# Save the congestion dataframe on hist_con\n",
    "hist_con = read_csv('assets/Pulaski.small.csv.gz')\n",
    "print(hist_con.shape)\n",
    "assert hist_con.shape == (3195450, 10)\n",
    "assert list(hist_con.columns) == ['TIME','SEGMENT_ID','SPEED','STREET','DIRECTION','FROM_STREET','TO_STREET',\n",
    "                                  'HOUR','DAY_OF_WEEK','MONTH']"
   ]
  },
  {
   "cell_type": "code",
   "execution_count": 6,
   "metadata": {
    "deletable": false,
    "nbgrader": {
     "checksum": "a78fd72df92079c9c1b7c85dc63ce2fb",
     "grade": false,
     "grade_id": "resample",
     "locked": false,
     "schema_version": 1,
     "solution": true
    }
   },
   "outputs": [],
   "source": [
    "def get_group_first_row(df, grouping_columns):\n",
    "    \"\"\"Group rows using the grouping columns and return the first row belonging to each group\n",
    "    (you can look at first() for reference). We'll write this function to be more general in case\n",
    "    we want to use it for a different resample.\n",
    "    return a dataframe without a hierarchical index (use default index)\n",
    "    \n",
    "    See the example link below if you want a better sense of what this should return\n",
    "    \"\"\"\n",
    "    df = df.groupby(grouping_columns)\n",
    "    # res.columns = list(map(''.join, res.columns.values))\n",
    "    df = df.first()\n",
    "    return df.reset_index()\n",
    "    # YOUR CODE HERE\n",
    "    # raise NotImplementedError()"
   ]
  },
  {
   "cell_type": "code",
   "execution_count": 7,
   "metadata": {},
   "outputs": [],
   "source": [
    "# test your code, we want segment_rows to be resampled version of hist_con where we've grouped by the\n",
    "# properties month, day_of_week, hour, and segment_id and returned the first measure of each group\n",
    "segment_rows = get_group_first_row(hist_con, ['MONTH','DAY_OF_WEEK', 'HOUR', 'SEGMENT_ID'])"
   ]
  },
  {
   "cell_type": "markdown",
   "metadata": {},
   "source": [
    "The table should look something like [this](assets/segment_rows.png). \n",
    "\n",
    "***Note** When we show examples like this, we are sampling (e.g., ```segment_rows.sample(5)```) so your table may look different.\n",
    "\n",
    "If you want to build your own tests from our example tables, you can create an assert test for one of the rows and make sure the values match what you expect. For example we see that the row id 68592 in the example is for 8/27/2018 at 1:50:21 PM. So we could write the test:\n",
    "\n",
    "```assert segment_rows.loc[68952].TIME == '08/27/2018 01:50:21 PM'```\n",
    "\n",
    "If this assertion failed, you'd get an error message."
   ]
  },
  {
   "cell_type": "code",
   "execution_count": 9,
   "metadata": {
    "deletable": false,
    "editable": false,
    "nbgrader": {
     "checksum": "ccee7f7e81f339fc5367e2b7eb5753d5",
     "grade": true,
     "grade_id": "resample_test",
     "locked": true,
     "points": 10,
     "schema_version": 1,
     "solution": false
    }
   },
   "outputs": [],
   "source": [
    "#hidden tests are within this cell\n"
   ]
  },
  {
   "cell_type": "markdown",
   "metadata": {},
   "source": [
    "### 2.2 Basic Bar Chart Visualization (10 points)\n",
    "We want to create a visualization for the *average speed* of each segment (across all the samples). To do this, we're going to want to group by each segment and calculate the average speed on each. Complete this code on the `average_speed_per_segment` function. Make sure your function returns a ***series***."
   ]
  },
  {
   "cell_type": "code",
   "execution_count": 8,
   "metadata": {
    "deletable": false,
    "nbgrader": {
     "checksum": "543a9539b7f3af1f81d83448fecbdd2c",
     "grade": false,
     "grade_id": "average_speed_per_segment",
     "locked": false,
     "schema_version": 1,
     "solution": true
    }
   },
   "outputs": [],
   "source": [
    "def average_speed_per_segment(df):\n",
    "    \"\"\"Group rows by SEGMENT_ID and calculate the mean of each\n",
    "    return a *series* where the index is the segment id and each value is the average speed per segment\n",
    "    \"\"\"\n",
    "    df = df.groupby('SEGMENT_ID')['SPEED'].mean()\n",
    "    # ts = pd.Series(df['Value'], index=df['Date']) \n",
    "    return df\n",
    "\n",
    "    # YOUR CODE HERE\n",
    "    # raise NotImplementedError()"
   ]
  },
  {
   "cell_type": "code",
   "execution_count": 9,
   "metadata": {},
   "outputs": [
    {
     "output_type": "execute_result",
     "data": {
      "text/plain": [
       "SEGMENT_ID\n",
       "19    12.251926\n",
       "20    15.274452\n",
       "21    12.141079\n",
       "22    12.346769\n",
       "23    12.716657\n",
       "        ...    \n",
       "93    13.503260\n",
       "94    14.560759\n",
       "95    14.959099\n",
       "96    21.659751\n",
       "97    18.714286\n",
       "Name: SPEED, Length: 78, dtype: float64"
      ]
     },
     "metadata": {},
     "execution_count": 9
    }
   ],
   "source": [
    "# calculate the average speed per segment\n",
    "average_speed = average_speed_per_segment(segment_rows)\n",
    "\n",
    "# # create labels for the visualization\n",
    "labels = average_speed.index.astype(str)\n",
    "\n",
    "# grab the values from the table\n",
    "values = pd.DataFrame(average_speed).reset_index()\n",
    "\n",
    "# check what's in average_speed\n",
    "average_speed"
   ]
  },
  {
   "cell_type": "markdown",
   "metadata": {},
   "source": [
    "If you got things right, the **series** should look something like [this](assets/average_speed.png). You might want to write a test to make sure you are returning the expected type. For example:\n",
    "\n",
    "```assert type(average_speed) == pd.core.series.Series```"
   ]
  },
  {
   "cell_type": "code",
   "execution_count": 12,
   "metadata": {
    "deletable": false,
    "editable": false,
    "nbgrader": {
     "checksum": "65f43e795ca31133829c9962c02307df",
     "grade": true,
     "grade_id": "average_speed_per_segment_test",
     "locked": true,
     "points": 10,
     "schema_version": 1,
     "solution": false
    }
   },
   "outputs": [],
   "source": [
    "#hidden tests are within this cell\n"
   ]
  },
  {
   "cell_type": "code",
   "execution_count": 10,
   "metadata": {},
   "outputs": [
    {
     "output_type": "execute_result",
     "data": {
      "text/html": "\n<div id=\"altair-viz-663fc6207b174de99678aebd76951cfd\"></div>\n<script type=\"text/javascript\">\n  (function(spec, embedOpt){\n    let outputDiv = document.currentScript.previousElementSibling;\n    if (outputDiv.id !== \"altair-viz-663fc6207b174de99678aebd76951cfd\") {\n      outputDiv = document.getElementById(\"altair-viz-663fc6207b174de99678aebd76951cfd\");\n    }\n    const paths = {\n      \"vega\": \"https://cdn.jsdelivr.net/npm//vega@5?noext\",\n      \"vega-lib\": \"https://cdn.jsdelivr.net/npm//vega-lib?noext\",\n      \"vega-lite\": \"https://cdn.jsdelivr.net/npm//vega-lite@4.8.1?noext\",\n      \"vega-embed\": \"https://cdn.jsdelivr.net/npm//vega-embed@6?noext\",\n    };\n\n    function loadScript(lib) {\n      return new Promise(function(resolve, reject) {\n        var s = document.createElement('script');\n        s.src = paths[lib];\n        s.async = true;\n        s.onload = () => resolve(paths[lib]);\n        s.onerror = () => reject(`Error loading script: ${paths[lib]}`);\n        document.getElementsByTagName(\"head\")[0].appendChild(s);\n      });\n    }\n\n    function showError(err) {\n      outputDiv.innerHTML = `<div class=\"error\" style=\"color:red;\">${err}</div>`;\n      throw err;\n    }\n\n    function displayChart(vegaEmbed) {\n      vegaEmbed(outputDiv, spec, embedOpt)\n        .catch(err => showError(`Javascript Error: ${err.message}<br>This usually means there's a typo in your chart specification. See the javascript console for the full traceback.`));\n    }\n\n    if(typeof define === \"function\" && define.amd) {\n      requirejs.config({paths});\n      require([\"vega-embed\"], displayChart, err => showError(`Error loading script: ${err.message}`));\n    } else if (typeof vegaEmbed === \"function\") {\n      displayChart(vegaEmbed);\n    } else {\n      loadScript(\"vega\")\n        .then(() => loadScript(\"vega-lite\"))\n        .then(() => loadScript(\"vega-embed\"))\n        .catch(showError)\n        .then(() => displayChart(vegaEmbed));\n    }\n  })({\"config\": {\"view\": {\"continuousWidth\": 400, \"continuousHeight\": 300}}, \"data\": {\"url\": \"altair-data-41e84df9897d91a18de08871f6e9c55a.json\", \"format\": {\"type\": \"json\"}}, \"mark\": {\"type\": \"bar\", \"size\": 7}, \"encoding\": {\"x\": {\"type\": \"quantitative\", \"field\": \"SEGMENT_ID\", \"scale\": {\"zero\": false}, \"title\": \"Segment ID\"}, \"y\": {\"type\": \"quantitative\", \"aggregate\": \"sum\", \"field\": \"SPEED\", \"title\": \"Speed Average MPH\"}}, \"height\": 300, \"title\": \"Average Speed per Segment\", \"width\": 900, \"$schema\": \"https://vega.github.io/schema/vega-lite/v4.8.1.json\"}, {\"mode\": \"vega-lite\"});\n</script>",
      "text/plain": [
       "alt.Chart(...)"
      ]
     },
     "metadata": {},
     "execution_count": 10
    }
   ],
   "source": [
    "# let's generate the visualization\n",
    "\n",
    "# create a chart\n",
    "base = alt.Chart(values)\n",
    "\n",
    "# we're going to \"encode\" the variables, more on this next assignment\n",
    "encoding = base.encode(\n",
    "    x= alt.X(                # encode SEGMENT_ID a sa quantiative variable on the X axis\n",
    "            'SEGMENT_ID:Q',\n",
    "            title='Segment ID',\n",
    "            scale=alt.Scale(zero=False)   # we don't need to start at 0\n",
    "    ),\n",
    "    y=alt.Y(\n",
    "            'sum(SPEED):Q',   # encode the sum of speed for the segment as a quantitative variable on Y\n",
    "            title='Speed Average MPH'\n",
    "    ),\n",
    ")\n",
    "\n",
    "# we're going to use a bar chart and set various parameters (like bar size and title) to make it readable\n",
    "encoding.mark_bar(size=7).properties(title='Average Speed per Segment',height=300, width=900)"
   ]
  },
  {
   "cell_type": "markdown",
   "metadata": {},
   "source": [
    "### 2.3 Create a basic pivot table (10 points)\n",
    "For the next visualization, we need a more complex transformation that will allow us to see the average speed for each month. To do this, we will create a pivot table where the index is the month, and each column is a segment id. We will put the average speed in the cells. From the table, we'll be able to find the month (by index)--giving us the row, and pick the column corresponding to the segment we care about.\n",
    "\n",
    "Complete the `create_pivot_table` function for this"
   ]
  },
  {
   "cell_type": "code",
   "execution_count": 10,
   "metadata": {
    "deletable": false,
    "nbgrader": {
     "checksum": "1aaecde71e8600afd09103b1df790e6f",
     "grade": false,
     "grade_id": "create_pivot_table",
     "locked": false,
     "schema_version": 1,
     "solution": true
    }
   },
   "outputs": [],
   "source": [
    "def create_pivot_table (df):\n",
    "    \"\"\"return a pivot table where:\n",
    "    each row i is a month\n",
    "    each column j is a segment id\n",
    "    each cell value is the average speed for the month i in the segment j\n",
    "    \"\"\"\n",
    "    df = df.pivot_table('SPEED',index=['MONTH'], columns=['SEGMENT_ID'], aggfunc='mean')\n",
    "    return df\n",
    "    # YOUR CODE HERE\n",
    "    # raise NotImplementedError()"
   ]
  },
  {
   "cell_type": "code",
   "execution_count": 11,
   "metadata": {},
   "outputs": [],
   "source": [
    "# run the code and see what's in the table\n",
    "pivot_table = create_pivot_table(segment_rows)"
   ]
  },
  {
   "cell_type": "markdown",
   "metadata": {},
   "source": [
    "The table should look something like [this](assets/pivot_table.png)\n",
    "\n",
    "As before, we can write a \"test\" based on this example.  For example, here we see that in March (Month 3) segment 21 had a value of ~11.696, so we could write the test:\n",
    "\n",
    "```assert round(pivot_table.loc[3,21],3) == 11.696```"
   ]
  },
  {
   "cell_type": "code",
   "execution_count": 13,
   "metadata": {},
   "outputs": [
    {
     "output_type": "execute_result",
     "data": {
      "text/html": "\n<div id=\"altair-viz-4825a02d021441f495bf0357397615b8\"></div>\n<script type=\"text/javascript\">\n  (function(spec, embedOpt){\n    let outputDiv = document.currentScript.previousElementSibling;\n    if (outputDiv.id !== \"altair-viz-4825a02d021441f495bf0357397615b8\") {\n      outputDiv = document.getElementById(\"altair-viz-4825a02d021441f495bf0357397615b8\");\n    }\n    const paths = {\n      \"vega\": \"https://cdn.jsdelivr.net/npm//vega@5?noext\",\n      \"vega-lib\": \"https://cdn.jsdelivr.net/npm//vega-lib?noext\",\n      \"vega-lite\": \"https://cdn.jsdelivr.net/npm//vega-lite@4.8.1?noext\",\n      \"vega-embed\": \"https://cdn.jsdelivr.net/npm//vega-embed@6?noext\",\n    };\n\n    function loadScript(lib) {\n      return new Promise(function(resolve, reject) {\n        var s = document.createElement('script');\n        s.src = paths[lib];\n        s.async = true;\n        s.onload = () => resolve(paths[lib]);\n        s.onerror = () => reject(`Error loading script: ${paths[lib]}`);\n        document.getElementsByTagName(\"head\")[0].appendChild(s);\n      });\n    }\n\n    function showError(err) {\n      outputDiv.innerHTML = `<div class=\"error\" style=\"color:red;\">${err}</div>`;\n      throw err;\n    }\n\n    function displayChart(vegaEmbed) {\n      vegaEmbed(outputDiv, spec, embedOpt)\n        .catch(err => showError(`Javascript Error: ${err.message}<br>This usually means there's a typo in your chart specification. See the javascript console for the full traceback.`));\n    }\n\n    if(typeof define === \"function\" && define.amd) {\n      requirejs.config({paths});\n      require([\"vega-embed\"], displayChart, err => showError(`Error loading script: ${err.message}`));\n    } else if (typeof vegaEmbed === \"function\") {\n      displayChart(vegaEmbed);\n    } else {\n      loadScript(\"vega\")\n        .then(() => loadScript(\"vega-lite\"))\n        .then(() => loadScript(\"vega-embed\"))\n        .catch(showError)\n        .then(() => displayChart(vegaEmbed));\n    }\n  })({\"config\": {\"view\": {\"continuousWidth\": 400, \"continuousHeight\": 300}}, \"data\": {\"url\": \"altair-data-04f85a2addae34994afc5958c2c9b7da.json\", \"format\": {\"type\": \"json\"}}, \"mark\": \"rect\", \"encoding\": {\"color\": {\"type\": \"quantitative\", \"field\": \"SPEED\"}, \"x\": {\"type\": \"ordinal\", \"field\": \"SEGMENT_ID\"}, \"y\": {\"type\": \"ordinal\", \"field\": \"MONTH\"}}, \"height\": 300, \"title\": \"Average Speed per Segment per Month\", \"width\": 800, \"$schema\": \"https://vega.github.io/schema/vega-lite/v4.8.1.json\"}, {\"mode\": \"vega-lite\"});\n</script>",
      "text/plain": [
       "alt.Chart(...)"
      ]
     },
     "metadata": {},
     "execution_count": 13
    }
   ],
   "source": [
    "# we're going to implement a transformation to put the pivot table into a 'long form' because it\n",
    "# is easier to specify the visualization. You can print out hm_pivot_table to see what it looks like\n",
    "hm_pivot_table = pivot_table.copy().unstack().reset_index()\n",
    "hm_pivot_table['SPEED'] = hm_pivot_table[0]\n",
    "hm_pivot_table.drop(0,axis=1,inplace=True)\n",
    "\n",
    "# create the visualization. We're going to use rectangles (a heat map of sorts). We'll use the segment_id to\n",
    "# figure out the horizontal placement (x), the month as the vertical (y) and use color to encode the speed.\n",
    "encoding = alt.Chart(hm_pivot_table).mark_rect().encode(\n",
    "    x='SEGMENT_ID:O',\n",
    "    y='MONTH:O',\n",
    "    color='SPEED:Q'\n",
    ")\n",
    "\n",
    "encoding.properties(title='Average Speed per Segment per Month',height=300, width=800)"
   ]
  },
  {
   "cell_type": "code",
   "execution_count": 12,
   "metadata": {
    "deletable": false,
    "editable": false,
    "nbgrader": {
     "checksum": "af60ab546232cf9741c36d459bae279f",
     "grade": true,
     "grade_id": "create_pivot_table_test",
     "locked": true,
     "points": 10,
     "schema_version": 1,
     "solution": false
    }
   },
   "outputs": [],
   "source": [
    "# test function\n",
    "pivot_table = create_pivot_table(segment_rows)\n",
    "# check that the rows are months and columns are segments\n",
    "assert pivot_table.shape == (11, 78), \"Problem 2.3, first test\"\n",
    "# check that the value is the average\n",
    "assert int(pivot_table.loc[2,19]) == 6, \"Problem 2.3, second test\"\n",
    "assert int(pivot_table.loc[3,19]) == 10, \"Problem 2.3, third test\""
   ]
  },
  {
   "cell_type": "markdown",
   "metadata": {},
   "source": [
    "### 2.4 Sorting, Transforming, and Filtering (20 points)\n",
    "Without telling you too much about the visualization we want to create next (that's part of the bonus below), we need to get the data into a form we can use. \n",
    "- We're going to need to sort the dataframe by one or more columns (this is the `sort_by_col` function). \n",
    "- We'll want to create a derivative column that is the time of the measurement rounded to the nearest hour (`time_to_hours`)\n",
    "- We need to \"facet\" the data into groups to generate different visualizations. \n",
    "- We need a function that selects part of the dataframe that matches a specific characteristic (`filter_orientation`)\n",
    "- Grab a specific column from the dataframe (`select_column`)"
   ]
  },
  {
   "cell_type": "code",
   "execution_count": 13,
   "metadata": {
    "deletable": false,
    "nbgrader": {
     "checksum": "938399ff0e251c688aef62a741113d11",
     "grade": false,
     "grade_id": "sort",
     "locked": false,
     "schema_version": 1,
     "solution": true
    }
   },
   "outputs": [],
   "source": [
    "def sort_by_col(df, sorting_columns):\n",
    "    \"\"\"Sort the rows of df by the columns (sorting_columns)\n",
    "    return the sorted dataframe\n",
    "    \"\"\"\n",
    "    df = df.sort_values(by = sorting_columns)\n",
    "    return df\n",
    "    # YOUR CODE HERE\n",
    "    # raise NotImplementedError()"
   ]
  },
  {
   "cell_type": "code",
   "execution_count": 14,
   "metadata": {},
   "outputs": [
    {
     "output_type": "execute_result",
     "data": {
      "text/plain": [
       "        MONTH  DAY_OF_WEEK  HOUR  SEGMENT_ID                    TIME  SPEED  \\\n",
       "0           2            4    17          19  02/28/2018 05:40:00 PM     -1   \n",
       "22542       4            5    18          19  04/26/2018 06:50:23 PM     -1   \n",
       "108420     11            2    15          19  11/26/2018 03:50:26 PM     16   \n",
       "22620       4            5    19          19  04/26/2018 07:50:21 PM     -1   \n",
       "108342     11            2    14          19  11/26/2018 02:40:10 PM     26   \n",
       "...       ...          ...   ...         ...                     ...    ...   \n",
       "36113       5            5    23          97  05/31/2018 11:50:19 PM     21   \n",
       "94535      10            2     4          97  10/29/2018 04:50:24 AM     25   \n",
       "36191       5            6     0          97  05/25/2018 12:50:17 AM     -1   \n",
       "94847      10            2     8          97  10/29/2018 08:50:39 AM     27   \n",
       "131585     12            7    23          97  12/29/2018 11:50:21 PM     23   \n",
       "\n",
       "         STREET DIRECTION FROM_STREET  TO_STREET  \n",
       "0       Pulaski        NB       111th      107th  \n",
       "22542   Pulaski        NB       111th      107th  \n",
       "108420  Pulaski        NB       111th      107th  \n",
       "22620   Pulaski        NB       111th      107th  \n",
       "108342  Pulaski        NB       111th      107th  \n",
       "...         ...       ...         ...        ...  \n",
       "36113   Pulaski        SB    Peterson  Bryn Mawr  \n",
       "94535   Pulaski        SB    Peterson  Bryn Mawr  \n",
       "36191   Pulaski        SB    Peterson  Bryn Mawr  \n",
       "94847   Pulaski        SB    Peterson  Bryn Mawr  \n",
       "131585  Pulaski        SB    Peterson  Bryn Mawr  \n",
       "\n",
       "[131586 rows x 10 columns]"
      ],
      "text/html": "<div>\n<style scoped>\n    .dataframe tbody tr th:only-of-type {\n        vertical-align: middle;\n    }\n\n    .dataframe tbody tr th {\n        vertical-align: top;\n    }\n\n    .dataframe thead th {\n        text-align: right;\n    }\n</style>\n<table border=\"1\" class=\"dataframe\">\n  <thead>\n    <tr style=\"text-align: right;\">\n      <th></th>\n      <th>MONTH</th>\n      <th>DAY_OF_WEEK</th>\n      <th>HOUR</th>\n      <th>SEGMENT_ID</th>\n      <th>TIME</th>\n      <th>SPEED</th>\n      <th>STREET</th>\n      <th>DIRECTION</th>\n      <th>FROM_STREET</th>\n      <th>TO_STREET</th>\n    </tr>\n  </thead>\n  <tbody>\n    <tr>\n      <th>0</th>\n      <td>2</td>\n      <td>4</td>\n      <td>17</td>\n      <td>19</td>\n      <td>02/28/2018 05:40:00 PM</td>\n      <td>-1</td>\n      <td>Pulaski</td>\n      <td>NB</td>\n      <td>111th</td>\n      <td>107th</td>\n    </tr>\n    <tr>\n      <th>22542</th>\n      <td>4</td>\n      <td>5</td>\n      <td>18</td>\n      <td>19</td>\n      <td>04/26/2018 06:50:23 PM</td>\n      <td>-1</td>\n      <td>Pulaski</td>\n      <td>NB</td>\n      <td>111th</td>\n      <td>107th</td>\n    </tr>\n    <tr>\n      <th>108420</th>\n      <td>11</td>\n      <td>2</td>\n      <td>15</td>\n      <td>19</td>\n      <td>11/26/2018 03:50:26 PM</td>\n      <td>16</td>\n      <td>Pulaski</td>\n      <td>NB</td>\n      <td>111th</td>\n      <td>107th</td>\n    </tr>\n    <tr>\n      <th>22620</th>\n      <td>4</td>\n      <td>5</td>\n      <td>19</td>\n      <td>19</td>\n      <td>04/26/2018 07:50:21 PM</td>\n      <td>-1</td>\n      <td>Pulaski</td>\n      <td>NB</td>\n      <td>111th</td>\n      <td>107th</td>\n    </tr>\n    <tr>\n      <th>108342</th>\n      <td>11</td>\n      <td>2</td>\n      <td>14</td>\n      <td>19</td>\n      <td>11/26/2018 02:40:10 PM</td>\n      <td>26</td>\n      <td>Pulaski</td>\n      <td>NB</td>\n      <td>111th</td>\n      <td>107th</td>\n    </tr>\n    <tr>\n      <th>...</th>\n      <td>...</td>\n      <td>...</td>\n      <td>...</td>\n      <td>...</td>\n      <td>...</td>\n      <td>...</td>\n      <td>...</td>\n      <td>...</td>\n      <td>...</td>\n      <td>...</td>\n    </tr>\n    <tr>\n      <th>36113</th>\n      <td>5</td>\n      <td>5</td>\n      <td>23</td>\n      <td>97</td>\n      <td>05/31/2018 11:50:19 PM</td>\n      <td>21</td>\n      <td>Pulaski</td>\n      <td>SB</td>\n      <td>Peterson</td>\n      <td>Bryn Mawr</td>\n    </tr>\n    <tr>\n      <th>94535</th>\n      <td>10</td>\n      <td>2</td>\n      <td>4</td>\n      <td>97</td>\n      <td>10/29/2018 04:50:24 AM</td>\n      <td>25</td>\n      <td>Pulaski</td>\n      <td>SB</td>\n      <td>Peterson</td>\n      <td>Bryn Mawr</td>\n    </tr>\n    <tr>\n      <th>36191</th>\n      <td>5</td>\n      <td>6</td>\n      <td>0</td>\n      <td>97</td>\n      <td>05/25/2018 12:50:17 AM</td>\n      <td>-1</td>\n      <td>Pulaski</td>\n      <td>SB</td>\n      <td>Peterson</td>\n      <td>Bryn Mawr</td>\n    </tr>\n    <tr>\n      <th>94847</th>\n      <td>10</td>\n      <td>2</td>\n      <td>8</td>\n      <td>97</td>\n      <td>10/29/2018 08:50:39 AM</td>\n      <td>27</td>\n      <td>Pulaski</td>\n      <td>SB</td>\n      <td>Peterson</td>\n      <td>Bryn Mawr</td>\n    </tr>\n    <tr>\n      <th>131585</th>\n      <td>12</td>\n      <td>7</td>\n      <td>23</td>\n      <td>97</td>\n      <td>12/29/2018 11:50:21 PM</td>\n      <td>23</td>\n      <td>Pulaski</td>\n      <td>SB</td>\n      <td>Peterson</td>\n      <td>Bryn Mawr</td>\n    </tr>\n  </tbody>\n</table>\n<p>131586 rows × 10 columns</p>\n</div>"
     },
     "metadata": {},
     "execution_count": 14
    }
   ],
   "source": [
    "segment_rows = sort_by_col(segment_rows, ['SEGMENT_ID'])\n",
    "segment_rows"
   ]
  },
  {
   "cell_type": "code",
   "execution_count": 20,
   "metadata": {
    "deletable": false,
    "editable": false,
    "nbgrader": {
     "checksum": "ef7105382297ab120efad1d63261cb41",
     "grade": true,
     "grade_id": "sort_test",
     "locked": true,
     "points": 5,
     "schema_version": 1,
     "solution": false
    }
   },
   "outputs": [],
   "source": [
    "#hidden tests are within this cell\n"
   ]
  },
  {
   "cell_type": "code",
   "execution_count": 15,
   "metadata": {
    "deletable": false,
    "nbgrader": {
     "checksum": "71fcb8a344a4caf42cf1e644a76e1e2c",
     "grade": false,
     "grade_id": "time_to_hours",
     "locked": false,
     "schema_version": 1,
     "solution": true
    }
   },
   "outputs": [],
   "source": [
    "def time_to_hours(df):\n",
    "    \"\"\" Add a column (called TIME_HOURS) based on the data in the TIME column and rounded up \n",
    "    the value to the nearest hour.  For example, if the original TIME row said: \n",
    "    ‘02/28/2018 05:40:00 PM’ we want ‘2018-02-28 18:00:00’  \n",
    "    (the change is that 5:40pm was rounded up to 6:00pm and the TIME_HOUR column is \n",
    "    actually a proper datetime and not a string).\n",
    "    \"\"\"\n",
    "    df['TIME_HOURS'] = df['TIME']\n",
    "    df['TIME_HOURS'] = pd.to_datetime(df['TIME_HOURS']).dt.round('H').dt.strftime(\"%Y-%m-%d %I:%M:%S %p\")\n",
    "    # df.astype({'col1': 'int32'}).dtypes\n",
    "    df['TIME_HOURS'] = pd.to_datetime(df['TIME_HOURS'])\n",
    "    return df\n",
    "\n",
    "    \n",
    "    # YOUR CODE HERE\n",
    "    # raise NotImplementedError()"
   ]
  },
  {
   "cell_type": "code",
   "execution_count": 16,
   "metadata": {},
   "outputs": [],
   "source": [
    "segment_rows = time_to_hours(segment_rows)"
   ]
  },
  {
   "cell_type": "code",
   "execution_count": 17,
   "metadata": {},
   "outputs": [
    {
     "output_type": "execute_result",
     "data": {
      "text/plain": [
       "        MONTH  DAY_OF_WEEK  HOUR  SEGMENT_ID                    TIME  SPEED  \\\n",
       "0           2            4    17          19  02/28/2018 05:40:00 PM     -1   \n",
       "22542       4            5    18          19  04/26/2018 06:50:23 PM     -1   \n",
       "108420     11            2    15          19  11/26/2018 03:50:26 PM     16   \n",
       "22620       4            5    19          19  04/26/2018 07:50:21 PM     -1   \n",
       "108342     11            2    14          19  11/26/2018 02:40:10 PM     26   \n",
       "\n",
       "         STREET DIRECTION FROM_STREET TO_STREET          TIME_HOURS  \n",
       "0       Pulaski        NB       111th     107th 2018-02-28 18:00:00  \n",
       "22542   Pulaski        NB       111th     107th 2018-04-26 19:00:00  \n",
       "108420  Pulaski        NB       111th     107th 2018-11-26 16:00:00  \n",
       "22620   Pulaski        NB       111th     107th 2018-04-26 20:00:00  \n",
       "108342  Pulaski        NB       111th     107th 2018-11-26 15:00:00  "
      ],
      "text/html": "<div>\n<style scoped>\n    .dataframe tbody tr th:only-of-type {\n        vertical-align: middle;\n    }\n\n    .dataframe tbody tr th {\n        vertical-align: top;\n    }\n\n    .dataframe thead th {\n        text-align: right;\n    }\n</style>\n<table border=\"1\" class=\"dataframe\">\n  <thead>\n    <tr style=\"text-align: right;\">\n      <th></th>\n      <th>MONTH</th>\n      <th>DAY_OF_WEEK</th>\n      <th>HOUR</th>\n      <th>SEGMENT_ID</th>\n      <th>TIME</th>\n      <th>SPEED</th>\n      <th>STREET</th>\n      <th>DIRECTION</th>\n      <th>FROM_STREET</th>\n      <th>TO_STREET</th>\n      <th>TIME_HOURS</th>\n    </tr>\n  </thead>\n  <tbody>\n    <tr>\n      <th>0</th>\n      <td>2</td>\n      <td>4</td>\n      <td>17</td>\n      <td>19</td>\n      <td>02/28/2018 05:40:00 PM</td>\n      <td>-1</td>\n      <td>Pulaski</td>\n      <td>NB</td>\n      <td>111th</td>\n      <td>107th</td>\n      <td>2018-02-28 18:00:00</td>\n    </tr>\n    <tr>\n      <th>22542</th>\n      <td>4</td>\n      <td>5</td>\n      <td>18</td>\n      <td>19</td>\n      <td>04/26/2018 06:50:23 PM</td>\n      <td>-1</td>\n      <td>Pulaski</td>\n      <td>NB</td>\n      <td>111th</td>\n      <td>107th</td>\n      <td>2018-04-26 19:00:00</td>\n    </tr>\n    <tr>\n      <th>108420</th>\n      <td>11</td>\n      <td>2</td>\n      <td>15</td>\n      <td>19</td>\n      <td>11/26/2018 03:50:26 PM</td>\n      <td>16</td>\n      <td>Pulaski</td>\n      <td>NB</td>\n      <td>111th</td>\n      <td>107th</td>\n      <td>2018-11-26 16:00:00</td>\n    </tr>\n    <tr>\n      <th>22620</th>\n      <td>4</td>\n      <td>5</td>\n      <td>19</td>\n      <td>19</td>\n      <td>04/26/2018 07:50:21 PM</td>\n      <td>-1</td>\n      <td>Pulaski</td>\n      <td>NB</td>\n      <td>111th</td>\n      <td>107th</td>\n      <td>2018-04-26 20:00:00</td>\n    </tr>\n    <tr>\n      <th>108342</th>\n      <td>11</td>\n      <td>2</td>\n      <td>14</td>\n      <td>19</td>\n      <td>11/26/2018 02:40:10 PM</td>\n      <td>26</td>\n      <td>Pulaski</td>\n      <td>NB</td>\n      <td>111th</td>\n      <td>107th</td>\n      <td>2018-11-26 15:00:00</td>\n    </tr>\n  </tbody>\n</table>\n</div>"
     },
     "metadata": {},
     "execution_count": 17
    }
   ],
   "source": [
    "segment_rows.head()"
   ]
  },
  {
   "cell_type": "code",
   "execution_count": 23,
   "metadata": {
    "deletable": false,
    "editable": false,
    "nbgrader": {
     "checksum": "7700619a0611328122276fa4f8b459f6",
     "grade": true,
     "grade_id": "time_to_hours_test",
     "locked": true,
     "points": 5,
     "schema_version": 1,
     "solution": false
    }
   },
   "outputs": [],
   "source": [
    "#hidden tests are within this cell"
   ]
  },
  {
   "cell_type": "code",
   "execution_count": 24,
   "metadata": {
    "deletable": false,
    "nbgrader": {
     "checksum": "206c493f34eb1e6e12f05735fd4d5576",
     "grade": false,
     "grade_id": "filter_orientation",
     "locked": false,
     "schema_version": 1,
     "solution": true
    }
   },
   "outputs": [],
   "source": [
    "def filter_orientation(df, traffic_orientation):\n",
    "    \"\"\" Filter the rows according to the traffic orientation\n",
    "    return a df that is a subset of the original with the desired orientation\n",
    "    \"\"\"\n",
    "    # YOUR CODE HERE\n",
    "    df = df[df['DIRECTION'] == traffic_orientation]\n",
    "    return df\n",
    "    # raise NotImplementedError()"
   ]
  },
  {
   "cell_type": "code",
   "execution_count": 25,
   "metadata": {},
   "outputs": [],
   "source": [
    "sb = filter_orientation(segment_rows, 'SB')\n",
    "nb = filter_orientation(segment_rows, 'NB')\n"
   ]
  },
  {
   "cell_type": "markdown",
   "metadata": {},
   "source": [
    "The sb table should look like [this](assets/sb.png)"
   ]
  },
  {
   "cell_type": "code",
   "execution_count": 26,
   "metadata": {
    "deletable": false,
    "editable": false,
    "nbgrader": {
     "checksum": "b88dcd086a0f094ae24c1713da2afdd5",
     "grade": true,
     "grade_id": "filter_orientation_test",
     "locked": true,
     "points": 5,
     "schema_version": 1,
     "solution": false
    }
   },
   "outputs": [],
   "source": [
    "#hidden tests are within this cell\n"
   ]
  },
  {
   "cell_type": "code",
   "execution_count": 27,
   "metadata": {
    "deletable": false,
    "nbgrader": {
     "checksum": "8bd77baa91c3d09be958b95fe76c22da",
     "grade": false,
     "grade_id": "select_column",
     "locked": false,
     "schema_version": 1,
     "solution": true
    }
   },
   "outputs": [],
   "source": [
    "def select_column(df, column_name):\n",
    "    \"\"\" Select a column from the df\n",
    "    return a series with the desired column\n",
    "    \"\"\"\n",
    "    return df[column_name]\n",
    "    # YOUR CODE HERE\n",
    "    # raise NotImplementedError()"
   ]
  },
  {
   "cell_type": "code",
   "execution_count": 28,
   "metadata": {
    "deletable": false,
    "editable": false,
    "nbgrader": {
     "checksum": "b41a4a1d8eb6109b1457b3878cbf912d",
     "grade": true,
     "grade_id": "select_column_test",
     "locked": true,
     "points": 5,
     "schema_version": 1,
     "solution": false
    }
   },
   "outputs": [],
   "source": [
    "#hidden tests are within this cell\n"
   ]
  },
  {
   "cell_type": "code",
   "execution_count": 29,
   "metadata": {},
   "outputs": [],
   "source": [
    "# we're going to remove speeds of -1 (no data)\n",
    "sb = sb[sb.SPEED > -1]\n",
    "nb = nb[nb.SPEED > -1]"
   ]
  },
  {
   "cell_type": "code",
   "execution_count": 30,
   "metadata": {},
   "outputs": [
    {
     "data": {
      "text/html": [
       "\n",
       "<div id=\"altair-viz-8586c3101c414d9a91ede977f4831511\"></div>\n",
       "<script type=\"text/javascript\">\n",
       "  (function(spec, embedOpt){\n",
       "    let outputDiv = document.currentScript.previousElementSibling;\n",
       "    if (outputDiv.id !== \"altair-viz-8586c3101c414d9a91ede977f4831511\") {\n",
       "      outputDiv = document.getElementById(\"altair-viz-8586c3101c414d9a91ede977f4831511\");\n",
       "    }\n",
       "    const paths = {\n",
       "      \"vega\": \"https://cdn.jsdelivr.net/npm//vega@5?noext\",\n",
       "      \"vega-lib\": \"https://cdn.jsdelivr.net/npm//vega-lib?noext\",\n",
       "      \"vega-lite\": \"https://cdn.jsdelivr.net/npm//vega-lite@4.8.1?noext\",\n",
       "      \"vega-embed\": \"https://cdn.jsdelivr.net/npm//vega-embed@6?noext\",\n",
       "    };\n",
       "\n",
       "    function loadScript(lib) {\n",
       "      return new Promise(function(resolve, reject) {\n",
       "        var s = document.createElement('script');\n",
       "        s.src = paths[lib];\n",
       "        s.async = true;\n",
       "        s.onload = () => resolve(paths[lib]);\n",
       "        s.onerror = () => reject(`Error loading script: ${paths[lib]}`);\n",
       "        document.getElementsByTagName(\"head\")[0].appendChild(s);\n",
       "      });\n",
       "    }\n",
       "\n",
       "    function showError(err) {\n",
       "      outputDiv.innerHTML = `<div class=\"error\" style=\"color:red;\">${err}</div>`;\n",
       "      throw err;\n",
       "    }\n",
       "\n",
       "    function displayChart(vegaEmbed) {\n",
       "      vegaEmbed(outputDiv, spec, embedOpt)\n",
       "        .catch(err => showError(`Javascript Error: ${err.message}<br>This usually means there's a typo in your chart specification. See the javascript console for the full traceback.`));\n",
       "    }\n",
       "\n",
       "    if(typeof define === \"function\" && define.amd) {\n",
       "      requirejs.config({paths});\n",
       "      require([\"vega-embed\"], displayChart, err => showError(`Error loading script: ${err.message}`));\n",
       "    } else if (typeof vegaEmbed === \"function\") {\n",
       "      displayChart(vegaEmbed);\n",
       "    } else {\n",
       "      loadScript(\"vega\")\n",
       "        .then(() => loadScript(\"vega-lite\"))\n",
       "        .then(() => loadScript(\"vega-embed\"))\n",
       "        .catch(showError)\n",
       "        .then(() => displayChart(vegaEmbed));\n",
       "    }\n",
       "  })({\"config\": {\"view\": {\"continuousWidth\": 400, \"continuousHeight\": 300}}, \"data\": {\"url\": \"altair-data-1075118f8eb8344c9d622d8479c91312.json\", \"format\": {\"type\": \"json\"}}, \"mark\": \"rect\", \"encoding\": {\"color\": {\"type\": \"quantitative\", \"aggregate\": \"mean\", \"field\": \"SPEED\"}, \"facet\": {\"type\": \"nominal\", \"field\": \"DIRECTION\"}, \"x\": {\"type\": \"temporal\", \"field\": \"TIME_HOURS\", \"timeUnit\": \"month\"}, \"y\": {\"type\": \"nominal\", \"field\": \"FROM_STREET\"}}, \"height\": 400, \"width\": 300, \"$schema\": \"https://vega.github.io/schema/vega-lite/v4.8.1.json\"}, {\"mode\": \"vega-lite\"});\n",
       "</script>"
      ],
      "text/plain": [
       "alt.Chart(...)"
      ]
     },
     "execution_count": 30,
     "metadata": {},
     "output_type": "execute_result"
    }
   ],
   "source": [
    "alt.data_transformers.disable_max_rows()\n",
    "alt.Chart(sb.append(nb)).mark_rect().encode(\n",
    "    x='month(TIME_HOURS):T',\n",
    "    y='FROM_STREET:N',\n",
    "    color='mean(SPEED):Q',\n",
    "    facet='DIRECTION:N'\n",
    ").properties(\n",
    "    width=300,\n",
    "    height=400\n",
    ")\n"
   ]
  },
  {
   "cell_type": "markdown",
   "metadata": {},
   "source": [
    "### 2.5 (Bonus)  Traffic heatmap visualization (up to 2 points)\n",
    "Looking at the visualization above (the one showing Northbound versus Southbound facets), what domain/abstract tasks are fulfilled by this visualization? List at least one domain task and the corresponding abstract task."
   ]
  },
  {
   "cell_type": "markdown",
   "metadata": {
    "deletable": false,
    "nbgrader": {
     "checksum": "e2996874b27a42b2dd6b7c869cae5d94",
     "grade": true,
     "grade_id": "complex_heatmap_vis",
     "locked": false,
     "points": 0,
     "schema_version": 1,
     "solution": true
    }
   },
   "source": [
    "YOUR ANSWER HERE"
   ]
  },
  {
   "cell_type": "markdown",
   "metadata": {},
   "source": [
    "### PART B: Crashes (25 points)\n",
    "For parts 2.6 and 2.7 we will use the Crashes dataset. This dataset contains crash entries recording the time of the accident, the street, and the street number where the accident occurred. You will work with accidents recorded on Pulaski Road\n"
   ]
  },
  {
   "cell_type": "code",
   "execution_count": 31,
   "metadata": {},
   "outputs": [],
   "source": [
    "crashes = read_csv('assets/Traffic.Crashes.csv.gz')\n",
    "crashes_pulaski = crashes[crashes.STREET_NAME == 'PULASKI RD']"
   ]
  },
  {
   "cell_type": "markdown",
   "metadata": {},
   "source": [
    "### 2.6 Calculate summary statistics for grouped streets (15 points)\n",
    "- Group the streets every 300 units (street numbers). Hint: You can use the `pd.cut` function\n",
    "- Calculate the number of accidents (count rows) and the total of injuries (sum injuries total) for each of these 300-chunk road segments. Do this *for each direction*.\n",
    "\n",
    "Complete bin_crashes and calculate_group_aggregates functions for this"
   ]
  },
  {
   "cell_type": "code",
   "execution_count": 32,
   "metadata": {
    "deletable": false,
    "nbgrader": {
     "checksum": "ee8019759572eb41162af625bfc5ee86",
     "grade": false,
     "grade_id": "bin_crashes",
     "locked": false,
     "schema_version": 1,
     "solution": true
    }
   },
   "outputs": [],
   "source": [
    "def bin_crashes(df):\n",
    "    \"\"\" Assign each crash instance a category (bin) every 300 house number units starting from 0\n",
    "    Return a new dataframe with a column called BIN where each value is the start of the bin\n",
    "    i.e. 0 is the label for records with street number n, where 1 <= n <= 300\n",
    "    300 is the label for records with n at 301 <= n <= 600, and so on.\n",
    "    \"\"\"\n",
    "    bins = list(range(0, crashes_pulaski.STREET_NO.max()+1000, 300))\n",
    "    # b = [i for i in range(11480)]\n",
    "    # labels = b[0::300]\n",
    "    df = crashes_pulaski\n",
    "    df['BIN'] = pd.cut(df['STREET_NO'], bins, labels=bins[:-1])\n",
    "    return df\n",
    "\n",
    "    # YOUR CODE HERE\n",
    "    # raise NotImplementedError()"
   ]
  },
  {
   "cell_type": "code",
   "execution_count": 33,
   "metadata": {},
   "outputs": [
    {
     "name": "stderr",
     "output_type": "stream",
     "text": [
      "<ipython-input-32-743bbe3218e1>:11: SettingWithCopyWarning: \n",
      "A value is trying to be set on a copy of a slice from a DataFrame.\n",
      "Try using .loc[row_indexer,col_indexer] = value instead\n",
      "\n",
      "See the caveats in the documentation: https://pandas.pydata.org/pandas-docs/stable/user_guide/indexing.html#returning-a-view-versus-a-copy\n",
      "  df['BIN'] = pd.cut(df['STREET_NO'], bins, labels=bins[:-1])\n"
     ]
    },
    {
     "data": {
      "text/html": [
       "<div>\n",
       "<style scoped>\n",
       "    .dataframe tbody tr th:only-of-type {\n",
       "        vertical-align: middle;\n",
       "    }\n",
       "\n",
       "    .dataframe tbody tr th {\n",
       "        vertical-align: top;\n",
       "    }\n",
       "\n",
       "    .dataframe thead th {\n",
       "        text-align: right;\n",
       "    }\n",
       "</style>\n",
       "<table border=\"1\" class=\"dataframe\">\n",
       "  <thead>\n",
       "    <tr style=\"text-align: right;\">\n",
       "      <th></th>\n",
       "      <th>STREET_NO</th>\n",
       "      <th>BIN</th>\n",
       "    </tr>\n",
       "  </thead>\n",
       "  <tbody>\n",
       "    <tr>\n",
       "      <th>80747</th>\n",
       "      <td>4915</td>\n",
       "      <td>4800</td>\n",
       "    </tr>\n",
       "    <tr>\n",
       "      <th>93000</th>\n",
       "      <td>2601</td>\n",
       "      <td>2400</td>\n",
       "    </tr>\n",
       "    <tr>\n",
       "      <th>82868</th>\n",
       "      <td>5252</td>\n",
       "      <td>5100</td>\n",
       "    </tr>\n",
       "    <tr>\n",
       "      <th>64718</th>\n",
       "      <td>3512</td>\n",
       "      <td>3300</td>\n",
       "    </tr>\n",
       "    <tr>\n",
       "      <th>12674</th>\n",
       "      <td>400</td>\n",
       "      <td>300</td>\n",
       "    </tr>\n",
       "  </tbody>\n",
       "</table>\n",
       "</div>"
      ],
      "text/plain": [
       "       STREET_NO   BIN\n",
       "80747       4915  4800\n",
       "93000       2601  2400\n",
       "82868       5252  5100\n",
       "64718       3512  3300\n",
       "12674        400   300"
      ]
     },
     "execution_count": 33,
     "metadata": {},
     "output_type": "execute_result"
    }
   ],
   "source": [
    "binned_df = bin_crashes(crashes_pulaski)\n",
    "\n",
    "# sample the values to see what's in your new DF\n",
    "binned_df.sample(5)[['STREET_NO','BIN']]"
   ]
  },
  {
   "cell_type": "markdown",
   "metadata": {},
   "source": [
    "A sample of the relevant columns from the table would look something like [this](assets/binned_df.png). We can also create a histogram of street numbers to see which are the most prevalent. It should look something like [this](assets/street_no.png)."
   ]
  },
  {
   "cell_type": "code",
   "execution_count": 34,
   "metadata": {},
   "outputs": [
    {
     "data": {
      "text/html": [
       "\n",
       "<div id=\"altair-viz-8a86f68994724ae2857268321fa9d0a5\"></div>\n",
       "<script type=\"text/javascript\">\n",
       "  (function(spec, embedOpt){\n",
       "    let outputDiv = document.currentScript.previousElementSibling;\n",
       "    if (outputDiv.id !== \"altair-viz-8a86f68994724ae2857268321fa9d0a5\") {\n",
       "      outputDiv = document.getElementById(\"altair-viz-8a86f68994724ae2857268321fa9d0a5\");\n",
       "    }\n",
       "    const paths = {\n",
       "      \"vega\": \"https://cdn.jsdelivr.net/npm//vega@5?noext\",\n",
       "      \"vega-lib\": \"https://cdn.jsdelivr.net/npm//vega-lib?noext\",\n",
       "      \"vega-lite\": \"https://cdn.jsdelivr.net/npm//vega-lite@4.8.1?noext\",\n",
       "      \"vega-embed\": \"https://cdn.jsdelivr.net/npm//vega-embed@6?noext\",\n",
       "    };\n",
       "\n",
       "    function loadScript(lib) {\n",
       "      return new Promise(function(resolve, reject) {\n",
       "        var s = document.createElement('script');\n",
       "        s.src = paths[lib];\n",
       "        s.async = true;\n",
       "        s.onload = () => resolve(paths[lib]);\n",
       "        s.onerror = () => reject(`Error loading script: ${paths[lib]}`);\n",
       "        document.getElementsByTagName(\"head\")[0].appendChild(s);\n",
       "      });\n",
       "    }\n",
       "\n",
       "    function showError(err) {\n",
       "      outputDiv.innerHTML = `<div class=\"error\" style=\"color:red;\">${err}</div>`;\n",
       "      throw err;\n",
       "    }\n",
       "\n",
       "    function displayChart(vegaEmbed) {\n",
       "      vegaEmbed(outputDiv, spec, embedOpt)\n",
       "        .catch(err => showError(`Javascript Error: ${err.message}<br>This usually means there's a typo in your chart specification. See the javascript console for the full traceback.`));\n",
       "    }\n",
       "\n",
       "    if(typeof define === \"function\" && define.amd) {\n",
       "      requirejs.config({paths});\n",
       "      require([\"vega-embed\"], displayChart, err => showError(`Error loading script: ${err.message}`));\n",
       "    } else if (typeof vegaEmbed === \"function\") {\n",
       "      displayChart(vegaEmbed);\n",
       "    } else {\n",
       "      loadScript(\"vega\")\n",
       "        .then(() => loadScript(\"vega-lite\"))\n",
       "        .then(() => loadScript(\"vega-embed\"))\n",
       "        .catch(showError)\n",
       "        .then(() => displayChart(vegaEmbed));\n",
       "    }\n",
       "  })({\"config\": {\"view\": {\"continuousWidth\": 400, \"continuousHeight\": 300}}, \"data\": {\"url\": \"altair-data-e377210cf56473698683159c3e906eb6.json\", \"format\": {\"type\": \"json\"}}, \"mark\": \"bar\", \"encoding\": {\"x\": {\"type\": \"nominal\", \"field\": \"BIN\"}, \"y\": {\"type\": \"quantitative\", \"aggregate\": \"count\"}}, \"$schema\": \"https://vega.github.io/schema/vega-lite/v4.8.1.json\"}, {\"mode\": \"vega-lite\"});\n",
       "</script>"
      ],
      "text/plain": [
       "alt.Chart(...)"
      ]
     },
     "execution_count": 34,
     "metadata": {},
     "output_type": "execute_result"
    }
   ],
   "source": [
    "# create this vis\n",
    "alt.Chart(binned_df).mark_bar().encode(\n",
    "    alt.X('BIN'),\n",
    "    alt.Y('count()')\n",
    ")"
   ]
  },
  {
   "cell_type": "code",
   "execution_count": 35,
   "metadata": {
    "deletable": false,
    "editable": false,
    "nbgrader": {
     "checksum": "2a40cbb7ec1ffba247cb07107e7214c8",
     "grade": true,
     "grade_id": "bin_crashes_test",
     "locked": true,
     "points": 10,
     "schema_version": 1,
     "solution": false
    }
   },
   "outputs": [],
   "source": [
    "#hidden tests are within this cell"
   ]
  },
  {
   "cell_type": "code",
   "execution_count": 36,
   "metadata": {
    "deletable": false,
    "nbgrader": {
     "checksum": "c127428d5a9f22f5890688d2e8e0b9fe",
     "grade": false,
     "grade_id": "calculate_group_aggregates",
     "locked": false,
     "schema_version": 1,
     "solution": true
    }
   },
   "outputs": [],
   "source": [
    "def calculate_group_aggregates(df):\n",
    "    \"\"\" \n",
    "    There are *accidents* and *injuries* (could be 0 people got hurt, could be more). \n",
    "    There’s one row per accident at the moment, so we want to know how many accidents \n",
    "    happened in each BIN/STREET_DIRECTION (this will be the count) and how many injuries (which will be the sum). \n",
    "    \n",
    "    Return a df with the count of accidents in a column named 'ACCIDENT_COUNT' (how many accidents happened in each \n",
    "    bin (the count) and how many injuries (the sum) in a column named 'INJURIES_SUM'\n",
    "    \n",
    "    Replace NaN with 0\n",
    "    \"\"\"\n",
    "    acc_count = df.groupby(['BIN','STREET_DIRECTION']).count().fillna(0)['INJURIES_TOTAL'].reset_index(name='ACCIDENT_COUNT')\n",
    "    inj_count = df.groupby(['BIN','STREET_DIRECTION'])['INJURIES_TOTAL'].sum().reset_index(name='INJURIES_SUM')\n",
    "    df = pd.merge(acc_count, inj_count, how='outer').fillna(0.0)\n",
    "    return df\n",
    "\n",
    "    # YOUR CODE HERE\n",
    "    # raise NotImplementedError()"
   ]
  },
  {
   "cell_type": "code",
   "execution_count": 37,
   "metadata": {},
   "outputs": [
    {
     "data": {
      "text/html": [
       "<div>\n",
       "<style scoped>\n",
       "    .dataframe tbody tr th:only-of-type {\n",
       "        vertical-align: middle;\n",
       "    }\n",
       "\n",
       "    .dataframe tbody tr th {\n",
       "        vertical-align: top;\n",
       "    }\n",
       "\n",
       "    .dataframe thead th {\n",
       "        text-align: right;\n",
       "    }\n",
       "</style>\n",
       "<table border=\"1\" class=\"dataframe\">\n",
       "  <thead>\n",
       "    <tr style=\"text-align: right;\">\n",
       "      <th></th>\n",
       "      <th>BIN</th>\n",
       "      <th>STREET_DIRECTION</th>\n",
       "      <th>ACCIDENT_COUNT</th>\n",
       "      <th>INJURIES_SUM</th>\n",
       "    </tr>\n",
       "  </thead>\n",
       "  <tbody>\n",
       "    <tr>\n",
       "      <th>5</th>\n",
       "      <td>600</td>\n",
       "      <td>S</td>\n",
       "      <td>31.0</td>\n",
       "      <td>9.0</td>\n",
       "    </tr>\n",
       "    <tr>\n",
       "      <th>17</th>\n",
       "      <td>2400</td>\n",
       "      <td>S</td>\n",
       "      <td>58.0</td>\n",
       "      <td>17.0</td>\n",
       "    </tr>\n",
       "    <tr>\n",
       "      <th>35</th>\n",
       "      <td>5100</td>\n",
       "      <td>S</td>\n",
       "      <td>169.0</td>\n",
       "      <td>35.0</td>\n",
       "    </tr>\n",
       "    <tr>\n",
       "      <th>9</th>\n",
       "      <td>1200</td>\n",
       "      <td>S</td>\n",
       "      <td>30.0</td>\n",
       "      <td>13.0</td>\n",
       "    </tr>\n",
       "    <tr>\n",
       "      <th>56</th>\n",
       "      <td>8400</td>\n",
       "      <td>N</td>\n",
       "      <td>0.0</td>\n",
       "      <td>0.0</td>\n",
       "    </tr>\n",
       "    <tr>\n",
       "      <th>63</th>\n",
       "      <td>9300</td>\n",
       "      <td>S</td>\n",
       "      <td>0.0</td>\n",
       "      <td>0.0</td>\n",
       "    </tr>\n",
       "    <tr>\n",
       "      <th>69</th>\n",
       "      <td>10200</td>\n",
       "      <td>S</td>\n",
       "      <td>19.0</td>\n",
       "      <td>1.0</td>\n",
       "    </tr>\n",
       "    <tr>\n",
       "      <th>73</th>\n",
       "      <td>10800</td>\n",
       "      <td>S</td>\n",
       "      <td>13.0</td>\n",
       "      <td>1.0</td>\n",
       "    </tr>\n",
       "    <tr>\n",
       "      <th>25</th>\n",
       "      <td>3600</td>\n",
       "      <td>S</td>\n",
       "      <td>51.0</td>\n",
       "      <td>15.0</td>\n",
       "    </tr>\n",
       "    <tr>\n",
       "      <th>38</th>\n",
       "      <td>5700</td>\n",
       "      <td>N</td>\n",
       "      <td>40.0</td>\n",
       "      <td>5.0</td>\n",
       "    </tr>\n",
       "    <tr>\n",
       "      <th>72</th>\n",
       "      <td>10800</td>\n",
       "      <td>N</td>\n",
       "      <td>0.0</td>\n",
       "      <td>0.0</td>\n",
       "    </tr>\n",
       "    <tr>\n",
       "      <th>80</th>\n",
       "      <td>12000</td>\n",
       "      <td>N</td>\n",
       "      <td>0.0</td>\n",
       "      <td>0.0</td>\n",
       "    </tr>\n",
       "    <tr>\n",
       "      <th>39</th>\n",
       "      <td>5700</td>\n",
       "      <td>S</td>\n",
       "      <td>101.0</td>\n",
       "      <td>25.0</td>\n",
       "    </tr>\n",
       "    <tr>\n",
       "      <th>26</th>\n",
       "      <td>3900</td>\n",
       "      <td>N</td>\n",
       "      <td>80.0</td>\n",
       "      <td>15.0</td>\n",
       "    </tr>\n",
       "    <tr>\n",
       "      <th>54</th>\n",
       "      <td>8100</td>\n",
       "      <td>N</td>\n",
       "      <td>0.0</td>\n",
       "      <td>0.0</td>\n",
       "    </tr>\n",
       "  </tbody>\n",
       "</table>\n",
       "</div>"
      ],
      "text/plain": [
       "      BIN STREET_DIRECTION  ACCIDENT_COUNT  INJURIES_SUM\n",
       "5     600                S            31.0           9.0\n",
       "17   2400                S            58.0          17.0\n",
       "35   5100                S           169.0          35.0\n",
       "9    1200                S            30.0          13.0\n",
       "56   8400                N             0.0           0.0\n",
       "63   9300                S             0.0           0.0\n",
       "69  10200                S            19.0           1.0\n",
       "73  10800                S            13.0           1.0\n",
       "25   3600                S            51.0          15.0\n",
       "38   5700                N            40.0           5.0\n",
       "72  10800                N             0.0           0.0\n",
       "80  12000                N             0.0           0.0\n",
       "39   5700                S           101.0          25.0\n",
       "26   3900                N            80.0          15.0\n",
       "54   8100                N             0.0           0.0"
      ]
     },
     "execution_count": 37,
     "metadata": {},
     "output_type": "execute_result"
    }
   ],
   "source": [
    "aggregates = calculate_group_aggregates(binned_df)\n",
    "\n",
    "# check the data\n",
    "#aggregates.head(15)\n",
    "\n",
    "aggregates.sample(15)"
   ]
  },
  {
   "cell_type": "markdown",
   "metadata": {},
   "source": [
    "The table should look like [this](assets/2.6_aggregate_1.png)"
   ]
  },
  {
   "cell_type": "code",
   "execution_count": 38,
   "metadata": {
    "deletable": false,
    "editable": false,
    "nbgrader": {
     "checksum": "1ea00072182d635634bc3e0867c65c2f",
     "grade": true,
     "grade_id": "calculate_group_aggregates_TEST",
     "locked": true,
     "points": 5,
     "schema_version": 1,
     "solution": false
    }
   },
   "outputs": [],
   "source": [
    "#hidden tests are within this cell\n"
   ]
  },
  {
   "cell_type": "markdown",
   "metadata": {},
   "source": [
    "Just for fun, here's a plot of injuries in the North and South directions based on bin. This may also help you debug your code. Depending on whether you removed N/A or if you hardcoded things, you may see slight differences. Here's what it might  [look like](assets/direction_injuries.png)"
   ]
  },
  {
   "cell_type": "code",
   "execution_count": 39,
   "metadata": {},
   "outputs": [
    {
     "data": {
      "text/html": [
       "\n",
       "<div id=\"altair-viz-9fc5f818830640deb42c1b54d002cad1\"></div>\n",
       "<script type=\"text/javascript\">\n",
       "  (function(spec, embedOpt){\n",
       "    let outputDiv = document.currentScript.previousElementSibling;\n",
       "    if (outputDiv.id !== \"altair-viz-9fc5f818830640deb42c1b54d002cad1\") {\n",
       "      outputDiv = document.getElementById(\"altair-viz-9fc5f818830640deb42c1b54d002cad1\");\n",
       "    }\n",
       "    const paths = {\n",
       "      \"vega\": \"https://cdn.jsdelivr.net/npm//vega@5?noext\",\n",
       "      \"vega-lib\": \"https://cdn.jsdelivr.net/npm//vega-lib?noext\",\n",
       "      \"vega-lite\": \"https://cdn.jsdelivr.net/npm//vega-lite@4.8.1?noext\",\n",
       "      \"vega-embed\": \"https://cdn.jsdelivr.net/npm//vega-embed@6?noext\",\n",
       "    };\n",
       "\n",
       "    function loadScript(lib) {\n",
       "      return new Promise(function(resolve, reject) {\n",
       "        var s = document.createElement('script');\n",
       "        s.src = paths[lib];\n",
       "        s.async = true;\n",
       "        s.onload = () => resolve(paths[lib]);\n",
       "        s.onerror = () => reject(`Error loading script: ${paths[lib]}`);\n",
       "        document.getElementsByTagName(\"head\")[0].appendChild(s);\n",
       "      });\n",
       "    }\n",
       "\n",
       "    function showError(err) {\n",
       "      outputDiv.innerHTML = `<div class=\"error\" style=\"color:red;\">${err}</div>`;\n",
       "      throw err;\n",
       "    }\n",
       "\n",
       "    function displayChart(vegaEmbed) {\n",
       "      vegaEmbed(outputDiv, spec, embedOpt)\n",
       "        .catch(err => showError(`Javascript Error: ${err.message}<br>This usually means there's a typo in your chart specification. See the javascript console for the full traceback.`));\n",
       "    }\n",
       "\n",
       "    if(typeof define === \"function\" && define.amd) {\n",
       "      requirejs.config({paths});\n",
       "      require([\"vega-embed\"], displayChart, err => showError(`Error loading script: ${err.message}`));\n",
       "    } else if (typeof vegaEmbed === \"function\") {\n",
       "      displayChart(vegaEmbed);\n",
       "    } else {\n",
       "      loadScript(\"vega\")\n",
       "        .then(() => loadScript(\"vega-lite\"))\n",
       "        .then(() => loadScript(\"vega-embed\"))\n",
       "        .catch(showError)\n",
       "        .then(() => displayChart(vegaEmbed));\n",
       "    }\n",
       "  })({\"config\": {\"view\": {\"continuousWidth\": 400, \"continuousHeight\": 300}}, \"data\": {\"url\": \"altair-data-163679202ba515b9972977ffed590b0b.json\", \"format\": {\"type\": \"json\"}}, \"mark\": \"point\", \"encoding\": {\"color\": {\"type\": \"nominal\", \"field\": \"STREET_DIRECTION\"}, \"x\": {\"type\": \"nominal\", \"field\": \"BIN\"}, \"y\": {\"type\": \"quantitative\", \"field\": \"INJURIES_SUM\"}}, \"$schema\": \"https://vega.github.io/schema/vega-lite/v4.8.1.json\"}, {\"mode\": \"vega-lite\"});\n",
       "</script>"
      ],
      "text/plain": [
       "alt.Chart(...)"
      ]
     },
     "execution_count": 39,
     "metadata": {},
     "output_type": "execute_result"
    }
   ],
   "source": [
    "alt.Chart(aggregates).mark_point().encode(\n",
    "    alt.Color('STREET_DIRECTION'),\n",
    "    alt.X('BIN'),\n",
    "    alt.Y('INJURIES_SUM')\n",
    ")"
   ]
  },
  {
   "cell_type": "markdown",
   "metadata": {},
   "source": [
    "### 2.7 Sort the street ranges (10 points)\n",
    "- Sort the dataframe so North streets are in descending order and South streets are in ascending order\n",
    "- You are provided with a 'sort' arrray that contains this desired order. Use a categorical (pd.Categorial) column to order the dataframe according to this array."
   ]
  },
  {
   "cell_type": "code",
   "execution_count": 40,
   "metadata": {
    "deletable": false,
    "nbgrader": {
     "checksum": "95b140cdc14d5ddc0201e44f68f688a7",
     "grade": false,
     "grade_id": "categorical_sorting",
     "locked": false,
     "schema_version": 1,
     "solution": true
    }
   },
   "outputs": [],
   "source": [
    "crashed_range = list(range(0, crashes_pulaski.STREET_NO.max()+1000, 300))\n",
    "sort_order = ['N ' + str(s) for s in crashed_range[::-1]] + ['S ' + str(s) for s in crashed_range]\n",
    "def categorical_sorting(df, sorder):\n",
    "    \"\"\" Create a column called ORDER_LABEL that contains a concatenation of the street direction and the street range\n",
    "    Set the sort order of this column to the provided sort array (sorder: the elements of this column should be in the same order of the array)\n",
    "    Sort the dataframe (df) by this column\n",
    "    \"\"\"\n",
    "    # df['CATEGORY'] = pd.Categorical(df['CATEGORY'], categories=sort_order, ordered=True)\n",
    "    # df.sort_values('CATEGORY',inplace=True)\n",
    "    # df= df[df['INJURIES_SUM'] != 0]\n",
    "    df['ORDER_LABEL'] = df[['STREET_DIRECTION','BIN']].astype(str).agg(' '.join,axis=1)\n",
    "    df['ORDER_LABEL'] = pd.Categorical(df['ORDER_LABEL'], categories=sorder, ordered=True)\n",
    "    df.sort_values('ORDER_LABEL',inplace=True)\n",
    "    return df\n",
    "    # YOUR CODE HERE\n",
    "    # raise NotImplementedError()"
   ]
  },
  {
   "cell_type": "code",
   "execution_count": 41,
   "metadata": {},
   "outputs": [
    {
     "data": {
      "text/html": [
       "<div>\n",
       "<style scoped>\n",
       "    .dataframe tbody tr th:only-of-type {\n",
       "        vertical-align: middle;\n",
       "    }\n",
       "\n",
       "    .dataframe tbody tr th {\n",
       "        vertical-align: top;\n",
       "    }\n",
       "\n",
       "    .dataframe thead th {\n",
       "        text-align: right;\n",
       "    }\n",
       "</style>\n",
       "<table border=\"1\" class=\"dataframe\">\n",
       "  <thead>\n",
       "    <tr style=\"text-align: right;\">\n",
       "      <th></th>\n",
       "      <th>BIN</th>\n",
       "      <th>STREET_DIRECTION</th>\n",
       "      <th>ACCIDENT_COUNT</th>\n",
       "      <th>INJURIES_SUM</th>\n",
       "      <th>ORDER_LABEL</th>\n",
       "    </tr>\n",
       "  </thead>\n",
       "  <tbody>\n",
       "    <tr>\n",
       "      <th>12</th>\n",
       "      <td>1800</td>\n",
       "      <td>N</td>\n",
       "      <td>50.0</td>\n",
       "      <td>8.0</td>\n",
       "      <td>N 1800</td>\n",
       "    </tr>\n",
       "    <tr>\n",
       "      <th>37</th>\n",
       "      <td>5400</td>\n",
       "      <td>S</td>\n",
       "      <td>113.0</td>\n",
       "      <td>10.0</td>\n",
       "      <td>S 5400</td>\n",
       "    </tr>\n",
       "    <tr>\n",
       "      <th>18</th>\n",
       "      <td>2700</td>\n",
       "      <td>N</td>\n",
       "      <td>69.0</td>\n",
       "      <td>8.0</td>\n",
       "      <td>N 2700</td>\n",
       "    </tr>\n",
       "    <tr>\n",
       "      <th>27</th>\n",
       "      <td>3900</td>\n",
       "      <td>S</td>\n",
       "      <td>113.0</td>\n",
       "      <td>15.0</td>\n",
       "      <td>S 3900</td>\n",
       "    </tr>\n",
       "    <tr>\n",
       "      <th>54</th>\n",
       "      <td>8100</td>\n",
       "      <td>N</td>\n",
       "      <td>0.0</td>\n",
       "      <td>0.0</td>\n",
       "      <td>N 8100</td>\n",
       "    </tr>\n",
       "    <tr>\n",
       "      <th>47</th>\n",
       "      <td>6900</td>\n",
       "      <td>S</td>\n",
       "      <td>74.0</td>\n",
       "      <td>9.0</td>\n",
       "      <td>S 6900</td>\n",
       "    </tr>\n",
       "    <tr>\n",
       "      <th>81</th>\n",
       "      <td>12000</td>\n",
       "      <td>S</td>\n",
       "      <td>0.0</td>\n",
       "      <td>0.0</td>\n",
       "      <td>S 12000</td>\n",
       "    </tr>\n",
       "    <tr>\n",
       "      <th>45</th>\n",
       "      <td>6600</td>\n",
       "      <td>S</td>\n",
       "      <td>91.0</td>\n",
       "      <td>11.0</td>\n",
       "      <td>S 6600</td>\n",
       "    </tr>\n",
       "    <tr>\n",
       "      <th>46</th>\n",
       "      <td>6900</td>\n",
       "      <td>N</td>\n",
       "      <td>0.0</td>\n",
       "      <td>0.0</td>\n",
       "      <td>N 6900</td>\n",
       "    </tr>\n",
       "    <tr>\n",
       "      <th>7</th>\n",
       "      <td>900</td>\n",
       "      <td>S</td>\n",
       "      <td>17.0</td>\n",
       "      <td>7.0</td>\n",
       "      <td>S 900</td>\n",
       "    </tr>\n",
       "    <tr>\n",
       "      <th>17</th>\n",
       "      <td>2400</td>\n",
       "      <td>S</td>\n",
       "      <td>58.0</td>\n",
       "      <td>17.0</td>\n",
       "      <td>S 2400</td>\n",
       "    </tr>\n",
       "    <tr>\n",
       "      <th>60</th>\n",
       "      <td>9000</td>\n",
       "      <td>N</td>\n",
       "      <td>0.0</td>\n",
       "      <td>0.0</td>\n",
       "      <td>N 9000</td>\n",
       "    </tr>\n",
       "    <tr>\n",
       "      <th>10</th>\n",
       "      <td>1500</td>\n",
       "      <td>N</td>\n",
       "      <td>42.0</td>\n",
       "      <td>12.0</td>\n",
       "      <td>N 1500</td>\n",
       "    </tr>\n",
       "    <tr>\n",
       "      <th>38</th>\n",
       "      <td>5700</td>\n",
       "      <td>N</td>\n",
       "      <td>40.0</td>\n",
       "      <td>5.0</td>\n",
       "      <td>N 5700</td>\n",
       "    </tr>\n",
       "    <tr>\n",
       "      <th>44</th>\n",
       "      <td>6600</td>\n",
       "      <td>N</td>\n",
       "      <td>0.0</td>\n",
       "      <td>0.0</td>\n",
       "      <td>N 6600</td>\n",
       "    </tr>\n",
       "  </tbody>\n",
       "</table>\n",
       "</div>"
      ],
      "text/plain": [
       "      BIN STREET_DIRECTION  ACCIDENT_COUNT  INJURIES_SUM ORDER_LABEL\n",
       "12   1800                N            50.0           8.0      N 1800\n",
       "37   5400                S           113.0          10.0      S 5400\n",
       "18   2700                N            69.0           8.0      N 2700\n",
       "27   3900                S           113.0          15.0      S 3900\n",
       "54   8100                N             0.0           0.0      N 8100\n",
       "47   6900                S            74.0           9.0      S 6900\n",
       "81  12000                S             0.0           0.0     S 12000\n",
       "45   6600                S            91.0          11.0      S 6600\n",
       "46   6900                N             0.0           0.0      N 6900\n",
       "7     900                S            17.0           7.0       S 900\n",
       "17   2400                S            58.0          17.0      S 2400\n",
       "60   9000                N             0.0           0.0      N 9000\n",
       "10   1500                N            42.0          12.0      N 1500\n",
       "38   5700                N            40.0           5.0      N 5700\n",
       "44   6600                N             0.0           0.0      N 6600"
      ]
     },
     "execution_count": 41,
     "metadata": {},
     "output_type": "execute_result"
    }
   ],
   "source": [
    "sorted_groups = categorical_sorting(aggregates, sort_order)\n",
    "\n",
    "# check the values\n",
    "sorted_groups.sample(15)"
   ]
  },
  {
   "cell_type": "code",
   "execution_count": 42,
   "metadata": {},
   "outputs": [
    {
     "data": {
      "text/plain": [
       "True"
      ]
     },
     "execution_count": 42,
     "metadata": {},
     "output_type": "execute_result"
    }
   ],
   "source": [
    "sorted_groups['ORDER_LABEL'].iloc[0] > sorted_groups['ORDER_LABEL'].iloc[1]"
   ]
  },
  {
   "cell_type": "code",
   "execution_count": 43,
   "metadata": {},
   "outputs": [
    {
     "data": {
      "text/html": [
       "<div>\n",
       "<style scoped>\n",
       "    .dataframe tbody tr th:only-of-type {\n",
       "        vertical-align: middle;\n",
       "    }\n",
       "\n",
       "    .dataframe tbody tr th {\n",
       "        vertical-align: top;\n",
       "    }\n",
       "\n",
       "    .dataframe thead th {\n",
       "        text-align: right;\n",
       "    }\n",
       "</style>\n",
       "<table border=\"1\" class=\"dataframe\">\n",
       "  <thead>\n",
       "    <tr style=\"text-align: right;\">\n",
       "      <th></th>\n",
       "      <th>BIN</th>\n",
       "      <th>STREET_DIRECTION</th>\n",
       "      <th>ACCIDENT_COUNT</th>\n",
       "      <th>INJURIES_SUM</th>\n",
       "      <th>ORDER_LABEL</th>\n",
       "    </tr>\n",
       "  </thead>\n",
       "  <tbody>\n",
       "    <tr>\n",
       "      <th>80</th>\n",
       "      <td>12000</td>\n",
       "      <td>N</td>\n",
       "      <td>0.0</td>\n",
       "      <td>0.0</td>\n",
       "      <td>N 12000</td>\n",
       "    </tr>\n",
       "    <tr>\n",
       "      <th>78</th>\n",
       "      <td>11700</td>\n",
       "      <td>N</td>\n",
       "      <td>0.0</td>\n",
       "      <td>0.0</td>\n",
       "      <td>N 11700</td>\n",
       "    </tr>\n",
       "    <tr>\n",
       "      <th>76</th>\n",
       "      <td>11400</td>\n",
       "      <td>N</td>\n",
       "      <td>0.0</td>\n",
       "      <td>0.0</td>\n",
       "      <td>N 11400</td>\n",
       "    </tr>\n",
       "    <tr>\n",
       "      <th>74</th>\n",
       "      <td>11100</td>\n",
       "      <td>N</td>\n",
       "      <td>0.0</td>\n",
       "      <td>0.0</td>\n",
       "      <td>N 11100</td>\n",
       "    </tr>\n",
       "    <tr>\n",
       "      <th>72</th>\n",
       "      <td>10800</td>\n",
       "      <td>N</td>\n",
       "      <td>0.0</td>\n",
       "      <td>0.0</td>\n",
       "      <td>N 10800</td>\n",
       "    </tr>\n",
       "    <tr>\n",
       "      <th>...</th>\n",
       "      <td>...</td>\n",
       "      <td>...</td>\n",
       "      <td>...</td>\n",
       "      <td>...</td>\n",
       "      <td>...</td>\n",
       "    </tr>\n",
       "    <tr>\n",
       "      <th>73</th>\n",
       "      <td>10800</td>\n",
       "      <td>S</td>\n",
       "      <td>13.0</td>\n",
       "      <td>1.0</td>\n",
       "      <td>S 10800</td>\n",
       "    </tr>\n",
       "    <tr>\n",
       "      <th>75</th>\n",
       "      <td>11100</td>\n",
       "      <td>S</td>\n",
       "      <td>13.0</td>\n",
       "      <td>4.0</td>\n",
       "      <td>S 11100</td>\n",
       "    </tr>\n",
       "    <tr>\n",
       "      <th>77</th>\n",
       "      <td>11400</td>\n",
       "      <td>S</td>\n",
       "      <td>8.0</td>\n",
       "      <td>2.0</td>\n",
       "      <td>S 11400</td>\n",
       "    </tr>\n",
       "    <tr>\n",
       "      <th>79</th>\n",
       "      <td>11700</td>\n",
       "      <td>S</td>\n",
       "      <td>0.0</td>\n",
       "      <td>0.0</td>\n",
       "      <td>S 11700</td>\n",
       "    </tr>\n",
       "    <tr>\n",
       "      <th>81</th>\n",
       "      <td>12000</td>\n",
       "      <td>S</td>\n",
       "      <td>0.0</td>\n",
       "      <td>0.0</td>\n",
       "      <td>S 12000</td>\n",
       "    </tr>\n",
       "  </tbody>\n",
       "</table>\n",
       "<p>82 rows × 5 columns</p>\n",
       "</div>"
      ],
      "text/plain": [
       "      BIN STREET_DIRECTION  ACCIDENT_COUNT  INJURIES_SUM ORDER_LABEL\n",
       "80  12000                N             0.0           0.0     N 12000\n",
       "78  11700                N             0.0           0.0     N 11700\n",
       "76  11400                N             0.0           0.0     N 11400\n",
       "74  11100                N             0.0           0.0     N 11100\n",
       "72  10800                N             0.0           0.0     N 10800\n",
       "..    ...              ...             ...           ...         ...\n",
       "73  10800                S            13.0           1.0     S 10800\n",
       "75  11100                S            13.0           4.0     S 11100\n",
       "77  11400                S             8.0           2.0     S 11400\n",
       "79  11700                S             0.0           0.0     S 11700\n",
       "81  12000                S             0.0           0.0     S 12000\n",
       "\n",
       "[82 rows x 5 columns]"
      ]
     },
     "execution_count": 43,
     "metadata": {},
     "output_type": "execute_result"
    }
   ],
   "source": [
    "sorted_groups"
   ]
  },
  {
   "cell_type": "markdown",
   "metadata": {},
   "source": [
    "The table should look like [this](assets/sorted_groups.png)\n",
    "\n",
    "You can test your code a few ways. First, we gave you the sort order, so you know what the ORDER_LABEL of the first row should be:\n",
    "\n",
    "```assert sorted_groups['ORDER_LABEL'].iloc[0] == sort_order[1]```\n",
    "\n",
    "(it might be sort_order[0] depending on how you did the label)\n",
    "\n",
    "You also know that the first item should be \"greater\" than the second, so you can test:\n",
    "\n",
    "```assert sorted_groups['ORDER_LABEL'].iloc[0] > sorted_groups['ORDER_LABEL'].iloc[1]```"
   ]
  },
  {
   "cell_type": "code",
   "execution_count": 44,
   "metadata": {
    "deletable": false,
    "editable": false,
    "nbgrader": {
     "checksum": "7f696eef7e69d4e27f160cd1563d5ebd",
     "grade": true,
     "grade_id": "categorical_sorting_test",
     "locked": true,
     "points": 10,
     "schema_version": 1,
     "solution": false
    }
   },
   "outputs": [],
   "source": [
    "#hidden tests are within this cell\n"
   ]
  },
  {
   "cell_type": "markdown",
   "metadata": {},
   "source": [
    "Again, just for kicks, let's see where injuries happen. We're going to color bars by the bin and preserve our ascending/descending visualization. We can probably imagine other (better) ways to visualize this data, but this may be useful for you to debug. The visualization should look something like [this](assets/order_injuries.png)\n",
    "\n",
    "If your X axis cutoffs are a bit different, that's fine. "
   ]
  },
  {
   "cell_type": "code",
   "execution_count": 45,
   "metadata": {},
   "outputs": [
    {
     "data": {
      "text/html": [
       "\n",
       "<div id=\"altair-viz-a40b3694adda4ce384e77c76a4ec6cb1\"></div>\n",
       "<script type=\"text/javascript\">\n",
       "  (function(spec, embedOpt){\n",
       "    let outputDiv = document.currentScript.previousElementSibling;\n",
       "    if (outputDiv.id !== \"altair-viz-a40b3694adda4ce384e77c76a4ec6cb1\") {\n",
       "      outputDiv = document.getElementById(\"altair-viz-a40b3694adda4ce384e77c76a4ec6cb1\");\n",
       "    }\n",
       "    const paths = {\n",
       "      \"vega\": \"https://cdn.jsdelivr.net/npm//vega@5?noext\",\n",
       "      \"vega-lib\": \"https://cdn.jsdelivr.net/npm//vega-lib?noext\",\n",
       "      \"vega-lite\": \"https://cdn.jsdelivr.net/npm//vega-lite@4.8.1?noext\",\n",
       "      \"vega-embed\": \"https://cdn.jsdelivr.net/npm//vega-embed@6?noext\",\n",
       "    };\n",
       "\n",
       "    function loadScript(lib) {\n",
       "      return new Promise(function(resolve, reject) {\n",
       "        var s = document.createElement('script');\n",
       "        s.src = paths[lib];\n",
       "        s.async = true;\n",
       "        s.onload = () => resolve(paths[lib]);\n",
       "        s.onerror = () => reject(`Error loading script: ${paths[lib]}`);\n",
       "        document.getElementsByTagName(\"head\")[0].appendChild(s);\n",
       "      });\n",
       "    }\n",
       "\n",
       "    function showError(err) {\n",
       "      outputDiv.innerHTML = `<div class=\"error\" style=\"color:red;\">${err}</div>`;\n",
       "      throw err;\n",
       "    }\n",
       "\n",
       "    function displayChart(vegaEmbed) {\n",
       "      vegaEmbed(outputDiv, spec, embedOpt)\n",
       "        .catch(err => showError(`Javascript Error: ${err.message}<br>This usually means there's a typo in your chart specification. See the javascript console for the full traceback.`));\n",
       "    }\n",
       "\n",
       "    if(typeof define === \"function\" && define.amd) {\n",
       "      requirejs.config({paths});\n",
       "      require([\"vega-embed\"], displayChart, err => showError(`Error loading script: ${err.message}`));\n",
       "    } else if (typeof vegaEmbed === \"function\") {\n",
       "      displayChart(vegaEmbed);\n",
       "    } else {\n",
       "      loadScript(\"vega\")\n",
       "        .then(() => loadScript(\"vega-lite\"))\n",
       "        .then(() => loadScript(\"vega-embed\"))\n",
       "        .catch(showError)\n",
       "        .then(() => displayChart(vegaEmbed));\n",
       "    }\n",
       "  })({\"config\": {\"view\": {\"continuousWidth\": 400, \"continuousHeight\": 300}}, \"data\": {\"url\": \"altair-data-bd2eaee0a55b55d68259b13eaf85d59f.json\", \"format\": {\"type\": \"json\"}}, \"mark\": \"bar\", \"encoding\": {\"color\": {\"type\": \"quantitative\", \"field\": \"BIN\"}, \"x\": {\"type\": \"ordinal\", \"field\": \"ORDER_LABEL\", \"sort\": [\"N 12300\", \"N 12000\", \"N 11700\", \"N 11400\", \"N 11100\", \"N 10800\", \"N 10500\", \"N 10200\", \"N 9900\", \"N 9600\", \"N 9300\", \"N 9000\", \"N 8700\", \"N 8400\", \"N 8100\", \"N 7800\", \"N 7500\", \"N 7200\", \"N 6900\", \"N 6600\", \"N 6300\", \"N 6000\", \"N 5700\", \"N 5400\", \"N 5100\", \"N 4800\", \"N 4500\", \"N 4200\", \"N 3900\", \"N 3600\", \"N 3300\", \"N 3000\", \"N 2700\", \"N 2400\", \"N 2100\", \"N 1800\", \"N 1500\", \"N 1200\", \"N 900\", \"N 600\", \"N 300\", \"N 0\", \"S 0\", \"S 300\", \"S 600\", \"S 900\", \"S 1200\", \"S 1500\", \"S 1800\", \"S 2100\", \"S 2400\", \"S 2700\", \"S 3000\", \"S 3300\", \"S 3600\", \"S 3900\", \"S 4200\", \"S 4500\", \"S 4800\", \"S 5100\", \"S 5400\", \"S 5700\", \"S 6000\", \"S 6300\", \"S 6600\", \"S 6900\", \"S 7200\", \"S 7500\", \"S 7800\", \"S 8100\", \"S 8400\", \"S 8700\", \"S 9000\", \"S 9300\", \"S 9600\", \"S 9900\", \"S 10200\", \"S 10500\", \"S 10800\", \"S 11100\", \"S 11400\", \"S 11700\", \"S 12000\", \"S 12300\"]}, \"y\": {\"type\": \"quantitative\", \"field\": \"INJURIES_SUM\"}}, \"width\": 400, \"$schema\": \"https://vega.github.io/schema/vega-lite/v4.8.1.json\"}, {\"mode\": \"vega-lite\"});\n",
       "</script>"
      ],
      "text/plain": [
       "alt.Chart(...)"
      ]
     },
     "execution_count": 45,
     "metadata": {},
     "output_type": "execute_result"
    }
   ],
   "source": [
    "alt.Chart(sorted_groups).mark_bar().encode(\n",
    "    alt.X('ORDER_LABEL:O', sort=sort_order),\n",
    "    alt.Y('INJURIES_SUM:Q'),\n",
    "    alt.Color('BIN:Q')\n",
    ").properties(\n",
    "    width=400\n",
    ")"
   ]
  },
  {
   "cell_type": "markdown",
   "metadata": {},
   "source": [
    "Ok, let's actually make a useful visualization using some of the dataframes we've created. As a bonus, we're going to ask you what you would use this for."
   ]
  },
  {
   "cell_type": "code",
   "execution_count": 46,
   "metadata": {},
   "outputs": [
    {
     "data": {
      "text/html": [
       "\n",
       "<div id=\"altair-viz-fe257d0002384a08828ad4eef79f4647\"></div>\n",
       "<script type=\"text/javascript\">\n",
       "  (function(spec, embedOpt){\n",
       "    let outputDiv = document.currentScript.previousElementSibling;\n",
       "    if (outputDiv.id !== \"altair-viz-fe257d0002384a08828ad4eef79f4647\") {\n",
       "      outputDiv = document.getElementById(\"altair-viz-fe257d0002384a08828ad4eef79f4647\");\n",
       "    }\n",
       "    const paths = {\n",
       "      \"vega\": \"https://cdn.jsdelivr.net/npm//vega@5?noext\",\n",
       "      \"vega-lib\": \"https://cdn.jsdelivr.net/npm//vega-lib?noext\",\n",
       "      \"vega-lite\": \"https://cdn.jsdelivr.net/npm//vega-lite@4.8.1?noext\",\n",
       "      \"vega-embed\": \"https://cdn.jsdelivr.net/npm//vega-embed@6?noext\",\n",
       "    };\n",
       "\n",
       "    function loadScript(lib) {\n",
       "      return new Promise(function(resolve, reject) {\n",
       "        var s = document.createElement('script');\n",
       "        s.src = paths[lib];\n",
       "        s.async = true;\n",
       "        s.onload = () => resolve(paths[lib]);\n",
       "        s.onerror = () => reject(`Error loading script: ${paths[lib]}`);\n",
       "        document.getElementsByTagName(\"head\")[0].appendChild(s);\n",
       "      });\n",
       "    }\n",
       "\n",
       "    function showError(err) {\n",
       "      outputDiv.innerHTML = `<div class=\"error\" style=\"color:red;\">${err}</div>`;\n",
       "      throw err;\n",
       "    }\n",
       "\n",
       "    function displayChart(vegaEmbed) {\n",
       "      vegaEmbed(outputDiv, spec, embedOpt)\n",
       "        .catch(err => showError(`Javascript Error: ${err.message}<br>This usually means there's a typo in your chart specification. See the javascript console for the full traceback.`));\n",
       "    }\n",
       "\n",
       "    if(typeof define === \"function\" && define.amd) {\n",
       "      requirejs.config({paths});\n",
       "      require([\"vega-embed\"], displayChart, err => showError(`Error loading script: ${err.message}`));\n",
       "    } else if (typeof vegaEmbed === \"function\") {\n",
       "      displayChart(vegaEmbed);\n",
       "    } else {\n",
       "      loadScript(\"vega\")\n",
       "        .then(() => loadScript(\"vega-lite\"))\n",
       "        .then(() => loadScript(\"vega-embed\"))\n",
       "        .catch(showError)\n",
       "        .then(() => displayChart(vegaEmbed));\n",
       "    }\n",
       "  })({\"config\": {\"view\": {\"continuousWidth\": 400, \"continuousHeight\": 300}}, \"hconcat\": [{\"mark\": \"bar\", \"encoding\": {\"color\": {\"type\": \"nominal\", \"field\": \"TYPE\", \"legend\": null, \"scale\": {\"domain\": [\"ACCIDENT_COUNT\", \"INJURIES_SUM\"], \"range\": [\"blue\", \"orange\"]}}, \"x\": {\"type\": \"quantitative\", \"field\": \"COUNT\", \"sort\": \"descending\"}, \"y\": {\"type\": \"ordinal\", \"axis\": null, \"field\": \"SPEED\"}}, \"height\": 600, \"title\": \"ACCIDENT_COUNT\", \"transform\": [{\"filter\": \"(datum.TYPE === 'ACCIDENT_COUNT')\"}], \"width\": 300}, {\"mark\": \"text\", \"encoding\": {\"text\": {\"type\": \"quantitative\", \"field\": \"SPEED\"}, \"y\": {\"type\": \"ordinal\", \"axis\": null, \"field\": \"SPEED\"}}, \"height\": 600, \"title\": \"SPEED\", \"transform\": [{\"filter\": \"(datum.TYPE === 'ACCIDENT_COUNT')\"}], \"width\": 20}, {\"mark\": \"bar\", \"encoding\": {\"color\": {\"type\": \"nominal\", \"field\": \"TYPE\", \"legend\": null, \"scale\": {\"domain\": [\"ACCIDENT_COUNT\", \"INJURIES_SUM\"], \"range\": [\"blue\", \"orange\"]}}, \"x\": {\"type\": \"quantitative\", \"field\": \"COUNT\"}, \"y\": {\"type\": \"ordinal\", \"axis\": null, \"field\": \"SPEED\"}}, \"height\": 600, \"title\": \"INJURIES_SUM\", \"transform\": [{\"filter\": \"(datum.TYPE === 'INJURIES_SUM')\"}], \"width\": 300}], \"data\": {\"url\": \"altair-data-633eb09f204b39bfbf7f0f919e63cf4f.json\", \"format\": {\"type\": \"json\"}}, \"$schema\": \"https://vega.github.io/schema/vega-lite/v4.8.1.json\"}, {\"mode\": \"vega-lite\"});\n",
       "</script>"
      ],
      "text/plain": [
       "alt.HConcatChart(...)"
      ]
     },
     "execution_count": 46,
     "metadata": {},
     "output_type": "execute_result"
    }
   ],
   "source": [
    "# to make the kind of chart we are interested in we're going to build it out of three different charts and\n",
    "# put them together at the end\n",
    "\n",
    "# this is going to be the left chart\n",
    "bar_sorted_groups = sorted_groups[['ACCIDENT_COUNT','INJURIES_SUM']].unstack().reset_index() \\\n",
    "    .rename({'level_0':'TYPE','level_1':'SPEED',0:'COUNT'},axis=1)\n",
    "\n",
    "# Note that we cheated a bit. The actual speed column (POSTED_SPEED) doesn't have enough variation for this\n",
    "# example, so we're using the level_1 variable (it's an index variable) as a fake SPEED. \n",
    "# Just assume this actually is the speed at which the accident happened.\n",
    "\n",
    "a = alt.Chart(bar_sorted_groups).mark_bar().transform_filter(alt.datum.TYPE == 'ACCIDENT_COUNT').encode(\n",
    "    x=alt.X('COUNT:Q',sort='descending'),\n",
    "    y=alt.Y('SPEED:O',axis=None),\n",
    "    color=alt.Color('TYPE:N', \n",
    "                    legend=None,\n",
    "                    scale=alt.Scale(domain=['ACCIDENT_COUNT', 'INJURIES_SUM'],\n",
    "                                    range=['blue', 'orange']))\n",
    ").properties(\n",
    "    title='ACCIDENT_COUNT',\n",
    "    width=300,\n",
    "    height=600\n",
    ")\n",
    "\n",
    "# middle \"chart\" which actually won't be a chart, just a bunch of labels\n",
    "b = alt.Chart(bar_sorted_groups).mark_bar().transform_filter(alt.datum.TYPE == 'ACCIDENT_COUNT').encode(\n",
    "    y=alt.Y('SPEED:O', axis=None),\n",
    "    text=alt.Text('SPEED:Q')\n",
    ").mark_text().properties(title='SPEED',\n",
    "                         width=20,\n",
    "                         height=600)\n",
    "\n",
    "# and the right most chart\n",
    "c = alt.Chart(bar_sorted_groups).mark_bar().transform_filter(alt.datum.TYPE == 'INJURIES_SUM').encode(\n",
    "    x='COUNT:Q',\n",
    "    y=alt.Y('SPEED:O',axis=None),\n",
    "    color=alt.Color('TYPE:N', \n",
    "                    legend=None,\n",
    "                    scale=alt.Scale(domain=['ACCIDENT_COUNT', 'INJURIES_SUM'],\n",
    "                                    range=['blue', 'orange']))\n",
    ").properties(\n",
    "    title='INJURIES_SUM',\n",
    "    width=300,\n",
    "    height=600\n",
    ")\n",
    "\n",
    "# put them all together \n",
    "\n",
    "a | b | c\n"
   ]
  },
  {
   "cell_type": "markdown",
   "metadata": {},
   "source": [
    "## 2.8 (Bonus) Accident barchart visualization (up to 2 points)\n",
    "Looking at the visualization we generated above (part 2.7), what domain/abstract tasks are fulfilled by this visualization? List at least one domain task and the corresponding abstract task. See the comment in the code about \"speed.\""
   ]
  },
  {
   "cell_type": "markdown",
   "metadata": {
    "deletable": false,
    "nbgrader": {
     "checksum": "a3474bc13f92c1be420aa3788172be49",
     "grade": true,
     "grade_id": "complex_barchart_vis",
     "locked": false,
     "points": 0,
     "schema_version": 1,
     "solution": true
    }
   },
   "source": [
    "YOUR ANSWER HERE"
   ]
  }
 ],
 "metadata": {
  "coursera": {
   "schema_names": [
    "mads_information_visualization_i_v3_assignment1"
   ]
  },
  "kernelspec": {
   "display_name": "Python 3",
   "language": "python",
   "name": "python3"
  },
  "language_info": {
   "codemirror_mode": {
    "name": "ipython",
    "version": 3
   },
   "file_extension": ".py",
   "mimetype": "text/x-python",
   "name": "python",
   "nbconvert_exporter": "python",
   "pygments_lexer": "ipython3",
   "version": "3.8.5-final"
  },
  "toc": {
   "colors": {
    "hover_highlight": "#DAA520",
    "running_highlight": "#FF0000",
    "selected_highlight": "#FFD700"
   },
   "moveMenuLeft": true,
   "nav_menu": {
    "height": "426px",
    "width": "252px"
   },
   "navigate_menu": true,
   "number_sections": false,
   "sideBar": true,
   "threshold": 4,
   "toc_cell": false,
   "toc_section_display": "none",
   "toc_window_display": true,
   "widenNotebook": false
  }
 },
 "nbformat": 4,
 "nbformat_minor": 2
}
