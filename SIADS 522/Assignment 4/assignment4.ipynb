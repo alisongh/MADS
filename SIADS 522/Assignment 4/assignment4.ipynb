{
 "cells": [
  {
   "cell_type": "markdown",
   "metadata": {},
   "source": [
    "Before you turn this problem in, make sure everything runs as expected. First, **restart the kernel** (in the menubar, select Kernel$\\rightarrow$Restart) and then **run all cells** (in the menubar, select Cell$\\rightarrow$Run All).\n",
    "\n",
    "Make sure you fill in any place that says `YOUR CODE HERE` or \"YOUR ANSWER HERE\", as well as your name and collaborators below:"
   ]
  },
  {
   "cell_type": "code",
   "execution_count": 1,
   "metadata": {},
   "outputs": [],
   "source": [
    "NAME = \"Liwen Huang\""
   ]
  },
  {
   "cell_type": "markdown",
   "metadata": {},
   "source": [
    "---"
   ]
  },
  {
   "cell_type": "markdown",
   "metadata": {},
   "source": [
    "# Information Visualization I \n",
    "## School of Information, University of Michigan\n",
    "\n",
    "## Week 4: \n",
    "- Data Types\n",
    "- Design\n",
    "\n",
    "## Assignment Overview\n",
    "### This assignment's objectives include:\n",
    "\n",
    "- Review, reflect on, and apply the concepts of encoding different data types. Given a visualization, justify different encodings for certain datatypes.\n",
    "- Review, reflect on, and apply good design decisions in a visualization. Given a visualization critique design decisions according to principles like Tufte's data-ink ratio, graphical integrity, chart junk, Munzner's rules of thumb, etc.\n",
    "\n",
    "<img src=\"assets/data-ink-ratio.png\" alt=\"Drawing\" style=\"width: 500px;\"/>\n",
    "<p style=\"text-align: center;\"> Same information, less ink </p>\n",
    "\n",
    "- Recreate, propose new and alternative visualizations using [Altair](https://altair-viz.github.io/) \n",
    "\n",
    "### The total score of this assignment will be 100 points consisting of:\n",
    "- Case study reflection: The Mayweather-McGregor Fight, As Told Through Emojis (30 points)\n",
    "- Altair programming exercise (70 points)\n",
    "\n",
    "\n",
    "### Resources:\n",
    "- Article by [Five Thirty Eight](https://fivethirtyeight.com) available  [online](https://fivethirtyeight.com/features/the-mayweather-mcgregor-fight-as-told-through-emojis/) (Hickey, Koeze, Dottle, Wezerek 2017)  \n",
    "- Datasets from Five Thirty Eight, we have download a subset of these datasets to [./assets](assets) but the original can be found on [Five Thirty Eight Mayweather vs McGregor](https://github.com/fivethirtyeight/data/tree/master/mayweather-mcgregor)\n",
    "\n",
    "### A note about autograding\n",
    "Because there are many ways to generate the correct visualization, we will not be using the autograder for this assignment. Compare your result to the provided samples. Try to get as close to our provided solution as possible."
   ]
  },
  {
   "cell_type": "markdown",
   "metadata": {},
   "source": [
    "## Part 1. Data Types & Design (30 points)\n",
    "Read the article published in Five Thirty Eight [The Mayweather-McGregor Fight, As Told Through Emojis](https://fivethirtyeight.com/features/the-mayweather-mcgregor-fight-as-told-through-emojis/) and answer the following questions:\n"
   ]
  },
  {
   "cell_type": "markdown",
   "metadata": {},
   "source": [
    "### 1.1 List the different data types in the following visualizations and their encodings (10 points)\n",
    "For each chart, describe the variable name, type, and encoding (e.g., weight, quantitative, bar length)\n",
    "\n",
    "<img src=\"assets/chart_1.png\" alt=\"Drawing\" style=\"width: 250px;\"/>\n",
    "\n",
    "<img src=\"assets/chart_2.png\" alt=\"Drawing\" style=\"width: 250px;\"/>"
   ]
  },
  {
   "cell_type": "markdown",
   "metadata": {
    "deletable": false,
    "nbgrader": {
     "checksum": "39c3d4ea2dfb2e1df1128d67c77611bd",
     "grade": true,
     "grade_id": "cell-c5bf343a4cf7dab9",
     "locked": false,
     "points": 0,
     "schema_version": 1,
     "solution": true
    }
   },
   "source": [
    "For first chart:\n",
    "\n",
    "1. Quantitative;\n",
    "\n",
    "2. Bar length.\n",
    "\n",
    "For second chart:\n",
    "\n",
    "1. Color;\n",
    "\n",
    "2. Notion;\n",
    "\n",
    "3. Height."
   ]
  },
  {
   "cell_type": "markdown",
   "metadata": {},
   "source": [
    "### 1.2 Sketch a visualization with an alternative encoding for one of the charts above. Compare your solution to the original. (10 points)\n",
    "You can hand sketch or create the solution digitally. Please upload an image or screenshot. Your data doesn't need to match perfectly. Reflect on the differences in terms of perception/cognition and design principles as appropriate."
   ]
  },
  {
   "cell_type": "markdown",
   "metadata": {
    "deletable": false,
    "nbgrader": {
     "checksum": "8f5ef95650bb69a533009d9c2ffdd3eb",
     "grade": true,
     "grade_id": "cell-1d7c7601bad19be0",
     "locked": false,
     "points": 0,
     "schema_version": 1,
     "solution": true
    }
   },
   "source": [
    "<img src=\"assets/my_image_1.png\" style=\"width: 400px;\"/>\n",
    "\n",
    "I don't use other kinds of chart for this question because I believe the bar chart is the most efficient way to compare items. I replace bar by emoji and make it more attractive. My vis contains percentage as well in order to not losing quantitive information."
   ]
  },
  {
   "cell_type": "markdown",
   "metadata": {},
   "source": [
    "### 1.3 Use one of the design principles reviewed in class (Tufte's data-ink ratio, graphical integrity, chart junk, etc. ) to critique the following visualization (10 points)\n",
    "Describe pros and cons of the visualization relative to these principles. If the image violates the principle, reflect on why this is might be ok or not.\n",
    "\n",
    "<img src=\"assets/boxing_vis2.jpg\" alt=\"Drawing\" style=\"width: 500px;\"/>\n",
    "<p style=\"text-align: center;\"> http://vizzingdata.blogspot.com/2017/01/muhammad-ali-career-dataviz.html</p>"
   ]
  },
  {
   "cell_type": "markdown",
   "metadata": {
    "deletable": false,
    "nbgrader": {
     "checksum": "7b9873cd9c5dea9442a6c0d899fac2d1",
     "grade": true,
     "grade_id": "cell-459664b33e6e8d59",
     "locked": false,
     "points": 0,
     "schema_version": 1,
     "solution": true
    }
   },
   "source": [
    "PRO:\n",
    "\n",
    "1. This visualization contains almost all information in one chart. The audidence can figure out how many matches Ali wins and loses easily.\n",
    "2. This visualization contains illustrations and makes more attractive and memorable than flat lists.\n",
    "\n",
    "\n",
    "CON:\n",
    "\n",
    "1. The proportion of size of texts and the chart is not balanced. Texts is too small to read and half of them are upside down.\n",
    "2. This visualization looks like a pie chart, but it is difficult to interpret the proportion of the quantity of matches for each year.\n",
    "3. This visualization lacks the information/explanation of yellow bars. It will confuse the audience who are not the expert of boxing matches. Not all readers have interests to go deeply through the interactive visualization and seek the meaning of yellow bars.\n",
    "4. The original and the Blogspot's visualizations are not match each other. The original one contains the information of yellow bars, but loses the number of wins. The Blogspot's one doesn't have the information of yellow bars, but shows the number of wins. It might be occurred because of the layout on different platforms/softwares. Moreover, it is definitely caused by human factors, like the authors or editors' carelessness.\n",
    "5. The ink ratio is probably large in view of blocks of green/red, between yellow bars and lightgreen/lightred blocks, and they doesn't contain any information or data."
   ]
  },
  {
   "cell_type": "markdown",
   "metadata": {},
   "source": [
    "## Part 2. Altair programming exercise (70 points)\n",
    "We have provided you with some code and parts of the article [The Mayweather-McGregor Fight, As Told Through Emojis](https://fivethirtyeight.com/features/the-mayweather-mcgregor-fight-as-told-through-emojis/). This article is based on the dataset:\n",
    "\n",
    "1. [tweets](data/tweets.csv) Created by FiveThirtyEight with the Twitter Streaming API containing a sample of all the tweets that matched the search terms: #MayMac, #MayweatherMcGregor, #MayweatherVMcGregor, #MayweatherVsMcGregor, #McGregor and #Mayweather collected between 12:05 a.m. and 1:15 a.m. EDT, 12,118 that had emojis. Available [on github](https://github.com/fivethirtyeight/data/tree/master/mayweather-mcgregor)\n",
    "\n",
    "To earn points for this assignment, you must:\n",
    "\n",
    "- Recreate the visualizations in the article (replace the images in the article with a code cell that creates a visualization). There are four visualizations to make. For the 2nd, 3rd, and 4th, we provide some example code to get the data into the right structure. The points for each visualization are distributed: (30 points: 9 (1st problem) + 7 (each of 2nd, 3rd & 4th)).\n",
    "\n",
    "    - _Partial credit can be granted for each visualization (up to 5 points) if you provide the grammar of graphics description of the visualization without a fully implemented Altair solution_\n",
    "\n",
    "- Propose one alternative visualization for one of the 4 article visualizations. Add a short paragraph describing why your visualization is better in terms of Design / Variable types encoding. (20 points/ 15 points plot + 5 justification)\n",
    "\n",
    "\n",
    "- Propose a new visualization to complement a part of the article. Add a short paragraph justifying your decisions in terms of Design / Variable types encoding.  (20 points/ 15 points plot + 5 justification)\n",
    "\n",
    "### Before you begin\n",
    "*IMPORTANT BROWSER ISSUE*: For some non-ES6 Browsers there are problems with date/time conversions (see [this](https://altair-viz.github.io/user_guide/times_and_dates.html)). If things aren't working try something like Chrome for this assignment.\n",
    "\n",
    "*IMPORTANT DATA ISSUE*: There are some differences in the data that 538 used and what we have. This will cause some issues to how things are normalized. Things should look very similar, but you may find, for example, that the scale of tweets when you normalize is different than the original figure. This is fine.\n",
    "\n",
    "*IMPORTANT STYLING/ANNOTATION* NOTE: Part of this assignment is to get styling and annotation to be as close to 538 as possible. Altair and Vega-Lite aren't super helpful for annotation purposes. You will find that you need to do things like layering text and the arrows (hint: see [here](https://github.com/altair-viz/altair/issues/1721)). What I usually do in practice (when I need the visualization to look good and have annotation) is get things as close to how I want them to look, export the image as an SVG and then load it into [Figma](https://www.figma.com/), [InkScape](https://inkscape.org/), or [Adobe Illustrator](https://www.adobe.com/products/illustrator.html). You can see \"reasonably close approximations\" in the examples we provide. Those have been generated using nothing but Altair."
   ]
  },
  {
   "cell_type": "code",
   "execution_count": 2,
   "metadata": {},
   "outputs": [],
   "source": [
    "# start with the setup\n",
    "import pandas as pd\n",
    "import altair as alt\n",
    "import numpy as np"
   ]
  },
  {
   "cell_type": "code",
   "execution_count": 3,
   "metadata": {},
   "outputs": [
    {
     "data": {
      "text/plain": [
       "RendererRegistry.enable('default')"
      ]
     },
     "execution_count": 3,
     "metadata": {},
     "output_type": "execute_result"
    }
   ],
   "source": [
    "# enable correct rendering\n",
    "alt.renderers.enable('default')"
   ]
  },
  {
   "cell_type": "code",
   "execution_count": 4,
   "metadata": {},
   "outputs": [
    {
     "data": {
      "text/plain": [
       "DataTransformerRegistry.enable('json')"
      ]
     },
     "execution_count": 4,
     "metadata": {},
     "output_type": "execute_result"
    }
   ],
   "source": [
    "# uses intermediate json files to speed things up\n",
    "alt.data_transformers.enable('json')"
   ]
  },
  {
   "cell_type": "code",
   "execution_count": 5,
   "metadata": {},
   "outputs": [],
   "source": [
    "# we're going to do some setup here in anticipation of needing the data in \n",
    "# a specific format. We moved it all up here so everything is in one place.\n",
    "\n",
    "# load the tweets\n",
    "tweets = pd.read_csv('assets/tweets.csv')\n",
    "\n",
    "# we're going to process the data in a couple of ways\n",
    "# first, we want to know how many emojis are in each tweet so we'll create a new column\n",
    "# that counts them\n",
    "tweets['emojis'] = tweets['text'].str.findall(r'[^\\w\\s.,\"@\\'?/#!$%\\^&\\*;:{}=\\-_`~()\\U0001F1E6-\\U0001F1FF]').str.len()\n",
    "\n",
    "# next, there are a few specific emojis that we care about, we're going to create\n",
    "# a column for each one and indicate how many times it showed up in the tweet\n",
    "boxer_emojis = ['☘️','🇮🇪','🍀','💸','🤑','💰','💵','😴','😂','🤣','🥊','👊','👏','🇮🇪','💪','🔥','😭','💰']\n",
    "for emoji in boxer_emojis:\n",
    "    # here's a different way to get the counts\n",
    "    tweets[emoji] = tweets.text.str.count(emoji)\n",
    "    \n",
    "# For the irish pride vs the money team we want the numer \n",
    "# of either ☘️, 🇮🇪 or 🍀 and 💸, 🤑, 💰 or 💵 for each\n",
    "tweets['irish_pride'] = tweets['☘️'] + tweets['🇮🇪'] + tweets['🍀']\n",
    "tweets['money_team'] = tweets['💸'] + tweets['🤑'] + tweets['💰'] +  tweets['💵']"
   ]
  },
  {
   "cell_type": "code",
   "execution_count": 6,
   "metadata": {},
   "outputs": [],
   "source": [
    "# uncomment to see what's inside\n",
    "# tweets.head()"
   ]
  },
  {
   "cell_type": "markdown",
   "metadata": {},
   "source": [
    "# The Mayweather-McGregor Fight, As Told Through Emojis"
   ]
  },
  {
   "cell_type": "markdown",
   "metadata": {},
   "source": [
    " ### <font color=grey>We laughed, cried and cried some more. </font>"
   ]
  },
  {
   "cell_type": "markdown",
   "metadata": {},
   "source": [
    "_Original article available at [FiveThirtyEight](https://fivethirtyeight.com/features/the-mayweather-mcgregor-fight-as-told-through-emojis/)_\n",
    "\n",
    "By [Dhrumil Mehta](https://fivethirtyeight.com/contributors/dhrumil-mehta/), [Oliver Roeder](https://fivethirtyeight.com/contributors/oliver-roeder/) and [Rachael Dottle](https://fivethirtyeight.com/contributors/rachael-dottle/)\n",
    "\n",
    "Filed under [Mayweather vs. McGregor](https://fivethirtyeight.com/tag/mayweather-vs-mcgregor/)\n",
    "\n",
    "Get the data on [GitHub](https://github.com/fivethirtyeight/data/tree/master/mayweather-mcgregor)"
   ]
  },
  {
   "cell_type": "markdown",
   "metadata": {},
   "source": [
    "For the nearly 15,000 people in Las Vegas’s T-Mobile Arena on Saturday night, and the millions more huddled around TVs across the world, the Floyd Mayweather–Conor McGregor fight was a roller coaster of emotions. They were anxious as pay-per-view [technical problems](http://www.espn.com/boxing/story/_/id/20469815/floyd-mayweather-conor-mcgregor-delay-ppv-problems) pushed back the fight’s start. They were full of anticipation when the combatants finally emerged after months of hype. They were surprised when McGregor held his own, or seemed to hold his own, for a couple of rounds. They were thrilled when Mayweather finally started fighting. And they were exhausted by the end.\n",
    "\n",
    "How do we know all this? Emojis."
   ]
  },
  {
   "cell_type": "markdown",
   "metadata": {},
   "source": [
    "We were monitoring Twitter on fight night, pulling tweets that contained fight-related hashtags — those that included #MayweatherVsMcgregor, for example. In the end, we collected about 200,000 fight-related tweets, of which more than 12,000 contained emojis. (To be clear, that’s a small enough sample that this emojinalysis might not make it through peer review.)<sup>1<sup>"
   ]
  },
  {
   "cell_type": "markdown",
   "metadata": {},
   "source": [
    "> <font color=grey> 1. We used the [Twitter Streaming API](https://dev.twitter.com/streaming/overview) which provides a sample of all the tweets that matched our search terms: #MayMac, #MayweatherMcGregor, #MayweatherVMcGregor, #MayweatherVsMcGregor, #McGregor and #Mayweather. Of the 197,989 tweets we collected between 12:05 a.m. and 1:15 a.m. EDT, 12,118 had emojis.</font>"
   ]
  },
  {
   "cell_type": "markdown",
   "metadata": {},
   "source": [
    "<img src=\"assets/chart_1.png\" alt=\"Drawing\" style=\"width: 250px;\"/>\n",
    "\n",
    "** Homework note, construct your solution to this chart in the cell below. Click [here](assets/altair_chart1.png) to see a sample output from Altair."
   ]
  },
  {
   "cell_type": "code",
   "execution_count": 7,
   "metadata": {},
   "outputs": [],
   "source": [
    "# We'll help you out with a table that has the percentages for each emoji\n",
    "\n",
    "# dictionary that will map emoji to percentage\n",
    "percentages = {}  \n",
    "\n",
    "# find total emojies\n",
    "total = tweets['emojis'].sum() \n",
    "\n",
    "# for each emoji, figure out how prevalent it is\n",
    "emojis = ['😂','🤣','🥊','👊','👏','🇮🇪','💪','🔥','😭','💰']\n",
    "for emoji in emojis:  \n",
    "    percentages[emoji] = [round(tweets[emoji].sum() / total * 100,1)]\n",
    "    \n",
    "# create a data frame to hold this from the dictionary\n",
    "percentages_df = pd.DataFrame.from_dict(percentages).T\n",
    "\n",
    "# sort the dictionary \n",
    "percentages_df = percentages_df.sort_values(by=[0], ascending = False).reset_index()\n",
    "\n",
    "# rename the columns\n",
    "percentages_df = percentages_df.rename(columns={'index':'EMOJI', 0: 'PERCENT'})\n",
    "\n",
    "# create a rank column based on position in the ordered list\n",
    "percentages_df['rank'] = pd.Index(list(range(1,11)))\n",
    "\n",
    "# modify the text\n",
    "percentages_df['PERCENT_TEXT'] = percentages_df['PERCENT'].astype('str') + ' %'"
   ]
  },
  {
   "cell_type": "code",
   "execution_count": 8,
   "metadata": {},
   "outputs": [],
   "source": [
    "# uncomment to see what's inside\n",
    "# percentages_df"
   ]
  },
  {
   "cell_type": "markdown",
   "metadata": {},
   "source": [
    "** Homework note, construct your solution to this chart in the cell below. Click [here](assets/emoji_distrib_altair.png) to see a sample output from Altair."
   ]
  },
  {
   "cell_type": "code",
   "execution_count": 9,
   "metadata": {},
   "outputs": [],
   "source": [
    "name_sort = ['😂','🥊','👊','👏','💪','🇮🇪','🤣','🔥','😭','💰']"
   ]
  },
  {
   "cell_type": "code",
   "execution_count": 10,
   "metadata": {},
   "outputs": [
    {
     "data": {
      "text/html": [
       "\n",
       "<div id=\"altair-viz-8713991009ea4655b9f8631f41decd7d\"></div>\n",
       "<script type=\"text/javascript\">\n",
       "  (function(spec, embedOpt){\n",
       "    let outputDiv = document.currentScript.previousElementSibling;\n",
       "    if (outputDiv.id !== \"altair-viz-8713991009ea4655b9f8631f41decd7d\") {\n",
       "      outputDiv = document.getElementById(\"altair-viz-8713991009ea4655b9f8631f41decd7d\");\n",
       "    }\n",
       "    const paths = {\n",
       "      \"vega\": \"https://cdn.jsdelivr.net/npm//vega@5?noext\",\n",
       "      \"vega-lib\": \"https://cdn.jsdelivr.net/npm//vega-lib?noext\",\n",
       "      \"vega-lite\": \"https://cdn.jsdelivr.net/npm//vega-lite@4.8.1?noext\",\n",
       "      \"vega-embed\": \"https://cdn.jsdelivr.net/npm//vega-embed@6?noext\",\n",
       "    };\n",
       "\n",
       "    function loadScript(lib) {\n",
       "      return new Promise(function(resolve, reject) {\n",
       "        var s = document.createElement('script');\n",
       "        s.src = paths[lib];\n",
       "        s.async = true;\n",
       "        s.onload = () => resolve(paths[lib]);\n",
       "        s.onerror = () => reject(`Error loading script: ${paths[lib]}`);\n",
       "        document.getElementsByTagName(\"head\")[0].appendChild(s);\n",
       "      });\n",
       "    }\n",
       "\n",
       "    function showError(err) {\n",
       "      outputDiv.innerHTML = `<div class=\"error\" style=\"color:red;\">${err}</div>`;\n",
       "      throw err;\n",
       "    }\n",
       "\n",
       "    function displayChart(vegaEmbed) {\n",
       "      vegaEmbed(outputDiv, spec, embedOpt)\n",
       "        .catch(err => showError(`Javascript Error: ${err.message}<br>This usually means there's a typo in your chart specification. See the javascript console for the full traceback.`));\n",
       "    }\n",
       "\n",
       "    if(typeof define === \"function\" && define.amd) {\n",
       "      requirejs.config({paths});\n",
       "      require([\"vega-embed\"], displayChart, err => showError(`Error loading script: ${err.message}`));\n",
       "    } else if (typeof vegaEmbed === \"function\") {\n",
       "      displayChart(vegaEmbed);\n",
       "    } else {\n",
       "      loadScript(\"vega\")\n",
       "        .then(() => loadScript(\"vega-lite\"))\n",
       "        .then(() => loadScript(\"vega-embed\"))\n",
       "        .catch(showError)\n",
       "        .then(() => displayChart(vegaEmbed));\n",
       "    }\n",
       "  })({\"config\": {\"view\": {\"continuousWidth\": 400, \"continuousHeight\": 300}}, \"data\": {\"url\": \"altair-data-cfe91f2b615d9ce80ed8fed7dc095575.json\", \"format\": {\"type\": \"json\"}}, \"mark\": {\"type\": \"bar\", \"color\": \"orange\"}, \"encoding\": {\"x\": {\"type\": \"quantitative\", \"axis\": null, \"field\": \"PERCENT\"}, \"y\": {\"type\": \"nominal\", \"axis\": null, \"field\": \"EMOJI\", \"sort\": \"-x\", \"title\": null}}, \"$schema\": \"https://vega.github.io/schema/vega-lite/v4.8.1.json\"}, {\"mode\": \"vega-lite\"});\n",
       "</script>"
      ],
      "text/plain": [
       "alt.Chart(...)"
      ]
     },
     "execution_count": 10,
     "metadata": {},
     "output_type": "execute_result"
    }
   ],
   "source": [
    "bars = alt.Chart(percentages_df).mark_bar(color='orange').encode(\n",
    "    alt.X('PERCENT:Q',axis=None),\n",
    "    alt.Y('EMOJI:N',sort='-x',title=None, axis=None)\n",
    ")\n",
    "bars"
   ]
  },
  {
   "cell_type": "code",
   "execution_count": 11,
   "metadata": {},
   "outputs": [
    {
     "data": {
      "text/html": [
       "\n",
       "<div id=\"altair-viz-3043a2a5354447dc9bff7a58e2e04935\"></div>\n",
       "<script type=\"text/javascript\">\n",
       "  (function(spec, embedOpt){\n",
       "    let outputDiv = document.currentScript.previousElementSibling;\n",
       "    if (outputDiv.id !== \"altair-viz-3043a2a5354447dc9bff7a58e2e04935\") {\n",
       "      outputDiv = document.getElementById(\"altair-viz-3043a2a5354447dc9bff7a58e2e04935\");\n",
       "    }\n",
       "    const paths = {\n",
       "      \"vega\": \"https://cdn.jsdelivr.net/npm//vega@5?noext\",\n",
       "      \"vega-lib\": \"https://cdn.jsdelivr.net/npm//vega-lib?noext\",\n",
       "      \"vega-lite\": \"https://cdn.jsdelivr.net/npm//vega-lite@4.8.1?noext\",\n",
       "      \"vega-embed\": \"https://cdn.jsdelivr.net/npm//vega-embed@6?noext\",\n",
       "    };\n",
       "\n",
       "    function loadScript(lib) {\n",
       "      return new Promise(function(resolve, reject) {\n",
       "        var s = document.createElement('script');\n",
       "        s.src = paths[lib];\n",
       "        s.async = true;\n",
       "        s.onload = () => resolve(paths[lib]);\n",
       "        s.onerror = () => reject(`Error loading script: ${paths[lib]}`);\n",
       "        document.getElementsByTagName(\"head\")[0].appendChild(s);\n",
       "      });\n",
       "    }\n",
       "\n",
       "    function showError(err) {\n",
       "      outputDiv.innerHTML = `<div class=\"error\" style=\"color:red;\">${err}</div>`;\n",
       "      throw err;\n",
       "    }\n",
       "\n",
       "    function displayChart(vegaEmbed) {\n",
       "      vegaEmbed(outputDiv, spec, embedOpt)\n",
       "        .catch(err => showError(`Javascript Error: ${err.message}<br>This usually means there's a typo in your chart specification. See the javascript console for the full traceback.`));\n",
       "    }\n",
       "\n",
       "    if(typeof define === \"function\" && define.amd) {\n",
       "      requirejs.config({paths});\n",
       "      require([\"vega-embed\"], displayChart, err => showError(`Error loading script: ${err.message}`));\n",
       "    } else if (typeof vegaEmbed === \"function\") {\n",
       "      displayChart(vegaEmbed);\n",
       "    } else {\n",
       "      loadScript(\"vega\")\n",
       "        .then(() => loadScript(\"vega-lite\"))\n",
       "        .then(() => loadScript(\"vega-embed\"))\n",
       "        .catch(showError)\n",
       "        .then(() => displayChart(vegaEmbed));\n",
       "    }\n",
       "  })({\"config\": {\"view\": {\"continuousWidth\": 400, \"continuousHeight\": 300}}, \"data\": {\"url\": \"altair-data-cfe91f2b615d9ce80ed8fed7dc095575.json\", \"format\": {\"type\": \"json\"}}, \"mark\": \"text\", \"encoding\": {\"text\": {\"type\": \"nominal\", \"field\": \"EMOJI\"}, \"y\": {\"type\": \"nominal\", \"axis\": null, \"field\": \"EMOJI\", \"sort\": [\"\\ud83d\\ude02\", \"\\ud83e\\udd4a\", \"\\ud83d\\udc4a\", \"\\ud83d\\udc4f\", \"\\ud83d\\udcaa\", \"\\ud83c\\uddee\\ud83c\\uddea\", \"\\ud83e\\udd23\", \"\\ud83d\\udd25\", \"\\ud83d\\ude2d\", \"\\ud83d\\udcb0\"]}}, \"$schema\": \"https://vega.github.io/schema/vega-lite/v4.8.1.json\"}, {\"mode\": \"vega-lite\"});\n",
       "</script>"
      ],
      "text/plain": [
       "alt.Chart(...)"
      ]
     },
     "execution_count": 11,
     "metadata": {},
     "output_type": "execute_result"
    }
   ],
   "source": [
    "emoji = alt.Chart(percentages_df).mark_bar().encode(\n",
    "    y=alt.Y('EMOJI:N', axis=None, sort=name_sort),\n",
    "    text=alt.Text('EMOJI:N')\n",
    ").mark_text()\n",
    "emoji"
   ]
  },
  {
   "cell_type": "code",
   "execution_count": 12,
   "metadata": {},
   "outputs": [
    {
     "data": {
      "text/html": [
       "\n",
       "<div id=\"altair-viz-a080ba3719f44e79b858e6b8bc4b52d3\"></div>\n",
       "<script type=\"text/javascript\">\n",
       "  (function(spec, embedOpt){\n",
       "    let outputDiv = document.currentScript.previousElementSibling;\n",
       "    if (outputDiv.id !== \"altair-viz-a080ba3719f44e79b858e6b8bc4b52d3\") {\n",
       "      outputDiv = document.getElementById(\"altair-viz-a080ba3719f44e79b858e6b8bc4b52d3\");\n",
       "    }\n",
       "    const paths = {\n",
       "      \"vega\": \"https://cdn.jsdelivr.net/npm//vega@5?noext\",\n",
       "      \"vega-lib\": \"https://cdn.jsdelivr.net/npm//vega-lib?noext\",\n",
       "      \"vega-lite\": \"https://cdn.jsdelivr.net/npm//vega-lite@4.8.1?noext\",\n",
       "      \"vega-embed\": \"https://cdn.jsdelivr.net/npm//vega-embed@6?noext\",\n",
       "    };\n",
       "\n",
       "    function loadScript(lib) {\n",
       "      return new Promise(function(resolve, reject) {\n",
       "        var s = document.createElement('script');\n",
       "        s.src = paths[lib];\n",
       "        s.async = true;\n",
       "        s.onload = () => resolve(paths[lib]);\n",
       "        s.onerror = () => reject(`Error loading script: ${paths[lib]}`);\n",
       "        document.getElementsByTagName(\"head\")[0].appendChild(s);\n",
       "      });\n",
       "    }\n",
       "\n",
       "    function showError(err) {\n",
       "      outputDiv.innerHTML = `<div class=\"error\" style=\"color:red;\">${err}</div>`;\n",
       "      throw err;\n",
       "    }\n",
       "\n",
       "    function displayChart(vegaEmbed) {\n",
       "      vegaEmbed(outputDiv, spec, embedOpt)\n",
       "        .catch(err => showError(`Javascript Error: ${err.message}<br>This usually means there's a typo in your chart specification. See the javascript console for the full traceback.`));\n",
       "    }\n",
       "\n",
       "    if(typeof define === \"function\" && define.amd) {\n",
       "      requirejs.config({paths});\n",
       "      require([\"vega-embed\"], displayChart, err => showError(`Error loading script: ${err.message}`));\n",
       "    } else if (typeof vegaEmbed === \"function\") {\n",
       "      displayChart(vegaEmbed);\n",
       "    } else {\n",
       "      loadScript(\"vega\")\n",
       "        .then(() => loadScript(\"vega-lite\"))\n",
       "        .then(() => loadScript(\"vega-embed\"))\n",
       "        .catch(showError)\n",
       "        .then(() => displayChart(vegaEmbed));\n",
       "    }\n",
       "  })({\"config\": {\"view\": {\"continuousWidth\": 400, \"continuousHeight\": 300}}, \"data\": {\"url\": \"altair-data-cfe91f2b615d9ce80ed8fed7dc095575.json\", \"format\": {\"type\": \"json\"}}, \"mark\": \"text\", \"encoding\": {\"text\": {\"type\": \"nominal\", \"field\": \"PERCENT_TEXT\"}, \"y\": {\"type\": \"nominal\", \"axis\": null, \"field\": \"EMOJI\", \"sort\": [\"\\ud83d\\ude02\", \"\\ud83e\\udd4a\", \"\\ud83d\\udc4a\", \"\\ud83d\\udc4f\", \"\\ud83d\\udcaa\", \"\\ud83c\\uddee\\ud83c\\uddea\", \"\\ud83e\\udd23\", \"\\ud83d\\udd25\", \"\\ud83d\\ude2d\", \"\\ud83d\\udcb0\"]}}, \"$schema\": \"https://vega.github.io/schema/vega-lite/v4.8.1.json\"}, {\"mode\": \"vega-lite\"});\n",
       "</script>"
      ],
      "text/plain": [
       "alt.Chart(...)"
      ]
     },
     "execution_count": 12,
     "metadata": {},
     "output_type": "execute_result"
    }
   ],
   "source": [
    "text = alt.Chart(percentages_df).mark_bar().encode(\n",
    "    y=alt.Y('EMOJI:N', axis=None, sort=name_sort),\n",
    "    text=alt.Text('PERCENT_TEXT:N')\n",
    ").mark_text()\n",
    "text"
   ]
  },
  {
   "cell_type": "code",
   "execution_count": 13,
   "metadata": {},
   "outputs": [
    {
     "data": {
      "text/html": [
       "\n",
       "<div id=\"altair-viz-533a1a48613f4da6a50d40031e7e4001\"></div>\n",
       "<script type=\"text/javascript\">\n",
       "  (function(spec, embedOpt){\n",
       "    let outputDiv = document.currentScript.previousElementSibling;\n",
       "    if (outputDiv.id !== \"altair-viz-533a1a48613f4da6a50d40031e7e4001\") {\n",
       "      outputDiv = document.getElementById(\"altair-viz-533a1a48613f4da6a50d40031e7e4001\");\n",
       "    }\n",
       "    const paths = {\n",
       "      \"vega\": \"https://cdn.jsdelivr.net/npm//vega@5?noext\",\n",
       "      \"vega-lib\": \"https://cdn.jsdelivr.net/npm//vega-lib?noext\",\n",
       "      \"vega-lite\": \"https://cdn.jsdelivr.net/npm//vega-lite@4.8.1?noext\",\n",
       "      \"vega-embed\": \"https://cdn.jsdelivr.net/npm//vega-embed@6?noext\",\n",
       "    };\n",
       "\n",
       "    function loadScript(lib) {\n",
       "      return new Promise(function(resolve, reject) {\n",
       "        var s = document.createElement('script');\n",
       "        s.src = paths[lib];\n",
       "        s.async = true;\n",
       "        s.onload = () => resolve(paths[lib]);\n",
       "        s.onerror = () => reject(`Error loading script: ${paths[lib]}`);\n",
       "        document.getElementsByTagName(\"head\")[0].appendChild(s);\n",
       "      });\n",
       "    }\n",
       "\n",
       "    function showError(err) {\n",
       "      outputDiv.innerHTML = `<div class=\"error\" style=\"color:red;\">${err}</div>`;\n",
       "      throw err;\n",
       "    }\n",
       "\n",
       "    function displayChart(vegaEmbed) {\n",
       "      vegaEmbed(outputDiv, spec, embedOpt)\n",
       "        .catch(err => showError(`Javascript Error: ${err.message}<br>This usually means there's a typo in your chart specification. See the javascript console for the full traceback.`));\n",
       "    }\n",
       "\n",
       "    if(typeof define === \"function\" && define.amd) {\n",
       "      requirejs.config({paths});\n",
       "      require([\"vega-embed\"], displayChart, err => showError(`Error loading script: ${err.message}`));\n",
       "    } else if (typeof vegaEmbed === \"function\") {\n",
       "      displayChart(vegaEmbed);\n",
       "    } else {\n",
       "      loadScript(\"vega\")\n",
       "        .then(() => loadScript(\"vega-lite\"))\n",
       "        .then(() => loadScript(\"vega-embed\"))\n",
       "        .catch(showError)\n",
       "        .then(() => displayChart(vegaEmbed));\n",
       "    }\n",
       "  })({\"config\": {\"view\": {\"continuousWidth\": 400, \"continuousHeight\": 300, \"strokeWidth\": 0}, \"axis\": {\"domain\": false, \"grid\": false, \"ticks\": false}, \"background\": \"whitesmoke\"}, \"hconcat\": [{\"mark\": \"text\", \"encoding\": {\"text\": {\"type\": \"nominal\", \"field\": \"EMOJI\"}, \"y\": {\"type\": \"nominal\", \"axis\": null, \"field\": \"EMOJI\", \"sort\": [\"\\ud83d\\ude02\", \"\\ud83e\\udd4a\", \"\\ud83d\\udc4a\", \"\\ud83d\\udc4f\", \"\\ud83d\\udcaa\", \"\\ud83c\\uddee\\ud83c\\uddea\", \"\\ud83e\\udd23\", \"\\ud83d\\udd25\", \"\\ud83d\\ude2d\", \"\\ud83d\\udcb0\"]}}}, {\"mark\": \"text\", \"encoding\": {\"text\": {\"type\": \"nominal\", \"field\": \"PERCENT_TEXT\"}, \"y\": {\"type\": \"nominal\", \"axis\": null, \"field\": \"EMOJI\", \"sort\": [\"\\ud83d\\ude02\", \"\\ud83e\\udd4a\", \"\\ud83d\\udc4a\", \"\\ud83d\\udc4f\", \"\\ud83d\\udcaa\", \"\\ud83c\\uddee\\ud83c\\uddea\", \"\\ud83e\\udd23\", \"\\ud83d\\udd25\", \"\\ud83d\\ude2d\", \"\\ud83d\\udcb0\"]}}}, {\"mark\": {\"type\": \"bar\", \"color\": \"orange\"}, \"encoding\": {\"x\": {\"type\": \"quantitative\", \"axis\": null, \"field\": \"PERCENT\"}, \"y\": {\"type\": \"nominal\", \"axis\": null, \"field\": \"EMOJI\", \"sort\": \"-x\", \"title\": null}}}], \"data\": {\"url\": \"altair-data-cfe91f2b615d9ce80ed8fed7dc095575.json\", \"format\": {\"type\": \"json\"}}, \"spacing\": 10, \"$schema\": \"https://vega.github.io/schema/vega-lite/v4.8.1.json\"}, {\"mode\": \"vega-lite\"});\n",
       "</script>"
      ],
      "text/plain": [
       "alt.HConcatChart(...)"
      ]
     },
     "execution_count": 13,
     "metadata": {},
     "output_type": "execute_result"
    }
   ],
   "source": [
    "alt.hconcat(emoji,text,bars,spacing=10).configure(\n",
    "    # customize background color\n",
    "    background=\"whitesmoke\"\n",
    ").configure_view(\n",
    "    strokeWidth=0\n",
    ").configure_axis(\n",
    "    # remove axis line\n",
    "    grid=False, domain=False, ticks=False\n",
    ") "
   ]
  },
  {
   "cell_type": "markdown",
   "metadata": {},
   "source": [
    "## 2.1 use percentages_df to recreate the visualization above"
   ]
  },
  {
   "cell_type": "markdown",
   "metadata": {},
   "source": [
    "There were the likely frontrunners for most-used emoji: the 🥊, the 👊, the 💪. But the emoji of the fight was far and away the 😂. (“Face with tears of joy.”)<sup>2<sup>"
   ]
  },
  {
   "cell_type": "markdown",
   "metadata": {},
   "source": [
    "> <font color=grey> 1.2. That’s certainly appropriate for this spectacle, but it should be noted that 😂 is also the [most tweeted](http://emojitracker.com/) emoji generally.</font>"
   ]
  },
  {
   "cell_type": "markdown",
   "metadata": {},
   "source": [
    "Here’s how the night unfolded, emoji-wise. (All of the charts below show them on a four-minute rolling average.)\n",
    "\n",
    "<img src=\"assets/tweet1.png\" alt=\"Drawing\" style=\"width: 500px;\"/>"
   ]
  },
  {
   "cell_type": "markdown",
   "metadata": {},
   "source": [
    "For one thing, the fight was a sharply partisan affair. The majority of people in the arena appeared to be McGregor fans — he hails from Dublin and an Irish flag, worn cape-style, almost seemed like the evening’s dress code. But other fans were members of TMT — The Money Team — and loyal to “Money” Mayweather. Twitter’s loyalties came and went as the match progressed, with enthusiasm from either camp seemingly matching each fighter’s success."
   ]
  },
  {
   "cell_type": "markdown",
   "metadata": {},
   "source": [
    "<img src=\"assets/chart_2.png\" alt=\"Drawing\" style=\"width: 500px;\"/>"
   ]
  },
  {
   "cell_type": "code",
   "execution_count": 14,
   "metadata": {},
   "outputs": [],
   "source": [
    "# Again, we're going to help you set up the data\n",
    "\n",
    "# We're going to want to work with time objects so we need to make a datetime\n",
    "# column (basically transforming the text in \"created at\"). It duplicates\n",
    "# the data but it will make things easier\n",
    "\n",
    "\n",
    "tweets['datetime'] = pd.to_datetime(tweets['created_at'])\n",
    "tweets = tweets.set_index('datetime')\n",
    "\n",
    "\n",
    "teams = tweets.copy()\n",
    "teams['irish_pride']\n",
    "teams = teams.resample('1s').sum()\n",
    "teams  = teams[(teams['💸']>0) | (teams['🤑']>0) | (teams['💰']>0) | (teams['💵']>0) | (teams['☘️']>0) | (teams['🍀']>0) | (teams['🇮🇪']>0) ]\n",
    "\n",
    "# next we're going to creat a rolling average\n",
    "# first for the money team\n",
    "mdf = teams['money_team'].rolling('4Min').mean().reset_index()\n",
    "mdf['team'] = '💸🤑💰💵'\n",
    "mdf = mdf.rename(columns={'money_team':'tweet_count'})\n",
    "\n",
    "# next for the irish team\n",
    "idf = teams['irish_pride'].rolling('4Min').mean().reset_index()\n",
    "idf['team'] = '☘️🍀🇮🇪'\n",
    "idf = idf.rename(columns={'irish_pride':'tweet_count'})\n",
    "\n",
    "# now we'll combine our datasets\n",
    "ndf = pd.concat([mdf,idf])"
   ]
  },
  {
   "cell_type": "code",
   "execution_count": 15,
   "metadata": {},
   "outputs": [],
   "source": [
    "# we're also going to create an annotations data frame to help you\n",
    "annotations = [['2017-08-27 00:15:00',4, 'Fight begins'],\n",
    "               ['2017-08-27 00:22:00',5.5, 'McGregor does OK \\nin the early rounds'],\n",
    "               ['2017-08-27 00:53:00',4.5, 'Mayweather takes \\nover and wins by \\nTKO']]\n",
    "a_df = pd.DataFrame(annotations, columns=['date','count','note'])"
   ]
  },
  {
   "cell_type": "markdown",
   "metadata": {},
   "source": [
    "** Homework note, construct your solution to this chart in the cell below. Click [here](assets/altair_chart2.png) to see a sample output from Altair."
   ]
  },
  {
   "cell_type": "code",
   "execution_count": 16,
   "metadata": {
    "deletable": false,
    "nbgrader": {
     "checksum": "b08000a8a7a758a2d59677fc388f1fb0",
     "grade": true,
     "grade_id": "cell-94ed8837ccad14c0",
     "locked": false,
     "points": 0,
     "schema_version": 1,
     "solution": true
    }
   },
   "outputs": [
    {
     "data": {
      "text/html": [
       "\n",
       "<div id=\"altair-viz-e7ae4abb73de4c3c9868a976407ee9b8\"></div>\n",
       "<script type=\"text/javascript\">\n",
       "  (function(spec, embedOpt){\n",
       "    let outputDiv = document.currentScript.previousElementSibling;\n",
       "    if (outputDiv.id !== \"altair-viz-e7ae4abb73de4c3c9868a976407ee9b8\") {\n",
       "      outputDiv = document.getElementById(\"altair-viz-e7ae4abb73de4c3c9868a976407ee9b8\");\n",
       "    }\n",
       "    const paths = {\n",
       "      \"vega\": \"https://cdn.jsdelivr.net/npm//vega@5?noext\",\n",
       "      \"vega-lib\": \"https://cdn.jsdelivr.net/npm//vega-lib?noext\",\n",
       "      \"vega-lite\": \"https://cdn.jsdelivr.net/npm//vega-lite@4.8.1?noext\",\n",
       "      \"vega-embed\": \"https://cdn.jsdelivr.net/npm//vega-embed@6?noext\",\n",
       "    };\n",
       "\n",
       "    function loadScript(lib) {\n",
       "      return new Promise(function(resolve, reject) {\n",
       "        var s = document.createElement('script');\n",
       "        s.src = paths[lib];\n",
       "        s.async = true;\n",
       "        s.onload = () => resolve(paths[lib]);\n",
       "        s.onerror = () => reject(`Error loading script: ${paths[lib]}`);\n",
       "        document.getElementsByTagName(\"head\")[0].appendChild(s);\n",
       "      });\n",
       "    }\n",
       "\n",
       "    function showError(err) {\n",
       "      outputDiv.innerHTML = `<div class=\"error\" style=\"color:red;\">${err}</div>`;\n",
       "      throw err;\n",
       "    }\n",
       "\n",
       "    function displayChart(vegaEmbed) {\n",
       "      vegaEmbed(outputDiv, spec, embedOpt)\n",
       "        .catch(err => showError(`Javascript Error: ${err.message}<br>This usually means there's a typo in your chart specification. See the javascript console for the full traceback.`));\n",
       "    }\n",
       "\n",
       "    if(typeof define === \"function\" && define.amd) {\n",
       "      requirejs.config({paths});\n",
       "      require([\"vega-embed\"], displayChart, err => showError(`Error loading script: ${err.message}`));\n",
       "    } else if (typeof vegaEmbed === \"function\") {\n",
       "      displayChart(vegaEmbed);\n",
       "    } else {\n",
       "      loadScript(\"vega\")\n",
       "        .then(() => loadScript(\"vega-lite\"))\n",
       "        .then(() => loadScript(\"vega-embed\"))\n",
       "        .catch(showError)\n",
       "        .then(() => displayChart(vegaEmbed));\n",
       "    }\n",
       "  })({\"config\": {\"view\": {\"continuousWidth\": 400, \"continuousHeight\": 300}}, \"data\": {\"url\": \"altair-data-2a2f55197d4d02c4ca7b2e64a648b721.json\", \"format\": {\"type\": \"json\"}}, \"mark\": \"line\", \"encoding\": {\"color\": {\"type\": \"nominal\", \"field\": \"team\", \"legend\": {\"labelFontSize\": 20, \"orient\": \"top\", \"symbolSize\": 20, \"title\": null}, \"scale\": {\"domain\": [\"\\u2618\\ufe0f\\ud83c\\udf40\\ud83c\\uddee\\ud83c\\uddea\", \"\\ud83d\\udcb8\\ud83e\\udd11\\ud83d\\udcb0\\ud83d\\udcb5\"], \"range\": [\"#80B052\", \"#FBCE30\"]}}, \"x\": {\"type\": \"temporal\", \"axis\": {\"tickCount\": 8}, \"field\": \"datetime\", \"title\": null}, \"y\": {\"type\": \"quantitative\", \"field\": \"tweet_count\", \"title\": \"Four-minute rolling average\"}}, \"height\": 200, \"title\": {\"text\": [\"Irish Pride VS The Money Team\"], \"subtitle\": [\"Four-minute rolling average of the number of uses of selected emoji in\", \"sampled tweets during the Mayweather-McGregor fight\", \"  \", \"  \"]}, \"transform\": [{\"fold\": [\"\\u2618\\ufe0f\\ud83c\\udf40\\ud83c\\uddee\\ud83c\\uddea\", \"\\ud83d\\udcb8\\ud83e\\udd11\\ud83d\\udcb0\\ud83d\\udcb5\"]}], \"width\": 400, \"$schema\": \"https://vega.github.io/schema/vega-lite/v4.8.1.json\"}, {\"mode\": \"vega-lite\"});\n",
       "</script>"
      ],
      "text/plain": [
       "alt.Chart(...)"
      ]
     },
     "execution_count": 16,
     "metadata": {},
     "output_type": "execute_result"
    }
   ],
   "source": [
    "# your turn, create your solution \n",
    "# YOUR CODE HERE\n",
    "achart = alt.Chart(ndf).mark_line().encode(\n",
    "    alt.X('datetime:T', title=None,axis=alt.Axis(tickCount=8)),\n",
    "    alt.Y('tweet_count:Q', title='Four-minute rolling average'),\n",
    "    color=alt.Color('team:N', legend=alt.Legend(orient=\"top\", title=None, symbolSize=20, labelFontSize=20), scale=alt.Scale(range=['#80B052','#FBCE30'], domain=['☘️🍀🇮🇪','💸🤑💰💵'])\n",
    ")\n",
    ").properties(\n",
    "    width=400,\n",
    "    height=200,\n",
    "    title={\n",
    "        'text':['Irish Pride VS The Money Team'],\n",
    "        'subtitle':[\"Four-minute rolling average of the number of uses of selected emoji in\",\"sampled tweets during the Mayweather-McGregor fight\", '  ','  ']\n",
    "    }\n",
    ").transform_fold(\n",
    "    ['☘️🍀🇮🇪','💸🤑💰💵']\n",
    ")\n",
    "# raise NotImplementedError()\n",
    "achart"
   ]
  },
  {
   "cell_type": "code",
   "execution_count": 17,
   "metadata": {},
   "outputs": [],
   "source": [
    "a_annotation = alt.Chart(a_df).mark_text(lineBreak='\\n').encode(\n",
    "    x='date:T',\n",
    "    y='count:Q',\n",
    "    text='note:N'\n",
    ")\n",
    "\n",
    "aline1 = [['2017-08-27 00:15:00', 3.7],['2017-08-27 00:15:00', 2.1]]\n",
    "aline1_df=pd.DataFrame(aline1, columns=['date','count'])\n",
    "\n",
    "aline1 = alt.Chart(aline1_df).mark_line().encode(\n",
    "    x='date:T',\n",
    "    y='count:Q',\n",
    "    color=alt.value(\"black\")\n",
    ")\n",
    "\n",
    "aline2 = [['2017-08-27 00:24:00', 4.6],['2017-08-27 00:30:00', 3.8]]\n",
    "aline2_df=pd.DataFrame(aline2, columns=['date','count'])\n",
    "\n",
    "aline2 = alt.Chart(aline2_df).mark_line().encode(\n",
    "    x='date:T',\n",
    "    y='count:Q',\n",
    "    color=alt.value(\"black\")\n",
    ")"
   ]
  },
  {
   "cell_type": "code",
   "execution_count": 18,
   "metadata": {},
   "outputs": [
    {
     "data": {
      "text/html": [
       "\n",
       "<div id=\"altair-viz-0ea84824d74443dfae6542595b67701b\"></div>\n",
       "<script type=\"text/javascript\">\n",
       "  (function(spec, embedOpt){\n",
       "    let outputDiv = document.currentScript.previousElementSibling;\n",
       "    if (outputDiv.id !== \"altair-viz-0ea84824d74443dfae6542595b67701b\") {\n",
       "      outputDiv = document.getElementById(\"altair-viz-0ea84824d74443dfae6542595b67701b\");\n",
       "    }\n",
       "    const paths = {\n",
       "      \"vega\": \"https://cdn.jsdelivr.net/npm//vega@5?noext\",\n",
       "      \"vega-lib\": \"https://cdn.jsdelivr.net/npm//vega-lib?noext\",\n",
       "      \"vega-lite\": \"https://cdn.jsdelivr.net/npm//vega-lite@4.8.1?noext\",\n",
       "      \"vega-embed\": \"https://cdn.jsdelivr.net/npm//vega-embed@6?noext\",\n",
       "    };\n",
       "\n",
       "    function loadScript(lib) {\n",
       "      return new Promise(function(resolve, reject) {\n",
       "        var s = document.createElement('script');\n",
       "        s.src = paths[lib];\n",
       "        s.async = true;\n",
       "        s.onload = () => resolve(paths[lib]);\n",
       "        s.onerror = () => reject(`Error loading script: ${paths[lib]}`);\n",
       "        document.getElementsByTagName(\"head\")[0].appendChild(s);\n",
       "      });\n",
       "    }\n",
       "\n",
       "    function showError(err) {\n",
       "      outputDiv.innerHTML = `<div class=\"error\" style=\"color:red;\">${err}</div>`;\n",
       "      throw err;\n",
       "    }\n",
       "\n",
       "    function displayChart(vegaEmbed) {\n",
       "      vegaEmbed(outputDiv, spec, embedOpt)\n",
       "        .catch(err => showError(`Javascript Error: ${err.message}<br>This usually means there's a typo in your chart specification. See the javascript console for the full traceback.`));\n",
       "    }\n",
       "\n",
       "    if(typeof define === \"function\" && define.amd) {\n",
       "      requirejs.config({paths});\n",
       "      require([\"vega-embed\"], displayChart, err => showError(`Error loading script: ${err.message}`));\n",
       "    } else if (typeof vegaEmbed === \"function\") {\n",
       "      displayChart(vegaEmbed);\n",
       "    } else {\n",
       "      loadScript(\"vega\")\n",
       "        .then(() => loadScript(\"vega-lite\"))\n",
       "        .then(() => loadScript(\"vega-embed\"))\n",
       "        .catch(showError)\n",
       "        .then(() => displayChart(vegaEmbed));\n",
       "    }\n",
       "  })({\"config\": {\"view\": {\"continuousWidth\": 400, \"continuousHeight\": 300}, \"axis\": {\"labelColor\": \"grey\"}, \"background\": \"whitesmoke\", \"title\": {\"align\": \"left\", \"anchor\": \"start\", \"fontSize\": 20, \"fontWeight\": 700, \"subtitleFontSize\": 16}}, \"layer\": [{\"data\": {\"url\": \"altair-data-2a2f55197d4d02c4ca7b2e64a648b721.json\", \"format\": {\"type\": \"json\"}}, \"mark\": \"line\", \"encoding\": {\"color\": {\"type\": \"nominal\", \"field\": \"team\", \"legend\": {\"labelFontSize\": 20, \"orient\": \"top\", \"symbolSize\": 20, \"title\": null}, \"scale\": {\"domain\": [\"\\u2618\\ufe0f\\ud83c\\udf40\\ud83c\\uddee\\ud83c\\uddea\", \"\\ud83d\\udcb8\\ud83e\\udd11\\ud83d\\udcb0\\ud83d\\udcb5\"], \"range\": [\"#80B052\", \"#FBCE30\"]}}, \"x\": {\"type\": \"temporal\", \"axis\": {\"tickCount\": 8}, \"field\": \"datetime\", \"title\": null}, \"y\": {\"type\": \"quantitative\", \"field\": \"tweet_count\", \"title\": \"Four-minute rolling average\"}}, \"height\": 200, \"title\": {\"text\": [\"Irish Pride VS The Money Team\"], \"subtitle\": [\"Four-minute rolling average of the number of uses of selected emoji in\", \"sampled tweets during the Mayweather-McGregor fight\", \"  \", \"  \"]}, \"transform\": [{\"fold\": [\"\\u2618\\ufe0f\\ud83c\\udf40\\ud83c\\uddee\\ud83c\\uddea\", \"\\ud83d\\udcb8\\ud83e\\udd11\\ud83d\\udcb0\\ud83d\\udcb5\"]}], \"width\": 400}, {\"data\": {\"url\": \"altair-data-a9c02d78fb54c212f6c36e454e3de6e2.json\", \"format\": {\"type\": \"json\"}}, \"mark\": {\"type\": \"text\", \"lineBreak\": \"\\n\"}, \"encoding\": {\"text\": {\"type\": \"nominal\", \"field\": \"note\"}, \"x\": {\"type\": \"temporal\", \"field\": \"date\"}, \"y\": {\"type\": \"quantitative\", \"field\": \"count\"}}}, {\"data\": {\"url\": \"altair-data-0e7452d4dc254ca6b2948ad49512d75a.json\", \"format\": {\"type\": \"json\"}}, \"mark\": \"line\", \"encoding\": {\"color\": {\"value\": \"black\"}, \"x\": {\"type\": \"temporal\", \"field\": \"date\"}, \"y\": {\"type\": \"quantitative\", \"field\": \"count\"}}}, {\"data\": {\"url\": \"altair-data-87de321fae93e3f78e0f2989a77870d8.json\", \"format\": {\"type\": \"json\"}}, \"mark\": \"line\", \"encoding\": {\"color\": {\"value\": \"black\"}, \"x\": {\"type\": \"temporal\", \"field\": \"date\"}, \"y\": {\"type\": \"quantitative\", \"field\": \"count\"}}}], \"$schema\": \"https://vega.github.io/schema/vega-lite/v4.8.1.json\"}, {\"mode\": \"vega-lite\"});\n",
       "</script>"
      ],
      "text/plain": [
       "alt.LayerChart(...)"
      ]
     },
     "execution_count": 18,
     "metadata": {},
     "output_type": "execute_result"
    }
   ],
   "source": [
    "alt.layer(achart, a_annotation, aline1, aline2).configure(\n",
    "    # customize background color\n",
    "    background=\"whitesmoke\"\n",
    ").configure_title(\n",
    "    align='left',anchor='start',fontSize=20,fontWeight=700,subtitleFontSize=16\n",
    ").configure_axis(\n",
    "    labelColor='grey'\n",
    ")"
   ]
  },
  {
   "cell_type": "markdown",
   "metadata": {},
   "source": [
    "To the surprise of many (of the neutral and pro-Mayweather viewers, anyway) McGregor won the first round. The next couple were washes, and a quarter of the way into the [scheduled 12 rounds](https://www.nytimes.com/2017/08/26/sports/mayweather-mcgregor.html) … the Irish underdog may have been winning! The Irish flags and shamrocks followed on Twitter. Things slowly (perhaps even 😴ly) turned around as one of the best pound-for-pound boxers in history took control of the man making his pro debut — an outcome which was predicted by precisely everyone. Out came the emoji money bags."
   ]
  },
  {
   "cell_type": "markdown",
   "metadata": {},
   "source": [
    "<img src=\"assets/tweet2.png\" alt=\"Drawing\" style=\"width: 500px;\"/>"
   ]
  },
  {
   "cell_type": "markdown",
   "metadata": {},
   "source": [
    "By the sixth round, it seemed like only a matter of time until the old pro dismantled the newcomer. By the ninth it was clear Mayweather was going for the knockout. It came soon thereafter. Mayweather unleashed a vicious flurry of punches in the 10th and the ref stepped in, declaring Mayweather the victor and saving McGregor, who was somehow still on his feet, from further damage."
   ]
  },
  {
   "cell_type": "markdown",
   "metadata": {},
   "source": [
    "<img src=\"assets/chart_3.png\" alt=\"Drawing\" style=\"width: 500px;\"/>"
   ]
  },
  {
   "cell_type": "markdown",
   "metadata": {},
   "source": [
    "** Homework note, construct your solution to this chart in the cell below. Click [here](assets/altair_chart3.png) to see a sample output from Altair."
   ]
  },
  {
   "cell_type": "markdown",
   "metadata": {},
   "source": [
    "## 2.3 your solution goes here, use the example above for the sampling and annotation"
   ]
  },
  {
   "cell_type": "code",
   "execution_count": 19,
   "metadata": {},
   "outputs": [],
   "source": [
    "tweets['irish_pride'] = tweets['🔥']\n",
    "tweets['money_team'] = tweets['😴']\n",
    "# tweets.head()"
   ]
  },
  {
   "cell_type": "code",
   "execution_count": 20,
   "metadata": {},
   "outputs": [],
   "source": [
    "tweets['datetime'] = pd.to_datetime(tweets['created_at'])\n",
    "tweets = tweets.set_index('datetime')\n",
    "\n",
    "\n",
    "teams = tweets.copy()\n",
    "teams['irish_pride']\n",
    "teams = teams.resample('1s').sum()\n",
    "teams  = teams[(teams['🔥']>0) | (teams['😴']>0)]\n",
    "\n",
    "\n",
    "sdf = teams['money_team'].rolling('4Min').mean().reset_index()\n",
    "sdf['team'] = '😴'\n",
    "sdf = sdf.rename(columns={'money_team':'tweet_count'})\n",
    "\n",
    "fdf = teams['irish_pride'].rolling('4Min').mean().reset_index()\n",
    "fdf['team'] = '🔥'\n",
    "fdf = fdf.rename(columns={'irish_pride':'tweet_count'})\n",
    "\n",
    "m_df = pd.concat([fdf,sdf])"
   ]
  },
  {
   "cell_type": "code",
   "execution_count": 21,
   "metadata": {},
   "outputs": [
    {
     "data": {
      "text/html": [
       "\n",
       "<div id=\"altair-viz-b38dfa6e87254a3d874a0f0180090a5a\"></div>\n",
       "<script type=\"text/javascript\">\n",
       "  (function(spec, embedOpt){\n",
       "    let outputDiv = document.currentScript.previousElementSibling;\n",
       "    if (outputDiv.id !== \"altair-viz-b38dfa6e87254a3d874a0f0180090a5a\") {\n",
       "      outputDiv = document.getElementById(\"altair-viz-b38dfa6e87254a3d874a0f0180090a5a\");\n",
       "    }\n",
       "    const paths = {\n",
       "      \"vega\": \"https://cdn.jsdelivr.net/npm//vega@5?noext\",\n",
       "      \"vega-lib\": \"https://cdn.jsdelivr.net/npm//vega-lib?noext\",\n",
       "      \"vega-lite\": \"https://cdn.jsdelivr.net/npm//vega-lite@4.8.1?noext\",\n",
       "      \"vega-embed\": \"https://cdn.jsdelivr.net/npm//vega-embed@6?noext\",\n",
       "    };\n",
       "\n",
       "    function loadScript(lib) {\n",
       "      return new Promise(function(resolve, reject) {\n",
       "        var s = document.createElement('script');\n",
       "        s.src = paths[lib];\n",
       "        s.async = true;\n",
       "        s.onload = () => resolve(paths[lib]);\n",
       "        s.onerror = () => reject(`Error loading script: ${paths[lib]}`);\n",
       "        document.getElementsByTagName(\"head\")[0].appendChild(s);\n",
       "      });\n",
       "    }\n",
       "\n",
       "    function showError(err) {\n",
       "      outputDiv.innerHTML = `<div class=\"error\" style=\"color:red;\">${err}</div>`;\n",
       "      throw err;\n",
       "    }\n",
       "\n",
       "    function displayChart(vegaEmbed) {\n",
       "      vegaEmbed(outputDiv, spec, embedOpt)\n",
       "        .catch(err => showError(`Javascript Error: ${err.message}<br>This usually means there's a typo in your chart specification. See the javascript console for the full traceback.`));\n",
       "    }\n",
       "\n",
       "    if(typeof define === \"function\" && define.amd) {\n",
       "      requirejs.config({paths});\n",
       "      require([\"vega-embed\"], displayChart, err => showError(`Error loading script: ${err.message}`));\n",
       "    } else if (typeof vegaEmbed === \"function\") {\n",
       "      displayChart(vegaEmbed);\n",
       "    } else {\n",
       "      loadScript(\"vega\")\n",
       "        .then(() => loadScript(\"vega-lite\"))\n",
       "        .then(() => loadScript(\"vega-embed\"))\n",
       "        .catch(showError)\n",
       "        .then(() => displayChart(vegaEmbed));\n",
       "    }\n",
       "  })({\"config\": {\"view\": {\"continuousWidth\": 400, \"continuousHeight\": 300}}, \"data\": {\"url\": \"altair-data-5d910028ff508801bc2168c0434e0ab9.json\", \"format\": {\"type\": \"json\"}}, \"mark\": \"line\", \"encoding\": {\"color\": {\"type\": \"nominal\", \"field\": \"team\", \"legend\": {\"labelFontSize\": 20, \"orient\": \"top\", \"symbolSize\": 20, \"title\": null}, \"scale\": {\"domain\": [\"\\ud83d\\udd25\", \"\\ud83d\\ude34\"], \"range\": [\"#E1544E\", \"#5DC2C6\"]}}, \"x\": {\"type\": \"temporal\", \"axis\": {\"tickCount\": 8}, \"field\": \"datetime\", \"title\": null}, \"y\": {\"type\": \"quantitative\", \"field\": \"tweet_count\", \"title\": \"Four-minute rolling average\"}}, \"height\": 200, \"title\": {\"text\": [\"Much hype, some boredom\"], \"subtitle\": [\"Four-minute rolling average of the number of uses of selected emoji in\", \"sampled tweets during the Mayweather-McGregor fight\", \"  \", \"  \"]}, \"transform\": [{\"fold\": [\"\\ud83d\\udd25\", \"\\ud83d\\ude34\"]}], \"width\": 400, \"$schema\": \"https://vega.github.io/schema/vega-lite/v4.8.1.json\"}, {\"mode\": \"vega-lite\"});\n",
       "</script>"
      ],
      "text/plain": [
       "alt.Chart(...)"
      ]
     },
     "execution_count": 21,
     "metadata": {},
     "output_type": "execute_result"
    }
   ],
   "source": [
    "bchart = alt.Chart(m_df).mark_line().encode(\n",
    "    alt.X('datetime:T', title=None,axis=alt.Axis(tickCount=8)),\n",
    "    alt.Y('tweet_count:Q', title='Four-minute rolling average'),\n",
    "    color=alt.Color('team:N', legend=alt.Legend(orient=\"top\", title=None, symbolSize=20, labelFontSize=20), scale=alt.Scale(range=['#E1544E','#5DC2C6'], domain=['🔥','😴'])\n",
    ")\n",
    ").properties(\n",
    "    width=400,\n",
    "    height=200,\n",
    "    title={\n",
    "        'text':['Much hype, some boredom'],\n",
    "        'subtitle':[\"Four-minute rolling average of the number of uses of selected emoji in\",\"sampled tweets during the Mayweather-McGregor fight\", '  ','  ']\n",
    "    }\n",
    ").transform_fold(\n",
    "    ['🔥','😴']\n",
    ")\n",
    "bchart"
   ]
  },
  {
   "cell_type": "code",
   "execution_count": 22,
   "metadata": {},
   "outputs": [],
   "source": [
    "annotation2 = [['2017-08-27 00:15:00',1.3, 'Fight begins'],\n",
    "               ['2017-08-27 00:52:00',3, 'Mayweather takes control in middle rounds']]\n",
    "b_df = pd.DataFrame(annotation2, columns=['date','count','note'])\n",
    "\n",
    "b_annotation = alt.Chart(b_df).mark_text().encode(\n",
    "    x='date:T',\n",
    "    y='count:Q',\n",
    "    text='note:N'\n",
    ")\n",
    "\n",
    "bline1 = [['2017-08-27 00:15:00', 1.1],['2017-08-27 00:15:00', 0.5]]\n",
    "c_df=pd.DataFrame(bline1, columns=['date','count'])\n",
    "line1 = alt.Chart(c_df).mark_line().encode(\n",
    "    x='date:T',\n",
    "    y='count:Q',\n",
    "    color=alt.value(\"black\")\n",
    ")\n",
    "\n",
    "bline2 = [['2017-08-27 00:33:00', 2.8],['2017-08-27 00:31:00', 1.9]]\n",
    "d_df=pd.DataFrame(bline2, columns=['date','count'])\n",
    "line2 = alt.Chart(d_df).mark_line().encode(\n",
    "    x='date:T',\n",
    "    y='count:Q',\n",
    "    color=alt.value(\"black\")\n",
    ")\n",
    "\n",
    "bline3 = [['2017-08-27 00:45:00', 2.7],['2017-08-27 00:45:00', 1.5]]\n",
    "e_df=pd.DataFrame(bline3, columns=['date','count'])\n",
    "line3 = alt.Chart(e_df).mark_line().encode(\n",
    "    x='date:T',\n",
    "    y='count:Q',\n",
    "    color=alt.value(\"black\")\n",
    ")"
   ]
  },
  {
   "cell_type": "code",
   "execution_count": 23,
   "metadata": {},
   "outputs": [
    {
     "data": {
      "text/html": [
       "\n",
       "<div id=\"altair-viz-2a128d22ee17443d881345766323cfcf\"></div>\n",
       "<script type=\"text/javascript\">\n",
       "  (function(spec, embedOpt){\n",
       "    let outputDiv = document.currentScript.previousElementSibling;\n",
       "    if (outputDiv.id !== \"altair-viz-2a128d22ee17443d881345766323cfcf\") {\n",
       "      outputDiv = document.getElementById(\"altair-viz-2a128d22ee17443d881345766323cfcf\");\n",
       "    }\n",
       "    const paths = {\n",
       "      \"vega\": \"https://cdn.jsdelivr.net/npm//vega@5?noext\",\n",
       "      \"vega-lib\": \"https://cdn.jsdelivr.net/npm//vega-lib?noext\",\n",
       "      \"vega-lite\": \"https://cdn.jsdelivr.net/npm//vega-lite@4.8.1?noext\",\n",
       "      \"vega-embed\": \"https://cdn.jsdelivr.net/npm//vega-embed@6?noext\",\n",
       "    };\n",
       "\n",
       "    function loadScript(lib) {\n",
       "      return new Promise(function(resolve, reject) {\n",
       "        var s = document.createElement('script');\n",
       "        s.src = paths[lib];\n",
       "        s.async = true;\n",
       "        s.onload = () => resolve(paths[lib]);\n",
       "        s.onerror = () => reject(`Error loading script: ${paths[lib]}`);\n",
       "        document.getElementsByTagName(\"head\")[0].appendChild(s);\n",
       "      });\n",
       "    }\n",
       "\n",
       "    function showError(err) {\n",
       "      outputDiv.innerHTML = `<div class=\"error\" style=\"color:red;\">${err}</div>`;\n",
       "      throw err;\n",
       "    }\n",
       "\n",
       "    function displayChart(vegaEmbed) {\n",
       "      vegaEmbed(outputDiv, spec, embedOpt)\n",
       "        .catch(err => showError(`Javascript Error: ${err.message}<br>This usually means there's a typo in your chart specification. See the javascript console for the full traceback.`));\n",
       "    }\n",
       "\n",
       "    if(typeof define === \"function\" && define.amd) {\n",
       "      requirejs.config({paths});\n",
       "      require([\"vega-embed\"], displayChart, err => showError(`Error loading script: ${err.message}`));\n",
       "    } else if (typeof vegaEmbed === \"function\") {\n",
       "      displayChart(vegaEmbed);\n",
       "    } else {\n",
       "      loadScript(\"vega\")\n",
       "        .then(() => loadScript(\"vega-lite\"))\n",
       "        .then(() => loadScript(\"vega-embed\"))\n",
       "        .catch(showError)\n",
       "        .then(() => displayChart(vegaEmbed));\n",
       "    }\n",
       "  })({\"config\": {\"view\": {\"continuousWidth\": 400, \"continuousHeight\": 300, \"strokeWidth\": 0}, \"axis\": {\"labelColor\": \"grey\"}, \"background\": \"whitesmoke\", \"title\": {\"align\": \"left\", \"anchor\": \"start\", \"fontSize\": 20, \"fontWeight\": 700, \"subtitleFontSize\": 16}}, \"layer\": [{\"data\": {\"url\": \"altair-data-5d910028ff508801bc2168c0434e0ab9.json\", \"format\": {\"type\": \"json\"}}, \"mark\": \"line\", \"encoding\": {\"color\": {\"type\": \"nominal\", \"field\": \"team\", \"legend\": {\"labelFontSize\": 20, \"orient\": \"top\", \"symbolSize\": 20, \"title\": null}, \"scale\": {\"domain\": [\"\\ud83d\\udd25\", \"\\ud83d\\ude34\"], \"range\": [\"#E1544E\", \"#5DC2C6\"]}}, \"x\": {\"type\": \"temporal\", \"axis\": {\"tickCount\": 8}, \"field\": \"datetime\", \"title\": null}, \"y\": {\"type\": \"quantitative\", \"field\": \"tweet_count\", \"title\": \"Four-minute rolling average\"}}, \"height\": 200, \"title\": {\"text\": [\"Much hype, some boredom\"], \"subtitle\": [\"Four-minute rolling average of the number of uses of selected emoji in\", \"sampled tweets during the Mayweather-McGregor fight\", \"  \", \"  \"]}, \"transform\": [{\"fold\": [\"\\ud83d\\udd25\", \"\\ud83d\\ude34\"]}], \"width\": 400}, {\"data\": {\"url\": \"altair-data-12c6eba461fbee6f780536cbf6885278.json\", \"format\": {\"type\": \"json\"}}, \"mark\": \"text\", \"encoding\": {\"text\": {\"type\": \"nominal\", \"field\": \"note\"}, \"x\": {\"type\": \"temporal\", \"field\": \"date\"}, \"y\": {\"type\": \"quantitative\", \"field\": \"count\"}}}, {\"data\": {\"url\": \"altair-data-eb07c1c0591cd3d130d67d562924af21.json\", \"format\": {\"type\": \"json\"}}, \"mark\": \"line\", \"encoding\": {\"color\": {\"value\": \"black\"}, \"x\": {\"type\": \"temporal\", \"field\": \"date\"}, \"y\": {\"type\": \"quantitative\", \"field\": \"count\"}}}, {\"data\": {\"url\": \"altair-data-47986d8ec333d9a3eb4cde5d1f1fc9ac.json\", \"format\": {\"type\": \"json\"}}, \"mark\": \"line\", \"encoding\": {\"color\": {\"value\": \"black\"}, \"x\": {\"type\": \"temporal\", \"field\": \"date\"}, \"y\": {\"type\": \"quantitative\", \"field\": \"count\"}}}, {\"data\": {\"url\": \"altair-data-f69ddf1b20b982e587ed25d43eb0be89.json\", \"format\": {\"type\": \"json\"}}, \"mark\": \"line\", \"encoding\": {\"color\": {\"value\": \"black\"}, \"x\": {\"type\": \"temporal\", \"field\": \"date\"}, \"y\": {\"type\": \"quantitative\", \"field\": \"count\"}}}], \"$schema\": \"https://vega.github.io/schema/vega-lite/v4.8.1.json\"}, {\"mode\": \"vega-lite\"});\n",
       "</script>"
      ],
      "text/plain": [
       "alt.LayerChart(...)"
      ]
     },
     "execution_count": 23,
     "metadata": {},
     "output_type": "execute_result"
    }
   ],
   "source": [
    "alt.layer(bchart, b_annotation, line1, line2, line3).configure(\n",
    "    # customize background color\n",
    "    background=\"whitesmoke\"\n",
    ").configure_title(\n",
    "    align='left',anchor='start',fontSize=20,fontWeight=700,subtitleFontSize=16\n",
    ").configure_axis(\n",
    "    labelColor='grey'\n",
    ").configure_view(\n",
    "    strokeWidth=0\n",
    ")"
   ]
  },
  {
   "cell_type": "markdown",
   "metadata": {},
   "source": [
    "It ended just over 37 minutes after it began. Five seconds later, Mayweather leapt up on the corner ropes, victorious — [50-0](https://fivethirtyeight.com/features/mayweather-is-defined-by-the-zero-next-to-his-name/). Some observers declared it a [satisfying spectacle](https://www.si.com/boxing/2017/08/27/after-months-hype-mayweather-and-mcgregor-deliver-boxing-spectacle). Others, McGregor chief among them, [were frustrated with the finish](https://www.cbssports.com/boxing/news/conor-mcgregor-frustrated-with-refs-fight-stoppage-let-the-man-put-me-down/). The emoji users on Twitter appeared to think the fight was, for the most part, 🔥 — especially as it heated up toward the end. While the result may never have been in question, this was a welcome outcome for many who viewed Mayweather’s last megafight against Manny Pacquiao as an epic 😴😴😴😴."
   ]
  },
  {
   "cell_type": "markdown",
   "metadata": {},
   "source": [
    "<img src=\"assets/tweet3.png\" alt=\"Drawing\" style=\"width: 500px;\"/>"
   ]
  },
  {
   "cell_type": "markdown",
   "metadata": {},
   "source": [
    "<img src=\"assets/chart_4.png\" alt=\"Drawing\" style=\"width: 500px;\"/>"
   ]
  },
  {
   "cell_type": "markdown",
   "metadata": {},
   "source": [
    "** Homework note, construct your solution to this chart in the cell below. Click [here](assets/altair_chart4.png) to see a sample output from Altair."
   ]
  },
  {
   "cell_type": "markdown",
   "metadata": {},
   "source": [
    "## 2.4 your solution goes here, use the example above for the sampling and annotation"
   ]
  },
  {
   "cell_type": "code",
   "execution_count": 24,
   "metadata": {},
   "outputs": [],
   "source": [
    "tweets['irish_pride'] = tweets['😭']\n",
    "tweets['money_team'] = tweets['🤣']"
   ]
  },
  {
   "cell_type": "code",
   "execution_count": 25,
   "metadata": {},
   "outputs": [],
   "source": [
    "tweets['datetime'] = pd.to_datetime(tweets['created_at'])\n",
    "tweets = tweets.set_index('datetime')\n",
    "\n",
    "\n",
    "teams = tweets.copy()\n",
    "teams['irish_pride']\n",
    "teams = teams.resample('1s').sum()\n",
    "teams  = teams[(teams['😭']>0) | (teams['🤣']>0)]\n",
    "\n",
    "cdf = teams['money_team'].rolling('4Min').mean().reset_index()\n",
    "cdf['team'] = '🤣'\n",
    "cdf = cdf.rename(columns={'money_team':'tweet_count'})\n",
    "\n",
    "hdf = teams['irish_pride'].rolling('4Min').mean().reset_index()\n",
    "hdf['team'] = '😭'\n",
    "hdf = hdf.rename(columns={'irish_pride':'tweet_count'})\n",
    "\n",
    "odf = pd.concat([cdf,hdf])"
   ]
  },
  {
   "cell_type": "code",
   "execution_count": 26,
   "metadata": {},
   "outputs": [
    {
     "data": {
      "text/html": [
       "\n",
       "<div id=\"altair-viz-557832c475464e78b2abe7ed9bfbd1be\"></div>\n",
       "<script type=\"text/javascript\">\n",
       "  (function(spec, embedOpt){\n",
       "    let outputDiv = document.currentScript.previousElementSibling;\n",
       "    if (outputDiv.id !== \"altair-viz-557832c475464e78b2abe7ed9bfbd1be\") {\n",
       "      outputDiv = document.getElementById(\"altair-viz-557832c475464e78b2abe7ed9bfbd1be\");\n",
       "    }\n",
       "    const paths = {\n",
       "      \"vega\": \"https://cdn.jsdelivr.net/npm//vega@5?noext\",\n",
       "      \"vega-lib\": \"https://cdn.jsdelivr.net/npm//vega-lib?noext\",\n",
       "      \"vega-lite\": \"https://cdn.jsdelivr.net/npm//vega-lite@4.8.1?noext\",\n",
       "      \"vega-embed\": \"https://cdn.jsdelivr.net/npm//vega-embed@6?noext\",\n",
       "    };\n",
       "\n",
       "    function loadScript(lib) {\n",
       "      return new Promise(function(resolve, reject) {\n",
       "        var s = document.createElement('script');\n",
       "        s.src = paths[lib];\n",
       "        s.async = true;\n",
       "        s.onload = () => resolve(paths[lib]);\n",
       "        s.onerror = () => reject(`Error loading script: ${paths[lib]}`);\n",
       "        document.getElementsByTagName(\"head\")[0].appendChild(s);\n",
       "      });\n",
       "    }\n",
       "\n",
       "    function showError(err) {\n",
       "      outputDiv.innerHTML = `<div class=\"error\" style=\"color:red;\">${err}</div>`;\n",
       "      throw err;\n",
       "    }\n",
       "\n",
       "    function displayChart(vegaEmbed) {\n",
       "      vegaEmbed(outputDiv, spec, embedOpt)\n",
       "        .catch(err => showError(`Javascript Error: ${err.message}<br>This usually means there's a typo in your chart specification. See the javascript console for the full traceback.`));\n",
       "    }\n",
       "\n",
       "    if(typeof define === \"function\" && define.amd) {\n",
       "      requirejs.config({paths});\n",
       "      require([\"vega-embed\"], displayChart, err => showError(`Error loading script: ${err.message}`));\n",
       "    } else if (typeof vegaEmbed === \"function\") {\n",
       "      displayChart(vegaEmbed);\n",
       "    } else {\n",
       "      loadScript(\"vega\")\n",
       "        .then(() => loadScript(\"vega-lite\"))\n",
       "        .then(() => loadScript(\"vega-embed\"))\n",
       "        .catch(showError)\n",
       "        .then(() => displayChart(vegaEmbed));\n",
       "    }\n",
       "  })({\"config\": {\"view\": {\"continuousWidth\": 400, \"continuousHeight\": 300}}, \"data\": {\"url\": \"altair-data-1af715af7258beb282da3b4d2079fd3e.json\", \"format\": {\"type\": \"json\"}}, \"mark\": \"line\", \"encoding\": {\"color\": {\"type\": \"nominal\", \"field\": \"team\", \"legend\": {\"labelFontSize\": 20, \"orient\": \"top\", \"symbolSize\": 20, \"title\": null}, \"scale\": {\"domain\": [\"\\ud83d\\ude2d\", \"\\ud83e\\udd23\"], \"range\": [\"#5DC2C6\", \"#FC8215\"]}}, \"x\": {\"type\": \"temporal\", \"axis\": {\"tickCount\": 8}, \"field\": \"datetime\", \"title\": null}, \"y\": {\"type\": \"quantitative\", \"field\": \"tweet_count\", \"title\": \"Four-minute rolling average\"}}, \"height\": 250, \"title\": {\"text\": [\"Tears were shed-of joy and sorrow\"], \"subtitle\": [\"Four-minute rolling average of the number of uses of selected emoji in\", \"sampled tweets during the Mayweather-McGregor fight\", \"  \", \"  \"]}, \"transform\": [{\"fold\": [\"\\ud83d\\ude2d\", \"\\ud83e\\udd23\"]}], \"width\": 400, \"$schema\": \"https://vega.github.io/schema/vega-lite/v4.8.1.json\"}, {\"mode\": \"vega-lite\"});\n",
       "</script>"
      ],
      "text/plain": [
       "alt.Chart(...)"
      ]
     },
     "execution_count": 26,
     "metadata": {},
     "output_type": "execute_result"
    }
   ],
   "source": [
    "c_chart = alt.Chart(odf).mark_line().encode(\n",
    "    alt.X('datetime:T', title=None,axis=alt.Axis(tickCount=8)),\n",
    "    alt.Y('tweet_count:Q', title='Four-minute rolling average'),\n",
    "    color=alt.Color('team:N', legend=alt.Legend(orient=\"top\", title=None, symbolSize=20, labelFontSize=20), scale=alt.Scale(range=['#5DC2C6','#FC8215'], domain=['😭','🤣'])\n",
    ")\n",
    ").properties(\n",
    "    width=400,\n",
    "    height=250,\n",
    "    title={\n",
    "        'text':['Tears were shed-of joy and sorrow'],\n",
    "        'subtitle':[\"Four-minute rolling average of the number of uses of selected emoji in\",\"sampled tweets during the Mayweather-McGregor fight\", '  ','  ']\n",
    "    }\n",
    ").transform_fold(\n",
    "    ['😭','🤣']\n",
    ")\n",
    "c_chart"
   ]
  },
  {
   "cell_type": "code",
   "execution_count": 27,
   "metadata": {},
   "outputs": [],
   "source": [
    "annotation2 = [['2017-08-27 00:10:00',2.2, 'Fight begins'],\n",
    "               ['2017-08-27 00:30:00',2.0, 'McGregor\\nimpresses\\nearly'],\n",
    "               ['2017-08-27 00:50:00',0.1,'Fight ends']]\n",
    "c_df = pd.DataFrame(annotation2, columns=['date','count','note'])\n",
    "\n",
    "c_annotation = alt.Chart(c_df).mark_text(lineBreak='\\n',align='left').encode(\n",
    "    x='date:T',\n",
    "    y='count:Q',\n",
    "    text='note:N'\n",
    ")"
   ]
  },
  {
   "cell_type": "code",
   "execution_count": 28,
   "metadata": {},
   "outputs": [],
   "source": [
    "cline1 = [['2017-08-27 00:15:00', 2.1],['2017-08-27 00:15:00', 1.4]]\n",
    "x_df=pd.DataFrame(cline1, columns=['date','count'])\n",
    "\n",
    "cline1 = alt.Chart(x_df).mark_line().encode(\n",
    "    x='date:T',\n",
    "    y='count:Q',\n",
    "    color=alt.value(\"black\")\n",
    ")\n",
    "\n",
    "cline2 = [['2017-08-27 00:29:00', 1.8],['2017-08-27 00:24:00', 1.6]]\n",
    "y_df=pd.DataFrame(cline2, columns=['date','count'])\n",
    "\n",
    "cline2 = alt.Chart(y_df).mark_line().encode(\n",
    "    x='date:T',\n",
    "    y='count:Q',\n",
    "    color=alt.value(\"black\")\n",
    ")\n",
    "\n",
    "cline3 = [['2017-08-27 00:55:00', 0.3],['2017-08-27 00:55:00', 0.8]]\n",
    "z_df=pd.DataFrame(cline3, columns=['date','count'])\n",
    "\n",
    "cline3 = alt.Chart(z_df).mark_line().encode(\n",
    "    x='date:T',\n",
    "    y='count:Q',\n",
    "    color=alt.value(\"black\")\n",
    ")"
   ]
  },
  {
   "cell_type": "code",
   "execution_count": 29,
   "metadata": {},
   "outputs": [
    {
     "data": {
      "text/html": [
       "\n",
       "<div id=\"altair-viz-904594d8bb2f49999532b2cb41f03f13\"></div>\n",
       "<script type=\"text/javascript\">\n",
       "  (function(spec, embedOpt){\n",
       "    let outputDiv = document.currentScript.previousElementSibling;\n",
       "    if (outputDiv.id !== \"altair-viz-904594d8bb2f49999532b2cb41f03f13\") {\n",
       "      outputDiv = document.getElementById(\"altair-viz-904594d8bb2f49999532b2cb41f03f13\");\n",
       "    }\n",
       "    const paths = {\n",
       "      \"vega\": \"https://cdn.jsdelivr.net/npm//vega@5?noext\",\n",
       "      \"vega-lib\": \"https://cdn.jsdelivr.net/npm//vega-lib?noext\",\n",
       "      \"vega-lite\": \"https://cdn.jsdelivr.net/npm//vega-lite@4.8.1?noext\",\n",
       "      \"vega-embed\": \"https://cdn.jsdelivr.net/npm//vega-embed@6?noext\",\n",
       "    };\n",
       "\n",
       "    function loadScript(lib) {\n",
       "      return new Promise(function(resolve, reject) {\n",
       "        var s = document.createElement('script');\n",
       "        s.src = paths[lib];\n",
       "        s.async = true;\n",
       "        s.onload = () => resolve(paths[lib]);\n",
       "        s.onerror = () => reject(`Error loading script: ${paths[lib]}`);\n",
       "        document.getElementsByTagName(\"head\")[0].appendChild(s);\n",
       "      });\n",
       "    }\n",
       "\n",
       "    function showError(err) {\n",
       "      outputDiv.innerHTML = `<div class=\"error\" style=\"color:red;\">${err}</div>`;\n",
       "      throw err;\n",
       "    }\n",
       "\n",
       "    function displayChart(vegaEmbed) {\n",
       "      vegaEmbed(outputDiv, spec, embedOpt)\n",
       "        .catch(err => showError(`Javascript Error: ${err.message}<br>This usually means there's a typo in your chart specification. See the javascript console for the full traceback.`));\n",
       "    }\n",
       "\n",
       "    if(typeof define === \"function\" && define.amd) {\n",
       "      requirejs.config({paths});\n",
       "      require([\"vega-embed\"], displayChart, err => showError(`Error loading script: ${err.message}`));\n",
       "    } else if (typeof vegaEmbed === \"function\") {\n",
       "      displayChart(vegaEmbed);\n",
       "    } else {\n",
       "      loadScript(\"vega\")\n",
       "        .then(() => loadScript(\"vega-lite\"))\n",
       "        .then(() => loadScript(\"vega-embed\"))\n",
       "        .catch(showError)\n",
       "        .then(() => displayChart(vegaEmbed));\n",
       "    }\n",
       "  })({\"config\": {\"view\": {\"continuousWidth\": 400, \"continuousHeight\": 300, \"strokeWidth\": 0}, \"axis\": {\"labelColor\": \"grey\"}, \"background\": \"whitesmoke\", \"title\": {\"align\": \"left\", \"anchor\": \"start\", \"fontSize\": 20, \"fontWeight\": 700, \"subtitleFontSize\": 16}}, \"layer\": [{\"data\": {\"url\": \"altair-data-1af715af7258beb282da3b4d2079fd3e.json\", \"format\": {\"type\": \"json\"}}, \"mark\": \"line\", \"encoding\": {\"color\": {\"type\": \"nominal\", \"field\": \"team\", \"legend\": {\"labelFontSize\": 20, \"orient\": \"top\", \"symbolSize\": 20, \"title\": null}, \"scale\": {\"domain\": [\"\\ud83d\\ude2d\", \"\\ud83e\\udd23\"], \"range\": [\"#5DC2C6\", \"#FC8215\"]}}, \"x\": {\"type\": \"temporal\", \"axis\": {\"tickCount\": 8}, \"field\": \"datetime\", \"title\": null}, \"y\": {\"type\": \"quantitative\", \"field\": \"tweet_count\", \"title\": \"Four-minute rolling average\"}}, \"height\": 250, \"title\": {\"text\": [\"Tears were shed-of joy and sorrow\"], \"subtitle\": [\"Four-minute rolling average of the number of uses of selected emoji in\", \"sampled tweets during the Mayweather-McGregor fight\", \"  \", \"  \"]}, \"transform\": [{\"fold\": [\"\\ud83d\\ude2d\", \"\\ud83e\\udd23\"]}], \"width\": 400}, {\"data\": {\"url\": \"altair-data-52f4878413008195962dd4a2343930b9.json\", \"format\": {\"type\": \"json\"}}, \"mark\": {\"type\": \"text\", \"align\": \"left\", \"lineBreak\": \"\\n\"}, \"encoding\": {\"text\": {\"type\": \"nominal\", \"field\": \"note\"}, \"x\": {\"type\": \"temporal\", \"field\": \"date\"}, \"y\": {\"type\": \"quantitative\", \"field\": \"count\"}}}, {\"data\": {\"url\": \"altair-data-842a322ed0ed2af1fd21d38c8f524ccd.json\", \"format\": {\"type\": \"json\"}}, \"mark\": \"line\", \"encoding\": {\"color\": {\"value\": \"black\"}, \"x\": {\"type\": \"temporal\", \"field\": \"date\"}, \"y\": {\"type\": \"quantitative\", \"field\": \"count\"}}}, {\"data\": {\"url\": \"altair-data-7e33fe1a298944ad43628943428fe437.json\", \"format\": {\"type\": \"json\"}}, \"mark\": \"line\", \"encoding\": {\"color\": {\"value\": \"black\"}, \"x\": {\"type\": \"temporal\", \"field\": \"date\"}, \"y\": {\"type\": \"quantitative\", \"field\": \"count\"}}}, {\"data\": {\"url\": \"altair-data-cec0786f489d516d1308f0d5b2fae40f.json\", \"format\": {\"type\": \"json\"}}, \"mark\": \"line\", \"encoding\": {\"color\": {\"value\": \"black\"}, \"x\": {\"type\": \"temporal\", \"field\": \"date\"}, \"y\": {\"type\": \"quantitative\", \"field\": \"count\"}}}], \"$schema\": \"https://vega.github.io/schema/vega-lite/v4.8.1.json\"}, {\"mode\": \"vega-lite\"});\n",
       "</script>"
      ],
      "text/plain": [
       "alt.LayerChart(...)"
      ]
     },
     "execution_count": 29,
     "metadata": {},
     "output_type": "execute_result"
    }
   ],
   "source": [
    "alt.layer(c_chart, c_annotation, cline1, cline2, cline3).configure(\n",
    "    # customize background color\n",
    "    background=\"whitesmoke\"\n",
    ").configure_title(\n",
    "    align='left',anchor='start',fontSize=20,fontWeight=700,subtitleFontSize=16\n",
    ").configure_axis(\n",
    "    labelColor='grey'\n",
    ").configure_view(\n",
    "    strokeWidth=0\n",
    ")"
   ]
  },
  {
   "cell_type": "markdown",
   "metadata": {},
   "source": [
    "They laughed. They cried. And they laughed some more. And they cried some more."
   ]
  },
  {
   "cell_type": "markdown",
   "metadata": {},
   "source": [
    "# 2.5 Make your own (part 1-alternative)\n",
    "Propose one *alternative* visualization for one of the article's visualizations. Add a short paragraph describing why your visualization is more *effective* based on principles of perception/cognition. If you feel your visualization is worse, that's ok! Just tell us why. (20 points/ 15 points plot + 5 justification)"
   ]
  },
  {
   "cell_type": "code",
   "execution_count": 30,
   "metadata": {
    "deletable": false,
    "nbgrader": {
     "checksum": "0b9cd943872bb4aa60e5d72eac7e1ed1",
     "grade": true,
     "grade_id": "cell-9b636219159fc577",
     "locked": false,
     "points": 0,
     "schema_version": 1,
     "solution": true
    }
   },
   "outputs": [
    {
     "data": {
      "text/html": [
       "\n",
       "<div id=\"altair-viz-adf98bc1ea9e439ca46d237321b86f35\"></div>\n",
       "<script type=\"text/javascript\">\n",
       "  (function(spec, embedOpt){\n",
       "    let outputDiv = document.currentScript.previousElementSibling;\n",
       "    if (outputDiv.id !== \"altair-viz-adf98bc1ea9e439ca46d237321b86f35\") {\n",
       "      outputDiv = document.getElementById(\"altair-viz-adf98bc1ea9e439ca46d237321b86f35\");\n",
       "    }\n",
       "    const paths = {\n",
       "      \"vega\": \"https://cdn.jsdelivr.net/npm//vega@5?noext\",\n",
       "      \"vega-lib\": \"https://cdn.jsdelivr.net/npm//vega-lib?noext\",\n",
       "      \"vega-lite\": \"https://cdn.jsdelivr.net/npm//vega-lite@4.8.1?noext\",\n",
       "      \"vega-embed\": \"https://cdn.jsdelivr.net/npm//vega-embed@6?noext\",\n",
       "    };\n",
       "\n",
       "    function loadScript(lib) {\n",
       "      return new Promise(function(resolve, reject) {\n",
       "        var s = document.createElement('script');\n",
       "        s.src = paths[lib];\n",
       "        s.async = true;\n",
       "        s.onload = () => resolve(paths[lib]);\n",
       "        s.onerror = () => reject(`Error loading script: ${paths[lib]}`);\n",
       "        document.getElementsByTagName(\"head\")[0].appendChild(s);\n",
       "      });\n",
       "    }\n",
       "\n",
       "    function showError(err) {\n",
       "      outputDiv.innerHTML = `<div class=\"error\" style=\"color:red;\">${err}</div>`;\n",
       "      throw err;\n",
       "    }\n",
       "\n",
       "    function displayChart(vegaEmbed) {\n",
       "      vegaEmbed(outputDiv, spec, embedOpt)\n",
       "        .catch(err => showError(`Javascript Error: ${err.message}<br>This usually means there's a typo in your chart specification. See the javascript console for the full traceback.`));\n",
       "    }\n",
       "\n",
       "    if(typeof define === \"function\" && define.amd) {\n",
       "      requirejs.config({paths});\n",
       "      require([\"vega-embed\"], displayChart, err => showError(`Error loading script: ${err.message}`));\n",
       "    } else if (typeof vegaEmbed === \"function\") {\n",
       "      displayChart(vegaEmbed);\n",
       "    } else {\n",
       "      loadScript(\"vega\")\n",
       "        .then(() => loadScript(\"vega-lite\"))\n",
       "        .then(() => loadScript(\"vega-embed\"))\n",
       "        .catch(showError)\n",
       "        .then(() => displayChart(vegaEmbed));\n",
       "    }\n",
       "  })({\"config\": {\"view\": {\"continuousWidth\": 400, \"continuousHeight\": 300}}, \"data\": {\"url\": \"altair-data-1af715af7258beb282da3b4d2079fd3e.json\", \"format\": {\"type\": \"json\"}}, \"mark\": {\"type\": \"area\", \"opacity\": 0.3}, \"encoding\": {\"color\": {\"type\": \"nominal\", \"field\": \"team\", \"scale\": {\"domain\": [\"\\ud83d\\ude2d\", \"\\ud83e\\udd23\"], \"range\": [\"#965454\", \"#8698a7\"]}, \"title\": \"EMOJI\"}, \"x\": {\"type\": \"temporal\", \"axis\": {\"tickCount\": 8}, \"field\": \"datetime\", \"title\": null}, \"y\": {\"type\": \"quantitative\", \"field\": \"tweet_count\", \"stack\": null, \"title\": \"Four-minute rolling average\"}}, \"height\": 250, \"title\": {\"text\": [\"Tears were shed-of joy and sorrow\"], \"subtitle\": [\"Four-minute rolling average of the number of uses of selected emoji in\", \"sampled tweets during the Mayweather-McGregor fight\", \"  \", \"  \"]}, \"width\": 400, \"$schema\": \"https://vega.github.io/schema/vega-lite/v4.8.1.json\"}, {\"mode\": \"vega-lite\"});\n",
       "</script>"
      ],
      "text/plain": [
       "alt.Chart(...)"
      ]
     },
     "execution_count": 30,
     "metadata": {},
     "output_type": "execute_result"
    }
   ],
   "source": [
    "my_chart1 = alt.Chart(odf).mark_area(opacity=0.3).encode(\n",
    "    x=alt.X(\"datetime:T\",title=None,axis=alt.Axis(tickCount=8)),\n",
    "    y=alt.Y(\"tweet_count:Q\", stack=None, title='Four-minute rolling average'),\n",
    "    color=alt.Color(\"team:N\", title='EMOJI',scale=alt.Scale(\n",
    "            domain=['😭','🤣'],\n",
    "            range=['#965454', '#8698a7']))\n",
    ").properties(\n",
    "    width=400,\n",
    "    height=250,\n",
    "    title={\n",
    "        'text':['Tears were shed-of joy and sorrow'],\n",
    "        'subtitle':[\"Four-minute rolling average of the number of uses of selected emoji in\",\"sampled tweets during the Mayweather-McGregor fight\", '  ','  ']\n",
    "    }\n",
    ")\n",
    "my_chart1"
   ]
  },
  {
   "cell_type": "code",
   "execution_count": 31,
   "metadata": {},
   "outputs": [
    {
     "data": {
      "text/html": [
       "\n",
       "<div id=\"altair-viz-038cc4496e714754a80a10dba27b7b55\"></div>\n",
       "<script type=\"text/javascript\">\n",
       "  (function(spec, embedOpt){\n",
       "    let outputDiv = document.currentScript.previousElementSibling;\n",
       "    if (outputDiv.id !== \"altair-viz-038cc4496e714754a80a10dba27b7b55\") {\n",
       "      outputDiv = document.getElementById(\"altair-viz-038cc4496e714754a80a10dba27b7b55\");\n",
       "    }\n",
       "    const paths = {\n",
       "      \"vega\": \"https://cdn.jsdelivr.net/npm//vega@5?noext\",\n",
       "      \"vega-lib\": \"https://cdn.jsdelivr.net/npm//vega-lib?noext\",\n",
       "      \"vega-lite\": \"https://cdn.jsdelivr.net/npm//vega-lite@4.8.1?noext\",\n",
       "      \"vega-embed\": \"https://cdn.jsdelivr.net/npm//vega-embed@6?noext\",\n",
       "    };\n",
       "\n",
       "    function loadScript(lib) {\n",
       "      return new Promise(function(resolve, reject) {\n",
       "        var s = document.createElement('script');\n",
       "        s.src = paths[lib];\n",
       "        s.async = true;\n",
       "        s.onload = () => resolve(paths[lib]);\n",
       "        s.onerror = () => reject(`Error loading script: ${paths[lib]}`);\n",
       "        document.getElementsByTagName(\"head\")[0].appendChild(s);\n",
       "      });\n",
       "    }\n",
       "\n",
       "    function showError(err) {\n",
       "      outputDiv.innerHTML = `<div class=\"error\" style=\"color:red;\">${err}</div>`;\n",
       "      throw err;\n",
       "    }\n",
       "\n",
       "    function displayChart(vegaEmbed) {\n",
       "      vegaEmbed(outputDiv, spec, embedOpt)\n",
       "        .catch(err => showError(`Javascript Error: ${err.message}<br>This usually means there's a typo in your chart specification. See the javascript console for the full traceback.`));\n",
       "    }\n",
       "\n",
       "    if(typeof define === \"function\" && define.amd) {\n",
       "      requirejs.config({paths});\n",
       "      require([\"vega-embed\"], displayChart, err => showError(`Error loading script: ${err.message}`));\n",
       "    } else if (typeof vegaEmbed === \"function\") {\n",
       "      displayChart(vegaEmbed);\n",
       "    } else {\n",
       "      loadScript(\"vega\")\n",
       "        .then(() => loadScript(\"vega-lite\"))\n",
       "        .then(() => loadScript(\"vega-embed\"))\n",
       "        .catch(showError)\n",
       "        .then(() => displayChart(vegaEmbed));\n",
       "    }\n",
       "  })({\"config\": {\"view\": {\"continuousWidth\": 400, \"continuousHeight\": 300, \"strokeWidth\": 0}, \"axis\": {\"labelColor\": \"grey\"}, \"title\": {\"align\": \"left\", \"anchor\": \"start\", \"fontSize\": 20, \"fontWeight\": 700, \"subtitleFontSize\": 16}}, \"layer\": [{\"data\": {\"url\": \"altair-data-1af715af7258beb282da3b4d2079fd3e.json\", \"format\": {\"type\": \"json\"}}, \"mark\": {\"type\": \"area\", \"opacity\": 0.3}, \"encoding\": {\"color\": {\"type\": \"nominal\", \"field\": \"team\", \"scale\": {\"domain\": [\"\\ud83d\\ude2d\", \"\\ud83e\\udd23\"], \"range\": [\"#965454\", \"#8698a7\"]}, \"title\": \"EMOJI\"}, \"x\": {\"type\": \"temporal\", \"axis\": {\"tickCount\": 8}, \"field\": \"datetime\", \"title\": null}, \"y\": {\"type\": \"quantitative\", \"field\": \"tweet_count\", \"stack\": null, \"title\": \"Four-minute rolling average\"}}, \"height\": 250, \"title\": {\"text\": [\"Tears were shed-of joy and sorrow\"], \"subtitle\": [\"Four-minute rolling average of the number of uses of selected emoji in\", \"sampled tweets during the Mayweather-McGregor fight\", \"  \", \"  \"]}, \"width\": 400}, {\"data\": {\"url\": \"altair-data-52f4878413008195962dd4a2343930b9.json\", \"format\": {\"type\": \"json\"}}, \"mark\": {\"type\": \"text\", \"align\": \"left\", \"lineBreak\": \"\\n\"}, \"encoding\": {\"text\": {\"type\": \"nominal\", \"field\": \"note\"}, \"x\": {\"type\": \"temporal\", \"field\": \"date\"}, \"y\": {\"type\": \"quantitative\", \"field\": \"count\"}}}, {\"data\": {\"url\": \"altair-data-842a322ed0ed2af1fd21d38c8f524ccd.json\", \"format\": {\"type\": \"json\"}}, \"mark\": \"line\", \"encoding\": {\"color\": {\"value\": \"black\"}, \"x\": {\"type\": \"temporal\", \"field\": \"date\"}, \"y\": {\"type\": \"quantitative\", \"field\": \"count\"}}}, {\"data\": {\"url\": \"altair-data-7e33fe1a298944ad43628943428fe437.json\", \"format\": {\"type\": \"json\"}}, \"mark\": \"line\", \"encoding\": {\"color\": {\"value\": \"black\"}, \"x\": {\"type\": \"temporal\", \"field\": \"date\"}, \"y\": {\"type\": \"quantitative\", \"field\": \"count\"}}}, {\"data\": {\"url\": \"altair-data-cec0786f489d516d1308f0d5b2fae40f.json\", \"format\": {\"type\": \"json\"}}, \"mark\": \"line\", \"encoding\": {\"color\": {\"value\": \"black\"}, \"x\": {\"type\": \"temporal\", \"field\": \"date\"}, \"y\": {\"type\": \"quantitative\", \"field\": \"count\"}}}], \"$schema\": \"https://vega.github.io/schema/vega-lite/v4.8.1.json\"}, {\"mode\": \"vega-lite\"});\n",
       "</script>"
      ],
      "text/plain": [
       "alt.LayerChart(...)"
      ]
     },
     "execution_count": 31,
     "metadata": {},
     "output_type": "execute_result"
    }
   ],
   "source": [
    "alt.layer(my_chart1, c_annotation, cline1, cline2, cline3).configure_title(\n",
    "    align='left',anchor='start',fontSize=20,fontWeight=700,subtitleFontSize=16\n",
    ").configure_axis(\n",
    "    labelColor='grey'\n",
    ").configure_view(\n",
    "    strokeWidth=0\n",
    ")"
   ]
  },
  {
   "cell_type": "markdown",
   "metadata": {},
   "source": [
    "I created an area chart for the last visualization. I believe my chart and the 538 chart provide almost same functions to the audience. The only disadvantage of my chart is that a part of areas is covered by another one. Therefore, the 538's visualization is more effective than mine. "
   ]
  },
  {
   "cell_type": "markdown",
   "metadata": {},
   "source": [
    "# 2.6 Make your own (part 2-novel)\n",
    "Propose a *new* visualization to complement a part of the article. Add a short paragraph justifying your decisions in terms of Perception/Cognition processes. If you feel your visualization is worse, that's ok! Just tell us why. (20 points/ 15 points plot + 5 justification)"
   ]
  },
  {
   "cell_type": "code",
   "execution_count": 32,
   "metadata": {
    "deletable": false,
    "nbgrader": {
     "checksum": "8448ae695c68f98d279e3e9fba50f028",
     "grade": true,
     "grade_id": "cell-f05fa16510d6f918",
     "locked": false,
     "points": 0,
     "schema_version": 1,
     "solution": true
    }
   },
   "outputs": [],
   "source": [
    "# YOUR CODE HERE\n",
    "# raise NotImplementedError()\n",
    "tweets['irish_pride'] = tweets['👏']\n",
    "tweets['money_team'] = tweets['🥊']\n",
    "tweets['datetime'] = pd.to_datetime(tweets['created_at'])\n",
    "tweets = tweets.set_index('datetime')\n",
    "\n",
    "\n",
    "teams = tweets.copy()\n",
    "teams['irish_pride']\n",
    "teams = teams.resample('1s').sum()\n",
    "teams  = teams[(teams['👏']>0) | (teams['🥊']>0)]\n",
    "\n",
    "my_df1 = teams['money_team'].rolling('4Min').mean().reset_index()\n",
    "my_df1['team'] = '🥊'\n",
    "my_df1 = my_df1.rename(columns={'money_team':'tweet_count'})\n",
    "\n",
    "my_df2 = teams['irish_pride'].rolling('4Min').mean().reset_index()\n",
    "my_df2['team'] = '👏'\n",
    "my_df2 = my_df2.rename(columns={'irish_pride':'tweet_count'})\n",
    "\n",
    "my_df = pd.concat([my_df1,my_df2])"
   ]
  },
  {
   "cell_type": "code",
   "execution_count": 33,
   "metadata": {},
   "outputs": [
    {
     "data": {
      "text/html": [
       "\n",
       "<div id=\"altair-viz-d76fcb39f81c4f189f257736e5b22b0c\"></div>\n",
       "<script type=\"text/javascript\">\n",
       "  (function(spec, embedOpt){\n",
       "    let outputDiv = document.currentScript.previousElementSibling;\n",
       "    if (outputDiv.id !== \"altair-viz-d76fcb39f81c4f189f257736e5b22b0c\") {\n",
       "      outputDiv = document.getElementById(\"altair-viz-d76fcb39f81c4f189f257736e5b22b0c\");\n",
       "    }\n",
       "    const paths = {\n",
       "      \"vega\": \"https://cdn.jsdelivr.net/npm//vega@5?noext\",\n",
       "      \"vega-lib\": \"https://cdn.jsdelivr.net/npm//vega-lib?noext\",\n",
       "      \"vega-lite\": \"https://cdn.jsdelivr.net/npm//vega-lite@4.8.1?noext\",\n",
       "      \"vega-embed\": \"https://cdn.jsdelivr.net/npm//vega-embed@6?noext\",\n",
       "    };\n",
       "\n",
       "    function loadScript(lib) {\n",
       "      return new Promise(function(resolve, reject) {\n",
       "        var s = document.createElement('script');\n",
       "        s.src = paths[lib];\n",
       "        s.async = true;\n",
       "        s.onload = () => resolve(paths[lib]);\n",
       "        s.onerror = () => reject(`Error loading script: ${paths[lib]}`);\n",
       "        document.getElementsByTagName(\"head\")[0].appendChild(s);\n",
       "      });\n",
       "    }\n",
       "\n",
       "    function showError(err) {\n",
       "      outputDiv.innerHTML = `<div class=\"error\" style=\"color:red;\">${err}</div>`;\n",
       "      throw err;\n",
       "    }\n",
       "\n",
       "    function displayChart(vegaEmbed) {\n",
       "      vegaEmbed(outputDiv, spec, embedOpt)\n",
       "        .catch(err => showError(`Javascript Error: ${err.message}<br>This usually means there's a typo in your chart specification. See the javascript console for the full traceback.`));\n",
       "    }\n",
       "\n",
       "    if(typeof define === \"function\" && define.amd) {\n",
       "      requirejs.config({paths});\n",
       "      require([\"vega-embed\"], displayChart, err => showError(`Error loading script: ${err.message}`));\n",
       "    } else if (typeof vegaEmbed === \"function\") {\n",
       "      displayChart(vegaEmbed);\n",
       "    } else {\n",
       "      loadScript(\"vega\")\n",
       "        .then(() => loadScript(\"vega-lite\"))\n",
       "        .then(() => loadScript(\"vega-embed\"))\n",
       "        .catch(showError)\n",
       "        .then(() => displayChart(vegaEmbed));\n",
       "    }\n",
       "  })({\"config\": {\"view\": {\"continuousWidth\": 400, \"continuousHeight\": 300}}, \"data\": {\"url\": \"altair-data-14feedefecfc50763fab96596562bbcc.json\", \"format\": {\"type\": \"json\"}}, \"mark\": {\"type\": \"area\", \"opacity\": 0.3}, \"encoding\": {\"color\": {\"type\": \"nominal\", \"field\": \"team\", \"scale\": {\"domain\": [\"\\ud83d\\udc4f\", \"\\ud83e\\udd4a\"], \"range\": [\"#965454\", \"#8698a7\"]}, \"title\": \"EMOJI\"}, \"x\": {\"type\": \"temporal\", \"axis\": {\"tickCount\": 8}, \"field\": \"datetime\", \"title\": null}, \"y\": {\"type\": \"quantitative\", \"field\": \"tweet_count\", \"stack\": null, \"title\": \"Four-minute rolling average\"}}, \"height\": 250, \"title\": {\"text\": [\"Cheers when Mayweather took advantage\", \"and won the match\"], \"subtitle\": [\"Four-minute rolling average of the number of uses of selected emoji in\", \"sampled tweets during the Mayweather-McGregor fight\", \"  \", \"  \"]}, \"transform\": [{\"fold\": [\"\\ud83d\\udc4f\", \"\\ud83e\\udd4a\"]}], \"width\": 400, \"$schema\": \"https://vega.github.io/schema/vega-lite/v4.8.1.json\"}, {\"mode\": \"vega-lite\"});\n",
       "</script>"
      ],
      "text/plain": [
       "alt.Chart(...)"
      ]
     },
     "execution_count": 33,
     "metadata": {},
     "output_type": "execute_result"
    }
   ],
   "source": [
    "my_chart = alt.Chart(my_df).mark_area(opacity=0.3).encode(\n",
    "    x=alt.X('datetime:T', title=None,axis=alt.Axis(tickCount=8)),\n",
    "    y=alt.Y('tweet_count:Q', stack=None, title='Four-minute rolling average'),\n",
    "    color=alt.Color('team:N', title='EMOJI',scale=alt.Scale(\n",
    "        domain=['👏','🥊'],\n",
    "        range=['#965454', '#8698a7'])\n",
    ")\n",
    ").properties(\n",
    "    width=400,\n",
    "    height=250,\n",
    "    title={\n",
    "        'text':['Cheers when Mayweather took advantage', 'and won the match'],\n",
    "        'subtitle':[\"Four-minute rolling average of the number of uses of selected emoji in\",\"sampled tweets during the Mayweather-McGregor fight\", '  ','  ']\n",
    "    }\n",
    ").transform_fold(\n",
    "    ['👏','🥊']\n",
    ")\n",
    "my_chart"
   ]
  },
  {
   "cell_type": "code",
   "execution_count": 34,
   "metadata": {},
   "outputs": [],
   "source": [
    "annotation26 = [['2017-08-27 00:10:00',3.0, 'Fight begins'],\n",
    "               ['2017-08-27 00:23:00',2.5, 'McGregor winning \\nrounds as aggressor'],\n",
    "               ['2017-08-27 00:50:00',0.1,'Fight ends']]\n",
    "annot26_df = pd.DataFrame(annotation26, columns=['date','count','note'])\n",
    "\n",
    "annot_26 = alt.Chart(annot26_df).mark_text(lineBreak='\\n',align='left').encode(\n",
    "    x='date:T',\n",
    "    y='count:Q',\n",
    "    text='note:N'\n",
    ")"
   ]
  },
  {
   "cell_type": "code",
   "execution_count": 35,
   "metadata": {},
   "outputs": [],
   "source": [
    "myline1 = [['2017-08-27 00:15:00', 2.8],['2017-08-27 00:15:00', 2.0]]\n",
    "my1_df=pd.DataFrame(myline1, columns=['date','count'])\n",
    "\n",
    "myline1 = alt.Chart(my1_df).mark_line().encode(\n",
    "    x='date:T',\n",
    "    y='count:Q',\n",
    "    color=alt.value(\"black\")\n",
    ")\n",
    "\n",
    "myline2 = [['2017-08-27 00:30:00', 2.1],['2017-08-27 00:30:00', 1.6]]\n",
    "my2_df=pd.DataFrame(myline2, columns=['date','count'])\n",
    "\n",
    "myline2 = alt.Chart(my2_df).mark_line().encode(\n",
    "    x='date:T',\n",
    "    y='count:Q',\n",
    "    color=alt.value(\"black\")\n",
    ")\n",
    "\n",
    "myline3 = [['2017-08-27 00:55:00', 0.3],['2017-08-27 00:55:00', 0.8]]\n",
    "my3_df=pd.DataFrame(myline3, columns=['date','count'])\n",
    "\n",
    "myline3 = alt.Chart(my3_df).mark_line().encode(\n",
    "    x='date:T',\n",
    "    y='count:Q',\n",
    "    color=alt.value(\"black\")\n",
    ")"
   ]
  },
  {
   "cell_type": "code",
   "execution_count": 36,
   "metadata": {},
   "outputs": [
    {
     "data": {
      "text/html": [
       "\n",
       "<div id=\"altair-viz-dfb95840f7c54bc6acb0ad8202a9bf50\"></div>\n",
       "<script type=\"text/javascript\">\n",
       "  (function(spec, embedOpt){\n",
       "    let outputDiv = document.currentScript.previousElementSibling;\n",
       "    if (outputDiv.id !== \"altair-viz-dfb95840f7c54bc6acb0ad8202a9bf50\") {\n",
       "      outputDiv = document.getElementById(\"altair-viz-dfb95840f7c54bc6acb0ad8202a9bf50\");\n",
       "    }\n",
       "    const paths = {\n",
       "      \"vega\": \"https://cdn.jsdelivr.net/npm//vega@5?noext\",\n",
       "      \"vega-lib\": \"https://cdn.jsdelivr.net/npm//vega-lib?noext\",\n",
       "      \"vega-lite\": \"https://cdn.jsdelivr.net/npm//vega-lite@4.8.1?noext\",\n",
       "      \"vega-embed\": \"https://cdn.jsdelivr.net/npm//vega-embed@6?noext\",\n",
       "    };\n",
       "\n",
       "    function loadScript(lib) {\n",
       "      return new Promise(function(resolve, reject) {\n",
       "        var s = document.createElement('script');\n",
       "        s.src = paths[lib];\n",
       "        s.async = true;\n",
       "        s.onload = () => resolve(paths[lib]);\n",
       "        s.onerror = () => reject(`Error loading script: ${paths[lib]}`);\n",
       "        document.getElementsByTagName(\"head\")[0].appendChild(s);\n",
       "      });\n",
       "    }\n",
       "\n",
       "    function showError(err) {\n",
       "      outputDiv.innerHTML = `<div class=\"error\" style=\"color:red;\">${err}</div>`;\n",
       "      throw err;\n",
       "    }\n",
       "\n",
       "    function displayChart(vegaEmbed) {\n",
       "      vegaEmbed(outputDiv, spec, embedOpt)\n",
       "        .catch(err => showError(`Javascript Error: ${err.message}<br>This usually means there's a typo in your chart specification. See the javascript console for the full traceback.`));\n",
       "    }\n",
       "\n",
       "    if(typeof define === \"function\" && define.amd) {\n",
       "      requirejs.config({paths});\n",
       "      require([\"vega-embed\"], displayChart, err => showError(`Error loading script: ${err.message}`));\n",
       "    } else if (typeof vegaEmbed === \"function\") {\n",
       "      displayChart(vegaEmbed);\n",
       "    } else {\n",
       "      loadScript(\"vega\")\n",
       "        .then(() => loadScript(\"vega-lite\"))\n",
       "        .then(() => loadScript(\"vega-embed\"))\n",
       "        .catch(showError)\n",
       "        .then(() => displayChart(vegaEmbed));\n",
       "    }\n",
       "  })({\"config\": {\"view\": {\"continuousWidth\": 400, \"continuousHeight\": 300, \"strokeWidth\": 0}, \"axis\": {\"labelColor\": \"grey\"}, \"background\": \"whitesmoke\", \"title\": {\"align\": \"left\", \"anchor\": \"start\", \"fontSize\": 20, \"fontWeight\": 700, \"subtitleFontSize\": 16}}, \"layer\": [{\"data\": {\"url\": \"altair-data-14feedefecfc50763fab96596562bbcc.json\", \"format\": {\"type\": \"json\"}}, \"mark\": {\"type\": \"area\", \"opacity\": 0.3}, \"encoding\": {\"color\": {\"type\": \"nominal\", \"field\": \"team\", \"scale\": {\"domain\": [\"\\ud83d\\udc4f\", \"\\ud83e\\udd4a\"], \"range\": [\"#965454\", \"#8698a7\"]}, \"title\": \"EMOJI\"}, \"x\": {\"type\": \"temporal\", \"axis\": {\"tickCount\": 8}, \"field\": \"datetime\", \"title\": null}, \"y\": {\"type\": \"quantitative\", \"field\": \"tweet_count\", \"stack\": null, \"title\": \"Four-minute rolling average\"}}, \"height\": 250, \"title\": {\"text\": [\"Cheers when Mayweather took advantage\", \"and won the match\"], \"subtitle\": [\"Four-minute rolling average of the number of uses of selected emoji in\", \"sampled tweets during the Mayweather-McGregor fight\", \"  \", \"  \"]}, \"transform\": [{\"fold\": [\"\\ud83d\\udc4f\", \"\\ud83e\\udd4a\"]}], \"width\": 400}, {\"data\": {\"url\": \"altair-data-d64a5d84746beaf6caffd0d25bc641c5.json\", \"format\": {\"type\": \"json\"}}, \"mark\": {\"type\": \"text\", \"align\": \"left\", \"lineBreak\": \"\\n\"}, \"encoding\": {\"text\": {\"type\": \"nominal\", \"field\": \"note\"}, \"x\": {\"type\": \"temporal\", \"field\": \"date\"}, \"y\": {\"type\": \"quantitative\", \"field\": \"count\"}}}, {\"data\": {\"url\": \"altair-data-da4c2c33f8e21df9f636075462cb007d.json\", \"format\": {\"type\": \"json\"}}, \"mark\": \"line\", \"encoding\": {\"color\": {\"value\": \"black\"}, \"x\": {\"type\": \"temporal\", \"field\": \"date\"}, \"y\": {\"type\": \"quantitative\", \"field\": \"count\"}}}, {\"data\": {\"url\": \"altair-data-b6d25794c505c6ec4543cc26a8651fe8.json\", \"format\": {\"type\": \"json\"}}, \"mark\": \"line\", \"encoding\": {\"color\": {\"value\": \"black\"}, \"x\": {\"type\": \"temporal\", \"field\": \"date\"}, \"y\": {\"type\": \"quantitative\", \"field\": \"count\"}}}, {\"data\": {\"url\": \"altair-data-cec0786f489d516d1308f0d5b2fae40f.json\", \"format\": {\"type\": \"json\"}}, \"mark\": \"line\", \"encoding\": {\"color\": {\"value\": \"black\"}, \"x\": {\"type\": \"temporal\", \"field\": \"date\"}, \"y\": {\"type\": \"quantitative\", \"field\": \"count\"}}}], \"$schema\": \"https://vega.github.io/schema/vega-lite/v4.8.1.json\"}, {\"mode\": \"vega-lite\"});\n",
       "</script>"
      ],
      "text/plain": [
       "alt.LayerChart(...)"
      ]
     },
     "execution_count": 36,
     "metadata": {},
     "output_type": "execute_result"
    }
   ],
   "source": [
    "alt.layer(my_chart, annot_26, myline1, myline2, myline3).configure(\n",
    "    # customize background color\n",
    "    background=\"whitesmoke\"\n",
    ").configure_title(\n",
    "    align='left',anchor='start',fontSize=20,fontWeight=700,subtitleFontSize=16\n",
    ").configure_axis(\n",
    "    labelColor='grey'\n",
    ").configure_view(\n",
    "    strokeWidth=0\n",
    ")"
   ]
  },
  {
   "cell_type": "markdown",
   "metadata": {},
   "source": [
    "Based on the chart, we can see that even though the majority of audiences are big fans of McGregor, they acclaimed on Tweeters when Mayweather took advantage during the 3rd round and got the UFC Lightweight Champion finally.\n",
    "\n",
    "I use the area chart visualization comparing \"cheers\" and \"fight\" emojis on Tweeters. We, the readers, interpret that the audiences' attitude to the result of the match and they showed a great of respect to McGregor, even though most of them are fans of Mayweather. "
   ]
  },
  {
   "cell_type": "code",
   "execution_count": null,
   "metadata": {},
   "outputs": [],
   "source": []
  }
 ],
 "metadata": {
  "coursera": {
   "schema_names": [
    "mads_information_visualization_i_v3_assignment4"
   ]
  },
  "kernelspec": {
   "display_name": "Python 3",
   "language": "python",
   "name": "python3"
  },
  "language_info": {
   "codemirror_mode": {
    "name": "ipython",
    "version": 3
   },
   "file_extension": ".py",
   "mimetype": "text/x-python",
   "name": "python",
   "nbconvert_exporter": "python",
   "pygments_lexer": "ipython3",
   "version": "3.8.5"
  },
  "toc": {
   "colors": {
    "hover_highlight": "#DAA520",
    "running_highlight": "#FF0000",
    "selected_highlight": "#FFD700"
   },
   "moveMenuLeft": true,
   "nav_menu": {
    "height": "300px",
    "width": "252px"
   },
   "navigate_menu": true,
   "number_sections": false,
   "sideBar": false,
   "threshold": 4,
   "toc_cell": false,
   "toc_position": {
    "height": "259px",
    "left": "1px",
    "right": "20px",
    "top": "110px",
    "width": "212px"
   },
   "toc_section_display": "none",
   "toc_window_display": true,
   "widenNotebook": false
  }
 },
 "nbformat": 4,
 "nbformat_minor": 2
}
