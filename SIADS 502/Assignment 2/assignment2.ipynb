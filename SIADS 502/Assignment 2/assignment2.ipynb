{
 "cells": [
  {
   "cell_type": "markdown",
   "metadata": {
    "deletable": false,
    "editable": false,
    "nbgrader": {
     "checksum": "791b8541b8936283ab6178713907b41d",
     "grade": false,
     "grade_id": "cell-a2d42e109d5a4446",
     "locked": true,
     "schema_version": 1,
     "solution": false
    }
   },
   "source": [
    "# SIADS 502: Math Methods for Data Science \n",
    "\n",
    "\n",
    "# School of Information, University of Michigan\n",
    "\n",
    "\n",
    "## Week2: Eigenvalue/Eigenvector/Linear Trasformation\n",
    "\n",
    "### Version 1.2\n",
    "\n",
    "This assignment is designed to demonstrate basic linear algebra and computational properties of matrices through identifying linearity across vectors, using row reduction to calculate eigenvalues and eigenvectors. Please read the directions carefully, as we want to avoid submissions that are marked incorrect due to formatting mistakes. You will be using sympy, numpy, and scipy for this assignment. \n",
    "\n",
    "Ensure that the following code is present at the beginning of your assignment:\n",
    "- from sympy import *\n",
    "- import numpy as np\n",
    "- from numpy import linalg\n"
   ]
  },
  {
   "cell_type": "code",
   "execution_count": null,
   "metadata": {},
   "outputs": [],
   "source": []
  },
  {
   "cell_type": "markdown",
   "metadata": {},
   "source": [
    "Please enter your name: \"Liwen Huang\""
   ]
  },
  {
   "cell_type": "markdown",
   "metadata": {
    "deletable": false,
    "editable": false,
    "nbgrader": {
     "checksum": "e8233e474cb3078d25b2045117ffe093",
     "grade": false,
     "grade_id": "cell-2ec3375c714bff40",
     "locked": true,
     "schema_version": 1,
     "solution": false
    }
   },
   "source": [
    "## Part 1: Linear (In)dependence\n"
   ]
  },
  {
   "cell_type": "markdown",
   "metadata": {
    "deletable": false,
    "editable": false,
    "nbgrader": {
     "checksum": "d0a24edfe2561dbc8290c446eee91814",
     "grade": false,
     "grade_id": "cell-34ab2f1da94f850b",
     "locked": true,
     "schema_version": 1,
     "solution": false
    }
   },
   "source": [
    "<b>1.0</b> In this section, we will be determining if a set of vectors are linearly independent (if they are not, then they are linearly dependent). Below you will be asked to write a function to decide if 2, 3, or 4 inputed vectors in $\\mathbf{R}^3$ are linearly independent.  \n",
    "\n",
    "\n",
    "    \n"
   ]
  },
  {
   "cell_type": "code",
   "execution_count": 2,
   "metadata": {
    "deletable": false,
    "editable": false,
    "nbgrader": {
     "checksum": "ef115a907043a1d77932d85c9d027d69",
     "grade": false,
     "grade_id": "cell-91d40d41fc3261a7",
     "locked": true,
     "schema_version": 1,
     "solution": false
    }
   },
   "outputs": [],
   "source": [
    "import sympy\n",
    "import numpy as np\n",
    "from scipy import linalg\n",
    "from numpy import linalg\n",
    "import pandas as pd\n",
    "from sklearn.decomposition import PCA\n",
    "import matplotlib.pyplot as plt\n",
    "\n",
    "Senate = pd.read_csv('assets/senate.txt')\n",
    "RB = pd.read_csv('assets/red_blue.txt', ' ')"
   ]
  },
  {
   "cell_type": "code",
   "execution_count": null,
   "metadata": {
    "deletable": false,
    "editable": false,
    "nbgrader": {
     "checksum": "df64a5c8f177e4c5112cb34af1350d08",
     "grade": false,
     "grade_id": "cell-a75b03836816e39c",
     "locked": true,
     "schema_version": 1,
     "solution": false
    }
   },
   "outputs": [],
   "source": [
    "#uncomment the below line to view snippet of txt file\n",
    "#Senate.head()\n",
    "#RB.head()"
   ]
  },
  {
   "cell_type": "markdown",
   "metadata": {
    "deletable": false,
    "editable": false,
    "nbgrader": {
     "checksum": "e5e6854b6144e59b3ffe2609c80ea243",
     "grade": false,
     "grade_id": "cell-1b3452e8f5584c8a",
     "locked": true,
     "schema_version": 1,
     "solution": false
    }
   },
   "source": [
    "<strong>1.1</strong> \\[2 pt\\] Impliment the function Indy2Vec that takes in two 3 dimentional vectors each represented as an array and tells whether they are linearly independent.\n"
   ]
  },
  {
   "cell_type": "code",
   "execution_count": 2,
   "metadata": {
    "deletable": false,
    "nbgrader": {
     "checksum": "b6c0b10d230805049576022bfe8b0716",
     "grade": false,
     "grade_id": "cell-411ec698d9ae862d",
     "locked": false,
     "schema_version": 1,
     "solution": true
    }
   },
   "outputs": [],
   "source": [
    "def Indy2Vec(*args):\n",
    "    A = np.array(args).T\n",
    "    return np.linalg.matrix_rank(A) == len(args)\n",
    "    \n",
    "# YOUR CODE HERE\n",
    "# raise NotImplementedError()\n"
   ]
  },
  {
   "cell_type": "code",
   "execution_count": 3,
   "metadata": {
    "deletable": false,
    "editable": false,
    "nbgrader": {
     "checksum": "902f227a5075fac2d092d32c4baf0129",
     "grade": true,
     "grade_id": "cell-45a28a1ab4ac003c",
     "locked": true,
     "points": 2,
     "schema_version": 1,
     "solution": false
    }
   },
   "outputs": [],
   "source": [
    "v1 = np.array([0, 5, 0])\n",
    "v2 = np.array([0, -10, 0])\n",
    "v3 = np.array([1, 2, 3])\n",
    "v4 = np.array([-2, -4, -6])\n",
    "assert Indy2Vec(v1, v2) == False, \"Problem 1.1, Your code said that two linearly dependent vectors were independent\"\n",
    "assert Indy2Vec(v3, v4) == False, \"Problem 1.1, Your code said that two linearly dependent vectors were independent\"\n",
    "assert Indy2Vec(v1, v3) == True, \"Problem 1.1, Your code said that two linearly independent vectors were dependent\"\n",
    "assert Indy2Vec(v2, v3) == True, \"Problem 1.1, Your code said that two linearly independent vectors were dependent\""
   ]
  },
  {
   "cell_type": "markdown",
   "metadata": {
    "deletable": false,
    "editable": false,
    "nbgrader": {
     "checksum": "fbe72fd0dee166cf518ca6ee8ae8c0f9",
     "grade": false,
     "grade_id": "cell-d8dee39f31ad0c14",
     "locked": true,
     "schema_version": 1,
     "solution": false
    }
   },
   "source": [
    "<strong>1.2</strong> \\[2 pt\\] Impliment the function Indy2Vec that takes in three 3 dimentional vectors each represented as an array and tells whether they are linearly independent."
   ]
  },
  {
   "cell_type": "code",
   "execution_count": 4,
   "metadata": {
    "deletable": false,
    "nbgrader": {
     "checksum": "462648ea46b3dc7cb9cd97e1941f9800",
     "grade": false,
     "grade_id": "cell-9437cf7256c37d72",
     "locked": false,
     "schema_version": 1,
     "solution": true
    }
   },
   "outputs": [],
   "source": [
    "def Indy3Vec(*args):\n",
    "    A = np.array(args).T\n",
    "    return np.linalg.matrix_rank(A) == len(args)\n",
    "# YOUR CODE HERE\n",
    "# raise NotImplementedError()\n"
   ]
  },
  {
   "cell_type": "code",
   "execution_count": 5,
   "metadata": {
    "deletable": false,
    "editable": false,
    "nbgrader": {
     "checksum": "27d221a7de42aceb32c4833275313efd",
     "grade": true,
     "grade_id": "cell-158e70c4cabaca4d",
     "locked": true,
     "points": 2,
     "schema_version": 1,
     "solution": false
    }
   },
   "outputs": [],
   "source": [
    "v1=np.array([-1,3,4])\n",
    "v2=np.array([6,-2,9])\n",
    "v3=np.array([3,8,5]) \n",
    "\n",
    "assert Indy3Vec(v1, v2, v3) == True, \"Problem 1.2, Your code said that two linearly independent vectors were dependent\""
   ]
  },
  {
   "cell_type": "markdown",
   "metadata": {
    "deletable": false,
    "editable": false,
    "nbgrader": {
     "checksum": "79267a97b8574487d1ec5b8f889864cc",
     "grade": false,
     "grade_id": "cell-ce5dcd32393db2e4",
     "locked": true,
     "schema_version": 1,
     "solution": false
    }
   },
   "source": [
    "<strong>1.3</strong> \\[1 pt\\] Impliment the function Indy4Vec that takes in four 3 dimentional vectors each represented as an array and tells whether they are linearly independent."
   ]
  },
  {
   "cell_type": "code",
   "execution_count": 6,
   "metadata": {
    "deletable": false,
    "nbgrader": {
     "checksum": "8968c0ae2b8b86de37944cc442adb08c",
     "grade": false,
     "grade_id": "cell-d68d4ff3c19a01a9",
     "locked": false,
     "schema_version": 1,
     "solution": true
    }
   },
   "outputs": [],
   "source": [
    "def Indy4Vec(*args):\n",
    "    A = np.array(args).T\n",
    "    return np.linalg.matrix_rank(A) == len(args)\n",
    "# YOUR CODE HERE\n",
    "# raise NotImplementedError()\n"
   ]
  },
  {
   "cell_type": "code",
   "execution_count": 7,
   "metadata": {
    "deletable": false,
    "editable": false,
    "nbgrader": {
     "checksum": "41650b8b6c936021e3cd8c5240c53901",
     "grade": true,
     "grade_id": "cell-1b83b01be1cc2c58",
     "locked": true,
     "points": 1,
     "schema_version": 1,
     "solution": false
    }
   },
   "outputs": [],
   "source": [
    "v1=np.array([-1,3,4])\n",
    "v2=np.array([6,-2,9])\n",
    "v3=np.array([3,8,5])\n",
    "v4=np.array([5,6,7])\n",
    "\n",
    "\n",
    "assert Indy4Vec(v1, v2, v3, v4) == False, \"Problem 1.3, Your code said that two linearly dependent vectors were independent\""
   ]
  },
  {
   "cell_type": "markdown",
   "metadata": {
    "deletable": false,
    "editable": false,
    "nbgrader": {
     "checksum": "6a477fc10d8ffea45fadcbbcb34c578c",
     "grade": false,
     "grade_id": "cell-ce5dcd323933b2c5",
     "locked": true,
     "schema_version": 1,
     "solution": false
    }
   },
   "source": [
    "<strong>1.4</strong> \\[2 pt\\] Impliment the function ThreeVec that takes in three 3 dimentional vectors each represented as an array,stacks the arrays vertically (each array is a row in a matrix), and returns a list in which the first element is the rank of the matrix, the second element is the rank of its transpose, the third element is its determinant rounded to two decimal places, the fourth element is the first element of its inverse rounded to two decimal places if its inverse exists and is the string \"no inverse\" if it does not exist.\n",
    "\n",
    "\n",
    "\n"
   ]
  },
  {
   "cell_type": "code",
   "execution_count": 8,
   "metadata": {},
   "outputs": [
    {
     "output_type": "execute_result",
     "data": {
      "text/plain": [
       "0.0"
      ]
     },
     "metadata": {},
     "execution_count": 8
    }
   ],
   "source": [
    "v1=np.array([10,4.4,13])\n",
    "v2=np.array([-5,-3.1,4])\n",
    "v3=np.array([15,5.7,30])\n",
    "A = np.array([v1,v2,v3])\n",
    "A_T = A.transpose()\n",
    "A_det = round(np.linalg.det(A), 2)\n",
    "rank_1 = np.linalg.matrix_rank(A)\n",
    "rank_2 = np.linalg.matrix_rank(A_T)\n",
    "A_det"
   ]
  },
  {
   "cell_type": "code",
   "execution_count": 9,
   "metadata": {
    "deletable": false,
    "nbgrader": {
     "checksum": "f30150c5bffe66c9ec0005c451874cb9",
     "grade": false,
     "grade_id": "cell-d68d4ff3c19a01b8",
     "locked": false,
     "schema_version": 1,
     "solution": true
    }
   },
   "outputs": [],
   "source": [
    "def inverse(matrix):\n",
    "    try:\n",
    "        inv = np.linalg.inv(matrix)\n",
    "        return round(inv[0][0], 2) if np.allclose(np.dot(matrix, inv), np.eye(3)) else \"no inverse\"\n",
    "    except np.linalg.LinAlgError:\n",
    "        return \"no inverse\"\n",
    "\n",
    "def ThreeVec(*args):\n",
    "    A = np.array(args)\n",
    "    A_T = A.transpose()\n",
    "    rank_matrix = np.linalg.matrix_rank(A)\n",
    "    rank_matrixT = np.linalg.matrix_rank(A_T)\n",
    "    det_matrix = round(np.linalg.det(A), 2)\n",
    "\n",
    "    inv = inverse(A)\n",
    "    #YOUR CODE HERE\n",
    "    return [rank_matrix, rank_matrixT, det_matrix, inv]\n",
    "    \n",
    "# YOUR CODE HERE\n",
    "# raise NotImplementedError()\n"
   ]
  },
  {
   "cell_type": "code",
   "execution_count": 10,
   "metadata": {},
   "outputs": [
    {
     "output_type": "execute_result",
     "data": {
      "text/plain": [
       "[2, 2, 0.0, 'no inverse']"
      ]
     },
     "metadata": {},
     "execution_count": 10
    }
   ],
   "source": [
    "ThreeVec(v1, v2, v3)"
   ]
  },
  {
   "cell_type": "code",
   "execution_count": 11,
   "metadata": {
    "deletable": false,
    "editable": false,
    "nbgrader": {
     "checksum": "a0c49744387eea547c6cff93d72cdb42",
     "grade": true,
     "grade_id": "cell-1b83b01be1cc2c59",
     "locked": true,
     "points": 2,
     "schema_version": 1,
     "solution": false
    }
   },
   "outputs": [],
   "source": [
    "v1=np.array([10,4.4,13])\n",
    "v2=np.array([-5,-3.1,4])\n",
    "v3=np.array([15,5.7,30])\n",
    "\n",
    "\n",
    "\n",
    "assert(ThreeVec(v1, v2, v3) == [2, 2, 0.0, 'no inverse']), \"Problem 1.4, Your function does not compute the example correctly.\""
   ]
  },
  {
   "cell_type": "markdown",
   "metadata": {
    "deletable": false,
    "editable": false,
    "nbgrader": {
     "checksum": "f48847c7647a3eb6c28eceec54bae0f0",
     "grade": false,
     "grade_id": "cell-491353b73a7996d6",
     "locked": true,
     "schema_version": 1,
     "solution": false
    }
   },
   "source": [
    "<strong>1.5</strong> [3 pt] Given a matrix $A$ (as an np.array), return a vector $v$ as an np.array with shape $(3, )$ in a way that depends on the injective, surjective, and bijective properties of $A$.  \n",
    "\n",
    "If $A$ it is bijective, return a vector $v$ such that $Av=\\left(\\begin{array}{c} 1 \\\\ 2 \\\\ 1 \\end{array} \\right)$. \n",
    "\n",
    "If $A$ is not bijective because it is not injective, return a vector $v$ (that does not equal $\\left(\\begin{array}{c} 1 \\\\ 1 \\\\ 1 \\end{array} \\right)$) such that $Av= A\\left(\\begin{array}{c} 1 \\\\ 1 \\\\ 1 \\end{array} \\right)$. \n",
    "\n",
    "If $A$ is not bijective because it is not  surjective, return a vector $v$ where the first two coordinate of $v$ are 1 and $v= Ax$ for some vector $x$.  (E.g. $v = \\left(\\begin{array}{c} 1 \\\\ 1 \\\\ z \\end{array} \\right)$ for the correct value of $z$.)\n",
    "\n",
    "Note that for this problem $A$ will always either be surjective or injective.  \n",
    "\n",
    "\n"
   ]
  },
  {
   "cell_type": "markdown",
   "metadata": {
    "deletable": false,
    "editable": false,
    "nbgrader": {
     "checksum": "a7787925372a1eb8a2d0553a0a5766fe",
     "grade": false,
     "grade_id": "cell-2e9331963645ff57",
     "locked": true,
     "schema_version": 1,
     "solution": false
    }
   },
   "source": [
    "(a) `A= np.array([[1,2,3],[2,1,1]])`"
   ]
  },
  {
   "cell_type": "code",
   "execution_count": 9,
   "metadata": {
    "deletable": false,
    "nbgrader": {
     "checksum": "1bfda33c344ce7378c36ba2bc1d171f7",
     "grade": false,
     "grade_id": "cell-8a68552e1d4594c1",
     "locked": false,
     "schema_version": 1,
     "solution": true
    }
   },
   "outputs": [
    {
     "output_type": "execute_result",
     "data": {
      "text/plain": [
       "array([0.75      , 0.66666667, 2.        ])"
      ]
     },
     "metadata": {},
     "execution_count": 9
    }
   ],
   "source": [
    "# n = rank = 2\n",
    "# A is surjective\n",
    "v=np.array([3/4, -2/3, 2])\n",
    "v\n",
    "# YOUR CODE HERE\n",
    "# raise NotImplementedError()"
   ]
  },
  {
   "cell_type": "code",
   "execution_count": null,
   "metadata": {
    "deletable": false,
    "editable": false,
    "nbgrader": {
     "checksum": "8f186cdbc93dff530df643aefc97aa39",
     "grade": true,
     "grade_id": "cell-47dbc27cae300c5c",
     "locked": true,
     "points": 1,
     "schema_version": 1,
     "solution": false
    }
   },
   "outputs": [],
   "source": [
    "#hidden tests for problem 1.5(a) are within this cell"
   ]
  },
  {
   "cell_type": "markdown",
   "metadata": {
    "deletable": false,
    "editable": false,
    "nbgrader": {
     "checksum": "1e65c5bee65f2715bff53a737cc7650a",
     "grade": false,
     "grade_id": "cell-dbab8340b38ab693",
     "locked": true,
     "schema_version": 1,
     "solution": false
    }
   },
   "source": [
    "(b) `A= np.array([[1,2],[3,4],[10,6]])`"
   ]
  },
  {
   "cell_type": "code",
   "execution_count": 13,
   "metadata": {},
   "outputs": [],
   "source": [
    "# A is injective\n",
    "v = np.array([1,1,-4])\n",
    "# YOUR CODE HERE\n",
    "# raise NotImplementedError()"
   ]
  },
  {
   "cell_type": "code",
   "execution_count": null,
   "metadata": {
    "deletable": false,
    "editable": false,
    "nbgrader": {
     "checksum": "d9b073d418c476a9d2caeb2037175651",
     "grade": true,
     "grade_id": "cell-4249336ac3fddd7d",
     "locked": true,
     "points": 1,
     "schema_version": 1,
     "solution": false
    }
   },
   "outputs": [],
   "source": [
    "#hidden tests for problem 1.5(b) are within this cell"
   ]
  },
  {
   "cell_type": "markdown",
   "metadata": {
    "deletable": false,
    "editable": false,
    "nbgrader": {
     "checksum": "945428e5f73b0cda8357ac49f020c4a4",
     "grade": false,
     "grade_id": "cell-2e36a7e831e2d0cc",
     "locked": true,
     "schema_version": 1,
     "solution": false
    }
   },
   "source": [
    "(c) `A= np.array([[1,2,3],[3,4,5],[4,10,6]])`"
   ]
  },
  {
   "cell_type": "code",
   "execution_count": 14,
   "metadata": {
    "deletable": false,
    "nbgrader": {
     "checksum": "03de4b07249f229168b7a05d4a604995",
     "grade": false,
     "grade_id": "cell-13a86a9d6fef18b1",
     "locked": false,
     "schema_version": 1,
     "solution": true
    }
   },
   "outputs": [
    {
     "output_type": "execute_result",
     "data": {
      "text/plain": [
       "array([ 0.4, -0.3,  0.4])"
      ]
     },
     "metadata": {},
     "execution_count": 14
    }
   ],
   "source": [
    "# A is bijective\n",
    "v = np.array([2/5,-3/10,2/5])\n",
    "v\n",
    "\n",
    "# YOUR CODE HERE\n",
    "# raise NotImplementedError()"
   ]
  },
  {
   "cell_type": "code",
   "execution_count": null,
   "metadata": {
    "deletable": false,
    "editable": false,
    "nbgrader": {
     "checksum": "598161a5d21d2fae9324f4bbae7f12d9",
     "grade": true,
     "grade_id": "cell-5a1038ca25889e0b",
     "locked": true,
     "points": 1,
     "schema_version": 1,
     "solution": false
    }
   },
   "outputs": [],
   "source": [
    "#hidden tests for problem 1.5(c) are within this cell"
   ]
  },
  {
   "cell_type": "markdown",
   "metadata": {
    "deletable": false,
    "editable": false,
    "nbgrader": {
     "checksum": "f5397ac573f8e4b248539167e6d1a9c9",
     "grade": false,
     "grade_id": "cell-3d39e13d4a7cc44b",
     "locked": true,
     "schema_version": 1,
     "solution": false
    }
   },
   "source": [
    "## Part 2: Eigenvalue/ Eigenvector\n"
   ]
  },
  {
   "cell_type": "markdown",
   "metadata": {
    "deletable": false,
    "editable": false,
    "nbgrader": {
     "checksum": "df04e56fb998e34ca61238cef92c5669",
     "grade": false,
     "grade_id": "cell-40704c107a135552",
     "locked": true,
     "schema_version": 1,
     "solution": false
    }
   },
   "source": [
    "<strong>2.1</strong> \\[1 pt\\] What is the eigenvalue and eigenvectors of the matrix[[1,3],[2,5]]? Please store the eigenvalues in the variable called <strong>vals</strong>. The datatype for vals should be a numpy array.\n",
    "\n"
   ]
  },
  {
   "cell_type": "code",
   "execution_count": 15,
   "metadata": {
    "deletable": false,
    "nbgrader": {
     "checksum": "16305e8b3dbe5512261883e62ae4e3a8",
     "grade": false,
     "grade_id": "cell-571f59fab4ac61a1",
     "locked": false,
     "schema_version": 1,
     "solution": true
    }
   },
   "outputs": [
    {
     "output_type": "execute_result",
     "data": {
      "text/plain": [
       "array([-0.16227766,  6.16227766])"
      ]
     },
     "metadata": {},
     "execution_count": 15
    }
   ],
   "source": [
    "v1= np.array([[1,3],[2,5]])\n",
    "vals = np.linalg.eigvals(v1)\n",
    "vals\n",
    "# YOUR CODE HERE\n",
    "# raise NotImplementedError()"
   ]
  },
  {
   "cell_type": "code",
   "execution_count": 16,
   "metadata": {
    "deletable": false,
    "editable": false,
    "nbgrader": {
     "checksum": "324c3e2101c4d4fecd90356690b0dac0",
     "grade": true,
     "grade_id": "cell-174c290441138ebc",
     "locked": true,
     "points": 1,
     "schema_version": 1,
     "solution": false
    }
   },
   "outputs": [],
   "source": [
    "#hidden tests for problem 2.1 are within this cell"
   ]
  },
  {
   "cell_type": "markdown",
   "metadata": {},
   "source": [
    "<strong>2.2</strong> \\[1 pt\\] What are the eigenvectors of the matrix [[1,3],[2,5]]? Please store the eigenvectors in a variable called <strong>vecs</strong>. The datatype for vals should be an array.\n",
    "\n"
   ]
  },
  {
   "cell_type": "code",
   "execution_count": 17,
   "metadata": {
    "deletable": false,
    "nbgrader": {
     "checksum": "025bea56b5c4864d56246aa645d3ebbf",
     "grade": false,
     "grade_id": "cell-ae7fca74e80f42d3",
     "locked": false,
     "schema_version": 1,
     "solution": true
    }
   },
   "outputs": [
    {
     "output_type": "execute_result",
     "data": {
      "text/plain": [
       "array([[-0.93246475, -0.50245469],\n",
       "       [ 0.36126098, -0.86460354]])"
      ]
     },
     "metadata": {},
     "execution_count": 17
    }
   ],
   "source": [
    "_, vecs = np.linalg.eig(v1)\n",
    "vecs\n",
    "# YOUR CODE HERE\n",
    "# raise NotImplementedError()"
   ]
  },
  {
   "cell_type": "code",
   "execution_count": 18,
   "metadata": {
    "deletable": false,
    "editable": false,
    "nbgrader": {
     "checksum": "9ba0515a9e16e22610634c0621dcc84d",
     "grade": true,
     "grade_id": "cell-c9c31cdf9a7b77ad",
     "locked": true,
     "points": 1,
     "schema_version": 1,
     "solution": false
    }
   },
   "outputs": [],
   "source": [
    "#hidden tests for problem 2.2 are within this cell"
   ]
  },
  {
   "cell_type": "markdown",
   "metadata": {
    "deletable": false,
    "editable": false,
    "nbgrader": {
     "checksum": "08d9d962857f8705c1cc6b2438e717aa",
     "grade": false,
     "grade_id": "cell-ce5dcd323933b2e5",
     "locked": true,
     "schema_version": 1,
     "solution": false
    }
   },
   "source": [
    "<strong>2.3</strong> \\[2 pt\\] Find a 2 x 2 matrix with integer entries that has 10 and 25 as eigenvalues with eigen vectors $(1, 4)$ and $(1, -1)$ respectively.  Record it as an array in $ANS23$ with integer entries.  Hint: Put variables for entries in a 2 x 2 array, write out the equations that must be satisfied, and solve."
   ]
  },
  {
   "cell_type": "code",
   "execution_count": 19,
   "metadata": {
    "deletable": false,
    "nbgrader": {
     "checksum": "1e8eb8b492349db1b2f39d845df39f29",
     "grade": false,
     "grade_id": "cell-d68d4ff3c19a01b7",
     "locked": false,
     "schema_version": 1,
     "solution": true
    }
   },
   "outputs": [],
   "source": [
    "ANS23 = np.array([[22, -3], [-12, 13]])\n",
    "   \n",
    "\n",
    "# YOUR CODE HERE\n",
    "# raise NotImplementedError()\n"
   ]
  },
  {
   "cell_type": "code",
   "execution_count": 20,
   "metadata": {
    "deletable": false,
    "editable": false,
    "nbgrader": {
     "checksum": "5a3d8beb668c2cce863f921ed996fdce",
     "grade": true,
     "grade_id": "cell-1b83b01be1cc2c69",
     "locked": true,
     "points": 2,
     "schema_version": 1,
     "solution": false
    }
   },
   "outputs": [],
   "source": [
    "assert type(ANS23) == np.ndarray, \"Problem 2.3, Your answer should be an array\"\n",
    "assert ANS23.shape == (2, 2), \"Problem 2.3, Your array should be dimension 2 x 2\"\n",
    "\n",
    "assert np.isclose(ANS23 @ np.array([1, 4]), np.array([10, 40])).all(), \"Problem 2.3, Your array should have [1, 4] as an eigenvector with eigenvalue 10\"\n"
   ]
  },
  {
   "cell_type": "markdown",
   "metadata": {
    "deletable": false,
    "editable": false,
    "nbgrader": {
     "checksum": "b06d55e1c29f85d46a4cc5ae2fdce8e8",
     "grade": false,
     "grade_id": "cell-e444000ecd9d564f",
     "locked": true,
     "schema_version": 1,
     "solution": false
    }
   },
   "source": [
    "**2.4** [2 pt] Use the txt files loaded at the start of this assignment to find the principal components of the Senate dataset and to make a scatterplot with PC1 on the x-axis and PC2 on the y-axis (i.e. a senator's location on the scatterplot is his/her (PC1 loading, PC2 loading)), and where each senator's dot is the color of his political party. "
   ]
  },
  {
   "cell_type": "code",
   "execution_count": 21,
   "metadata": {
    "deletable": false,
    "nbgrader": {
     "checksum": "dc57f1089038eb070a7370a3565c568d",
     "grade": false,
     "grade_id": "cell-7083c1546fc06d26",
     "locked": false,
     "schema_version": 1,
     "solution": true
    }
   },
   "outputs": [],
   "source": [
    "#Use \"iloc\" to remove the first three columns from the Senate dataset\n",
    "Senate = Senate.iloc[:,3:]\n",
    "#Use the sklearn \"PCA\" package loaded at the start of this assignment to find the first 5 eigenvectors and eigenvalues\n",
    "res=PCA()\n",
    "pca_senators=res.fit_transform(Senate)\n",
    "# Senate has first 3 columns remove\n",
    "\n",
    "eig_vals= res.explained_variance_[0:5]\n",
    "eig_vecs= res.components_[0:5]\n",
    "\n",
    "# YOUR CODE HERE\n",
    "# raise NotImplementedError()"
   ]
  },
  {
   "cell_type": "code",
   "execution_count": 22,
   "metadata": {
    "deletable": false,
    "editable": false,
    "nbgrader": {
     "checksum": "81c5d76f26c1946209666204afbcaae4",
     "grade": true,
     "grade_id": "cell-7fdaebc51aded0de",
     "locked": true,
     "points": 2,
     "schema_version": 1,
     "solution": false
    }
   },
   "outputs": [],
   "source": [
    "#hidden tests for problem 2.4 are within this cell"
   ]
  },
  {
   "cell_type": "code",
   "execution_count": 23,
   "metadata": {
    "deletable": false,
    "editable": false,
    "nbgrader": {
     "checksum": "129195d1ec4994925e1b1a6f63724ee0",
     "grade": false,
     "grade_id": "cell-b834e91d7d38a605",
     "locked": true,
     "schema_version": 1,
     "solution": false
    }
   },
   "outputs": [
    {
     "output_type": "display_data",
     "data": {
      "text/plain": "<Figure size 432x288 with 1 Axes>",
      "image/svg+xml": "<?xml version=\"1.0\" encoding=\"utf-8\" standalone=\"no\"?>\r\n<!DOCTYPE svg PUBLIC \"-//W3C//DTD SVG 1.1//EN\"\r\n  \"http://www.w3.org/Graphics/SVG/1.1/DTD/svg11.dtd\">\r\n<!-- Created with matplotlib (https://matplotlib.org/) -->\r\n<svg height=\"262.19625pt\" version=\"1.1\" viewBox=\"0 0 424.244687 262.19625\" width=\"424.244687pt\" xmlns=\"http://www.w3.org/2000/svg\" xmlns:xlink=\"http://www.w3.org/1999/xlink\">\r\n <metadata>\r\n  <rdf:RDF xmlns:cc=\"http://creativecommons.org/ns#\" xmlns:dc=\"http://purl.org/dc/elements/1.1/\" xmlns:rdf=\"http://www.w3.org/1999/02/22-rdf-syntax-ns#\">\r\n   <cc:Work>\r\n    <dc:type rdf:resource=\"http://purl.org/dc/dcmitype/StillImage\"/>\r\n    <dc:date>2021-02-10T23:15:50.515676</dc:date>\r\n    <dc:format>image/svg+xml</dc:format>\r\n    <dc:creator>\r\n     <cc:Agent>\r\n      <dc:title>Matplotlib v3.3.2, https://matplotlib.org/</dc:title>\r\n     </cc:Agent>\r\n    </dc:creator>\r\n   </cc:Work>\r\n  </rdf:RDF>\r\n </metadata>\r\n <defs>\r\n  <style type=\"text/css\">*{stroke-linecap:butt;stroke-linejoin:round;}</style>\r\n </defs>\r\n <g id=\"figure_1\">\r\n  <g id=\"patch_1\">\r\n   <path d=\"M 0 262.19625 \r\nL 424.244687 262.19625 \r\nL 424.244687 0 \r\nL 0 0 \r\nz\r\n\" style=\"fill:none;\"/>\r\n  </g>\r\n  <g id=\"axes_1\">\r\n   <g id=\"patch_2\">\r\n    <path d=\"M 58.523438 224.64 \r\nL 393.323438 224.64 \r\nL 393.323438 7.2 \r\nL 58.523438 7.2 \r\nz\r\n\" style=\"fill:#ffffff;\"/>\r\n   </g>\r\n   <g id=\"PathCollection_1\">\r\n    <defs>\r\n     <path d=\"M 0 3 \r\nC 0.795609 3 1.55874 2.683901 2.12132 2.12132 \r\nC 2.683901 1.55874 3 0.795609 3 -0 \r\nC 3 -0.795609 2.683901 -1.55874 2.12132 -2.12132 \r\nC 1.55874 -2.683901 0.795609 -3 0 -3 \r\nC -0.795609 -3 -1.55874 -2.683901 -2.12132 -2.12132 \r\nC -2.683901 -1.55874 -3 -0.795609 -3 0 \r\nC -3 0.795609 -2.683901 1.55874 -2.12132 2.12132 \r\nC -1.55874 2.683901 -0.795609 3 0 3 \r\nz\r\n\" id=\"C0_0_e854af33e9\"/>\r\n    </defs>\r\n    <g clip-path=\"url(#p7b52cb16d7)\">\r\n     <use style=\"fill:#ff0000;stroke:#ff0000;\" x=\"199.81806\" xlink:href=\"#C0_0_e854af33e9\" y=\"168.116792\"/>\r\n    </g>\r\n    <g clip-path=\"url(#p7b52cb16d7)\">\r\n     <use style=\"fill:#0000ff;stroke:#0000ff;\" x=\"278.34965\" xlink:href=\"#C0_0_e854af33e9\" y=\"35.832662\"/>\r\n    </g>\r\n    <g clip-path=\"url(#p7b52cb16d7)\">\r\n     <use style=\"fill:#0000ff;stroke:#0000ff;\" x=\"335.148163\" xlink:href=\"#C0_0_e854af33e9\" y=\"214.756364\"/>\r\n    </g>\r\n    <g clip-path=\"url(#p7b52cb16d7)\">\r\n     <use style=\"fill:#0000ff;stroke:#0000ff;\" x=\"341.508187\" xlink:href=\"#C0_0_e854af33e9\" y=\"177.268248\"/>\r\n    </g>\r\n    <g clip-path=\"url(#p7b52cb16d7)\">\r\n     <use style=\"fill:#0000ff;stroke:#0000ff;\" x=\"270.539988\" xlink:href=\"#C0_0_e854af33e9\" y=\"119.436622\"/>\r\n    </g>\r\n    <g clip-path=\"url(#p7b52cb16d7)\">\r\n     <use style=\"fill:#0000ff;stroke:#0000ff;\" x=\"289.298557\" xlink:href=\"#C0_0_e854af33e9\" y=\"144.42898\"/>\r\n    </g>\r\n    <g clip-path=\"url(#p7b52cb16d7)\">\r\n     <use style=\"fill:#0000ff;stroke:#0000ff;\" x=\"318.851637\" xlink:href=\"#C0_0_e854af33e9\" y=\"206.168682\"/>\r\n    </g>\r\n    <g clip-path=\"url(#p7b52cb16d7)\">\r\n     <use style=\"fill:#ff0000;stroke:#ff0000;\" x=\"164.008983\" xlink:href=\"#C0_0_e854af33e9\" y=\"128.829567\"/>\r\n    </g>\r\n    <g clip-path=\"url(#p7b52cb16d7)\">\r\n     <use style=\"fill:#0000ff;stroke:#0000ff;\" x=\"337.108187\" xlink:href=\"#C0_0_e854af33e9\" y=\"205.758787\"/>\r\n    </g>\r\n    <g clip-path=\"url(#p7b52cb16d7)\">\r\n     <use style=\"fill:#ff0000;stroke:#ff0000;\" x=\"117.588692\" xlink:href=\"#C0_0_e854af33e9\" y=\"174.549123\"/>\r\n    </g>\r\n    <g clip-path=\"url(#p7b52cb16d7)\">\r\n     <use style=\"fill:#0000ff;stroke:#0000ff;\" x=\"305.427165\" xlink:href=\"#C0_0_e854af33e9\" y=\"142.963668\"/>\r\n    </g>\r\n    <g clip-path=\"url(#p7b52cb16d7)\">\r\n     <use style=\"fill:#ff0000;stroke:#ff0000;\" x=\"138.9716\" xlink:href=\"#C0_0_e854af33e9\" y=\"180.019819\"/>\r\n    </g>\r\n    <g clip-path=\"url(#p7b52cb16d7)\">\r\n     <use style=\"fill:#0000ff;stroke:#0000ff;\" x=\"335.483696\" xlink:href=\"#C0_0_e854af33e9\" y=\"205.615092\"/>\r\n    </g>\r\n    <g clip-path=\"url(#p7b52cb16d7)\">\r\n     <use style=\"fill:#ff0000;stroke:#ff0000;\" x=\"126.697395\" xlink:href=\"#C0_0_e854af33e9\" y=\"187.884136\"/>\r\n    </g>\r\n    <g clip-path=\"url(#p7b52cb16d7)\">\r\n     <use style=\"fill:#ff0000;stroke:#ff0000;\" x=\"120.306786\" xlink:href=\"#C0_0_e854af33e9\" y=\"172.239133\"/>\r\n    </g>\r\n    <g clip-path=\"url(#p7b52cb16d7)\">\r\n     <use style=\"fill:#ff0000;stroke:#ff0000;\" x=\"116.388324\" xlink:href=\"#C0_0_e854af33e9\" y=\"161.267003\"/>\r\n    </g>\r\n    <g clip-path=\"url(#p7b52cb16d7)\">\r\n     <use style=\"fill:#0000ff;stroke:#0000ff;\" x=\"316.442001\" xlink:href=\"#C0_0_e854af33e9\" y=\"186.114288\"/>\r\n    </g>\r\n    <g clip-path=\"url(#p7b52cb16d7)\">\r\n     <use style=\"fill:#0000ff;stroke:#0000ff;\" x=\"332.06663\" xlink:href=\"#C0_0_e854af33e9\" y=\"194.943759\"/>\r\n    </g>\r\n    <g clip-path=\"url(#p7b52cb16d7)\">\r\n     <use style=\"fill:#ff0000;stroke:#ff0000;\" x=\"175.111143\" xlink:href=\"#C0_0_e854af33e9\" y=\"86.520671\"/>\r\n    </g>\r\n    <g clip-path=\"url(#p7b52cb16d7)\">\r\n     <use style=\"fill:#0000ff;stroke:#0000ff;\" x=\"285.753037\" xlink:href=\"#C0_0_e854af33e9\" y=\"111.785957\"/>\r\n    </g>\r\n    <g clip-path=\"url(#p7b52cb16d7)\">\r\n     <use style=\"fill:#0000ff;stroke:#0000ff;\" x=\"320.592905\" xlink:href=\"#C0_0_e854af33e9\" y=\"187.76089\"/>\r\n    </g>\r\n    <g clip-path=\"url(#p7b52cb16d7)\">\r\n     <use style=\"fill:#0000ff;stroke:#0000ff;\" x=\"218.867357\" xlink:href=\"#C0_0_e854af33e9\" y=\"131.161961\"/>\r\n    </g>\r\n    <g clip-path=\"url(#p7b52cb16d7)\">\r\n     <use style=\"fill:#0000ff;stroke:#0000ff;\" x=\"345.001644\" xlink:href=\"#C0_0_e854af33e9\" y=\"174.825613\"/>\r\n    </g>\r\n    <g clip-path=\"url(#p7b52cb16d7)\">\r\n     <use style=\"fill:#ff0000;stroke:#ff0000;\" x=\"167.067136\" xlink:href=\"#C0_0_e854af33e9\" y=\"125.653702\"/>\r\n    </g>\r\n    <g clip-path=\"url(#p7b52cb16d7)\">\r\n     <use style=\"fill:#0000ff;stroke:#0000ff;\" x=\"294.542694\" xlink:href=\"#C0_0_e854af33e9\" y=\"123.433383\"/>\r\n    </g>\r\n    <g clip-path=\"url(#p7b52cb16d7)\">\r\n     <use style=\"fill:#0000ff;stroke:#0000ff;\" x=\"336.967777\" xlink:href=\"#C0_0_e854af33e9\" y=\"160.189206\"/>\r\n    </g>\r\n    <g clip-path=\"url(#p7b52cb16d7)\">\r\n     <use style=\"fill:#ff0000;stroke:#ff0000;\" x=\"161.735685\" xlink:href=\"#C0_0_e854af33e9\" y=\"153.128069\"/>\r\n    </g>\r\n    <g clip-path=\"url(#p7b52cb16d7)\">\r\n     <use style=\"fill:#ff0000;stroke:#ff0000;\" x=\"170.352839\" xlink:href=\"#C0_0_e854af33e9\" y=\"154.330611\"/>\r\n    </g>\r\n    <g clip-path=\"url(#p7b52cb16d7)\">\r\n     <use style=\"fill:#ff0000;stroke:#ff0000;\" x=\"163.723709\" xlink:href=\"#C0_0_e854af33e9\" y=\"184.22965\"/>\r\n    </g>\r\n    <g clip-path=\"url(#p7b52cb16d7)\">\r\n     <use style=\"fill:#0000ff;stroke:#0000ff;\" x=\"315.158354\" xlink:href=\"#C0_0_e854af33e9\" y=\"197.729648\"/>\r\n    </g>\r\n    <g clip-path=\"url(#p7b52cb16d7)\">\r\n     <use style=\"fill:#0000ff;stroke:#0000ff;\" x=\"319.000642\" xlink:href=\"#C0_0_e854af33e9\" y=\"187.143808\"/>\r\n    </g>\r\n    <g clip-path=\"url(#p7b52cb16d7)\">\r\n     <use style=\"fill:#0000ff;stroke:#0000ff;\" x=\"289.966919\" xlink:href=\"#C0_0_e854af33e9\" y=\"107.560655\"/>\r\n    </g>\r\n    <g clip-path=\"url(#p7b52cb16d7)\">\r\n     <use style=\"fill:#ff0000;stroke:#ff0000;\" x=\"116.143565\" xlink:href=\"#C0_0_e854af33e9\" y=\"138.673465\"/>\r\n    </g>\r\n    <g clip-path=\"url(#p7b52cb16d7)\">\r\n     <use style=\"fill:#ff0000;stroke:#ff0000;\" x=\"176.033994\" xlink:href=\"#C0_0_e854af33e9\" y=\"120.7875\"/>\r\n    </g>\r\n    <g clip-path=\"url(#p7b52cb16d7)\">\r\n     <use style=\"fill:#ffff00;stroke:#ffff00;\" x=\"283.79861\" xlink:href=\"#C0_0_e854af33e9\" y=\"124.549265\"/>\r\n    </g>\r\n    <g clip-path=\"url(#p7b52cb16d7)\">\r\n     <use style=\"fill:#0000ff;stroke:#0000ff;\" x=\"326.075655\" xlink:href=\"#C0_0_e854af33e9\" y=\"214.240264\"/>\r\n    </g>\r\n    <g clip-path=\"url(#p7b52cb16d7)\">\r\n     <use style=\"fill:#ff0000;stroke:#ff0000;\" x=\"126.89901\" xlink:href=\"#C0_0_e854af33e9\" y=\"161.476076\"/>\r\n    </g>\r\n    <g clip-path=\"url(#p7b52cb16d7)\">\r\n     <use style=\"fill:#ff0000;stroke:#ff0000;\" x=\"140.969318\" xlink:href=\"#C0_0_e854af33e9\" y=\"141.565088\"/>\r\n    </g>\r\n    <g clip-path=\"url(#p7b52cb16d7)\">\r\n     <use style=\"fill:#ff0000;stroke:#ff0000;\" x=\"169.989023\" xlink:href=\"#C0_0_e854af33e9\" y=\"82.98339\"/>\r\n    </g>\r\n    <g clip-path=\"url(#p7b52cb16d7)\">\r\n     <use style=\"fill:#ff0000;stroke:#ff0000;\" x=\"165.683641\" xlink:href=\"#C0_0_e854af33e9\" y=\"125.958252\"/>\r\n    </g>\r\n    <g clip-path=\"url(#p7b52cb16d7)\">\r\n     <use style=\"fill:#0000ff;stroke:#0000ff;\" x=\"321.377422\" xlink:href=\"#C0_0_e854af33e9\" y=\"198.777041\"/>\r\n    </g>\r\n    <g clip-path=\"url(#p7b52cb16d7)\">\r\n     <use style=\"fill:#ff0000;stroke:#ff0000;\" x=\"173.269847\" xlink:href=\"#C0_0_e854af33e9\" y=\"107.691379\"/>\r\n    </g>\r\n    <g clip-path=\"url(#p7b52cb16d7)\">\r\n     <use style=\"fill:#ff0000;stroke:#ff0000;\" x=\"162.998479\" xlink:href=\"#C0_0_e854af33e9\" y=\"128.424599\"/>\r\n    </g>\r\n    <g clip-path=\"url(#p7b52cb16d7)\">\r\n     <use style=\"fill:#0000ff;stroke:#0000ff;\" x=\"329.130069\" xlink:href=\"#C0_0_e854af33e9\" y=\"165.639646\"/>\r\n    </g>\r\n    <g clip-path=\"url(#p7b52cb16d7)\">\r\n     <use style=\"fill:#0000ff;stroke:#0000ff;\" x=\"335.001378\" xlink:href=\"#C0_0_e854af33e9\" y=\"153.208855\"/>\r\n    </g>\r\n    <g clip-path=\"url(#p7b52cb16d7)\">\r\n     <use style=\"fill:#ff0000;stroke:#ff0000;\" x=\"169.655754\" xlink:href=\"#C0_0_e854af33e9\" y=\"86.092939\"/>\r\n    </g>\r\n    <g clip-path=\"url(#p7b52cb16d7)\">\r\n     <use style=\"fill:#ff0000;stroke:#ff0000;\" x=\"175.583293\" xlink:href=\"#C0_0_e854af33e9\" y=\"82.75828\"/>\r\n    </g>\r\n    <g clip-path=\"url(#p7b52cb16d7)\">\r\n     <use style=\"fill:#ff0000;stroke:#ff0000;\" x=\"160.310123\" xlink:href=\"#C0_0_e854af33e9\" y=\"124.50239\"/>\r\n    </g>\r\n    <g clip-path=\"url(#p7b52cb16d7)\">\r\n     <use style=\"fill:#ff0000;stroke:#ff0000;\" x=\"137.617548\" xlink:href=\"#C0_0_e854af33e9\" y=\"184.023576\"/>\r\n    </g>\r\n    <g clip-path=\"url(#p7b52cb16d7)\">\r\n     <use style=\"fill:#ff0000;stroke:#ff0000;\" x=\"112.936799\" xlink:href=\"#C0_0_e854af33e9\" y=\"123.843949\"/>\r\n    </g>\r\n    <g clip-path=\"url(#p7b52cb16d7)\">\r\n     <use style=\"fill:#0000ff;stroke:#0000ff;\" x=\"315.641942\" xlink:href=\"#C0_0_e854af33e9\" y=\"177.825067\"/>\r\n    </g>\r\n    <g clip-path=\"url(#p7b52cb16d7)\">\r\n     <use style=\"fill:#0000ff;stroke:#0000ff;\" x=\"326.948115\" xlink:href=\"#C0_0_e854af33e9\" y=\"195.025238\"/>\r\n    </g>\r\n    <g clip-path=\"url(#p7b52cb16d7)\">\r\n     <use style=\"fill:#ff0000;stroke:#ff0000;\" x=\"125.157078\" xlink:href=\"#C0_0_e854af33e9\" y=\"162.895613\"/>\r\n    </g>\r\n    <g clip-path=\"url(#p7b52cb16d7)\">\r\n     <use style=\"fill:#ff0000;stroke:#ff0000;\" x=\"126.66493\" xlink:href=\"#C0_0_e854af33e9\" y=\"163.391751\"/>\r\n    </g>\r\n    <g clip-path=\"url(#p7b52cb16d7)\">\r\n     <use style=\"fill:#0000ff;stroke:#0000ff;\" x=\"268.003284\" xlink:href=\"#C0_0_e854af33e9\" y=\"39.596509\"/>\r\n    </g>\r\n    <g clip-path=\"url(#p7b52cb16d7)\">\r\n     <use style=\"fill:#0000ff;stroke:#0000ff;\" x=\"307.700323\" xlink:href=\"#C0_0_e854af33e9\" y=\"192.887232\"/>\r\n    </g>\r\n    <g clip-path=\"url(#p7b52cb16d7)\">\r\n     <use style=\"fill:#ff0000;stroke:#ff0000;\" x=\"166.451133\" xlink:href=\"#C0_0_e854af33e9\" y=\"122.126815\"/>\r\n    </g>\r\n    <g clip-path=\"url(#p7b52cb16d7)\">\r\n     <use style=\"fill:#ff0000;stroke:#ff0000;\" x=\"118.795755\" xlink:href=\"#C0_0_e854af33e9\" y=\"172.180756\"/>\r\n    </g>\r\n    <g clip-path=\"url(#p7b52cb16d7)\">\r\n     <use style=\"fill:#ff0000;stroke:#ff0000;\" x=\"255.330705\" xlink:href=\"#C0_0_e854af33e9\" y=\"137.91223\"/>\r\n    </g>\r\n    <g clip-path=\"url(#p7b52cb16d7)\">\r\n     <use style=\"fill:#ff0000;stroke:#ff0000;\" x=\"171.362282\" xlink:href=\"#C0_0_e854af33e9\" y=\"128.482662\"/>\r\n    </g>\r\n    <g clip-path=\"url(#p7b52cb16d7)\">\r\n     <use style=\"fill:#ff0000;stroke:#ff0000;\" x=\"170.244122\" xlink:href=\"#C0_0_e854af33e9\" y=\"129.301739\"/>\r\n    </g>\r\n    <g clip-path=\"url(#p7b52cb16d7)\">\r\n     <use style=\"fill:#0000ff;stroke:#0000ff;\" x=\"285.521816\" xlink:href=\"#C0_0_e854af33e9\" y=\"117.608983\"/>\r\n    </g>\r\n    <g clip-path=\"url(#p7b52cb16d7)\">\r\n     <use style=\"fill:#ffff00;stroke:#ffff00;\" x=\"292.414505\" xlink:href=\"#C0_0_e854af33e9\" y=\"103.472912\"/>\r\n    </g>\r\n    <g clip-path=\"url(#p7b52cb16d7)\">\r\n     <use style=\"fill:#0000ff;stroke:#0000ff;\" x=\"264.412683\" xlink:href=\"#C0_0_e854af33e9\" y=\"84.332381\"/>\r\n    </g>\r\n    <g clip-path=\"url(#p7b52cb16d7)\">\r\n     <use style=\"fill:#0000ff;stroke:#0000ff;\" x=\"281.168755\" xlink:href=\"#C0_0_e854af33e9\" y=\"178.347676\"/>\r\n    </g>\r\n    <g clip-path=\"url(#p7b52cb16d7)\">\r\n     <use style=\"fill:#0000ff;stroke:#0000ff;\" x=\"300.95513\" xlink:href=\"#C0_0_e854af33e9\" y=\"209.550585\"/>\r\n    </g>\r\n    <g clip-path=\"url(#p7b52cb16d7)\">\r\n     <use style=\"fill:#ff0000;stroke:#ff0000;\" x=\"175.19659\" xlink:href=\"#C0_0_e854af33e9\" y=\"83.164753\"/>\r\n    </g>\r\n    <g clip-path=\"url(#p7b52cb16d7)\">\r\n     <use style=\"fill:#ff0000;stroke:#ff0000;\" x=\"128.687316\" xlink:href=\"#C0_0_e854af33e9\" y=\"169.202465\"/>\r\n    </g>\r\n    <g clip-path=\"url(#p7b52cb16d7)\">\r\n     <use style=\"fill:#ff0000;stroke:#ff0000;\" x=\"145.218689\" xlink:href=\"#C0_0_e854af33e9\" y=\"168.480192\"/>\r\n    </g>\r\n    <g clip-path=\"url(#p7b52cb16d7)\">\r\n     <use style=\"fill:#ff0000;stroke:#ff0000;\" x=\"164.751428\" xlink:href=\"#C0_0_e854af33e9\" y=\"162.402997\"/>\r\n    </g>\r\n    <g clip-path=\"url(#p7b52cb16d7)\">\r\n     <use style=\"fill:#ff0000;stroke:#ff0000;\" x=\"119.964301\" xlink:href=\"#C0_0_e854af33e9\" y=\"179.342847\"/>\r\n    </g>\r\n    <g clip-path=\"url(#p7b52cb16d7)\">\r\n     <use style=\"fill:#ff0000;stroke:#ff0000;\" x=\"191.541384\" xlink:href=\"#C0_0_e854af33e9\" y=\"118.751898\"/>\r\n    </g>\r\n    <g clip-path=\"url(#p7b52cb16d7)\">\r\n     <use style=\"fill:#ff0000;stroke:#ff0000;\" x=\"218.317584\" xlink:href=\"#C0_0_e854af33e9\" y=\"168.131814\"/>\r\n    </g>\r\n    <g clip-path=\"url(#p7b52cb16d7)\">\r\n     <use style=\"fill:#ff0000;stroke:#ff0000;\" x=\"121.362924\" xlink:href=\"#C0_0_e854af33e9\" y=\"172.752368\"/>\r\n    </g>\r\n    <g clip-path=\"url(#p7b52cb16d7)\">\r\n     <use style=\"fill:#ff0000;stroke:#ff0000;\" x=\"133.550004\" xlink:href=\"#C0_0_e854af33e9\" y=\"184.901636\"/>\r\n    </g>\r\n    <g clip-path=\"url(#p7b52cb16d7)\">\r\n     <use style=\"fill:#0000ff;stroke:#0000ff;\" x=\"332.060532\" xlink:href=\"#C0_0_e854af33e9\" y=\"175.285223\"/>\r\n    </g>\r\n    <g clip-path=\"url(#p7b52cb16d7)\">\r\n     <use style=\"fill:#0000ff;stroke:#0000ff;\" x=\"330.8318\" xlink:href=\"#C0_0_e854af33e9\" y=\"204.28685\"/>\r\n    </g>\r\n    <g clip-path=\"url(#p7b52cb16d7)\">\r\n     <use style=\"fill:#0000ff;stroke:#0000ff;\" x=\"344.886226\" xlink:href=\"#C0_0_e854af33e9\" y=\"199.461163\"/>\r\n    </g>\r\n    <g clip-path=\"url(#p7b52cb16d7)\">\r\n     <use style=\"fill:#ff0000;stroke:#ff0000;\" x=\"131.920721\" xlink:href=\"#C0_0_e854af33e9\" y=\"179.976259\"/>\r\n    </g>\r\n    <g clip-path=\"url(#p7b52cb16d7)\">\r\n     <use style=\"fill:#ff0000;stroke:#ff0000;\" x=\"124.042667\" xlink:href=\"#C0_0_e854af33e9\" y=\"184.998307\"/>\r\n    </g>\r\n    <g clip-path=\"url(#p7b52cb16d7)\">\r\n     <use style=\"fill:#ff0000;stroke:#ff0000;\" x=\"137.845791\" xlink:href=\"#C0_0_e854af33e9\" y=\"164.765257\"/>\r\n    </g>\r\n    <g clip-path=\"url(#p7b52cb16d7)\">\r\n     <use style=\"fill:#0000ff;stroke:#0000ff;\" x=\"326.247314\" xlink:href=\"#C0_0_e854af33e9\" y=\"172.966254\"/>\r\n    </g>\r\n    <g clip-path=\"url(#p7b52cb16d7)\">\r\n     <use style=\"fill:#ff0000;stroke:#ff0000;\" x=\"123.969432\" xlink:href=\"#C0_0_e854af33e9\" y=\"165.771964\"/>\r\n    </g>\r\n    <g clip-path=\"url(#p7b52cb16d7)\">\r\n     <use style=\"fill:#ff0000;stroke:#ff0000;\" x=\"173.171234\" xlink:href=\"#C0_0_e854af33e9\" y=\"88.161056\"/>\r\n    </g>\r\n    <g clip-path=\"url(#p7b52cb16d7)\">\r\n     <use style=\"fill:#0000ff;stroke:#0000ff;\" x=\"310.351317\" xlink:href=\"#C0_0_e854af33e9\" y=\"174.708028\"/>\r\n    </g>\r\n    <g clip-path=\"url(#p7b52cb16d7)\">\r\n     <use style=\"fill:#ff0000;stroke:#ff0000;\" x=\"123.655192\" xlink:href=\"#C0_0_e854af33e9\" y=\"178.956663\"/>\r\n    </g>\r\n    <g clip-path=\"url(#p7b52cb16d7)\">\r\n     <use style=\"fill:#0000ff;stroke:#0000ff;\" x=\"244.061387\" xlink:href=\"#C0_0_e854af33e9\" y=\"17.083636\"/>\r\n    </g>\r\n    <g clip-path=\"url(#p7b52cb16d7)\">\r\n     <use style=\"fill:#0000ff;stroke:#0000ff;\" x=\"325.250705\" xlink:href=\"#C0_0_e854af33e9\" y=\"181.702157\"/>\r\n    </g>\r\n    <g clip-path=\"url(#p7b52cb16d7)\">\r\n     <use style=\"fill:#0000ff;stroke:#0000ff;\" x=\"332.63471\" xlink:href=\"#C0_0_e854af33e9\" y=\"128.559956\"/>\r\n    </g>\r\n    <g clip-path=\"url(#p7b52cb16d7)\">\r\n     <use style=\"fill:#ff0000;stroke:#ff0000;\" x=\"133.107856\" xlink:href=\"#C0_0_e854af33e9\" y=\"167.838828\"/>\r\n    </g>\r\n    <g clip-path=\"url(#p7b52cb16d7)\">\r\n     <use style=\"fill:#ff0000;stroke:#ff0000;\" x=\"211.022839\" xlink:href=\"#C0_0_e854af33e9\" y=\"184.129514\"/>\r\n    </g>\r\n    <g clip-path=\"url(#p7b52cb16d7)\">\r\n     <use style=\"fill:#ff0000;stroke:#ff0000;\" x=\"134.413653\" xlink:href=\"#C0_0_e854af33e9\" y=\"181.89402\"/>\r\n    </g>\r\n    <g clip-path=\"url(#p7b52cb16d7)\">\r\n     <use style=\"fill:#ff0000;stroke:#ff0000;\" x=\"125.584884\" xlink:href=\"#C0_0_e854af33e9\" y=\"191.174151\"/>\r\n    </g>\r\n    <g clip-path=\"url(#p7b52cb16d7)\">\r\n     <use style=\"fill:#ff0000;stroke:#ff0000;\" x=\"177.565156\" xlink:href=\"#C0_0_e854af33e9\" y=\"66.408299\"/>\r\n    </g>\r\n    <g clip-path=\"url(#p7b52cb16d7)\">\r\n     <use style=\"fill:#0000ff;stroke:#0000ff;\" x=\"277.412969\" xlink:href=\"#C0_0_e854af33e9\" y=\"122.039202\"/>\r\n    </g>\r\n    <g clip-path=\"url(#p7b52cb16d7)\">\r\n     <use style=\"fill:#0000ff;stroke:#0000ff;\" x=\"337.115232\" xlink:href=\"#C0_0_e854af33e9\" y=\"175.048103\"/>\r\n    </g>\r\n    <g clip-path=\"url(#p7b52cb16d7)\">\r\n     <use style=\"fill:#0000ff;stroke:#0000ff;\" x=\"306.892093\" xlink:href=\"#C0_0_e854af33e9\" y=\"182.689388\"/>\r\n    </g>\r\n    <g clip-path=\"url(#p7b52cb16d7)\">\r\n     <use style=\"fill:#ff0000;stroke:#ff0000;\" x=\"122.861294\" xlink:href=\"#C0_0_e854af33e9\" y=\"178.038248\"/>\r\n    </g>\r\n    <g clip-path=\"url(#p7b52cb16d7)\">\r\n     <use style=\"fill:#ff0000;stroke:#ff0000;\" x=\"128.814594\" xlink:href=\"#C0_0_e854af33e9\" y=\"170.29415\"/>\r\n    </g>\r\n    <g clip-path=\"url(#p7b52cb16d7)\">\r\n     <use style=\"fill:#ff0000;stroke:#ff0000;\" x=\"123.304185\" xlink:href=\"#C0_0_e854af33e9\" y=\"181.391255\"/>\r\n    </g>\r\n   </g>\r\n   <g id=\"matplotlib.axis_1\">\r\n    <g id=\"xtick_1\">\r\n     <g id=\"line2d_1\">\r\n      <defs>\r\n       <path d=\"M 0 0 \r\nL 0 3.5 \r\n\" id=\"m13cb931f72\" style=\"stroke:#000000;stroke-width:0.8;\"/>\r\n      </defs>\r\n      <g>\r\n       <use style=\"stroke:#000000;stroke-width:0.8;\" x=\"58.523438\" xlink:href=\"#m13cb931f72\" y=\"224.64\"/>\r\n      </g>\r\n     </g>\r\n     <g id=\"text_1\">\r\n      <!-- −0.20 -->\r\n      <g transform=\"translate(43.200781 239.238438)scale(0.1 -0.1)\">\r\n       <defs>\r\n        <path d=\"M 10.59375 35.5 \r\nL 73.1875 35.5 \r\nL 73.1875 27.203125 \r\nL 10.59375 27.203125 \r\nz\r\n\" id=\"DejaVuSans-8722\"/>\r\n        <path d=\"M 31.78125 66.40625 \r\nQ 24.171875 66.40625 20.328125 58.90625 \r\nQ 16.5 51.421875 16.5 36.375 \r\nQ 16.5 21.390625 20.328125 13.890625 \r\nQ 24.171875 6.390625 31.78125 6.390625 \r\nQ 39.453125 6.390625 43.28125 13.890625 \r\nQ 47.125 21.390625 47.125 36.375 \r\nQ 47.125 51.421875 43.28125 58.90625 \r\nQ 39.453125 66.40625 31.78125 66.40625 \r\nz\r\nM 31.78125 74.21875 \r\nQ 44.046875 74.21875 50.515625 64.515625 \r\nQ 56.984375 54.828125 56.984375 36.375 \r\nQ 56.984375 17.96875 50.515625 8.265625 \r\nQ 44.046875 -1.421875 31.78125 -1.421875 \r\nQ 19.53125 -1.421875 13.0625 8.265625 \r\nQ 6.59375 17.96875 6.59375 36.375 \r\nQ 6.59375 54.828125 13.0625 64.515625 \r\nQ 19.53125 74.21875 31.78125 74.21875 \r\nz\r\n\" id=\"DejaVuSans-48\"/>\r\n        <path d=\"M 10.6875 12.40625 \r\nL 21 12.40625 \r\nL 21 0 \r\nL 10.6875 0 \r\nz\r\n\" id=\"DejaVuSans-46\"/>\r\n        <path d=\"M 19.1875 8.296875 \r\nL 53.609375 8.296875 \r\nL 53.609375 0 \r\nL 7.328125 0 \r\nL 7.328125 8.296875 \r\nQ 12.9375 14.109375 22.625 23.890625 \r\nQ 32.328125 33.6875 34.8125 36.53125 \r\nQ 39.546875 41.84375 41.421875 45.53125 \r\nQ 43.3125 49.21875 43.3125 52.78125 \r\nQ 43.3125 58.59375 39.234375 62.25 \r\nQ 35.15625 65.921875 28.609375 65.921875 \r\nQ 23.96875 65.921875 18.8125 64.3125 \r\nQ 13.671875 62.703125 7.8125 59.421875 \r\nL 7.8125 69.390625 \r\nQ 13.765625 71.78125 18.9375 73 \r\nQ 24.125 74.21875 28.421875 74.21875 \r\nQ 39.75 74.21875 46.484375 68.546875 \r\nQ 53.21875 62.890625 53.21875 53.421875 \r\nQ 53.21875 48.921875 51.53125 44.890625 \r\nQ 49.859375 40.875 45.40625 35.40625 \r\nQ 44.1875 33.984375 37.640625 27.21875 \r\nQ 31.109375 20.453125 19.1875 8.296875 \r\nz\r\n\" id=\"DejaVuSans-50\"/>\r\n       </defs>\r\n       <use xlink:href=\"#DejaVuSans-8722\"/>\r\n       <use x=\"83.789062\" xlink:href=\"#DejaVuSans-48\"/>\r\n       <use x=\"147.412109\" xlink:href=\"#DejaVuSans-46\"/>\r\n       <use x=\"179.199219\" xlink:href=\"#DejaVuSans-50\"/>\r\n       <use x=\"242.822266\" xlink:href=\"#DejaVuSans-48\"/>\r\n      </g>\r\n     </g>\r\n    </g>\r\n    <g id=\"xtick_2\">\r\n     <g id=\"line2d_2\">\r\n      <g>\r\n       <use style=\"stroke:#000000;stroke-width:0.8;\" x=\"100.373437\" xlink:href=\"#m13cb931f72\" y=\"224.64\"/>\r\n      </g>\r\n     </g>\r\n     <g id=\"text_2\">\r\n      <!-- −0.15 -->\r\n      <g transform=\"translate(85.050781 239.238438)scale(0.1 -0.1)\">\r\n       <defs>\r\n        <path d=\"M 12.40625 8.296875 \r\nL 28.515625 8.296875 \r\nL 28.515625 63.921875 \r\nL 10.984375 60.40625 \r\nL 10.984375 69.390625 \r\nL 28.421875 72.90625 \r\nL 38.28125 72.90625 \r\nL 38.28125 8.296875 \r\nL 54.390625 8.296875 \r\nL 54.390625 0 \r\nL 12.40625 0 \r\nz\r\n\" id=\"DejaVuSans-49\"/>\r\n        <path d=\"M 10.796875 72.90625 \r\nL 49.515625 72.90625 \r\nL 49.515625 64.59375 \r\nL 19.828125 64.59375 \r\nL 19.828125 46.734375 \r\nQ 21.96875 47.46875 24.109375 47.828125 \r\nQ 26.265625 48.1875 28.421875 48.1875 \r\nQ 40.625 48.1875 47.75 41.5 \r\nQ 54.890625 34.8125 54.890625 23.390625 \r\nQ 54.890625 11.625 47.5625 5.09375 \r\nQ 40.234375 -1.421875 26.90625 -1.421875 \r\nQ 22.3125 -1.421875 17.546875 -0.640625 \r\nQ 12.796875 0.140625 7.71875 1.703125 \r\nL 7.71875 11.625 \r\nQ 12.109375 9.234375 16.796875 8.0625 \r\nQ 21.484375 6.890625 26.703125 6.890625 \r\nQ 35.15625 6.890625 40.078125 11.328125 \r\nQ 45.015625 15.765625 45.015625 23.390625 \r\nQ 45.015625 31 40.078125 35.4375 \r\nQ 35.15625 39.890625 26.703125 39.890625 \r\nQ 22.75 39.890625 18.8125 39.015625 \r\nQ 14.890625 38.140625 10.796875 36.28125 \r\nz\r\n\" id=\"DejaVuSans-53\"/>\r\n       </defs>\r\n       <use xlink:href=\"#DejaVuSans-8722\"/>\r\n       <use x=\"83.789062\" xlink:href=\"#DejaVuSans-48\"/>\r\n       <use x=\"147.412109\" xlink:href=\"#DejaVuSans-46\"/>\r\n       <use x=\"179.199219\" xlink:href=\"#DejaVuSans-49\"/>\r\n       <use x=\"242.822266\" xlink:href=\"#DejaVuSans-53\"/>\r\n      </g>\r\n     </g>\r\n    </g>\r\n    <g id=\"xtick_3\">\r\n     <g id=\"line2d_3\">\r\n      <g>\r\n       <use style=\"stroke:#000000;stroke-width:0.8;\" x=\"142.223437\" xlink:href=\"#m13cb931f72\" y=\"224.64\"/>\r\n      </g>\r\n     </g>\r\n     <g id=\"text_3\">\r\n      <!-- −0.10 -->\r\n      <g transform=\"translate(126.900781 239.238438)scale(0.1 -0.1)\">\r\n       <use xlink:href=\"#DejaVuSans-8722\"/>\r\n       <use x=\"83.789062\" xlink:href=\"#DejaVuSans-48\"/>\r\n       <use x=\"147.412109\" xlink:href=\"#DejaVuSans-46\"/>\r\n       <use x=\"179.199219\" xlink:href=\"#DejaVuSans-49\"/>\r\n       <use x=\"242.822266\" xlink:href=\"#DejaVuSans-48\"/>\r\n      </g>\r\n     </g>\r\n    </g>\r\n    <g id=\"xtick_4\">\r\n     <g id=\"line2d_4\">\r\n      <g>\r\n       <use style=\"stroke:#000000;stroke-width:0.8;\" x=\"184.073438\" xlink:href=\"#m13cb931f72\" y=\"224.64\"/>\r\n      </g>\r\n     </g>\r\n     <g id=\"text_4\">\r\n      <!-- −0.05 -->\r\n      <g transform=\"translate(168.750781 239.238438)scale(0.1 -0.1)\">\r\n       <use xlink:href=\"#DejaVuSans-8722\"/>\r\n       <use x=\"83.789062\" xlink:href=\"#DejaVuSans-48\"/>\r\n       <use x=\"147.412109\" xlink:href=\"#DejaVuSans-46\"/>\r\n       <use x=\"179.199219\" xlink:href=\"#DejaVuSans-48\"/>\r\n       <use x=\"242.822266\" xlink:href=\"#DejaVuSans-53\"/>\r\n      </g>\r\n     </g>\r\n    </g>\r\n    <g id=\"xtick_5\">\r\n     <g id=\"line2d_5\">\r\n      <g>\r\n       <use style=\"stroke:#000000;stroke-width:0.8;\" x=\"225.923438\" xlink:href=\"#m13cb931f72\" y=\"224.64\"/>\r\n      </g>\r\n     </g>\r\n     <g id=\"text_5\">\r\n      <!-- 0.00 -->\r\n      <g transform=\"translate(214.790625 239.238438)scale(0.1 -0.1)\">\r\n       <use xlink:href=\"#DejaVuSans-48\"/>\r\n       <use x=\"63.623047\" xlink:href=\"#DejaVuSans-46\"/>\r\n       <use x=\"95.410156\" xlink:href=\"#DejaVuSans-48\"/>\r\n       <use x=\"159.033203\" xlink:href=\"#DejaVuSans-48\"/>\r\n      </g>\r\n     </g>\r\n    </g>\r\n    <g id=\"xtick_6\">\r\n     <g id=\"line2d_6\">\r\n      <g>\r\n       <use style=\"stroke:#000000;stroke-width:0.8;\" x=\"267.773438\" xlink:href=\"#m13cb931f72\" y=\"224.64\"/>\r\n      </g>\r\n     </g>\r\n     <g id=\"text_6\">\r\n      <!-- 0.05 -->\r\n      <g transform=\"translate(256.640625 239.238438)scale(0.1 -0.1)\">\r\n       <use xlink:href=\"#DejaVuSans-48\"/>\r\n       <use x=\"63.623047\" xlink:href=\"#DejaVuSans-46\"/>\r\n       <use x=\"95.410156\" xlink:href=\"#DejaVuSans-48\"/>\r\n       <use x=\"159.033203\" xlink:href=\"#DejaVuSans-53\"/>\r\n      </g>\r\n     </g>\r\n    </g>\r\n    <g id=\"xtick_7\">\r\n     <g id=\"line2d_7\">\r\n      <g>\r\n       <use style=\"stroke:#000000;stroke-width:0.8;\" x=\"309.623438\" xlink:href=\"#m13cb931f72\" y=\"224.64\"/>\r\n      </g>\r\n     </g>\r\n     <g id=\"text_7\">\r\n      <!-- 0.10 -->\r\n      <g transform=\"translate(298.490625 239.238438)scale(0.1 -0.1)\">\r\n       <use xlink:href=\"#DejaVuSans-48\"/>\r\n       <use x=\"63.623047\" xlink:href=\"#DejaVuSans-46\"/>\r\n       <use x=\"95.410156\" xlink:href=\"#DejaVuSans-49\"/>\r\n       <use x=\"159.033203\" xlink:href=\"#DejaVuSans-48\"/>\r\n      </g>\r\n     </g>\r\n    </g>\r\n    <g id=\"xtick_8\">\r\n     <g id=\"line2d_8\">\r\n      <g>\r\n       <use style=\"stroke:#000000;stroke-width:0.8;\" x=\"351.473438\" xlink:href=\"#m13cb931f72\" y=\"224.64\"/>\r\n      </g>\r\n     </g>\r\n     <g id=\"text_8\">\r\n      <!-- 0.15 -->\r\n      <g transform=\"translate(340.340625 239.238438)scale(0.1 -0.1)\">\r\n       <use xlink:href=\"#DejaVuSans-48\"/>\r\n       <use x=\"63.623047\" xlink:href=\"#DejaVuSans-46\"/>\r\n       <use x=\"95.410156\" xlink:href=\"#DejaVuSans-49\"/>\r\n       <use x=\"159.033203\" xlink:href=\"#DejaVuSans-53\"/>\r\n      </g>\r\n     </g>\r\n    </g>\r\n    <g id=\"xtick_9\">\r\n     <g id=\"line2d_9\">\r\n      <g>\r\n       <use style=\"stroke:#000000;stroke-width:0.8;\" x=\"393.323438\" xlink:href=\"#m13cb931f72\" y=\"224.64\"/>\r\n      </g>\r\n     </g>\r\n     <g id=\"text_9\">\r\n      <!-- 0.20 -->\r\n      <g transform=\"translate(382.190625 239.238438)scale(0.1 -0.1)\">\r\n       <use xlink:href=\"#DejaVuSans-48\"/>\r\n       <use x=\"63.623047\" xlink:href=\"#DejaVuSans-46\"/>\r\n       <use x=\"95.410156\" xlink:href=\"#DejaVuSans-50\"/>\r\n       <use x=\"159.033203\" xlink:href=\"#DejaVuSans-48\"/>\r\n      </g>\r\n     </g>\r\n    </g>\r\n    <g id=\"text_10\">\r\n     <!-- PC1 -->\r\n     <g transform=\"translate(216.235938 252.916563)scale(0.1 -0.1)\">\r\n      <defs>\r\n       <path d=\"M 19.671875 64.796875 \r\nL 19.671875 37.40625 \r\nL 32.078125 37.40625 \r\nQ 38.96875 37.40625 42.71875 40.96875 \r\nQ 46.484375 44.53125 46.484375 51.125 \r\nQ 46.484375 57.671875 42.71875 61.234375 \r\nQ 38.96875 64.796875 32.078125 64.796875 \r\nz\r\nM 9.8125 72.90625 \r\nL 32.078125 72.90625 \r\nQ 44.34375 72.90625 50.609375 67.359375 \r\nQ 56.890625 61.8125 56.890625 51.125 \r\nQ 56.890625 40.328125 50.609375 34.8125 \r\nQ 44.34375 29.296875 32.078125 29.296875 \r\nL 19.671875 29.296875 \r\nL 19.671875 0 \r\nL 9.8125 0 \r\nz\r\n\" id=\"DejaVuSans-80\"/>\r\n       <path d=\"M 64.40625 67.28125 \r\nL 64.40625 56.890625 \r\nQ 59.421875 61.53125 53.78125 63.8125 \r\nQ 48.140625 66.109375 41.796875 66.109375 \r\nQ 29.296875 66.109375 22.65625 58.46875 \r\nQ 16.015625 50.828125 16.015625 36.375 \r\nQ 16.015625 21.96875 22.65625 14.328125 \r\nQ 29.296875 6.6875 41.796875 6.6875 \r\nQ 48.140625 6.6875 53.78125 8.984375 \r\nQ 59.421875 11.28125 64.40625 15.921875 \r\nL 64.40625 5.609375 \r\nQ 59.234375 2.09375 53.4375 0.328125 \r\nQ 47.65625 -1.421875 41.21875 -1.421875 \r\nQ 24.65625 -1.421875 15.125 8.703125 \r\nQ 5.609375 18.84375 5.609375 36.375 \r\nQ 5.609375 53.953125 15.125 64.078125 \r\nQ 24.65625 74.21875 41.21875 74.21875 \r\nQ 47.75 74.21875 53.53125 72.484375 \r\nQ 59.328125 70.75 64.40625 67.28125 \r\nz\r\n\" id=\"DejaVuSans-67\"/>\r\n      </defs>\r\n      <use xlink:href=\"#DejaVuSans-80\"/>\r\n      <use x=\"60.302734\" xlink:href=\"#DejaVuSans-67\"/>\r\n      <use x=\"130.126953\" xlink:href=\"#DejaVuSans-49\"/>\r\n     </g>\r\n    </g>\r\n   </g>\r\n   <g id=\"matplotlib.axis_2\">\r\n    <g id=\"ytick_1\">\r\n     <g id=\"line2d_10\">\r\n      <defs>\r\n       <path d=\"M 0 0 \r\nL -3.5 0 \r\n\" id=\"m2742cd739f\" style=\"stroke:#000000;stroke-width:0.8;\"/>\r\n      </defs>\r\n      <g>\r\n       <use style=\"stroke:#000000;stroke-width:0.8;\" x=\"58.523438\" xlink:href=\"#m2742cd739f\" y=\"215.553061\"/>\r\n      </g>\r\n     </g>\r\n     <g id=\"text_11\">\r\n      <!-- −0.14 -->\r\n      <g transform=\"translate(20.878125 219.35228)scale(0.1 -0.1)\">\r\n       <defs>\r\n        <path d=\"M 37.796875 64.3125 \r\nL 12.890625 25.390625 \r\nL 37.796875 25.390625 \r\nz\r\nM 35.203125 72.90625 \r\nL 47.609375 72.90625 \r\nL 47.609375 25.390625 \r\nL 58.015625 25.390625 \r\nL 58.015625 17.1875 \r\nL 47.609375 17.1875 \r\nL 47.609375 0 \r\nL 37.796875 0 \r\nL 37.796875 17.1875 \r\nL 4.890625 17.1875 \r\nL 4.890625 26.703125 \r\nz\r\n\" id=\"DejaVuSans-52\"/>\r\n       </defs>\r\n       <use xlink:href=\"#DejaVuSans-8722\"/>\r\n       <use x=\"83.789062\" xlink:href=\"#DejaVuSans-48\"/>\r\n       <use x=\"147.412109\" xlink:href=\"#DejaVuSans-46\"/>\r\n       <use x=\"179.199219\" xlink:href=\"#DejaVuSans-49\"/>\r\n       <use x=\"242.822266\" xlink:href=\"#DejaVuSans-52\"/>\r\n      </g>\r\n     </g>\r\n    </g>\r\n    <g id=\"ytick_2\">\r\n     <g id=\"line2d_11\">\r\n      <g>\r\n       <use style=\"stroke:#000000;stroke-width:0.8;\" x=\"58.523438\" xlink:href=\"#m2742cd739f\" y=\"187.299061\"/>\r\n      </g>\r\n     </g>\r\n     <g id=\"text_12\">\r\n      <!-- −0.12 -->\r\n      <g transform=\"translate(20.878125 191.09828)scale(0.1 -0.1)\">\r\n       <use xlink:href=\"#DejaVuSans-8722\"/>\r\n       <use x=\"83.789062\" xlink:href=\"#DejaVuSans-48\"/>\r\n       <use x=\"147.412109\" xlink:href=\"#DejaVuSans-46\"/>\r\n       <use x=\"179.199219\" xlink:href=\"#DejaVuSans-49\"/>\r\n       <use x=\"242.822266\" xlink:href=\"#DejaVuSans-50\"/>\r\n      </g>\r\n     </g>\r\n    </g>\r\n    <g id=\"ytick_3\">\r\n     <g id=\"line2d_12\">\r\n      <g>\r\n       <use style=\"stroke:#000000;stroke-width:0.8;\" x=\"58.523438\" xlink:href=\"#m2742cd739f\" y=\"159.045061\"/>\r\n      </g>\r\n     </g>\r\n     <g id=\"text_13\">\r\n      <!-- −0.10 -->\r\n      <g transform=\"translate(20.878125 162.84428)scale(0.1 -0.1)\">\r\n       <use xlink:href=\"#DejaVuSans-8722\"/>\r\n       <use x=\"83.789062\" xlink:href=\"#DejaVuSans-48\"/>\r\n       <use x=\"147.412109\" xlink:href=\"#DejaVuSans-46\"/>\r\n       <use x=\"179.199219\" xlink:href=\"#DejaVuSans-49\"/>\r\n       <use x=\"242.822266\" xlink:href=\"#DejaVuSans-48\"/>\r\n      </g>\r\n     </g>\r\n    </g>\r\n    <g id=\"ytick_4\">\r\n     <g id=\"line2d_13\">\r\n      <g>\r\n       <use style=\"stroke:#000000;stroke-width:0.8;\" x=\"58.523438\" xlink:href=\"#m2742cd739f\" y=\"130.791061\"/>\r\n      </g>\r\n     </g>\r\n     <g id=\"text_14\">\r\n      <!-- −0.08 -->\r\n      <g transform=\"translate(20.878125 134.59028)scale(0.1 -0.1)\">\r\n       <defs>\r\n        <path d=\"M 31.78125 34.625 \r\nQ 24.75 34.625 20.71875 30.859375 \r\nQ 16.703125 27.09375 16.703125 20.515625 \r\nQ 16.703125 13.921875 20.71875 10.15625 \r\nQ 24.75 6.390625 31.78125 6.390625 \r\nQ 38.8125 6.390625 42.859375 10.171875 \r\nQ 46.921875 13.96875 46.921875 20.515625 \r\nQ 46.921875 27.09375 42.890625 30.859375 \r\nQ 38.875 34.625 31.78125 34.625 \r\nz\r\nM 21.921875 38.8125 \r\nQ 15.578125 40.375 12.03125 44.71875 \r\nQ 8.5 49.078125 8.5 55.328125 \r\nQ 8.5 64.0625 14.71875 69.140625 \r\nQ 20.953125 74.21875 31.78125 74.21875 \r\nQ 42.671875 74.21875 48.875 69.140625 \r\nQ 55.078125 64.0625 55.078125 55.328125 \r\nQ 55.078125 49.078125 51.53125 44.71875 \r\nQ 48 40.375 41.703125 38.8125 \r\nQ 48.828125 37.15625 52.796875 32.3125 \r\nQ 56.78125 27.484375 56.78125 20.515625 \r\nQ 56.78125 9.90625 50.3125 4.234375 \r\nQ 43.84375 -1.421875 31.78125 -1.421875 \r\nQ 19.734375 -1.421875 13.25 4.234375 \r\nQ 6.78125 9.90625 6.78125 20.515625 \r\nQ 6.78125 27.484375 10.78125 32.3125 \r\nQ 14.796875 37.15625 21.921875 38.8125 \r\nz\r\nM 18.3125 54.390625 \r\nQ 18.3125 48.734375 21.84375 45.5625 \r\nQ 25.390625 42.390625 31.78125 42.390625 \r\nQ 38.140625 42.390625 41.71875 45.5625 \r\nQ 45.3125 48.734375 45.3125 54.390625 \r\nQ 45.3125 60.0625 41.71875 63.234375 \r\nQ 38.140625 66.40625 31.78125 66.40625 \r\nQ 25.390625 66.40625 21.84375 63.234375 \r\nQ 18.3125 60.0625 18.3125 54.390625 \r\nz\r\n\" id=\"DejaVuSans-56\"/>\r\n       </defs>\r\n       <use xlink:href=\"#DejaVuSans-8722\"/>\r\n       <use x=\"83.789062\" xlink:href=\"#DejaVuSans-48\"/>\r\n       <use x=\"147.412109\" xlink:href=\"#DejaVuSans-46\"/>\r\n       <use x=\"179.199219\" xlink:href=\"#DejaVuSans-48\"/>\r\n       <use x=\"242.822266\" xlink:href=\"#DejaVuSans-56\"/>\r\n      </g>\r\n     </g>\r\n    </g>\r\n    <g id=\"ytick_5\">\r\n     <g id=\"line2d_14\">\r\n      <g>\r\n       <use style=\"stroke:#000000;stroke-width:0.8;\" x=\"58.523438\" xlink:href=\"#m2742cd739f\" y=\"102.537061\"/>\r\n      </g>\r\n     </g>\r\n     <g id=\"text_15\">\r\n      <!-- −0.06 -->\r\n      <g transform=\"translate(20.878125 106.33628)scale(0.1 -0.1)\">\r\n       <defs>\r\n        <path d=\"M 33.015625 40.375 \r\nQ 26.375 40.375 22.484375 35.828125 \r\nQ 18.609375 31.296875 18.609375 23.390625 \r\nQ 18.609375 15.53125 22.484375 10.953125 \r\nQ 26.375 6.390625 33.015625 6.390625 \r\nQ 39.65625 6.390625 43.53125 10.953125 \r\nQ 47.40625 15.53125 47.40625 23.390625 \r\nQ 47.40625 31.296875 43.53125 35.828125 \r\nQ 39.65625 40.375 33.015625 40.375 \r\nz\r\nM 52.59375 71.296875 \r\nL 52.59375 62.3125 \r\nQ 48.875 64.0625 45.09375 64.984375 \r\nQ 41.3125 65.921875 37.59375 65.921875 \r\nQ 27.828125 65.921875 22.671875 59.328125 \r\nQ 17.53125 52.734375 16.796875 39.40625 \r\nQ 19.671875 43.65625 24.015625 45.921875 \r\nQ 28.375 48.1875 33.59375 48.1875 \r\nQ 44.578125 48.1875 50.953125 41.515625 \r\nQ 57.328125 34.859375 57.328125 23.390625 \r\nQ 57.328125 12.15625 50.6875 5.359375 \r\nQ 44.046875 -1.421875 33.015625 -1.421875 \r\nQ 20.359375 -1.421875 13.671875 8.265625 \r\nQ 6.984375 17.96875 6.984375 36.375 \r\nQ 6.984375 53.65625 15.1875 63.9375 \r\nQ 23.390625 74.21875 37.203125 74.21875 \r\nQ 40.921875 74.21875 44.703125 73.484375 \r\nQ 48.484375 72.75 52.59375 71.296875 \r\nz\r\n\" id=\"DejaVuSans-54\"/>\r\n       </defs>\r\n       <use xlink:href=\"#DejaVuSans-8722\"/>\r\n       <use x=\"83.789062\" xlink:href=\"#DejaVuSans-48\"/>\r\n       <use x=\"147.412109\" xlink:href=\"#DejaVuSans-46\"/>\r\n       <use x=\"179.199219\" xlink:href=\"#DejaVuSans-48\"/>\r\n       <use x=\"242.822266\" xlink:href=\"#DejaVuSans-54\"/>\r\n      </g>\r\n     </g>\r\n    </g>\r\n    <g id=\"ytick_6\">\r\n     <g id=\"line2d_15\">\r\n      <g>\r\n       <use style=\"stroke:#000000;stroke-width:0.8;\" x=\"58.523438\" xlink:href=\"#m2742cd739f\" y=\"74.283061\"/>\r\n      </g>\r\n     </g>\r\n     <g id=\"text_16\">\r\n      <!-- −0.04 -->\r\n      <g transform=\"translate(20.878125 78.08228)scale(0.1 -0.1)\">\r\n       <use xlink:href=\"#DejaVuSans-8722\"/>\r\n       <use x=\"83.789062\" xlink:href=\"#DejaVuSans-48\"/>\r\n       <use x=\"147.412109\" xlink:href=\"#DejaVuSans-46\"/>\r\n       <use x=\"179.199219\" xlink:href=\"#DejaVuSans-48\"/>\r\n       <use x=\"242.822266\" xlink:href=\"#DejaVuSans-52\"/>\r\n      </g>\r\n     </g>\r\n    </g>\r\n    <g id=\"ytick_7\">\r\n     <g id=\"line2d_16\">\r\n      <g>\r\n       <use style=\"stroke:#000000;stroke-width:0.8;\" x=\"58.523438\" xlink:href=\"#m2742cd739f\" y=\"46.029061\"/>\r\n      </g>\r\n     </g>\r\n     <g id=\"text_17\">\r\n      <!-- −0.02 -->\r\n      <g transform=\"translate(20.878125 49.82828)scale(0.1 -0.1)\">\r\n       <use xlink:href=\"#DejaVuSans-8722\"/>\r\n       <use x=\"83.789062\" xlink:href=\"#DejaVuSans-48\"/>\r\n       <use x=\"147.412109\" xlink:href=\"#DejaVuSans-46\"/>\r\n       <use x=\"179.199219\" xlink:href=\"#DejaVuSans-48\"/>\r\n       <use x=\"242.822266\" xlink:href=\"#DejaVuSans-50\"/>\r\n      </g>\r\n     </g>\r\n    </g>\r\n    <g id=\"ytick_8\">\r\n     <g id=\"line2d_17\">\r\n      <g>\r\n       <use style=\"stroke:#000000;stroke-width:0.8;\" x=\"58.523438\" xlink:href=\"#m2742cd739f\" y=\"17.775061\"/>\r\n      </g>\r\n     </g>\r\n     <g id=\"text_18\">\r\n      <!-- 0.00 -->\r\n      <g transform=\"translate(29.257813 21.57428)scale(0.1 -0.1)\">\r\n       <use xlink:href=\"#DejaVuSans-48\"/>\r\n       <use x=\"63.623047\" xlink:href=\"#DejaVuSans-46\"/>\r\n       <use x=\"95.410156\" xlink:href=\"#DejaVuSans-48\"/>\r\n       <use x=\"159.033203\" xlink:href=\"#DejaVuSans-48\"/>\r\n      </g>\r\n     </g>\r\n    </g>\r\n    <g id=\"text_19\">\r\n     <!-- PC2 -->\r\n     <g transform=\"translate(14.798438 125.6075)rotate(-90)scale(0.1 -0.1)\">\r\n      <use xlink:href=\"#DejaVuSans-80\"/>\r\n      <use x=\"60.302734\" xlink:href=\"#DejaVuSans-67\"/>\r\n      <use x=\"130.126953\" xlink:href=\"#DejaVuSans-50\"/>\r\n     </g>\r\n    </g>\r\n   </g>\r\n   <g id=\"patch_3\">\r\n    <path d=\"M 58.523438 224.64 \r\nL 58.523438 7.2 \r\n\" style=\"fill:none;stroke:#000000;stroke-linecap:square;stroke-linejoin:miter;stroke-width:0.8;\"/>\r\n   </g>\r\n   <g id=\"patch_4\">\r\n    <path d=\"M 393.323438 224.64 \r\nL 393.323438 7.2 \r\n\" style=\"fill:none;stroke:#000000;stroke-linecap:square;stroke-linejoin:miter;stroke-width:0.8;\"/>\r\n   </g>\r\n   <g id=\"patch_5\">\r\n    <path d=\"M 58.523438 224.64 \r\nL 393.323438 224.64 \r\n\" style=\"fill:none;stroke:#000000;stroke-linecap:square;stroke-linejoin:miter;stroke-width:0.8;\"/>\r\n   </g>\r\n   <g id=\"patch_6\">\r\n    <path d=\"M 58.523438 7.2 \r\nL 393.323438 7.2 \r\n\" style=\"fill:none;stroke:#000000;stroke-linecap:square;stroke-linejoin:miter;stroke-width:0.8;\"/>\r\n   </g>\r\n   <g id=\"text_20\">\r\n    <!-- Nelson (NE) -->\r\n    <g transform=\"translate(218.390438 127.965661)scale(0.1 -0.1)\">\r\n     <defs>\r\n      <path d=\"M 9.8125 72.90625 \r\nL 23.09375 72.90625 \r\nL 55.421875 11.921875 \r\nL 55.421875 72.90625 \r\nL 64.984375 72.90625 \r\nL 64.984375 0 \r\nL 51.703125 0 \r\nL 19.390625 60.984375 \r\nL 19.390625 0 \r\nL 9.8125 0 \r\nz\r\n\" id=\"DejaVuSans-78\"/>\r\n      <path d=\"M 56.203125 29.59375 \r\nL 56.203125 25.203125 \r\nL 14.890625 25.203125 \r\nQ 15.484375 15.921875 20.484375 11.0625 \r\nQ 25.484375 6.203125 34.421875 6.203125 \r\nQ 39.59375 6.203125 44.453125 7.46875 \r\nQ 49.3125 8.734375 54.109375 11.28125 \r\nL 54.109375 2.78125 \r\nQ 49.265625 0.734375 44.1875 -0.34375 \r\nQ 39.109375 -1.421875 33.890625 -1.421875 \r\nQ 20.796875 -1.421875 13.15625 6.1875 \r\nQ 5.515625 13.8125 5.515625 26.8125 \r\nQ 5.515625 40.234375 12.765625 48.109375 \r\nQ 20.015625 56 32.328125 56 \r\nQ 43.359375 56 49.78125 48.890625 \r\nQ 56.203125 41.796875 56.203125 29.59375 \r\nz\r\nM 47.21875 32.234375 \r\nQ 47.125 39.59375 43.09375 43.984375 \r\nQ 39.0625 48.390625 32.421875 48.390625 \r\nQ 24.90625 48.390625 20.390625 44.140625 \r\nQ 15.875 39.890625 15.1875 32.171875 \r\nz\r\n\" id=\"DejaVuSans-101\"/>\r\n      <path d=\"M 9.421875 75.984375 \r\nL 18.40625 75.984375 \r\nL 18.40625 0 \r\nL 9.421875 0 \r\nz\r\n\" id=\"DejaVuSans-108\"/>\r\n      <path d=\"M 44.28125 53.078125 \r\nL 44.28125 44.578125 \r\nQ 40.484375 46.53125 36.375 47.5 \r\nQ 32.28125 48.484375 27.875 48.484375 \r\nQ 21.1875 48.484375 17.84375 46.4375 \r\nQ 14.5 44.390625 14.5 40.28125 \r\nQ 14.5 37.15625 16.890625 35.375 \r\nQ 19.28125 33.59375 26.515625 31.984375 \r\nL 29.59375 31.296875 \r\nQ 39.15625 29.25 43.1875 25.515625 \r\nQ 47.21875 21.78125 47.21875 15.09375 \r\nQ 47.21875 7.46875 41.1875 3.015625 \r\nQ 35.15625 -1.421875 24.609375 -1.421875 \r\nQ 20.21875 -1.421875 15.453125 -0.5625 \r\nQ 10.6875 0.296875 5.421875 2 \r\nL 5.421875 11.28125 \r\nQ 10.40625 8.6875 15.234375 7.390625 \r\nQ 20.0625 6.109375 24.8125 6.109375 \r\nQ 31.15625 6.109375 34.5625 8.28125 \r\nQ 37.984375 10.453125 37.984375 14.40625 \r\nQ 37.984375 18.0625 35.515625 20.015625 \r\nQ 33.0625 21.96875 24.703125 23.78125 \r\nL 21.578125 24.515625 \r\nQ 13.234375 26.265625 9.515625 29.90625 \r\nQ 5.8125 33.546875 5.8125 39.890625 \r\nQ 5.8125 47.609375 11.28125 51.796875 \r\nQ 16.75 56 26.8125 56 \r\nQ 31.78125 56 36.171875 55.265625 \r\nQ 40.578125 54.546875 44.28125 53.078125 \r\nz\r\n\" id=\"DejaVuSans-115\"/>\r\n      <path d=\"M 30.609375 48.390625 \r\nQ 23.390625 48.390625 19.1875 42.75 \r\nQ 14.984375 37.109375 14.984375 27.296875 \r\nQ 14.984375 17.484375 19.15625 11.84375 \r\nQ 23.34375 6.203125 30.609375 6.203125 \r\nQ 37.796875 6.203125 41.984375 11.859375 \r\nQ 46.1875 17.53125 46.1875 27.296875 \r\nQ 46.1875 37.015625 41.984375 42.703125 \r\nQ 37.796875 48.390625 30.609375 48.390625 \r\nz\r\nM 30.609375 56 \r\nQ 42.328125 56 49.015625 48.375 \r\nQ 55.71875 40.765625 55.71875 27.296875 \r\nQ 55.71875 13.875 49.015625 6.21875 \r\nQ 42.328125 -1.421875 30.609375 -1.421875 \r\nQ 18.84375 -1.421875 12.171875 6.21875 \r\nQ 5.515625 13.875 5.515625 27.296875 \r\nQ 5.515625 40.765625 12.171875 48.375 \r\nQ 18.84375 56 30.609375 56 \r\nz\r\n\" id=\"DejaVuSans-111\"/>\r\n      <path d=\"M 54.890625 33.015625 \r\nL 54.890625 0 \r\nL 45.90625 0 \r\nL 45.90625 32.71875 \r\nQ 45.90625 40.484375 42.875 44.328125 \r\nQ 39.84375 48.1875 33.796875 48.1875 \r\nQ 26.515625 48.1875 22.3125 43.546875 \r\nQ 18.109375 38.921875 18.109375 30.90625 \r\nL 18.109375 0 \r\nL 9.078125 0 \r\nL 9.078125 54.6875 \r\nL 18.109375 54.6875 \r\nL 18.109375 46.1875 \r\nQ 21.34375 51.125 25.703125 53.5625 \r\nQ 30.078125 56 35.796875 56 \r\nQ 45.21875 56 50.046875 50.171875 \r\nQ 54.890625 44.34375 54.890625 33.015625 \r\nz\r\n\" id=\"DejaVuSans-110\"/>\r\n      <path id=\"DejaVuSans-32\"/>\r\n      <path d=\"M 31 75.875 \r\nQ 24.46875 64.65625 21.28125 53.65625 \r\nQ 18.109375 42.671875 18.109375 31.390625 \r\nQ 18.109375 20.125 21.3125 9.0625 \r\nQ 24.515625 -2 31 -13.1875 \r\nL 23.1875 -13.1875 \r\nQ 15.875 -1.703125 12.234375 9.375 \r\nQ 8.59375 20.453125 8.59375 31.390625 \r\nQ 8.59375 42.28125 12.203125 53.3125 \r\nQ 15.828125 64.359375 23.1875 75.875 \r\nz\r\n\" id=\"DejaVuSans-40\"/>\r\n      <path d=\"M 9.8125 72.90625 \r\nL 55.90625 72.90625 \r\nL 55.90625 64.59375 \r\nL 19.671875 64.59375 \r\nL 19.671875 43.015625 \r\nL 54.390625 43.015625 \r\nL 54.390625 34.71875 \r\nL 19.671875 34.71875 \r\nL 19.671875 8.296875 \r\nL 56.78125 8.296875 \r\nL 56.78125 0 \r\nL 9.8125 0 \r\nz\r\n\" id=\"DejaVuSans-69\"/>\r\n      <path d=\"M 8.015625 75.875 \r\nL 15.828125 75.875 \r\nQ 23.140625 64.359375 26.78125 53.3125 \r\nQ 30.421875 42.28125 30.421875 31.390625 \r\nQ 30.421875 20.453125 26.78125 9.375 \r\nQ 23.140625 -1.703125 15.828125 -13.1875 \r\nL 8.015625 -13.1875 \r\nQ 14.5 -2 17.703125 9.0625 \r\nQ 20.90625 20.125 20.90625 31.390625 \r\nQ 20.90625 42.671875 17.703125 53.65625 \r\nQ 14.5 64.65625 8.015625 75.875 \r\nz\r\n\" id=\"DejaVuSans-41\"/>\r\n     </defs>\r\n     <use xlink:href=\"#DejaVuSans-78\"/>\r\n     <use x=\"74.804688\" xlink:href=\"#DejaVuSans-101\"/>\r\n     <use x=\"136.328125\" xlink:href=\"#DejaVuSans-108\"/>\r\n     <use x=\"164.111328\" xlink:href=\"#DejaVuSans-115\"/>\r\n     <use x=\"216.210938\" xlink:href=\"#DejaVuSans-111\"/>\r\n     <use x=\"277.392578\" xlink:href=\"#DejaVuSans-110\"/>\r\n     <use x=\"340.771484\" xlink:href=\"#DejaVuSans-32\"/>\r\n     <use x=\"372.558594\" xlink:href=\"#DejaVuSans-40\"/>\r\n     <use x=\"411.572266\" xlink:href=\"#DejaVuSans-78\"/>\r\n     <use x=\"486.376953\" xlink:href=\"#DejaVuSans-69\"/>\r\n     <use x=\"549.560547\" xlink:href=\"#DejaVuSans-41\"/>\r\n    </g>\r\n   </g>\r\n   <g id=\"text_21\">\r\n    <!-- Chafee (RI) -->\r\n    <g transform=\"translate(255.218437 135.029161)scale(0.1 -0.1)\">\r\n     <defs>\r\n      <path d=\"M 54.890625 33.015625 \r\nL 54.890625 0 \r\nL 45.90625 0 \r\nL 45.90625 32.71875 \r\nQ 45.90625 40.484375 42.875 44.328125 \r\nQ 39.84375 48.1875 33.796875 48.1875 \r\nQ 26.515625 48.1875 22.3125 43.546875 \r\nQ 18.109375 38.921875 18.109375 30.90625 \r\nL 18.109375 0 \r\nL 9.078125 0 \r\nL 9.078125 75.984375 \r\nL 18.109375 75.984375 \r\nL 18.109375 46.1875 \r\nQ 21.34375 51.125 25.703125 53.5625 \r\nQ 30.078125 56 35.796875 56 \r\nQ 45.21875 56 50.046875 50.171875 \r\nQ 54.890625 44.34375 54.890625 33.015625 \r\nz\r\n\" id=\"DejaVuSans-104\"/>\r\n      <path d=\"M 34.28125 27.484375 \r\nQ 23.390625 27.484375 19.1875 25 \r\nQ 14.984375 22.515625 14.984375 16.5 \r\nQ 14.984375 11.71875 18.140625 8.90625 \r\nQ 21.296875 6.109375 26.703125 6.109375 \r\nQ 34.1875 6.109375 38.703125 11.40625 \r\nQ 43.21875 16.703125 43.21875 25.484375 \r\nL 43.21875 27.484375 \r\nz\r\nM 52.203125 31.203125 \r\nL 52.203125 0 \r\nL 43.21875 0 \r\nL 43.21875 8.296875 \r\nQ 40.140625 3.328125 35.546875 0.953125 \r\nQ 30.953125 -1.421875 24.3125 -1.421875 \r\nQ 15.921875 -1.421875 10.953125 3.296875 \r\nQ 6 8.015625 6 15.921875 \r\nQ 6 25.140625 12.171875 29.828125 \r\nQ 18.359375 34.515625 30.609375 34.515625 \r\nL 43.21875 34.515625 \r\nL 43.21875 35.40625 \r\nQ 43.21875 41.609375 39.140625 45 \r\nQ 35.0625 48.390625 27.6875 48.390625 \r\nQ 23 48.390625 18.546875 47.265625 \r\nQ 14.109375 46.140625 10.015625 43.890625 \r\nL 10.015625 52.203125 \r\nQ 14.9375 54.109375 19.578125 55.046875 \r\nQ 24.21875 56 28.609375 56 \r\nQ 40.484375 56 46.34375 49.84375 \r\nQ 52.203125 43.703125 52.203125 31.203125 \r\nz\r\n\" id=\"DejaVuSans-97\"/>\r\n      <path d=\"M 37.109375 75.984375 \r\nL 37.109375 68.5 \r\nL 28.515625 68.5 \r\nQ 23.6875 68.5 21.796875 66.546875 \r\nQ 19.921875 64.59375 19.921875 59.515625 \r\nL 19.921875 54.6875 \r\nL 34.71875 54.6875 \r\nL 34.71875 47.703125 \r\nL 19.921875 47.703125 \r\nL 19.921875 0 \r\nL 10.890625 0 \r\nL 10.890625 47.703125 \r\nL 2.296875 47.703125 \r\nL 2.296875 54.6875 \r\nL 10.890625 54.6875 \r\nL 10.890625 58.5 \r\nQ 10.890625 67.625 15.140625 71.796875 \r\nQ 19.390625 75.984375 28.609375 75.984375 \r\nz\r\n\" id=\"DejaVuSans-102\"/>\r\n      <path d=\"M 44.390625 34.1875 \r\nQ 47.5625 33.109375 50.5625 29.59375 \r\nQ 53.5625 26.078125 56.59375 19.921875 \r\nL 66.609375 0 \r\nL 56 0 \r\nL 46.6875 18.703125 \r\nQ 43.0625 26.03125 39.671875 28.421875 \r\nQ 36.28125 30.8125 30.421875 30.8125 \r\nL 19.671875 30.8125 \r\nL 19.671875 0 \r\nL 9.8125 0 \r\nL 9.8125 72.90625 \r\nL 32.078125 72.90625 \r\nQ 44.578125 72.90625 50.734375 67.671875 \r\nQ 56.890625 62.453125 56.890625 51.90625 \r\nQ 56.890625 45.015625 53.6875 40.46875 \r\nQ 50.484375 35.9375 44.390625 34.1875 \r\nz\r\nM 19.671875 64.796875 \r\nL 19.671875 38.921875 \r\nL 32.078125 38.921875 \r\nQ 39.203125 38.921875 42.84375 42.21875 \r\nQ 46.484375 45.515625 46.484375 51.90625 \r\nQ 46.484375 58.296875 42.84375 61.546875 \r\nQ 39.203125 64.796875 32.078125 64.796875 \r\nz\r\n\" id=\"DejaVuSans-82\"/>\r\n      <path d=\"M 9.8125 72.90625 \r\nL 19.671875 72.90625 \r\nL 19.671875 0 \r\nL 9.8125 0 \r\nz\r\n\" id=\"DejaVuSans-73\"/>\r\n     </defs>\r\n     <use xlink:href=\"#DejaVuSans-67\"/>\r\n     <use x=\"69.824219\" xlink:href=\"#DejaVuSans-104\"/>\r\n     <use x=\"133.203125\" xlink:href=\"#DejaVuSans-97\"/>\r\n     <use x=\"194.482422\" xlink:href=\"#DejaVuSans-102\"/>\r\n     <use x=\"229.6875\" xlink:href=\"#DejaVuSans-101\"/>\r\n     <use x=\"291.210938\" xlink:href=\"#DejaVuSans-101\"/>\r\n     <use x=\"352.734375\" xlink:href=\"#DejaVuSans-32\"/>\r\n     <use x=\"384.521484\" xlink:href=\"#DejaVuSans-40\"/>\r\n     <use x=\"423.535156\" xlink:href=\"#DejaVuSans-82\"/>\r\n     <use x=\"493.017578\" xlink:href=\"#DejaVuSans-73\"/>\r\n     <use x=\"522.509766\" xlink:href=\"#DejaVuSans-41\"/>\r\n    </g>\r\n   </g>\r\n   <g id=\"text_22\">\r\n    <!-- McConnell (KY) -->\r\n    <g transform=\"translate(92.840438 175.997461)scale(0.1 -0.1)\">\r\n     <defs>\r\n      <path d=\"M 9.8125 72.90625 \r\nL 24.515625 72.90625 \r\nL 43.109375 23.296875 \r\nL 61.8125 72.90625 \r\nL 76.515625 72.90625 \r\nL 76.515625 0 \r\nL 66.890625 0 \r\nL 66.890625 64.015625 \r\nL 48.09375 14.015625 \r\nL 38.1875 14.015625 \r\nL 19.390625 64.015625 \r\nL 19.390625 0 \r\nL 9.8125 0 \r\nz\r\n\" id=\"DejaVuSans-77\"/>\r\n      <path d=\"M 48.78125 52.59375 \r\nL 48.78125 44.1875 \r\nQ 44.96875 46.296875 41.140625 47.34375 \r\nQ 37.3125 48.390625 33.40625 48.390625 \r\nQ 24.65625 48.390625 19.8125 42.84375 \r\nQ 14.984375 37.3125 14.984375 27.296875 \r\nQ 14.984375 17.28125 19.8125 11.734375 \r\nQ 24.65625 6.203125 33.40625 6.203125 \r\nQ 37.3125 6.203125 41.140625 7.25 \r\nQ 44.96875 8.296875 48.78125 10.40625 \r\nL 48.78125 2.09375 \r\nQ 45.015625 0.34375 40.984375 -0.53125 \r\nQ 36.96875 -1.421875 32.421875 -1.421875 \r\nQ 20.0625 -1.421875 12.78125 6.34375 \r\nQ 5.515625 14.109375 5.515625 27.296875 \r\nQ 5.515625 40.671875 12.859375 48.328125 \r\nQ 20.21875 56 33.015625 56 \r\nQ 37.15625 56 41.109375 55.140625 \r\nQ 45.0625 54.296875 48.78125 52.59375 \r\nz\r\n\" id=\"DejaVuSans-99\"/>\r\n      <path d=\"M 9.8125 72.90625 \r\nL 19.671875 72.90625 \r\nL 19.671875 42.09375 \r\nL 52.390625 72.90625 \r\nL 65.09375 72.90625 \r\nL 28.90625 38.921875 \r\nL 67.671875 0 \r\nL 54.6875 0 \r\nL 19.671875 35.109375 \r\nL 19.671875 0 \r\nL 9.8125 0 \r\nz\r\n\" id=\"DejaVuSans-75\"/>\r\n      <path d=\"M -0.203125 72.90625 \r\nL 10.40625 72.90625 \r\nL 30.609375 42.921875 \r\nL 50.6875 72.90625 \r\nL 61.28125 72.90625 \r\nL 35.5 34.71875 \r\nL 35.5 0 \r\nL 25.59375 0 \r\nL 25.59375 34.71875 \r\nz\r\n\" id=\"DejaVuSans-89\"/>\r\n     </defs>\r\n     <use xlink:href=\"#DejaVuSans-77\"/>\r\n     <use x=\"86.279297\" xlink:href=\"#DejaVuSans-99\"/>\r\n     <use x=\"141.259766\" xlink:href=\"#DejaVuSans-67\"/>\r\n     <use x=\"211.083984\" xlink:href=\"#DejaVuSans-111\"/>\r\n     <use x=\"272.265625\" xlink:href=\"#DejaVuSans-110\"/>\r\n     <use x=\"335.644531\" xlink:href=\"#DejaVuSans-110\"/>\r\n     <use x=\"399.023438\" xlink:href=\"#DejaVuSans-101\"/>\r\n     <use x=\"460.546875\" xlink:href=\"#DejaVuSans-108\"/>\r\n     <use x=\"488.330078\" xlink:href=\"#DejaVuSans-108\"/>\r\n     <use x=\"516.113281\" xlink:href=\"#DejaVuSans-32\"/>\r\n     <use x=\"547.900391\" xlink:href=\"#DejaVuSans-40\"/>\r\n     <use x=\"586.914062\" xlink:href=\"#DejaVuSans-75\"/>\r\n     <use x=\"648.865234\" xlink:href=\"#DejaVuSans-89\"/>\r\n     <use x=\"709.949219\" xlink:href=\"#DejaVuSans-41\"/>\r\n    </g>\r\n   </g>\r\n   <g id=\"text_23\">\r\n    <!-- Kennedy (MA) -->\r\n    <g transform=\"translate(347.288437 175.997461)scale(0.1 -0.1)\">\r\n     <defs>\r\n      <path d=\"M 45.40625 46.390625 \r\nL 45.40625 75.984375 \r\nL 54.390625 75.984375 \r\nL 54.390625 0 \r\nL 45.40625 0 \r\nL 45.40625 8.203125 \r\nQ 42.578125 3.328125 38.25 0.953125 \r\nQ 33.9375 -1.421875 27.875 -1.421875 \r\nQ 17.96875 -1.421875 11.734375 6.484375 \r\nQ 5.515625 14.40625 5.515625 27.296875 \r\nQ 5.515625 40.1875 11.734375 48.09375 \r\nQ 17.96875 56 27.875 56 \r\nQ 33.9375 56 38.25 53.625 \r\nQ 42.578125 51.265625 45.40625 46.390625 \r\nz\r\nM 14.796875 27.296875 \r\nQ 14.796875 17.390625 18.875 11.75 \r\nQ 22.953125 6.109375 30.078125 6.109375 \r\nQ 37.203125 6.109375 41.296875 11.75 \r\nQ 45.40625 17.390625 45.40625 27.296875 \r\nQ 45.40625 37.203125 41.296875 42.84375 \r\nQ 37.203125 48.484375 30.078125 48.484375 \r\nQ 22.953125 48.484375 18.875 42.84375 \r\nQ 14.796875 37.203125 14.796875 27.296875 \r\nz\r\n\" id=\"DejaVuSans-100\"/>\r\n      <path d=\"M 32.171875 -5.078125 \r\nQ 28.375 -14.84375 24.75 -17.8125 \r\nQ 21.140625 -20.796875 15.09375 -20.796875 \r\nL 7.90625 -20.796875 \r\nL 7.90625 -13.28125 \r\nL 13.1875 -13.28125 \r\nQ 16.890625 -13.28125 18.9375 -11.515625 \r\nQ 21 -9.765625 23.484375 -3.21875 \r\nL 25.09375 0.875 \r\nL 2.984375 54.6875 \r\nL 12.5 54.6875 \r\nL 29.59375 11.921875 \r\nL 46.6875 54.6875 \r\nL 56.203125 54.6875 \r\nz\r\n\" id=\"DejaVuSans-121\"/>\r\n      <path d=\"M 34.1875 63.1875 \r\nL 20.796875 26.90625 \r\nL 47.609375 26.90625 \r\nz\r\nM 28.609375 72.90625 \r\nL 39.796875 72.90625 \r\nL 67.578125 0 \r\nL 57.328125 0 \r\nL 50.6875 18.703125 \r\nL 17.828125 18.703125 \r\nL 11.1875 0 \r\nL 0.78125 0 \r\nz\r\n\" id=\"DejaVuSans-65\"/>\r\n     </defs>\r\n     <use xlink:href=\"#DejaVuSans-75\"/>\r\n     <use x=\"60.576172\" xlink:href=\"#DejaVuSans-101\"/>\r\n     <use x=\"122.099609\" xlink:href=\"#DejaVuSans-110\"/>\r\n     <use x=\"185.478516\" xlink:href=\"#DejaVuSans-110\"/>\r\n     <use x=\"248.857422\" xlink:href=\"#DejaVuSans-101\"/>\r\n     <use x=\"310.380859\" xlink:href=\"#DejaVuSans-100\"/>\r\n     <use x=\"373.857422\" xlink:href=\"#DejaVuSans-121\"/>\r\n     <use x=\"433.037109\" xlink:href=\"#DejaVuSans-32\"/>\r\n     <use x=\"464.824219\" xlink:href=\"#DejaVuSans-40\"/>\r\n     <use x=\"503.837891\" xlink:href=\"#DejaVuSans-77\"/>\r\n     <use x=\"590.117188\" xlink:href=\"#DejaVuSans-65\"/>\r\n     <use x=\"658.525391\" xlink:href=\"#DejaVuSans-41\"/>\r\n    </g>\r\n   </g>\r\n   <g id=\"text_24\">\r\n    <!-- Menedez (NJ) -->\r\n    <g transform=\"translate(244.337437 23.425861)scale(0.1 -0.1)\">\r\n     <defs>\r\n      <path d=\"M 5.515625 54.6875 \r\nL 48.1875 54.6875 \r\nL 48.1875 46.484375 \r\nL 14.40625 7.171875 \r\nL 48.1875 7.171875 \r\nL 48.1875 0 \r\nL 4.296875 0 \r\nL 4.296875 8.203125 \r\nL 38.09375 47.515625 \r\nL 5.515625 47.515625 \r\nz\r\n\" id=\"DejaVuSans-122\"/>\r\n      <path d=\"M 9.8125 72.90625 \r\nL 19.671875 72.90625 \r\nL 19.671875 5.078125 \r\nQ 19.671875 -8.109375 14.671875 -14.0625 \r\nQ 9.671875 -20.015625 -1.421875 -20.015625 \r\nL -5.171875 -20.015625 \r\nL -5.171875 -11.71875 \r\nL -2.09375 -11.71875 \r\nQ 4.4375 -11.71875 7.125 -8.046875 \r\nQ 9.8125 -4.390625 9.8125 5.078125 \r\nz\r\n\" id=\"DejaVuSans-74\"/>\r\n     </defs>\r\n     <use xlink:href=\"#DejaVuSans-77\"/>\r\n     <use x=\"86.279297\" xlink:href=\"#DejaVuSans-101\"/>\r\n     <use x=\"147.802734\" xlink:href=\"#DejaVuSans-110\"/>\r\n     <use x=\"211.181641\" xlink:href=\"#DejaVuSans-101\"/>\r\n     <use x=\"272.705078\" xlink:href=\"#DejaVuSans-100\"/>\r\n     <use x=\"336.181641\" xlink:href=\"#DejaVuSans-101\"/>\r\n     <use x=\"397.705078\" xlink:href=\"#DejaVuSans-122\"/>\r\n     <use x=\"450.195312\" xlink:href=\"#DejaVuSans-32\"/>\r\n     <use x=\"481.982422\" xlink:href=\"#DejaVuSans-40\"/>\r\n     <use x=\"520.996094\" xlink:href=\"#DejaVuSans-78\"/>\r\n     <use x=\"595.800781\" xlink:href=\"#DejaVuSans-74\"/>\r\n     <use x=\"625.292969\" xlink:href=\"#DejaVuSans-41\"/>\r\n    </g>\r\n   </g>\r\n   <g id=\"text_25\">\r\n    <!-- Collins (ME) -->\r\n    <g transform=\"translate(213.368437 184.473661)scale(0.1 -0.1)\">\r\n     <defs>\r\n      <path d=\"M 9.421875 54.6875 \r\nL 18.40625 54.6875 \r\nL 18.40625 0 \r\nL 9.421875 0 \r\nz\r\nM 9.421875 75.984375 \r\nL 18.40625 75.984375 \r\nL 18.40625 64.59375 \r\nL 9.421875 64.59375 \r\nz\r\n\" id=\"DejaVuSans-105\"/>\r\n     </defs>\r\n     <use xlink:href=\"#DejaVuSans-67\"/>\r\n     <use x=\"69.824219\" xlink:href=\"#DejaVuSans-111\"/>\r\n     <use x=\"131.005859\" xlink:href=\"#DejaVuSans-108\"/>\r\n     <use x=\"158.789062\" xlink:href=\"#DejaVuSans-108\"/>\r\n     <use x=\"186.572266\" xlink:href=\"#DejaVuSans-105\"/>\r\n     <use x=\"214.355469\" xlink:href=\"#DejaVuSans-110\"/>\r\n     <use x=\"277.734375\" xlink:href=\"#DejaVuSans-115\"/>\r\n     <use x=\"329.833984\" xlink:href=\"#DejaVuSans-32\"/>\r\n     <use x=\"361.621094\" xlink:href=\"#DejaVuSans-40\"/>\r\n     <use x=\"400.634766\" xlink:href=\"#DejaVuSans-77\"/>\r\n     <use x=\"486.914062\" xlink:href=\"#DejaVuSans-69\"/>\r\n     <use x=\"550.097656\" xlink:href=\"#DejaVuSans-41\"/>\r\n    </g>\r\n   </g>\r\n   <g id=\"text_26\">\r\n    <!-- Obama (IL) -->\r\n    <g transform=\"translate(280.328438 36.140161)scale(0.1 -0.1)\">\r\n     <defs>\r\n      <path d=\"M 39.40625 66.21875 \r\nQ 28.65625 66.21875 22.328125 58.203125 \r\nQ 16.015625 50.203125 16.015625 36.375 \r\nQ 16.015625 22.609375 22.328125 14.59375 \r\nQ 28.65625 6.59375 39.40625 6.59375 \r\nQ 50.140625 6.59375 56.421875 14.59375 \r\nQ 62.703125 22.609375 62.703125 36.375 \r\nQ 62.703125 50.203125 56.421875 58.203125 \r\nQ 50.140625 66.21875 39.40625 66.21875 \r\nz\r\nM 39.40625 74.21875 \r\nQ 54.734375 74.21875 63.90625 63.9375 \r\nQ 73.09375 53.65625 73.09375 36.375 \r\nQ 73.09375 19.140625 63.90625 8.859375 \r\nQ 54.734375 -1.421875 39.40625 -1.421875 \r\nQ 24.03125 -1.421875 14.8125 8.828125 \r\nQ 5.609375 19.09375 5.609375 36.375 \r\nQ 5.609375 53.65625 14.8125 63.9375 \r\nQ 24.03125 74.21875 39.40625 74.21875 \r\nz\r\n\" id=\"DejaVuSans-79\"/>\r\n      <path d=\"M 48.6875 27.296875 \r\nQ 48.6875 37.203125 44.609375 42.84375 \r\nQ 40.53125 48.484375 33.40625 48.484375 \r\nQ 26.265625 48.484375 22.1875 42.84375 \r\nQ 18.109375 37.203125 18.109375 27.296875 \r\nQ 18.109375 17.390625 22.1875 11.75 \r\nQ 26.265625 6.109375 33.40625 6.109375 \r\nQ 40.53125 6.109375 44.609375 11.75 \r\nQ 48.6875 17.390625 48.6875 27.296875 \r\nz\r\nM 18.109375 46.390625 \r\nQ 20.953125 51.265625 25.265625 53.625 \r\nQ 29.59375 56 35.59375 56 \r\nQ 45.5625 56 51.78125 48.09375 \r\nQ 58.015625 40.1875 58.015625 27.296875 \r\nQ 58.015625 14.40625 51.78125 6.484375 \r\nQ 45.5625 -1.421875 35.59375 -1.421875 \r\nQ 29.59375 -1.421875 25.265625 0.953125 \r\nQ 20.953125 3.328125 18.109375 8.203125 \r\nL 18.109375 0 \r\nL 9.078125 0 \r\nL 9.078125 75.984375 \r\nL 18.109375 75.984375 \r\nz\r\n\" id=\"DejaVuSans-98\"/>\r\n      <path d=\"M 52 44.1875 \r\nQ 55.375 50.25 60.0625 53.125 \r\nQ 64.75 56 71.09375 56 \r\nQ 79.640625 56 84.28125 50.015625 \r\nQ 88.921875 44.046875 88.921875 33.015625 \r\nL 88.921875 0 \r\nL 79.890625 0 \r\nL 79.890625 32.71875 \r\nQ 79.890625 40.578125 77.09375 44.375 \r\nQ 74.3125 48.1875 68.609375 48.1875 \r\nQ 61.625 48.1875 57.5625 43.546875 \r\nQ 53.515625 38.921875 53.515625 30.90625 \r\nL 53.515625 0 \r\nL 44.484375 0 \r\nL 44.484375 32.71875 \r\nQ 44.484375 40.625 41.703125 44.40625 \r\nQ 38.921875 48.1875 33.109375 48.1875 \r\nQ 26.21875 48.1875 22.15625 43.53125 \r\nQ 18.109375 38.875 18.109375 30.90625 \r\nL 18.109375 0 \r\nL 9.078125 0 \r\nL 9.078125 54.6875 \r\nL 18.109375 54.6875 \r\nL 18.109375 46.1875 \r\nQ 21.1875 51.21875 25.484375 53.609375 \r\nQ 29.78125 56 35.6875 56 \r\nQ 41.65625 56 45.828125 52.96875 \r\nQ 50 49.953125 52 44.1875 \r\nz\r\n\" id=\"DejaVuSans-109\"/>\r\n      <path d=\"M 9.8125 72.90625 \r\nL 19.671875 72.90625 \r\nL 19.671875 8.296875 \r\nL 55.171875 8.296875 \r\nL 55.171875 0 \r\nL 9.8125 0 \r\nz\r\n\" id=\"DejaVuSans-76\"/>\r\n     </defs>\r\n     <use xlink:href=\"#DejaVuSans-79\"/>\r\n     <use x=\"78.710938\" xlink:href=\"#DejaVuSans-98\"/>\r\n     <use x=\"142.1875\" xlink:href=\"#DejaVuSans-97\"/>\r\n     <use x=\"203.466797\" xlink:href=\"#DejaVuSans-109\"/>\r\n     <use x=\"300.878906\" xlink:href=\"#DejaVuSans-97\"/>\r\n     <use x=\"362.158203\" xlink:href=\"#DejaVuSans-32\"/>\r\n     <use x=\"393.945312\" xlink:href=\"#DejaVuSans-40\"/>\r\n     <use x=\"432.958984\" xlink:href=\"#DejaVuSans-73\"/>\r\n     <use x=\"462.451172\" xlink:href=\"#DejaVuSans-76\"/>\r\n     <use x=\"518.164062\" xlink:href=\"#DejaVuSans-41\"/>\r\n    </g>\r\n   </g>\r\n   <g id=\"text_27\">\r\n    <!-- Burr (NC) -->\r\n    <g transform=\"translate(173.192438 94.060861)scale(0.1 -0.1)\">\r\n     <defs>\r\n      <path d=\"M 19.671875 34.8125 \r\nL 19.671875 8.109375 \r\nL 35.5 8.109375 \r\nQ 43.453125 8.109375 47.28125 11.40625 \r\nQ 51.125 14.703125 51.125 21.484375 \r\nQ 51.125 28.328125 47.28125 31.5625 \r\nQ 43.453125 34.8125 35.5 34.8125 \r\nz\r\nM 19.671875 64.796875 \r\nL 19.671875 42.828125 \r\nL 34.28125 42.828125 \r\nQ 41.5 42.828125 45.03125 45.53125 \r\nQ 48.578125 48.25 48.578125 53.8125 \r\nQ 48.578125 59.328125 45.03125 62.0625 \r\nQ 41.5 64.796875 34.28125 64.796875 \r\nz\r\nM 9.8125 72.90625 \r\nL 35.015625 72.90625 \r\nQ 46.296875 72.90625 52.390625 68.21875 \r\nQ 58.5 63.53125 58.5 54.890625 \r\nQ 58.5 48.1875 55.375 44.234375 \r\nQ 52.25 40.28125 46.1875 39.3125 \r\nQ 53.46875 37.75 57.5 32.78125 \r\nQ 61.53125 27.828125 61.53125 20.40625 \r\nQ 61.53125 10.640625 54.890625 5.3125 \r\nQ 48.25 0 35.984375 0 \r\nL 9.8125 0 \r\nz\r\n\" id=\"DejaVuSans-66\"/>\r\n      <path d=\"M 8.5 21.578125 \r\nL 8.5 54.6875 \r\nL 17.484375 54.6875 \r\nL 17.484375 21.921875 \r\nQ 17.484375 14.15625 20.5 10.265625 \r\nQ 23.53125 6.390625 29.59375 6.390625 \r\nQ 36.859375 6.390625 41.078125 11.03125 \r\nQ 45.3125 15.671875 45.3125 23.6875 \r\nL 45.3125 54.6875 \r\nL 54.296875 54.6875 \r\nL 54.296875 0 \r\nL 45.3125 0 \r\nL 45.3125 8.40625 \r\nQ 42.046875 3.421875 37.71875 1 \r\nQ 33.40625 -1.421875 27.6875 -1.421875 \r\nQ 18.265625 -1.421875 13.375 4.4375 \r\nQ 8.5 10.296875 8.5 21.578125 \r\nz\r\nM 31.109375 56 \r\nz\r\n\" id=\"DejaVuSans-117\"/>\r\n      <path d=\"M 41.109375 46.296875 \r\nQ 39.59375 47.171875 37.8125 47.578125 \r\nQ 36.03125 48 33.890625 48 \r\nQ 26.265625 48 22.1875 43.046875 \r\nQ 18.109375 38.09375 18.109375 28.8125 \r\nL 18.109375 0 \r\nL 9.078125 0 \r\nL 9.078125 54.6875 \r\nL 18.109375 54.6875 \r\nL 18.109375 46.1875 \r\nQ 20.953125 51.171875 25.484375 53.578125 \r\nQ 30.03125 56 36.53125 56 \r\nQ 37.453125 56 38.578125 55.875 \r\nQ 39.703125 55.765625 41.0625 55.515625 \r\nz\r\n\" id=\"DejaVuSans-114\"/>\r\n     </defs>\r\n     <use xlink:href=\"#DejaVuSans-66\"/>\r\n     <use x=\"68.603516\" xlink:href=\"#DejaVuSans-117\"/>\r\n     <use x=\"131.982422\" xlink:href=\"#DejaVuSans-114\"/>\r\n     <use x=\"171.345703\" xlink:href=\"#DejaVuSans-114\"/>\r\n     <use x=\"212.458984\" xlink:href=\"#DejaVuSans-32\"/>\r\n     <use x=\"244.246094\" xlink:href=\"#DejaVuSans-40\"/>\r\n     <use x=\"283.259766\" xlink:href=\"#DejaVuSans-78\"/>\r\n     <use x=\"358.064453\" xlink:href=\"#DejaVuSans-67\"/>\r\n     <use x=\"427.888672\" xlink:href=\"#DejaVuSans-41\"/>\r\n    </g>\r\n   </g>\r\n   <g id=\"text_28\">\r\n    <!-- Bingaman (TX) -->\r\n    <g transform=\"translate(307.949437 218.378461)scale(0.1 -0.1)\">\r\n     <defs>\r\n      <path d=\"M 45.40625 27.984375 \r\nQ 45.40625 37.75 41.375 43.109375 \r\nQ 37.359375 48.484375 30.078125 48.484375 \r\nQ 22.859375 48.484375 18.828125 43.109375 \r\nQ 14.796875 37.75 14.796875 27.984375 \r\nQ 14.796875 18.265625 18.828125 12.890625 \r\nQ 22.859375 7.515625 30.078125 7.515625 \r\nQ 37.359375 7.515625 41.375 12.890625 \r\nQ 45.40625 18.265625 45.40625 27.984375 \r\nz\r\nM 54.390625 6.78125 \r\nQ 54.390625 -7.171875 48.1875 -13.984375 \r\nQ 42 -20.796875 29.203125 -20.796875 \r\nQ 24.46875 -20.796875 20.265625 -20.09375 \r\nQ 16.0625 -19.390625 12.109375 -17.921875 \r\nL 12.109375 -9.1875 \r\nQ 16.0625 -11.328125 19.921875 -12.34375 \r\nQ 23.78125 -13.375 27.78125 -13.375 \r\nQ 36.625 -13.375 41.015625 -8.765625 \r\nQ 45.40625 -4.15625 45.40625 5.171875 \r\nL 45.40625 9.625 \r\nQ 42.625 4.78125 38.28125 2.390625 \r\nQ 33.9375 0 27.875 0 \r\nQ 17.828125 0 11.671875 7.65625 \r\nQ 5.515625 15.328125 5.515625 27.984375 \r\nQ 5.515625 40.671875 11.671875 48.328125 \r\nQ 17.828125 56 27.875 56 \r\nQ 33.9375 56 38.28125 53.609375 \r\nQ 42.625 51.21875 45.40625 46.390625 \r\nL 45.40625 54.6875 \r\nL 54.390625 54.6875 \r\nz\r\n\" id=\"DejaVuSans-103\"/>\r\n      <path d=\"M -0.296875 72.90625 \r\nL 61.375 72.90625 \r\nL 61.375 64.59375 \r\nL 35.5 64.59375 \r\nL 35.5 0 \r\nL 25.59375 0 \r\nL 25.59375 64.59375 \r\nL -0.296875 64.59375 \r\nz\r\n\" id=\"DejaVuSans-84\"/>\r\n      <path d=\"M 6.296875 72.90625 \r\nL 16.890625 72.90625 \r\nL 35.015625 45.796875 \r\nL 53.21875 72.90625 \r\nL 63.8125 72.90625 \r\nL 40.375 37.890625 \r\nL 65.375 0 \r\nL 54.78125 0 \r\nL 34.28125 31 \r\nL 13.625 0 \r\nL 2.984375 0 \r\nL 29 38.921875 \r\nz\r\n\" id=\"DejaVuSans-88\"/>\r\n     </defs>\r\n     <use xlink:href=\"#DejaVuSans-66\"/>\r\n     <use x=\"68.603516\" xlink:href=\"#DejaVuSans-105\"/>\r\n     <use x=\"96.386719\" xlink:href=\"#DejaVuSans-110\"/>\r\n     <use x=\"159.765625\" xlink:href=\"#DejaVuSans-103\"/>\r\n     <use x=\"223.242188\" xlink:href=\"#DejaVuSans-97\"/>\r\n     <use x=\"284.521484\" xlink:href=\"#DejaVuSans-109\"/>\r\n     <use x=\"381.933594\" xlink:href=\"#DejaVuSans-97\"/>\r\n     <use x=\"443.212891\" xlink:href=\"#DejaVuSans-110\"/>\r\n     <use x=\"506.591797\" xlink:href=\"#DejaVuSans-32\"/>\r\n     <use x=\"538.378906\" xlink:href=\"#DejaVuSans-40\"/>\r\n     <use x=\"577.392578\" xlink:href=\"#DejaVuSans-84\"/>\r\n     <use x=\"638.476562\" xlink:href=\"#DejaVuSans-88\"/>\r\n     <use x=\"706.982422\" xlink:href=\"#DejaVuSans-41\"/>\r\n    </g>\r\n   </g>\r\n  </g>\r\n </g>\r\n <defs>\r\n  <clipPath id=\"p7b52cb16d7\">\r\n   <rect height=\"217.44\" width=\"334.8\" x=\"58.523438\" y=\"7.2\"/>\r\n  </clipPath>\r\n </defs>\r\n</svg>\r\n",
      "image/png": "[encoded data removed]"
     },
     "metadata": {
      "needs_background": "light"
     }
    }
   ],
   "source": [
    "#run this cell to make a scatter plot using your results\n",
    "plt.scatter(res.components_[0], res.components_[1], c=RB['Color'])\n",
    "plt.xlabel(\"PC1\")\n",
    "plt.ylabel(\"PC2\")\n",
    "plt.annotate(\"Nelson (NE)\", (-0.009, -0.078))\n",
    "plt.annotate(\"Chafee (RI)\", (0.035, -0.083))\n",
    "plt.annotate(\"McConnell (KY)\", (-0.159, -0.112))\n",
    "plt.annotate(\"Kennedy (MA)\", (0.145, -0.112))\n",
    "plt.annotate(\"Menedez (NJ)\", (0.022, -0.004))\n",
    "plt.annotate(\"Collins (ME)\", (-0.015, -0.118))\n",
    "plt.annotate(\"Obama (IL)\", (0.065, -0.013))\n",
    "plt.annotate(\"Burr (NC)\", (-0.063, -0.054))\n",
    "plt.annotate(\"Bingaman (TX)\", (0.098, -0.142))\n",
    "plt.xlim(-0.2, 0.2)\n",
    "plt.show()"
   ]
  },
  {
   "cell_type": "markdown",
   "metadata": {
    "deletable": false,
    "editable": false,
    "nbgrader": {
     "checksum": "baa173f91504a40c93a7655ef9a905d3",
     "grade": false,
     "grade_id": "cell-9cd4e8d2f225fafd",
     "locked": true,
     "schema_version": 1,
     "solution": false
    }
   },
   "source": [
    "## Part 3: Composition \n"
   ]
  },
  {
   "cell_type": "markdown",
   "metadata": {
    "deletable": false,
    "editable": false,
    "nbgrader": {
     "checksum": "4d362bc5ffa395158863024f1a23b0f4",
     "grade": false,
     "grade_id": "cell-f0196a1e1ab90e75",
     "locked": true,
     "schema_version": 1,
     "solution": false
    }
   },
   "source": [
    "<strong>3.1</strong> \\[1 pt\\] Assume f(x)= 3x+6 and g(y)= 2y+1, what is the reduced equation of h(x)=g * f(x)=g(f(x))? Store your answer in the variable <strong>compo</strong> as a string type that is a valid python formula.  For example, \"5 * x ** 2 + 4\".  Note that neither \"5 x ** 2 + 4\" nor \"\"5 * x ^ 2 + 4\" are valid python formulas."
   ]
  },
  {
   "cell_type": "code",
   "execution_count": 24,
   "metadata": {
    "deletable": false,
    "nbgrader": {
     "checksum": "216a61b0d4d2634928a988b3dd04004b",
     "grade": false,
     "grade_id": "cell-81395b5bd2a197fb",
     "locked": false,
     "schema_version": 1,
     "solution": true
    }
   },
   "outputs": [],
   "source": [
    "compo=\"6 * x +13\"\n",
    "# YOUR CODE HERE\n",
    "# raise NotImplementedError()"
   ]
  },
  {
   "cell_type": "code",
   "execution_count": 25,
   "metadata": {
    "deletable": false,
    "editable": false,
    "nbgrader": {
     "checksum": "ab1988a91ec4eb69484250d75267e0bd",
     "grade": true,
     "grade_id": "cell-f797c1459bf93874",
     "locked": true,
     "points": 1,
     "schema_version": 1,
     "solution": false
    }
   },
   "outputs": [],
   "source": [
    "assert type(compo) == str, \"Problem 3.1, testing compo, type of value stored in variable does not match the expected type. Expecting String.\""
   ]
  },
  {
   "cell_type": "markdown",
   "metadata": {
    "deletable": false,
    "editable": false,
    "nbgrader": {
     "checksum": "81500b9d6c2a6f4024c7bc2ced1d791f",
     "grade": false,
     "grade_id": "cell-96318587904ad09d",
     "locked": true,
     "schema_version": 1,
     "solution": false
    }
   },
   "source": [
    "<strong>3.2</strong> \\[1 pt\\] Given x = 1, use the equation assigned to compo to solve. Store your answer in the variable <strong>compo1</strong> as an integer. "
   ]
  },
  {
   "cell_type": "code",
   "execution_count": 26,
   "metadata": {
    "deletable": false,
    "nbgrader": {
     "checksum": "ecd82c5ea467a83ea08fb1821be447c1",
     "grade": false,
     "grade_id": "cell-beb471e3c613b1ec",
     "locked": false,
     "schema_version": 1,
     "solution": true
    }
   },
   "outputs": [],
   "source": [
    "compo1=19\n",
    "# YOUR CODE HERE\n",
    "# raise NotImplementedError()"
   ]
  },
  {
   "cell_type": "code",
   "execution_count": null,
   "metadata": {
    "deletable": false,
    "editable": false,
    "nbgrader": {
     "checksum": "03b56d9f1f4e4da15b52e07523d43748",
     "grade": true,
     "grade_id": "cell-850259d8a0f763ca",
     "locked": true,
     "points": 1,
     "schema_version": 1,
     "solution": false
    }
   },
   "outputs": [],
   "source": [
    "import numbers\n",
    "assert isinstance(compo1, numbers.Number), \"Problem 3.2, testing compo1, type of value stored in variable does not match the expected type. Expecting Integer.\""
   ]
  },
  {
   "cell_type": "markdown",
   "metadata": {
    "deletable": false,
    "editable": false,
    "nbgrader": {
     "checksum": "5fb7b535cdfead0c3954b5e5cd7b678a",
     "grade": false,
     "grade_id": "cell-10c31810a421b502",
     "locked": true,
     "schema_version": 1,
     "solution": false
    }
   },
   "source": [
    "## Part4: Linear Transformation "
   ]
  },
  {
   "cell_type": "markdown",
   "metadata": {
    "deletable": false,
    "editable": false,
    "nbgrader": {
     "checksum": "08ae96d45ecbf5461477b060950baf55",
     "grade": false,
     "grade_id": "cell-05f210a9b75f0951",
     "locked": true,
     "schema_version": 1,
     "solution": false
    }
   },
   "source": [
    "<strong>4.1</strong> \\[2 pt\\] Assume we have an function: $f(x, y, z) = x$<sup>2</sup>$yz/3+x\\sqrt{y}$+3z =10, is this function linear in x, y, or z?  For each variable, provide a string with a nonlinear term involving that variable or the empty string if none exists.  Again, report python executable strings.  For example, the equation might be written \"(x ** 2) * y * z/3 + x * np.sqrt(y) + z + 3z = 10\" in python"
   ]
  },
  {
   "cell_type": "code",
   "execution_count": 27,
   "metadata": {
    "deletable": false,
    "nbgrader": {
     "checksum": "4795369007a85417fa51dbf51e91e7b5",
     "grade": false,
     "grade_id": "cell-7cd69aa0c7535f5d",
     "locked": false,
     "schema_version": 1,
     "solution": true
    }
   },
   "outputs": [],
   "source": [
    "non_linear_X = \"(x ** 2) * y * z/3\"\n",
    "non_linear_Y = \"x * np.sqrt(y)\"\n",
    "non_linear_Z = \"\""
   ]
  },
  {
   "cell_type": "code",
   "execution_count": null,
   "metadata": {
    "deletable": false,
    "editable": false,
    "nbgrader": {
     "checksum": "2e6c7c4bc810ae206d61c1264f827903",
     "grade": true,
     "grade_id": "cell-4e6661b95f6581b7",
     "locked": true,
     "points": 1,
     "schema_version": 1,
     "solution": false
    }
   },
   "outputs": [],
   "source": [
    "#hidden tests for problem 4.1 are within this cell"
   ]
  }
 ],
 "metadata": {
  "coursera": {
   "schema_names": [
    "mads_math_methods_for_data_science_v3_assignment2"
   ]
  },
  "kernelspec": {
   "display_name": "Python 3",
   "language": "python",
   "name": "python3"
  },
  "language_info": {
   "codemirror_mode": {
    "name": "ipython",
    "version": 3
   },
   "file_extension": ".py",
   "mimetype": "text/x-python",
   "name": "python",
   "nbconvert_exporter": "python",
   "pygments_lexer": "ipython3",
   "version": "3.8.5-final"
  }
 },
 "nbformat": 4,
 "nbformat_minor": 2
}