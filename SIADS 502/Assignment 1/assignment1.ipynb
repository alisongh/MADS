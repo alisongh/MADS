{
 "cells": [
  {
   "cell_type": "markdown",
   "metadata": {
    "deletable": false,
    "editable": false,
    "nbgrader": {
     "checksum": "0b5b01d755e4b354b68dc25dc0c88147",
     "grade": false,
     "grade_id": "cell-f3fdc0fa380444ef",
     "locked": true,
     "schema_version": 1,
     "solution": false
    }
   },
   "source": [
    "# SIDAS502: Math Methods for Data Science \n",
    "\n",
    "\n",
    "# School of Information, University of Michigan\n",
    "\n",
    "\n",
    "## Week1: Vectors and Matrices Computation/Basic image processing \n",
    "\n",
    "### Version 1.1\n",
    "\n",
    "This assignment is designed to let you apply basic concepts and perform basic algebra operations using vectors and matrices in Python. We will use Jupyter Notebooks to organize and submit your assignment. Please read the directions carefully, as we want to avoid submissions that are marked incorrect due to formatting mistakes. You will use vector and matrix computation using numpy and image processing with openCV. \n",
    "\n",
    "- Submit the following code at the beginning of your assignment:\n",
    "- import pandas as pd\n",
    "- import numpy as np\n",
    "- from scipy.ndimage import zoom\n",
    "- import unittest"
   ]
  },
  {
   "cell_type": "markdown",
   "metadata": {},
   "source": [
    "Please enter your name: \"\""
   ]
  },
  {
   "cell_type": "markdown",
   "metadata": {
    "deletable": false,
    "editable": false,
    "nbgrader": {
     "checksum": "d1e624b80851e66f14bc204c7cae99a3",
     "grade": false,
     "grade_id": "cell-b7c9b5edc2f19376",
     "locked": true,
     "schema_version": 1,
     "solution": false
    }
   },
   "source": [
    "## Part 1: Vector  Computation"
   ]
  },
  {
   "cell_type": "markdown",
   "metadata": {
    "deletable": false,
    "editable": false,
    "nbgrader": {
     "checksum": "999c860a20bb0cd24b365329757fb17b",
     "grade": false,
     "grade_id": "cell-139c07b4cd02fc78",
     "locked": true,
     "schema_version": 1,
     "solution": false
    }
   },
   "source": [
    "<strong>1.1</strong> \\[1 pt\\] Please write a function called <strong>computation</strong> that takes three variables called <strong>a(integer), v1(vector represented as a list)</strong> and <strong>v2(vector represented as a list)</strong> and returns a dictionary that has six keys: <strong>addition</strong> (the sum of v1 and v2, this should be a numpy array), <strong>subtraction</strong> (the difference from subtracting v2 from v1, this should be a numpy array), <strong>scale</strong> (scalling v1 by a, this should be a numpy array), <strong>dot</strong> (dot product of v1 and v2, this should be a float), <strong>length</strong> (norm of v1, this should be a float), and <strong>cross</strong> (cross product of v1 and v2, this should be a numpy array)."
   ]
  },
  {
   "cell_type": "code",
   "execution_count": 1,
   "metadata": {},
   "outputs": [],
   "source": [
    "import pandas as pd\n",
    "import numpy as np\n",
    "from scipy.ndimage import zoom\n",
    "import unittest"
   ]
  },
  {
   "cell_type": "code",
   "execution_count": 6,
   "metadata": {
    "deletable": false,
    "nbgrader": {
     "checksum": "e152d1cf91732a7af09bcc463e8fac63",
     "grade": false,
     "grade_id": "cell-22c5340398fc526a",
     "locked": false,
     "schema_version": 1,
     "solution": true
    }
   },
   "outputs": [],
   "source": [
    "def computation(a,v1,v2):\n",
    "    vector_1 = np.array(v1)\n",
    "    vector_2 = np.array(v2)\n",
    "    output = {\"addition\": vector_1 + vector_2,\n",
    "    \"subtraction\": vector_1 - vector_2,\n",
    "    \"scale\": vector_1 * a,\n",
    "    \"dot\": (vector_1 * vector_2).sum(),\n",
    "    \"length\": np.sqrt((vector_1 * vector_1).sum()),\n",
    "    \"cross\": np.cross(vector_1, vector_2)}\n",
    "    return output\n",
    "    # YOUR CODE HERE\n",
    "    # raise NotImplementedError()"
   ]
  },
  {
   "cell_type": "code",
   "execution_count": null,
   "metadata": {},
   "outputs": [],
   "source": [
    "# def computation(a,v1,v2):\n",
    "#     vec1 = np.array(v1)\n",
    "#     vec2 = np.array(v2)\n",
    "#     return {\"addition\": vec1 + vec2, \"subtraction\": vec1 - vec2, \"scale\": vec1 * a, \n",
    "#             \"dot\": (vec1 * vec2).sum(), \"length\": np.sqrt((vec1 * vec1).sum()), \"cross\": np.cross(vec1, vec2)}\n",
    "# computation(3, [1, 0, 5], [2, 8, 4])"
   ]
  },
  {
   "cell_type": "code",
   "execution_count": null,
   "metadata": {
    "deletable": false,
    "editable": false,
    "nbgrader": {
     "checksum": "8c0e653c123fd51e3fa792d713b3c8fc",
     "grade": true,
     "grade_id": "cell-f4a2e31983c60a0a",
     "locked": true,
     "points": 1,
     "schema_version": 1,
     "solution": false
    }
   },
   "outputs": [],
   "source": [
    "#hidden tests for problem 1.1 are within this cell"
   ]
  },
  {
   "cell_type": "markdown",
   "metadata": {
    "deletable": false,
    "editable": false,
    "nbgrader": {
     "checksum": "eed68c327976d70661e7a42bdc0ff295",
     "grade": false,
     "grade_id": "cell-60bc50247805bc0d",
     "locked": true,
     "schema_version": 1,
     "solution": false
    }
   },
   "source": [
    "Below is the example of a=1, v1=[1,6] and v2=[8,-3] by the computation method. Please run the code, play around the numbers, and see the result."
   ]
  },
  {
   "cell_type": "code",
   "execution_count": 7,
   "metadata": {},
   "outputs": [
    {
     "output_type": "stream",
     "name": "stdout",
     "text": [
      "{'addition': array([9, 3]), 'subtraction': array([-7,  9]), 'scal': array([1, 6]), 'dot': -10, 'length': 6.082762530298219, 'cross': array(-51)}\n"
     ]
    }
   ],
   "source": [
    "v1=[1,6]\n",
    "v2=[8,-3]\n",
    "result = computation(1,v1,v2)\n",
    "print(result)"
   ]
  },
  {
   "cell_type": "markdown",
   "metadata": {
    "deletable": false,
    "editable": false,
    "nbgrader": {
     "checksum": "18d64d44f85863c810e60934f710da75",
     "grade": false,
     "grade_id": "cell-f10838e0e8c52b21",
     "locked": true,
     "schema_version": 1,
     "solution": false
    }
   },
   "source": [
    "<strong>1.2</strong> \\[1 pt\\] What is the dimension of v3? Please store the v3 dimension into variable <strong>v3_dimen</strong> using numpy.\n",
    "\n",
    "For grading purposes, `v2_dimen` should be type `tuple`."
   ]
  },
  {
   "cell_type": "code",
   "execution_count": 5,
   "metadata": {
    "deletable": false,
    "nbgrader": {
     "checksum": "2fe4b2a97fd0196312f4771256f1940d",
     "grade": false,
     "grade_id": "cell-3c74940585fa0a97",
     "locked": false,
     "schema_version": 1,
     "solution": true
    }
   },
   "outputs": [
    {
     "output_type": "execute_result",
     "data": {
      "text/plain": [
       "(2,)"
      ]
     },
     "metadata": {},
     "execution_count": 5
    }
   ],
   "source": [
    "v3 = np.array([5, 4])\n",
    "\n",
    "v3_dimen=v3.shape\n",
    "v3_dimen\n",
    "# YOUR CODE HERE\n",
    "# raise NotImplementedError()"
   ]
  },
  {
   "cell_type": "code",
   "execution_count": null,
   "metadata": {
    "deletable": false,
    "editable": false,
    "nbgrader": {
     "checksum": "9bf9a3d9c11ea7a51cfee08a74a5f032",
     "grade": true,
     "grade_id": "cell-667a0fabd0b24a44",
     "locked": true,
     "points": 1,
     "schema_version": 1,
     "solution": false
    }
   },
   "outputs": [],
   "source": [
    "assert type(v3_dimen) == tuple, \"Problem 1.2, testing v3_dimen, type of value stored in variable does not match the expected type. Expecting Tuple.\""
   ]
  },
  {
   "cell_type": "markdown",
   "metadata": {
    "deletable": false,
    "editable": false,
    "nbgrader": {
     "checksum": "9192440266fb78e812d67a18ea025bd1",
     "grade": false,
     "grade_id": "cell-470cf5f2c5ad9cb2",
     "locked": true,
     "schema_version": 1,
     "solution": false
    }
   },
   "source": [
    "<strong>1.3</strong> \\[1 pt\\] What is the v4 dimension? Please store the v4 dimension into variable <strong>v4_dimen</strong> using numpy.\n",
    "\n",
    "For grading purposes, `v4_dimen` should be type `tuple`."
   ]
  },
  {
   "cell_type": "code",
   "execution_count": 6,
   "metadata": {
    "deletable": false,
    "nbgrader": {
     "checksum": "e5c733eb8929d0ff6fca1b3c8da38cdc",
     "grade": false,
     "grade_id": "cell-d41c577a699b60e7",
     "locked": false,
     "schema_version": 1,
     "solution": true
    }
   },
   "outputs": [
    {
     "output_type": "execute_result",
     "data": {
      "text/plain": [
       "(5,)"
      ]
     },
     "metadata": {},
     "execution_count": 6
    }
   ],
   "source": [
    "v4 = np.array([1,  2,  3, 4, 5])\n",
    "\n",
    "v4_dimen=v4.shape\n",
    "v4_dimen\n",
    "# YOUR CODE HERE\n",
    "# raise NotImplementedError()"
   ]
  },
  {
   "cell_type": "code",
   "execution_count": null,
   "metadata": {
    "deletable": false,
    "editable": false,
    "nbgrader": {
     "checksum": "04bb9764ba6f610c8495e330312c80a1",
     "grade": true,
     "grade_id": "cell-d32bdb8279f75fb8",
     "locked": true,
     "points": 1,
     "schema_version": 1,
     "solution": false
    }
   },
   "outputs": [],
   "source": [
    "assert type(v4_dimen) == tuple,  \"Problem 1.3, testing v4_dimen, type of value stored in variable does not match the expected type. Expecting Tuple.\""
   ]
  },
  {
   "cell_type": "markdown",
   "metadata": {
    "deletable": false,
    "editable": false,
    "nbgrader": {
     "checksum": "90663f89760d538564338fd1eb097b27",
     "grade": false,
     "grade_id": "cell-760c30326a182b32",
     "locked": true,
     "schema_version": 1,
     "solution": false
    }
   },
   "source": [
    "<strong>1.4</strong> \\[1 pt\\] Add the following two vectors by hand.  $v_1 = (5 * a, 4)$ and $v_2 (3*b, 7)$.  Store the results as strings in a python list called added (e.g. the vector $(5 * a, 4)$ would be [\"5 * a\", \"4\"].  Make sure that each entry in the list is a valid pyton expression.  So \"5 * a\" is correct, but \"5 a\" is not because \"5 a\" will not be properly evaluated by python."
   ]
  },
  {
   "cell_type": "code",
   "execution_count": 8,
   "metadata": {
    "deletable": false,
    "nbgrader": {
     "checksum": "c7c3c4d9a38fcca56c61cc73a6320a10",
     "grade": false,
     "grade_id": "cell-02682c12e6797934",
     "locked": false,
     "schema_version": 1,
     "solution": true
    }
   },
   "outputs": [
    {
     "output_type": "execute_result",
     "data": {
      "text/plain": [
       "['(5 * a) + (3 * b)', '11']"
      ]
     },
     "metadata": {},
     "execution_count": 8
    }
   ],
   "source": [
    "added=[\"(5 * a) + (3 * b)\", \"11\"]\n",
    "added\n",
    "\n",
    "# YOUR CODE HERE\n",
    "# raise NotImplementedError()\n"
   ]
  },
  {
   "cell_type": "code",
   "execution_count": null,
   "metadata": {
    "deletable": false,
    "editable": false,
    "nbgrader": {
     "checksum": "f37254f582b837c0890a06458ea39659",
     "grade": true,
     "grade_id": "cell-f141102d74386afa",
     "locked": true,
     "points": 1,
     "schema_version": 1,
     "solution": false
    }
   },
   "outputs": [],
   "source": [
    "assert type(added) == list,  \"Problem 1.4, testing added, type of value stored in variable does not match the expected type. Expecting list.\""
   ]
  },
  {
   "cell_type": "markdown",
   "metadata": {
    "deletable": false,
    "editable": false,
    "nbgrader": {
     "checksum": "9a38ea150be1ea2b0d8a164343a63c52",
     "grade": false,
     "grade_id": "cell-f384ac0613affd9c",
     "locked": true,
     "schema_version": 1,
     "solution": false
    }
   },
   "source": [
    "## Part 2: Matrix Computation "
   ]
  },
  {
   "cell_type": "markdown",
   "metadata": {
    "deletable": false,
    "editable": false,
    "nbgrader": {
     "checksum": "510bd2c609dfdc4433b8498ac3d6644a",
     "grade": false,
     "grade_id": "cell-527decbeb27e2cba",
     "locked": true,
     "schema_version": 1,
     "solution": false
    }
   },
   "source": [
    "<strong>2.1</strong> \\[1 pt\\] Write a function called <strong>Matrices</strong> that takes A matrix and B matrix, and then returns a dictionary that has four keys called <strong>addition</strong> (addition of A and B), <strong>subtraction</strong> (subtract B from A), <strong>multiplication</strong> (multiply A and B), <strong>elementwise</strong> (elementwise product, (a\\*b)).  Inputs will be represented as numpy arrays and outputs should also be numpy arrays.     "
   ]
  },
  {
   "cell_type": "code",
   "execution_count": 4,
   "metadata": {
    "deletable": false,
    "nbgrader": {
     "checksum": "cd2d8570c4e7663fafc800fb89b8408e",
     "grade": false,
     "grade_id": "cell-f34eaaa22752fde4",
     "locked": false,
     "schema_version": 1,
     "solution": true
    }
   },
   "outputs": [
    {
     "data": {
      "text/plain": [
       "{'addition': array([[ 8,  2, 14],\n",
       "        [ 6,  6,  5],\n",
       "        [10, -1,  8]]), 'subtraction': array([[-12,  10,   2],\n",
       "        [  4, -10,  11],\n",
       "        [ -6,   3,   0]]), 'multiplication': array([[ 50,  40,   2],\n",
       "        [112, -52,  68],\n",
       "        [ 53,  -8,  25]]), 'elementwise': array([[-20, -24,  48],\n",
       "        [  5, -16, -24],\n",
       "        [ 16,  -2,  16]])}"
      ]
     },
     "execution_count": 4,
     "metadata": {},
     "output_type": "execute_result"
    }
   ],
   "source": [
    "def Matrices(A,B):\n",
    "    return {\"addition\": np.add(A,B),\n",
    "           \"subtraction\": np.subtract(A,B),\n",
    "           \"multiplication\": np.dot(A,B),\n",
    "           \"elementwise\": np.multiply(A,B)}\n",
    "\n",
    "Matrices(([-2,6,8],[5,-2,8],[2,1,4]), ([10,-4,6],[1,8,-3],[8,-2,4]))\n",
    "    # YOUR CODE HERE\n",
    "    # raise NotImplementedError()"
   ]
  },
  {
   "cell_type": "code",
   "execution_count": null,
   "metadata": {
    "deletable": false,
    "editable": false,
    "nbgrader": {
     "checksum": "d759db2645b09dd360f71655a0bf46c4",
     "grade": true,
     "grade_id": "cell-e8861c2001b4e0ff",
     "locked": true,
     "points": 1,
     "schema_version": 1,
     "solution": false
    }
   },
   "outputs": [],
   "source": [
    "#hidden tests for problem 2.1 are within this cell"
   ]
  },
  {
   "cell_type": "markdown",
   "metadata": {
    "deletable": false,
    "editable": false,
    "nbgrader": {
     "checksum": "6add826747b0f7de98de470a61092c04",
     "grade": false,
     "grade_id": "cell-ef1833d4761736fe",
     "locked": true,
     "schema_version": 1,
     "solution": false
    }
   },
   "source": [
    "<strong>2.2</strong> \\[1 pt\\] Assume A=[[-2,6,8],[5,-2,8],[2,1,4]] and B=[[10,-4,6],[1,8,-3],[8,-2,4]]. What are the addition, subtraction, multiplication, and elementwise product of A matrix and B matrix? Please store your answers into a variable <strong>ANS22</strong> formatted as a dictionary as in problem 2.1.  (Use the function from 2.1) \n"
   ]
  },
  {
   "cell_type": "code",
   "execution_count": 5,
   "metadata": {
    "deletable": false,
    "nbgrader": {
     "checksum": "cbf9137077f5a4120fd91e2a326c9fb7",
     "grade": false,
     "grade_id": "cell-d59d72a05083a65b",
     "locked": false,
     "schema_version": 1,
     "solution": true
    }
   },
   "outputs": [
    {
     "data": {
      "text/plain": [
       "{'addition': array([[ 8,  2, 14],\n",
       "        [ 6,  6,  5],\n",
       "        [10, -1,  8]]), 'subtraction': array([[-12,  10,   2],\n",
       "        [  4, -10,  11],\n",
       "        [ -6,   3,   0]]), 'multiplication': array([[ 50,  40,   2],\n",
       "        [112, -52,  68],\n",
       "        [ 53,  -8,  25]]), 'elementwise': array([[-20, -24,  48],\n",
       "        [  5, -16, -24],\n",
       "        [ 16,  -2,  16]])}"
      ]
     },
     "execution_count": 5,
     "metadata": {},
     "output_type": "execute_result"
    }
   ],
   "source": [
    "# YOUR CODE HERE\n",
    "ANS22 = Matrices(([-2,6,8],[5,-2,8],[2,1,4]), ([10,-4,6],[1,8,-3],[8,-2,4]))\n",
    "ANS22\n",
    "# raise NotImplementedError()"
   ]
  },
  {
   "cell_type": "code",
   "execution_count": null,
   "metadata": {
    "deletable": false,
    "editable": false,
    "nbgrader": {
     "checksum": "76ac7e194469eecd33bca07074d549ea",
     "grade": true,
     "grade_id": "cell-1943466bf97bdfa1",
     "locked": true,
     "points": 1,
     "schema_version": 1,
     "solution": false
    }
   },
   "outputs": [],
   "source": [
    "assert type(ANS22) == type({}), \"Problem 2.2, testing ANS22, type of value stored in variable does not match the expected type. Expecting Dictionary.\""
   ]
  },
  {
   "cell_type": "markdown",
   "metadata": {
    "deletable": false,
    "editable": false,
    "nbgrader": {
     "checksum": "0508c210284f2eeba91c5042f9cdf915",
     "grade": false,
     "grade_id": "cell-6b642ff746141c33",
     "locked": true,
     "schema_version": 1,
     "solution": false
    }
   },
   "source": [
    "<strong>2.3</strong> \\[1 pt\\] What is the transpose of C? Please store the transpose of C into a variable <strong>C_trans</strong>. \n",
    "\n",
    "For grading purposes, `C_trans` should be a numpy array."
   ]
  },
  {
   "cell_type": "code",
   "execution_count": 12,
   "metadata": {
    "deletable": false,
    "nbgrader": {
     "checksum": "a5ed031b69db823264e6ec700b5756e0",
     "grade": false,
     "grade_id": "cell-0afc4735301d7086",
     "locked": false,
     "schema_version": 1,
     "solution": true
    }
   },
   "outputs": [
    {
     "output_type": "execute_result",
     "data": {
      "text/plain": [
       "array([[1, 3],\n",
       "       [1, 5],\n",
       "       [2, 8]])"
      ]
     },
     "metadata": {},
     "execution_count": 12
    }
   ],
   "source": [
    "C = np.array([[1, 1, 2], [3, 5, 8]])\n",
    "\n",
    "C_trans=C.transpose()\n",
    "C_trans\n",
    "# YOUR CODE HERE\n",
    "# raise NotImplementedError()"
   ]
  },
  {
   "cell_type": "code",
   "execution_count": null,
   "metadata": {
    "deletable": false,
    "editable": false,
    "nbgrader": {
     "checksum": "69bbe27b8804d4d66fe1fe75f9eff3ed",
     "grade": true,
     "grade_id": "cell-2ae88de7677e6d09",
     "locked": true,
     "points": 1,
     "schema_version": 1,
     "solution": false
    }
   },
   "outputs": [],
   "source": [
    "assert type(C_trans) == np.ndarray, \"Problem 2.3, testing C_trans, type of value stored in variable does not match the expected type. Expecting np.ndarray\""
   ]
  },
  {
   "cell_type": "markdown",
   "metadata": {
    "deletable": false,
    "editable": false,
    "nbgrader": {
     "checksum": "3b35e2ae92de8f961356538fae7bc6be",
     "grade": false,
     "grade_id": "cell-f8dfd45370790742",
     "locked": true,
     "schema_version": 1,
     "solution": false
    }
   },
   "source": [
    "<strong>2.4</strong> \\[1 pt\\] What is (CD)<sup>T</sup>? Please store the value into <strong>CD_trans.</strong>\n",
    "\n",
    "For grading purposes, `CD_trans` should be type `numpy.array`."
   ]
  },
  {
   "cell_type": "code",
   "execution_count": 11,
   "metadata": {
    "deletable": false,
    "nbgrader": {
     "checksum": "f0f90be55f652de6c3701f881240624c",
     "grade": false,
     "grade_id": "cell-71cbc2342eada7dc",
     "locked": false,
     "schema_version": 1,
     "solution": true
    }
   },
   "outputs": [
    {
     "output_type": "execute_result",
     "data": {
      "text/plain": [
       "array([[102, 416]])"
      ]
     },
     "metadata": {},
     "execution_count": 11
    }
   ],
   "source": [
    "D = np.array([[13], [21], [34]])\n",
    "CD = np.dot(C,D)\n",
    "CD_trans=CD.transpose()\n",
    "CD_trans\n",
    "# YOUR CODE HERE\n",
    "# raise NotImplementedError()"
   ]
  },
  {
   "cell_type": "code",
   "execution_count": null,
   "metadata": {
    "deletable": false,
    "editable": false,
    "nbgrader": {
     "checksum": "ce4889c0834b92f690c635e4c2886d73",
     "grade": true,
     "grade_id": "cell-174e47222abd77ec",
     "locked": true,
     "points": 1,
     "schema_version": 1,
     "solution": false
    }
   },
   "outputs": [],
   "source": [
    "#hidden tests for problem 2.4 are within this cell\n",
    "assert type(CD_trans) == np.ndarray, \"Problem 2.4, testing CD_trans, type of value stored in variable does not match the expected type. Expecting np.ndarray\""
   ]
  },
  {
   "cell_type": "markdown",
   "metadata": {
    "deletable": false,
    "editable": false,
    "nbgrader": {
     "checksum": "79739e618be1a0cad0452d14ac7964f0",
     "grade": false,
     "grade_id": "cell-5a5d766c714a3b7d",
     "locked": true,
     "schema_version": 1,
     "solution": false
    }
   },
   "source": [
    "<strong>2.5</strong> \\[1 pt\\] What is the inverse matrix of E? Please store it into a variable <strong>E_inv</strong>.              \n",
    "\n",
    "For grading purposes, `E_inv` should be type `numpy.matrix`"
   ]
  },
  {
   "cell_type": "code",
   "execution_count": 13,
   "metadata": {
    "deletable": false,
    "nbgrader": {
     "checksum": "1690aff405a70522522760e3436c0efb",
     "grade": false,
     "grade_id": "cell-98a08d219887a362",
     "locked": false,
     "schema_version": 1,
     "solution": true
    }
   },
   "outputs": [
    {
     "output_type": "execute_result",
     "data": {
      "text/plain": [
       "matrix([[ 2.5625, -0.25  , -0.0625],\n",
       "        [-1.4375,  0.75  , -0.0625],\n",
       "        [-0.0625, -0.25  ,  0.0625]])"
      ]
     },
     "metadata": {},
     "execution_count": 13
    }
   ],
   "source": [
    "from numpy.linalg import inv\n",
    "E = np.array([[1, 1, 2], [3, 5, 8], [13, 21, 50]])\n",
    "\n",
    "E_inv=inv(np.matrix(E))\n",
    "E_inv\n",
    "# YOUR CODE HERE\n",
    "# raise NotImplementedError()"
   ]
  },
  {
   "cell_type": "code",
   "execution_count": null,
   "metadata": {
    "deletable": false,
    "editable": false,
    "nbgrader": {
     "checksum": "ec7cd7bed643933b013e70622e152534",
     "grade": true,
     "grade_id": "cell-75c20b117fcb21c5",
     "locked": true,
     "points": 1,
     "schema_version": 1,
     "solution": false
    }
   },
   "outputs": [],
   "source": [
    "#hidden tests for problem 2.5 are within this cell"
   ]
  },
  {
   "cell_type": "markdown",
   "metadata": {
    "deletable": false,
    "editable": false,
    "nbgrader": {
     "checksum": "d94d05c1a62c2939c6140ade1e45f0ca",
     "grade": false,
     "grade_id": "cell-8a7e39ca00f6c9b2",
     "locked": true,
     "schema_version": 1,
     "solution": false
    }
   },
   "source": [
    "<strong>2.6</strong> \\[1 pt\\] If AD=I, what is matrix D? Please store matrix D into a variable <strong>D</strong>.  (Use A from problem 2.2).\n",
    "\n",
    "For grading purposes, `D` should be type `numpy.ndarray`."
   ]
  },
  {
   "cell_type": "code",
   "execution_count": 14,
   "metadata": {
    "deletable": false,
    "nbgrader": {
     "checksum": "20fc20c3d3b3e2d066e72df25d4cc5bf",
     "grade": false,
     "grade_id": "cell-f9ac76d940b23358",
     "locked": false,
     "schema_version": 1,
     "solution": true
    }
   },
   "outputs": [
    {
     "output_type": "execute_result",
     "data": {
      "text/plain": [
       "array([[-0.2   , -0.2   ,  0.8   ],\n",
       "       [-0.05  , -0.3   ,  0.7   ],\n",
       "       [ 0.1125,  0.175 , -0.325 ]])"
      ]
     },
     "metadata": {},
     "execution_count": 14
    }
   ],
   "source": [
    "# A=[[-2,6,8],[5,-2,8],[2,1,4]]\n",
    "A = ([-2,6,8],[5,-2,8],[2,1,4])\n",
    "D = inv(A)\n",
    "D\n",
    "# YOUR CODE HERE\n",
    "# raise NotImplementedError()"
   ]
  },
  {
   "cell_type": "code",
   "execution_count": null,
   "metadata": {
    "deletable": false,
    "editable": false,
    "nbgrader": {
     "checksum": "b15e53d2f80a9a3a023f5f23242809a8",
     "grade": true,
     "grade_id": "cell-7e7ef1859427aebc",
     "locked": true,
     "points": 1,
     "schema_version": 1,
     "solution": false
    }
   },
   "outputs": [],
   "source": [
    "assert type(D) == np.ndarray,  \"Problem 2.6, testing D, type of value stored in variable does not match the expected type. Expecting np.array\""
   ]
  },
  {
   "cell_type": "markdown",
   "metadata": {
    "deletable": false,
    "editable": false,
    "nbgrader": {
     "checksum": "8ebfbd4e22a48b21114e40092158006e",
     "grade": false,
     "grade_id": "cell-54c6ceb411d53c3f",
     "locked": true,
     "schema_version": 1,
     "solution": false
    }
   },
   "source": [
    "<strong>2.7</strong> \\[1 pt\\] What is the determinant of A? Please store the value into a variable <strong>A_deter</strong>.  (Use A from problem 2.2.) \n",
    "\n",
    "For grading purposes, `A_deter` should be type `numpy.float64`."
   ]
  },
  {
   "cell_type": "code",
   "execution_count": 16,
   "metadata": {
    "deletable": false,
    "nbgrader": {
     "checksum": "857bf7f6e6bdc71f135be9e88509dded",
     "grade": false,
     "grade_id": "cell-ded3892aaac45733",
     "locked": false,
     "schema_version": 1,
     "solution": true
    }
   },
   "outputs": [
    {
     "output_type": "execute_result",
     "data": {
      "text/plain": [
       "79.99999999999997"
      ]
     },
     "metadata": {},
     "execution_count": 16
    }
   ],
   "source": [
    "A = np.array([[-2,6,8],[5,-2,8],[2,1,4]])\n",
    "\n",
    "A_deter=np.linalg.det(A)\n",
    "A_deter\n",
    "# YOUR CODE HERE\n",
    "# raise NotImplementedError()"
   ]
  },
  {
   "cell_type": "code",
   "execution_count": null,
   "metadata": {
    "deletable": false,
    "editable": false,
    "nbgrader": {
     "checksum": "c9b3ffe1a9c6c58e89638b3a715edd20",
     "grade": true,
     "grade_id": "cell-0a36f464f9700b09",
     "locked": true,
     "points": 1,
     "schema_version": 1,
     "solution": false
    }
   },
   "outputs": [],
   "source": [
    "#hidden tests for problem 2.7 are within this cell"
   ]
  },
  {
   "cell_type": "markdown",
   "metadata": {
    "deletable": false,
    "editable": false,
    "nbgrader": {
     "checksum": "7cd6020630a5364cf7132d3a8c1eeb00",
     "grade": false,
     "grade_id": "cell-2a654a455724bc6a",
     "locked": true,
     "schema_version": 1,
     "solution": false
    }
   },
   "source": [
    "<strong>2.8</strong> \\[1 pt\\] What is the determinant of BA? Please store the value into a variable <strong>BA_deter</strong>.  (Use A and B from problem 2.2.)\n",
    "\n",
    "For grading purposes, `BA_deter` should be type `numpy.float64`."
   ]
  },
  {
   "cell_type": "code",
   "execution_count": 17,
   "metadata": {
    "deletable": false,
    "nbgrader": {
     "checksum": "6c293eeea4f933c771679213248b2507",
     "grade": false,
     "grade_id": "cell-f41d8e11e74b3fc0",
     "locked": false,
     "schema_version": 1,
     "solution": true
    }
   },
   "outputs": [
    {
     "output_type": "execute_result",
     "data": {
      "text/plain": [
       "-1920.0000000000002"
      ]
     },
     "metadata": {},
     "execution_count": 17
    }
   ],
   "source": [
    "# A=[[-2,6,8],[5,-2,8],[2,1,4]] and B=[[10,-4,6],[1,8,-3],[8,-2,4]]\n",
    "A = np.array([[-2,6,8],[5,-2,8],[2,1,4]])\n",
    "B = np.array([[10,-4,6],[1,8,-3],[8,-2,4]])\n",
    "BA_deter=np.linalg.det(np.dot(B,A))\n",
    "BA_deter\n",
    "# YOUR CODE HERE\n",
    "# raise NotImplementedError()"
   ]
  },
  {
   "cell_type": "code",
   "execution_count": null,
   "metadata": {
    "deletable": false,
    "editable": false,
    "nbgrader": {
     "checksum": "4c4e864466d19df2ae1d738c4760af14",
     "grade": true,
     "grade_id": "cell-4a21c6f652c4f3dd",
     "locked": true,
     "points": 1,
     "schema_version": 1,
     "solution": false
    }
   },
   "outputs": [],
   "source": [
    "#hidden tests for problem 2.8 are within this cell"
   ]
  },
  {
   "cell_type": "markdown",
   "metadata": {
    "deletable": false,
    "editable": false,
    "nbgrader": {
     "checksum": "6ac48e7f9cdcfa1a02babee9ac8795f2",
     "grade": false,
     "grade_id": "cell-713a87b60c0e4c29",
     "locked": true,
     "schema_version": 1,
     "solution": false
    }
   },
   "source": [
    "<strong>2.9</strong> \\[1 pt\\] Change negative values of A to 1 and store the result into a variable <strong>A_pos</strong>.   (Use A from problem 2.2.)  Hint:boolean matrix \n",
    "\n",
    "For grading purposes, `A` should be type `numpy.matrix`."
   ]
  },
  {
   "cell_type": "code",
   "execution_count": 18,
   "metadata": {
    "deletable": false,
    "nbgrader": {
     "checksum": "9b3acca25684631eb26e2b33ac1c96a8",
     "grade": false,
     "grade_id": "cell-45fbe97d7f713f8a",
     "locked": false,
     "schema_version": 1,
     "solution": true
    }
   },
   "outputs": [
    {
     "output_type": "execute_result",
     "data": {
      "text/plain": [
       "matrix([[1, 6, 8],\n",
       "        [5, 1, 8],\n",
       "        [2, 1, 4]])"
      ]
     },
     "metadata": {},
     "execution_count": 18
    }
   ],
   "source": [
    "# a[a < 0] = 0\n",
    "A = np.matrix([[-2,6,8],[5,-2,8],[2,1,4]])\n",
    "A[A < 0] = 1\n",
    "A_pos = A\n",
    "A_pos\n",
    "# YOUR CODE HERE\n",
    "# raise NotImplementedError()"
   ]
  },
  {
   "cell_type": "code",
   "execution_count": null,
   "metadata": {
    "deletable": false,
    "editable": false,
    "nbgrader": {
     "checksum": "3f649723622e7edff96ce573df494b4a",
     "grade": true,
     "grade_id": "cell-aa0cf2d089271312",
     "locked": true,
     "points": 1,
     "schema_version": 1,
     "solution": false
    }
   },
   "outputs": [],
   "source": [
    "#hidden tests for problem 2.9 are within this cell"
   ]
  },
  {
   "cell_type": "markdown",
   "metadata": {
    "deletable": false,
    "editable": false,
    "nbgrader": {
     "checksum": "6d60e9d9c92b13003d748d2daa3dfbe4",
     "grade": false,
     "grade_id": "cell-1c38a9fe4c13a0d5",
     "locked": true,
     "schema_version": 1,
     "solution": false
    }
   },
   "source": [
    "<strong>2.10</strong> \\[1 pt\\] We are going to find the trace of the sum of two scaled matrices. Find the trace of 2\\*A + 3\\*B and store the value into a variable <strong>trace2A3B</strong>.  (Use A and B from problem 2.2.)\n",
    "\n",
    "For grading purposes, `trace2A3B` should be type `numpy.int64`."
   ]
  },
  {
   "cell_type": "code",
   "execution_count": 20,
   "metadata": {
    "deletable": false,
    "nbgrader": {
     "checksum": "538be0aeea148387db70c4f8822de9c3",
     "grade": false,
     "grade_id": "cell-4a58204752a1e3a5",
     "locked": false,
     "schema_version": 1,
     "solution": true
    }
   },
   "outputs": [
    {
     "output_type": "execute_result",
     "data": {
      "text/plain": [
       "66"
      ]
     },
     "metadata": {},
     "execution_count": 20
    }
   ],
   "source": [
    "A = np.array([[-2,6,8],[5,-2,8],[2,1,4]])\n",
    "B = np.array([[10,-4,6],[1,8,-3],[8,-2,4]])\n",
    "C = (2*A) + (3*B)\n",
    "trace2A3B=np.trace(C)\n",
    "trace2A3B\n",
    "# YOUR CODE HERE\n",
    "# raise NotImplementedError()"
   ]
  },
  {
   "cell_type": "code",
   "execution_count": null,
   "metadata": {
    "deletable": false,
    "editable": false,
    "nbgrader": {
     "checksum": "623c92d1d83d71cb9c5f9f10e1611b40",
     "grade": true,
     "grade_id": "cell-09f9e02c3fb55c0d",
     "locked": true,
     "points": 1,
     "schema_version": 1,
     "solution": false
    }
   },
   "outputs": [],
   "source": [
    "#hidden tests for problem 2.10 are within this cell"
   ]
  },
  {
   "cell_type": "markdown",
   "metadata": {
    "deletable": false,
    "editable": false,
    "nbgrader": {
     "checksum": "e8cea338774126172b09027edbea41bb",
     "grade": false,
     "grade_id": "cell-85677528a1ebd456",
     "locked": true,
     "schema_version": 1,
     "solution": false
    }
   },
   "source": [
    "<strong>2.11</strong> \\[1 pt\\] What is the value of tr(AB<sup>T </sup>)? Please store the value into a variable <strong>AB_trace</strong>.  (Use A and B from problem 2.2).\n",
    "\n",
    "For grading purposes, `AB_trace` should be type `numpy.int64`."
   ]
  },
  {
   "cell_type": "code",
   "execution_count": 21,
   "metadata": {
    "deletable": false,
    "nbgrader": {
     "checksum": "4ae96922eeca282ebd6fb9878592f393",
     "grade": false,
     "grade_id": "cell-03d1b2f808aa170a",
     "locked": false,
     "schema_version": 1,
     "solution": true
    }
   },
   "outputs": [
    {
     "output_type": "execute_result",
     "data": {
      "text/plain": [
       "0"
      ]
     },
     "metadata": {},
     "execution_count": 21
    }
   ],
   "source": [
    "# AB_trace = np.trace(np.dot(A, np.transpose(B)))\n",
    "# AB_trace\n",
    "ABtrans = np.dot(A, np.transpose(B))\n",
    "AB_trace = np.trace(ABtrans)\n",
    "# YOUR CODE HERE\n",
    "# raise NotImplementedError()"
   ]
  },
  {
   "cell_type": "code",
   "execution_count": null,
   "metadata": {
    "deletable": false,
    "editable": false,
    "nbgrader": {
     "checksum": "900bbb8ad8a3e381d01e305676786409",
     "grade": true,
     "grade_id": "cell-12f5c58920c36677",
     "locked": true,
     "points": 1,
     "schema_version": 1,
     "solution": false
    }
   },
   "outputs": [],
   "source": [
    "assert type(AB_trace) == np.int64, \"Problem 2.11, testing AB_trace, type of value stored in variable does not match the expected type. Expecting np.int64\""
   ]
  },
  {
   "cell_type": "markdown",
   "metadata": {
    "deletable": false,
    "editable": false,
    "nbgrader": {
     "checksum": "1af793c54539cb40e45e27cf12fe0a38",
     "grade": false,
     "grade_id": "cell-f384ac0613affd9f",
     "locked": true,
     "schema_version": 1,
     "solution": false
    }
   },
   "source": [
    "## Part 3: Matrix Calculations "
   ]
  },
  {
   "cell_type": "markdown",
   "metadata": {
    "deletable": false,
    "editable": false,
    "nbgrader": {
     "checksum": "01d879ac948b5870004d9ba6354b865f",
     "grade": false,
     "grade_id": "cell-21e725ab019ee93e",
     "locked": true,
     "schema_version": 1,
     "solution": false
    }
   },
   "source": [
    "<strong>3.1</strong> \\[1 pt\\] Let $F = [[1, 2, a], [3, 2, 1 + b], [2, 2, 2 + c]]$ where $a$, $b$, and $c$ are variables.  $G = [[0, 2 + c, -a], [3, b + c, -1], [a, 3, -b]]$ where $a$, $b$, and $c$ are the same variables as in $F$.   What is the value of $F + G$? Please store the value into a string <strong>FG_sum</strong> written with valid python code formatting (e.g. FG_sum = \"[[1, 2, a], [3, 2, 1 + b], [2, 2, 2 + c]]\").  (Note you are encouraged to do this by hand.)"
   ]
  },
  {
   "cell_type": "code",
   "execution_count": 22,
   "metadata": {
    "deletable": false,
    "nbgrader": {
     "checksum": "4dbb8952d08631826e99dbe48b484654",
     "grade": false,
     "grade_id": "cell-69904b9325be7f33",
     "locked": false,
     "schema_version": 1,
     "solution": true
    }
   },
   "outputs": [],
   "source": [
    "FG_sum = \"[[1, 4 + c, 0],[6, 2 + b + c, b], [2 + a, 5, 2 + c - b]]\"\n",
    "# YOUR CODE HERE\n",
    "# raise NotImplementedError()"
   ]
  },
  {
   "cell_type": "code",
   "execution_count": null,
   "metadata": {
    "deletable": false,
    "editable": false,
    "nbgrader": {
     "checksum": "46f31c47e17ca7f71ab0a425bf1d503f",
     "grade": true,
     "grade_id": "cell-0b6fa79caf358a18",
     "locked": true,
     "points": 1,
     "schema_version": 1,
     "solution": false
    }
   },
   "outputs": [],
   "source": [
    "assert type(FG_sum) == str, \"Problem 3.1, type of value stored in variable FG_summ does not match the expected type.\""
   ]
  },
  {
   "cell_type": "markdown",
   "metadata": {
    "deletable": false,
    "editable": false,
    "nbgrader": {
     "checksum": "3f8a733db972f1a2e25174b32d127b4b",
     "grade": false,
     "grade_id": "cell-ef1833d4761736ff",
     "locked": true,
     "schema_version": 1,
     "solution": false
    }
   },
   "source": [
    "<strong>3.2</strong> \\[1 pt\\] Assume F and G as above.  What is the (matrix) product of F and G? Please store your answers into a string variable <strong>Prod_FG</strong>  written with valid python code formatting (e.g. FG_sum = \"[[1, 2, a], [3, 2, 1 + b], [2, 2, 2 + c]]\"). (Note you are encouraged to do this by hand.)\n"
   ]
  },
  {
   "cell_type": "code",
   "execution_count": 23,
   "metadata": {
    "deletable": false,
    "nbgrader": {
     "checksum": "f156dd477fb9bc309754cf9e12069e4f",
     "grade": false,
     "grade_id": "cell-d59d72a05083a65a",
     "locked": false,
     "schema_version": 1,
     "solution": true
    }
   },
   "outputs": [],
   "source": [
    "Prod_FG = \"[[6 + a ** 2, (2 + c) + (2 * (b + c)) + (a * 3), (1 * -a) + (2 * -1) + (a * -b)], [6 + (a * (1 + b)), (3 * (2 + c)) + (2 * (b + c)) + (3 * (1 + b)), (3 * -a) + (2 * -1) + (-b * (1 + b))], [6 + (a * (2 + c)), (2 * (2 + c)) + (2 * (b + c)) + (3 * (2 + c)), (2 * -a) + (2 * -1) + (-b * (2 + c))]]\""
   ]
  },
  {
   "cell_type": "code",
   "execution_count": null,
   "metadata": {
    "deletable": false,
    "editable": false,
    "nbgrader": {
     "checksum": "5120c78968a9d43a224b9dd744f80988",
     "grade": true,
     "grade_id": "cell-1943466bf97bdfa2",
     "locked": true,
     "points": 1,
     "schema_version": 1,
     "solution": false
    }
   },
   "outputs": [],
   "source": [
    "assert type(Prod_FG) == str, \"Problem 3.2, type of value stored in variable Prod_FG does not match the expected type.\""
   ]
  },
  {
   "cell_type": "markdown",
   "metadata": {
    "deletable": false,
    "editable": false,
    "nbgrader": {
     "checksum": "8610a881f2de8d6cdacb775563da4f8d",
     "grade": false,
     "grade_id": "cell-6b642ff746141c34",
     "locked": true,
     "schema_version": 1,
     "solution": false
    }
   },
   "source": [
    "<strong>3.3</strong> \\[1 pt\\] What is the transpose of F?  Please store your answers into a string variable <strong>F_trans</strong>  written with valid python code formatting (e.g. F_trans = \"[[1, 2, a], [3, 2, 1 + b], [2, 2, 2 + c]]\"). (Note you are encouraged to do this by hand.)"
   ]
  },
  {
   "cell_type": "code",
   "execution_count": null,
   "metadata": {
    "deletable": false,
    "nbgrader": {
     "checksum": "3fec027a014897f7e69f2e77d04746a8",
     "grade": false,
     "grade_id": "cell-0afc4735301d7087",
     "locked": false,
     "schema_version": 1,
     "solution": true
    }
   },
   "outputs": [],
   "source": [
    "# 𝐹=[[1,2,𝑎],[3,2,1+𝑏],[2,2,2+𝑐]] \n",
    "F_trans = \"[[1, 3, 2], [2, 2, 2], [a, 1 + b, 2 + c]]\"\n",
    "# YOUR CODE HERE\n",
    "# raise NotImplementedError()"
   ]
  },
  {
   "cell_type": "code",
   "execution_count": null,
   "metadata": {
    "deletable": false,
    "editable": false,
    "nbgrader": {
     "checksum": "f1be587ba8af0e50147dee1b53f0d415",
     "grade": true,
     "grade_id": "cell-2ae88de7677e6d00",
     "locked": true,
     "points": 1,
     "schema_version": 1,
     "solution": false
    }
   },
   "outputs": [],
   "source": [
    "assert type(F_trans) == str, \"Problem 3.3, type of value stored in variable F_trans does not match the expected type.\""
   ]
  },
  {
   "cell_type": "markdown",
   "metadata": {
    "deletable": false,
    "editable": false,
    "nbgrader": {
     "checksum": "0e60c79a2e86cd88e2d92254e2a6ccfd",
     "grade": false,
     "grade_id": "cell-f8dfd45370790743",
     "locked": true,
     "schema_version": 1,
     "solution": false
    }
   },
   "source": [
    " <strong>3.4</strong> \\[1 pt\\] What is the determinant of F? Please store your answers into a string variable <strong>Det_F</strong>  written with valid python code formatting (e.g. F_trans = \"2 + a -b\"). (Note you are encouraged to do this by hand.)"
   ]
  },
  {
   "cell_type": "code",
   "execution_count": null,
   "metadata": {
    "deletable": false,
    "nbgrader": {
     "checksum": "34e1591acdd257eb0a83767f0a181741",
     "grade": false,
     "grade_id": "cell-71cbc2342eada9dc",
     "locked": false,
     "schema_version": 1,
     "solution": true
    }
   },
   "outputs": [],
   "source": [
    "Det_F = \"(1 * ((2 * (2 + c)) - (2 * (1 + b)))) - (2 * ((3 * (2 + c)) - (2 * (1 + b)))) + (a * 2)\"\n",
    "# YOUR CODE HERE\n",
    "# raise NotImplementedError()"
   ]
  },
  {
   "cell_type": "code",
   "execution_count": null,
   "metadata": {
    "deletable": false,
    "editable": false,
    "nbgrader": {
     "checksum": "8c7ac9e4e5fb85174df7fe097e8babb4",
     "grade": true,
     "grade_id": "cell-174e47222abd77e7",
     "locked": true,
     "points": 1,
     "schema_version": 1,
     "solution": false
    }
   },
   "outputs": [],
   "source": [
    "assert type(Det_F) == str, \"Problem 3.4, type of value stored in variable Det_F does not match the expected type.\""
   ]
  },
  {
   "cell_type": "markdown",
   "metadata": {
    "deletable": false,
    "editable": false,
    "nbgrader": {
     "checksum": "8d5a11ac31b6eb842139ebe99a68f47d",
     "grade": false,
     "grade_id": "cell-5a5d766c714a3b73",
     "locked": true,
     "schema_version": 1,
     "solution": false
    }
   },
   "source": [
    "<strong>3.5</strong> \\[1 pt\\] What is the trace of the matrix 3F + 2G?    Please store your answers into a string variable <strong>Trace_FG</strong>  written with valid python code formatting (e.g. Trace_FG = \"2 + a -b\"). (Note you are encouraged to do this by hand.)\n"
   ]
  },
  {
   "cell_type": "code",
   "execution_count": 24,
   "metadata": {
    "deletable": false,
    "nbgrader": {
     "checksum": "af39ef9b165fcbdabce4d49302768ef2",
     "grade": false,
     "grade_id": "cell-98a08d219887a363",
     "locked": false,
     "schema_version": 1,
     "solution": true
    }
   },
   "outputs": [
    {
     "output_type": "execute_result",
     "data": {
      "text/plain": [
       "'3 + (6 + (2 * (b + c))) + ((3 * (2 + c)) + (2 * -b))'"
      ]
     },
     "metadata": {},
     "execution_count": 24
    }
   ],
   "source": [
    "import numpy as np\n",
    "\n",
    "Trace_FG=\"3 + (6 + (2 * (b + c))) + ((3 * (2 + c)) + (2 * -b))\"\n",
    "Trace_FG\n",
    "# YOUR CODE HERE\n",
    "# raise NotImplementedError()"
   ]
  },
  {
   "cell_type": "code",
   "execution_count": null,
   "metadata": {
    "deletable": false,
    "editable": false,
    "nbgrader": {
     "checksum": "0d3845fbe094875661047f7ccc8ce1f7",
     "grade": true,
     "grade_id": "cell-75c20b117fcb21c3",
     "locked": true,
     "points": 1,
     "schema_version": 1,
     "solution": false
    }
   },
   "outputs": [],
   "source": [
    "assert type(Trace_FG) == str, \"Problem 3.5, type of value stored in variable Trace_FG does not match the expected type.\""
   ]
  },
  {
   "cell_type": "markdown",
   "metadata": {
    "deletable": false,
    "editable": false,
    "nbgrader": {
     "checksum": "389fb93bb074c3d3dd088e3215e0c4ac",
     "grade": false,
     "grade_id": "cell-8a7e39ca00f6c9b3",
     "locked": true,
     "schema_version": 1,
     "solution": false
    }
   },
   "source": [
    "<strong>3.6</strong> \\[1 pt\\] What is the trace of the matrix $F^T \\cdot  G^T$?    Please store your answers into a string variable <strong>Trace_FTGT</strong>  written with valid python code formatting (e.g. Trace_FTGT = \"2 + a -b\"). (Note you are encouraged to do this by hand.)\n",
    "\n",
    "Hint: no/very little additional calculation is necessary! \n"
   ]
  },
  {
   "cell_type": "code",
   "execution_count": 26,
   "metadata": {
    "deletable": false,
    "nbgrader": {
     "checksum": "f1509b58b052cdab62835c73a22b24cb",
     "grade": false,
     "grade_id": "cell-f9ac76d940b23353",
     "locked": false,
     "schema_version": 1,
     "solution": true
    }
   },
   "outputs": [
    {
     "output_type": "execute_result",
     "data": {
      "text/plain": [
       "'(6 + a ** 2) + ((3 * (2 + c)) + (2 * (b + c)) + (3 * (1 + b))) + ((2 * -a) + (2 * -1) + (-b * (2 + c)))'"
      ]
     },
     "metadata": {},
     "execution_count": 26
    }
   ],
   "source": [
    "# F_trans=\"[[1,3,2],[2,2,2],[a,1+b,2+c]]\"\n",
    "# G_trans=\"[[0,3,a],[2+c,b+c,3],[-a,-1,-b]]\"\n",
    "Trace_FTGT= \"(6 + a ** 2) + ((3 * (2 + c)) + (2 * (b + c)) + (3 * (1 + b))) + ((2 * -a) + (2 * -1) + (-b * (2 + c)))\"\n",
    "Trace_FTGT\n",
    "# YOUR CODE HERE\n",
    "# raise NotImplementedError()\n"
   ]
  },
  {
   "cell_type": "code",
   "execution_count": null,
   "metadata": {
    "deletable": false,
    "editable": false,
    "nbgrader": {
     "checksum": "796b841e4c24da23ba25de3b324e30c5",
     "grade": true,
     "grade_id": "cell-7e7ef1859427aeb3",
     "locked": true,
     "points": 1,
     "schema_version": 1,
     "solution": false
    }
   },
   "outputs": [],
   "source": [
    "assert type(Trace_FTGT) == str, \"Problem 3.6, type of value stored in variable Trace_FTGT does not match the expected type.\""
   ]
  },
  {
   "cell_type": "markdown",
   "metadata": {
    "deletable": false,
    "editable": false,
    "nbgrader": {
     "checksum": "d9614b2f3afd773c5d7304040ecfaced",
     "grade": false,
     "grade_id": "cell-959442dd3453c41b",
     "locked": true,
     "schema_version": 1,
     "solution": false
    }
   },
   "source": [
    "# Part 4: Image "
   ]
  },
  {
   "cell_type": "markdown",
   "metadata": {
    "deletable": false,
    "editable": false,
    "nbgrader": {
     "checksum": "94515a3c0b6f10c476fd179e342d7a60",
     "grade": false,
     "grade_id": "cell-3b07b06f7f6b941d",
     "locked": true,
     "schema_version": 1,
     "solution": false
    }
   },
   "source": [
    "OpenCV is an open source computer vision library(https://opencv-python-tutroals.readthedocs.io/en/latest/py_tutorials/py_setup/py_intro/py_intro.html#intro). It is used in deep learning or image processing. Here, we will import cv2 and then use it to read the Michigan_logo and plot the image. If you are unfamilair with the library, you may need to read some of the documentation.\n",
    "\n",
    "\n"
   ]
  },
  {
   "cell_type": "code",
   "execution_count": 29,
   "metadata": {},
   "outputs": [
    {
     "output_type": "stream",
     "name": "stdout",
     "text": [
      "Collecting opencv-python\n  Downloading opencv_python-4.5.1.48-cp38-cp38-win_amd64.whl (34.9 MB)\nRequirement already satisfied: numpy>=1.17.3 in c:\\users\\aliso\\anaconda3\\lib\\site-packages (from opencv-python) (1.19.2)\nInstalling collected packages: opencv-python\nSuccessfully installed opencv-python-4.5.1.48\nNote: you may need to restart the kernel to use updated packages.\n"
     ]
    }
   ],
   "source": [
    "pip install opencv-python"
   ]
  },
  {
   "cell_type": "code",
   "execution_count": 30,
   "metadata": {},
   "outputs": [],
   "source": [
    "import cv2\n",
    "from matplotlib import pyplot as plt\n",
    "import matplotlib.image as mpimg"
   ]
  },
  {
   "cell_type": "markdown",
   "metadata": {
    "deletable": false,
    "editable": false,
    "nbgrader": {
     "checksum": "f79c80bfc8c354037a5621c4dc166140",
     "grade": false,
     "grade_id": "cell-2ede5836b792b929",
     "locked": true,
     "schema_version": 1,
     "solution": false
    }
   },
   "source": [
    "<strong>4.1</strong> Please use pyplot to read the image and plot the image below. "
   ]
  },
  {
   "cell_type": "code",
   "execution_count": 31,
   "metadata": {
    "deletable": false,
    "nbgrader": {
     "checksum": "e98ff8d13e8d3f214a8f49b45db14379",
     "grade": true,
     "grade_id": "cell-0a09e5f377a407e3",
     "locked": false,
     "points": 0,
     "schema_version": 1,
     "solution": true
    }
   },
   "outputs": [
    {
     "output_type": "display_data",
     "data": {
      "text/plain": "<Figure size 432x288 with 1 Axes>",
      "image/svg+xml": "<?xml version=\"1.0\" encoding=\"utf-8\" standalone=\"no\"?>\r\n<!DOCTYPE svg PUBLIC \"-//W3C//DTD SVG 1.1//EN\"\r\n  \"http://www.w3.org/Graphics/SVG/1.1/DTD/svg11.dtd\">\r\n<!-- Created with matplotlib (https://matplotlib.org/) -->\r\n<svg height=\"252.045544pt\" version=\"1.1\" viewBox=\"0 0 257.9275 252.045544\" width=\"257.9275pt\" xmlns=\"http://www.w3.org/2000/svg\" xmlns:xlink=\"http://www.w3.org/1999/xlink\">\r\n <metadata>\r\n  <rdf:RDF xmlns:cc=\"http://creativecommons.org/ns#\" xmlns:dc=\"http://purl.org/dc/elements/1.1/\" xmlns:rdf=\"http://www.w3.org/1999/02/22-rdf-syntax-ns#\">\r\n   <cc:Work>\r\n    <dc:type rdf:resource=\"http://purl.org/dc/dcmitype/StillImage\"/>\r\n    <dc:date>2021-02-04T15:42:26.566060</dc:date>\r\n    <dc:format>image/svg+xml</dc:format>\r\n    <dc:creator>\r\n     <cc:Agent>\r\n      <dc:title>Matplotlib v3.3.2, https://matplotlib.org/</dc:title>\r\n     </cc:Agent>\r\n    </dc:creator>\r\n   </cc:Work>\r\n  </rdf:RDF>\r\n </metadata>\r\n <defs>\r\n  <style type=\"text/css\">*{stroke-linecap:butt;stroke-linejoin:round;}</style>\r\n </defs>\r\n <g id=\"figure_1\">\r\n  <g id=\"patch_1\">\r\n   <path d=\"M 0 252.045544 \r\nL 257.9275 252.045544 \r\nL 257.9275 0 \r\nL 0 0 \r\nz\r\n\" style=\"fill:none;\"/>\r\n  </g>\r\n  <g id=\"axes_1\">\r\n   <g id=\"patch_2\">\r\n    <path d=\"M 33.2875 228.167419 \r\nL 250.7275 228.167419 \r\nL 250.7275 10.727419 \r\nL 33.2875 10.727419 \r\nz\r\n\" style=\"fill:#ffffff;\"/>\r\n   </g>\r\n   <g clip-path=\"url(#pb3a6f135e2)\">\r\n    <image height=\"218\" id=\"image4bf3ebad0f\" transform=\"scale(1 -1)translate(0 -218)\" width=\"218\" x=\"33.2875\" xlink:href=\"data:image/png;base64,\r\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\" y=\"-10.167419\"/>\r\n   </g>\r\n   <g id=\"matplotlib.axis_1\">\r\n    <g id=\"xtick_1\">\r\n     <g id=\"line2d_1\">\r\n      <defs>\r\n       <path d=\"M 0 0 \r\nL 0 3.5 \r\n\" id=\"md3337b226f\" style=\"stroke:#000000;stroke-width:0.8;\"/>\r\n      </defs>\r\n      <g>\r\n       <use style=\"stroke:#000000;stroke-width:0.8;\" x=\"33.5593\" xlink:href=\"#md3337b226f\" y=\"228.167419\"/>\r\n      </g>\r\n     </g>\r\n     <g id=\"text_1\">\r\n      <!-- 0 -->\r\n      <g transform=\"translate(30.37805 242.765856)scale(0.1 -0.1)\">\r\n       <defs>\r\n        <path d=\"M 31.78125 66.40625 \r\nQ 24.171875 66.40625 20.328125 58.90625 \r\nQ 16.5 51.421875 16.5 36.375 \r\nQ 16.5 21.390625 20.328125 13.890625 \r\nQ 24.171875 6.390625 31.78125 6.390625 \r\nQ 39.453125 6.390625 43.28125 13.890625 \r\nQ 47.125 21.390625 47.125 36.375 \r\nQ 47.125 51.421875 43.28125 58.90625 \r\nQ 39.453125 66.40625 31.78125 66.40625 \r\nz\r\nM 31.78125 74.21875 \r\nQ 44.046875 74.21875 50.515625 64.515625 \r\nQ 56.984375 54.828125 56.984375 36.375 \r\nQ 56.984375 17.96875 50.515625 8.265625 \r\nQ 44.046875 -1.421875 31.78125 -1.421875 \r\nQ 19.53125 -1.421875 13.0625 8.265625 \r\nQ 6.59375 17.96875 6.59375 36.375 \r\nQ 6.59375 54.828125 13.0625 64.515625 \r\nQ 19.53125 74.21875 31.78125 74.21875 \r\nz\r\n\" id=\"DejaVuSans-48\"/>\r\n       </defs>\r\n       <use xlink:href=\"#DejaVuSans-48\"/>\r\n      </g>\r\n     </g>\r\n    </g>\r\n    <g id=\"xtick_2\">\r\n     <g id=\"line2d_2\">\r\n      <g>\r\n       <use style=\"stroke:#000000;stroke-width:0.8;\" x=\"87.9193\" xlink:href=\"#md3337b226f\" y=\"228.167419\"/>\r\n      </g>\r\n     </g>\r\n     <g id=\"text_2\">\r\n      <!-- 100 -->\r\n      <g transform=\"translate(78.37555 242.765856)scale(0.1 -0.1)\">\r\n       <defs>\r\n        <path d=\"M 12.40625 8.296875 \r\nL 28.515625 8.296875 \r\nL 28.515625 63.921875 \r\nL 10.984375 60.40625 \r\nL 10.984375 69.390625 \r\nL 28.421875 72.90625 \r\nL 38.28125 72.90625 \r\nL 38.28125 8.296875 \r\nL 54.390625 8.296875 \r\nL 54.390625 0 \r\nL 12.40625 0 \r\nz\r\n\" id=\"DejaVuSans-49\"/>\r\n       </defs>\r\n       <use xlink:href=\"#DejaVuSans-49\"/>\r\n       <use x=\"63.623047\" xlink:href=\"#DejaVuSans-48\"/>\r\n       <use x=\"127.246094\" xlink:href=\"#DejaVuSans-48\"/>\r\n      </g>\r\n     </g>\r\n    </g>\r\n    <g id=\"xtick_3\">\r\n     <g id=\"line2d_3\">\r\n      <g>\r\n       <use style=\"stroke:#000000;stroke-width:0.8;\" x=\"142.2793\" xlink:href=\"#md3337b226f\" y=\"228.167419\"/>\r\n      </g>\r\n     </g>\r\n     <g id=\"text_3\">\r\n      <!-- 200 -->\r\n      <g transform=\"translate(132.73555 242.765856)scale(0.1 -0.1)\">\r\n       <defs>\r\n        <path d=\"M 19.1875 8.296875 \r\nL 53.609375 8.296875 \r\nL 53.609375 0 \r\nL 7.328125 0 \r\nL 7.328125 8.296875 \r\nQ 12.9375 14.109375 22.625 23.890625 \r\nQ 32.328125 33.6875 34.8125 36.53125 \r\nQ 39.546875 41.84375 41.421875 45.53125 \r\nQ 43.3125 49.21875 43.3125 52.78125 \r\nQ 43.3125 58.59375 39.234375 62.25 \r\nQ 35.15625 65.921875 28.609375 65.921875 \r\nQ 23.96875 65.921875 18.8125 64.3125 \r\nQ 13.671875 62.703125 7.8125 59.421875 \r\nL 7.8125 69.390625 \r\nQ 13.765625 71.78125 18.9375 73 \r\nQ 24.125 74.21875 28.421875 74.21875 \r\nQ 39.75 74.21875 46.484375 68.546875 \r\nQ 53.21875 62.890625 53.21875 53.421875 \r\nQ 53.21875 48.921875 51.53125 44.890625 \r\nQ 49.859375 40.875 45.40625 35.40625 \r\nQ 44.1875 33.984375 37.640625 27.21875 \r\nQ 31.109375 20.453125 19.1875 8.296875 \r\nz\r\n\" id=\"DejaVuSans-50\"/>\r\n       </defs>\r\n       <use xlink:href=\"#DejaVuSans-50\"/>\r\n       <use x=\"63.623047\" xlink:href=\"#DejaVuSans-48\"/>\r\n       <use x=\"127.246094\" xlink:href=\"#DejaVuSans-48\"/>\r\n      </g>\r\n     </g>\r\n    </g>\r\n    <g id=\"xtick_4\">\r\n     <g id=\"line2d_4\">\r\n      <g>\r\n       <use style=\"stroke:#000000;stroke-width:0.8;\" x=\"196.6393\" xlink:href=\"#md3337b226f\" y=\"228.167419\"/>\r\n      </g>\r\n     </g>\r\n     <g id=\"text_4\">\r\n      <!-- 300 -->\r\n      <g transform=\"translate(187.09555 242.765856)scale(0.1 -0.1)\">\r\n       <defs>\r\n        <path d=\"M 40.578125 39.3125 \r\nQ 47.65625 37.796875 51.625 33 \r\nQ 55.609375 28.21875 55.609375 21.1875 \r\nQ 55.609375 10.40625 48.1875 4.484375 \r\nQ 40.765625 -1.421875 27.09375 -1.421875 \r\nQ 22.515625 -1.421875 17.65625 -0.515625 \r\nQ 12.796875 0.390625 7.625 2.203125 \r\nL 7.625 11.71875 \r\nQ 11.71875 9.328125 16.59375 8.109375 \r\nQ 21.484375 6.890625 26.8125 6.890625 \r\nQ 36.078125 6.890625 40.9375 10.546875 \r\nQ 45.796875 14.203125 45.796875 21.1875 \r\nQ 45.796875 27.640625 41.28125 31.265625 \r\nQ 36.765625 34.90625 28.71875 34.90625 \r\nL 20.21875 34.90625 \r\nL 20.21875 43.015625 \r\nL 29.109375 43.015625 \r\nQ 36.375 43.015625 40.234375 45.921875 \r\nQ 44.09375 48.828125 44.09375 54.296875 \r\nQ 44.09375 59.90625 40.109375 62.90625 \r\nQ 36.140625 65.921875 28.71875 65.921875 \r\nQ 24.65625 65.921875 20.015625 65.03125 \r\nQ 15.375 64.15625 9.8125 62.3125 \r\nL 9.8125 71.09375 \r\nQ 15.4375 72.65625 20.34375 73.4375 \r\nQ 25.25 74.21875 29.59375 74.21875 \r\nQ 40.828125 74.21875 47.359375 69.109375 \r\nQ 53.90625 64.015625 53.90625 55.328125 \r\nQ 53.90625 49.265625 50.4375 45.09375 \r\nQ 46.96875 40.921875 40.578125 39.3125 \r\nz\r\n\" id=\"DejaVuSans-51\"/>\r\n       </defs>\r\n       <use xlink:href=\"#DejaVuSans-51\"/>\r\n       <use x=\"63.623047\" xlink:href=\"#DejaVuSans-48\"/>\r\n       <use x=\"127.246094\" xlink:href=\"#DejaVuSans-48\"/>\r\n      </g>\r\n     </g>\r\n    </g>\r\n   </g>\r\n   <g id=\"matplotlib.axis_2\">\r\n    <g id=\"ytick_1\">\r\n     <g id=\"line2d_5\">\r\n      <defs>\r\n       <path d=\"M 0 0 \r\nL -3.5 0 \r\n\" id=\"m10edfdbb28\" style=\"stroke:#000000;stroke-width:0.8;\"/>\r\n      </defs>\r\n      <g>\r\n       <use style=\"stroke:#000000;stroke-width:0.8;\" x=\"33.2875\" xlink:href=\"#m10edfdbb28\" y=\"10.999219\"/>\r\n      </g>\r\n     </g>\r\n     <g id=\"text_5\">\r\n      <!-- 0 -->\r\n      <g transform=\"translate(19.925 14.798438)scale(0.1 -0.1)\">\r\n       <use xlink:href=\"#DejaVuSans-48\"/>\r\n      </g>\r\n     </g>\r\n    </g>\r\n    <g id=\"ytick_2\">\r\n     <g id=\"line2d_6\">\r\n      <g>\r\n       <use style=\"stroke:#000000;stroke-width:0.8;\" x=\"33.2875\" xlink:href=\"#m10edfdbb28\" y=\"38.179219\"/>\r\n      </g>\r\n     </g>\r\n     <g id=\"text_6\">\r\n      <!-- 50 -->\r\n      <g transform=\"translate(13.5625 41.978438)scale(0.1 -0.1)\">\r\n       <defs>\r\n        <path d=\"M 10.796875 72.90625 \r\nL 49.515625 72.90625 \r\nL 49.515625 64.59375 \r\nL 19.828125 64.59375 \r\nL 19.828125 46.734375 \r\nQ 21.96875 47.46875 24.109375 47.828125 \r\nQ 26.265625 48.1875 28.421875 48.1875 \r\nQ 40.625 48.1875 47.75 41.5 \r\nQ 54.890625 34.8125 54.890625 23.390625 \r\nQ 54.890625 11.625 47.5625 5.09375 \r\nQ 40.234375 -1.421875 26.90625 -1.421875 \r\nQ 22.3125 -1.421875 17.546875 -0.640625 \r\nQ 12.796875 0.140625 7.71875 1.703125 \r\nL 7.71875 11.625 \r\nQ 12.109375 9.234375 16.796875 8.0625 \r\nQ 21.484375 6.890625 26.703125 6.890625 \r\nQ 35.15625 6.890625 40.078125 11.328125 \r\nQ 45.015625 15.765625 45.015625 23.390625 \r\nQ 45.015625 31 40.078125 35.4375 \r\nQ 35.15625 39.890625 26.703125 39.890625 \r\nQ 22.75 39.890625 18.8125 39.015625 \r\nQ 14.890625 38.140625 10.796875 36.28125 \r\nz\r\n\" id=\"DejaVuSans-53\"/>\r\n       </defs>\r\n       <use xlink:href=\"#DejaVuSans-53\"/>\r\n       <use x=\"63.623047\" xlink:href=\"#DejaVuSans-48\"/>\r\n      </g>\r\n     </g>\r\n    </g>\r\n    <g id=\"ytick_3\">\r\n     <g id=\"line2d_7\">\r\n      <g>\r\n       <use style=\"stroke:#000000;stroke-width:0.8;\" x=\"33.2875\" xlink:href=\"#m10edfdbb28\" y=\"65.359219\"/>\r\n      </g>\r\n     </g>\r\n     <g id=\"text_7\">\r\n      <!-- 100 -->\r\n      <g transform=\"translate(7.2 69.158438)scale(0.1 -0.1)\">\r\n       <use xlink:href=\"#DejaVuSans-49\"/>\r\n       <use x=\"63.623047\" xlink:href=\"#DejaVuSans-48\"/>\r\n       <use x=\"127.246094\" xlink:href=\"#DejaVuSans-48\"/>\r\n      </g>\r\n     </g>\r\n    </g>\r\n    <g id=\"ytick_4\">\r\n     <g id=\"line2d_8\">\r\n      <g>\r\n       <use style=\"stroke:#000000;stroke-width:0.8;\" x=\"33.2875\" xlink:href=\"#m10edfdbb28\" y=\"92.539219\"/>\r\n      </g>\r\n     </g>\r\n     <g id=\"text_8\">\r\n      <!-- 150 -->\r\n      <g transform=\"translate(7.2 96.338437)scale(0.1 -0.1)\">\r\n       <use xlink:href=\"#DejaVuSans-49\"/>\r\n       <use x=\"63.623047\" xlink:href=\"#DejaVuSans-53\"/>\r\n       <use x=\"127.246094\" xlink:href=\"#DejaVuSans-48\"/>\r\n      </g>\r\n     </g>\r\n    </g>\r\n    <g id=\"ytick_5\">\r\n     <g id=\"line2d_9\">\r\n      <g>\r\n       <use style=\"stroke:#000000;stroke-width:0.8;\" x=\"33.2875\" xlink:href=\"#m10edfdbb28\" y=\"119.719219\"/>\r\n      </g>\r\n     </g>\r\n     <g id=\"text_9\">\r\n      <!-- 200 -->\r\n      <g transform=\"translate(7.2 123.518438)scale(0.1 -0.1)\">\r\n       <use xlink:href=\"#DejaVuSans-50\"/>\r\n       <use x=\"63.623047\" xlink:href=\"#DejaVuSans-48\"/>\r\n       <use x=\"127.246094\" xlink:href=\"#DejaVuSans-48\"/>\r\n      </g>\r\n     </g>\r\n    </g>\r\n    <g id=\"ytick_6\">\r\n     <g id=\"line2d_10\">\r\n      <g>\r\n       <use style=\"stroke:#000000;stroke-width:0.8;\" x=\"33.2875\" xlink:href=\"#m10edfdbb28\" y=\"146.899219\"/>\r\n      </g>\r\n     </g>\r\n     <g id=\"text_10\">\r\n      <!-- 250 -->\r\n      <g transform=\"translate(7.2 150.698438)scale(0.1 -0.1)\">\r\n       <use xlink:href=\"#DejaVuSans-50\"/>\r\n       <use x=\"63.623047\" xlink:href=\"#DejaVuSans-53\"/>\r\n       <use x=\"127.246094\" xlink:href=\"#DejaVuSans-48\"/>\r\n      </g>\r\n     </g>\r\n    </g>\r\n    <g id=\"ytick_7\">\r\n     <g id=\"line2d_11\">\r\n      <g>\r\n       <use style=\"stroke:#000000;stroke-width:0.8;\" x=\"33.2875\" xlink:href=\"#m10edfdbb28\" y=\"174.079219\"/>\r\n      </g>\r\n     </g>\r\n     <g id=\"text_11\">\r\n      <!-- 300 -->\r\n      <g transform=\"translate(7.2 177.878437)scale(0.1 -0.1)\">\r\n       <use xlink:href=\"#DejaVuSans-51\"/>\r\n       <use x=\"63.623047\" xlink:href=\"#DejaVuSans-48\"/>\r\n       <use x=\"127.246094\" xlink:href=\"#DejaVuSans-48\"/>\r\n      </g>\r\n     </g>\r\n    </g>\r\n    <g id=\"ytick_8\">\r\n     <g id=\"line2d_12\">\r\n      <g>\r\n       <use style=\"stroke:#000000;stroke-width:0.8;\" x=\"33.2875\" xlink:href=\"#m10edfdbb28\" y=\"201.259219\"/>\r\n      </g>\r\n     </g>\r\n     <g id=\"text_12\">\r\n      <!-- 350 -->\r\n      <g transform=\"translate(7.2 205.058437)scale(0.1 -0.1)\">\r\n       <use xlink:href=\"#DejaVuSans-51\"/>\r\n       <use x=\"63.623047\" xlink:href=\"#DejaVuSans-53\"/>\r\n       <use x=\"127.246094\" xlink:href=\"#DejaVuSans-48\"/>\r\n      </g>\r\n     </g>\r\n    </g>\r\n   </g>\r\n   <g id=\"patch_3\">\r\n    <path d=\"M 33.2875 228.167419 \r\nL 33.2875 10.727419 \r\n\" style=\"fill:none;stroke:#000000;stroke-linecap:square;stroke-linejoin:miter;stroke-width:0.8;\"/>\r\n   </g>\r\n   <g id=\"patch_4\">\r\n    <path d=\"M 250.7275 228.167419 \r\nL 250.7275 10.727419 \r\n\" style=\"fill:none;stroke:#000000;stroke-linecap:square;stroke-linejoin:miter;stroke-width:0.8;\"/>\r\n   </g>\r\n   <g id=\"patch_5\">\r\n    <path d=\"M 33.2875 228.167419 \r\nL 250.7275 228.167419 \r\n\" style=\"fill:none;stroke:#000000;stroke-linecap:square;stroke-linejoin:miter;stroke-width:0.8;\"/>\r\n   </g>\r\n   <g id=\"patch_6\">\r\n    <path d=\"M 33.2875 10.727419 \r\nL 250.7275 10.727419 \r\n\" style=\"fill:none;stroke:#000000;stroke-linecap:square;stroke-linejoin:miter;stroke-width:0.8;\"/>\r\n   </g>\r\n  </g>\r\n </g>\r\n <defs>\r\n  <clipPath id=\"pb3a6f135e2\">\r\n   <rect height=\"217.44\" width=\"217.44\" x=\"33.2875\" y=\"10.727419\"/>\r\n  </clipPath>\r\n </defs>\r\n</svg>\r\n",
      "image/png": "[encoded data removed]"
     },
     "metadata": {
      "needs_background": "light"
     }
    }
   ],
   "source": [
    "filesource = mpimg.imread('assets/Michigan_logo.jpg')\n",
    "# img = mpimg.imread('../../doc/_static/stinkbug.png')\n",
    "# imgplot = plt.imshow(img)\n",
    "# img = mpimg.imread('your_image.png')\n",
    "# imgplot = plt.imshow(img)\n",
    "# plt.show()\n",
    "img = plt.imshow(filesource)\n",
    "plt.show()\n",
    "# YOUR CODE HERE\n",
    "#raise NotImplementedError()"
   ]
  },
  {
   "cell_type": "code",
   "execution_count": null,
   "metadata": {},
   "outputs": [],
   "source": []
  },
  {
   "cell_type": "markdown",
   "metadata": {
    "deletable": false,
    "editable": false,
    "nbgrader": {
     "checksum": "32049adb823ce5b16dc689906c5e8aac",
     "grade": false,
     "grade_id": "cell-ee52e35ce46f0858",
     "locked": true,
     "schema_version": 1,
     "solution": false
    }
   },
   "source": [
    "<strong>4.2</strong> \\[1 pt\\] What are the RGB values of the pixel at 10, 15 within the image? Please store your answer in a string format: <strong>ANS42</strong> = \"R:, G:, B:\". (example, string may look like the following “R:13, G:2, B:100”.) (Hint: use the python format function)"
   ]
  },
  {
   "cell_type": "code",
   "execution_count": 32,
   "metadata": {
    "deletable": false,
    "nbgrader": {
     "checksum": "883716c7a4d8422d4efca449776fd8de",
     "grade": false,
     "grade_id": "cell-d1f5f261ccc5d800",
     "locked": false,
     "schema_version": 1,
     "solution": true
    }
   },
   "outputs": [
    {
     "output_type": "execute_result",
     "data": {
      "text/plain": [
       "'R:1, G:39, B:76'"
      ]
     },
     "metadata": {},
     "execution_count": 32
    }
   ],
   "source": [
    "img1 = mpimg.imread('assets/Michigan_logo.jpg')\n",
    "RGB = img1[10,15]\n",
    "ANS42= \"R:{}, G:{}, B:{}\".format(RGB[0], RGB[1], RGB[2])\n",
    "ANS42\n",
    "# YOUR CODE HERE\n",
    "# raise NotImplementedError()"
   ]
  },
  {
   "cell_type": "code",
   "execution_count": null,
   "metadata": {
    "deletable": false,
    "editable": false,
    "nbgrader": {
     "checksum": "1826800a1c04eb0d429f42a830be4d3c",
     "grade": true,
     "grade_id": "cell-d2d5230f9865ca70",
     "locked": true,
     "points": 1,
     "schema_version": 1,
     "solution": false
    }
   },
   "outputs": [],
   "source": [
    "#hidden tests for problem 4.2 are within this cell"
   ]
  },
  {
   "cell_type": "markdown",
   "metadata": {
    "deletable": false,
    "editable": false,
    "nbgrader": {
     "checksum": "eaf404dfe9593e96644776e9eded4929",
     "grade": false,
     "grade_id": "cell-411afefd9bbc4c7b",
     "locked": true,
     "schema_version": 1,
     "solution": false
    }
   },
   "source": [
    "<strong>4.3</strong> Please resize the image to 20x20 using cv2."
   ]
  },
  {
   "cell_type": "code",
   "execution_count": 33,
   "metadata": {
    "deletable": false,
    "nbgrader": {
     "checksum": "08cf22a9fa4e95eda21c734ecb581b7b",
     "grade": true,
     "grade_id": "cell-8b16589ebbe0702a",
     "locked": false,
     "points": 0,
     "schema_version": 1,
     "solution": true
    }
   },
   "outputs": [
    {
     "output_type": "display_data",
     "data": {
      "text/plain": "<Figure size 432x288 with 1 Axes>",
      "image/svg+xml": "<?xml version=\"1.0\" encoding=\"utf-8\" standalone=\"no\"?>\r\n<!DOCTYPE svg PUBLIC \"-//W3C//DTD SVG 1.1//EN\"\r\n  \"http://www.w3.org/Graphics/SVG/1.1/DTD/svg11.dtd\">\r\n<!-- Created with matplotlib (https://matplotlib.org/) -->\r\n<svg height=\"248.518125pt\" version=\"1.1\" viewBox=\"0 0 261.105625 248.518125\" width=\"261.105625pt\" xmlns=\"http://www.w3.org/2000/svg\" xmlns:xlink=\"http://www.w3.org/1999/xlink\">\r\n <metadata>\r\n  <rdf:RDF xmlns:cc=\"http://creativecommons.org/ns#\" xmlns:dc=\"http://purl.org/dc/elements/1.1/\" xmlns:rdf=\"http://www.w3.org/1999/02/22-rdf-syntax-ns#\">\r\n   <cc:Work>\r\n    <dc:type rdf:resource=\"http://purl.org/dc/dcmitype/StillImage\"/>\r\n    <dc:date>2021-02-04T15:42:36.623761</dc:date>\r\n    <dc:format>image/svg+xml</dc:format>\r\n    <dc:creator>\r\n     <cc:Agent>\r\n      <dc:title>Matplotlib v3.3.2, https://matplotlib.org/</dc:title>\r\n     </cc:Agent>\r\n    </dc:creator>\r\n   </cc:Work>\r\n  </rdf:RDF>\r\n </metadata>\r\n <defs>\r\n  <style type=\"text/css\">*{stroke-linecap:butt;stroke-linejoin:round;}</style>\r\n </defs>\r\n <g id=\"figure_1\">\r\n  <g id=\"patch_1\">\r\n   <path d=\"M 0 248.518125 \r\nL 261.105625 248.518125 \r\nL 261.105625 0 \r\nL 0 0 \r\nz\r\n\" style=\"fill:none;\"/>\r\n  </g>\r\n  <g id=\"axes_1\">\r\n   <g id=\"patch_2\">\r\n    <path d=\"M 36.465625 224.64 \r\nL 253.905625 224.64 \r\nL 253.905625 7.2 \r\nL 36.465625 7.2 \r\nz\r\n\" style=\"fill:#ffffff;\"/>\r\n   </g>\r\n   <g clip-path=\"url(#p44be4e3ad0)\">\r\n    <image height=\"218\" id=\"imagecb9ab10e2a\" transform=\"scale(1 -1)translate(0 -218)\" width=\"218\" x=\"36.465625\" xlink:href=\"data:image/png;base64,\r\niVBORw0KGgoAAAANSUhEUgAAANoAAADaCAYAAADAHVzbAAAEF0lEQVR4nO3dP4tcVRjA4Tuzs8G/YGNlK6S11UYQ0qWyC2RBCzu/koiRaPwIFhLsFSsbe3sxiht2d8aP4HsD81tHn6d+OXNm2d+c5nDvZnP3/mEBjmp72xuA/wOhQUBoEBAaBIQGAaFBQGgQEBoEhAYBoUFAaBAQGgSEBgGhQUBoEBAaBIQGAaFBQGgQEBoEhAYBoUFAaBAQGgSEBgGhQUBoEBAaBIQGAaFBQGgQEBoEhAYBoUFAaBAQGgSEBgGhQUBoEBAaBIQGAaFBQGgQEBoEhAYBoUFAaBAQGgSEBgGhQUBoEBAaBIQGAaFBQGgQEBoEhAYBoUFAaBAQGgSEBgGhQUBoEBAaBHa3vYG1zrZXo7mrR09XrHp4sc3847Ln49HtxQdH2cL14+/mezhcH2UPy2EzGttd3BsvuV9ma/5bONEgIDQICA0CQoOA0CAgNAgIDQJCg4DQICA0CJzcFSzW2ZzYVaX/KicaBIQGAaFBQGgQEBoEhAYBoUFAaBAQGgSEBoGTu4J1c/PKaO71i3fGaz778qf55y8vjWd3Dz8czz7/6pv5uldn49ntgwfj2cOTz8azy37+hK83P3p7tuQy/17Lsl8xe/ucaBAQGgSEBgGhQUBoEBAaBIQGAaFBQGgQEBoETu4K1rKZvYjwzua343z+9q/x6Gv7X8azu+VmPHs4n7848dX9z+PZmxW/u2suS50fLoeTp3Wtag0nGgSEBgGhQUBoEBAaBIQGAaFBQGgQEBoEhAaB07uCNXS2P851ns389tPy7Osf5sMr1l1zVemPJz/OVz0c53d3412ITjQoCA0CQoOA0CAgNAgIDQJCg4DQICA0CAgNAqd3BetwZzR2fT6bW2t7OM59ok8fvTWe/fP5fN3PP/l1PHus73a5fXk2eLPm3/H6hfZyW5xoEBAaBIQGAaFBQGgQEBoEhAYBoUFAaBAQGgQ2m7v3Vz1/6badbWcvIrx69HTFqkf6E+zfGI/uHr4/nj07zJ+C9fyL78ezy53f57NrDK927S7ujZfcL6f1aC0nGgSEBgGhQUBoEBAaBIQGAaFBQGgQEBoEhAaB03sK1gnZXbw3nt1vL+eza/bw8bvj2evH365YmTWcaBAQGgSEBgGhQUBoEBAaBIQGAaFBQGgQEBoETu4pWHCKnGgQEBoEhAYBoUFAaBAQGgSEBgGhQUBoEBAaBIQGAaFBQGgQEBoEhAYBoUFAaBAQGgSEBgGhQUBoEBAaBIQGAaFBQGgQEBoEhAYBoUFAaBAQGgSEBgGhQUBoEBAaBIQGAaFBQGgQEBoEhAYBoUFAaBAQGgSEBgGhQUBoEBAaBIQGAaFBQGgQEBoEhAYBoUFAaBAQGgSEBgGhQUBoEBAaBIQGAaFBQGgQEBoEhAYBoUHgb0xrXcWCCzv9AAAAAElFTkSuQmCC\" y=\"-6.64\"/>\r\n   </g>\r\n   <g id=\"matplotlib.axis_1\">\r\n    <g id=\"xtick_1\">\r\n     <g id=\"line2d_1\">\r\n      <defs>\r\n       <path d=\"M 0 0 \r\nL 0 3.5 \r\n\" id=\"m1da2c893a1\" style=\"stroke:#000000;stroke-width:0.8;\"/>\r\n      </defs>\r\n      <g>\r\n       <use style=\"stroke:#000000;stroke-width:0.8;\" x=\"41.901625\" xlink:href=\"#m1da2c893a1\" y=\"224.64\"/>\r\n      </g>\r\n     </g>\r\n     <g id=\"text_1\">\r\n      <!-- 0 -->\r\n      <g transform=\"translate(38.720375 239.238438)scale(0.1 -0.1)\">\r\n       <defs>\r\n        <path d=\"M 31.78125 66.40625 \r\nQ 24.171875 66.40625 20.328125 58.90625 \r\nQ 16.5 51.421875 16.5 36.375 \r\nQ 16.5 21.390625 20.328125 13.890625 \r\nQ 24.171875 6.390625 31.78125 6.390625 \r\nQ 39.453125 6.390625 43.28125 13.890625 \r\nQ 47.125 21.390625 47.125 36.375 \r\nQ 47.125 51.421875 43.28125 58.90625 \r\nQ 39.453125 66.40625 31.78125 66.40625 \r\nz\r\nM 31.78125 74.21875 \r\nQ 44.046875 74.21875 50.515625 64.515625 \r\nQ 56.984375 54.828125 56.984375 36.375 \r\nQ 56.984375 17.96875 50.515625 8.265625 \r\nQ 44.046875 -1.421875 31.78125 -1.421875 \r\nQ 19.53125 -1.421875 13.0625 8.265625 \r\nQ 6.59375 17.96875 6.59375 36.375 \r\nQ 6.59375 54.828125 13.0625 64.515625 \r\nQ 19.53125 74.21875 31.78125 74.21875 \r\nz\r\n\" id=\"DejaVuSans-48\"/>\r\n       </defs>\r\n       <use xlink:href=\"#DejaVuSans-48\"/>\r\n      </g>\r\n     </g>\r\n    </g>\r\n    <g id=\"xtick_2\">\r\n     <g id=\"line2d_2\">\r\n      <g>\r\n       <use style=\"stroke:#000000;stroke-width:0.8;\" x=\"96.261625\" xlink:href=\"#m1da2c893a1\" y=\"224.64\"/>\r\n      </g>\r\n     </g>\r\n     <g id=\"text_2\">\r\n      <!-- 5 -->\r\n      <g transform=\"translate(93.080375 239.238438)scale(0.1 -0.1)\">\r\n       <defs>\r\n        <path d=\"M 10.796875 72.90625 \r\nL 49.515625 72.90625 \r\nL 49.515625 64.59375 \r\nL 19.828125 64.59375 \r\nL 19.828125 46.734375 \r\nQ 21.96875 47.46875 24.109375 47.828125 \r\nQ 26.265625 48.1875 28.421875 48.1875 \r\nQ 40.625 48.1875 47.75 41.5 \r\nQ 54.890625 34.8125 54.890625 23.390625 \r\nQ 54.890625 11.625 47.5625 5.09375 \r\nQ 40.234375 -1.421875 26.90625 -1.421875 \r\nQ 22.3125 -1.421875 17.546875 -0.640625 \r\nQ 12.796875 0.140625 7.71875 1.703125 \r\nL 7.71875 11.625 \r\nQ 12.109375 9.234375 16.796875 8.0625 \r\nQ 21.484375 6.890625 26.703125 6.890625 \r\nQ 35.15625 6.890625 40.078125 11.328125 \r\nQ 45.015625 15.765625 45.015625 23.390625 \r\nQ 45.015625 31 40.078125 35.4375 \r\nQ 35.15625 39.890625 26.703125 39.890625 \r\nQ 22.75 39.890625 18.8125 39.015625 \r\nQ 14.890625 38.140625 10.796875 36.28125 \r\nz\r\n\" id=\"DejaVuSans-53\"/>\r\n       </defs>\r\n       <use xlink:href=\"#DejaVuSans-53\"/>\r\n      </g>\r\n     </g>\r\n    </g>\r\n    <g id=\"xtick_3\">\r\n     <g id=\"line2d_3\">\r\n      <g>\r\n       <use style=\"stroke:#000000;stroke-width:0.8;\" x=\"150.621625\" xlink:href=\"#m1da2c893a1\" y=\"224.64\"/>\r\n      </g>\r\n     </g>\r\n     <g id=\"text_3\">\r\n      <!-- 10 -->\r\n      <g transform=\"translate(144.259125 239.238438)scale(0.1 -0.1)\">\r\n       <defs>\r\n        <path d=\"M 12.40625 8.296875 \r\nL 28.515625 8.296875 \r\nL 28.515625 63.921875 \r\nL 10.984375 60.40625 \r\nL 10.984375 69.390625 \r\nL 28.421875 72.90625 \r\nL 38.28125 72.90625 \r\nL 38.28125 8.296875 \r\nL 54.390625 8.296875 \r\nL 54.390625 0 \r\nL 12.40625 0 \r\nz\r\n\" id=\"DejaVuSans-49\"/>\r\n       </defs>\r\n       <use xlink:href=\"#DejaVuSans-49\"/>\r\n       <use x=\"63.623047\" xlink:href=\"#DejaVuSans-48\"/>\r\n      </g>\r\n     </g>\r\n    </g>\r\n    <g id=\"xtick_4\">\r\n     <g id=\"line2d_4\">\r\n      <g>\r\n       <use style=\"stroke:#000000;stroke-width:0.8;\" x=\"204.981625\" xlink:href=\"#m1da2c893a1\" y=\"224.64\"/>\r\n      </g>\r\n     </g>\r\n     <g id=\"text_4\">\r\n      <!-- 15 -->\r\n      <g transform=\"translate(198.619125 239.238438)scale(0.1 -0.1)\">\r\n       <use xlink:href=\"#DejaVuSans-49\"/>\r\n       <use x=\"63.623047\" xlink:href=\"#DejaVuSans-53\"/>\r\n      </g>\r\n     </g>\r\n    </g>\r\n   </g>\r\n   <g id=\"matplotlib.axis_2\">\r\n    <g id=\"ytick_1\">\r\n     <g id=\"line2d_5\">\r\n      <defs>\r\n       <path d=\"M 0 0 \r\nL -3.5 0 \r\n\" id=\"mef0307568a\" style=\"stroke:#000000;stroke-width:0.8;\"/>\r\n      </defs>\r\n      <g>\r\n       <use style=\"stroke:#000000;stroke-width:0.8;\" x=\"36.465625\" xlink:href=\"#mef0307568a\" y=\"12.636\"/>\r\n      </g>\r\n     </g>\r\n     <g id=\"text_5\">\r\n      <!-- 0.0 -->\r\n      <g transform=\"translate(13.5625 16.435219)scale(0.1 -0.1)\">\r\n       <defs>\r\n        <path d=\"M 10.6875 12.40625 \r\nL 21 12.40625 \r\nL 21 0 \r\nL 10.6875 0 \r\nz\r\n\" id=\"DejaVuSans-46\"/>\r\n       </defs>\r\n       <use xlink:href=\"#DejaVuSans-48\"/>\r\n       <use x=\"63.623047\" xlink:href=\"#DejaVuSans-46\"/>\r\n       <use x=\"95.410156\" xlink:href=\"#DejaVuSans-48\"/>\r\n      </g>\r\n     </g>\r\n    </g>\r\n    <g id=\"ytick_2\">\r\n     <g id=\"line2d_6\">\r\n      <g>\r\n       <use style=\"stroke:#000000;stroke-width:0.8;\" x=\"36.465625\" xlink:href=\"#mef0307568a\" y=\"39.816\"/>\r\n      </g>\r\n     </g>\r\n     <g id=\"text_6\">\r\n      <!-- 2.5 -->\r\n      <g transform=\"translate(13.5625 43.615219)scale(0.1 -0.1)\">\r\n       <defs>\r\n        <path d=\"M 19.1875 8.296875 \r\nL 53.609375 8.296875 \r\nL 53.609375 0 \r\nL 7.328125 0 \r\nL 7.328125 8.296875 \r\nQ 12.9375 14.109375 22.625 23.890625 \r\nQ 32.328125 33.6875 34.8125 36.53125 \r\nQ 39.546875 41.84375 41.421875 45.53125 \r\nQ 43.3125 49.21875 43.3125 52.78125 \r\nQ 43.3125 58.59375 39.234375 62.25 \r\nQ 35.15625 65.921875 28.609375 65.921875 \r\nQ 23.96875 65.921875 18.8125 64.3125 \r\nQ 13.671875 62.703125 7.8125 59.421875 \r\nL 7.8125 69.390625 \r\nQ 13.765625 71.78125 18.9375 73 \r\nQ 24.125 74.21875 28.421875 74.21875 \r\nQ 39.75 74.21875 46.484375 68.546875 \r\nQ 53.21875 62.890625 53.21875 53.421875 \r\nQ 53.21875 48.921875 51.53125 44.890625 \r\nQ 49.859375 40.875 45.40625 35.40625 \r\nQ 44.1875 33.984375 37.640625 27.21875 \r\nQ 31.109375 20.453125 19.1875 8.296875 \r\nz\r\n\" id=\"DejaVuSans-50\"/>\r\n       </defs>\r\n       <use xlink:href=\"#DejaVuSans-50\"/>\r\n       <use x=\"63.623047\" xlink:href=\"#DejaVuSans-46\"/>\r\n       <use x=\"95.410156\" xlink:href=\"#DejaVuSans-53\"/>\r\n      </g>\r\n     </g>\r\n    </g>\r\n    <g id=\"ytick_3\">\r\n     <g id=\"line2d_7\">\r\n      <g>\r\n       <use style=\"stroke:#000000;stroke-width:0.8;\" x=\"36.465625\" xlink:href=\"#mef0307568a\" y=\"66.996\"/>\r\n      </g>\r\n     </g>\r\n     <g id=\"text_7\">\r\n      <!-- 5.0 -->\r\n      <g transform=\"translate(13.5625 70.795219)scale(0.1 -0.1)\">\r\n       <use xlink:href=\"#DejaVuSans-53\"/>\r\n       <use x=\"63.623047\" xlink:href=\"#DejaVuSans-46\"/>\r\n       <use x=\"95.410156\" xlink:href=\"#DejaVuSans-48\"/>\r\n      </g>\r\n     </g>\r\n    </g>\r\n    <g id=\"ytick_4\">\r\n     <g id=\"line2d_8\">\r\n      <g>\r\n       <use style=\"stroke:#000000;stroke-width:0.8;\" x=\"36.465625\" xlink:href=\"#mef0307568a\" y=\"94.176\"/>\r\n      </g>\r\n     </g>\r\n     <g id=\"text_8\">\r\n      <!-- 7.5 -->\r\n      <g transform=\"translate(13.5625 97.975219)scale(0.1 -0.1)\">\r\n       <defs>\r\n        <path d=\"M 8.203125 72.90625 \r\nL 55.078125 72.90625 \r\nL 55.078125 68.703125 \r\nL 28.609375 0 \r\nL 18.3125 0 \r\nL 43.21875 64.59375 \r\nL 8.203125 64.59375 \r\nz\r\n\" id=\"DejaVuSans-55\"/>\r\n       </defs>\r\n       <use xlink:href=\"#DejaVuSans-55\"/>\r\n       <use x=\"63.623047\" xlink:href=\"#DejaVuSans-46\"/>\r\n       <use x=\"95.410156\" xlink:href=\"#DejaVuSans-53\"/>\r\n      </g>\r\n     </g>\r\n    </g>\r\n    <g id=\"ytick_5\">\r\n     <g id=\"line2d_9\">\r\n      <g>\r\n       <use style=\"stroke:#000000;stroke-width:0.8;\" x=\"36.465625\" xlink:href=\"#mef0307568a\" y=\"121.356\"/>\r\n      </g>\r\n     </g>\r\n     <g id=\"text_9\">\r\n      <!-- 10.0 -->\r\n      <g transform=\"translate(7.2 125.155219)scale(0.1 -0.1)\">\r\n       <use xlink:href=\"#DejaVuSans-49\"/>\r\n       <use x=\"63.623047\" xlink:href=\"#DejaVuSans-48\"/>\r\n       <use x=\"127.246094\" xlink:href=\"#DejaVuSans-46\"/>\r\n       <use x=\"159.033203\" xlink:href=\"#DejaVuSans-48\"/>\r\n      </g>\r\n     </g>\r\n    </g>\r\n    <g id=\"ytick_6\">\r\n     <g id=\"line2d_10\">\r\n      <g>\r\n       <use style=\"stroke:#000000;stroke-width:0.8;\" x=\"36.465625\" xlink:href=\"#mef0307568a\" y=\"148.536\"/>\r\n      </g>\r\n     </g>\r\n     <g id=\"text_10\">\r\n      <!-- 12.5 -->\r\n      <g transform=\"translate(7.2 152.335219)scale(0.1 -0.1)\">\r\n       <use xlink:href=\"#DejaVuSans-49\"/>\r\n       <use x=\"63.623047\" xlink:href=\"#DejaVuSans-50\"/>\r\n       <use x=\"127.246094\" xlink:href=\"#DejaVuSans-46\"/>\r\n       <use x=\"159.033203\" xlink:href=\"#DejaVuSans-53\"/>\r\n      </g>\r\n     </g>\r\n    </g>\r\n    <g id=\"ytick_7\">\r\n     <g id=\"line2d_11\">\r\n      <g>\r\n       <use style=\"stroke:#000000;stroke-width:0.8;\" x=\"36.465625\" xlink:href=\"#mef0307568a\" y=\"175.716\"/>\r\n      </g>\r\n     </g>\r\n     <g id=\"text_11\">\r\n      <!-- 15.0 -->\r\n      <g transform=\"translate(7.2 179.515219)scale(0.1 -0.1)\">\r\n       <use xlink:href=\"#DejaVuSans-49\"/>\r\n       <use x=\"63.623047\" xlink:href=\"#DejaVuSans-53\"/>\r\n       <use x=\"127.246094\" xlink:href=\"#DejaVuSans-46\"/>\r\n       <use x=\"159.033203\" xlink:href=\"#DejaVuSans-48\"/>\r\n      </g>\r\n     </g>\r\n    </g>\r\n    <g id=\"ytick_8\">\r\n     <g id=\"line2d_12\">\r\n      <g>\r\n       <use style=\"stroke:#000000;stroke-width:0.8;\" x=\"36.465625\" xlink:href=\"#mef0307568a\" y=\"202.896\"/>\r\n      </g>\r\n     </g>\r\n     <g id=\"text_12\">\r\n      <!-- 17.5 -->\r\n      <g transform=\"translate(7.2 206.695219)scale(0.1 -0.1)\">\r\n       <use xlink:href=\"#DejaVuSans-49\"/>\r\n       <use x=\"63.623047\" xlink:href=\"#DejaVuSans-55\"/>\r\n       <use x=\"127.246094\" xlink:href=\"#DejaVuSans-46\"/>\r\n       <use x=\"159.033203\" xlink:href=\"#DejaVuSans-53\"/>\r\n      </g>\r\n     </g>\r\n    </g>\r\n   </g>\r\n   <g id=\"patch_3\">\r\n    <path d=\"M 36.465625 224.64 \r\nL 36.465625 7.2 \r\n\" style=\"fill:none;stroke:#000000;stroke-linecap:square;stroke-linejoin:miter;stroke-width:0.8;\"/>\r\n   </g>\r\n   <g id=\"patch_4\">\r\n    <path d=\"M 253.905625 224.64 \r\nL 253.905625 7.2 \r\n\" style=\"fill:none;stroke:#000000;stroke-linecap:square;stroke-linejoin:miter;stroke-width:0.8;\"/>\r\n   </g>\r\n   <g id=\"patch_5\">\r\n    <path d=\"M 36.465625 224.64 \r\nL 253.905625 224.64 \r\n\" style=\"fill:none;stroke:#000000;stroke-linecap:square;stroke-linejoin:miter;stroke-width:0.8;\"/>\r\n   </g>\r\n   <g id=\"patch_6\">\r\n    <path d=\"M 36.465625 7.2 \r\nL 253.905625 7.2 \r\n\" style=\"fill:none;stroke:#000000;stroke-linecap:square;stroke-linejoin:miter;stroke-width:0.8;\"/>\r\n   </g>\r\n  </g>\r\n </g>\r\n <defs>\r\n  <clipPath id=\"p44be4e3ad0\">\r\n   <rect height=\"217.44\" width=\"217.44\" x=\"36.465625\" y=\"7.2\"/>\r\n  </clipPath>\r\n </defs>\r\n</svg>\r\n",
      "image/png": "[encoded data removed]"
     },
     "metadata": {
      "needs_background": "light"
     }
    }
   ],
   "source": [
    "img2 = cv2.resize(img1, (20,20))\n",
    "plt.show(plt.imshow(img2))\n",
    "# YOUR CODE HERE\n",
    "# raise NotImplementedError()"
   ]
  },
  {
   "cell_type": "markdown",
   "metadata": {
    "deletable": false,
    "editable": false,
    "nbgrader": {
     "checksum": "5992422c6810e901d9020d63cdb33acf",
     "grade": false,
     "grade_id": "cell-85d17fa744e0a47a",
     "locked": true,
     "schema_version": 1,
     "solution": false
    }
   },
   "source": [
    "<strong>4.4</strong> \\[1 pt\\] What is the dimension of the image? Please store the result into the variable <strong>resized_dim</strong>. "
   ]
  },
  {
   "cell_type": "code",
   "execution_count": 34,
   "metadata": {
    "deletable": false,
    "nbgrader": {
     "checksum": "ec992b9f22e0a20cd8c6c63877a4cff7",
     "grade": false,
     "grade_id": "cell-da73d6771390566c",
     "locked": false,
     "schema_version": 1,
     "solution": true
    }
   },
   "outputs": [
    {
     "output_type": "execute_result",
     "data": {
      "text/plain": [
       "(20, 20, 3)"
      ]
     },
     "metadata": {},
     "execution_count": 34
    }
   ],
   "source": [
    "resized_dim = img2.shape\n",
    "resized_dim\n",
    "# YOUR CODE HERE\n",
    "# raise NotImplementedError()"
   ]
  },
  {
   "cell_type": "code",
   "execution_count": null,
   "metadata": {
    "deletable": false,
    "editable": false,
    "nbgrader": {
     "checksum": "1df03a6565fcaf5d4f17b542b3d9f840",
     "grade": true,
     "grade_id": "cell-214cff6388d2e1c8",
     "locked": true,
     "points": 1,
     "schema_version": 1,
     "solution": false
    }
   },
   "outputs": [],
   "source": [
    "#hidden tests for problem 4.4 are within this cell"
   ]
  }
 ],
 "metadata": {
  "coursera": {
   "schema_names": [
    "mads_math_methods_for_data_science_v3_assignment1"
   ]
  },
  "kernelspec": {
   "display_name": "Python 3",
   "language": "python",
   "name": "python3"
  },
  "language_info": {
   "codemirror_mode": {
    "name": "ipython",
    "version": 3
   },
   "file_extension": ".py",
   "mimetype": "text/x-python",
   "name": "python",
   "nbconvert_exporter": "python",
   "pygments_lexer": "ipython3",
   "version": "3.8.5-final"
  }
 },
 "nbformat": 4,
 "nbformat_minor": 2
}