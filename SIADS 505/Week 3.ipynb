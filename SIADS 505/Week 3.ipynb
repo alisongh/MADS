{
 "cells": [
  {
   "cell_type": "markdown",
   "metadata": {},
   "source": [
    "## Data Wrangling: Join, Combine, and Reshape\n",
    "\n",
    "### Hierarchical Indexing\n",
    "\n",
    "*Hierarchical indexing* is an important feature of pandas that enables you to have multiple index *level* on an axis. It provides a way for you to work with higher dimensional data in a lower dimensional form."
   ]
  },
  {
   "cell_type": "code",
   "execution_count": 1,
   "metadata": {},
   "outputs": [],
   "source": [
    "import pandas as pd\n",
    "import numpy as np"
   ]
  },
  {
   "cell_type": "code",
   "execution_count": 2,
   "metadata": {},
   "outputs": [
    {
     "output_type": "execute_result",
     "data": {
      "text/plain": [
       "a  1    1.789659\n",
       "   2    0.427638\n",
       "   3   -1.587755\n",
       "b  1    0.274550\n",
       "   3   -0.167158\n",
       "c  1   -1.575036\n",
       "   2    0.800977\n",
       "d  3    0.190708\n",
       "   1    2.250988\n",
       "dtype: float64"
      ]
     },
     "metadata": {},
     "execution_count": 2
    }
   ],
   "source": [
    "data = pd.Series(np.random.randn(9),\n",
    "                index = [['a','a','a','b','b','c','c','d','d'],\n",
    "                        [1,2,3,1,3,1,2,3,1]])\n",
    "\n",
    "data"
   ]
  },
  {
   "cell_type": "code",
   "execution_count": 3,
   "metadata": {},
   "outputs": [
    {
     "output_type": "execute_result",
     "data": {
      "text/plain": [
       "MultiIndex([('a', 1),\n",
       "            ('a', 2),\n",
       "            ('a', 3),\n",
       "            ('b', 1),\n",
       "            ('b', 3),\n",
       "            ('c', 1),\n",
       "            ('c', 2),\n",
       "            ('d', 3),\n",
       "            ('d', 1)],\n",
       "           )"
      ]
     },
     "metadata": {},
     "execution_count": 3
    }
   ],
   "source": [
    "data.index"
   ]
  },
  {
   "cell_type": "markdown",
   "metadata": {},
   "source": [
    "With a hierarchically indexed object, so-called *partial* indexing is possible, enable you to concisely select subsets of the data"
   ]
  },
  {
   "cell_type": "code",
   "execution_count": 4,
   "metadata": {},
   "outputs": [
    {
     "output_type": "execute_result",
     "data": {
      "text/plain": [
       "1    0.274550\n",
       "3   -0.167158\n",
       "dtype: float64"
      ]
     },
     "metadata": {},
     "execution_count": 4
    }
   ],
   "source": [
    "data['b']"
   ]
  },
  {
   "cell_type": "code",
   "execution_count": 5,
   "metadata": {},
   "outputs": [
    {
     "output_type": "execute_result",
     "data": {
      "text/plain": [
       "b  1    0.274550\n",
       "   3   -0.167158\n",
       "c  1   -1.575036\n",
       "   2    0.800977\n",
       "dtype: float64"
      ]
     },
     "metadata": {},
     "execution_count": 5
    }
   ],
   "source": [
    "data['b':'c']"
   ]
  },
  {
   "cell_type": "code",
   "execution_count": 6,
   "metadata": {},
   "outputs": [
    {
     "output_type": "execute_result",
     "data": {
      "text/plain": [
       "b  1    0.274550\n",
       "   3   -0.167158\n",
       "d  3    0.190708\n",
       "   1    2.250988\n",
       "dtype: float64"
      ]
     },
     "metadata": {},
     "execution_count": 6
    }
   ],
   "source": [
    "data.loc[['b','d']]"
   ]
  },
  {
   "cell_type": "code",
   "execution_count": 7,
   "metadata": {},
   "outputs": [
    {
     "output_type": "execute_result",
     "data": {
      "text/plain": [
       "a    0.427638\n",
       "c    0.800977\n",
       "dtype: float64"
      ]
     },
     "metadata": {},
     "execution_count": 7
    }
   ],
   "source": [
    "data.loc[:, 2]"
   ]
  },
  {
   "cell_type": "code",
   "execution_count": 8,
   "metadata": {},
   "outputs": [
    {
     "output_type": "execute_result",
     "data": {
      "text/plain": [
       "          1         2         3\n",
       "a  1.789659  0.427638 -1.587755\n",
       "b  0.274550       NaN -0.167158\n",
       "c -1.575036  0.800977       NaN\n",
       "d  2.250988       NaN  0.190708"
      ],
      "text/html": "<div>\n<style scoped>\n    .dataframe tbody tr th:only-of-type {\n        vertical-align: middle;\n    }\n\n    .dataframe tbody tr th {\n        vertical-align: top;\n    }\n\n    .dataframe thead th {\n        text-align: right;\n    }\n</style>\n<table border=\"1\" class=\"dataframe\">\n  <thead>\n    <tr style=\"text-align: right;\">\n      <th></th>\n      <th>1</th>\n      <th>2</th>\n      <th>3</th>\n    </tr>\n  </thead>\n  <tbody>\n    <tr>\n      <th>a</th>\n      <td>1.789659</td>\n      <td>0.427638</td>\n      <td>-1.587755</td>\n    </tr>\n    <tr>\n      <th>b</th>\n      <td>0.274550</td>\n      <td>NaN</td>\n      <td>-0.167158</td>\n    </tr>\n    <tr>\n      <th>c</th>\n      <td>-1.575036</td>\n      <td>0.800977</td>\n      <td>NaN</td>\n    </tr>\n    <tr>\n      <th>d</th>\n      <td>2.250988</td>\n      <td>NaN</td>\n      <td>0.190708</td>\n    </tr>\n  </tbody>\n</table>\n</div>"
     },
     "metadata": {},
     "execution_count": 8
    }
   ],
   "source": [
    "data.unstack()"
   ]
  },
  {
   "cell_type": "code",
   "execution_count": 9,
   "metadata": {},
   "outputs": [
    {
     "output_type": "execute_result",
     "data": {
      "text/plain": [
       "a  1    1.789659\n",
       "   2    0.427638\n",
       "   3   -1.587755\n",
       "b  1    0.274550\n",
       "   3   -0.167158\n",
       "c  1   -1.575036\n",
       "   2    0.800977\n",
       "d  1    2.250988\n",
       "   3    0.190708\n",
       "dtype: float64"
      ]
     },
     "metadata": {},
     "execution_count": 9
    }
   ],
   "source": [
    "data.unstack().stack()"
   ]
  },
  {
   "cell_type": "code",
   "execution_count": 10,
   "metadata": {},
   "outputs": [],
   "source": [
    "frame = pd.DataFrame(np.arange(12).reshape((4,3)),\n",
    "                    index = [['a','a','b','b'],[1,2,1,2]],\n",
    "                    columns = [['Ohio','Ohio','NC'],['Green','Red','Green']])"
   ]
  },
  {
   "cell_type": "code",
   "execution_count": 11,
   "metadata": {},
   "outputs": [
    {
     "output_type": "execute_result",
     "data": {
      "text/plain": [
       "     Ohio        NC\n",
       "    Green Red Green\n",
       "a 1     0   1     2\n",
       "  2     3   4     5\n",
       "b 1     6   7     8\n",
       "  2     9  10    11"
      ],
      "text/html": "<div>\n<style scoped>\n    .dataframe tbody tr th:only-of-type {\n        vertical-align: middle;\n    }\n\n    .dataframe tbody tr th {\n        vertical-align: top;\n    }\n\n    .dataframe thead tr th {\n        text-align: left;\n    }\n</style>\n<table border=\"1\" class=\"dataframe\">\n  <thead>\n    <tr>\n      <th></th>\n      <th></th>\n      <th colspan=\"2\" halign=\"left\">Ohio</th>\n      <th>NC</th>\n    </tr>\n    <tr>\n      <th></th>\n      <th></th>\n      <th>Green</th>\n      <th>Red</th>\n      <th>Green</th>\n    </tr>\n  </thead>\n  <tbody>\n    <tr>\n      <th rowspan=\"2\" valign=\"top\">a</th>\n      <th>1</th>\n      <td>0</td>\n      <td>1</td>\n      <td>2</td>\n    </tr>\n    <tr>\n      <th>2</th>\n      <td>3</td>\n      <td>4</td>\n      <td>5</td>\n    </tr>\n    <tr>\n      <th rowspan=\"2\" valign=\"top\">b</th>\n      <th>1</th>\n      <td>6</td>\n      <td>7</td>\n      <td>8</td>\n    </tr>\n    <tr>\n      <th>2</th>\n      <td>9</td>\n      <td>10</td>\n      <td>11</td>\n    </tr>\n  </tbody>\n</table>\n</div>"
     },
     "metadata": {},
     "execution_count": 11
    }
   ],
   "source": [
    "frame"
   ]
  },
  {
   "cell_type": "code",
   "execution_count": 12,
   "metadata": {},
   "outputs": [
    {
     "output_type": "execute_result",
     "data": {
      "text/plain": [
       "state      Ohio        NC\n",
       "color     Green Red Green\n",
       "key1 key2                \n",
       "a    1        0   1     2\n",
       "     2        3   4     5\n",
       "b    1        6   7     8\n",
       "     2        9  10    11"
      ],
      "text/html": "<div>\n<style scoped>\n    .dataframe tbody tr th:only-of-type {\n        vertical-align: middle;\n    }\n\n    .dataframe tbody tr th {\n        vertical-align: top;\n    }\n\n    .dataframe thead tr th {\n        text-align: left;\n    }\n\n    .dataframe thead tr:last-of-type th {\n        text-align: right;\n    }\n</style>\n<table border=\"1\" class=\"dataframe\">\n  <thead>\n    <tr>\n      <th></th>\n      <th>state</th>\n      <th colspan=\"2\" halign=\"left\">Ohio</th>\n      <th>NC</th>\n    </tr>\n    <tr>\n      <th></th>\n      <th>color</th>\n      <th>Green</th>\n      <th>Red</th>\n      <th>Green</th>\n    </tr>\n    <tr>\n      <th>key1</th>\n      <th>key2</th>\n      <th></th>\n      <th></th>\n      <th></th>\n    </tr>\n  </thead>\n  <tbody>\n    <tr>\n      <th rowspan=\"2\" valign=\"top\">a</th>\n      <th>1</th>\n      <td>0</td>\n      <td>1</td>\n      <td>2</td>\n    </tr>\n    <tr>\n      <th>2</th>\n      <td>3</td>\n      <td>4</td>\n      <td>5</td>\n    </tr>\n    <tr>\n      <th rowspan=\"2\" valign=\"top\">b</th>\n      <th>1</th>\n      <td>6</td>\n      <td>7</td>\n      <td>8</td>\n    </tr>\n    <tr>\n      <th>2</th>\n      <td>9</td>\n      <td>10</td>\n      <td>11</td>\n    </tr>\n  </tbody>\n</table>\n</div>"
     },
     "metadata": {},
     "execution_count": 12
    }
   ],
   "source": [
    "# The hierarchical levels can have names.\n",
    "frame.index.names = ['key1','key2']\n",
    "\n",
    "frame.columns.names = ['state','color']\n",
    "\n",
    "frame"
   ]
  },
  {
   "cell_type": "code",
   "execution_count": 13,
   "metadata": {},
   "outputs": [
    {
     "output_type": "execute_result",
     "data": {
      "text/plain": [
       "color      Green\n",
       "key1 key2       \n",
       "a    1         2\n",
       "     2         5\n",
       "b    1         8\n",
       "     2        11"
      ],
      "text/html": "<div>\n<style scoped>\n    .dataframe tbody tr th:only-of-type {\n        vertical-align: middle;\n    }\n\n    .dataframe tbody tr th {\n        vertical-align: top;\n    }\n\n    .dataframe thead th {\n        text-align: right;\n    }\n</style>\n<table border=\"1\" class=\"dataframe\">\n  <thead>\n    <tr style=\"text-align: right;\">\n      <th></th>\n      <th>color</th>\n      <th>Green</th>\n    </tr>\n    <tr>\n      <th>key1</th>\n      <th>key2</th>\n      <th></th>\n    </tr>\n  </thead>\n  <tbody>\n    <tr>\n      <th rowspan=\"2\" valign=\"top\">a</th>\n      <th>1</th>\n      <td>2</td>\n    </tr>\n    <tr>\n      <th>2</th>\n      <td>5</td>\n    </tr>\n    <tr>\n      <th rowspan=\"2\" valign=\"top\">b</th>\n      <th>1</th>\n      <td>8</td>\n    </tr>\n    <tr>\n      <th>2</th>\n      <td>11</td>\n    </tr>\n  </tbody>\n</table>\n</div>"
     },
     "metadata": {},
     "execution_count": 13
    }
   ],
   "source": [
    "# With partial column indexing you can similarly select groups of columns\n",
    "frame['NC']"
   ]
  },
  {
   "cell_type": "code",
   "execution_count": 14,
   "metadata": {},
   "outputs": [
    {
     "output_type": "execute_result",
     "data": {
      "text/plain": [
       "MultiIndex([('Ohio', 'Green'),\n",
       "            ('Ohio',  'Gold'),\n",
       "            (  'NC', 'Green')],\n",
       "           names=['state', 'color'])"
      ]
     },
     "metadata": {},
     "execution_count": 14
    }
   ],
   "source": [
    "# A MultiIndex can be created by itself and then reused; the columns in the preceding \n",
    "# DataFrame with level names\n",
    "pd.MultiIndex.from_arrays([['Ohio','Ohio','NC'],\n",
    "                          ['Green','Gold','Green']],\n",
    "                         names = ['state','color'])"
   ]
  },
  {
   "cell_type": "markdown",
   "metadata": {},
   "source": [
    "### Reordering and sorting levels\n",
    "\n",
    "Need to rearrange the order of the levels on an axis or sort the data by the values in one specific level. The `swaplevel` takes two level numbers or names and returns a new object with the levels interchanged (but the data is otherwise unaltered)"
   ]
  },
  {
   "cell_type": "code",
   "execution_count": 15,
   "metadata": {},
   "outputs": [
    {
     "output_type": "execute_result",
     "data": {
      "text/plain": [
       "state      Ohio        NC\n",
       "color     Green Red Green\n",
       "key2 key1                \n",
       "1    a        0   1     2\n",
       "2    a        3   4     5\n",
       "1    b        6   7     8\n",
       "2    b        9  10    11"
      ],
      "text/html": "<div>\n<style scoped>\n    .dataframe tbody tr th:only-of-type {\n        vertical-align: middle;\n    }\n\n    .dataframe tbody tr th {\n        vertical-align: top;\n    }\n\n    .dataframe thead tr th {\n        text-align: left;\n    }\n\n    .dataframe thead tr:last-of-type th {\n        text-align: right;\n    }\n</style>\n<table border=\"1\" class=\"dataframe\">\n  <thead>\n    <tr>\n      <th></th>\n      <th>state</th>\n      <th colspan=\"2\" halign=\"left\">Ohio</th>\n      <th>NC</th>\n    </tr>\n    <tr>\n      <th></th>\n      <th>color</th>\n      <th>Green</th>\n      <th>Red</th>\n      <th>Green</th>\n    </tr>\n    <tr>\n      <th>key2</th>\n      <th>key1</th>\n      <th></th>\n      <th></th>\n      <th></th>\n    </tr>\n  </thead>\n  <tbody>\n    <tr>\n      <th>1</th>\n      <th>a</th>\n      <td>0</td>\n      <td>1</td>\n      <td>2</td>\n    </tr>\n    <tr>\n      <th>2</th>\n      <th>a</th>\n      <td>3</td>\n      <td>4</td>\n      <td>5</td>\n    </tr>\n    <tr>\n      <th>1</th>\n      <th>b</th>\n      <td>6</td>\n      <td>7</td>\n      <td>8</td>\n    </tr>\n    <tr>\n      <th>2</th>\n      <th>b</th>\n      <td>9</td>\n      <td>10</td>\n      <td>11</td>\n    </tr>\n  </tbody>\n</table>\n</div>"
     },
     "metadata": {},
     "execution_count": 15
    }
   ],
   "source": [
    "frame.swaplevel('key1','key2')"
   ]
  },
  {
   "cell_type": "markdown",
   "metadata": {},
   "source": [
    "`sort_index`, on the other hand, sorts the data using only the values in a single level. When swapping levels, it's not uncommon to also use `sort_index` so that the result is lexicographically sorted by the indicated level"
   ]
  },
  {
   "cell_type": "code",
   "execution_count": 16,
   "metadata": {},
   "outputs": [
    {
     "output_type": "execute_result",
     "data": {
      "text/plain": [
       "state      Ohio        NC\n",
       "color     Green Red Green\n",
       "key1 key2                \n",
       "a    1        0   1     2\n",
       "b    1        6   7     8\n",
       "a    2        3   4     5\n",
       "b    2        9  10    11"
      ],
      "text/html": "<div>\n<style scoped>\n    .dataframe tbody tr th:only-of-type {\n        vertical-align: middle;\n    }\n\n    .dataframe tbody tr th {\n        vertical-align: top;\n    }\n\n    .dataframe thead tr th {\n        text-align: left;\n    }\n\n    .dataframe thead tr:last-of-type th {\n        text-align: right;\n    }\n</style>\n<table border=\"1\" class=\"dataframe\">\n  <thead>\n    <tr>\n      <th></th>\n      <th>state</th>\n      <th colspan=\"2\" halign=\"left\">Ohio</th>\n      <th>NC</th>\n    </tr>\n    <tr>\n      <th></th>\n      <th>color</th>\n      <th>Green</th>\n      <th>Red</th>\n      <th>Green</th>\n    </tr>\n    <tr>\n      <th>key1</th>\n      <th>key2</th>\n      <th></th>\n      <th></th>\n      <th></th>\n    </tr>\n  </thead>\n  <tbody>\n    <tr>\n      <th>a</th>\n      <th>1</th>\n      <td>0</td>\n      <td>1</td>\n      <td>2</td>\n    </tr>\n    <tr>\n      <th>b</th>\n      <th>1</th>\n      <td>6</td>\n      <td>7</td>\n      <td>8</td>\n    </tr>\n    <tr>\n      <th>a</th>\n      <th>2</th>\n      <td>3</td>\n      <td>4</td>\n      <td>5</td>\n    </tr>\n    <tr>\n      <th>b</th>\n      <th>2</th>\n      <td>9</td>\n      <td>10</td>\n      <td>11</td>\n    </tr>\n  </tbody>\n</table>\n</div>"
     },
     "metadata": {},
     "execution_count": 16
    }
   ],
   "source": [
    "frame.sort_index(level = 1)"
   ]
  },
  {
   "cell_type": "code",
   "execution_count": 17,
   "metadata": {},
   "outputs": [
    {
     "output_type": "execute_result",
     "data": {
      "text/plain": [
       "state      Ohio        NC\n",
       "color     Green Red Green\n",
       "key2 key1                \n",
       "1    a        0   1     2\n",
       "     b        6   7     8\n",
       "2    a        3   4     5\n",
       "     b        9  10    11"
      ],
      "text/html": "<div>\n<style scoped>\n    .dataframe tbody tr th:only-of-type {\n        vertical-align: middle;\n    }\n\n    .dataframe tbody tr th {\n        vertical-align: top;\n    }\n\n    .dataframe thead tr th {\n        text-align: left;\n    }\n\n    .dataframe thead tr:last-of-type th {\n        text-align: right;\n    }\n</style>\n<table border=\"1\" class=\"dataframe\">\n  <thead>\n    <tr>\n      <th></th>\n      <th>state</th>\n      <th colspan=\"2\" halign=\"left\">Ohio</th>\n      <th>NC</th>\n    </tr>\n    <tr>\n      <th></th>\n      <th>color</th>\n      <th>Green</th>\n      <th>Red</th>\n      <th>Green</th>\n    </tr>\n    <tr>\n      <th>key2</th>\n      <th>key1</th>\n      <th></th>\n      <th></th>\n      <th></th>\n    </tr>\n  </thead>\n  <tbody>\n    <tr>\n      <th rowspan=\"2\" valign=\"top\">1</th>\n      <th>a</th>\n      <td>0</td>\n      <td>1</td>\n      <td>2</td>\n    </tr>\n    <tr>\n      <th>b</th>\n      <td>6</td>\n      <td>7</td>\n      <td>8</td>\n    </tr>\n    <tr>\n      <th rowspan=\"2\" valign=\"top\">2</th>\n      <th>a</th>\n      <td>3</td>\n      <td>4</td>\n      <td>5</td>\n    </tr>\n    <tr>\n      <th>b</th>\n      <td>9</td>\n      <td>10</td>\n      <td>11</td>\n    </tr>\n  </tbody>\n</table>\n</div>"
     },
     "metadata": {},
     "execution_count": 17
    }
   ],
   "source": [
    "frame.swaplevel(0,1).sort_index(level = 0)"
   ]
  },
  {
   "cell_type": "markdown",
   "metadata": {},
   "source": [
    "**NOTE** Data selection performance is much better on hierarchically indexed objects if the index is lexicographically sorted starting with the outermost level.\n",
    "\n",
    "---\n",
    "\n",
    "### Summary statistics by level\n"
   ]
  },
  {
   "cell_type": "code",
   "execution_count": 18,
   "metadata": {},
   "outputs": [
    {
     "output_type": "execute_result",
     "data": {
      "text/plain": [
       "state  Ohio        NC\n",
       "color Green Red Green\n",
       "key2                 \n",
       "1         6   8    10\n",
       "2        12  14    16"
      ],
      "text/html": "<div>\n<style scoped>\n    .dataframe tbody tr th:only-of-type {\n        vertical-align: middle;\n    }\n\n    .dataframe tbody tr th {\n        vertical-align: top;\n    }\n\n    .dataframe thead tr th {\n        text-align: left;\n    }\n\n    .dataframe thead tr:last-of-type th {\n        text-align: right;\n    }\n</style>\n<table border=\"1\" class=\"dataframe\">\n  <thead>\n    <tr>\n      <th>state</th>\n      <th colspan=\"2\" halign=\"left\">Ohio</th>\n      <th>NC</th>\n    </tr>\n    <tr>\n      <th>color</th>\n      <th>Green</th>\n      <th>Red</th>\n      <th>Green</th>\n    </tr>\n    <tr>\n      <th>key2</th>\n      <th></th>\n      <th></th>\n      <th></th>\n    </tr>\n  </thead>\n  <tbody>\n    <tr>\n      <th>1</th>\n      <td>6</td>\n      <td>8</td>\n      <td>10</td>\n    </tr>\n    <tr>\n      <th>2</th>\n      <td>12</td>\n      <td>14</td>\n      <td>16</td>\n    </tr>\n  </tbody>\n</table>\n</div>"
     },
     "metadata": {},
     "execution_count": 18
    }
   ],
   "source": [
    "frame.sum(level = 'key2')"
   ]
  },
  {
   "cell_type": "code",
   "execution_count": 19,
   "metadata": {},
   "outputs": [
    {
     "output_type": "execute_result",
     "data": {
      "text/plain": [
       "state  Ohio        NC\n",
       "color Green Red Green\n",
       "key1                 \n",
       "a         3   5     7\n",
       "b        15  17    19"
      ],
      "text/html": "<div>\n<style scoped>\n    .dataframe tbody tr th:only-of-type {\n        vertical-align: middle;\n    }\n\n    .dataframe tbody tr th {\n        vertical-align: top;\n    }\n\n    .dataframe thead tr th {\n        text-align: left;\n    }\n\n    .dataframe thead tr:last-of-type th {\n        text-align: right;\n    }\n</style>\n<table border=\"1\" class=\"dataframe\">\n  <thead>\n    <tr>\n      <th>state</th>\n      <th colspan=\"2\" halign=\"left\">Ohio</th>\n      <th>NC</th>\n    </tr>\n    <tr>\n      <th>color</th>\n      <th>Green</th>\n      <th>Red</th>\n      <th>Green</th>\n    </tr>\n    <tr>\n      <th>key1</th>\n      <th></th>\n      <th></th>\n      <th></th>\n    </tr>\n  </thead>\n  <tbody>\n    <tr>\n      <th>a</th>\n      <td>3</td>\n      <td>5</td>\n      <td>7</td>\n    </tr>\n    <tr>\n      <th>b</th>\n      <td>15</td>\n      <td>17</td>\n      <td>19</td>\n    </tr>\n  </tbody>\n</table>\n</div>"
     },
     "metadata": {},
     "execution_count": 19
    }
   ],
   "source": [
    "frame.sum(level = 'key1')"
   ]
  },
  {
   "cell_type": "markdown",
   "metadata": {},
   "source": [
    "### Indexing with a DataFrame's columns\n"
   ]
  },
  {
   "cell_type": "code",
   "execution_count": 20,
   "metadata": {},
   "outputs": [
    {
     "output_type": "execute_result",
     "data": {
      "text/plain": [
       "   a  b    c  d\n",
       "0  0  7  one  0\n",
       "1  1  6  one  1\n",
       "2  2  5  one  3\n",
       "3  3  4  two  0\n",
       "4  4  3  two  1\n",
       "5  5  2  two  2\n",
       "6  6  1  two  3"
      ],
      "text/html": "<div>\n<style scoped>\n    .dataframe tbody tr th:only-of-type {\n        vertical-align: middle;\n    }\n\n    .dataframe tbody tr th {\n        vertical-align: top;\n    }\n\n    .dataframe thead th {\n        text-align: right;\n    }\n</style>\n<table border=\"1\" class=\"dataframe\">\n  <thead>\n    <tr style=\"text-align: right;\">\n      <th></th>\n      <th>a</th>\n      <th>b</th>\n      <th>c</th>\n      <th>d</th>\n    </tr>\n  </thead>\n  <tbody>\n    <tr>\n      <th>0</th>\n      <td>0</td>\n      <td>7</td>\n      <td>one</td>\n      <td>0</td>\n    </tr>\n    <tr>\n      <th>1</th>\n      <td>1</td>\n      <td>6</td>\n      <td>one</td>\n      <td>1</td>\n    </tr>\n    <tr>\n      <th>2</th>\n      <td>2</td>\n      <td>5</td>\n      <td>one</td>\n      <td>3</td>\n    </tr>\n    <tr>\n      <th>3</th>\n      <td>3</td>\n      <td>4</td>\n      <td>two</td>\n      <td>0</td>\n    </tr>\n    <tr>\n      <th>4</th>\n      <td>4</td>\n      <td>3</td>\n      <td>two</td>\n      <td>1</td>\n    </tr>\n    <tr>\n      <th>5</th>\n      <td>5</td>\n      <td>2</td>\n      <td>two</td>\n      <td>2</td>\n    </tr>\n    <tr>\n      <th>6</th>\n      <td>6</td>\n      <td>1</td>\n      <td>two</td>\n      <td>3</td>\n    </tr>\n  </tbody>\n</table>\n</div>"
     },
     "metadata": {},
     "execution_count": 20
    }
   ],
   "source": [
    "frame = pd.DataFrame({'a':range(7),'b':range(7,0,-1),\n",
    "                     'c':['one','one','one','two','two','two','two'],\n",
    "                     'd':[0, 1, 3, 0, 1, 2, 3]})\n",
    "\n",
    "frame"
   ]
  },
  {
   "cell_type": "code",
   "execution_count": 21,
   "metadata": {},
   "outputs": [
    {
     "output_type": "execute_result",
     "data": {
      "text/plain": [
       "       a  b\n",
       "c   d      \n",
       "one 0  0  7\n",
       "    1  1  6\n",
       "    3  2  5\n",
       "two 0  3  4\n",
       "    1  4  3\n",
       "    2  5  2\n",
       "    3  6  1"
      ],
      "text/html": "<div>\n<style scoped>\n    .dataframe tbody tr th:only-of-type {\n        vertical-align: middle;\n    }\n\n    .dataframe tbody tr th {\n        vertical-align: top;\n    }\n\n    .dataframe thead th {\n        text-align: right;\n    }\n</style>\n<table border=\"1\" class=\"dataframe\">\n  <thead>\n    <tr style=\"text-align: right;\">\n      <th></th>\n      <th></th>\n      <th>a</th>\n      <th>b</th>\n    </tr>\n    <tr>\n      <th>c</th>\n      <th>d</th>\n      <th></th>\n      <th></th>\n    </tr>\n  </thead>\n  <tbody>\n    <tr>\n      <th rowspan=\"3\" valign=\"top\">one</th>\n      <th>0</th>\n      <td>0</td>\n      <td>7</td>\n    </tr>\n    <tr>\n      <th>1</th>\n      <td>1</td>\n      <td>6</td>\n    </tr>\n    <tr>\n      <th>3</th>\n      <td>2</td>\n      <td>5</td>\n    </tr>\n    <tr>\n      <th rowspan=\"4\" valign=\"top\">two</th>\n      <th>0</th>\n      <td>3</td>\n      <td>4</td>\n    </tr>\n    <tr>\n      <th>1</th>\n      <td>4</td>\n      <td>3</td>\n    </tr>\n    <tr>\n      <th>2</th>\n      <td>5</td>\n      <td>2</td>\n    </tr>\n    <tr>\n      <th>3</th>\n      <td>6</td>\n      <td>1</td>\n    </tr>\n  </tbody>\n</table>\n</div>"
     },
     "metadata": {},
     "execution_count": 21
    }
   ],
   "source": [
    "# set_index function will create a new DataFrame using one or more of its columns as the index\n",
    "\n",
    "frame2 = frame.set_index(['c','d'])\n",
    "frame2"
   ]
  },
  {
   "cell_type": "code",
   "execution_count": 22,
   "metadata": {},
   "outputs": [
    {
     "output_type": "execute_result",
     "data": {
      "text/plain": [
       "       a  b    c  d\n",
       "c   d              \n",
       "one 0  0  7  one  0\n",
       "    1  1  6  one  1\n",
       "    3  2  5  one  3\n",
       "two 0  3  4  two  0\n",
       "    1  4  3  two  1\n",
       "    2  5  2  two  2\n",
       "    3  6  1  two  3"
      ],
      "text/html": "<div>\n<style scoped>\n    .dataframe tbody tr th:only-of-type {\n        vertical-align: middle;\n    }\n\n    .dataframe tbody tr th {\n        vertical-align: top;\n    }\n\n    .dataframe thead th {\n        text-align: right;\n    }\n</style>\n<table border=\"1\" class=\"dataframe\">\n  <thead>\n    <tr style=\"text-align: right;\">\n      <th></th>\n      <th></th>\n      <th>a</th>\n      <th>b</th>\n      <th>c</th>\n      <th>d</th>\n    </tr>\n    <tr>\n      <th>c</th>\n      <th>d</th>\n      <th></th>\n      <th></th>\n      <th></th>\n      <th></th>\n    </tr>\n  </thead>\n  <tbody>\n    <tr>\n      <th rowspan=\"3\" valign=\"top\">one</th>\n      <th>0</th>\n      <td>0</td>\n      <td>7</td>\n      <td>one</td>\n      <td>0</td>\n    </tr>\n    <tr>\n      <th>1</th>\n      <td>1</td>\n      <td>6</td>\n      <td>one</td>\n      <td>1</td>\n    </tr>\n    <tr>\n      <th>3</th>\n      <td>2</td>\n      <td>5</td>\n      <td>one</td>\n      <td>3</td>\n    </tr>\n    <tr>\n      <th rowspan=\"4\" valign=\"top\">two</th>\n      <th>0</th>\n      <td>3</td>\n      <td>4</td>\n      <td>two</td>\n      <td>0</td>\n    </tr>\n    <tr>\n      <th>1</th>\n      <td>4</td>\n      <td>3</td>\n      <td>two</td>\n      <td>1</td>\n    </tr>\n    <tr>\n      <th>2</th>\n      <td>5</td>\n      <td>2</td>\n      <td>two</td>\n      <td>2</td>\n    </tr>\n    <tr>\n      <th>3</th>\n      <td>6</td>\n      <td>1</td>\n      <td>two</td>\n      <td>3</td>\n    </tr>\n  </tbody>\n</table>\n</div>"
     },
     "metadata": {},
     "execution_count": 22
    }
   ],
   "source": [
    "# By default the columns are removed from the DataFrame, though you can leave them in\n",
    "\n",
    "frame.set_index(['c','d'], drop = False)"
   ]
  },
  {
   "cell_type": "code",
   "execution_count": 23,
   "metadata": {},
   "outputs": [
    {
     "output_type": "execute_result",
     "data": {
      "text/plain": [
       "     c  d  a  b\n",
       "0  one  0  0  7\n",
       "1  one  1  1  6\n",
       "2  one  3  2  5\n",
       "3  two  0  3  4\n",
       "4  two  1  4  3\n",
       "5  two  2  5  2\n",
       "6  two  3  6  1"
      ],
      "text/html": "<div>\n<style scoped>\n    .dataframe tbody tr th:only-of-type {\n        vertical-align: middle;\n    }\n\n    .dataframe tbody tr th {\n        vertical-align: top;\n    }\n\n    .dataframe thead th {\n        text-align: right;\n    }\n</style>\n<table border=\"1\" class=\"dataframe\">\n  <thead>\n    <tr style=\"text-align: right;\">\n      <th></th>\n      <th>c</th>\n      <th>d</th>\n      <th>a</th>\n      <th>b</th>\n    </tr>\n  </thead>\n  <tbody>\n    <tr>\n      <th>0</th>\n      <td>one</td>\n      <td>0</td>\n      <td>0</td>\n      <td>7</td>\n    </tr>\n    <tr>\n      <th>1</th>\n      <td>one</td>\n      <td>1</td>\n      <td>1</td>\n      <td>6</td>\n    </tr>\n    <tr>\n      <th>2</th>\n      <td>one</td>\n      <td>3</td>\n      <td>2</td>\n      <td>5</td>\n    </tr>\n    <tr>\n      <th>3</th>\n      <td>two</td>\n      <td>0</td>\n      <td>3</td>\n      <td>4</td>\n    </tr>\n    <tr>\n      <th>4</th>\n      <td>two</td>\n      <td>1</td>\n      <td>4</td>\n      <td>3</td>\n    </tr>\n    <tr>\n      <th>5</th>\n      <td>two</td>\n      <td>2</td>\n      <td>5</td>\n      <td>2</td>\n    </tr>\n    <tr>\n      <th>6</th>\n      <td>two</td>\n      <td>3</td>\n      <td>6</td>\n      <td>1</td>\n    </tr>\n  </tbody>\n</table>\n</div>"
     },
     "metadata": {},
     "execution_count": 23
    }
   ],
   "source": [
    "# reset_index does the opposite of set_index; the hierarchical index levels are moved into the columns\n",
    "\n",
    "frame2.reset_index()"
   ]
  },
  {
   "cell_type": "markdown",
   "metadata": {},
   "source": [
    "## Combing and Merging Datasets\n",
    "\n",
    "Data contained in pandas objects can be combined together in a number of ways:\n",
    "* `pandas.merge` connects rows in DataFrames based on one or more keys. \n",
    "* `pandas.concat` concatenates or \"stacks\" together objects along an axis.\n",
    "* The `combine_first` instance method enables splicing together overlapping data to fill in missing values in one object with values from another.\n",
    "\n",
    "### Database-style DataFrame Joins\n",
    "\n",
    "*Merge* or *join* operations combine datasets by linking rows using one or more *keys*. These operations are central to relational databases. The `merge` function in pandas is the main entry point for using these algorithms on data."
   ]
  },
  {
   "cell_type": "code",
   "execution_count": 24,
   "metadata": {},
   "outputs": [
    {
     "output_type": "execute_result",
     "data": {
      "text/plain": [
       "  key  data1\n",
       "0   b      0\n",
       "1   b      1\n",
       "2   a      2\n",
       "3   c      3\n",
       "4   a      4\n",
       "5   a      5\n",
       "6   b      6"
      ],
      "text/html": "<div>\n<style scoped>\n    .dataframe tbody tr th:only-of-type {\n        vertical-align: middle;\n    }\n\n    .dataframe tbody tr th {\n        vertical-align: top;\n    }\n\n    .dataframe thead th {\n        text-align: right;\n    }\n</style>\n<table border=\"1\" class=\"dataframe\">\n  <thead>\n    <tr style=\"text-align: right;\">\n      <th></th>\n      <th>key</th>\n      <th>data1</th>\n    </tr>\n  </thead>\n  <tbody>\n    <tr>\n      <th>0</th>\n      <td>b</td>\n      <td>0</td>\n    </tr>\n    <tr>\n      <th>1</th>\n      <td>b</td>\n      <td>1</td>\n    </tr>\n    <tr>\n      <th>2</th>\n      <td>a</td>\n      <td>2</td>\n    </tr>\n    <tr>\n      <th>3</th>\n      <td>c</td>\n      <td>3</td>\n    </tr>\n    <tr>\n      <th>4</th>\n      <td>a</td>\n      <td>4</td>\n    </tr>\n    <tr>\n      <th>5</th>\n      <td>a</td>\n      <td>5</td>\n    </tr>\n    <tr>\n      <th>6</th>\n      <td>b</td>\n      <td>6</td>\n    </tr>\n  </tbody>\n</table>\n</div>"
     },
     "metadata": {},
     "execution_count": 24
    }
   ],
   "source": [
    "df1 = pd.DataFrame({'key':['b','b','a','c','a','a','b'],\n",
    "                   'data1':range(7)})\n",
    "df2 = pd.DataFrame({'key':['a','b','d'],\n",
    "                   'data2':range(3)})\n",
    "\n",
    "df1"
   ]
  },
  {
   "cell_type": "code",
   "execution_count": 25,
   "metadata": {},
   "outputs": [
    {
     "output_type": "execute_result",
     "data": {
      "text/plain": [
       "  key  data2\n",
       "0   a      0\n",
       "1   b      1\n",
       "2   d      2"
      ],
      "text/html": "<div>\n<style scoped>\n    .dataframe tbody tr th:only-of-type {\n        vertical-align: middle;\n    }\n\n    .dataframe tbody tr th {\n        vertical-align: top;\n    }\n\n    .dataframe thead th {\n        text-align: right;\n    }\n</style>\n<table border=\"1\" class=\"dataframe\">\n  <thead>\n    <tr style=\"text-align: right;\">\n      <th></th>\n      <th>key</th>\n      <th>data2</th>\n    </tr>\n  </thead>\n  <tbody>\n    <tr>\n      <th>0</th>\n      <td>a</td>\n      <td>0</td>\n    </tr>\n    <tr>\n      <th>1</th>\n      <td>b</td>\n      <td>1</td>\n    </tr>\n    <tr>\n      <th>2</th>\n      <td>d</td>\n      <td>2</td>\n    </tr>\n  </tbody>\n</table>\n</div>"
     },
     "metadata": {},
     "execution_count": 25
    }
   ],
   "source": [
    "df2"
   ]
  },
  {
   "cell_type": "code",
   "execution_count": 26,
   "metadata": {},
   "outputs": [
    {
     "output_type": "execute_result",
     "data": {
      "text/plain": [
       "  key  data1  data2\n",
       "0   b      0      1\n",
       "1   b      1      1\n",
       "2   b      6      1\n",
       "3   a      2      0\n",
       "4   a      4      0\n",
       "5   a      5      0"
      ],
      "text/html": "<div>\n<style scoped>\n    .dataframe tbody tr th:only-of-type {\n        vertical-align: middle;\n    }\n\n    .dataframe tbody tr th {\n        vertical-align: top;\n    }\n\n    .dataframe thead th {\n        text-align: right;\n    }\n</style>\n<table border=\"1\" class=\"dataframe\">\n  <thead>\n    <tr style=\"text-align: right;\">\n      <th></th>\n      <th>key</th>\n      <th>data1</th>\n      <th>data2</th>\n    </tr>\n  </thead>\n  <tbody>\n    <tr>\n      <th>0</th>\n      <td>b</td>\n      <td>0</td>\n      <td>1</td>\n    </tr>\n    <tr>\n      <th>1</th>\n      <td>b</td>\n      <td>1</td>\n      <td>1</td>\n    </tr>\n    <tr>\n      <th>2</th>\n      <td>b</td>\n      <td>6</td>\n      <td>1</td>\n    </tr>\n    <tr>\n      <th>3</th>\n      <td>a</td>\n      <td>2</td>\n      <td>0</td>\n    </tr>\n    <tr>\n      <th>4</th>\n      <td>a</td>\n      <td>4</td>\n      <td>0</td>\n    </tr>\n    <tr>\n      <th>5</th>\n      <td>a</td>\n      <td>5</td>\n      <td>0</td>\n    </tr>\n  </tbody>\n</table>\n</div>"
     },
     "metadata": {},
     "execution_count": 26
    }
   ],
   "source": [
    "pd.merge(df1, df2)"
   ]
  },
  {
   "cell_type": "code",
   "execution_count": 27,
   "metadata": {},
   "outputs": [
    {
     "output_type": "execute_result",
     "data": {
      "text/plain": [
       "  key  data1  data2\n",
       "0   b      0      1\n",
       "1   b      1      1\n",
       "2   b      6      1\n",
       "3   a      2      0\n",
       "4   a      4      0\n",
       "5   a      5      0"
      ],
      "text/html": "<div>\n<style scoped>\n    .dataframe tbody tr th:only-of-type {\n        vertical-align: middle;\n    }\n\n    .dataframe tbody tr th {\n        vertical-align: top;\n    }\n\n    .dataframe thead th {\n        text-align: right;\n    }\n</style>\n<table border=\"1\" class=\"dataframe\">\n  <thead>\n    <tr style=\"text-align: right;\">\n      <th></th>\n      <th>key</th>\n      <th>data1</th>\n      <th>data2</th>\n    </tr>\n  </thead>\n  <tbody>\n    <tr>\n      <th>0</th>\n      <td>b</td>\n      <td>0</td>\n      <td>1</td>\n    </tr>\n    <tr>\n      <th>1</th>\n      <td>b</td>\n      <td>1</td>\n      <td>1</td>\n    </tr>\n    <tr>\n      <th>2</th>\n      <td>b</td>\n      <td>6</td>\n      <td>1</td>\n    </tr>\n    <tr>\n      <th>3</th>\n      <td>a</td>\n      <td>2</td>\n      <td>0</td>\n    </tr>\n    <tr>\n      <th>4</th>\n      <td>a</td>\n      <td>4</td>\n      <td>0</td>\n    </tr>\n    <tr>\n      <th>5</th>\n      <td>a</td>\n      <td>5</td>\n      <td>0</td>\n    </tr>\n  </tbody>\n</table>\n</div>"
     },
     "metadata": {},
     "execution_count": 27
    }
   ],
   "source": [
    "pd.merge(df1, df2, on = 'key')"
   ]
  },
  {
   "cell_type": "code",
   "execution_count": 28,
   "metadata": {},
   "outputs": [
    {
     "output_type": "execute_result",
     "data": {
      "text/plain": [
       "  lkey  data1 rkey  data2\n",
       "0    b      0    b      1\n",
       "1    b      1    b      1\n",
       "2    b      6    b      1\n",
       "3    a      2    a      0\n",
       "4    a      4    a      0\n",
       "5    a      5    a      0"
      ],
      "text/html": "<div>\n<style scoped>\n    .dataframe tbody tr th:only-of-type {\n        vertical-align: middle;\n    }\n\n    .dataframe tbody tr th {\n        vertical-align: top;\n    }\n\n    .dataframe thead th {\n        text-align: right;\n    }\n</style>\n<table border=\"1\" class=\"dataframe\">\n  <thead>\n    <tr style=\"text-align: right;\">\n      <th></th>\n      <th>lkey</th>\n      <th>data1</th>\n      <th>rkey</th>\n      <th>data2</th>\n    </tr>\n  </thead>\n  <tbody>\n    <tr>\n      <th>0</th>\n      <td>b</td>\n      <td>0</td>\n      <td>b</td>\n      <td>1</td>\n    </tr>\n    <tr>\n      <th>1</th>\n      <td>b</td>\n      <td>1</td>\n      <td>b</td>\n      <td>1</td>\n    </tr>\n    <tr>\n      <th>2</th>\n      <td>b</td>\n      <td>6</td>\n      <td>b</td>\n      <td>1</td>\n    </tr>\n    <tr>\n      <th>3</th>\n      <td>a</td>\n      <td>2</td>\n      <td>a</td>\n      <td>0</td>\n    </tr>\n    <tr>\n      <th>4</th>\n      <td>a</td>\n      <td>4</td>\n      <td>a</td>\n      <td>0</td>\n    </tr>\n    <tr>\n      <th>5</th>\n      <td>a</td>\n      <td>5</td>\n      <td>a</td>\n      <td>0</td>\n    </tr>\n  </tbody>\n</table>\n</div>"
     },
     "metadata": {},
     "execution_count": 28
    }
   ],
   "source": [
    "# If the column names are different in each object, you can specify them separately\n",
    "\n",
    "df3 = pd.DataFrame({'lkey':['b','b','a','c','a','a','b'],\n",
    "                   'data1':range(7)})\n",
    "df4 = pd.DataFrame({'rkey':['a','b','d'],\n",
    "                   'data2':range(3)})\n",
    "\n",
    "pd.merge(df3, df4, left_on = 'lkey', right_on = 'rkey')"
   ]
  },
  {
   "cell_type": "code",
   "execution_count": 29,
   "metadata": {},
   "outputs": [
    {
     "output_type": "execute_result",
     "data": {
      "text/plain": [
       "  lkey  data1\n",
       "0    b      0\n",
       "1    b      1\n",
       "2    a      2\n",
       "3    c      3\n",
       "4    a      4\n",
       "5    a      5\n",
       "6    b      6"
      ],
      "text/html": "<div>\n<style scoped>\n    .dataframe tbody tr th:only-of-type {\n        vertical-align: middle;\n    }\n\n    .dataframe tbody tr th {\n        vertical-align: top;\n    }\n\n    .dataframe thead th {\n        text-align: right;\n    }\n</style>\n<table border=\"1\" class=\"dataframe\">\n  <thead>\n    <tr style=\"text-align: right;\">\n      <th></th>\n      <th>lkey</th>\n      <th>data1</th>\n    </tr>\n  </thead>\n  <tbody>\n    <tr>\n      <th>0</th>\n      <td>b</td>\n      <td>0</td>\n    </tr>\n    <tr>\n      <th>1</th>\n      <td>b</td>\n      <td>1</td>\n    </tr>\n    <tr>\n      <th>2</th>\n      <td>a</td>\n      <td>2</td>\n    </tr>\n    <tr>\n      <th>3</th>\n      <td>c</td>\n      <td>3</td>\n    </tr>\n    <tr>\n      <th>4</th>\n      <td>a</td>\n      <td>4</td>\n    </tr>\n    <tr>\n      <th>5</th>\n      <td>a</td>\n      <td>5</td>\n    </tr>\n    <tr>\n      <th>6</th>\n      <td>b</td>\n      <td>6</td>\n    </tr>\n  </tbody>\n</table>\n</div>"
     },
     "metadata": {},
     "execution_count": 29
    }
   ],
   "source": [
    "df3"
   ]
  },
  {
   "cell_type": "markdown",
   "metadata": {},
   "source": [
    "You may notice that the '`c`' and '`d`' values and associated data are missing from the result. By default `merge` does an '`inner`' join; the keys in the result are the intersection, or the common set found in both tables. Other possible options are '`left`','`right`', and '`outer`'. The outer join takes the union of the keys, combining the effect of applying both left and right joins."
   ]
  },
  {
   "cell_type": "code",
   "execution_count": 30,
   "metadata": {},
   "outputs": [
    {
     "output_type": "execute_result",
     "data": {
      "text/plain": [
       "  key  data1  data2\n",
       "0   b    0.0    1.0\n",
       "1   b    1.0    1.0\n",
       "2   b    6.0    1.0\n",
       "3   a    2.0    0.0\n",
       "4   a    4.0    0.0\n",
       "5   a    5.0    0.0\n",
       "6   c    3.0    NaN\n",
       "7   d    NaN    2.0"
      ],
      "text/html": "<div>\n<style scoped>\n    .dataframe tbody tr th:only-of-type {\n        vertical-align: middle;\n    }\n\n    .dataframe tbody tr th {\n        vertical-align: top;\n    }\n\n    .dataframe thead th {\n        text-align: right;\n    }\n</style>\n<table border=\"1\" class=\"dataframe\">\n  <thead>\n    <tr style=\"text-align: right;\">\n      <th></th>\n      <th>key</th>\n      <th>data1</th>\n      <th>data2</th>\n    </tr>\n  </thead>\n  <tbody>\n    <tr>\n      <th>0</th>\n      <td>b</td>\n      <td>0.0</td>\n      <td>1.0</td>\n    </tr>\n    <tr>\n      <th>1</th>\n      <td>b</td>\n      <td>1.0</td>\n      <td>1.0</td>\n    </tr>\n    <tr>\n      <th>2</th>\n      <td>b</td>\n      <td>6.0</td>\n      <td>1.0</td>\n    </tr>\n    <tr>\n      <th>3</th>\n      <td>a</td>\n      <td>2.0</td>\n      <td>0.0</td>\n    </tr>\n    <tr>\n      <th>4</th>\n      <td>a</td>\n      <td>4.0</td>\n      <td>0.0</td>\n    </tr>\n    <tr>\n      <th>5</th>\n      <td>a</td>\n      <td>5.0</td>\n      <td>0.0</td>\n    </tr>\n    <tr>\n      <th>6</th>\n      <td>c</td>\n      <td>3.0</td>\n      <td>NaN</td>\n    </tr>\n    <tr>\n      <th>7</th>\n      <td>d</td>\n      <td>NaN</td>\n      <td>2.0</td>\n    </tr>\n  </tbody>\n</table>\n</div>"
     },
     "metadata": {},
     "execution_count": 30
    }
   ],
   "source": [
    "pd.merge(df1, df2, how = 'outer')"
   ]
  },
  {
   "cell_type": "code",
   "execution_count": 31,
   "metadata": {},
   "outputs": [
    {
     "output_type": "execute_result",
     "data": {
      "text/plain": [
       "  key  data1\n",
       "0   b      0\n",
       "1   b      1\n",
       "2   a      2\n",
       "3   c      3\n",
       "4   a      4\n",
       "5   b      5"
      ],
      "text/html": "<div>\n<style scoped>\n    .dataframe tbody tr th:only-of-type {\n        vertical-align: middle;\n    }\n\n    .dataframe tbody tr th {\n        vertical-align: top;\n    }\n\n    .dataframe thead th {\n        text-align: right;\n    }\n</style>\n<table border=\"1\" class=\"dataframe\">\n  <thead>\n    <tr style=\"text-align: right;\">\n      <th></th>\n      <th>key</th>\n      <th>data1</th>\n    </tr>\n  </thead>\n  <tbody>\n    <tr>\n      <th>0</th>\n      <td>b</td>\n      <td>0</td>\n    </tr>\n    <tr>\n      <th>1</th>\n      <td>b</td>\n      <td>1</td>\n    </tr>\n    <tr>\n      <th>2</th>\n      <td>a</td>\n      <td>2</td>\n    </tr>\n    <tr>\n      <th>3</th>\n      <td>c</td>\n      <td>3</td>\n    </tr>\n    <tr>\n      <th>4</th>\n      <td>a</td>\n      <td>4</td>\n    </tr>\n    <tr>\n      <th>5</th>\n      <td>b</td>\n      <td>5</td>\n    </tr>\n  </tbody>\n</table>\n</div>"
     },
     "metadata": {},
     "execution_count": 31
    }
   ],
   "source": [
    "# Many-to-many merges have well-defined, though not necessarily intuitive, behavior.\n",
    "\n",
    "df1 = pd.DataFrame({'key':['b','b','a','c','a','b'],\n",
    "                   'data1':range(6)})\n",
    "\n",
    "df2 = pd.DataFrame({'key':['a','b','a','d','b'],\n",
    "                   'data2':range(5)})\n",
    "df1"
   ]
  },
  {
   "cell_type": "code",
   "execution_count": 32,
   "metadata": {},
   "outputs": [
    {
     "output_type": "execute_result",
     "data": {
      "text/plain": [
       "  key  data2\n",
       "0   a      0\n",
       "1   b      1\n",
       "2   a      2\n",
       "3   d      3\n",
       "4   b      4"
      ],
      "text/html": "<div>\n<style scoped>\n    .dataframe tbody tr th:only-of-type {\n        vertical-align: middle;\n    }\n\n    .dataframe tbody tr th {\n        vertical-align: top;\n    }\n\n    .dataframe thead th {\n        text-align: right;\n    }\n</style>\n<table border=\"1\" class=\"dataframe\">\n  <thead>\n    <tr style=\"text-align: right;\">\n      <th></th>\n      <th>key</th>\n      <th>data2</th>\n    </tr>\n  </thead>\n  <tbody>\n    <tr>\n      <th>0</th>\n      <td>a</td>\n      <td>0</td>\n    </tr>\n    <tr>\n      <th>1</th>\n      <td>b</td>\n      <td>1</td>\n    </tr>\n    <tr>\n      <th>2</th>\n      <td>a</td>\n      <td>2</td>\n    </tr>\n    <tr>\n      <th>3</th>\n      <td>d</td>\n      <td>3</td>\n    </tr>\n    <tr>\n      <th>4</th>\n      <td>b</td>\n      <td>4</td>\n    </tr>\n  </tbody>\n</table>\n</div>"
     },
     "metadata": {},
     "execution_count": 32
    }
   ],
   "source": [
    "df2"
   ]
  },
  {
   "cell_type": "code",
   "execution_count": 33,
   "metadata": {},
   "outputs": [
    {
     "output_type": "execute_result",
     "data": {
      "text/plain": [
       "   key  data1  data2\n",
       "0    b      0    1.0\n",
       "1    b      0    4.0\n",
       "2    b      1    1.0\n",
       "3    b      1    4.0\n",
       "4    a      2    0.0\n",
       "5    a      2    2.0\n",
       "6    c      3    NaN\n",
       "7    a      4    0.0\n",
       "8    a      4    2.0\n",
       "9    b      5    1.0\n",
       "10   b      5    4.0"
      ],
      "text/html": "<div>\n<style scoped>\n    .dataframe tbody tr th:only-of-type {\n        vertical-align: middle;\n    }\n\n    .dataframe tbody tr th {\n        vertical-align: top;\n    }\n\n    .dataframe thead th {\n        text-align: right;\n    }\n</style>\n<table border=\"1\" class=\"dataframe\">\n  <thead>\n    <tr style=\"text-align: right;\">\n      <th></th>\n      <th>key</th>\n      <th>data1</th>\n      <th>data2</th>\n    </tr>\n  </thead>\n  <tbody>\n    <tr>\n      <th>0</th>\n      <td>b</td>\n      <td>0</td>\n      <td>1.0</td>\n    </tr>\n    <tr>\n      <th>1</th>\n      <td>b</td>\n      <td>0</td>\n      <td>4.0</td>\n    </tr>\n    <tr>\n      <th>2</th>\n      <td>b</td>\n      <td>1</td>\n      <td>1.0</td>\n    </tr>\n    <tr>\n      <th>3</th>\n      <td>b</td>\n      <td>1</td>\n      <td>4.0</td>\n    </tr>\n    <tr>\n      <th>4</th>\n      <td>a</td>\n      <td>2</td>\n      <td>0.0</td>\n    </tr>\n    <tr>\n      <th>5</th>\n      <td>a</td>\n      <td>2</td>\n      <td>2.0</td>\n    </tr>\n    <tr>\n      <th>6</th>\n      <td>c</td>\n      <td>3</td>\n      <td>NaN</td>\n    </tr>\n    <tr>\n      <th>7</th>\n      <td>a</td>\n      <td>4</td>\n      <td>0.0</td>\n    </tr>\n    <tr>\n      <th>8</th>\n      <td>a</td>\n      <td>4</td>\n      <td>2.0</td>\n    </tr>\n    <tr>\n      <th>9</th>\n      <td>b</td>\n      <td>5</td>\n      <td>1.0</td>\n    </tr>\n    <tr>\n      <th>10</th>\n      <td>b</td>\n      <td>5</td>\n      <td>4.0</td>\n    </tr>\n  </tbody>\n</table>\n</div>"
     },
     "metadata": {},
     "execution_count": 33
    }
   ],
   "source": [
    "pd.merge(df1, df2, on = 'key', how = 'left')"
   ]
  },
  {
   "cell_type": "markdown",
   "metadata": {},
   "source": [
    "*Table 8-1 Different join types with how argument*\n",
    "\n",
    "---\n",
    "\n",
    "|**Option**|**Behavior**|\n",
    "|:---:|:---|\n",
    "|`inner`|Use only the key combinations observed in **both** tables|\n",
    "|`left`|Use all key combinations found in the left table|\n",
    "|`right`|Use all key combinations found in the right table|\n",
    "|`outer`|Use all key combinations observed in **both** tables **together**|"
   ]
  },
  {
   "cell_type": "code",
   "execution_count": 34,
   "metadata": {},
   "outputs": [
    {
     "output_type": "execute_result",
     "data": {
      "text/plain": [
       "  key  data1  data2\n",
       "0   b      0      1\n",
       "1   b      0      4\n",
       "2   b      1      1\n",
       "3   b      1      4\n",
       "4   b      5      1\n",
       "5   b      5      4\n",
       "6   a      2      0\n",
       "7   a      2      2\n",
       "8   a      4      0\n",
       "9   a      4      2"
      ],
      "text/html": "<div>\n<style scoped>\n    .dataframe tbody tr th:only-of-type {\n        vertical-align: middle;\n    }\n\n    .dataframe tbody tr th {\n        vertical-align: top;\n    }\n\n    .dataframe thead th {\n        text-align: right;\n    }\n</style>\n<table border=\"1\" class=\"dataframe\">\n  <thead>\n    <tr style=\"text-align: right;\">\n      <th></th>\n      <th>key</th>\n      <th>data1</th>\n      <th>data2</th>\n    </tr>\n  </thead>\n  <tbody>\n    <tr>\n      <th>0</th>\n      <td>b</td>\n      <td>0</td>\n      <td>1</td>\n    </tr>\n    <tr>\n      <th>1</th>\n      <td>b</td>\n      <td>0</td>\n      <td>4</td>\n    </tr>\n    <tr>\n      <th>2</th>\n      <td>b</td>\n      <td>1</td>\n      <td>1</td>\n    </tr>\n    <tr>\n      <th>3</th>\n      <td>b</td>\n      <td>1</td>\n      <td>4</td>\n    </tr>\n    <tr>\n      <th>4</th>\n      <td>b</td>\n      <td>5</td>\n      <td>1</td>\n    </tr>\n    <tr>\n      <th>5</th>\n      <td>b</td>\n      <td>5</td>\n      <td>4</td>\n    </tr>\n    <tr>\n      <th>6</th>\n      <td>a</td>\n      <td>2</td>\n      <td>0</td>\n    </tr>\n    <tr>\n      <th>7</th>\n      <td>a</td>\n      <td>2</td>\n      <td>2</td>\n    </tr>\n    <tr>\n      <th>8</th>\n      <td>a</td>\n      <td>4</td>\n      <td>0</td>\n    </tr>\n    <tr>\n      <th>9</th>\n      <td>a</td>\n      <td>4</td>\n      <td>2</td>\n    </tr>\n  </tbody>\n</table>\n</div>"
     },
     "metadata": {},
     "execution_count": 34
    }
   ],
   "source": [
    "# Many-to-many joins form the Cartesian product of the rows. \n",
    "# The join method only affects the distinct key values appering the result\n",
    "\n",
    "pd.merge(df1, df2, how = 'inner')"
   ]
  },
  {
   "cell_type": "code",
   "execution_count": 35,
   "metadata": {},
   "outputs": [
    {
     "output_type": "execute_result",
     "data": {
      "text/plain": [
       "  key1   key2  lval\n",
       "0  foo    one     1\n",
       "1  foo    two     2\n",
       "2  bar  three     3"
      ],
      "text/html": "<div>\n<style scoped>\n    .dataframe tbody tr th:only-of-type {\n        vertical-align: middle;\n    }\n\n    .dataframe tbody tr th {\n        vertical-align: top;\n    }\n\n    .dataframe thead th {\n        text-align: right;\n    }\n</style>\n<table border=\"1\" class=\"dataframe\">\n  <thead>\n    <tr style=\"text-align: right;\">\n      <th></th>\n      <th>key1</th>\n      <th>key2</th>\n      <th>lval</th>\n    </tr>\n  </thead>\n  <tbody>\n    <tr>\n      <th>0</th>\n      <td>foo</td>\n      <td>one</td>\n      <td>1</td>\n    </tr>\n    <tr>\n      <th>1</th>\n      <td>foo</td>\n      <td>two</td>\n      <td>2</td>\n    </tr>\n    <tr>\n      <th>2</th>\n      <td>bar</td>\n      <td>three</td>\n      <td>3</td>\n    </tr>\n  </tbody>\n</table>\n</div>"
     },
     "metadata": {},
     "execution_count": 35
    }
   ],
   "source": [
    "# To merge with multiple keys, pass a list of column names:\n",
    "\n",
    "left = pd.DataFrame({'key1':['foo','foo','bar'],\n",
    "                    'key2':['one','two','three'],\n",
    "                    'lval':[1, 2, 3]})\n",
    "\n",
    "right = pd.DataFrame({'key1':['foo','foo','bar','bar'],\n",
    "                     'key2':['one','one','one','two'],\n",
    "                     'rval':[4, 5, 6, 7]})\n",
    "\n",
    "left"
   ]
  },
  {
   "cell_type": "code",
   "execution_count": 36,
   "metadata": {},
   "outputs": [
    {
     "output_type": "execute_result",
     "data": {
      "text/plain": [
       "  key1 key2  rval\n",
       "0  foo  one     4\n",
       "1  foo  one     5\n",
       "2  bar  one     6\n",
       "3  bar  two     7"
      ],
      "text/html": "<div>\n<style scoped>\n    .dataframe tbody tr th:only-of-type {\n        vertical-align: middle;\n    }\n\n    .dataframe tbody tr th {\n        vertical-align: top;\n    }\n\n    .dataframe thead th {\n        text-align: right;\n    }\n</style>\n<table border=\"1\" class=\"dataframe\">\n  <thead>\n    <tr style=\"text-align: right;\">\n      <th></th>\n      <th>key1</th>\n      <th>key2</th>\n      <th>rval</th>\n    </tr>\n  </thead>\n  <tbody>\n    <tr>\n      <th>0</th>\n      <td>foo</td>\n      <td>one</td>\n      <td>4</td>\n    </tr>\n    <tr>\n      <th>1</th>\n      <td>foo</td>\n      <td>one</td>\n      <td>5</td>\n    </tr>\n    <tr>\n      <th>2</th>\n      <td>bar</td>\n      <td>one</td>\n      <td>6</td>\n    </tr>\n    <tr>\n      <th>3</th>\n      <td>bar</td>\n      <td>two</td>\n      <td>7</td>\n    </tr>\n  </tbody>\n</table>\n</div>"
     },
     "metadata": {},
     "execution_count": 36
    }
   ],
   "source": [
    "right"
   ]
  },
  {
   "cell_type": "code",
   "execution_count": 37,
   "metadata": {},
   "outputs": [
    {
     "output_type": "execute_result",
     "data": {
      "text/plain": [
       "  key1   key2  lval  rval\n",
       "0  foo    one   1.0   4.0\n",
       "1  foo    one   1.0   5.0\n",
       "2  foo    two   2.0   NaN\n",
       "3  bar  three   3.0   NaN\n",
       "4  bar    one   NaN   6.0\n",
       "5  bar    two   NaN   7.0"
      ],
      "text/html": "<div>\n<style scoped>\n    .dataframe tbody tr th:only-of-type {\n        vertical-align: middle;\n    }\n\n    .dataframe tbody tr th {\n        vertical-align: top;\n    }\n\n    .dataframe thead th {\n        text-align: right;\n    }\n</style>\n<table border=\"1\" class=\"dataframe\">\n  <thead>\n    <tr style=\"text-align: right;\">\n      <th></th>\n      <th>key1</th>\n      <th>key2</th>\n      <th>lval</th>\n      <th>rval</th>\n    </tr>\n  </thead>\n  <tbody>\n    <tr>\n      <th>0</th>\n      <td>foo</td>\n      <td>one</td>\n      <td>1.0</td>\n      <td>4.0</td>\n    </tr>\n    <tr>\n      <th>1</th>\n      <td>foo</td>\n      <td>one</td>\n      <td>1.0</td>\n      <td>5.0</td>\n    </tr>\n    <tr>\n      <th>2</th>\n      <td>foo</td>\n      <td>two</td>\n      <td>2.0</td>\n      <td>NaN</td>\n    </tr>\n    <tr>\n      <th>3</th>\n      <td>bar</td>\n      <td>three</td>\n      <td>3.0</td>\n      <td>NaN</td>\n    </tr>\n    <tr>\n      <th>4</th>\n      <td>bar</td>\n      <td>one</td>\n      <td>NaN</td>\n      <td>6.0</td>\n    </tr>\n    <tr>\n      <th>5</th>\n      <td>bar</td>\n      <td>two</td>\n      <td>NaN</td>\n      <td>7.0</td>\n    </tr>\n  </tbody>\n</table>\n</div>"
     },
     "metadata": {},
     "execution_count": 37
    }
   ],
   "source": [
    "pd.merge(left, right, on = ['key1','key2'], how = 'outer')"
   ]
  },
  {
   "cell_type": "markdown",
   "metadata": {},
   "source": [
    "`merge` has a `suffixes` option for specifying strings to append to overlapping names in hte left and right DataFrame objects"
   ]
  },
  {
   "cell_type": "code",
   "execution_count": 38,
   "metadata": {},
   "outputs": [
    {
     "output_type": "execute_result",
     "data": {
      "text/plain": [
       "  key1 key2_x  lval key2_y  rval\n",
       "0  foo    one     1    one     4\n",
       "1  foo    one     1    one     5\n",
       "2  foo    two     2    one     4\n",
       "3  foo    two     2    one     5\n",
       "4  bar  three     3    one     6\n",
       "5  bar  three     3    two     7"
      ],
      "text/html": "<div>\n<style scoped>\n    .dataframe tbody tr th:only-of-type {\n        vertical-align: middle;\n    }\n\n    .dataframe tbody tr th {\n        vertical-align: top;\n    }\n\n    .dataframe thead th {\n        text-align: right;\n    }\n</style>\n<table border=\"1\" class=\"dataframe\">\n  <thead>\n    <tr style=\"text-align: right;\">\n      <th></th>\n      <th>key1</th>\n      <th>key2_x</th>\n      <th>lval</th>\n      <th>key2_y</th>\n      <th>rval</th>\n    </tr>\n  </thead>\n  <tbody>\n    <tr>\n      <th>0</th>\n      <td>foo</td>\n      <td>one</td>\n      <td>1</td>\n      <td>one</td>\n      <td>4</td>\n    </tr>\n    <tr>\n      <th>1</th>\n      <td>foo</td>\n      <td>one</td>\n      <td>1</td>\n      <td>one</td>\n      <td>5</td>\n    </tr>\n    <tr>\n      <th>2</th>\n      <td>foo</td>\n      <td>two</td>\n      <td>2</td>\n      <td>one</td>\n      <td>4</td>\n    </tr>\n    <tr>\n      <th>3</th>\n      <td>foo</td>\n      <td>two</td>\n      <td>2</td>\n      <td>one</td>\n      <td>5</td>\n    </tr>\n    <tr>\n      <th>4</th>\n      <td>bar</td>\n      <td>three</td>\n      <td>3</td>\n      <td>one</td>\n      <td>6</td>\n    </tr>\n    <tr>\n      <th>5</th>\n      <td>bar</td>\n      <td>three</td>\n      <td>3</td>\n      <td>two</td>\n      <td>7</td>\n    </tr>\n  </tbody>\n</table>\n</div>"
     },
     "metadata": {},
     "execution_count": 38
    }
   ],
   "source": [
    "pd.merge(left, right, on = 'key1')"
   ]
  },
  {
   "cell_type": "code",
   "execution_count": 39,
   "metadata": {},
   "outputs": [
    {
     "output_type": "execute_result",
     "data": {
      "text/plain": [
       "  key1 key2_left  lval key2_right  rval\n",
       "0  foo       one     1        one     4\n",
       "1  foo       one     1        one     5\n",
       "2  foo       two     2        one     4\n",
       "3  foo       two     2        one     5\n",
       "4  bar     three     3        one     6\n",
       "5  bar     three     3        two     7"
      ],
      "text/html": "<div>\n<style scoped>\n    .dataframe tbody tr th:only-of-type {\n        vertical-align: middle;\n    }\n\n    .dataframe tbody tr th {\n        vertical-align: top;\n    }\n\n    .dataframe thead th {\n        text-align: right;\n    }\n</style>\n<table border=\"1\" class=\"dataframe\">\n  <thead>\n    <tr style=\"text-align: right;\">\n      <th></th>\n      <th>key1</th>\n      <th>key2_left</th>\n      <th>lval</th>\n      <th>key2_right</th>\n      <th>rval</th>\n    </tr>\n  </thead>\n  <tbody>\n    <tr>\n      <th>0</th>\n      <td>foo</td>\n      <td>one</td>\n      <td>1</td>\n      <td>one</td>\n      <td>4</td>\n    </tr>\n    <tr>\n      <th>1</th>\n      <td>foo</td>\n      <td>one</td>\n      <td>1</td>\n      <td>one</td>\n      <td>5</td>\n    </tr>\n    <tr>\n      <th>2</th>\n      <td>foo</td>\n      <td>two</td>\n      <td>2</td>\n      <td>one</td>\n      <td>4</td>\n    </tr>\n    <tr>\n      <th>3</th>\n      <td>foo</td>\n      <td>two</td>\n      <td>2</td>\n      <td>one</td>\n      <td>5</td>\n    </tr>\n    <tr>\n      <th>4</th>\n      <td>bar</td>\n      <td>three</td>\n      <td>3</td>\n      <td>one</td>\n      <td>6</td>\n    </tr>\n    <tr>\n      <th>5</th>\n      <td>bar</td>\n      <td>three</td>\n      <td>3</td>\n      <td>two</td>\n      <td>7</td>\n    </tr>\n  </tbody>\n</table>\n</div>"
     },
     "metadata": {},
     "execution_count": 39
    }
   ],
   "source": [
    "pd.merge(left, right, on = 'key1', suffixes = ('_left','_right'))"
   ]
  },
  {
   "cell_type": "markdown",
   "metadata": {},
   "source": [
    "*Table 8-2 merge function arguments*\n",
    "\n",
    "---\n",
    "\n",
    "|**Argument**|**Description**|\n",
    "|:---:|:---|\n",
    "|`left`|Dataframe to be merged on the left side|\n",
    "|`right`|Dataframe to be merged on the right side|\n",
    "|`how`|One of `inner`, `outer`, `left`, or `right`; defaults to `inner`|\n",
    "|`on`|Column names to join on. Must be found in both Dataframe objects. If not specified and no other join key given, will use the intersection of the column names in `left` and `right` as the join keys.|\n",
    "|`left_on`|Columns in `left` Dataframe to use as join keys|\n",
    "|`right_on`|Analogous to `left_on` for `left` Dataframe|\n",
    "|`left_index`|Use row index in `left` as its join key|\n",
    "|`right_index`|Analogous to `left_index`|\n",
    "|`sort`|Sort merged data lexicographically by join keys; `True` by default|\n",
    "|`suffixes`|Tuple of string values to append to column names in case of overlap; defaults to (`_x`, `_y`)|\n",
    "|`copy`|If `False`, avoid copying data into resulting data structure in some exceptional cases; by default always copies.|"
   ]
  },
  {
   "cell_type": "markdown",
   "metadata": {},
   "source": [
    "### Merging on Index\n",
    "\n",
    "In some cases, the merge key(s) in a Dataframe will be found in its index. You can pass `left_index = True` or `right_index = True` (or both) to indicate that the index should be used as the merge key"
   ]
  },
  {
   "cell_type": "code",
   "execution_count": 40,
   "metadata": {},
   "outputs": [
    {
     "output_type": "execute_result",
     "data": {
      "text/plain": [
       "  key  value\n",
       "0   a      0\n",
       "1   b      1\n",
       "2   a      2\n",
       "3   a      3\n",
       "4   b      4\n",
       "5   c      5"
      ],
      "text/html": "<div>\n<style scoped>\n    .dataframe tbody tr th:only-of-type {\n        vertical-align: middle;\n    }\n\n    .dataframe tbody tr th {\n        vertical-align: top;\n    }\n\n    .dataframe thead th {\n        text-align: right;\n    }\n</style>\n<table border=\"1\" class=\"dataframe\">\n  <thead>\n    <tr style=\"text-align: right;\">\n      <th></th>\n      <th>key</th>\n      <th>value</th>\n    </tr>\n  </thead>\n  <tbody>\n    <tr>\n      <th>0</th>\n      <td>a</td>\n      <td>0</td>\n    </tr>\n    <tr>\n      <th>1</th>\n      <td>b</td>\n      <td>1</td>\n    </tr>\n    <tr>\n      <th>2</th>\n      <td>a</td>\n      <td>2</td>\n    </tr>\n    <tr>\n      <th>3</th>\n      <td>a</td>\n      <td>3</td>\n    </tr>\n    <tr>\n      <th>4</th>\n      <td>b</td>\n      <td>4</td>\n    </tr>\n    <tr>\n      <th>5</th>\n      <td>c</td>\n      <td>5</td>\n    </tr>\n  </tbody>\n</table>\n</div>"
     },
     "metadata": {},
     "execution_count": 40
    }
   ],
   "source": [
    "left1 = pd.DataFrame({'key':['a','b','a','a','b','c'],\n",
    "                     'value': range(6)})\n",
    "right1 = pd.DataFrame({'group_val':[3.5, 7]}, index = ['a','b'])\n",
    "\n",
    "left1"
   ]
  },
  {
   "cell_type": "code",
   "execution_count": 41,
   "metadata": {},
   "outputs": [
    {
     "output_type": "execute_result",
     "data": {
      "text/plain": [
       "   group_val\n",
       "a        3.5\n",
       "b        7.0"
      ],
      "text/html": "<div>\n<style scoped>\n    .dataframe tbody tr th:only-of-type {\n        vertical-align: middle;\n    }\n\n    .dataframe tbody tr th {\n        vertical-align: top;\n    }\n\n    .dataframe thead th {\n        text-align: right;\n    }\n</style>\n<table border=\"1\" class=\"dataframe\">\n  <thead>\n    <tr style=\"text-align: right;\">\n      <th></th>\n      <th>group_val</th>\n    </tr>\n  </thead>\n  <tbody>\n    <tr>\n      <th>a</th>\n      <td>3.5</td>\n    </tr>\n    <tr>\n      <th>b</th>\n      <td>7.0</td>\n    </tr>\n  </tbody>\n</table>\n</div>"
     },
     "metadata": {},
     "execution_count": 41
    }
   ],
   "source": [
    "right1"
   ]
  },
  {
   "cell_type": "code",
   "execution_count": 42,
   "metadata": {},
   "outputs": [
    {
     "output_type": "execute_result",
     "data": {
      "text/plain": [
       "  key  value  group_val\n",
       "0   a      0        3.5\n",
       "2   a      2        3.5\n",
       "3   a      3        3.5\n",
       "1   b      1        7.0\n",
       "4   b      4        7.0"
      ],
      "text/html": "<div>\n<style scoped>\n    .dataframe tbody tr th:only-of-type {\n        vertical-align: middle;\n    }\n\n    .dataframe tbody tr th {\n        vertical-align: top;\n    }\n\n    .dataframe thead th {\n        text-align: right;\n    }\n</style>\n<table border=\"1\" class=\"dataframe\">\n  <thead>\n    <tr style=\"text-align: right;\">\n      <th></th>\n      <th>key</th>\n      <th>value</th>\n      <th>group_val</th>\n    </tr>\n  </thead>\n  <tbody>\n    <tr>\n      <th>0</th>\n      <td>a</td>\n      <td>0</td>\n      <td>3.5</td>\n    </tr>\n    <tr>\n      <th>2</th>\n      <td>a</td>\n      <td>2</td>\n      <td>3.5</td>\n    </tr>\n    <tr>\n      <th>3</th>\n      <td>a</td>\n      <td>3</td>\n      <td>3.5</td>\n    </tr>\n    <tr>\n      <th>1</th>\n      <td>b</td>\n      <td>1</td>\n      <td>7.0</td>\n    </tr>\n    <tr>\n      <th>4</th>\n      <td>b</td>\n      <td>4</td>\n      <td>7.0</td>\n    </tr>\n  </tbody>\n</table>\n</div>"
     },
     "metadata": {},
     "execution_count": 42
    }
   ],
   "source": [
    "pd.merge(left1, right1, left_on = 'key', right_index = True)"
   ]
  },
  {
   "cell_type": "code",
   "execution_count": 43,
   "metadata": {},
   "outputs": [
    {
     "output_type": "execute_result",
     "data": {
      "text/plain": [
       "  key  value  group_val\n",
       "0   a      0        3.5\n",
       "2   a      2        3.5\n",
       "3   a      3        3.5\n",
       "1   b      1        7.0\n",
       "4   b      4        7.0\n",
       "5   c      5        NaN"
      ],
      "text/html": "<div>\n<style scoped>\n    .dataframe tbody tr th:only-of-type {\n        vertical-align: middle;\n    }\n\n    .dataframe tbody tr th {\n        vertical-align: top;\n    }\n\n    .dataframe thead th {\n        text-align: right;\n    }\n</style>\n<table border=\"1\" class=\"dataframe\">\n  <thead>\n    <tr style=\"text-align: right;\">\n      <th></th>\n      <th>key</th>\n      <th>value</th>\n      <th>group_val</th>\n    </tr>\n  </thead>\n  <tbody>\n    <tr>\n      <th>0</th>\n      <td>a</td>\n      <td>0</td>\n      <td>3.5</td>\n    </tr>\n    <tr>\n      <th>2</th>\n      <td>a</td>\n      <td>2</td>\n      <td>3.5</td>\n    </tr>\n    <tr>\n      <th>3</th>\n      <td>a</td>\n      <td>3</td>\n      <td>3.5</td>\n    </tr>\n    <tr>\n      <th>1</th>\n      <td>b</td>\n      <td>1</td>\n      <td>7.0</td>\n    </tr>\n    <tr>\n      <th>4</th>\n      <td>b</td>\n      <td>4</td>\n      <td>7.0</td>\n    </tr>\n    <tr>\n      <th>5</th>\n      <td>c</td>\n      <td>5</td>\n      <td>NaN</td>\n    </tr>\n  </tbody>\n</table>\n</div>"
     },
     "metadata": {},
     "execution_count": 43
    }
   ],
   "source": [
    "pd.merge(left1, right1, left_on = 'key', right_index = True, how = 'outer')"
   ]
  },
  {
   "cell_type": "code",
   "execution_count": 44,
   "metadata": {},
   "outputs": [
    {
     "output_type": "execute_result",
     "data": {
      "text/plain": [
       "     key1  key2  data\n",
       "0    Ohio  2000   0.0\n",
       "1    Ohio  2001   1.0\n",
       "2    Ohio  2002   2.0\n",
       "3  Nevada  2001   3.0\n",
       "4  Nevada  2000   4.0"
      ],
      "text/html": "<div>\n<style scoped>\n    .dataframe tbody tr th:only-of-type {\n        vertical-align: middle;\n    }\n\n    .dataframe tbody tr th {\n        vertical-align: top;\n    }\n\n    .dataframe thead th {\n        text-align: right;\n    }\n</style>\n<table border=\"1\" class=\"dataframe\">\n  <thead>\n    <tr style=\"text-align: right;\">\n      <th></th>\n      <th>key1</th>\n      <th>key2</th>\n      <th>data</th>\n    </tr>\n  </thead>\n  <tbody>\n    <tr>\n      <th>0</th>\n      <td>Ohio</td>\n      <td>2000</td>\n      <td>0.0</td>\n    </tr>\n    <tr>\n      <th>1</th>\n      <td>Ohio</td>\n      <td>2001</td>\n      <td>1.0</td>\n    </tr>\n    <tr>\n      <th>2</th>\n      <td>Ohio</td>\n      <td>2002</td>\n      <td>2.0</td>\n    </tr>\n    <tr>\n      <th>3</th>\n      <td>Nevada</td>\n      <td>2001</td>\n      <td>3.0</td>\n    </tr>\n    <tr>\n      <th>4</th>\n      <td>Nevada</td>\n      <td>2000</td>\n      <td>4.0</td>\n    </tr>\n  </tbody>\n</table>\n</div>"
     },
     "metadata": {},
     "execution_count": 44
    }
   ],
   "source": [
    "lefth = pd.DataFrame({'key1':['Ohio','Ohio','Ohio','Nevada','Nevada'],\n",
    "                     'key2':[2000, 2001, 2002, 2001, 2000],\n",
    "                     'data':np.arange(5.)})\n",
    "\n",
    "righth = pd.DataFrame(np.arange(12).reshape((6, 2)),\n",
    "                     index = [['Nevada','Nevada','Ohio','Ohio','Ohio','Ohio'],\n",
    "                             [2001, 2000, 2002, 2001, 2001, 2001]],\n",
    "                     columns = ['event1','event2'])\n",
    "\n",
    "lefth"
   ]
  },
  {
   "cell_type": "code",
   "execution_count": 45,
   "metadata": {},
   "outputs": [
    {
     "output_type": "execute_result",
     "data": {
      "text/plain": [
       "             event1  event2\n",
       "Nevada 2001       0       1\n",
       "       2000       2       3\n",
       "Ohio   2002       4       5\n",
       "       2001       6       7\n",
       "       2001       8       9\n",
       "       2001      10      11"
      ],
      "text/html": "<div>\n<style scoped>\n    .dataframe tbody tr th:only-of-type {\n        vertical-align: middle;\n    }\n\n    .dataframe tbody tr th {\n        vertical-align: top;\n    }\n\n    .dataframe thead th {\n        text-align: right;\n    }\n</style>\n<table border=\"1\" class=\"dataframe\">\n  <thead>\n    <tr style=\"text-align: right;\">\n      <th></th>\n      <th></th>\n      <th>event1</th>\n      <th>event2</th>\n    </tr>\n  </thead>\n  <tbody>\n    <tr>\n      <th rowspan=\"2\" valign=\"top\">Nevada</th>\n      <th>2001</th>\n      <td>0</td>\n      <td>1</td>\n    </tr>\n    <tr>\n      <th>2000</th>\n      <td>2</td>\n      <td>3</td>\n    </tr>\n    <tr>\n      <th rowspan=\"4\" valign=\"top\">Ohio</th>\n      <th>2002</th>\n      <td>4</td>\n      <td>5</td>\n    </tr>\n    <tr>\n      <th>2001</th>\n      <td>6</td>\n      <td>7</td>\n    </tr>\n    <tr>\n      <th>2001</th>\n      <td>8</td>\n      <td>9</td>\n    </tr>\n    <tr>\n      <th>2001</th>\n      <td>10</td>\n      <td>11</td>\n    </tr>\n  </tbody>\n</table>\n</div>"
     },
     "metadata": {},
     "execution_count": 45
    }
   ],
   "source": [
    "righth"
   ]
  },
  {
   "cell_type": "code",
   "execution_count": 46,
   "metadata": {},
   "outputs": [
    {
     "output_type": "execute_result",
     "data": {
      "text/plain": [
       "     key1  key2  data  event1  event2\n",
       "1    Ohio  2001   1.0       6       7\n",
       "1    Ohio  2001   1.0       8       9\n",
       "1    Ohio  2001   1.0      10      11\n",
       "2    Ohio  2002   2.0       4       5\n",
       "3  Nevada  2001   3.0       0       1\n",
       "4  Nevada  2000   4.0       2       3"
      ],
      "text/html": "<div>\n<style scoped>\n    .dataframe tbody tr th:only-of-type {\n        vertical-align: middle;\n    }\n\n    .dataframe tbody tr th {\n        vertical-align: top;\n    }\n\n    .dataframe thead th {\n        text-align: right;\n    }\n</style>\n<table border=\"1\" class=\"dataframe\">\n  <thead>\n    <tr style=\"text-align: right;\">\n      <th></th>\n      <th>key1</th>\n      <th>key2</th>\n      <th>data</th>\n      <th>event1</th>\n      <th>event2</th>\n    </tr>\n  </thead>\n  <tbody>\n    <tr>\n      <th>1</th>\n      <td>Ohio</td>\n      <td>2001</td>\n      <td>1.0</td>\n      <td>6</td>\n      <td>7</td>\n    </tr>\n    <tr>\n      <th>1</th>\n      <td>Ohio</td>\n      <td>2001</td>\n      <td>1.0</td>\n      <td>8</td>\n      <td>9</td>\n    </tr>\n    <tr>\n      <th>1</th>\n      <td>Ohio</td>\n      <td>2001</td>\n      <td>1.0</td>\n      <td>10</td>\n      <td>11</td>\n    </tr>\n    <tr>\n      <th>2</th>\n      <td>Ohio</td>\n      <td>2002</td>\n      <td>2.0</td>\n      <td>4</td>\n      <td>5</td>\n    </tr>\n    <tr>\n      <th>3</th>\n      <td>Nevada</td>\n      <td>2001</td>\n      <td>3.0</td>\n      <td>0</td>\n      <td>1</td>\n    </tr>\n    <tr>\n      <th>4</th>\n      <td>Nevada</td>\n      <td>2000</td>\n      <td>4.0</td>\n      <td>2</td>\n      <td>3</td>\n    </tr>\n  </tbody>\n</table>\n</div>"
     },
     "metadata": {},
     "execution_count": 46
    }
   ],
   "source": [
    "pd.merge(lefth, righth, left_on = ['key1','key2'], right_index = True)"
   ]
  },
  {
   "cell_type": "code",
   "execution_count": 47,
   "metadata": {},
   "outputs": [
    {
     "output_type": "execute_result",
     "data": {
      "text/plain": [
       "     key1  key2  data  event1  event2\n",
       "0    Ohio  2000   0.0     NaN     NaN\n",
       "1    Ohio  2001   1.0     6.0     7.0\n",
       "1    Ohio  2001   1.0     8.0     9.0\n",
       "1    Ohio  2001   1.0    10.0    11.0\n",
       "2    Ohio  2002   2.0     4.0     5.0\n",
       "3  Nevada  2001   3.0     0.0     1.0\n",
       "4  Nevada  2000   4.0     2.0     3.0"
      ],
      "text/html": "<div>\n<style scoped>\n    .dataframe tbody tr th:only-of-type {\n        vertical-align: middle;\n    }\n\n    .dataframe tbody tr th {\n        vertical-align: top;\n    }\n\n    .dataframe thead th {\n        text-align: right;\n    }\n</style>\n<table border=\"1\" class=\"dataframe\">\n  <thead>\n    <tr style=\"text-align: right;\">\n      <th></th>\n      <th>key1</th>\n      <th>key2</th>\n      <th>data</th>\n      <th>event1</th>\n      <th>event2</th>\n    </tr>\n  </thead>\n  <tbody>\n    <tr>\n      <th>0</th>\n      <td>Ohio</td>\n      <td>2000</td>\n      <td>0.0</td>\n      <td>NaN</td>\n      <td>NaN</td>\n    </tr>\n    <tr>\n      <th>1</th>\n      <td>Ohio</td>\n      <td>2001</td>\n      <td>1.0</td>\n      <td>6.0</td>\n      <td>7.0</td>\n    </tr>\n    <tr>\n      <th>1</th>\n      <td>Ohio</td>\n      <td>2001</td>\n      <td>1.0</td>\n      <td>8.0</td>\n      <td>9.0</td>\n    </tr>\n    <tr>\n      <th>1</th>\n      <td>Ohio</td>\n      <td>2001</td>\n      <td>1.0</td>\n      <td>10.0</td>\n      <td>11.0</td>\n    </tr>\n    <tr>\n      <th>2</th>\n      <td>Ohio</td>\n      <td>2002</td>\n      <td>2.0</td>\n      <td>4.0</td>\n      <td>5.0</td>\n    </tr>\n    <tr>\n      <th>3</th>\n      <td>Nevada</td>\n      <td>2001</td>\n      <td>3.0</td>\n      <td>0.0</td>\n      <td>1.0</td>\n    </tr>\n    <tr>\n      <th>4</th>\n      <td>Nevada</td>\n      <td>2000</td>\n      <td>4.0</td>\n      <td>2.0</td>\n      <td>3.0</td>\n    </tr>\n  </tbody>\n</table>\n</div>"
     },
     "metadata": {},
     "execution_count": 47
    }
   ],
   "source": [
    "pd.merge(lefth, righth, left_on = ['key1','key2'], right_index = True, how = 'outer')"
   ]
  },
  {
   "cell_type": "code",
   "execution_count": 48,
   "metadata": {},
   "outputs": [
    {
     "output_type": "execute_result",
     "data": {
      "text/plain": [
       "   Ohio  Nevada\n",
       "a   1.0     2.0\n",
       "c   3.0     4.0\n",
       "e   5.0     6.0"
      ],
      "text/html": "<div>\n<style scoped>\n    .dataframe tbody tr th:only-of-type {\n        vertical-align: middle;\n    }\n\n    .dataframe tbody tr th {\n        vertical-align: top;\n    }\n\n    .dataframe thead th {\n        text-align: right;\n    }\n</style>\n<table border=\"1\" class=\"dataframe\">\n  <thead>\n    <tr style=\"text-align: right;\">\n      <th></th>\n      <th>Ohio</th>\n      <th>Nevada</th>\n    </tr>\n  </thead>\n  <tbody>\n    <tr>\n      <th>a</th>\n      <td>1.0</td>\n      <td>2.0</td>\n    </tr>\n    <tr>\n      <th>c</th>\n      <td>3.0</td>\n      <td>4.0</td>\n    </tr>\n    <tr>\n      <th>e</th>\n      <td>5.0</td>\n      <td>6.0</td>\n    </tr>\n  </tbody>\n</table>\n</div>"
     },
     "metadata": {},
     "execution_count": 48
    }
   ],
   "source": [
    "left2 = pd.DataFrame([[1., 2.], [3., 4.], [5., 6.]],\n",
    "                    index = ['a','c','e'],\n",
    "                    columns = ['Ohio','Nevada'])\n",
    "\n",
    "left2"
   ]
  },
  {
   "cell_type": "code",
   "execution_count": 49,
   "metadata": {},
   "outputs": [
    {
     "output_type": "execute_result",
     "data": {
      "text/plain": [
       "   Missouri  Alabama\n",
       "b       7.0      8.0\n",
       "c       9.0     10.0\n",
       "d      11.0     12.0\n",
       "e      13.0     14.0"
      ],
      "text/html": "<div>\n<style scoped>\n    .dataframe tbody tr th:only-of-type {\n        vertical-align: middle;\n    }\n\n    .dataframe tbody tr th {\n        vertical-align: top;\n    }\n\n    .dataframe thead th {\n        text-align: right;\n    }\n</style>\n<table border=\"1\" class=\"dataframe\">\n  <thead>\n    <tr style=\"text-align: right;\">\n      <th></th>\n      <th>Missouri</th>\n      <th>Alabama</th>\n    </tr>\n  </thead>\n  <tbody>\n    <tr>\n      <th>b</th>\n      <td>7.0</td>\n      <td>8.0</td>\n    </tr>\n    <tr>\n      <th>c</th>\n      <td>9.0</td>\n      <td>10.0</td>\n    </tr>\n    <tr>\n      <th>d</th>\n      <td>11.0</td>\n      <td>12.0</td>\n    </tr>\n    <tr>\n      <th>e</th>\n      <td>13.0</td>\n      <td>14.0</td>\n    </tr>\n  </tbody>\n</table>\n</div>"
     },
     "metadata": {},
     "execution_count": 49
    }
   ],
   "source": [
    "right2 = pd.DataFrame([[7.,8.],[9.,10.],[11.,12.],[13,14]],\n",
    "                     index = ['b','c','d','e'],\n",
    "                     columns = ['Missouri','Alabama'])\n",
    "right2"
   ]
  },
  {
   "cell_type": "code",
   "execution_count": 50,
   "metadata": {},
   "outputs": [
    {
     "output_type": "execute_result",
     "data": {
      "text/plain": [
       "   Ohio  Nevada  Missouri  Alabama\n",
       "a   1.0     2.0       NaN      NaN\n",
       "b   NaN     NaN       7.0      8.0\n",
       "c   3.0     4.0       9.0     10.0\n",
       "d   NaN     NaN      11.0     12.0\n",
       "e   5.0     6.0      13.0     14.0"
      ],
      "text/html": "<div>\n<style scoped>\n    .dataframe tbody tr th:only-of-type {\n        vertical-align: middle;\n    }\n\n    .dataframe tbody tr th {\n        vertical-align: top;\n    }\n\n    .dataframe thead th {\n        text-align: right;\n    }\n</style>\n<table border=\"1\" class=\"dataframe\">\n  <thead>\n    <tr style=\"text-align: right;\">\n      <th></th>\n      <th>Ohio</th>\n      <th>Nevada</th>\n      <th>Missouri</th>\n      <th>Alabama</th>\n    </tr>\n  </thead>\n  <tbody>\n    <tr>\n      <th>a</th>\n      <td>1.0</td>\n      <td>2.0</td>\n      <td>NaN</td>\n      <td>NaN</td>\n    </tr>\n    <tr>\n      <th>b</th>\n      <td>NaN</td>\n      <td>NaN</td>\n      <td>7.0</td>\n      <td>8.0</td>\n    </tr>\n    <tr>\n      <th>c</th>\n      <td>3.0</td>\n      <td>4.0</td>\n      <td>9.0</td>\n      <td>10.0</td>\n    </tr>\n    <tr>\n      <th>d</th>\n      <td>NaN</td>\n      <td>NaN</td>\n      <td>11.0</td>\n      <td>12.0</td>\n    </tr>\n    <tr>\n      <th>e</th>\n      <td>5.0</td>\n      <td>6.0</td>\n      <td>13.0</td>\n      <td>14.0</td>\n    </tr>\n  </tbody>\n</table>\n</div>"
     },
     "metadata": {},
     "execution_count": 50
    }
   ],
   "source": [
    "pd.merge(left2, right2, how = 'outer', left_index = True, right_index = True)"
   ]
  },
  {
   "cell_type": "code",
   "execution_count": 51,
   "metadata": {},
   "outputs": [
    {
     "output_type": "execute_result",
     "data": {
      "text/plain": [
       "   Ohio  Nevada  Missouri  Alabama\n",
       "a   1.0     2.0       NaN      NaN\n",
       "b   NaN     NaN       7.0      8.0\n",
       "c   3.0     4.0       9.0     10.0\n",
       "d   NaN     NaN      11.0     12.0\n",
       "e   5.0     6.0      13.0     14.0"
      ],
      "text/html": "<div>\n<style scoped>\n    .dataframe tbody tr th:only-of-type {\n        vertical-align: middle;\n    }\n\n    .dataframe tbody tr th {\n        vertical-align: top;\n    }\n\n    .dataframe thead th {\n        text-align: right;\n    }\n</style>\n<table border=\"1\" class=\"dataframe\">\n  <thead>\n    <tr style=\"text-align: right;\">\n      <th></th>\n      <th>Ohio</th>\n      <th>Nevada</th>\n      <th>Missouri</th>\n      <th>Alabama</th>\n    </tr>\n  </thead>\n  <tbody>\n    <tr>\n      <th>a</th>\n      <td>1.0</td>\n      <td>2.0</td>\n      <td>NaN</td>\n      <td>NaN</td>\n    </tr>\n    <tr>\n      <th>b</th>\n      <td>NaN</td>\n      <td>NaN</td>\n      <td>7.0</td>\n      <td>8.0</td>\n    </tr>\n    <tr>\n      <th>c</th>\n      <td>3.0</td>\n      <td>4.0</td>\n      <td>9.0</td>\n      <td>10.0</td>\n    </tr>\n    <tr>\n      <th>d</th>\n      <td>NaN</td>\n      <td>NaN</td>\n      <td>11.0</td>\n      <td>12.0</td>\n    </tr>\n    <tr>\n      <th>e</th>\n      <td>5.0</td>\n      <td>6.0</td>\n      <td>13.0</td>\n      <td>14.0</td>\n    </tr>\n  </tbody>\n</table>\n</div>"
     },
     "metadata": {},
     "execution_count": 51
    }
   ],
   "source": [
    "# Dataframe has a convenient join instance for merging by index. \n",
    "# It can be used to combine together many Dataframe objects having the same or similar \n",
    "# indexes but non-overlapping columns\n",
    "\n",
    "left2.join(right2, how = 'outer')"
   ]
  },
  {
   "cell_type": "code",
   "execution_count": 52,
   "metadata": {},
   "outputs": [
    {
     "output_type": "execute_result",
     "data": {
      "text/plain": [
       "  key  value  group_val\n",
       "0   a      0        3.5\n",
       "1   b      1        7.0\n",
       "2   a      2        3.5\n",
       "3   a      3        3.5\n",
       "4   b      4        7.0\n",
       "5   c      5        NaN"
      ],
      "text/html": "<div>\n<style scoped>\n    .dataframe tbody tr th:only-of-type {\n        vertical-align: middle;\n    }\n\n    .dataframe tbody tr th {\n        vertical-align: top;\n    }\n\n    .dataframe thead th {\n        text-align: right;\n    }\n</style>\n<table border=\"1\" class=\"dataframe\">\n  <thead>\n    <tr style=\"text-align: right;\">\n      <th></th>\n      <th>key</th>\n      <th>value</th>\n      <th>group_val</th>\n    </tr>\n  </thead>\n  <tbody>\n    <tr>\n      <th>0</th>\n      <td>a</td>\n      <td>0</td>\n      <td>3.5</td>\n    </tr>\n    <tr>\n      <th>1</th>\n      <td>b</td>\n      <td>1</td>\n      <td>7.0</td>\n    </tr>\n    <tr>\n      <th>2</th>\n      <td>a</td>\n      <td>2</td>\n      <td>3.5</td>\n    </tr>\n    <tr>\n      <th>3</th>\n      <td>a</td>\n      <td>3</td>\n      <td>3.5</td>\n    </tr>\n    <tr>\n      <th>4</th>\n      <td>b</td>\n      <td>4</td>\n      <td>7.0</td>\n    </tr>\n    <tr>\n      <th>5</th>\n      <td>c</td>\n      <td>5</td>\n      <td>NaN</td>\n    </tr>\n  </tbody>\n</table>\n</div>"
     },
     "metadata": {},
     "execution_count": 52
    }
   ],
   "source": [
    "# Dataframe's join method performs a left join on the join keys, exactly perserving the \n",
    "# left frame's row index.\n",
    "\n",
    "left1.join(right1, on = 'key')"
   ]
  },
  {
   "cell_type": "code",
   "execution_count": 53,
   "metadata": {},
   "outputs": [
    {
     "output_type": "execute_result",
     "data": {
      "text/plain": [
       "   New York  Oregon\n",
       "a       7.0     8.0\n",
       "c       9.0    10.0\n",
       "e      11.0    12.0\n",
       "f      16.0    17.0"
      ],
      "text/html": "<div>\n<style scoped>\n    .dataframe tbody tr th:only-of-type {\n        vertical-align: middle;\n    }\n\n    .dataframe tbody tr th {\n        vertical-align: top;\n    }\n\n    .dataframe thead th {\n        text-align: right;\n    }\n</style>\n<table border=\"1\" class=\"dataframe\">\n  <thead>\n    <tr style=\"text-align: right;\">\n      <th></th>\n      <th>New York</th>\n      <th>Oregon</th>\n    </tr>\n  </thead>\n  <tbody>\n    <tr>\n      <th>a</th>\n      <td>7.0</td>\n      <td>8.0</td>\n    </tr>\n    <tr>\n      <th>c</th>\n      <td>9.0</td>\n      <td>10.0</td>\n    </tr>\n    <tr>\n      <th>e</th>\n      <td>11.0</td>\n      <td>12.0</td>\n    </tr>\n    <tr>\n      <th>f</th>\n      <td>16.0</td>\n      <td>17.0</td>\n    </tr>\n  </tbody>\n</table>\n</div>"
     },
     "metadata": {},
     "execution_count": 53
    }
   ],
   "source": [
    "another = pd.DataFrame([[7.,8.],[9.,10.],[11.,12.],[16.,17.]],\n",
    "                      index = ['a','c','e','f'],\n",
    "                      columns = ['New York','Oregon'])\n",
    "\n",
    "another"
   ]
  },
  {
   "cell_type": "code",
   "execution_count": 54,
   "metadata": {},
   "outputs": [
    {
     "output_type": "execute_result",
     "data": {
      "text/plain": [
       "   Ohio  Nevada  Missouri  Alabama  New York  Oregon\n",
       "a   1.0     2.0       NaN      NaN       7.0     8.0\n",
       "c   3.0     4.0       9.0     10.0       9.0    10.0\n",
       "e   5.0     6.0      13.0     14.0      11.0    12.0"
      ],
      "text/html": "<div>\n<style scoped>\n    .dataframe tbody tr th:only-of-type {\n        vertical-align: middle;\n    }\n\n    .dataframe tbody tr th {\n        vertical-align: top;\n    }\n\n    .dataframe thead th {\n        text-align: right;\n    }\n</style>\n<table border=\"1\" class=\"dataframe\">\n  <thead>\n    <tr style=\"text-align: right;\">\n      <th></th>\n      <th>Ohio</th>\n      <th>Nevada</th>\n      <th>Missouri</th>\n      <th>Alabama</th>\n      <th>New York</th>\n      <th>Oregon</th>\n    </tr>\n  </thead>\n  <tbody>\n    <tr>\n      <th>a</th>\n      <td>1.0</td>\n      <td>2.0</td>\n      <td>NaN</td>\n      <td>NaN</td>\n      <td>7.0</td>\n      <td>8.0</td>\n    </tr>\n    <tr>\n      <th>c</th>\n      <td>3.0</td>\n      <td>4.0</td>\n      <td>9.0</td>\n      <td>10.0</td>\n      <td>9.0</td>\n      <td>10.0</td>\n    </tr>\n    <tr>\n      <th>e</th>\n      <td>5.0</td>\n      <td>6.0</td>\n      <td>13.0</td>\n      <td>14.0</td>\n      <td>11.0</td>\n      <td>12.0</td>\n    </tr>\n  </tbody>\n</table>\n</div>"
     },
     "metadata": {},
     "execution_count": 54
    }
   ],
   "source": [
    "left2.join([right2, another])"
   ]
  },
  {
   "cell_type": "code",
   "execution_count": 55,
   "metadata": {},
   "outputs": [
    {
     "output_type": "execute_result",
     "data": {
      "text/plain": [
       "   Ohio  Nevada  Missouri  Alabama  New York  Oregon\n",
       "a   1.0     2.0       NaN      NaN       7.0     8.0\n",
       "c   3.0     4.0       9.0     10.0       9.0    10.0\n",
       "e   5.0     6.0      13.0     14.0      11.0    12.0\n",
       "b   NaN     NaN       7.0      8.0       NaN     NaN\n",
       "d   NaN     NaN      11.0     12.0       NaN     NaN\n",
       "f   NaN     NaN       NaN      NaN      16.0    17.0"
      ],
      "text/html": "<div>\n<style scoped>\n    .dataframe tbody tr th:only-of-type {\n        vertical-align: middle;\n    }\n\n    .dataframe tbody tr th {\n        vertical-align: top;\n    }\n\n    .dataframe thead th {\n        text-align: right;\n    }\n</style>\n<table border=\"1\" class=\"dataframe\">\n  <thead>\n    <tr style=\"text-align: right;\">\n      <th></th>\n      <th>Ohio</th>\n      <th>Nevada</th>\n      <th>Missouri</th>\n      <th>Alabama</th>\n      <th>New York</th>\n      <th>Oregon</th>\n    </tr>\n  </thead>\n  <tbody>\n    <tr>\n      <th>a</th>\n      <td>1.0</td>\n      <td>2.0</td>\n      <td>NaN</td>\n      <td>NaN</td>\n      <td>7.0</td>\n      <td>8.0</td>\n    </tr>\n    <tr>\n      <th>c</th>\n      <td>3.0</td>\n      <td>4.0</td>\n      <td>9.0</td>\n      <td>10.0</td>\n      <td>9.0</td>\n      <td>10.0</td>\n    </tr>\n    <tr>\n      <th>e</th>\n      <td>5.0</td>\n      <td>6.0</td>\n      <td>13.0</td>\n      <td>14.0</td>\n      <td>11.0</td>\n      <td>12.0</td>\n    </tr>\n    <tr>\n      <th>b</th>\n      <td>NaN</td>\n      <td>NaN</td>\n      <td>7.0</td>\n      <td>8.0</td>\n      <td>NaN</td>\n      <td>NaN</td>\n    </tr>\n    <tr>\n      <th>d</th>\n      <td>NaN</td>\n      <td>NaN</td>\n      <td>11.0</td>\n      <td>12.0</td>\n      <td>NaN</td>\n      <td>NaN</td>\n    </tr>\n    <tr>\n      <th>f</th>\n      <td>NaN</td>\n      <td>NaN</td>\n      <td>NaN</td>\n      <td>NaN</td>\n      <td>16.0</td>\n      <td>17.0</td>\n    </tr>\n  </tbody>\n</table>\n</div>"
     },
     "metadata": {},
     "execution_count": 55
    }
   ],
   "source": [
    "left2.join([right2, another], how = 'outer')"
   ]
  },
  {
   "cell_type": "markdown",
   "metadata": {},
   "source": [
    "### Concatenating along an axis\n",
    "\n",
    "NumPy's `concatenate` function can do with NumPyarrays"
   ]
  },
  {
   "cell_type": "code",
   "execution_count": 56,
   "metadata": {},
   "outputs": [
    {
     "output_type": "execute_result",
     "data": {
      "text/plain": [
       "array([[ 0,  1,  2,  3],\n",
       "       [ 4,  5,  6,  7],\n",
       "       [ 8,  9, 10, 11]])"
      ]
     },
     "metadata": {},
     "execution_count": 56
    }
   ],
   "source": [
    "arr = np.arange(12).reshape((3,4))\n",
    "\n",
    "arr"
   ]
  },
  {
   "cell_type": "code",
   "execution_count": 57,
   "metadata": {},
   "outputs": [
    {
     "output_type": "execute_result",
     "data": {
      "text/plain": [
       "array([[ 0,  1,  2,  3,  0,  1,  2,  3],\n",
       "       [ 4,  5,  6,  7,  4,  5,  6,  7],\n",
       "       [ 8,  9, 10, 11,  8,  9, 10, 11]])"
      ]
     },
     "metadata": {},
     "execution_count": 57
    }
   ],
   "source": [
    "np.concatenate([arr, arr], axis = 1)"
   ]
  },
  {
   "cell_type": "markdown",
   "metadata": {},
   "source": [
    "In the context of pandas objects, having labeled axes enable you to further generalize array concatenation. You have a number of additional things to think about:\n",
    "\n",
    "* If the objects are indexed differently on the other axes, should we combine the distinct elements in these axes or use only the shared values?\n",
    "* Do the concatenated chunks of data need to be identifiable in the resulting object?\n",
    "* Does the \"concatenation axis\" contain data that needs to be preserved?\n",
    "\n",
    "The `concat` funcion in pandas provides a consistent way to address each of these concerns"
   ]
  },
  {
   "cell_type": "code",
   "execution_count": 58,
   "metadata": {},
   "outputs": [
    {
     "output_type": "execute_result",
     "data": {
      "text/plain": [
       "   0\n",
       "a  0\n",
       "b  1\n",
       "c  2\n",
       "d  3\n",
       "e  4\n",
       "f  5\n",
       "g  6"
      ],
      "text/html": "<div>\n<style scoped>\n    .dataframe tbody tr th:only-of-type {\n        vertical-align: middle;\n    }\n\n    .dataframe tbody tr th {\n        vertical-align: top;\n    }\n\n    .dataframe thead th {\n        text-align: right;\n    }\n</style>\n<table border=\"1\" class=\"dataframe\">\n  <thead>\n    <tr style=\"text-align: right;\">\n      <th></th>\n      <th>0</th>\n    </tr>\n  </thead>\n  <tbody>\n    <tr>\n      <th>a</th>\n      <td>0</td>\n    </tr>\n    <tr>\n      <th>b</th>\n      <td>1</td>\n    </tr>\n    <tr>\n      <th>c</th>\n      <td>2</td>\n    </tr>\n    <tr>\n      <th>d</th>\n      <td>3</td>\n    </tr>\n    <tr>\n      <th>e</th>\n      <td>4</td>\n    </tr>\n    <tr>\n      <th>f</th>\n      <td>5</td>\n    </tr>\n    <tr>\n      <th>g</th>\n      <td>6</td>\n    </tr>\n  </tbody>\n</table>\n</div>"
     },
     "metadata": {},
     "execution_count": 58
    }
   ],
   "source": [
    "s1 = pd.DataFrame([0,1], index = ['a','b'])\n",
    "\n",
    "s2 = pd.DataFrame([2, 3, 4], index = ['c','d','e'])\n",
    "\n",
    "s3 = pd.DataFrame([5, 6], index = ['f','g'])\n",
    "\n",
    "pd.concat([s1, s2, s3])"
   ]
  },
  {
   "cell_type": "markdown",
   "metadata": {},
   "source": [
    "By default `concat` works along `axis = 0`, producing another Series. If you pass `axis =1`, the result will instead be a DataFrame"
   ]
  },
  {
   "cell_type": "code",
   "execution_count": 59,
   "metadata": {},
   "outputs": [
    {
     "output_type": "execute_result",
     "data": {
      "text/plain": [
       "     0    0    0\n",
       "a  0.0  NaN  NaN\n",
       "b  1.0  NaN  NaN\n",
       "c  NaN  2.0  NaN\n",
       "d  NaN  3.0  NaN\n",
       "e  NaN  4.0  NaN\n",
       "f  NaN  NaN  5.0\n",
       "g  NaN  NaN  6.0"
      ],
      "text/html": "<div>\n<style scoped>\n    .dataframe tbody tr th:only-of-type {\n        vertical-align: middle;\n    }\n\n    .dataframe tbody tr th {\n        vertical-align: top;\n    }\n\n    .dataframe thead th {\n        text-align: right;\n    }\n</style>\n<table border=\"1\" class=\"dataframe\">\n  <thead>\n    <tr style=\"text-align: right;\">\n      <th></th>\n      <th>0</th>\n      <th>0</th>\n      <th>0</th>\n    </tr>\n  </thead>\n  <tbody>\n    <tr>\n      <th>a</th>\n      <td>0.0</td>\n      <td>NaN</td>\n      <td>NaN</td>\n    </tr>\n    <tr>\n      <th>b</th>\n      <td>1.0</td>\n      <td>NaN</td>\n      <td>NaN</td>\n    </tr>\n    <tr>\n      <th>c</th>\n      <td>NaN</td>\n      <td>2.0</td>\n      <td>NaN</td>\n    </tr>\n    <tr>\n      <th>d</th>\n      <td>NaN</td>\n      <td>3.0</td>\n      <td>NaN</td>\n    </tr>\n    <tr>\n      <th>e</th>\n      <td>NaN</td>\n      <td>4.0</td>\n      <td>NaN</td>\n    </tr>\n    <tr>\n      <th>f</th>\n      <td>NaN</td>\n      <td>NaN</td>\n      <td>5.0</td>\n    </tr>\n    <tr>\n      <th>g</th>\n      <td>NaN</td>\n      <td>NaN</td>\n      <td>6.0</td>\n    </tr>\n  </tbody>\n</table>\n</div>"
     },
     "metadata": {},
     "execution_count": 59
    }
   ],
   "source": [
    "pd.concat([s1, s2, s3], axis = 1)"
   ]
  },
  {
   "cell_type": "markdown",
   "metadata": {},
   "source": [
    "In this case there is no overlap on the other axis, which as you can see is the sorted union (the '`outer`' join) of the indexes. You can instead intersect them by passing `join = 'inner'`"
   ]
  },
  {
   "cell_type": "code",
   "execution_count": 60,
   "metadata": {},
   "outputs": [],
   "source": [
    "s4 = pd.concat([s1, s3])"
   ]
  },
  {
   "cell_type": "code",
   "execution_count": 61,
   "metadata": {},
   "outputs": [
    {
     "output_type": "execute_result",
     "data": {
      "text/plain": [
       "   0\n",
       "a  0\n",
       "b  1\n",
       "f  5\n",
       "g  6"
      ],
      "text/html": "<div>\n<style scoped>\n    .dataframe tbody tr th:only-of-type {\n        vertical-align: middle;\n    }\n\n    .dataframe tbody tr th {\n        vertical-align: top;\n    }\n\n    .dataframe thead th {\n        text-align: right;\n    }\n</style>\n<table border=\"1\" class=\"dataframe\">\n  <thead>\n    <tr style=\"text-align: right;\">\n      <th></th>\n      <th>0</th>\n    </tr>\n  </thead>\n  <tbody>\n    <tr>\n      <th>a</th>\n      <td>0</td>\n    </tr>\n    <tr>\n      <th>b</th>\n      <td>1</td>\n    </tr>\n    <tr>\n      <th>f</th>\n      <td>5</td>\n    </tr>\n    <tr>\n      <th>g</th>\n      <td>6</td>\n    </tr>\n  </tbody>\n</table>\n</div>"
     },
     "metadata": {},
     "execution_count": 61
    }
   ],
   "source": [
    "s4"
   ]
  },
  {
   "cell_type": "code",
   "execution_count": 62,
   "metadata": {},
   "outputs": [
    {
     "output_type": "execute_result",
     "data": {
      "text/plain": [
       "     0  0\n",
       "a  0.0  0\n",
       "b  1.0  1\n",
       "f  NaN  5\n",
       "g  NaN  6"
      ],
      "text/html": "<div>\n<style scoped>\n    .dataframe tbody tr th:only-of-type {\n        vertical-align: middle;\n    }\n\n    .dataframe tbody tr th {\n        vertical-align: top;\n    }\n\n    .dataframe thead th {\n        text-align: right;\n    }\n</style>\n<table border=\"1\" class=\"dataframe\">\n  <thead>\n    <tr style=\"text-align: right;\">\n      <th></th>\n      <th>0</th>\n      <th>0</th>\n    </tr>\n  </thead>\n  <tbody>\n    <tr>\n      <th>a</th>\n      <td>0.0</td>\n      <td>0</td>\n    </tr>\n    <tr>\n      <th>b</th>\n      <td>1.0</td>\n      <td>1</td>\n    </tr>\n    <tr>\n      <th>f</th>\n      <td>NaN</td>\n      <td>5</td>\n    </tr>\n    <tr>\n      <th>g</th>\n      <td>NaN</td>\n      <td>6</td>\n    </tr>\n  </tbody>\n</table>\n</div>"
     },
     "metadata": {},
     "execution_count": 62
    }
   ],
   "source": [
    "pd.concat([s1, s4], axis = 1)"
   ]
  },
  {
   "cell_type": "code",
   "execution_count": 63,
   "metadata": {},
   "outputs": [
    {
     "output_type": "execute_result",
     "data": {
      "text/plain": [
       "   0  0\n",
       "a  0  0\n",
       "b  1  1"
      ],
      "text/html": "<div>\n<style scoped>\n    .dataframe tbody tr th:only-of-type {\n        vertical-align: middle;\n    }\n\n    .dataframe tbody tr th {\n        vertical-align: top;\n    }\n\n    .dataframe thead th {\n        text-align: right;\n    }\n</style>\n<table border=\"1\" class=\"dataframe\">\n  <thead>\n    <tr style=\"text-align: right;\">\n      <th></th>\n      <th>0</th>\n      <th>0</th>\n    </tr>\n  </thead>\n  <tbody>\n    <tr>\n      <th>a</th>\n      <td>0</td>\n      <td>0</td>\n    </tr>\n    <tr>\n      <th>b</th>\n      <td>1</td>\n      <td>1</td>\n    </tr>\n  </tbody>\n</table>\n</div>"
     },
     "metadata": {},
     "execution_count": 63
    }
   ],
   "source": [
    "pd.concat([s1, s4], axis = 1, join = 'inner')"
   ]
  },
  {
   "source": [
    "A potential issue is that the concatenated pieces are not identifiable in the result. Suppose instead you wanted to create a hierarchical index on the concatenation axis. To do this, use the `keys` argument"
   ],
   "cell_type": "markdown",
   "metadata": {}
  },
  {
   "cell_type": "code",
   "execution_count": 64,
   "metadata": {},
   "outputs": [],
   "source": [
    "result = pd.concat([s1, s2, s3], keys = ['one','two','three'])"
   ]
  },
  {
   "cell_type": "code",
   "execution_count": 65,
   "metadata": {},
   "outputs": [
    {
     "output_type": "execute_result",
     "data": {
      "text/plain": [
       "         0\n",
       "one   a  0\n",
       "      b  1\n",
       "two   c  2\n",
       "      d  3\n",
       "      e  4\n",
       "three f  5\n",
       "      g  6"
      ],
      "text/html": "<div>\n<style scoped>\n    .dataframe tbody tr th:only-of-type {\n        vertical-align: middle;\n    }\n\n    .dataframe tbody tr th {\n        vertical-align: top;\n    }\n\n    .dataframe thead th {\n        text-align: right;\n    }\n</style>\n<table border=\"1\" class=\"dataframe\">\n  <thead>\n    <tr style=\"text-align: right;\">\n      <th></th>\n      <th></th>\n      <th>0</th>\n    </tr>\n  </thead>\n  <tbody>\n    <tr>\n      <th rowspan=\"2\" valign=\"top\">one</th>\n      <th>a</th>\n      <td>0</td>\n    </tr>\n    <tr>\n      <th>b</th>\n      <td>1</td>\n    </tr>\n    <tr>\n      <th rowspan=\"3\" valign=\"top\">two</th>\n      <th>c</th>\n      <td>2</td>\n    </tr>\n    <tr>\n      <th>d</th>\n      <td>3</td>\n    </tr>\n    <tr>\n      <th>e</th>\n      <td>4</td>\n    </tr>\n    <tr>\n      <th rowspan=\"2\" valign=\"top\">three</th>\n      <th>f</th>\n      <td>5</td>\n    </tr>\n    <tr>\n      <th>g</th>\n      <td>6</td>\n    </tr>\n  </tbody>\n</table>\n</div>"
     },
     "metadata": {},
     "execution_count": 65
    }
   ],
   "source": [
    "result"
   ]
  },
  {
   "cell_type": "code",
   "execution_count": 66,
   "metadata": {},
   "outputs": [
    {
     "output_type": "execute_result",
     "data": {
      "text/plain": [
       "         0                              \n",
       "         a    b    c    d    e    f    g\n",
       "one    0.0  1.0  NaN  NaN  NaN  NaN  NaN\n",
       "two    NaN  NaN  2.0  3.0  4.0  NaN  NaN\n",
       "three  NaN  NaN  NaN  NaN  NaN  5.0  6.0"
      ],
      "text/html": "<div>\n<style scoped>\n    .dataframe tbody tr th:only-of-type {\n        vertical-align: middle;\n    }\n\n    .dataframe tbody tr th {\n        vertical-align: top;\n    }\n\n    .dataframe thead tr th {\n        text-align: left;\n    }\n</style>\n<table border=\"1\" class=\"dataframe\">\n  <thead>\n    <tr>\n      <th></th>\n      <th colspan=\"7\" halign=\"left\">0</th>\n    </tr>\n    <tr>\n      <th></th>\n      <th>a</th>\n      <th>b</th>\n      <th>c</th>\n      <th>d</th>\n      <th>e</th>\n      <th>f</th>\n      <th>g</th>\n    </tr>\n  </thead>\n  <tbody>\n    <tr>\n      <th>one</th>\n      <td>0.0</td>\n      <td>1.0</td>\n      <td>NaN</td>\n      <td>NaN</td>\n      <td>NaN</td>\n      <td>NaN</td>\n      <td>NaN</td>\n    </tr>\n    <tr>\n      <th>two</th>\n      <td>NaN</td>\n      <td>NaN</td>\n      <td>2.0</td>\n      <td>3.0</td>\n      <td>4.0</td>\n      <td>NaN</td>\n      <td>NaN</td>\n    </tr>\n    <tr>\n      <th>three</th>\n      <td>NaN</td>\n      <td>NaN</td>\n      <td>NaN</td>\n      <td>NaN</td>\n      <td>NaN</td>\n      <td>5.0</td>\n      <td>6.0</td>\n    </tr>\n  </tbody>\n</table>\n</div>"
     },
     "metadata": {},
     "execution_count": 66
    }
   ],
   "source": [
    "result.unstack()"
   ]
  },
  {
   "source": [
    "In the case of combining Series along `axis = 1`, the `keys` become the DataFrame column headers:"
   ],
   "cell_type": "markdown",
   "metadata": {}
  },
  {
   "cell_type": "code",
   "execution_count": 67,
   "metadata": {},
   "outputs": [
    {
     "output_type": "execute_result",
     "data": {
      "text/plain": [
       "   one  two three\n",
       "     0    0     0\n",
       "a  0.0  NaN   NaN\n",
       "b  1.0  NaN   NaN\n",
       "c  NaN  2.0   NaN\n",
       "d  NaN  3.0   NaN\n",
       "e  NaN  4.0   NaN\n",
       "f  NaN  NaN   5.0\n",
       "g  NaN  NaN   6.0"
      ],
      "text/html": "<div>\n<style scoped>\n    .dataframe tbody tr th:only-of-type {\n        vertical-align: middle;\n    }\n\n    .dataframe tbody tr th {\n        vertical-align: top;\n    }\n\n    .dataframe thead tr th {\n        text-align: left;\n    }\n</style>\n<table border=\"1\" class=\"dataframe\">\n  <thead>\n    <tr>\n      <th></th>\n      <th>one</th>\n      <th>two</th>\n      <th>three</th>\n    </tr>\n    <tr>\n      <th></th>\n      <th>0</th>\n      <th>0</th>\n      <th>0</th>\n    </tr>\n  </thead>\n  <tbody>\n    <tr>\n      <th>a</th>\n      <td>0.0</td>\n      <td>NaN</td>\n      <td>NaN</td>\n    </tr>\n    <tr>\n      <th>b</th>\n      <td>1.0</td>\n      <td>NaN</td>\n      <td>NaN</td>\n    </tr>\n    <tr>\n      <th>c</th>\n      <td>NaN</td>\n      <td>2.0</td>\n      <td>NaN</td>\n    </tr>\n    <tr>\n      <th>d</th>\n      <td>NaN</td>\n      <td>3.0</td>\n      <td>NaN</td>\n    </tr>\n    <tr>\n      <th>e</th>\n      <td>NaN</td>\n      <td>4.0</td>\n      <td>NaN</td>\n    </tr>\n    <tr>\n      <th>f</th>\n      <td>NaN</td>\n      <td>NaN</td>\n      <td>5.0</td>\n    </tr>\n    <tr>\n      <th>g</th>\n      <td>NaN</td>\n      <td>NaN</td>\n      <td>6.0</td>\n    </tr>\n  </tbody>\n</table>\n</div>"
     },
     "metadata": {},
     "execution_count": 67
    }
   ],
   "source": [
    "pd.concat([s1, s2, s3], axis = 1, keys = ['one','two','three'])"
   ]
  },
  {
   "cell_type": "code",
   "execution_count": 68,
   "metadata": {},
   "outputs": [],
   "source": [
    "df1 = pd.DataFrame(np.arange(6).reshape(3,2), index = ['a','b','c'],\n",
    "columns = ['one','two'])"
   ]
  },
  {
   "cell_type": "code",
   "execution_count": 69,
   "metadata": {},
   "outputs": [
    {
     "output_type": "execute_result",
     "data": {
      "text/plain": [
       "   one  two\n",
       "a    0    1\n",
       "b    2    3\n",
       "c    4    5"
      ],
      "text/html": "<div>\n<style scoped>\n    .dataframe tbody tr th:only-of-type {\n        vertical-align: middle;\n    }\n\n    .dataframe tbody tr th {\n        vertical-align: top;\n    }\n\n    .dataframe thead th {\n        text-align: right;\n    }\n</style>\n<table border=\"1\" class=\"dataframe\">\n  <thead>\n    <tr style=\"text-align: right;\">\n      <th></th>\n      <th>one</th>\n      <th>two</th>\n    </tr>\n  </thead>\n  <tbody>\n    <tr>\n      <th>a</th>\n      <td>0</td>\n      <td>1</td>\n    </tr>\n    <tr>\n      <th>b</th>\n      <td>2</td>\n      <td>3</td>\n    </tr>\n    <tr>\n      <th>c</th>\n      <td>4</td>\n      <td>5</td>\n    </tr>\n  </tbody>\n</table>\n</div>"
     },
     "metadata": {},
     "execution_count": 69
    }
   ],
   "source": [
    "df1"
   ]
  },
  {
   "cell_type": "code",
   "execution_count": 70,
   "metadata": {},
   "outputs": [],
   "source": [
    "df2 = pd.DataFrame(5 + np.arange(4).reshape(2,2), index = ['a','c'],\n",
    "columns = ['three','four'])"
   ]
  },
  {
   "cell_type": "code",
   "execution_count": 71,
   "metadata": {},
   "outputs": [
    {
     "output_type": "execute_result",
     "data": {
      "text/plain": [
       "   three  four\n",
       "a      5     6\n",
       "c      7     8"
      ],
      "text/html": "<div>\n<style scoped>\n    .dataframe tbody tr th:only-of-type {\n        vertical-align: middle;\n    }\n\n    .dataframe tbody tr th {\n        vertical-align: top;\n    }\n\n    .dataframe thead th {\n        text-align: right;\n    }\n</style>\n<table border=\"1\" class=\"dataframe\">\n  <thead>\n    <tr style=\"text-align: right;\">\n      <th></th>\n      <th>three</th>\n      <th>four</th>\n    </tr>\n  </thead>\n  <tbody>\n    <tr>\n      <th>a</th>\n      <td>5</td>\n      <td>6</td>\n    </tr>\n    <tr>\n      <th>c</th>\n      <td>7</td>\n      <td>8</td>\n    </tr>\n  </tbody>\n</table>\n</div>"
     },
     "metadata": {},
     "execution_count": 71
    }
   ],
   "source": [
    "df2"
   ]
  },
  {
   "cell_type": "code",
   "execution_count": 72,
   "metadata": {},
   "outputs": [
    {
     "output_type": "execute_result",
     "data": {
      "text/plain": [
       "  level1     level2     \n",
       "     one two  three four\n",
       "a      0   1    5.0  6.0\n",
       "b      2   3    NaN  NaN\n",
       "c      4   5    7.0  8.0"
      ],
      "text/html": "<div>\n<style scoped>\n    .dataframe tbody tr th:only-of-type {\n        vertical-align: middle;\n    }\n\n    .dataframe tbody tr th {\n        vertical-align: top;\n    }\n\n    .dataframe thead tr th {\n        text-align: left;\n    }\n</style>\n<table border=\"1\" class=\"dataframe\">\n  <thead>\n    <tr>\n      <th></th>\n      <th colspan=\"2\" halign=\"left\">level1</th>\n      <th colspan=\"2\" halign=\"left\">level2</th>\n    </tr>\n    <tr>\n      <th></th>\n      <th>one</th>\n      <th>two</th>\n      <th>three</th>\n      <th>four</th>\n    </tr>\n  </thead>\n  <tbody>\n    <tr>\n      <th>a</th>\n      <td>0</td>\n      <td>1</td>\n      <td>5.0</td>\n      <td>6.0</td>\n    </tr>\n    <tr>\n      <th>b</th>\n      <td>2</td>\n      <td>3</td>\n      <td>NaN</td>\n      <td>NaN</td>\n    </tr>\n    <tr>\n      <th>c</th>\n      <td>4</td>\n      <td>5</td>\n      <td>7.0</td>\n      <td>8.0</td>\n    </tr>\n  </tbody>\n</table>\n</div>"
     },
     "metadata": {},
     "execution_count": 72
    }
   ],
   "source": [
    "pd.concat([df1, df2], axis = 1, keys = ['level1','level2'])"
   ]
  },
  {
   "cell_type": "code",
   "execution_count": 73,
   "metadata": {},
   "outputs": [
    {
     "output_type": "execute_result",
     "data": {
      "text/plain": [
       "          one  two  three  four\n",
       "level1 a  0.0  1.0    NaN   NaN\n",
       "       b  2.0  3.0    NaN   NaN\n",
       "       c  4.0  5.0    NaN   NaN\n",
       "level2 a  NaN  NaN    5.0   6.0\n",
       "       c  NaN  NaN    7.0   8.0"
      ],
      "text/html": "<div>\n<style scoped>\n    .dataframe tbody tr th:only-of-type {\n        vertical-align: middle;\n    }\n\n    .dataframe tbody tr th {\n        vertical-align: top;\n    }\n\n    .dataframe thead th {\n        text-align: right;\n    }\n</style>\n<table border=\"1\" class=\"dataframe\">\n  <thead>\n    <tr style=\"text-align: right;\">\n      <th></th>\n      <th></th>\n      <th>one</th>\n      <th>two</th>\n      <th>three</th>\n      <th>four</th>\n    </tr>\n  </thead>\n  <tbody>\n    <tr>\n      <th rowspan=\"3\" valign=\"top\">level1</th>\n      <th>a</th>\n      <td>0.0</td>\n      <td>1.0</td>\n      <td>NaN</td>\n      <td>NaN</td>\n    </tr>\n    <tr>\n      <th>b</th>\n      <td>2.0</td>\n      <td>3.0</td>\n      <td>NaN</td>\n      <td>NaN</td>\n    </tr>\n    <tr>\n      <th>c</th>\n      <td>4.0</td>\n      <td>5.0</td>\n      <td>NaN</td>\n      <td>NaN</td>\n    </tr>\n    <tr>\n      <th rowspan=\"2\" valign=\"top\">level2</th>\n      <th>a</th>\n      <td>NaN</td>\n      <td>NaN</td>\n      <td>5.0</td>\n      <td>6.0</td>\n    </tr>\n    <tr>\n      <th>c</th>\n      <td>NaN</td>\n      <td>NaN</td>\n      <td>7.0</td>\n      <td>8.0</td>\n    </tr>\n  </tbody>\n</table>\n</div>"
     },
     "metadata": {},
     "execution_count": 73
    }
   ],
   "source": [
    "pd.concat({'level1':df1, 'level2':df2})"
   ]
  },
  {
   "cell_type": "code",
   "execution_count": 74,
   "metadata": {},
   "outputs": [
    {
     "output_type": "execute_result",
     "data": {
      "text/plain": [
       "upper level1     level2     \n",
       "lower    one two  three four\n",
       "a          0   1    5.0  6.0\n",
       "b          2   3    NaN  NaN\n",
       "c          4   5    7.0  8.0"
      ],
      "text/html": "<div>\n<style scoped>\n    .dataframe tbody tr th:only-of-type {\n        vertical-align: middle;\n    }\n\n    .dataframe tbody tr th {\n        vertical-align: top;\n    }\n\n    .dataframe thead tr th {\n        text-align: left;\n    }\n</style>\n<table border=\"1\" class=\"dataframe\">\n  <thead>\n    <tr>\n      <th>upper</th>\n      <th colspan=\"2\" halign=\"left\">level1</th>\n      <th colspan=\"2\" halign=\"left\">level2</th>\n    </tr>\n    <tr>\n      <th>lower</th>\n      <th>one</th>\n      <th>two</th>\n      <th>three</th>\n      <th>four</th>\n    </tr>\n  </thead>\n  <tbody>\n    <tr>\n      <th>a</th>\n      <td>0</td>\n      <td>1</td>\n      <td>5.0</td>\n      <td>6.0</td>\n    </tr>\n    <tr>\n      <th>b</th>\n      <td>2</td>\n      <td>3</td>\n      <td>NaN</td>\n      <td>NaN</td>\n    </tr>\n    <tr>\n      <th>c</th>\n      <td>4</td>\n      <td>5</td>\n      <td>7.0</td>\n      <td>8.0</td>\n    </tr>\n  </tbody>\n</table>\n</div>"
     },
     "metadata": {},
     "execution_count": 74
    }
   ],
   "source": [
    "pd.concat([df1, df2], axis = 1, keys = ['level1','level2'], names = ['upper','lower'])"
   ]
  },
  {
   "cell_type": "code",
   "execution_count": 75,
   "metadata": {},
   "outputs": [
    {
     "output_type": "execute_result",
     "data": {
      "text/plain": [
       "          a         b         c         d\n",
       "0  0.327167  0.549356  1.144780  0.587749\n",
       "1  0.668623  0.486223 -1.218172 -0.371042\n",
       "2 -1.051169  0.366353  0.377968 -1.144089"
      ],
      "text/html": "<div>\n<style scoped>\n    .dataframe tbody tr th:only-of-type {\n        vertical-align: middle;\n    }\n\n    .dataframe tbody tr th {\n        vertical-align: top;\n    }\n\n    .dataframe thead th {\n        text-align: right;\n    }\n</style>\n<table border=\"1\" class=\"dataframe\">\n  <thead>\n    <tr style=\"text-align: right;\">\n      <th></th>\n      <th>a</th>\n      <th>b</th>\n      <th>c</th>\n      <th>d</th>\n    </tr>\n  </thead>\n  <tbody>\n    <tr>\n      <th>0</th>\n      <td>0.327167</td>\n      <td>0.549356</td>\n      <td>1.144780</td>\n      <td>0.587749</td>\n    </tr>\n    <tr>\n      <th>1</th>\n      <td>0.668623</td>\n      <td>0.486223</td>\n      <td>-1.218172</td>\n      <td>-0.371042</td>\n    </tr>\n    <tr>\n      <th>2</th>\n      <td>-1.051169</td>\n      <td>0.366353</td>\n      <td>0.377968</td>\n      <td>-1.144089</td>\n    </tr>\n  </tbody>\n</table>\n</div>"
     },
     "metadata": {},
     "execution_count": 75
    }
   ],
   "source": [
    "df1 = pd.DataFrame(np.random.randn(3,4), columns = ['a','b','c','d'])\n",
    "\n",
    "df2 = pd.DataFrame(np.random.randn(2,3), columns = ['b','d','a'])\n",
    "\n",
    "df1"
   ]
  },
  {
   "cell_type": "code",
   "execution_count": 76,
   "metadata": {},
   "outputs": [
    {
     "output_type": "execute_result",
     "data": {
      "text/plain": [
       "          b         d         a\n",
       "0  0.990068  1.425627 -0.342786\n",
       "1 -1.696290  1.443714 -1.347229"
      ],
      "text/html": "<div>\n<style scoped>\n    .dataframe tbody tr th:only-of-type {\n        vertical-align: middle;\n    }\n\n    .dataframe tbody tr th {\n        vertical-align: top;\n    }\n\n    .dataframe thead th {\n        text-align: right;\n    }\n</style>\n<table border=\"1\" class=\"dataframe\">\n  <thead>\n    <tr style=\"text-align: right;\">\n      <th></th>\n      <th>b</th>\n      <th>d</th>\n      <th>a</th>\n    </tr>\n  </thead>\n  <tbody>\n    <tr>\n      <th>0</th>\n      <td>0.990068</td>\n      <td>1.425627</td>\n      <td>-0.342786</td>\n    </tr>\n    <tr>\n      <th>1</th>\n      <td>-1.696290</td>\n      <td>1.443714</td>\n      <td>-1.347229</td>\n    </tr>\n  </tbody>\n</table>\n</div>"
     },
     "metadata": {},
     "execution_count": 76
    }
   ],
   "source": [
    "df2"
   ]
  },
  {
   "cell_type": "code",
   "execution_count": 77,
   "metadata": {},
   "outputs": [
    {
     "output_type": "execute_result",
     "data": {
      "text/plain": [
       "          a         b         c         d\n",
       "0  0.327167  0.549356  1.144780  0.587749\n",
       "1  0.668623  0.486223 -1.218172 -0.371042\n",
       "2 -1.051169  0.366353  0.377968 -1.144089\n",
       "3 -0.342786  0.990068       NaN  1.425627\n",
       "4 -1.347229 -1.696290       NaN  1.443714"
      ],
      "text/html": "<div>\n<style scoped>\n    .dataframe tbody tr th:only-of-type {\n        vertical-align: middle;\n    }\n\n    .dataframe tbody tr th {\n        vertical-align: top;\n    }\n\n    .dataframe thead th {\n        text-align: right;\n    }\n</style>\n<table border=\"1\" class=\"dataframe\">\n  <thead>\n    <tr style=\"text-align: right;\">\n      <th></th>\n      <th>a</th>\n      <th>b</th>\n      <th>c</th>\n      <th>d</th>\n    </tr>\n  </thead>\n  <tbody>\n    <tr>\n      <th>0</th>\n      <td>0.327167</td>\n      <td>0.549356</td>\n      <td>1.144780</td>\n      <td>0.587749</td>\n    </tr>\n    <tr>\n      <th>1</th>\n      <td>0.668623</td>\n      <td>0.486223</td>\n      <td>-1.218172</td>\n      <td>-0.371042</td>\n    </tr>\n    <tr>\n      <th>2</th>\n      <td>-1.051169</td>\n      <td>0.366353</td>\n      <td>0.377968</td>\n      <td>-1.144089</td>\n    </tr>\n    <tr>\n      <th>3</th>\n      <td>-0.342786</td>\n      <td>0.990068</td>\n      <td>NaN</td>\n      <td>1.425627</td>\n    </tr>\n    <tr>\n      <th>4</th>\n      <td>-1.347229</td>\n      <td>-1.696290</td>\n      <td>NaN</td>\n      <td>1.443714</td>\n    </tr>\n  </tbody>\n</table>\n</div>"
     },
     "metadata": {},
     "execution_count": 77
    }
   ],
   "source": [
    "pd.concat([df1,df2], ignore_index=True)"
   ]
  },
  {
   "source": [
    "### Combining data with overlap"
   ],
   "cell_type": "markdown",
   "metadata": {}
  },
  {
   "cell_type": "code",
   "execution_count": 78,
   "metadata": {},
   "outputs": [
    {
     "output_type": "execute_result",
     "data": {
      "text/plain": [
       "f    NaN\n",
       "e    2.5\n",
       "d    0.0\n",
       "c    3.6\n",
       "b    2.4\n",
       "a    NaN\n",
       "dtype: float64"
      ]
     },
     "metadata": {},
     "execution_count": 78
    }
   ],
   "source": [
    "a = pd.Series([np.nan, 2.5, 0.0, 3.6, 2.4, np.nan], index = ['f','e','d','c','b','a'])\n",
    "\n",
    "b = pd.Series([0., np.nan, 2., np.nan, np.nan, 4.], index = ['a','b','c','d','e','f'])\n",
    "\n",
    "a"
   ]
  },
  {
   "cell_type": "code",
   "execution_count": 79,
   "metadata": {},
   "outputs": [
    {
     "output_type": "execute_result",
     "data": {
      "text/plain": [
       "a    0.0\n",
       "b    NaN\n",
       "c    2.0\n",
       "d    NaN\n",
       "e    NaN\n",
       "f    4.0\n",
       "dtype: float64"
      ]
     },
     "metadata": {},
     "execution_count": 79
    }
   ],
   "source": [
    "b"
   ]
  },
  {
   "cell_type": "code",
   "execution_count": 80,
   "metadata": {},
   "outputs": [
    {
     "output_type": "execute_result",
     "data": {
      "text/plain": [
       "array([0. , 2.5, 0. , 3.6, 2.4, 4. ])"
      ]
     },
     "metadata": {},
     "execution_count": 80
    }
   ],
   "source": [
    "np.where(pd.isnull(a), b, a)"
   ]
  },
  {
   "source": [
    "Series has a `combine_first` method, which performs the equivalent of this operation along with pandas's usual data alignment logic:"
   ],
   "cell_type": "markdown",
   "metadata": {}
  },
  {
   "cell_type": "code",
   "execution_count": 81,
   "metadata": {},
   "outputs": [
    {
     "output_type": "execute_result",
     "data": {
      "text/plain": [
       "a    0.0\n",
       "b    2.4\n",
       "c    2.0\n",
       "d    0.0\n",
       "e    2.5\n",
       "f    4.0\n",
       "dtype: float64"
      ]
     },
     "metadata": {},
     "execution_count": 81
    }
   ],
   "source": [
    "b.combine_first(a)"
   ]
  },
  {
   "source": [
    "With DataFrames, `combine_first` does the same thing column by column."
   ],
   "cell_type": "markdown",
   "metadata": {}
  },
  {
   "cell_type": "code",
   "execution_count": 82,
   "metadata": {},
   "outputs": [
    {
     "output_type": "execute_result",
     "data": {
      "text/plain": [
       "     a    b   c\n",
       "0  1.0  NaN   2\n",
       "1  NaN  4.0   6\n",
       "2  4.0  NaN  10\n",
       "3  NaN  9.0  14"
      ],
      "text/html": "<div>\n<style scoped>\n    .dataframe tbody tr th:only-of-type {\n        vertical-align: middle;\n    }\n\n    .dataframe tbody tr th {\n        vertical-align: top;\n    }\n\n    .dataframe thead th {\n        text-align: right;\n    }\n</style>\n<table border=\"1\" class=\"dataframe\">\n  <thead>\n    <tr style=\"text-align: right;\">\n      <th></th>\n      <th>a</th>\n      <th>b</th>\n      <th>c</th>\n    </tr>\n  </thead>\n  <tbody>\n    <tr>\n      <th>0</th>\n      <td>1.0</td>\n      <td>NaN</td>\n      <td>2</td>\n    </tr>\n    <tr>\n      <th>1</th>\n      <td>NaN</td>\n      <td>4.0</td>\n      <td>6</td>\n    </tr>\n    <tr>\n      <th>2</th>\n      <td>4.0</td>\n      <td>NaN</td>\n      <td>10</td>\n    </tr>\n    <tr>\n      <th>3</th>\n      <td>NaN</td>\n      <td>9.0</td>\n      <td>14</td>\n    </tr>\n  </tbody>\n</table>\n</div>"
     },
     "metadata": {},
     "execution_count": 82
    }
   ],
   "source": [
    "df1 = pd.DataFrame({'a':[1.,np.nan,4.,np.nan], 'b':[np.nan,4.,np.nan,9.], 'c':range(2, 18, 4)})\n",
    "\n",
    "df2 = pd.DataFrame({'a':[5., 6, np.nan, 2., 9.], 'b':[np.nan, 3., 4., 4.,7.]})\n",
    "\n",
    "df1"
   ]
  },
  {
   "cell_type": "code",
   "execution_count": 83,
   "metadata": {},
   "outputs": [
    {
     "output_type": "execute_result",
     "data": {
      "text/plain": [
       "     a    b\n",
       "0  5.0  NaN\n",
       "1  6.0  3.0\n",
       "2  NaN  4.0\n",
       "3  2.0  4.0\n",
       "4  9.0  7.0"
      ],
      "text/html": "<div>\n<style scoped>\n    .dataframe tbody tr th:only-of-type {\n        vertical-align: middle;\n    }\n\n    .dataframe tbody tr th {\n        vertical-align: top;\n    }\n\n    .dataframe thead th {\n        text-align: right;\n    }\n</style>\n<table border=\"1\" class=\"dataframe\">\n  <thead>\n    <tr style=\"text-align: right;\">\n      <th></th>\n      <th>a</th>\n      <th>b</th>\n    </tr>\n  </thead>\n  <tbody>\n    <tr>\n      <th>0</th>\n      <td>5.0</td>\n      <td>NaN</td>\n    </tr>\n    <tr>\n      <th>1</th>\n      <td>6.0</td>\n      <td>3.0</td>\n    </tr>\n    <tr>\n      <th>2</th>\n      <td>NaN</td>\n      <td>4.0</td>\n    </tr>\n    <tr>\n      <th>3</th>\n      <td>2.0</td>\n      <td>4.0</td>\n    </tr>\n    <tr>\n      <th>4</th>\n      <td>9.0</td>\n      <td>7.0</td>\n    </tr>\n  </tbody>\n</table>\n</div>"
     },
     "metadata": {},
     "execution_count": 83
    }
   ],
   "source": [
    "df2"
   ]
  },
  {
   "cell_type": "code",
   "execution_count": 84,
   "metadata": {},
   "outputs": [
    {
     "output_type": "execute_result",
     "data": {
      "text/plain": [
       "     a    b     c\n",
       "0  1.0  NaN   2.0\n",
       "1  6.0  4.0   6.0\n",
       "2  4.0  4.0  10.0\n",
       "3  2.0  9.0  14.0\n",
       "4  9.0  7.0   NaN"
      ],
      "text/html": "<div>\n<style scoped>\n    .dataframe tbody tr th:only-of-type {\n        vertical-align: middle;\n    }\n\n    .dataframe tbody tr th {\n        vertical-align: top;\n    }\n\n    .dataframe thead th {\n        text-align: right;\n    }\n</style>\n<table border=\"1\" class=\"dataframe\">\n  <thead>\n    <tr style=\"text-align: right;\">\n      <th></th>\n      <th>a</th>\n      <th>b</th>\n      <th>c</th>\n    </tr>\n  </thead>\n  <tbody>\n    <tr>\n      <th>0</th>\n      <td>1.0</td>\n      <td>NaN</td>\n      <td>2.0</td>\n    </tr>\n    <tr>\n      <th>1</th>\n      <td>6.0</td>\n      <td>4.0</td>\n      <td>6.0</td>\n    </tr>\n    <tr>\n      <th>2</th>\n      <td>4.0</td>\n      <td>4.0</td>\n      <td>10.0</td>\n    </tr>\n    <tr>\n      <th>3</th>\n      <td>2.0</td>\n      <td>9.0</td>\n      <td>14.0</td>\n    </tr>\n    <tr>\n      <th>4</th>\n      <td>9.0</td>\n      <td>7.0</td>\n      <td>NaN</td>\n    </tr>\n  </tbody>\n</table>\n</div>"
     },
     "metadata": {},
     "execution_count": 84
    }
   ],
   "source": [
    "df1.combine_first(df2)"
   ]
  },
  {
   "source": [
    "## Reshaping and Pivoting\n",
    "\n",
    "There are number of basic operations for rearranging tabular data. These are alternatingly referred to as *reshape* or *pivot* operations.\n",
    "\n",
    "### Reshaping with hierarchical indexing\n",
    "\n",
    "Hierarchical indexing provides a consistent way to rearrange data in a DataFrame. There are two primary actions:\n",
    "\n",
    "`stack`\n",
    "    This \"rotates\" or pivots from thecolumns in the data to the rows.\n",
    "\n",
    "`unstack`\n",
    "    This pivots from the rows into the columns"
   ],
   "cell_type": "markdown",
   "metadata": {}
  },
  {
   "cell_type": "code",
   "execution_count": 85,
   "metadata": {},
   "outputs": [
    {
     "output_type": "execute_result",
     "data": {
      "text/plain": [
       "number    one  two  three\n",
       "state                    \n",
       "Ohio        0    1      2\n",
       "Colorado    3    4      5"
      ],
      "text/html": "<div>\n<style scoped>\n    .dataframe tbody tr th:only-of-type {\n        vertical-align: middle;\n    }\n\n    .dataframe tbody tr th {\n        vertical-align: top;\n    }\n\n    .dataframe thead th {\n        text-align: right;\n    }\n</style>\n<table border=\"1\" class=\"dataframe\">\n  <thead>\n    <tr style=\"text-align: right;\">\n      <th>number</th>\n      <th>one</th>\n      <th>two</th>\n      <th>three</th>\n    </tr>\n    <tr>\n      <th>state</th>\n      <th></th>\n      <th></th>\n      <th></th>\n    </tr>\n  </thead>\n  <tbody>\n    <tr>\n      <th>Ohio</th>\n      <td>0</td>\n      <td>1</td>\n      <td>2</td>\n    </tr>\n    <tr>\n      <th>Colorado</th>\n      <td>3</td>\n      <td>4</td>\n      <td>5</td>\n    </tr>\n  </tbody>\n</table>\n</div>"
     },
     "metadata": {},
     "execution_count": 85
    }
   ],
   "source": [
    "data = pd.DataFrame(np.arange(6).reshape((2,3)),\n",
    "index = pd.Index(['Ohio','Colorado'], name = 'state'),\n",
    "columns = pd.Index(['one','two','three'], name = 'number'))\n",
    "\n",
    "data"
   ]
  },
  {
   "cell_type": "code",
   "execution_count": 86,
   "metadata": {},
   "outputs": [
    {
     "output_type": "execute_result",
     "data": {
      "text/plain": [
       "state     number\n",
       "Ohio      one       0\n",
       "          two       1\n",
       "          three     2\n",
       "Colorado  one       3\n",
       "          two       4\n",
       "          three     5\n",
       "dtype: int32"
      ]
     },
     "metadata": {},
     "execution_count": 86
    }
   ],
   "source": [
    "result = data.stack()\n",
    "\n",
    "result"
   ]
  },
  {
   "cell_type": "code",
   "execution_count": 87,
   "metadata": {},
   "outputs": [
    {
     "output_type": "execute_result",
     "data": {
      "text/plain": [
       "number    one  two  three\n",
       "state                    \n",
       "Ohio        0    1      2\n",
       "Colorado    3    4      5"
      ],
      "text/html": "<div>\n<style scoped>\n    .dataframe tbody tr th:only-of-type {\n        vertical-align: middle;\n    }\n\n    .dataframe tbody tr th {\n        vertical-align: top;\n    }\n\n    .dataframe thead th {\n        text-align: right;\n    }\n</style>\n<table border=\"1\" class=\"dataframe\">\n  <thead>\n    <tr style=\"text-align: right;\">\n      <th>number</th>\n      <th>one</th>\n      <th>two</th>\n      <th>three</th>\n    </tr>\n    <tr>\n      <th>state</th>\n      <th></th>\n      <th></th>\n      <th></th>\n    </tr>\n  </thead>\n  <tbody>\n    <tr>\n      <th>Ohio</th>\n      <td>0</td>\n      <td>1</td>\n      <td>2</td>\n    </tr>\n    <tr>\n      <th>Colorado</th>\n      <td>3</td>\n      <td>4</td>\n      <td>5</td>\n    </tr>\n  </tbody>\n</table>\n</div>"
     },
     "metadata": {},
     "execution_count": 87
    }
   ],
   "source": [
    "result.unstack()"
   ]
  },
  {
   "cell_type": "code",
   "execution_count": 88,
   "metadata": {},
   "outputs": [
    {
     "output_type": "execute_result",
     "data": {
      "text/plain": [
       "state   Ohio  Colorado\n",
       "number                \n",
       "one        0         3\n",
       "two        1         4\n",
       "three      2         5"
      ],
      "text/html": "<div>\n<style scoped>\n    .dataframe tbody tr th:only-of-type {\n        vertical-align: middle;\n    }\n\n    .dataframe tbody tr th {\n        vertical-align: top;\n    }\n\n    .dataframe thead th {\n        text-align: right;\n    }\n</style>\n<table border=\"1\" class=\"dataframe\">\n  <thead>\n    <tr style=\"text-align: right;\">\n      <th>state</th>\n      <th>Ohio</th>\n      <th>Colorado</th>\n    </tr>\n    <tr>\n      <th>number</th>\n      <th></th>\n      <th></th>\n    </tr>\n  </thead>\n  <tbody>\n    <tr>\n      <th>one</th>\n      <td>0</td>\n      <td>3</td>\n    </tr>\n    <tr>\n      <th>two</th>\n      <td>1</td>\n      <td>4</td>\n    </tr>\n    <tr>\n      <th>three</th>\n      <td>2</td>\n      <td>5</td>\n    </tr>\n  </tbody>\n</table>\n</div>"
     },
     "metadata": {},
     "execution_count": 88
    }
   ],
   "source": [
    "result.unstack(0)"
   ]
  },
  {
   "cell_type": "code",
   "execution_count": 89,
   "metadata": {},
   "outputs": [
    {
     "output_type": "execute_result",
     "data": {
      "text/plain": [
       "state   Ohio  Colorado\n",
       "number                \n",
       "one        0         3\n",
       "two        1         4\n",
       "three      2         5"
      ],
      "text/html": "<div>\n<style scoped>\n    .dataframe tbody tr th:only-of-type {\n        vertical-align: middle;\n    }\n\n    .dataframe tbody tr th {\n        vertical-align: top;\n    }\n\n    .dataframe thead th {\n        text-align: right;\n    }\n</style>\n<table border=\"1\" class=\"dataframe\">\n  <thead>\n    <tr style=\"text-align: right;\">\n      <th>state</th>\n      <th>Ohio</th>\n      <th>Colorado</th>\n    </tr>\n    <tr>\n      <th>number</th>\n      <th></th>\n      <th></th>\n    </tr>\n  </thead>\n  <tbody>\n    <tr>\n      <th>one</th>\n      <td>0</td>\n      <td>3</td>\n    </tr>\n    <tr>\n      <th>two</th>\n      <td>1</td>\n      <td>4</td>\n    </tr>\n    <tr>\n      <th>three</th>\n      <td>2</td>\n      <td>5</td>\n    </tr>\n  </tbody>\n</table>\n</div>"
     },
     "metadata": {},
     "execution_count": 89
    }
   ],
   "source": [
    "result.unstack('state')"
   ]
  },
  {
   "cell_type": "code",
   "execution_count": 90,
   "metadata": {},
   "outputs": [
    {
     "output_type": "execute_result",
     "data": {
      "text/plain": [
       "a    0\n",
       "b    1\n",
       "c    2\n",
       "d    3\n",
       "dtype: int64"
      ]
     },
     "metadata": {},
     "execution_count": 90
    }
   ],
   "source": [
    "# Unstacking might introduce missing data if all of the values in the level are not found in each of the subgroups:\n",
    "s1 = pd.Series([0,1,2,3], index = ['a','b','c','d'])\n",
    "\n",
    "s2 = pd.Series([4,5,6], index = ['c','d','e'])\n",
    "\n",
    "s1"
   ]
  },
  {
   "cell_type": "code",
   "execution_count": 91,
   "metadata": {},
   "outputs": [
    {
     "output_type": "execute_result",
     "data": {
      "text/plain": [
       "c    4\n",
       "d    5\n",
       "e    6\n",
       "dtype: int64"
      ]
     },
     "metadata": {},
     "execution_count": 91
    }
   ],
   "source": [
    "s2"
   ]
  },
  {
   "cell_type": "code",
   "execution_count": 92,
   "metadata": {},
   "outputs": [
    {
     "output_type": "execute_result",
     "data": {
      "text/plain": [
       "one  a    0\n",
       "     b    1\n",
       "     c    2\n",
       "     d    3\n",
       "two  c    4\n",
       "     d    5\n",
       "     e    6\n",
       "dtype: int64"
      ]
     },
     "metadata": {},
     "execution_count": 92
    }
   ],
   "source": [
    "data2 = pd.concat([s1,s2], keys = ['one','two'])\n",
    "\n",
    "data2"
   ]
  },
  {
   "cell_type": "code",
   "execution_count": 93,
   "metadata": {},
   "outputs": [
    {
     "output_type": "execute_result",
     "data": {
      "text/plain": [
       "       a    b    c    d    e\n",
       "one  0.0  1.0  2.0  3.0  NaN\n",
       "two  NaN  NaN  4.0  5.0  6.0"
      ],
      "text/html": "<div>\n<style scoped>\n    .dataframe tbody tr th:only-of-type {\n        vertical-align: middle;\n    }\n\n    .dataframe tbody tr th {\n        vertical-align: top;\n    }\n\n    .dataframe thead th {\n        text-align: right;\n    }\n</style>\n<table border=\"1\" class=\"dataframe\">\n  <thead>\n    <tr style=\"text-align: right;\">\n      <th></th>\n      <th>a</th>\n      <th>b</th>\n      <th>c</th>\n      <th>d</th>\n      <th>e</th>\n    </tr>\n  </thead>\n  <tbody>\n    <tr>\n      <th>one</th>\n      <td>0.0</td>\n      <td>1.0</td>\n      <td>2.0</td>\n      <td>3.0</td>\n      <td>NaN</td>\n    </tr>\n    <tr>\n      <th>two</th>\n      <td>NaN</td>\n      <td>NaN</td>\n      <td>4.0</td>\n      <td>5.0</td>\n      <td>6.0</td>\n    </tr>\n  </tbody>\n</table>\n</div>"
     },
     "metadata": {},
     "execution_count": 93
    }
   ],
   "source": [
    "data2.unstack()"
   ]
  },
  {
   "cell_type": "code",
   "execution_count": 94,
   "metadata": {},
   "outputs": [
    {
     "output_type": "execute_result",
     "data": {
      "text/plain": [
       "       a    b    c    d    e\n",
       "one  0.0  1.0  2.0  3.0  NaN\n",
       "two  NaN  NaN  4.0  5.0  6.0"
      ],
      "text/html": "<div>\n<style scoped>\n    .dataframe tbody tr th:only-of-type {\n        vertical-align: middle;\n    }\n\n    .dataframe tbody tr th {\n        vertical-align: top;\n    }\n\n    .dataframe thead th {\n        text-align: right;\n    }\n</style>\n<table border=\"1\" class=\"dataframe\">\n  <thead>\n    <tr style=\"text-align: right;\">\n      <th></th>\n      <th>a</th>\n      <th>b</th>\n      <th>c</th>\n      <th>d</th>\n      <th>e</th>\n    </tr>\n  </thead>\n  <tbody>\n    <tr>\n      <th>one</th>\n      <td>0.0</td>\n      <td>1.0</td>\n      <td>2.0</td>\n      <td>3.0</td>\n      <td>NaN</td>\n    </tr>\n    <tr>\n      <th>two</th>\n      <td>NaN</td>\n      <td>NaN</td>\n      <td>4.0</td>\n      <td>5.0</td>\n      <td>6.0</td>\n    </tr>\n  </tbody>\n</table>\n</div>"
     },
     "metadata": {},
     "execution_count": 94
    }
   ],
   "source": [
    "data2.unstack()"
   ]
  },
  {
   "cell_type": "code",
   "execution_count": 95,
   "metadata": {},
   "outputs": [
    {
     "output_type": "execute_result",
     "data": {
      "text/plain": [
       "one  a    0.0\n",
       "     b    1.0\n",
       "     c    2.0\n",
       "     d    3.0\n",
       "two  c    4.0\n",
       "     d    5.0\n",
       "     e    6.0\n",
       "dtype: float64"
      ]
     },
     "metadata": {},
     "execution_count": 95
    }
   ],
   "source": [
    "data2.unstack().stack()"
   ]
  },
  {
   "cell_type": "code",
   "execution_count": 96,
   "metadata": {},
   "outputs": [
    {
     "output_type": "execute_result",
     "data": {
      "text/plain": [
       "one  a    0.0\n",
       "     b    1.0\n",
       "     c    2.0\n",
       "     d    3.0\n",
       "     e    NaN\n",
       "two  a    NaN\n",
       "     b    NaN\n",
       "     c    4.0\n",
       "     d    5.0\n",
       "     e    6.0\n",
       "dtype: float64"
      ]
     },
     "metadata": {},
     "execution_count": 96
    }
   ],
   "source": [
    "data2.unstack().stack(dropna = False)"
   ]
  },
  {
   "cell_type": "code",
   "execution_count": 97,
   "metadata": {},
   "outputs": [
    {
     "output_type": "execute_result",
     "data": {
      "text/plain": [
       "side             left  right\n",
       "state    number             \n",
       "Ohio     one        0      5\n",
       "         two        1      6\n",
       "         three      2      7\n",
       "Colorado one        3      8\n",
       "         two        4      9\n",
       "         three      5     10"
      ],
      "text/html": "<div>\n<style scoped>\n    .dataframe tbody tr th:only-of-type {\n        vertical-align: middle;\n    }\n\n    .dataframe tbody tr th {\n        vertical-align: top;\n    }\n\n    .dataframe thead th {\n        text-align: right;\n    }\n</style>\n<table border=\"1\" class=\"dataframe\">\n  <thead>\n    <tr style=\"text-align: right;\">\n      <th></th>\n      <th>side</th>\n      <th>left</th>\n      <th>right</th>\n    </tr>\n    <tr>\n      <th>state</th>\n      <th>number</th>\n      <th></th>\n      <th></th>\n    </tr>\n  </thead>\n  <tbody>\n    <tr>\n      <th rowspan=\"3\" valign=\"top\">Ohio</th>\n      <th>one</th>\n      <td>0</td>\n      <td>5</td>\n    </tr>\n    <tr>\n      <th>two</th>\n      <td>1</td>\n      <td>6</td>\n    </tr>\n    <tr>\n      <th>three</th>\n      <td>2</td>\n      <td>7</td>\n    </tr>\n    <tr>\n      <th rowspan=\"3\" valign=\"top\">Colorado</th>\n      <th>one</th>\n      <td>3</td>\n      <td>8</td>\n    </tr>\n    <tr>\n      <th>two</th>\n      <td>4</td>\n      <td>9</td>\n    </tr>\n    <tr>\n      <th>three</th>\n      <td>5</td>\n      <td>10</td>\n    </tr>\n  </tbody>\n</table>\n</div>"
     },
     "metadata": {},
     "execution_count": 97
    }
   ],
   "source": [
    "df = pd.DataFrame({'left': result, 'right': result + 5}, columns = pd.Index(['left','right'], name = 'side'))\n",
    "\n",
    "df"
   ]
  },
  {
   "cell_type": "code",
   "execution_count": 98,
   "metadata": {},
   "outputs": [
    {
     "output_type": "execute_result",
     "data": {
      "text/plain": [
       "side   left          right         \n",
       "state  Ohio Colorado  Ohio Colorado\n",
       "number                             \n",
       "one       0        3     5        8\n",
       "two       1        4     6        9\n",
       "three     2        5     7       10"
      ],
      "text/html": "<div>\n<style scoped>\n    .dataframe tbody tr th:only-of-type {\n        vertical-align: middle;\n    }\n\n    .dataframe tbody tr th {\n        vertical-align: top;\n    }\n\n    .dataframe thead tr th {\n        text-align: left;\n    }\n\n    .dataframe thead tr:last-of-type th {\n        text-align: right;\n    }\n</style>\n<table border=\"1\" class=\"dataframe\">\n  <thead>\n    <tr>\n      <th>side</th>\n      <th colspan=\"2\" halign=\"left\">left</th>\n      <th colspan=\"2\" halign=\"left\">right</th>\n    </tr>\n    <tr>\n      <th>state</th>\n      <th>Ohio</th>\n      <th>Colorado</th>\n      <th>Ohio</th>\n      <th>Colorado</th>\n    </tr>\n    <tr>\n      <th>number</th>\n      <th></th>\n      <th></th>\n      <th></th>\n      <th></th>\n    </tr>\n  </thead>\n  <tbody>\n    <tr>\n      <th>one</th>\n      <td>0</td>\n      <td>3</td>\n      <td>5</td>\n      <td>8</td>\n    </tr>\n    <tr>\n      <th>two</th>\n      <td>1</td>\n      <td>4</td>\n      <td>6</td>\n      <td>9</td>\n    </tr>\n    <tr>\n      <th>three</th>\n      <td>2</td>\n      <td>5</td>\n      <td>7</td>\n      <td>10</td>\n    </tr>\n  </tbody>\n</table>\n</div>"
     },
     "metadata": {},
     "execution_count": 98
    }
   ],
   "source": [
    "df.unstack('state')"
   ]
  },
  {
   "cell_type": "code",
   "execution_count": 99,
   "metadata": {},
   "outputs": [
    {
     "output_type": "execute_result",
     "data": {
      "text/plain": [
       "side     left           right          \n",
       "number    one two three   one two three\n",
       "state                                  \n",
       "Ohio        0   1     2     5   6     7\n",
       "Colorado    3   4     5     8   9    10"
      ],
      "text/html": "<div>\n<style scoped>\n    .dataframe tbody tr th:only-of-type {\n        vertical-align: middle;\n    }\n\n    .dataframe tbody tr th {\n        vertical-align: top;\n    }\n\n    .dataframe thead tr th {\n        text-align: left;\n    }\n\n    .dataframe thead tr:last-of-type th {\n        text-align: right;\n    }\n</style>\n<table border=\"1\" class=\"dataframe\">\n  <thead>\n    <tr>\n      <th>side</th>\n      <th colspan=\"3\" halign=\"left\">left</th>\n      <th colspan=\"3\" halign=\"left\">right</th>\n    </tr>\n    <tr>\n      <th>number</th>\n      <th>one</th>\n      <th>two</th>\n      <th>three</th>\n      <th>one</th>\n      <th>two</th>\n      <th>three</th>\n    </tr>\n    <tr>\n      <th>state</th>\n      <th></th>\n      <th></th>\n      <th></th>\n      <th></th>\n      <th></th>\n      <th></th>\n    </tr>\n  </thead>\n  <tbody>\n    <tr>\n      <th>Ohio</th>\n      <td>0</td>\n      <td>1</td>\n      <td>2</td>\n      <td>5</td>\n      <td>6</td>\n      <td>7</td>\n    </tr>\n    <tr>\n      <th>Colorado</th>\n      <td>3</td>\n      <td>4</td>\n      <td>5</td>\n      <td>8</td>\n      <td>9</td>\n      <td>10</td>\n    </tr>\n  </tbody>\n</table>\n</div>"
     },
     "metadata": {},
     "execution_count": 99
    }
   ],
   "source": [
    "df.unstack('number')"
   ]
  },
  {
   "cell_type": "code",
   "execution_count": 100,
   "metadata": {},
   "outputs": [
    {
     "output_type": "execute_result",
     "data": {
      "text/plain": [
       "state         Colorado  Ohio\n",
       "number side                 \n",
       "one    left          3     0\n",
       "       right         8     5\n",
       "two    left          4     1\n",
       "       right         9     6\n",
       "three  left          5     2\n",
       "       right        10     7"
      ],
      "text/html": "<div>\n<style scoped>\n    .dataframe tbody tr th:only-of-type {\n        vertical-align: middle;\n    }\n\n    .dataframe tbody tr th {\n        vertical-align: top;\n    }\n\n    .dataframe thead th {\n        text-align: right;\n    }\n</style>\n<table border=\"1\" class=\"dataframe\">\n  <thead>\n    <tr style=\"text-align: right;\">\n      <th></th>\n      <th>state</th>\n      <th>Colorado</th>\n      <th>Ohio</th>\n    </tr>\n    <tr>\n      <th>number</th>\n      <th>side</th>\n      <th></th>\n      <th></th>\n    </tr>\n  </thead>\n  <tbody>\n    <tr>\n      <th rowspan=\"2\" valign=\"top\">one</th>\n      <th>left</th>\n      <td>3</td>\n      <td>0</td>\n    </tr>\n    <tr>\n      <th>right</th>\n      <td>8</td>\n      <td>5</td>\n    </tr>\n    <tr>\n      <th rowspan=\"2\" valign=\"top\">two</th>\n      <th>left</th>\n      <td>4</td>\n      <td>1</td>\n    </tr>\n    <tr>\n      <th>right</th>\n      <td>9</td>\n      <td>6</td>\n    </tr>\n    <tr>\n      <th rowspan=\"2\" valign=\"top\">three</th>\n      <th>left</th>\n      <td>5</td>\n      <td>2</td>\n    </tr>\n    <tr>\n      <th>right</th>\n      <td>10</td>\n      <td>7</td>\n    </tr>\n  </tbody>\n</table>\n</div>"
     },
     "metadata": {},
     "execution_count": 100
    }
   ],
   "source": [
    "# When calling stack, we can indicate the name of the axis to stack:\n",
    "df.unstack('state').stack('side')"
   ]
  },
  {
   "source": [
    "### Pivoting \"Long\" to \"Wide\" format\n",
    "\n",
    "A common way to store multiple time series in databases and CSV is in so-called *long* or *stacked* format."
   ],
   "cell_type": "markdown",
   "metadata": {}
  },
  {
   "cell_type": "code",
   "execution_count": 101,
   "metadata": {},
   "outputs": [
    {
     "output_type": "execute_result",
     "data": {
      "text/plain": [
       "     year  quarter   realgdp  realcons  realinv  realgovt  realdpi    cpi  \\\n",
       "0  1959.0      1.0  2710.349    1707.4  286.898   470.045   1886.9  28.98   \n",
       "1  1959.0      2.0  2778.801    1733.7  310.859   481.301   1919.7  29.15   \n",
       "2  1959.0      3.0  2775.488    1751.8  289.226   491.260   1916.4  29.35   \n",
       "3  1959.0      4.0  2785.204    1753.7  299.356   484.052   1931.3  29.37   \n",
       "4  1960.0      1.0  2847.699    1770.5  331.722   462.199   1955.5  29.54   \n",
       "\n",
       "      m1  tbilrate  unemp      pop  infl  realint  \n",
       "0  139.7      2.82    5.8  177.146  0.00     0.00  \n",
       "1  141.7      3.08    5.1  177.830  2.34     0.74  \n",
       "2  140.5      3.82    5.3  178.657  2.74     1.09  \n",
       "3  140.0      4.33    5.6  179.386  0.27     4.06  \n",
       "4  139.6      3.50    5.2  180.007  2.31     1.19  "
      ],
      "text/html": "<div>\n<style scoped>\n    .dataframe tbody tr th:only-of-type {\n        vertical-align: middle;\n    }\n\n    .dataframe tbody tr th {\n        vertical-align: top;\n    }\n\n    .dataframe thead th {\n        text-align: right;\n    }\n</style>\n<table border=\"1\" class=\"dataframe\">\n  <thead>\n    <tr style=\"text-align: right;\">\n      <th></th>\n      <th>year</th>\n      <th>quarter</th>\n      <th>realgdp</th>\n      <th>realcons</th>\n      <th>realinv</th>\n      <th>realgovt</th>\n      <th>realdpi</th>\n      <th>cpi</th>\n      <th>m1</th>\n      <th>tbilrate</th>\n      <th>unemp</th>\n      <th>pop</th>\n      <th>infl</th>\n      <th>realint</th>\n    </tr>\n  </thead>\n  <tbody>\n    <tr>\n      <th>0</th>\n      <td>1959.0</td>\n      <td>1.0</td>\n      <td>2710.349</td>\n      <td>1707.4</td>\n      <td>286.898</td>\n      <td>470.045</td>\n      <td>1886.9</td>\n      <td>28.98</td>\n      <td>139.7</td>\n      <td>2.82</td>\n      <td>5.8</td>\n      <td>177.146</td>\n      <td>0.00</td>\n      <td>0.00</td>\n    </tr>\n    <tr>\n      <th>1</th>\n      <td>1959.0</td>\n      <td>2.0</td>\n      <td>2778.801</td>\n      <td>1733.7</td>\n      <td>310.859</td>\n      <td>481.301</td>\n      <td>1919.7</td>\n      <td>29.15</td>\n      <td>141.7</td>\n      <td>3.08</td>\n      <td>5.1</td>\n      <td>177.830</td>\n      <td>2.34</td>\n      <td>0.74</td>\n    </tr>\n    <tr>\n      <th>2</th>\n      <td>1959.0</td>\n      <td>3.0</td>\n      <td>2775.488</td>\n      <td>1751.8</td>\n      <td>289.226</td>\n      <td>491.260</td>\n      <td>1916.4</td>\n      <td>29.35</td>\n      <td>140.5</td>\n      <td>3.82</td>\n      <td>5.3</td>\n      <td>178.657</td>\n      <td>2.74</td>\n      <td>1.09</td>\n    </tr>\n    <tr>\n      <th>3</th>\n      <td>1959.0</td>\n      <td>4.0</td>\n      <td>2785.204</td>\n      <td>1753.7</td>\n      <td>299.356</td>\n      <td>484.052</td>\n      <td>1931.3</td>\n      <td>29.37</td>\n      <td>140.0</td>\n      <td>4.33</td>\n      <td>5.6</td>\n      <td>179.386</td>\n      <td>0.27</td>\n      <td>4.06</td>\n    </tr>\n    <tr>\n      <th>4</th>\n      <td>1960.0</td>\n      <td>1.0</td>\n      <td>2847.699</td>\n      <td>1770.5</td>\n      <td>331.722</td>\n      <td>462.199</td>\n      <td>1955.5</td>\n      <td>29.54</td>\n      <td>139.6</td>\n      <td>3.50</td>\n      <td>5.2</td>\n      <td>180.007</td>\n      <td>2.31</td>\n      <td>1.19</td>\n    </tr>\n  </tbody>\n</table>\n</div>"
     },
     "metadata": {},
     "execution_count": 101
    }
   ],
   "source": [
    "data = pd.read_csv('datasets/macrodata.csv')\n",
    "\n",
    "data.head()"
   ]
  },
  {
   "cell_type": "code",
   "execution_count": 102,
   "metadata": {},
   "outputs": [
    {
     "output_type": "execute_result",
     "data": {
      "text/plain": [
       "                           date     item     value\n",
       "0 1959-03-31 23:59:59.999999999  realgdp  2710.349\n",
       "1 1959-03-31 23:59:59.999999999     infl     0.000\n",
       "2 1959-03-31 23:59:59.999999999    unemp     5.800\n",
       "3 1959-06-30 23:59:59.999999999  realgdp  2778.801\n",
       "4 1959-06-30 23:59:59.999999999     infl     2.340\n",
       "5 1959-06-30 23:59:59.999999999    unemp     5.100\n",
       "6 1959-09-30 23:59:59.999999999  realgdp  2775.488\n",
       "7 1959-09-30 23:59:59.999999999     infl     2.740\n",
       "8 1959-09-30 23:59:59.999999999    unemp     5.300\n",
       "9 1959-12-31 23:59:59.999999999  realgdp  2785.204"
      ],
      "text/html": "<div>\n<style scoped>\n    .dataframe tbody tr th:only-of-type {\n        vertical-align: middle;\n    }\n\n    .dataframe tbody tr th {\n        vertical-align: top;\n    }\n\n    .dataframe thead th {\n        text-align: right;\n    }\n</style>\n<table border=\"1\" class=\"dataframe\">\n  <thead>\n    <tr style=\"text-align: right;\">\n      <th></th>\n      <th>date</th>\n      <th>item</th>\n      <th>value</th>\n    </tr>\n  </thead>\n  <tbody>\n    <tr>\n      <th>0</th>\n      <td>1959-03-31 23:59:59.999999999</td>\n      <td>realgdp</td>\n      <td>2710.349</td>\n    </tr>\n    <tr>\n      <th>1</th>\n      <td>1959-03-31 23:59:59.999999999</td>\n      <td>infl</td>\n      <td>0.000</td>\n    </tr>\n    <tr>\n      <th>2</th>\n      <td>1959-03-31 23:59:59.999999999</td>\n      <td>unemp</td>\n      <td>5.800</td>\n    </tr>\n    <tr>\n      <th>3</th>\n      <td>1959-06-30 23:59:59.999999999</td>\n      <td>realgdp</td>\n      <td>2778.801</td>\n    </tr>\n    <tr>\n      <th>4</th>\n      <td>1959-06-30 23:59:59.999999999</td>\n      <td>infl</td>\n      <td>2.340</td>\n    </tr>\n    <tr>\n      <th>5</th>\n      <td>1959-06-30 23:59:59.999999999</td>\n      <td>unemp</td>\n      <td>5.100</td>\n    </tr>\n    <tr>\n      <th>6</th>\n      <td>1959-09-30 23:59:59.999999999</td>\n      <td>realgdp</td>\n      <td>2775.488</td>\n    </tr>\n    <tr>\n      <th>7</th>\n      <td>1959-09-30 23:59:59.999999999</td>\n      <td>infl</td>\n      <td>2.740</td>\n    </tr>\n    <tr>\n      <th>8</th>\n      <td>1959-09-30 23:59:59.999999999</td>\n      <td>unemp</td>\n      <td>5.300</td>\n    </tr>\n    <tr>\n      <th>9</th>\n      <td>1959-12-31 23:59:59.999999999</td>\n      <td>realgdp</td>\n      <td>2785.204</td>\n    </tr>\n  </tbody>\n</table>\n</div>"
     },
     "metadata": {},
     "execution_count": 102
    }
   ],
   "source": [
    "periods = pd.PeriodIndex(year = data.year, quarter = data.quarter, name = 'date')\n",
    "\n",
    "columns = pd.Index(['realgdp','infl','unemp'],name = 'item')\n",
    "\n",
    "data = data.reindex(columns = columns)\n",
    "\n",
    "data.index = periods.to_timestamp('D', 'end')\n",
    "\n",
    "ldata = data.stack().reset_index().rename(columns = {0: 'value'})\n",
    "\n",
    "ldata[:10]"
   ]
  },
  {
   "source": [
    "This is the so-called *long* format for multiple time series, or other observational data with tow or more keys. Each row in the table represents a single observation.\n",
    "\n",
    "Data is frequently stored this way in relational databases like MySQL, as a fixed schema allows the number of distinct values in the `item` column to change as data is added to the table.\n",
    "\n",
    "In some cases, the data may be more difficult to work with this format; you might prefer to have a DataFrame containing one column per distinct `item` value indexed by timestamps in the `data` column."
   ],
   "cell_type": "markdown",
   "metadata": {}
  },
  {
   "cell_type": "code",
   "execution_count": 103,
   "metadata": {},
   "outputs": [
    {
     "output_type": "execute_result",
     "data": {
      "text/plain": [
       "item                           infl    realgdp  unemp\n",
       "date                                                 \n",
       "1959-03-31 23:59:59.999999999  0.00   2710.349    5.8\n",
       "1959-06-30 23:59:59.999999999  2.34   2778.801    5.1\n",
       "1959-09-30 23:59:59.999999999  2.74   2775.488    5.3\n",
       "1959-12-31 23:59:59.999999999  0.27   2785.204    5.6\n",
       "1960-03-31 23:59:59.999999999  2.31   2847.699    5.2\n",
       "...                             ...        ...    ...\n",
       "2008-09-30 23:59:59.999999999 -3.16  13324.600    6.0\n",
       "2008-12-31 23:59:59.999999999 -8.79  13141.920    6.9\n",
       "2009-03-31 23:59:59.999999999  0.94  12925.410    8.1\n",
       "2009-06-30 23:59:59.999999999  3.37  12901.504    9.2\n",
       "2009-09-30 23:59:59.999999999  3.56  12990.341    9.6\n",
       "\n",
       "[203 rows x 3 columns]"
      ],
      "text/html": "<div>\n<style scoped>\n    .dataframe tbody tr th:only-of-type {\n        vertical-align: middle;\n    }\n\n    .dataframe tbody tr th {\n        vertical-align: top;\n    }\n\n    .dataframe thead th {\n        text-align: right;\n    }\n</style>\n<table border=\"1\" class=\"dataframe\">\n  <thead>\n    <tr style=\"text-align: right;\">\n      <th>item</th>\n      <th>infl</th>\n      <th>realgdp</th>\n      <th>unemp</th>\n    </tr>\n    <tr>\n      <th>date</th>\n      <th></th>\n      <th></th>\n      <th></th>\n    </tr>\n  </thead>\n  <tbody>\n    <tr>\n      <th>1959-03-31 23:59:59.999999999</th>\n      <td>0.00</td>\n      <td>2710.349</td>\n      <td>5.8</td>\n    </tr>\n    <tr>\n      <th>1959-06-30 23:59:59.999999999</th>\n      <td>2.34</td>\n      <td>2778.801</td>\n      <td>5.1</td>\n    </tr>\n    <tr>\n      <th>1959-09-30 23:59:59.999999999</th>\n      <td>2.74</td>\n      <td>2775.488</td>\n      <td>5.3</td>\n    </tr>\n    <tr>\n      <th>1959-12-31 23:59:59.999999999</th>\n      <td>0.27</td>\n      <td>2785.204</td>\n      <td>5.6</td>\n    </tr>\n    <tr>\n      <th>1960-03-31 23:59:59.999999999</th>\n      <td>2.31</td>\n      <td>2847.699</td>\n      <td>5.2</td>\n    </tr>\n    <tr>\n      <th>...</th>\n      <td>...</td>\n      <td>...</td>\n      <td>...</td>\n    </tr>\n    <tr>\n      <th>2008-09-30 23:59:59.999999999</th>\n      <td>-3.16</td>\n      <td>13324.600</td>\n      <td>6.0</td>\n    </tr>\n    <tr>\n      <th>2008-12-31 23:59:59.999999999</th>\n      <td>-8.79</td>\n      <td>13141.920</td>\n      <td>6.9</td>\n    </tr>\n    <tr>\n      <th>2009-03-31 23:59:59.999999999</th>\n      <td>0.94</td>\n      <td>12925.410</td>\n      <td>8.1</td>\n    </tr>\n    <tr>\n      <th>2009-06-30 23:59:59.999999999</th>\n      <td>3.37</td>\n      <td>12901.504</td>\n      <td>9.2</td>\n    </tr>\n    <tr>\n      <th>2009-09-30 23:59:59.999999999</th>\n      <td>3.56</td>\n      <td>12990.341</td>\n      <td>9.6</td>\n    </tr>\n  </tbody>\n</table>\n<p>203 rows × 3 columns</p>\n</div>"
     },
     "metadata": {},
     "execution_count": 103
    }
   ],
   "source": [
    "pivoted = ldata.pivot('date','item','value')\n",
    "\n",
    "pivoted"
   ]
  },
  {
   "source": [
    "The first two values passed are the columns to be used repectively as the row and column index, then finally an optional value column to fill the DataFrame"
   ],
   "cell_type": "markdown",
   "metadata": {}
  },
  {
   "cell_type": "code",
   "execution_count": 104,
   "metadata": {},
   "outputs": [
    {
     "output_type": "execute_result",
     "data": {
      "text/plain": [
       "                           date     item     value    value2\n",
       "0 1959-03-31 23:59:59.999999999  realgdp  2710.349 -1.566442\n",
       "1 1959-03-31 23:59:59.999999999     infl     0.000 -0.212830\n",
       "2 1959-03-31 23:59:59.999999999    unemp     5.800 -0.545476\n",
       "3 1959-06-30 23:59:59.999999999  realgdp  2778.801 -0.052373\n",
       "4 1959-06-30 23:59:59.999999999     infl     2.340  0.789675\n",
       "5 1959-06-30 23:59:59.999999999    unemp     5.100 -1.250773\n",
       "6 1959-09-30 23:59:59.999999999  realgdp  2775.488 -1.355282\n",
       "7 1959-09-30 23:59:59.999999999     infl     2.740  0.394912\n",
       "8 1959-09-30 23:59:59.999999999    unemp     5.300  0.779643\n",
       "9 1959-12-31 23:59:59.999999999  realgdp  2785.204 -0.736075"
      ],
      "text/html": "<div>\n<style scoped>\n    .dataframe tbody tr th:only-of-type {\n        vertical-align: middle;\n    }\n\n    .dataframe tbody tr th {\n        vertical-align: top;\n    }\n\n    .dataframe thead th {\n        text-align: right;\n    }\n</style>\n<table border=\"1\" class=\"dataframe\">\n  <thead>\n    <tr style=\"text-align: right;\">\n      <th></th>\n      <th>date</th>\n      <th>item</th>\n      <th>value</th>\n      <th>value2</th>\n    </tr>\n  </thead>\n  <tbody>\n    <tr>\n      <th>0</th>\n      <td>1959-03-31 23:59:59.999999999</td>\n      <td>realgdp</td>\n      <td>2710.349</td>\n      <td>-1.566442</td>\n    </tr>\n    <tr>\n      <th>1</th>\n      <td>1959-03-31 23:59:59.999999999</td>\n      <td>infl</td>\n      <td>0.000</td>\n      <td>-0.212830</td>\n    </tr>\n    <tr>\n      <th>2</th>\n      <td>1959-03-31 23:59:59.999999999</td>\n      <td>unemp</td>\n      <td>5.800</td>\n      <td>-0.545476</td>\n    </tr>\n    <tr>\n      <th>3</th>\n      <td>1959-06-30 23:59:59.999999999</td>\n      <td>realgdp</td>\n      <td>2778.801</td>\n      <td>-0.052373</td>\n    </tr>\n    <tr>\n      <th>4</th>\n      <td>1959-06-30 23:59:59.999999999</td>\n      <td>infl</td>\n      <td>2.340</td>\n      <td>0.789675</td>\n    </tr>\n    <tr>\n      <th>5</th>\n      <td>1959-06-30 23:59:59.999999999</td>\n      <td>unemp</td>\n      <td>5.100</td>\n      <td>-1.250773</td>\n    </tr>\n    <tr>\n      <th>6</th>\n      <td>1959-09-30 23:59:59.999999999</td>\n      <td>realgdp</td>\n      <td>2775.488</td>\n      <td>-1.355282</td>\n    </tr>\n    <tr>\n      <th>7</th>\n      <td>1959-09-30 23:59:59.999999999</td>\n      <td>infl</td>\n      <td>2.740</td>\n      <td>0.394912</td>\n    </tr>\n    <tr>\n      <th>8</th>\n      <td>1959-09-30 23:59:59.999999999</td>\n      <td>unemp</td>\n      <td>5.300</td>\n      <td>0.779643</td>\n    </tr>\n    <tr>\n      <th>9</th>\n      <td>1959-12-31 23:59:59.999999999</td>\n      <td>realgdp</td>\n      <td>2785.204</td>\n      <td>-0.736075</td>\n    </tr>\n  </tbody>\n</table>\n</div>"
     },
     "metadata": {},
     "execution_count": 104
    }
   ],
   "source": [
    "ldata['value2'] = np.random.randn(len(ldata))\n",
    "\n",
    "ldata[:10]"
   ]
  },
  {
   "cell_type": "code",
   "execution_count": 105,
   "metadata": {},
   "outputs": [
    {
     "output_type": "execute_result",
     "data": {
      "text/plain": [
       "                              value                    value2            \\\n",
       "item                           infl   realgdp unemp      infl   realgdp   \n",
       "date                                                                      \n",
       "1959-03-31 23:59:59.999999999  0.00  2710.349   5.8 -0.212830 -1.566442   \n",
       "1959-06-30 23:59:59.999999999  2.34  2778.801   5.1  0.789675 -0.052373   \n",
       "1959-09-30 23:59:59.999999999  2.74  2775.488   5.3  0.394912 -1.355282   \n",
       "1959-12-31 23:59:59.999999999  0.27  2785.204   5.6  1.798838 -0.736075   \n",
       "1960-03-31 23:59:59.999999999  2.31  2847.699   5.2 -0.407313  1.508401   \n",
       "\n",
       "                                         \n",
       "item                              unemp  \n",
       "date                                     \n",
       "1959-03-31 23:59:59.999999999 -0.545476  \n",
       "1959-06-30 23:59:59.999999999 -1.250773  \n",
       "1959-09-30 23:59:59.999999999  0.779643  \n",
       "1959-12-31 23:59:59.999999999  0.522441  \n",
       "1960-03-31 23:59:59.999999999  2.337937  "
      ],
      "text/html": "<div>\n<style scoped>\n    .dataframe tbody tr th:only-of-type {\n        vertical-align: middle;\n    }\n\n    .dataframe tbody tr th {\n        vertical-align: top;\n    }\n\n    .dataframe thead tr th {\n        text-align: left;\n    }\n\n    .dataframe thead tr:last-of-type th {\n        text-align: right;\n    }\n</style>\n<table border=\"1\" class=\"dataframe\">\n  <thead>\n    <tr>\n      <th></th>\n      <th colspan=\"3\" halign=\"left\">value</th>\n      <th colspan=\"3\" halign=\"left\">value2</th>\n    </tr>\n    <tr>\n      <th>item</th>\n      <th>infl</th>\n      <th>realgdp</th>\n      <th>unemp</th>\n      <th>infl</th>\n      <th>realgdp</th>\n      <th>unemp</th>\n    </tr>\n    <tr>\n      <th>date</th>\n      <th></th>\n      <th></th>\n      <th></th>\n      <th></th>\n      <th></th>\n      <th></th>\n    </tr>\n  </thead>\n  <tbody>\n    <tr>\n      <th>1959-03-31 23:59:59.999999999</th>\n      <td>0.00</td>\n      <td>2710.349</td>\n      <td>5.8</td>\n      <td>-0.212830</td>\n      <td>-1.566442</td>\n      <td>-0.545476</td>\n    </tr>\n    <tr>\n      <th>1959-06-30 23:59:59.999999999</th>\n      <td>2.34</td>\n      <td>2778.801</td>\n      <td>5.1</td>\n      <td>0.789675</td>\n      <td>-0.052373</td>\n      <td>-1.250773</td>\n    </tr>\n    <tr>\n      <th>1959-09-30 23:59:59.999999999</th>\n      <td>2.74</td>\n      <td>2775.488</td>\n      <td>5.3</td>\n      <td>0.394912</td>\n      <td>-1.355282</td>\n      <td>0.779643</td>\n    </tr>\n    <tr>\n      <th>1959-12-31 23:59:59.999999999</th>\n      <td>0.27</td>\n      <td>2785.204</td>\n      <td>5.6</td>\n      <td>1.798838</td>\n      <td>-0.736075</td>\n      <td>0.522441</td>\n    </tr>\n    <tr>\n      <th>1960-03-31 23:59:59.999999999</th>\n      <td>2.31</td>\n      <td>2847.699</td>\n      <td>5.2</td>\n      <td>-0.407313</td>\n      <td>1.508401</td>\n      <td>2.337937</td>\n    </tr>\n  </tbody>\n</table>\n</div>"
     },
     "metadata": {},
     "execution_count": 105
    }
   ],
   "source": [
    "pivoted = ldata.pivot('date','item')\n",
    "\n",
    "pivoted[:5]"
   ]
  },
  {
   "cell_type": "code",
   "execution_count": 106,
   "metadata": {},
   "outputs": [
    {
     "output_type": "execute_result",
     "data": {
      "text/plain": [
       "item                           infl   realgdp  unemp\n",
       "date                                                \n",
       "1959-03-31 23:59:59.999999999  0.00  2710.349    5.8\n",
       "1959-06-30 23:59:59.999999999  2.34  2778.801    5.1\n",
       "1959-09-30 23:59:59.999999999  2.74  2775.488    5.3\n",
       "1959-12-31 23:59:59.999999999  0.27  2785.204    5.6\n",
       "1960-03-31 23:59:59.999999999  2.31  2847.699    5.2"
      ],
      "text/html": "<div>\n<style scoped>\n    .dataframe tbody tr th:only-of-type {\n        vertical-align: middle;\n    }\n\n    .dataframe tbody tr th {\n        vertical-align: top;\n    }\n\n    .dataframe thead th {\n        text-align: right;\n    }\n</style>\n<table border=\"1\" class=\"dataframe\">\n  <thead>\n    <tr style=\"text-align: right;\">\n      <th>item</th>\n      <th>infl</th>\n      <th>realgdp</th>\n      <th>unemp</th>\n    </tr>\n    <tr>\n      <th>date</th>\n      <th></th>\n      <th></th>\n      <th></th>\n    </tr>\n  </thead>\n  <tbody>\n    <tr>\n      <th>1959-03-31 23:59:59.999999999</th>\n      <td>0.00</td>\n      <td>2710.349</td>\n      <td>5.8</td>\n    </tr>\n    <tr>\n      <th>1959-06-30 23:59:59.999999999</th>\n      <td>2.34</td>\n      <td>2778.801</td>\n      <td>5.1</td>\n    </tr>\n    <tr>\n      <th>1959-09-30 23:59:59.999999999</th>\n      <td>2.74</td>\n      <td>2775.488</td>\n      <td>5.3</td>\n    </tr>\n    <tr>\n      <th>1959-12-31 23:59:59.999999999</th>\n      <td>0.27</td>\n      <td>2785.204</td>\n      <td>5.6</td>\n    </tr>\n    <tr>\n      <th>1960-03-31 23:59:59.999999999</th>\n      <td>2.31</td>\n      <td>2847.699</td>\n      <td>5.2</td>\n    </tr>\n  </tbody>\n</table>\n</div>"
     },
     "metadata": {},
     "execution_count": 106
    }
   ],
   "source": [
    "pivoted['value'][:5]"
   ]
  },
  {
   "cell_type": "code",
   "execution_count": 107,
   "metadata": {},
   "outputs": [
    {
     "output_type": "execute_result",
     "data": {
      "text/plain": [
       "                              value                    value2            \\\n",
       "item                           infl   realgdp unemp      infl   realgdp   \n",
       "date                                                                      \n",
       "1959-03-31 23:59:59.999999999  0.00  2710.349   5.8 -0.212830 -1.566442   \n",
       "1959-06-30 23:59:59.999999999  2.34  2778.801   5.1  0.789675 -0.052373   \n",
       "1959-09-30 23:59:59.999999999  2.74  2775.488   5.3  0.394912 -1.355282   \n",
       "1959-12-31 23:59:59.999999999  0.27  2785.204   5.6  1.798838 -0.736075   \n",
       "1960-03-31 23:59:59.999999999  2.31  2847.699   5.2 -0.407313  1.508401   \n",
       "1960-06-30 23:59:59.999999999  0.14  2834.390   5.2  0.719097 -0.169828   \n",
       "1960-09-30 23:59:59.999999999  2.70  2839.022   5.6 -0.514430  0.960690   \n",
       "1960-12-31 23:59:59.999999999  1.21  2802.616   6.3 -0.387225 -1.188769   \n",
       "\n",
       "                                         \n",
       "item                              unemp  \n",
       "date                                     \n",
       "1959-03-31 23:59:59.999999999 -0.545476  \n",
       "1959-06-30 23:59:59.999999999 -1.250773  \n",
       "1959-09-30 23:59:59.999999999  0.779643  \n",
       "1959-12-31 23:59:59.999999999  0.522441  \n",
       "1960-03-31 23:59:59.999999999  2.337937  \n",
       "1960-06-30 23:59:59.999999999  0.096867  \n",
       "1960-09-30 23:59:59.999999999 -1.452672  \n",
       "1960-12-31 23:59:59.999999999  0.084791  "
      ],
      "text/html": "<div>\n<style scoped>\n    .dataframe tbody tr th:only-of-type {\n        vertical-align: middle;\n    }\n\n    .dataframe tbody tr th {\n        vertical-align: top;\n    }\n\n    .dataframe thead tr th {\n        text-align: left;\n    }\n\n    .dataframe thead tr:last-of-type th {\n        text-align: right;\n    }\n</style>\n<table border=\"1\" class=\"dataframe\">\n  <thead>\n    <tr>\n      <th></th>\n      <th colspan=\"3\" halign=\"left\">value</th>\n      <th colspan=\"3\" halign=\"left\">value2</th>\n    </tr>\n    <tr>\n      <th>item</th>\n      <th>infl</th>\n      <th>realgdp</th>\n      <th>unemp</th>\n      <th>infl</th>\n      <th>realgdp</th>\n      <th>unemp</th>\n    </tr>\n    <tr>\n      <th>date</th>\n      <th></th>\n      <th></th>\n      <th></th>\n      <th></th>\n      <th></th>\n      <th></th>\n    </tr>\n  </thead>\n  <tbody>\n    <tr>\n      <th>1959-03-31 23:59:59.999999999</th>\n      <td>0.00</td>\n      <td>2710.349</td>\n      <td>5.8</td>\n      <td>-0.212830</td>\n      <td>-1.566442</td>\n      <td>-0.545476</td>\n    </tr>\n    <tr>\n      <th>1959-06-30 23:59:59.999999999</th>\n      <td>2.34</td>\n      <td>2778.801</td>\n      <td>5.1</td>\n      <td>0.789675</td>\n      <td>-0.052373</td>\n      <td>-1.250773</td>\n    </tr>\n    <tr>\n      <th>1959-09-30 23:59:59.999999999</th>\n      <td>2.74</td>\n      <td>2775.488</td>\n      <td>5.3</td>\n      <td>0.394912</td>\n      <td>-1.355282</td>\n      <td>0.779643</td>\n    </tr>\n    <tr>\n      <th>1959-12-31 23:59:59.999999999</th>\n      <td>0.27</td>\n      <td>2785.204</td>\n      <td>5.6</td>\n      <td>1.798838</td>\n      <td>-0.736075</td>\n      <td>0.522441</td>\n    </tr>\n    <tr>\n      <th>1960-03-31 23:59:59.999999999</th>\n      <td>2.31</td>\n      <td>2847.699</td>\n      <td>5.2</td>\n      <td>-0.407313</td>\n      <td>1.508401</td>\n      <td>2.337937</td>\n    </tr>\n    <tr>\n      <th>1960-06-30 23:59:59.999999999</th>\n      <td>0.14</td>\n      <td>2834.390</td>\n      <td>5.2</td>\n      <td>0.719097</td>\n      <td>-0.169828</td>\n      <td>0.096867</td>\n    </tr>\n    <tr>\n      <th>1960-09-30 23:59:59.999999999</th>\n      <td>2.70</td>\n      <td>2839.022</td>\n      <td>5.6</td>\n      <td>-0.514430</td>\n      <td>0.960690</td>\n      <td>-1.452672</td>\n    </tr>\n    <tr>\n      <th>1960-12-31 23:59:59.999999999</th>\n      <td>1.21</td>\n      <td>2802.616</td>\n      <td>6.3</td>\n      <td>-0.387225</td>\n      <td>-1.188769</td>\n      <td>0.084791</td>\n    </tr>\n  </tbody>\n</table>\n</div>"
     },
     "metadata": {},
     "execution_count": 107
    }
   ],
   "source": [
    "# pivot is equivalent to creating a hierarchical index using set_index folowed by a call to unstack\n",
    "\n",
    "unstacked = ldata.set_index(['date','item']).unstack('item')\n",
    "\n",
    "unstacked[:8]"
   ]
  },
  {
   "source": [
    "### Pivoting \"wide\" to \"long\" format\n",
    "\n",
    "An inverse operation to `pivot` for DataFrames is `pandas.melt`. Rather than transforming one column into many in a new DataFrame, it merges multiple columns into one, producing a DataFrame that is longer than the input"
   ],
   "cell_type": "markdown",
   "metadata": {}
  },
  {
   "cell_type": "code",
   "execution_count": 108,
   "metadata": {},
   "outputs": [
    {
     "output_type": "execute_result",
     "data": {
      "text/plain": [
       "   key  A  B  C\n",
       "0  foo  1  4  7\n",
       "1  bar  2  5  8\n",
       "2  baz  3  6  9"
      ],
      "text/html": "<div>\n<style scoped>\n    .dataframe tbody tr th:only-of-type {\n        vertical-align: middle;\n    }\n\n    .dataframe tbody tr th {\n        vertical-align: top;\n    }\n\n    .dataframe thead th {\n        text-align: right;\n    }\n</style>\n<table border=\"1\" class=\"dataframe\">\n  <thead>\n    <tr style=\"text-align: right;\">\n      <th></th>\n      <th>key</th>\n      <th>A</th>\n      <th>B</th>\n      <th>C</th>\n    </tr>\n  </thead>\n  <tbody>\n    <tr>\n      <th>0</th>\n      <td>foo</td>\n      <td>1</td>\n      <td>4</td>\n      <td>7</td>\n    </tr>\n    <tr>\n      <th>1</th>\n      <td>bar</td>\n      <td>2</td>\n      <td>5</td>\n      <td>8</td>\n    </tr>\n    <tr>\n      <th>2</th>\n      <td>baz</td>\n      <td>3</td>\n      <td>6</td>\n      <td>9</td>\n    </tr>\n  </tbody>\n</table>\n</div>"
     },
     "metadata": {},
     "execution_count": 108
    }
   ],
   "source": [
    "df = pd.DataFrame({'key':['foo','bar','baz'], \n",
    "'A':[1,2,3],\n",
    "'B':[4,5,6],\n",
    "'C':[7,8,9]})\n",
    "\n",
    "df"
   ]
  },
  {
   "source": [
    "The `key` column may be a group indicator, and the other columns are data values. When using `pandas.melt`, we must indicate which columns are group indicators."
   ],
   "cell_type": "markdown",
   "metadata": {}
  },
  {
   "cell_type": "code",
   "execution_count": 109,
   "metadata": {},
   "outputs": [
    {
     "output_type": "execute_result",
     "data": {
      "text/plain": [
       "   key variable  value\n",
       "0  foo        A      1\n",
       "1  bar        A      2\n",
       "2  baz        A      3\n",
       "3  foo        B      4\n",
       "4  bar        B      5\n",
       "5  baz        B      6\n",
       "6  foo        C      7\n",
       "7  bar        C      8\n",
       "8  baz        C      9"
      ],
      "text/html": "<div>\n<style scoped>\n    .dataframe tbody tr th:only-of-type {\n        vertical-align: middle;\n    }\n\n    .dataframe tbody tr th {\n        vertical-align: top;\n    }\n\n    .dataframe thead th {\n        text-align: right;\n    }\n</style>\n<table border=\"1\" class=\"dataframe\">\n  <thead>\n    <tr style=\"text-align: right;\">\n      <th></th>\n      <th>key</th>\n      <th>variable</th>\n      <th>value</th>\n    </tr>\n  </thead>\n  <tbody>\n    <tr>\n      <th>0</th>\n      <td>foo</td>\n      <td>A</td>\n      <td>1</td>\n    </tr>\n    <tr>\n      <th>1</th>\n      <td>bar</td>\n      <td>A</td>\n      <td>2</td>\n    </tr>\n    <tr>\n      <th>2</th>\n      <td>baz</td>\n      <td>A</td>\n      <td>3</td>\n    </tr>\n    <tr>\n      <th>3</th>\n      <td>foo</td>\n      <td>B</td>\n      <td>4</td>\n    </tr>\n    <tr>\n      <th>4</th>\n      <td>bar</td>\n      <td>B</td>\n      <td>5</td>\n    </tr>\n    <tr>\n      <th>5</th>\n      <td>baz</td>\n      <td>B</td>\n      <td>6</td>\n    </tr>\n    <tr>\n      <th>6</th>\n      <td>foo</td>\n      <td>C</td>\n      <td>7</td>\n    </tr>\n    <tr>\n      <th>7</th>\n      <td>bar</td>\n      <td>C</td>\n      <td>8</td>\n    </tr>\n    <tr>\n      <th>8</th>\n      <td>baz</td>\n      <td>C</td>\n      <td>9</td>\n    </tr>\n  </tbody>\n</table>\n</div>"
     },
     "metadata": {},
     "execution_count": 109
    }
   ],
   "source": [
    "melted = pd.melt(df,['key'])\n",
    "\n",
    "melted"
   ]
  },
  {
   "cell_type": "code",
   "execution_count": 110,
   "metadata": {},
   "outputs": [
    {
     "output_type": "execute_result",
     "data": {
      "text/plain": [
       "variable  A  B  C\n",
       "key              \n",
       "bar       2  5  8\n",
       "baz       3  6  9\n",
       "foo       1  4  7"
      ],
      "text/html": "<div>\n<style scoped>\n    .dataframe tbody tr th:only-of-type {\n        vertical-align: middle;\n    }\n\n    .dataframe tbody tr th {\n        vertical-align: top;\n    }\n\n    .dataframe thead th {\n        text-align: right;\n    }\n</style>\n<table border=\"1\" class=\"dataframe\">\n  <thead>\n    <tr style=\"text-align: right;\">\n      <th>variable</th>\n      <th>A</th>\n      <th>B</th>\n      <th>C</th>\n    </tr>\n    <tr>\n      <th>key</th>\n      <th></th>\n      <th></th>\n      <th></th>\n    </tr>\n  </thead>\n  <tbody>\n    <tr>\n      <th>bar</th>\n      <td>2</td>\n      <td>5</td>\n      <td>8</td>\n    </tr>\n    <tr>\n      <th>baz</th>\n      <td>3</td>\n      <td>6</td>\n      <td>9</td>\n    </tr>\n    <tr>\n      <th>foo</th>\n      <td>1</td>\n      <td>4</td>\n      <td>7</td>\n    </tr>\n  </tbody>\n</table>\n</div>"
     },
     "metadata": {},
     "execution_count": 110
    }
   ],
   "source": [
    "# Using pivot, we can reshape back to the original layout.\n",
    "\n",
    "reshaped = melted.pivot('key','variable','value')\n",
    "\n",
    "reshaped"
   ]
  },
  {
   "cell_type": "code",
   "execution_count": 111,
   "metadata": {},
   "outputs": [
    {
     "output_type": "execute_result",
     "data": {
      "text/plain": [
       "variable  key  A  B  C\n",
       "0         bar  2  5  8\n",
       "1         baz  3  6  9\n",
       "2         foo  1  4  7"
      ],
      "text/html": "<div>\n<style scoped>\n    .dataframe tbody tr th:only-of-type {\n        vertical-align: middle;\n    }\n\n    .dataframe tbody tr th {\n        vertical-align: top;\n    }\n\n    .dataframe thead th {\n        text-align: right;\n    }\n</style>\n<table border=\"1\" class=\"dataframe\">\n  <thead>\n    <tr style=\"text-align: right;\">\n      <th>variable</th>\n      <th>key</th>\n      <th>A</th>\n      <th>B</th>\n      <th>C</th>\n    </tr>\n  </thead>\n  <tbody>\n    <tr>\n      <th>0</th>\n      <td>bar</td>\n      <td>2</td>\n      <td>5</td>\n      <td>8</td>\n    </tr>\n    <tr>\n      <th>1</th>\n      <td>baz</td>\n      <td>3</td>\n      <td>6</td>\n      <td>9</td>\n    </tr>\n    <tr>\n      <th>2</th>\n      <td>foo</td>\n      <td>1</td>\n      <td>4</td>\n      <td>7</td>\n    </tr>\n  </tbody>\n</table>\n</div>"
     },
     "metadata": {},
     "execution_count": 111
    }
   ],
   "source": [
    "# Since the result of `pivot creates an index from the column used as the row labels, we may want to use reset_index to move the data back into a column\n",
    "\n",
    "reshaped.reset_index()"
   ]
  },
  {
   "cell_type": "code",
   "execution_count": 112,
   "metadata": {},
   "outputs": [
    {
     "output_type": "execute_result",
     "data": {
      "text/plain": [
       "   key variable  value\n",
       "0  foo        A      1\n",
       "1  bar        A      2\n",
       "2  baz        A      3\n",
       "3  foo        B      4\n",
       "4  bar        B      5\n",
       "5  baz        B      6"
      ],
      "text/html": "<div>\n<style scoped>\n    .dataframe tbody tr th:only-of-type {\n        vertical-align: middle;\n    }\n\n    .dataframe tbody tr th {\n        vertical-align: top;\n    }\n\n    .dataframe thead th {\n        text-align: right;\n    }\n</style>\n<table border=\"1\" class=\"dataframe\">\n  <thead>\n    <tr style=\"text-align: right;\">\n      <th></th>\n      <th>key</th>\n      <th>variable</th>\n      <th>value</th>\n    </tr>\n  </thead>\n  <tbody>\n    <tr>\n      <th>0</th>\n      <td>foo</td>\n      <td>A</td>\n      <td>1</td>\n    </tr>\n    <tr>\n      <th>1</th>\n      <td>bar</td>\n      <td>A</td>\n      <td>2</td>\n    </tr>\n    <tr>\n      <th>2</th>\n      <td>baz</td>\n      <td>A</td>\n      <td>3</td>\n    </tr>\n    <tr>\n      <th>3</th>\n      <td>foo</td>\n      <td>B</td>\n      <td>4</td>\n    </tr>\n    <tr>\n      <th>4</th>\n      <td>bar</td>\n      <td>B</td>\n      <td>5</td>\n    </tr>\n    <tr>\n      <th>5</th>\n      <td>baz</td>\n      <td>B</td>\n      <td>6</td>\n    </tr>\n  </tbody>\n</table>\n</div>"
     },
     "metadata": {},
     "execution_count": 112
    }
   ],
   "source": [
    "# Specify a subset of columns to use as value columns.\n",
    "\n",
    "pd.melt(df, id_vars = ['key'], value_vars = ['A','B'])"
   ]
  },
  {
   "cell_type": "code",
   "execution_count": 113,
   "metadata": {},
   "outputs": [
    {
     "output_type": "execute_result",
     "data": {
      "text/plain": [
       "  variable  value\n",
       "0        A      1\n",
       "1        A      2\n",
       "2        A      3\n",
       "3        B      4\n",
       "4        B      5\n",
       "5        B      6\n",
       "6        C      7\n",
       "7        C      8\n",
       "8        C      9"
      ],
      "text/html": "<div>\n<style scoped>\n    .dataframe tbody tr th:only-of-type {\n        vertical-align: middle;\n    }\n\n    .dataframe tbody tr th {\n        vertical-align: top;\n    }\n\n    .dataframe thead th {\n        text-align: right;\n    }\n</style>\n<table border=\"1\" class=\"dataframe\">\n  <thead>\n    <tr style=\"text-align: right;\">\n      <th></th>\n      <th>variable</th>\n      <th>value</th>\n    </tr>\n  </thead>\n  <tbody>\n    <tr>\n      <th>0</th>\n      <td>A</td>\n      <td>1</td>\n    </tr>\n    <tr>\n      <th>1</th>\n      <td>A</td>\n      <td>2</td>\n    </tr>\n    <tr>\n      <th>2</th>\n      <td>A</td>\n      <td>3</td>\n    </tr>\n    <tr>\n      <th>3</th>\n      <td>B</td>\n      <td>4</td>\n    </tr>\n    <tr>\n      <th>4</th>\n      <td>B</td>\n      <td>5</td>\n    </tr>\n    <tr>\n      <th>5</th>\n      <td>B</td>\n      <td>6</td>\n    </tr>\n    <tr>\n      <th>6</th>\n      <td>C</td>\n      <td>7</td>\n    </tr>\n    <tr>\n      <th>7</th>\n      <td>C</td>\n      <td>8</td>\n    </tr>\n    <tr>\n      <th>8</th>\n      <td>C</td>\n      <td>9</td>\n    </tr>\n  </tbody>\n</table>\n</div>"
     },
     "metadata": {},
     "execution_count": 113
    }
   ],
   "source": [
    "# Can be used without any group identifiers.\n",
    "\n",
    "pd.melt(df, value_vars = ['A','B','C'])"
   ]
  },
  {
   "cell_type": "code",
   "execution_count": 114,
   "metadata": {},
   "outputs": [
    {
     "output_type": "execute_result",
     "data": {
      "text/plain": [
       "  variable value\n",
       "0      key   foo\n",
       "1      key   bar\n",
       "2      key   baz\n",
       "3        A     1\n",
       "4        A     2\n",
       "5        A     3\n",
       "6        B     4\n",
       "7        B     5\n",
       "8        B     6"
      ],
      "text/html": "<div>\n<style scoped>\n    .dataframe tbody tr th:only-of-type {\n        vertical-align: middle;\n    }\n\n    .dataframe tbody tr th {\n        vertical-align: top;\n    }\n\n    .dataframe thead th {\n        text-align: right;\n    }\n</style>\n<table border=\"1\" class=\"dataframe\">\n  <thead>\n    <tr style=\"text-align: right;\">\n      <th></th>\n      <th>variable</th>\n      <th>value</th>\n    </tr>\n  </thead>\n  <tbody>\n    <tr>\n      <th>0</th>\n      <td>key</td>\n      <td>foo</td>\n    </tr>\n    <tr>\n      <th>1</th>\n      <td>key</td>\n      <td>bar</td>\n    </tr>\n    <tr>\n      <th>2</th>\n      <td>key</td>\n      <td>baz</td>\n    </tr>\n    <tr>\n      <th>3</th>\n      <td>A</td>\n      <td>1</td>\n    </tr>\n    <tr>\n      <th>4</th>\n      <td>A</td>\n      <td>2</td>\n    </tr>\n    <tr>\n      <th>5</th>\n      <td>A</td>\n      <td>3</td>\n    </tr>\n    <tr>\n      <th>6</th>\n      <td>B</td>\n      <td>4</td>\n    </tr>\n    <tr>\n      <th>7</th>\n      <td>B</td>\n      <td>5</td>\n    </tr>\n    <tr>\n      <th>8</th>\n      <td>B</td>\n      <td>6</td>\n    </tr>\n  </tbody>\n</table>\n</div>"
     },
     "metadata": {},
     "execution_count": 114
    }
   ],
   "source": [
    "pd.melt(df, value_vars = ['key','A','B'])"
   ]
  },
  {
   "source": [
    "## Data Aggregation and Group Operations\n",
    "\n",
    "Categorizing a dataset and applying a function to each group, whether an aggregation or transformation, is often a critical component of a data analysis workflow. After loading, merging, and preparing a dataset, you may need to compute group statistics or possibly *pivot tables* for reporting or visualization purposes. pandas provides a flexible `groupby` interface, enabling you to slice, dice, and summarize datasets in a natural way.\n",
    "\n",
    "###GroupBy mechanics\n",
    "\n",
    "The splitting is performed on a particular axis of an object. \n",
    "![alt text here](images/groupby.jpg)\n",
    "Each grouping key can take many forms, and the keys do not have to be all the same type:\n",
    "* A list or array of values that is the same length as the axis being grouped.\n",
    "* A value indicating a column name in a DataFrame.\n",
    "* A dict or Series giving a correspondence between the values on the axis being grouped and the group names.\n",
    "A function to be invoked on the axis index or the individual labels in the index.\n",
    "\n",
    "Note that the latter three methods are shortcuts for producing an array of values to be used to split up the object.\n",
    "\n",
    "\n"
   ],
   "cell_type": "markdown",
   "metadata": {}
  },
  {
   "cell_type": "code",
   "execution_count": 115,
   "metadata": {},
   "outputs": [
    {
     "output_type": "execute_result",
     "data": {
      "text/plain": [
       "  key1 key2     data1     data2\n",
       "0    a  one -0.248845  1.253614\n",
       "1    b  two -0.305055  0.862469\n",
       "2    a  one  0.592339  0.843221\n",
       "3    b  two -2.006196 -0.249327\n",
       "4    a  one -1.421291  0.486239"
      ],
      "text/html": "<div>\n<style scoped>\n    .dataframe tbody tr th:only-of-type {\n        vertical-align: middle;\n    }\n\n    .dataframe tbody tr th {\n        vertical-align: top;\n    }\n\n    .dataframe thead th {\n        text-align: right;\n    }\n</style>\n<table border=\"1\" class=\"dataframe\">\n  <thead>\n    <tr style=\"text-align: right;\">\n      <th></th>\n      <th>key1</th>\n      <th>key2</th>\n      <th>data1</th>\n      <th>data2</th>\n    </tr>\n  </thead>\n  <tbody>\n    <tr>\n      <th>0</th>\n      <td>a</td>\n      <td>one</td>\n      <td>-0.248845</td>\n      <td>1.253614</td>\n    </tr>\n    <tr>\n      <th>1</th>\n      <td>b</td>\n      <td>two</td>\n      <td>-0.305055</td>\n      <td>0.862469</td>\n    </tr>\n    <tr>\n      <th>2</th>\n      <td>a</td>\n      <td>one</td>\n      <td>0.592339</td>\n      <td>0.843221</td>\n    </tr>\n    <tr>\n      <th>3</th>\n      <td>b</td>\n      <td>two</td>\n      <td>-2.006196</td>\n      <td>-0.249327</td>\n    </tr>\n    <tr>\n      <th>4</th>\n      <td>a</td>\n      <td>one</td>\n      <td>-1.421291</td>\n      <td>0.486239</td>\n    </tr>\n  </tbody>\n</table>\n</div>"
     },
     "metadata": {},
     "execution_count": 115
    }
   ],
   "source": [
    "df = pd.DataFrame({'key1':['a','b','a','b','a'],\n",
    "'key2':['one','two','one','two','one'],\n",
    "'data1': np.random.randn(5),\n",
    "'data2': np.random.randn(5)})\n",
    "\n",
    "df"
   ]
  },
  {
   "cell_type": "code",
   "execution_count": 116,
   "metadata": {},
   "outputs": [
    {
     "output_type": "execute_result",
     "data": {
      "text/plain": [
       "<pandas.core.groupby.generic.SeriesGroupBy object at 0x000001DBAD2D73A0>"
      ]
     },
     "metadata": {},
     "execution_count": 116
    }
   ],
   "source": [
    "grouped = df['data1'].groupby(df['key1'])\n",
    "\n",
    "grouped"
   ]
  },
  {
   "source": [
    "This `grouped` variable is now a *GroupBy* object. It has not actually computed anything yet except for some intermediate data about the group key `df['key1']`. The idea is that this object has all of the information needed to then apply some operation to each of the groups."
   ],
   "cell_type": "markdown",
   "metadata": {}
  },
  {
   "cell_type": "code",
   "execution_count": 117,
   "metadata": {},
   "outputs": [
    {
     "output_type": "execute_result",
     "data": {
      "text/plain": [
       "key1\n",
       "a   -0.359266\n",
       "b   -1.155625\n",
       "Name: data1, dtype: float64"
      ]
     },
     "metadata": {},
     "execution_count": 117
    }
   ],
   "source": [
    "grouped.mean()"
   ]
  },
  {
   "cell_type": "code",
   "execution_count": 118,
   "metadata": {},
   "outputs": [],
   "source": [
    "means = df['data1'].groupby([df['key1'], df['key2']]).mean()"
   ]
  },
  {
   "cell_type": "code",
   "execution_count": 119,
   "metadata": {},
   "outputs": [
    {
     "output_type": "execute_result",
     "data": {
      "text/plain": [
       "key1  key2\n",
       "a     one    -0.359266\n",
       "b     two    -1.155625\n",
       "Name: data1, dtype: float64"
      ]
     },
     "metadata": {},
     "execution_count": 119
    }
   ],
   "source": [
    "means"
   ]
  },
  {
   "cell_type": "code",
   "execution_count": 120,
   "metadata": {},
   "outputs": [
    {
     "output_type": "execute_result",
     "data": {
      "text/plain": [
       "key2       one       two\n",
       "key1                    \n",
       "a    -0.359266       NaN\n",
       "b          NaN -1.155625"
      ],
      "text/html": "<div>\n<style scoped>\n    .dataframe tbody tr th:only-of-type {\n        vertical-align: middle;\n    }\n\n    .dataframe tbody tr th {\n        vertical-align: top;\n    }\n\n    .dataframe thead th {\n        text-align: right;\n    }\n</style>\n<table border=\"1\" class=\"dataframe\">\n  <thead>\n    <tr style=\"text-align: right;\">\n      <th>key2</th>\n      <th>one</th>\n      <th>two</th>\n    </tr>\n    <tr>\n      <th>key1</th>\n      <th></th>\n      <th></th>\n    </tr>\n  </thead>\n  <tbody>\n    <tr>\n      <th>a</th>\n      <td>-0.359266</td>\n      <td>NaN</td>\n    </tr>\n    <tr>\n      <th>b</th>\n      <td>NaN</td>\n      <td>-1.155625</td>\n    </tr>\n  </tbody>\n</table>\n</div>"
     },
     "metadata": {},
     "execution_count": 120
    }
   ],
   "source": [
    "means.unstack()"
   ]
  },
  {
   "cell_type": "code",
   "execution_count": 121,
   "metadata": {},
   "outputs": [
    {
     "output_type": "execute_result",
     "data": {
      "text/plain": [
       "California  2005    0.592339\n",
       "            2007   -0.305055\n",
       "Ohio        2005   -0.248845\n",
       "            2007   -1.713744\n",
       "Name: data1, dtype: float64"
      ]
     },
     "metadata": {},
     "execution_count": 121
    }
   ],
   "source": [
    "# The group keys are all Series, though they could be any arrays of the right length:\n",
    "\n",
    "states = np.array(['Ohio','California','California','Ohio','Ohio'])\n",
    "\n",
    "years = np.array([2005, 2007, 2005, 2007, 2007])\n",
    "\n",
    "df['data1'].groupby([states, years]).mean()"
   ]
  },
  {
   "cell_type": "code",
   "execution_count": 122,
   "metadata": {},
   "outputs": [
    {
     "output_type": "execute_result",
     "data": {
      "text/plain": [
       "         data1     data2\n",
       "key1                    \n",
       "a    -0.359266  0.861025\n",
       "b    -1.155625  0.306571"
      ],
      "text/html": "<div>\n<style scoped>\n    .dataframe tbody tr th:only-of-type {\n        vertical-align: middle;\n    }\n\n    .dataframe tbody tr th {\n        vertical-align: top;\n    }\n\n    .dataframe thead th {\n        text-align: right;\n    }\n</style>\n<table border=\"1\" class=\"dataframe\">\n  <thead>\n    <tr style=\"text-align: right;\">\n      <th></th>\n      <th>data1</th>\n      <th>data2</th>\n    </tr>\n    <tr>\n      <th>key1</th>\n      <th></th>\n      <th></th>\n    </tr>\n  </thead>\n  <tbody>\n    <tr>\n      <th>a</th>\n      <td>-0.359266</td>\n      <td>0.861025</td>\n    </tr>\n    <tr>\n      <th>b</th>\n      <td>-1.155625</td>\n      <td>0.306571</td>\n    </tr>\n  </tbody>\n</table>\n</div>"
     },
     "metadata": {},
     "execution_count": 122
    }
   ],
   "source": [
    "df.groupby('key1').mean()"
   ]
  },
  {
   "cell_type": "code",
   "execution_count": 123,
   "metadata": {},
   "outputs": [
    {
     "output_type": "execute_result",
     "data": {
      "text/plain": [
       "              data1     data2\n",
       "key1 key2                    \n",
       "a    one  -0.359266  0.861025\n",
       "b    two  -1.155625  0.306571"
      ],
      "text/html": "<div>\n<style scoped>\n    .dataframe tbody tr th:only-of-type {\n        vertical-align: middle;\n    }\n\n    .dataframe tbody tr th {\n        vertical-align: top;\n    }\n\n    .dataframe thead th {\n        text-align: right;\n    }\n</style>\n<table border=\"1\" class=\"dataframe\">\n  <thead>\n    <tr style=\"text-align: right;\">\n      <th></th>\n      <th></th>\n      <th>data1</th>\n      <th>data2</th>\n    </tr>\n    <tr>\n      <th>key1</th>\n      <th>key2</th>\n      <th></th>\n      <th></th>\n    </tr>\n  </thead>\n  <tbody>\n    <tr>\n      <th>a</th>\n      <th>one</th>\n      <td>-0.359266</td>\n      <td>0.861025</td>\n    </tr>\n    <tr>\n      <th>b</th>\n      <th>two</th>\n      <td>-1.155625</td>\n      <td>0.306571</td>\n    </tr>\n  </tbody>\n</table>\n</div>"
     },
     "metadata": {},
     "execution_count": 123
    }
   ],
   "source": [
    "df.groupby(['key1','key2']).mean()"
   ]
  },
  {
   "source": [
    "In the first case `df.gropby('key1').mean()` that there is no `key2` column in the result. Because `df['key2']` is not numeric data, it is said to be a *nuisance* column, which is therefore excluded from the result."
   ],
   "cell_type": "markdown",
   "metadata": {}
  },
  {
   "cell_type": "code",
   "execution_count": 124,
   "metadata": {},
   "outputs": [
    {
     "output_type": "execute_result",
     "data": {
      "text/plain": [
       "key1  key2\n",
       "a     one     3\n",
       "b     two     2\n",
       "dtype: int64"
      ]
     },
     "metadata": {},
     "execution_count": 124
    }
   ],
   "source": [
    "df.groupby(['key1','key2']).size()"
   ]
  },
  {
   "source": [
    "### Iterating over groups"
   ],
   "cell_type": "markdown",
   "metadata": {}
  },
  {
   "cell_type": "code",
   "execution_count": 125,
   "metadata": {},
   "outputs": [
    {
     "output_type": "stream",
     "name": "stdout",
     "text": [
      "a\n  key1 key2     data1     data2\n0    a  one -0.248845  1.253614\n2    a  one  0.592339  0.843221\n4    a  one -1.421291  0.486239\nb\n  key1 key2     data1     data2\n1    b  two -0.305055  0.862469\n3    b  two -2.006196 -0.249327\n"
     ]
    }
   ],
   "source": [
    "for name, group in df.groupby('key1'):\n",
    "    print(name)\n",
    "    print(group)"
   ]
  },
  {
   "cell_type": "code",
   "execution_count": 126,
   "metadata": {},
   "outputs": [
    {
     "output_type": "stream",
     "name": "stdout",
     "text": [
      "('a', 'one')\n  key1 key2     data1     data2\n0    a  one -0.248845  1.253614\n2    a  one  0.592339  0.843221\n4    a  one -1.421291  0.486239\n('b', 'two')\n  key1 key2     data1     data2\n1    b  two -0.305055  0.862469\n3    b  two -2.006196 -0.249327\n"
     ]
    }
   ],
   "source": [
    "for (k1, k2), group in df.groupby(['key1','key2']):\n",
    "    print((k1, k2))\n",
    "    print(group)"
   ]
  },
  {
   "cell_type": "code",
   "execution_count": 127,
   "metadata": {},
   "outputs": [],
   "source": [
    "pieces = dict(list(df.groupby('key1')))"
   ]
  },
  {
   "cell_type": "code",
   "execution_count": 128,
   "metadata": {},
   "outputs": [
    {
     "output_type": "execute_result",
     "data": {
      "text/plain": [
       "  key1 key2     data1     data2\n",
       "1    b  two -0.305055  0.862469\n",
       "3    b  two -2.006196 -0.249327"
      ],
      "text/html": "<div>\n<style scoped>\n    .dataframe tbody tr th:only-of-type {\n        vertical-align: middle;\n    }\n\n    .dataframe tbody tr th {\n        vertical-align: top;\n    }\n\n    .dataframe thead th {\n        text-align: right;\n    }\n</style>\n<table border=\"1\" class=\"dataframe\">\n  <thead>\n    <tr style=\"text-align: right;\">\n      <th></th>\n      <th>key1</th>\n      <th>key2</th>\n      <th>data1</th>\n      <th>data2</th>\n    </tr>\n  </thead>\n  <tbody>\n    <tr>\n      <th>1</th>\n      <td>b</td>\n      <td>two</td>\n      <td>-0.305055</td>\n      <td>0.862469</td>\n    </tr>\n    <tr>\n      <th>3</th>\n      <td>b</td>\n      <td>two</td>\n      <td>-2.006196</td>\n      <td>-0.249327</td>\n    </tr>\n  </tbody>\n</table>\n</div>"
     },
     "metadata": {},
     "execution_count": 128
    }
   ],
   "source": [
    "pieces['b']"
   ]
  },
  {
   "cell_type": "code",
   "execution_count": 129,
   "metadata": {},
   "outputs": [
    {
     "output_type": "execute_result",
     "data": {
      "text/plain": [
       "key1      object\n",
       "key2      object\n",
       "data1    float64\n",
       "data2    float64\n",
       "dtype: object"
      ]
     },
     "metadata": {},
     "execution_count": 129
    }
   ],
   "source": [
    "df.dtypes"
   ]
  },
  {
   "cell_type": "code",
   "execution_count": 130,
   "metadata": {},
   "outputs": [
    {
     "output_type": "stream",
     "name": "stdout",
     "text": [
      "a\n0   -0.248845\n2    0.592339\n4   -1.421291\nName: data1, dtype: float64\nb\n1   -0.305055\n3   -2.006196\nName: data1, dtype: float64\n"
     ]
    }
   ],
   "source": [
    "for dtype, group in grouped:\n",
    "    print(dtype)\n",
    "    print(group)"
   ]
  },
  {
   "source": [
    "### Selecting a column or subset of columns\n",
    "\n",
    "Indexing a GroupBy object created from a DataFrame with a column name or array of column names has the effect of column subsetting for aggregation."
   ],
   "cell_type": "markdown",
   "metadata": {}
  },
  {
   "cell_type": "code",
   "execution_count": 131,
   "metadata": {},
   "outputs": [
    {
     "output_type": "execute_result",
     "data": {
      "text/plain": [
       "<pandas.core.groupby.generic.SeriesGroupBy object at 0x000001DBAD3073A0>"
      ]
     },
     "metadata": {},
     "execution_count": 131
    }
   ],
   "source": [
    "df.groupby('key1')['data1']"
   ]
  },
  {
   "cell_type": "code",
   "execution_count": 132,
   "metadata": {},
   "outputs": [
    {
     "output_type": "execute_result",
     "data": {
      "text/plain": [
       "<pandas.core.groupby.generic.DataFrameGroupBy object at 0x000001DBAD3165E0>"
      ]
     },
     "metadata": {},
     "execution_count": 132
    }
   ],
   "source": [
    "df.groupby('key1')[['data2']]"
   ]
  },
  {
   "cell_type": "code",
   "execution_count": 133,
   "metadata": {},
   "outputs": [
    {
     "output_type": "execute_result",
     "data": {
      "text/plain": [
       "<pandas.core.groupby.generic.SeriesGroupBy object at 0x000001DBAD316730>"
      ]
     },
     "metadata": {},
     "execution_count": 133
    }
   ],
   "source": [
    "df['data1'].groupby(df['key1'])"
   ]
  },
  {
   "cell_type": "code",
   "execution_count": 134,
   "metadata": {},
   "outputs": [
    {
     "output_type": "execute_result",
     "data": {
      "text/plain": [
       "<pandas.core.groupby.generic.SeriesGroupBy object at 0x000001DBAD316580>"
      ]
     },
     "metadata": {},
     "execution_count": 134
    }
   ],
   "source": [
    "df['data2'].groupby(df['key1'])"
   ]
  },
  {
   "cell_type": "code",
   "execution_count": 135,
   "metadata": {},
   "outputs": [
    {
     "output_type": "execute_result",
     "data": {
      "text/plain": [
       "              data2\n",
       "key1 key2          \n",
       "a    one   0.861025\n",
       "b    two   0.306571"
      ],
      "text/html": "<div>\n<style scoped>\n    .dataframe tbody tr th:only-of-type {\n        vertical-align: middle;\n    }\n\n    .dataframe tbody tr th {\n        vertical-align: top;\n    }\n\n    .dataframe thead th {\n        text-align: right;\n    }\n</style>\n<table border=\"1\" class=\"dataframe\">\n  <thead>\n    <tr style=\"text-align: right;\">\n      <th></th>\n      <th></th>\n      <th>data2</th>\n    </tr>\n    <tr>\n      <th>key1</th>\n      <th>key2</th>\n      <th></th>\n    </tr>\n  </thead>\n  <tbody>\n    <tr>\n      <th>a</th>\n      <th>one</th>\n      <td>0.861025</td>\n    </tr>\n    <tr>\n      <th>b</th>\n      <th>two</th>\n      <td>0.306571</td>\n    </tr>\n  </tbody>\n</table>\n</div>"
     },
     "metadata": {},
     "execution_count": 135
    }
   ],
   "source": [
    "df.groupby(['key1','key2'])[['data2']].mean()"
   ]
  },
  {
   "cell_type": "code",
   "execution_count": 136,
   "metadata": {},
   "outputs": [
    {
     "output_type": "execute_result",
     "data": {
      "text/plain": [
       "<pandas.core.groupby.generic.SeriesGroupBy object at 0x000001DBAD316B50>"
      ]
     },
     "metadata": {},
     "execution_count": 136
    }
   ],
   "source": [
    "# The object returned by this indexing operation is a grouped DataFrame if a list or array is passed or a grouped Series if only a single column name is passed as a scalar:\n",
    "\n",
    "s_grouped = df.groupby(['key1','key2'])['data2']\n",
    "\n",
    "s_grouped"
   ]
  },
  {
   "cell_type": "code",
   "execution_count": 137,
   "metadata": {},
   "outputs": [
    {
     "output_type": "execute_result",
     "data": {
      "text/plain": [
       "key1  key2\n",
       "a     one     0.861025\n",
       "b     two     0.306571\n",
       "Name: data2, dtype: float64"
      ]
     },
     "metadata": {},
     "execution_count": 137
    }
   ],
   "source": [
    "s_grouped.mean()"
   ]
  },
  {
   "source": [
    "### Grouping with dicts and series\n",
    "\n",
    "Grouping information may exist in a form other than an array. "
   ],
   "cell_type": "markdown",
   "metadata": {}
  },
  {
   "cell_type": "code",
   "execution_count": 138,
   "metadata": {},
   "outputs": [
    {
     "output_type": "execute_result",
     "data": {
      "text/plain": [
       "              a         b         c         d         e\n",
       "Joe   -0.642451 -0.098607 -0.807573  0.833457  2.253346\n",
       "Steve -1.101707  0.341095  0.418109  0.346546 -0.134675\n",
       "Alice -0.262594       NaN       NaN  1.298169 -0.353595\n",
       "Ben    0.162826  0.684781 -0.117119 -0.386679  0.810201\n",
       "Pitt  -0.229247 -0.242969 -1.313454 -1.637738  0.317140"
      ],
      "text/html": "<div>\n<style scoped>\n    .dataframe tbody tr th:only-of-type {\n        vertical-align: middle;\n    }\n\n    .dataframe tbody tr th {\n        vertical-align: top;\n    }\n\n    .dataframe thead th {\n        text-align: right;\n    }\n</style>\n<table border=\"1\" class=\"dataframe\">\n  <thead>\n    <tr style=\"text-align: right;\">\n      <th></th>\n      <th>a</th>\n      <th>b</th>\n      <th>c</th>\n      <th>d</th>\n      <th>e</th>\n    </tr>\n  </thead>\n  <tbody>\n    <tr>\n      <th>Joe</th>\n      <td>-0.642451</td>\n      <td>-0.098607</td>\n      <td>-0.807573</td>\n      <td>0.833457</td>\n      <td>2.253346</td>\n    </tr>\n    <tr>\n      <th>Steve</th>\n      <td>-1.101707</td>\n      <td>0.341095</td>\n      <td>0.418109</td>\n      <td>0.346546</td>\n      <td>-0.134675</td>\n    </tr>\n    <tr>\n      <th>Alice</th>\n      <td>-0.262594</td>\n      <td>NaN</td>\n      <td>NaN</td>\n      <td>1.298169</td>\n      <td>-0.353595</td>\n    </tr>\n    <tr>\n      <th>Ben</th>\n      <td>0.162826</td>\n      <td>0.684781</td>\n      <td>-0.117119</td>\n      <td>-0.386679</td>\n      <td>0.810201</td>\n    </tr>\n    <tr>\n      <th>Pitt</th>\n      <td>-0.229247</td>\n      <td>-0.242969</td>\n      <td>-1.313454</td>\n      <td>-1.637738</td>\n      <td>0.317140</td>\n    </tr>\n  </tbody>\n</table>\n</div>"
     },
     "metadata": {},
     "execution_count": 138
    }
   ],
   "source": [
    "people = pd.DataFrame(np.random.randn(5, 5),\n",
    "columns = ['a','b','c','d','e'],\n",
    "index = ['Joe','Steve','Alice','Ben','Pitt'])\n",
    "\n",
    "people.iloc[2:3, [1,2]] = np.nan  # Add a few NA values\n",
    "\n",
    "people"
   ]
  },
  {
   "cell_type": "code",
   "execution_count": 139,
   "metadata": {},
   "outputs": [],
   "source": [
    "# Suppose having a group correspondence for the columns and want to sum together the columns by group:\n",
    "\n",
    "mapping = {'a': 'red', 'b':'red', 'c':'blue',\n",
    "'d':'blue','e':'red','f': 'orange'}"
   ]
  },
  {
   "cell_type": "code",
   "execution_count": 140,
   "metadata": {},
   "outputs": [
    {
     "output_type": "execute_result",
     "data": {
      "text/plain": [
       "           blue       red\n",
       "Joe    0.025885  1.512287\n",
       "Steve  0.764656 -0.895287\n",
       "Alice  1.298169 -0.616189\n",
       "Ben   -0.503798  1.657807\n",
       "Pitt  -2.951192 -0.155077"
      ],
      "text/html": "<div>\n<style scoped>\n    .dataframe tbody tr th:only-of-type {\n        vertical-align: middle;\n    }\n\n    .dataframe tbody tr th {\n        vertical-align: top;\n    }\n\n    .dataframe thead th {\n        text-align: right;\n    }\n</style>\n<table border=\"1\" class=\"dataframe\">\n  <thead>\n    <tr style=\"text-align: right;\">\n      <th></th>\n      <th>blue</th>\n      <th>red</th>\n    </tr>\n  </thead>\n  <tbody>\n    <tr>\n      <th>Joe</th>\n      <td>0.025885</td>\n      <td>1.512287</td>\n    </tr>\n    <tr>\n      <th>Steve</th>\n      <td>0.764656</td>\n      <td>-0.895287</td>\n    </tr>\n    <tr>\n      <th>Alice</th>\n      <td>1.298169</td>\n      <td>-0.616189</td>\n    </tr>\n    <tr>\n      <th>Ben</th>\n      <td>-0.503798</td>\n      <td>1.657807</td>\n    </tr>\n    <tr>\n      <th>Pitt</th>\n      <td>-2.951192</td>\n      <td>-0.155077</td>\n    </tr>\n  </tbody>\n</table>\n</div>"
     },
     "metadata": {},
     "execution_count": 140
    }
   ],
   "source": [
    "# Construct an array from this dict to pass to grouby, but instead we can just pass the dict.a\n",
    "by_column = people.groupby(mapping, axis = 1)\n",
    "\n",
    "by_column.sum()"
   ]
  },
  {
   "cell_type": "code",
   "execution_count": 141,
   "metadata": {},
   "outputs": [
    {
     "output_type": "execute_result",
     "data": {
      "text/plain": [
       "a       red\n",
       "b       red\n",
       "c      blue\n",
       "d      blue\n",
       "e       red\n",
       "f    orange\n",
       "dtype: object"
      ]
     },
     "metadata": {},
     "execution_count": 141
    }
   ],
   "source": [
    "# The same functionality holds for Series, which can be viewed as a fixed-size mapping:\n",
    "\n",
    "map_series = pd.Series(mapping)\n",
    "\n",
    "map_series"
   ]
  },
  {
   "cell_type": "code",
   "execution_count": 142,
   "metadata": {},
   "outputs": [
    {
     "output_type": "execute_result",
     "data": {
      "text/plain": [
       "       blue  red\n",
       "Joe       2    3\n",
       "Steve     2    3\n",
       "Alice     1    2\n",
       "Ben       2    3\n",
       "Pitt      2    3"
      ],
      "text/html": "<div>\n<style scoped>\n    .dataframe tbody tr th:only-of-type {\n        vertical-align: middle;\n    }\n\n    .dataframe tbody tr th {\n        vertical-align: top;\n    }\n\n    .dataframe thead th {\n        text-align: right;\n    }\n</style>\n<table border=\"1\" class=\"dataframe\">\n  <thead>\n    <tr style=\"text-align: right;\">\n      <th></th>\n      <th>blue</th>\n      <th>red</th>\n    </tr>\n  </thead>\n  <tbody>\n    <tr>\n      <th>Joe</th>\n      <td>2</td>\n      <td>3</td>\n    </tr>\n    <tr>\n      <th>Steve</th>\n      <td>2</td>\n      <td>3</td>\n    </tr>\n    <tr>\n      <th>Alice</th>\n      <td>1</td>\n      <td>2</td>\n    </tr>\n    <tr>\n      <th>Ben</th>\n      <td>2</td>\n      <td>3</td>\n    </tr>\n    <tr>\n      <th>Pitt</th>\n      <td>2</td>\n      <td>3</td>\n    </tr>\n  </tbody>\n</table>\n</div>"
     },
     "metadata": {},
     "execution_count": 142
    }
   ],
   "source": [
    "people.groupby(map_series, axis = 1).count()"
   ]
  },
  {
   "source": [
    "### Grouping with Functions\n",
    "\n",
    "Using Python functions is a more generic way of defining a group mapping compared with a dict or Series. Any function passed as a group key will be called once per index value, with the return values being used as the group names."
   ],
   "cell_type": "markdown",
   "metadata": {}
  },
  {
   "cell_type": "code",
   "execution_count": 143,
   "metadata": {},
   "outputs": [
    {
     "output_type": "execute_result",
     "data": {
      "text/plain": [
       "          a         b         c         d         e\n",
       "3 -0.479625  0.586173 -0.924692  0.446778  3.063547\n",
       "4 -0.229247 -0.242969 -1.313454 -1.637738  0.317140\n",
       "5 -1.364300  0.341095  0.418109  1.644715 -0.488270"
      ],
      "text/html": "<div>\n<style scoped>\n    .dataframe tbody tr th:only-of-type {\n        vertical-align: middle;\n    }\n\n    .dataframe tbody tr th {\n        vertical-align: top;\n    }\n\n    .dataframe thead th {\n        text-align: right;\n    }\n</style>\n<table border=\"1\" class=\"dataframe\">\n  <thead>\n    <tr style=\"text-align: right;\">\n      <th></th>\n      <th>a</th>\n      <th>b</th>\n      <th>c</th>\n      <th>d</th>\n      <th>e</th>\n    </tr>\n  </thead>\n  <tbody>\n    <tr>\n      <th>3</th>\n      <td>-0.479625</td>\n      <td>0.586173</td>\n      <td>-0.924692</td>\n      <td>0.446778</td>\n      <td>3.063547</td>\n    </tr>\n    <tr>\n      <th>4</th>\n      <td>-0.229247</td>\n      <td>-0.242969</td>\n      <td>-1.313454</td>\n      <td>-1.637738</td>\n      <td>0.317140</td>\n    </tr>\n    <tr>\n      <th>5</th>\n      <td>-1.364300</td>\n      <td>0.341095</td>\n      <td>0.418109</td>\n      <td>1.644715</td>\n      <td>-0.488270</td>\n    </tr>\n  </tbody>\n</table>\n</div>"
     },
     "metadata": {},
     "execution_count": 143
    }
   ],
   "source": [
    "people.groupby(len).sum()"
   ]
  },
  {
   "cell_type": "code",
   "execution_count": 144,
   "metadata": {},
   "outputs": [
    {
     "output_type": "execute_result",
     "data": {
      "text/plain": [
       "              a         b         c         d         e\n",
       "3 one -0.642451 -0.098607 -0.807573  0.833457  2.253346\n",
       "  two  0.162826  0.684781 -0.117119 -0.386679  0.810201\n",
       "4 two -0.229247 -0.242969 -1.313454 -1.637738  0.317140\n",
       "5 one -1.101707  0.341095  0.418109  0.346546 -0.353595"
      ],
      "text/html": "<div>\n<style scoped>\n    .dataframe tbody tr th:only-of-type {\n        vertical-align: middle;\n    }\n\n    .dataframe tbody tr th {\n        vertical-align: top;\n    }\n\n    .dataframe thead th {\n        text-align: right;\n    }\n</style>\n<table border=\"1\" class=\"dataframe\">\n  <thead>\n    <tr style=\"text-align: right;\">\n      <th></th>\n      <th></th>\n      <th>a</th>\n      <th>b</th>\n      <th>c</th>\n      <th>d</th>\n      <th>e</th>\n    </tr>\n  </thead>\n  <tbody>\n    <tr>\n      <th rowspan=\"2\" valign=\"top\">3</th>\n      <th>one</th>\n      <td>-0.642451</td>\n      <td>-0.098607</td>\n      <td>-0.807573</td>\n      <td>0.833457</td>\n      <td>2.253346</td>\n    </tr>\n    <tr>\n      <th>two</th>\n      <td>0.162826</td>\n      <td>0.684781</td>\n      <td>-0.117119</td>\n      <td>-0.386679</td>\n      <td>0.810201</td>\n    </tr>\n    <tr>\n      <th>4</th>\n      <th>two</th>\n      <td>-0.229247</td>\n      <td>-0.242969</td>\n      <td>-1.313454</td>\n      <td>-1.637738</td>\n      <td>0.317140</td>\n    </tr>\n    <tr>\n      <th>5</th>\n      <th>one</th>\n      <td>-1.101707</td>\n      <td>0.341095</td>\n      <td>0.418109</td>\n      <td>0.346546</td>\n      <td>-0.353595</td>\n    </tr>\n  </tbody>\n</table>\n</div>"
     },
     "metadata": {},
     "execution_count": 144
    }
   ],
   "source": [
    "# Mixing functions with arrays, dicts, or Series is not a problem as everything gets converted to arrays internally:\n",
    "\n",
    "key_list = ['one','one','one','two','two']\n",
    "\n",
    "people.groupby([len, key_list]).min()"
   ]
  },
  {
   "source": [
    "### Grouping by index levels\n",
    "\n",
    "A final convenience for hierarchically indexed datasets is the ability to aggregate using one of the levels of an axis index."
   ],
   "cell_type": "markdown",
   "metadata": {}
  },
  {
   "cell_type": "code",
   "execution_count": 145,
   "metadata": {},
   "outputs": [],
   "source": [
    "columns = pd.MultiIndex.from_arrays([['US','US','US','JP','JP'],\n",
    "[1, 3, 4, 2, 3]],\n",
    "names = ['cty','tenor'])"
   ]
  },
  {
   "cell_type": "code",
   "execution_count": 146,
   "metadata": {},
   "outputs": [
    {
     "output_type": "execute_result",
     "data": {
      "text/plain": [
       "cty          US                            JP          \n",
       "tenor         1         3         4         2         3\n",
       "0     -0.110015  0.296562 -0.058255  1.839921 -0.147149\n",
       "1      1.302114  0.893593  1.858334  1.465343  0.305426\n",
       "2      2.806917 -0.872425  0.066045  1.057759 -2.628111\n",
       "3      1.856242 -0.873278  0.791874 -0.588483 -1.056665"
      ],
      "text/html": "<div>\n<style scoped>\n    .dataframe tbody tr th:only-of-type {\n        vertical-align: middle;\n    }\n\n    .dataframe tbody tr th {\n        vertical-align: top;\n    }\n\n    .dataframe thead tr th {\n        text-align: left;\n    }\n</style>\n<table border=\"1\" class=\"dataframe\">\n  <thead>\n    <tr>\n      <th>cty</th>\n      <th colspan=\"3\" halign=\"left\">US</th>\n      <th colspan=\"2\" halign=\"left\">JP</th>\n    </tr>\n    <tr>\n      <th>tenor</th>\n      <th>1</th>\n      <th>3</th>\n      <th>4</th>\n      <th>2</th>\n      <th>3</th>\n    </tr>\n  </thead>\n  <tbody>\n    <tr>\n      <th>0</th>\n      <td>-0.110015</td>\n      <td>0.296562</td>\n      <td>-0.058255</td>\n      <td>1.839921</td>\n      <td>-0.147149</td>\n    </tr>\n    <tr>\n      <th>1</th>\n      <td>1.302114</td>\n      <td>0.893593</td>\n      <td>1.858334</td>\n      <td>1.465343</td>\n      <td>0.305426</td>\n    </tr>\n    <tr>\n      <th>2</th>\n      <td>2.806917</td>\n      <td>-0.872425</td>\n      <td>0.066045</td>\n      <td>1.057759</td>\n      <td>-2.628111</td>\n    </tr>\n    <tr>\n      <th>3</th>\n      <td>1.856242</td>\n      <td>-0.873278</td>\n      <td>0.791874</td>\n      <td>-0.588483</td>\n      <td>-1.056665</td>\n    </tr>\n  </tbody>\n</table>\n</div>"
     },
     "metadata": {},
     "execution_count": 146
    }
   ],
   "source": [
    "hier_df = pd.DataFrame(np.random.randn(4, 5), columns = columns)\n",
    "\n",
    "hier_df"
   ]
  },
  {
   "cell_type": "code",
   "execution_count": 147,
   "metadata": {},
   "outputs": [
    {
     "output_type": "execute_result",
     "data": {
      "text/plain": [
       "cty  JP  US\n",
       "0     2   3\n",
       "1     2   3\n",
       "2     2   3\n",
       "3     2   3"
      ],
      "text/html": "<div>\n<style scoped>\n    .dataframe tbody tr th:only-of-type {\n        vertical-align: middle;\n    }\n\n    .dataframe tbody tr th {\n        vertical-align: top;\n    }\n\n    .dataframe thead th {\n        text-align: right;\n    }\n</style>\n<table border=\"1\" class=\"dataframe\">\n  <thead>\n    <tr style=\"text-align: right;\">\n      <th>cty</th>\n      <th>JP</th>\n      <th>US</th>\n    </tr>\n  </thead>\n  <tbody>\n    <tr>\n      <th>0</th>\n      <td>2</td>\n      <td>3</td>\n    </tr>\n    <tr>\n      <th>1</th>\n      <td>2</td>\n      <td>3</td>\n    </tr>\n    <tr>\n      <th>2</th>\n      <td>2</td>\n      <td>3</td>\n    </tr>\n    <tr>\n      <th>3</th>\n      <td>2</td>\n      <td>3</td>\n    </tr>\n  </tbody>\n</table>\n</div>"
     },
     "metadata": {},
     "execution_count": 147
    }
   ],
   "source": [
    "# To group by level, pass the level number or name using the level keyword\n",
    "\n",
    "hier_df.groupby(level = 'cty', axis = 1).count()"
   ]
  },
  {
   "source": [
    "## Data Aggregation\n",
    "\n",
    "Aggregation refer to any data transformation that produces scalar values from arrays. The preceding examples have used several of them, including `mean`, `count`, `min`, and `min`. Many common Aggregations have optimized implementations.\n",
    "\n",
    "---\n",
    "\n",
    "*Table 10-1. Optimized groupby methods*\n",
    "\n",
    "|**Function name**|**Description**|\n",
    "|:---:|:---|\n",
    "|`count`|Number of non-NA values in the group|\n",
    "|`sum`|Sum of non-NA values|\n",
    "|`mean`|Mean of non-NA values|\n",
    "|`median`|Arithmetic median of non-NA values|\n",
    "|`std, var`|Unbiased (n-1 deniminator) standard deviation and variance|\n",
    "|`min, max`|Minimum and maximum of non-NA values|\n",
    "|`prod`|Product of non-NA values|\n",
    "|`first, last`|First and last non-NA values|\n",
    "\n",
    "---\n",
    "\n",
    "You can use Aggregations of your own devising and additionally call any method that is also defined on the grouped object.\n",
    "\n",
    "![alt text here](images/agg.jpg)\n",
    "\n"
   ],
   "cell_type": "markdown",
   "metadata": {}
  },
  {
   "cell_type": "code",
   "execution_count": 148,
   "metadata": {},
   "outputs": [
    {
     "output_type": "execute_result",
     "data": {
      "text/plain": [
       "  key1 key2     data1     data2\n",
       "0    a  one -0.248845  1.253614\n",
       "1    b  two -0.305055  0.862469\n",
       "2    a  one  0.592339  0.843221\n",
       "3    b  two -2.006196 -0.249327\n",
       "4    a  one -1.421291  0.486239"
      ],
      "text/html": "<div>\n<style scoped>\n    .dataframe tbody tr th:only-of-type {\n        vertical-align: middle;\n    }\n\n    .dataframe tbody tr th {\n        vertical-align: top;\n    }\n\n    .dataframe thead th {\n        text-align: right;\n    }\n</style>\n<table border=\"1\" class=\"dataframe\">\n  <thead>\n    <tr style=\"text-align: right;\">\n      <th></th>\n      <th>key1</th>\n      <th>key2</th>\n      <th>data1</th>\n      <th>data2</th>\n    </tr>\n  </thead>\n  <tbody>\n    <tr>\n      <th>0</th>\n      <td>a</td>\n      <td>one</td>\n      <td>-0.248845</td>\n      <td>1.253614</td>\n    </tr>\n    <tr>\n      <th>1</th>\n      <td>b</td>\n      <td>two</td>\n      <td>-0.305055</td>\n      <td>0.862469</td>\n    </tr>\n    <tr>\n      <th>2</th>\n      <td>a</td>\n      <td>one</td>\n      <td>0.592339</td>\n      <td>0.843221</td>\n    </tr>\n    <tr>\n      <th>3</th>\n      <td>b</td>\n      <td>two</td>\n      <td>-2.006196</td>\n      <td>-0.249327</td>\n    </tr>\n    <tr>\n      <th>4</th>\n      <td>a</td>\n      <td>one</td>\n      <td>-1.421291</td>\n      <td>0.486239</td>\n    </tr>\n  </tbody>\n</table>\n</div>"
     },
     "metadata": {},
     "execution_count": 148
    }
   ],
   "source": [
    "df"
   ]
  },
  {
   "cell_type": "code",
   "execution_count": 149,
   "metadata": {},
   "outputs": [],
   "source": [
    "grouped = df.groupby('key1')"
   ]
  },
  {
   "cell_type": "code",
   "execution_count": 150,
   "metadata": {},
   "outputs": [
    {
     "output_type": "execute_result",
     "data": {
      "text/plain": [
       "<pandas.core.groupby.generic.DataFrameGroupBy object at 0x000001DBAD32A8E0>"
      ]
     },
     "metadata": {},
     "execution_count": 150
    }
   ],
   "source": [
    "grouped"
   ]
  },
  {
   "cell_type": "code",
   "execution_count": 151,
   "metadata": {},
   "outputs": [
    {
     "output_type": "execute_result",
     "data": {
      "text/plain": [
       "key1\n",
       "a    0.424102\n",
       "b   -0.475169\n",
       "Name: data1, dtype: float64"
      ]
     },
     "metadata": {},
     "execution_count": 151
    }
   ],
   "source": [
    "grouped['data1'].quantile(0.9)"
   ]
  },
  {
   "cell_type": "code",
   "execution_count": 152,
   "metadata": {},
   "outputs": [
    {
     "output_type": "execute_result",
     "data": {
      "text/plain": [
       "         data1     data2\n",
       "key1                    \n",
       "a     2.013630  0.767375\n",
       "b     1.701141  1.111796"
      ],
      "text/html": "<div>\n<style scoped>\n    .dataframe tbody tr th:only-of-type {\n        vertical-align: middle;\n    }\n\n    .dataframe tbody tr th {\n        vertical-align: top;\n    }\n\n    .dataframe thead th {\n        text-align: right;\n    }\n</style>\n<table border=\"1\" class=\"dataframe\">\n  <thead>\n    <tr style=\"text-align: right;\">\n      <th></th>\n      <th>data1</th>\n      <th>data2</th>\n    </tr>\n    <tr>\n      <th>key1</th>\n      <th></th>\n      <th></th>\n    </tr>\n  </thead>\n  <tbody>\n    <tr>\n      <th>a</th>\n      <td>2.013630</td>\n      <td>0.767375</td>\n    </tr>\n    <tr>\n      <th>b</th>\n      <td>1.701141</td>\n      <td>1.111796</td>\n    </tr>\n  </tbody>\n</table>\n</div>"
     },
     "metadata": {},
     "execution_count": 152
    }
   ],
   "source": [
    "# To use your own aggregation functions, pass any function that aggregates an array to the aggregate or agg method:\n",
    "\n",
    "def peak_to_peak(arr):\n",
    "    return arr.max() - arr.min()\n",
    "\n",
    "grouped.agg(peak_to_peak)"
   ]
  },
  {
   "cell_type": "code",
   "execution_count": 153,
   "metadata": {},
   "outputs": [
    {
     "output_type": "execute_result",
     "data": {
      "text/plain": [
       "     data1                                                              \\\n",
       "     count      mean       std       min       25%       50%       75%   \n",
       "key1                                                                     \n",
       "a      3.0 -0.359266  1.011346 -1.421291 -0.835068 -0.248845  0.171747   \n",
       "b      2.0 -1.155625  1.202889 -2.006196 -1.580911 -1.155625 -0.730340   \n",
       "\n",
       "               data2                                                    \\\n",
       "           max count      mean       std       min       25%       50%   \n",
       "key1                                                                     \n",
       "a     0.592339   3.0  0.861025  0.383997  0.486239  0.664730  0.843221   \n",
       "b    -0.305055   2.0  0.306571  0.786159 -0.249327  0.028622  0.306571   \n",
       "\n",
       "                          \n",
       "           75%       max  \n",
       "key1                      \n",
       "a     1.048417  1.253614  \n",
       "b     0.584520  0.862469  "
      ],
      "text/html": "<div>\n<style scoped>\n    .dataframe tbody tr th:only-of-type {\n        vertical-align: middle;\n    }\n\n    .dataframe tbody tr th {\n        vertical-align: top;\n    }\n\n    .dataframe thead tr th {\n        text-align: left;\n    }\n\n    .dataframe thead tr:last-of-type th {\n        text-align: right;\n    }\n</style>\n<table border=\"1\" class=\"dataframe\">\n  <thead>\n    <tr>\n      <th></th>\n      <th colspan=\"8\" halign=\"left\">data1</th>\n      <th colspan=\"8\" halign=\"left\">data2</th>\n    </tr>\n    <tr>\n      <th></th>\n      <th>count</th>\n      <th>mean</th>\n      <th>std</th>\n      <th>min</th>\n      <th>25%</th>\n      <th>50%</th>\n      <th>75%</th>\n      <th>max</th>\n      <th>count</th>\n      <th>mean</th>\n      <th>std</th>\n      <th>min</th>\n      <th>25%</th>\n      <th>50%</th>\n      <th>75%</th>\n      <th>max</th>\n    </tr>\n    <tr>\n      <th>key1</th>\n      <th></th>\n      <th></th>\n      <th></th>\n      <th></th>\n      <th></th>\n      <th></th>\n      <th></th>\n      <th></th>\n      <th></th>\n      <th></th>\n      <th></th>\n      <th></th>\n      <th></th>\n      <th></th>\n      <th></th>\n      <th></th>\n    </tr>\n  </thead>\n  <tbody>\n    <tr>\n      <th>a</th>\n      <td>3.0</td>\n      <td>-0.359266</td>\n      <td>1.011346</td>\n      <td>-1.421291</td>\n      <td>-0.835068</td>\n      <td>-0.248845</td>\n      <td>0.171747</td>\n      <td>0.592339</td>\n      <td>3.0</td>\n      <td>0.861025</td>\n      <td>0.383997</td>\n      <td>0.486239</td>\n      <td>0.664730</td>\n      <td>0.843221</td>\n      <td>1.048417</td>\n      <td>1.253614</td>\n    </tr>\n    <tr>\n      <th>b</th>\n      <td>2.0</td>\n      <td>-1.155625</td>\n      <td>1.202889</td>\n      <td>-2.006196</td>\n      <td>-1.580911</td>\n      <td>-1.155625</td>\n      <td>-0.730340</td>\n      <td>-0.305055</td>\n      <td>2.0</td>\n      <td>0.306571</td>\n      <td>0.786159</td>\n      <td>-0.249327</td>\n      <td>0.028622</td>\n      <td>0.306571</td>\n      <td>0.584520</td>\n      <td>0.862469</td>\n    </tr>\n  </tbody>\n</table>\n</div>"
     },
     "metadata": {},
     "execution_count": 153
    }
   ],
   "source": [
    "# Some methods like describe also work, even though they are not aggregations:\n",
    "\n",
    "grouped.describe()"
   ]
  },
  {
   "source": [
    "### Column-wise and multiple function application\n",
    "\n",
    "After loading it with read_csv, we add a tipping percentage column tip_pct:"
   ],
   "cell_type": "markdown",
   "metadata": {}
  },
  {
   "cell_type": "code",
   "execution_count": 154,
   "metadata": {},
   "outputs": [],
   "source": [
    "tips = pd.read_csv('datasets/tips.csv')"
   ]
  },
  {
   "cell_type": "code",
   "execution_count": 155,
   "metadata": {},
   "outputs": [
    {
     "output_type": "execute_result",
     "data": {
      "text/plain": [
       "   total_bill   tip     sex smoker  day    time  size  tips_pct\n",
       "0       16.99  1.01  Female     No  Sun  Dinner     2  0.059447\n",
       "1       10.34  1.66    Male     No  Sun  Dinner     3  0.160542\n",
       "2       21.01  3.50    Male     No  Sun  Dinner     3  0.166587\n",
       "3       23.68  3.31    Male     No  Sun  Dinner     2  0.139780\n",
       "4       24.59  3.61  Female     No  Sun  Dinner     4  0.146808\n",
       "5       25.29  4.71    Male     No  Sun  Dinner     4  0.186240"
      ],
      "text/html": "<div>\n<style scoped>\n    .dataframe tbody tr th:only-of-type {\n        vertical-align: middle;\n    }\n\n    .dataframe tbody tr th {\n        vertical-align: top;\n    }\n\n    .dataframe thead th {\n        text-align: right;\n    }\n</style>\n<table border=\"1\" class=\"dataframe\">\n  <thead>\n    <tr style=\"text-align: right;\">\n      <th></th>\n      <th>total_bill</th>\n      <th>tip</th>\n      <th>sex</th>\n      <th>smoker</th>\n      <th>day</th>\n      <th>time</th>\n      <th>size</th>\n      <th>tips_pct</th>\n    </tr>\n  </thead>\n  <tbody>\n    <tr>\n      <th>0</th>\n      <td>16.99</td>\n      <td>1.01</td>\n      <td>Female</td>\n      <td>No</td>\n      <td>Sun</td>\n      <td>Dinner</td>\n      <td>2</td>\n      <td>0.059447</td>\n    </tr>\n    <tr>\n      <th>1</th>\n      <td>10.34</td>\n      <td>1.66</td>\n      <td>Male</td>\n      <td>No</td>\n      <td>Sun</td>\n      <td>Dinner</td>\n      <td>3</td>\n      <td>0.160542</td>\n    </tr>\n    <tr>\n      <th>2</th>\n      <td>21.01</td>\n      <td>3.50</td>\n      <td>Male</td>\n      <td>No</td>\n      <td>Sun</td>\n      <td>Dinner</td>\n      <td>3</td>\n      <td>0.166587</td>\n    </tr>\n    <tr>\n      <th>3</th>\n      <td>23.68</td>\n      <td>3.31</td>\n      <td>Male</td>\n      <td>No</td>\n      <td>Sun</td>\n      <td>Dinner</td>\n      <td>2</td>\n      <td>0.139780</td>\n    </tr>\n    <tr>\n      <th>4</th>\n      <td>24.59</td>\n      <td>3.61</td>\n      <td>Female</td>\n      <td>No</td>\n      <td>Sun</td>\n      <td>Dinner</td>\n      <td>4</td>\n      <td>0.146808</td>\n    </tr>\n    <tr>\n      <th>5</th>\n      <td>25.29</td>\n      <td>4.71</td>\n      <td>Male</td>\n      <td>No</td>\n      <td>Sun</td>\n      <td>Dinner</td>\n      <td>4</td>\n      <td>0.186240</td>\n    </tr>\n  </tbody>\n</table>\n</div>"
     },
     "metadata": {},
     "execution_count": 155
    }
   ],
   "source": [
    "tips['tips_pct'] = tips['tip'] / tips['total_bill']\n",
    "\n",
    "tips[:6]"
   ]
  },
  {
   "source": [
    "Aggreating a Series or all of the columns of a DataFrame is a matter of using `aggregate` with the desired function or calling a method like `mean` or `std`. "
   ],
   "cell_type": "markdown",
   "metadata": {}
  },
  {
   "cell_type": "code",
   "execution_count": 156,
   "metadata": {},
   "outputs": [],
   "source": [
    "grouped = tips.groupby(['day','smoker'])"
   ]
  },
  {
   "cell_type": "code",
   "execution_count": 157,
   "metadata": {},
   "outputs": [
    {
     "output_type": "execute_result",
     "data": {
      "text/plain": [
       "day   smoker\n",
       "Fri   No        0.151650\n",
       "      Yes       0.174783\n",
       "Sat   No        0.158048\n",
       "      Yes       0.147906\n",
       "Sun   No        0.160113\n",
       "      Yes       0.187250\n",
       "Thur  No        0.160298\n",
       "      Yes       0.163863\n",
       "Name: tips_pct, dtype: float64"
      ]
     },
     "metadata": {},
     "execution_count": 157
    }
   ],
   "source": [
    "grouped_pct = grouped['tips_pct']\n",
    "\n",
    "grouped_pct.agg('mean')"
   ]
  },
  {
   "cell_type": "code",
   "execution_count": 158,
   "metadata": {},
   "outputs": [
    {
     "output_type": "execute_result",
     "data": {
      "text/plain": [
       "                 mean       std  peak_to_peak\n",
       "day  smoker                                  \n",
       "Fri  No      0.151650  0.028123      0.067349\n",
       "     Yes     0.174783  0.051293      0.159925\n",
       "Sat  No      0.158048  0.039767      0.235193\n",
       "     Yes     0.147906  0.061375      0.290095\n",
       "Sun  No      0.160113  0.042347      0.193226\n",
       "     Yes     0.187250  0.154134      0.644685\n",
       "Thur No      0.160298  0.038774      0.193350\n",
       "     Yes     0.163863  0.039389      0.151240"
      ],
      "text/html": "<div>\n<style scoped>\n    .dataframe tbody tr th:only-of-type {\n        vertical-align: middle;\n    }\n\n    .dataframe tbody tr th {\n        vertical-align: top;\n    }\n\n    .dataframe thead th {\n        text-align: right;\n    }\n</style>\n<table border=\"1\" class=\"dataframe\">\n  <thead>\n    <tr style=\"text-align: right;\">\n      <th></th>\n      <th></th>\n      <th>mean</th>\n      <th>std</th>\n      <th>peak_to_peak</th>\n    </tr>\n    <tr>\n      <th>day</th>\n      <th>smoker</th>\n      <th></th>\n      <th></th>\n      <th></th>\n    </tr>\n  </thead>\n  <tbody>\n    <tr>\n      <th rowspan=\"2\" valign=\"top\">Fri</th>\n      <th>No</th>\n      <td>0.151650</td>\n      <td>0.028123</td>\n      <td>0.067349</td>\n    </tr>\n    <tr>\n      <th>Yes</th>\n      <td>0.174783</td>\n      <td>0.051293</td>\n      <td>0.159925</td>\n    </tr>\n    <tr>\n      <th rowspan=\"2\" valign=\"top\">Sat</th>\n      <th>No</th>\n      <td>0.158048</td>\n      <td>0.039767</td>\n      <td>0.235193</td>\n    </tr>\n    <tr>\n      <th>Yes</th>\n      <td>0.147906</td>\n      <td>0.061375</td>\n      <td>0.290095</td>\n    </tr>\n    <tr>\n      <th rowspan=\"2\" valign=\"top\">Sun</th>\n      <th>No</th>\n      <td>0.160113</td>\n      <td>0.042347</td>\n      <td>0.193226</td>\n    </tr>\n    <tr>\n      <th>Yes</th>\n      <td>0.187250</td>\n      <td>0.154134</td>\n      <td>0.644685</td>\n    </tr>\n    <tr>\n      <th rowspan=\"2\" valign=\"top\">Thur</th>\n      <th>No</th>\n      <td>0.160298</td>\n      <td>0.038774</td>\n      <td>0.193350</td>\n    </tr>\n    <tr>\n      <th>Yes</th>\n      <td>0.163863</td>\n      <td>0.039389</td>\n      <td>0.151240</td>\n    </tr>\n  </tbody>\n</table>\n</div>"
     },
     "metadata": {},
     "execution_count": 158
    }
   ],
   "source": [
    "grouped_pct.agg(['mean', 'std', peak_to_peak])"
   ]
  },
  {
   "source": [
    "Here we passed a list of aggregation functions to `agg` to evaluate independently on the data groups.\n",
    "\n",
    "You don't need to accept the names that GroupBy gives to the columns; notably, `lambda` functions have the name `<lambda>`, which makes them hard to identify. If you pass a list of (`name, function`) tuples, the first element of each tuple will be used as the DataFrame column names."
   ],
   "cell_type": "markdown",
   "metadata": {}
  },
  {
   "cell_type": "code",
   "execution_count": 159,
   "metadata": {},
   "outputs": [
    {
     "output_type": "execute_result",
     "data": {
      "text/plain": [
       "                  foo       bar\n",
       "day  smoker                    \n",
       "Fri  No      0.151650  0.028123\n",
       "     Yes     0.174783  0.051293\n",
       "Sat  No      0.158048  0.039767\n",
       "     Yes     0.147906  0.061375\n",
       "Sun  No      0.160113  0.042347\n",
       "     Yes     0.187250  0.154134\n",
       "Thur No      0.160298  0.038774\n",
       "     Yes     0.163863  0.039389"
      ],
      "text/html": "<div>\n<style scoped>\n    .dataframe tbody tr th:only-of-type {\n        vertical-align: middle;\n    }\n\n    .dataframe tbody tr th {\n        vertical-align: top;\n    }\n\n    .dataframe thead th {\n        text-align: right;\n    }\n</style>\n<table border=\"1\" class=\"dataframe\">\n  <thead>\n    <tr style=\"text-align: right;\">\n      <th></th>\n      <th></th>\n      <th>foo</th>\n      <th>bar</th>\n    </tr>\n    <tr>\n      <th>day</th>\n      <th>smoker</th>\n      <th></th>\n      <th></th>\n    </tr>\n  </thead>\n  <tbody>\n    <tr>\n      <th rowspan=\"2\" valign=\"top\">Fri</th>\n      <th>No</th>\n      <td>0.151650</td>\n      <td>0.028123</td>\n    </tr>\n    <tr>\n      <th>Yes</th>\n      <td>0.174783</td>\n      <td>0.051293</td>\n    </tr>\n    <tr>\n      <th rowspan=\"2\" valign=\"top\">Sat</th>\n      <th>No</th>\n      <td>0.158048</td>\n      <td>0.039767</td>\n    </tr>\n    <tr>\n      <th>Yes</th>\n      <td>0.147906</td>\n      <td>0.061375</td>\n    </tr>\n    <tr>\n      <th rowspan=\"2\" valign=\"top\">Sun</th>\n      <th>No</th>\n      <td>0.160113</td>\n      <td>0.042347</td>\n    </tr>\n    <tr>\n      <th>Yes</th>\n      <td>0.187250</td>\n      <td>0.154134</td>\n    </tr>\n    <tr>\n      <th rowspan=\"2\" valign=\"top\">Thur</th>\n      <th>No</th>\n      <td>0.160298</td>\n      <td>0.038774</td>\n    </tr>\n    <tr>\n      <th>Yes</th>\n      <td>0.163863</td>\n      <td>0.039389</td>\n    </tr>\n  </tbody>\n</table>\n</div>"
     },
     "metadata": {},
     "execution_count": 159
    }
   ],
   "source": [
    "grouped_pct.agg([('foo','mean'), ('bar', np.std)])"
   ]
  },
  {
   "cell_type": "code",
   "execution_count": 160,
   "metadata": {},
   "outputs": [
    {
     "output_type": "execute_result",
     "data": {
      "text/plain": [
       "            tips_pct                     total_bill                  \n",
       "               count      mean       max      count       mean    max\n",
       "day  smoker                                                          \n",
       "Fri  No            4  0.151650  0.187735          4  18.420000  22.75\n",
       "     Yes          15  0.174783  0.263480         15  16.813333  40.17\n",
       "Sat  No           45  0.158048  0.291990         45  19.661778  48.33\n",
       "     Yes          42  0.147906  0.325733         42  21.276667  50.81\n",
       "Sun  No           57  0.160113  0.252672         57  20.506667  48.17\n",
       "     Yes          19  0.187250  0.710345         19  24.120000  45.35\n",
       "Thur No           45  0.160298  0.266312         45  17.113111  41.19\n",
       "     Yes          17  0.163863  0.241255         17  19.190588  43.11"
      ],
      "text/html": "<div>\n<style scoped>\n    .dataframe tbody tr th:only-of-type {\n        vertical-align: middle;\n    }\n\n    .dataframe tbody tr th {\n        vertical-align: top;\n    }\n\n    .dataframe thead tr th {\n        text-align: left;\n    }\n\n    .dataframe thead tr:last-of-type th {\n        text-align: right;\n    }\n</style>\n<table border=\"1\" class=\"dataframe\">\n  <thead>\n    <tr>\n      <th></th>\n      <th></th>\n      <th colspan=\"3\" halign=\"left\">tips_pct</th>\n      <th colspan=\"3\" halign=\"left\">total_bill</th>\n    </tr>\n    <tr>\n      <th></th>\n      <th></th>\n      <th>count</th>\n      <th>mean</th>\n      <th>max</th>\n      <th>count</th>\n      <th>mean</th>\n      <th>max</th>\n    </tr>\n    <tr>\n      <th>day</th>\n      <th>smoker</th>\n      <th></th>\n      <th></th>\n      <th></th>\n      <th></th>\n      <th></th>\n      <th></th>\n    </tr>\n  </thead>\n  <tbody>\n    <tr>\n      <th rowspan=\"2\" valign=\"top\">Fri</th>\n      <th>No</th>\n      <td>4</td>\n      <td>0.151650</td>\n      <td>0.187735</td>\n      <td>4</td>\n      <td>18.420000</td>\n      <td>22.75</td>\n    </tr>\n    <tr>\n      <th>Yes</th>\n      <td>15</td>\n      <td>0.174783</td>\n      <td>0.263480</td>\n      <td>15</td>\n      <td>16.813333</td>\n      <td>40.17</td>\n    </tr>\n    <tr>\n      <th rowspan=\"2\" valign=\"top\">Sat</th>\n      <th>No</th>\n      <td>45</td>\n      <td>0.158048</td>\n      <td>0.291990</td>\n      <td>45</td>\n      <td>19.661778</td>\n      <td>48.33</td>\n    </tr>\n    <tr>\n      <th>Yes</th>\n      <td>42</td>\n      <td>0.147906</td>\n      <td>0.325733</td>\n      <td>42</td>\n      <td>21.276667</td>\n      <td>50.81</td>\n    </tr>\n    <tr>\n      <th rowspan=\"2\" valign=\"top\">Sun</th>\n      <th>No</th>\n      <td>57</td>\n      <td>0.160113</td>\n      <td>0.252672</td>\n      <td>57</td>\n      <td>20.506667</td>\n      <td>48.17</td>\n    </tr>\n    <tr>\n      <th>Yes</th>\n      <td>19</td>\n      <td>0.187250</td>\n      <td>0.710345</td>\n      <td>19</td>\n      <td>24.120000</td>\n      <td>45.35</td>\n    </tr>\n    <tr>\n      <th rowspan=\"2\" valign=\"top\">Thur</th>\n      <th>No</th>\n      <td>45</td>\n      <td>0.160298</td>\n      <td>0.266312</td>\n      <td>45</td>\n      <td>17.113111</td>\n      <td>41.19</td>\n    </tr>\n    <tr>\n      <th>Yes</th>\n      <td>17</td>\n      <td>0.163863</td>\n      <td>0.241255</td>\n      <td>17</td>\n      <td>19.190588</td>\n      <td>43.11</td>\n    </tr>\n  </tbody>\n</table>\n</div>"
     },
     "metadata": {},
     "execution_count": 160
    }
   ],
   "source": [
    "functions = ['count','mean','max']\n",
    "\n",
    "results = grouped['tips_pct','total_bill'].agg(functions)\n",
    "\n",
    "results"
   ]
  },
  {
   "cell_type": "code",
   "execution_count": 161,
   "metadata": {},
   "outputs": [
    {
     "output_type": "execute_result",
     "data": {
      "text/plain": [
       "             count      mean       max\n",
       "day  smoker                           \n",
       "Fri  No          4  0.151650  0.187735\n",
       "     Yes        15  0.174783  0.263480\n",
       "Sat  No         45  0.158048  0.291990\n",
       "     Yes        42  0.147906  0.325733\n",
       "Sun  No         57  0.160113  0.252672\n",
       "     Yes        19  0.187250  0.710345\n",
       "Thur No         45  0.160298  0.266312\n",
       "     Yes        17  0.163863  0.241255"
      ],
      "text/html": "<div>\n<style scoped>\n    .dataframe tbody tr th:only-of-type {\n        vertical-align: middle;\n    }\n\n    .dataframe tbody tr th {\n        vertical-align: top;\n    }\n\n    .dataframe thead th {\n        text-align: right;\n    }\n</style>\n<table border=\"1\" class=\"dataframe\">\n  <thead>\n    <tr style=\"text-align: right;\">\n      <th></th>\n      <th></th>\n      <th>count</th>\n      <th>mean</th>\n      <th>max</th>\n    </tr>\n    <tr>\n      <th>day</th>\n      <th>smoker</th>\n      <th></th>\n      <th></th>\n      <th></th>\n    </tr>\n  </thead>\n  <tbody>\n    <tr>\n      <th rowspan=\"2\" valign=\"top\">Fri</th>\n      <th>No</th>\n      <td>4</td>\n      <td>0.151650</td>\n      <td>0.187735</td>\n    </tr>\n    <tr>\n      <th>Yes</th>\n      <td>15</td>\n      <td>0.174783</td>\n      <td>0.263480</td>\n    </tr>\n    <tr>\n      <th rowspan=\"2\" valign=\"top\">Sat</th>\n      <th>No</th>\n      <td>45</td>\n      <td>0.158048</td>\n      <td>0.291990</td>\n    </tr>\n    <tr>\n      <th>Yes</th>\n      <td>42</td>\n      <td>0.147906</td>\n      <td>0.325733</td>\n    </tr>\n    <tr>\n      <th rowspan=\"2\" valign=\"top\">Sun</th>\n      <th>No</th>\n      <td>57</td>\n      <td>0.160113</td>\n      <td>0.252672</td>\n    </tr>\n    <tr>\n      <th>Yes</th>\n      <td>19</td>\n      <td>0.187250</td>\n      <td>0.710345</td>\n    </tr>\n    <tr>\n      <th rowspan=\"2\" valign=\"top\">Thur</th>\n      <th>No</th>\n      <td>45</td>\n      <td>0.160298</td>\n      <td>0.266312</td>\n    </tr>\n    <tr>\n      <th>Yes</th>\n      <td>17</td>\n      <td>0.163863</td>\n      <td>0.241255</td>\n    </tr>\n  </tbody>\n</table>\n</div>"
     },
     "metadata": {},
     "execution_count": 161
    }
   ],
   "source": [
    "results['tips_pct']"
   ]
  },
  {
   "cell_type": "code",
   "execution_count": 162,
   "metadata": {},
   "outputs": [
    {
     "output_type": "execute_result",
     "data": {
      "text/plain": [
       "                tips_pct              total_bill            \n",
       "            Durchschnitt Abweichung Durchschnitt  Abweichung\n",
       "day  smoker                                                 \n",
       "Fri  No         0.151650   0.000791    18.420000   25.596333\n",
       "     Yes        0.174783   0.002631    16.813333   82.562438\n",
       "Sat  No         0.158048   0.001581    19.661778   79.908965\n",
       "     Yes        0.147906   0.003767    21.276667  101.387535\n",
       "Sun  No         0.160113   0.001793    20.506667   66.099980\n",
       "     Yes        0.187250   0.023757    24.120000  109.046044\n",
       "Thur No         0.160298   0.001503    17.113111   59.625081\n",
       "     Yes        0.163863   0.001551    19.190588   69.808518"
      ],
      "text/html": "<div>\n<style scoped>\n    .dataframe tbody tr th:only-of-type {\n        vertical-align: middle;\n    }\n\n    .dataframe tbody tr th {\n        vertical-align: top;\n    }\n\n    .dataframe thead tr th {\n        text-align: left;\n    }\n\n    .dataframe thead tr:last-of-type th {\n        text-align: right;\n    }\n</style>\n<table border=\"1\" class=\"dataframe\">\n  <thead>\n    <tr>\n      <th></th>\n      <th></th>\n      <th colspan=\"2\" halign=\"left\">tips_pct</th>\n      <th colspan=\"2\" halign=\"left\">total_bill</th>\n    </tr>\n    <tr>\n      <th></th>\n      <th></th>\n      <th>Durchschnitt</th>\n      <th>Abweichung</th>\n      <th>Durchschnitt</th>\n      <th>Abweichung</th>\n    </tr>\n    <tr>\n      <th>day</th>\n      <th>smoker</th>\n      <th></th>\n      <th></th>\n      <th></th>\n      <th></th>\n    </tr>\n  </thead>\n  <tbody>\n    <tr>\n      <th rowspan=\"2\" valign=\"top\">Fri</th>\n      <th>No</th>\n      <td>0.151650</td>\n      <td>0.000791</td>\n      <td>18.420000</td>\n      <td>25.596333</td>\n    </tr>\n    <tr>\n      <th>Yes</th>\n      <td>0.174783</td>\n      <td>0.002631</td>\n      <td>16.813333</td>\n      <td>82.562438</td>\n    </tr>\n    <tr>\n      <th rowspan=\"2\" valign=\"top\">Sat</th>\n      <th>No</th>\n      <td>0.158048</td>\n      <td>0.001581</td>\n      <td>19.661778</td>\n      <td>79.908965</td>\n    </tr>\n    <tr>\n      <th>Yes</th>\n      <td>0.147906</td>\n      <td>0.003767</td>\n      <td>21.276667</td>\n      <td>101.387535</td>\n    </tr>\n    <tr>\n      <th rowspan=\"2\" valign=\"top\">Sun</th>\n      <th>No</th>\n      <td>0.160113</td>\n      <td>0.001793</td>\n      <td>20.506667</td>\n      <td>66.099980</td>\n    </tr>\n    <tr>\n      <th>Yes</th>\n      <td>0.187250</td>\n      <td>0.023757</td>\n      <td>24.120000</td>\n      <td>109.046044</td>\n    </tr>\n    <tr>\n      <th rowspan=\"2\" valign=\"top\">Thur</th>\n      <th>No</th>\n      <td>0.160298</td>\n      <td>0.001503</td>\n      <td>17.113111</td>\n      <td>59.625081</td>\n    </tr>\n    <tr>\n      <th>Yes</th>\n      <td>0.163863</td>\n      <td>0.001551</td>\n      <td>19.190588</td>\n      <td>69.808518</td>\n    </tr>\n  </tbody>\n</table>\n</div>"
     },
     "metadata": {},
     "execution_count": 162
    }
   ],
   "source": [
    "# A list of tuples with custom names can be passed:\n",
    "\n",
    "ftuples = [('Durchschnitt','mean'), ('Abweichung', np.var)]\n",
    "\n",
    "grouped['tips_pct', 'total_bill'].agg(ftuples)"
   ]
  },
  {
   "cell_type": "code",
   "execution_count": 163,
   "metadata": {},
   "outputs": [
    {
     "output_type": "execute_result",
     "data": {
      "text/plain": [
       "               tip  size\n",
       "day  smoker             \n",
       "Fri  No       3.50     9\n",
       "     Yes      4.73    31\n",
       "Sat  No       9.00   115\n",
       "     Yes     10.00   104\n",
       "Sun  No       6.00   167\n",
       "     Yes      6.50    49\n",
       "Thur No       6.70   112\n",
       "     Yes      5.00    40"
      ],
      "text/html": "<div>\n<style scoped>\n    .dataframe tbody tr th:only-of-type {\n        vertical-align: middle;\n    }\n\n    .dataframe tbody tr th {\n        vertical-align: top;\n    }\n\n    .dataframe thead th {\n        text-align: right;\n    }\n</style>\n<table border=\"1\" class=\"dataframe\">\n  <thead>\n    <tr style=\"text-align: right;\">\n      <th></th>\n      <th></th>\n      <th>tip</th>\n      <th>size</th>\n    </tr>\n    <tr>\n      <th>day</th>\n      <th>smoker</th>\n      <th></th>\n      <th></th>\n    </tr>\n  </thead>\n  <tbody>\n    <tr>\n      <th rowspan=\"2\" valign=\"top\">Fri</th>\n      <th>No</th>\n      <td>3.50</td>\n      <td>9</td>\n    </tr>\n    <tr>\n      <th>Yes</th>\n      <td>4.73</td>\n      <td>31</td>\n    </tr>\n    <tr>\n      <th rowspan=\"2\" valign=\"top\">Sat</th>\n      <th>No</th>\n      <td>9.00</td>\n      <td>115</td>\n    </tr>\n    <tr>\n      <th>Yes</th>\n      <td>10.00</td>\n      <td>104</td>\n    </tr>\n    <tr>\n      <th rowspan=\"2\" valign=\"top\">Sun</th>\n      <th>No</th>\n      <td>6.00</td>\n      <td>167</td>\n    </tr>\n    <tr>\n      <th>Yes</th>\n      <td>6.50</td>\n      <td>49</td>\n    </tr>\n    <tr>\n      <th rowspan=\"2\" valign=\"top\">Thur</th>\n      <th>No</th>\n      <td>6.70</td>\n      <td>112</td>\n    </tr>\n    <tr>\n      <th>Yes</th>\n      <td>5.00</td>\n      <td>40</td>\n    </tr>\n  </tbody>\n</table>\n</div>"
     },
     "metadata": {},
     "execution_count": 163
    }
   ],
   "source": [
    "# Suppose you wanted to apply potentially different functions to one or more of the columns. Pass a \n",
    "# dict to `agg` that contains a mapping of column names to any of the function specifications listed\n",
    "# so far:\n",
    "\n",
    "grouped.agg({'tip':np.max, 'size':'sum'})"
   ]
  },
  {
   "cell_type": "code",
   "execution_count": 164,
   "metadata": {},
   "outputs": [
    {
     "output_type": "execute_result",
     "data": {
      "text/plain": [
       "             tips_pct                               size\n",
       "                  min       max      mean       std  sum\n",
       "day  smoker                                             \n",
       "Fri  No      0.120385  0.187735  0.151650  0.028123    9\n",
       "     Yes     0.103555  0.263480  0.174783  0.051293   31\n",
       "Sat  No      0.056797  0.291990  0.158048  0.039767  115\n",
       "     Yes     0.035638  0.325733  0.147906  0.061375  104\n",
       "Sun  No      0.059447  0.252672  0.160113  0.042347  167\n",
       "     Yes     0.065660  0.710345  0.187250  0.154134   49\n",
       "Thur No      0.072961  0.266312  0.160298  0.038774  112\n",
       "     Yes     0.090014  0.241255  0.163863  0.039389   40"
      ],
      "text/html": "<div>\n<style scoped>\n    .dataframe tbody tr th:only-of-type {\n        vertical-align: middle;\n    }\n\n    .dataframe tbody tr th {\n        vertical-align: top;\n    }\n\n    .dataframe thead tr th {\n        text-align: left;\n    }\n\n    .dataframe thead tr:last-of-type th {\n        text-align: right;\n    }\n</style>\n<table border=\"1\" class=\"dataframe\">\n  <thead>\n    <tr>\n      <th></th>\n      <th></th>\n      <th colspan=\"4\" halign=\"left\">tips_pct</th>\n      <th>size</th>\n    </tr>\n    <tr>\n      <th></th>\n      <th></th>\n      <th>min</th>\n      <th>max</th>\n      <th>mean</th>\n      <th>std</th>\n      <th>sum</th>\n    </tr>\n    <tr>\n      <th>day</th>\n      <th>smoker</th>\n      <th></th>\n      <th></th>\n      <th></th>\n      <th></th>\n      <th></th>\n    </tr>\n  </thead>\n  <tbody>\n    <tr>\n      <th rowspan=\"2\" valign=\"top\">Fri</th>\n      <th>No</th>\n      <td>0.120385</td>\n      <td>0.187735</td>\n      <td>0.151650</td>\n      <td>0.028123</td>\n      <td>9</td>\n    </tr>\n    <tr>\n      <th>Yes</th>\n      <td>0.103555</td>\n      <td>0.263480</td>\n      <td>0.174783</td>\n      <td>0.051293</td>\n      <td>31</td>\n    </tr>\n    <tr>\n      <th rowspan=\"2\" valign=\"top\">Sat</th>\n      <th>No</th>\n      <td>0.056797</td>\n      <td>0.291990</td>\n      <td>0.158048</td>\n      <td>0.039767</td>\n      <td>115</td>\n    </tr>\n    <tr>\n      <th>Yes</th>\n      <td>0.035638</td>\n      <td>0.325733</td>\n      <td>0.147906</td>\n      <td>0.061375</td>\n      <td>104</td>\n    </tr>\n    <tr>\n      <th rowspan=\"2\" valign=\"top\">Sun</th>\n      <th>No</th>\n      <td>0.059447</td>\n      <td>0.252672</td>\n      <td>0.160113</td>\n      <td>0.042347</td>\n      <td>167</td>\n    </tr>\n    <tr>\n      <th>Yes</th>\n      <td>0.065660</td>\n      <td>0.710345</td>\n      <td>0.187250</td>\n      <td>0.154134</td>\n      <td>49</td>\n    </tr>\n    <tr>\n      <th rowspan=\"2\" valign=\"top\">Thur</th>\n      <th>No</th>\n      <td>0.072961</td>\n      <td>0.266312</td>\n      <td>0.160298</td>\n      <td>0.038774</td>\n      <td>112</td>\n    </tr>\n    <tr>\n      <th>Yes</th>\n      <td>0.090014</td>\n      <td>0.241255</td>\n      <td>0.163863</td>\n      <td>0.039389</td>\n      <td>40</td>\n    </tr>\n  </tbody>\n</table>\n</div>"
     },
     "metadata": {},
     "execution_count": 164
    }
   ],
   "source": [
    "grouped.agg({'tips_pct':['min','max','mean','std'], 'size':'sum'})"
   ]
  },
  {
   "source": [
    "### Returning aggregated data without row indexes\n",
    "\n",
    "In all of the examples up until now, the aggregated data comes back with an index, potentially hierarchical, composed from the unique group key combinations. You can disable this behavior in most cases by passing `as_index = False`."
   ],
   "cell_type": "markdown",
   "metadata": {}
  },
  {
   "cell_type": "code",
   "execution_count": 165,
   "metadata": {},
   "outputs": [
    {
     "output_type": "execute_result",
     "data": {
      "text/plain": [
       "    day smoker  total_bill       tip      size  tips_pct\n",
       "0   Fri     No   18.420000  2.812500  2.250000  0.151650\n",
       "1   Fri    Yes   16.813333  2.714000  2.066667  0.174783\n",
       "2   Sat     No   19.661778  3.102889  2.555556  0.158048\n",
       "3   Sat    Yes   21.276667  2.875476  2.476190  0.147906\n",
       "4   Sun     No   20.506667  3.167895  2.929825  0.160113\n",
       "5   Sun    Yes   24.120000  3.516842  2.578947  0.187250\n",
       "6  Thur     No   17.113111  2.673778  2.488889  0.160298\n",
       "7  Thur    Yes   19.190588  3.030000  2.352941  0.163863"
      ],
      "text/html": "<div>\n<style scoped>\n    .dataframe tbody tr th:only-of-type {\n        vertical-align: middle;\n    }\n\n    .dataframe tbody tr th {\n        vertical-align: top;\n    }\n\n    .dataframe thead th {\n        text-align: right;\n    }\n</style>\n<table border=\"1\" class=\"dataframe\">\n  <thead>\n    <tr style=\"text-align: right;\">\n      <th></th>\n      <th>day</th>\n      <th>smoker</th>\n      <th>total_bill</th>\n      <th>tip</th>\n      <th>size</th>\n      <th>tips_pct</th>\n    </tr>\n  </thead>\n  <tbody>\n    <tr>\n      <th>0</th>\n      <td>Fri</td>\n      <td>No</td>\n      <td>18.420000</td>\n      <td>2.812500</td>\n      <td>2.250000</td>\n      <td>0.151650</td>\n    </tr>\n    <tr>\n      <th>1</th>\n      <td>Fri</td>\n      <td>Yes</td>\n      <td>16.813333</td>\n      <td>2.714000</td>\n      <td>2.066667</td>\n      <td>0.174783</td>\n    </tr>\n    <tr>\n      <th>2</th>\n      <td>Sat</td>\n      <td>No</td>\n      <td>19.661778</td>\n      <td>3.102889</td>\n      <td>2.555556</td>\n      <td>0.158048</td>\n    </tr>\n    <tr>\n      <th>3</th>\n      <td>Sat</td>\n      <td>Yes</td>\n      <td>21.276667</td>\n      <td>2.875476</td>\n      <td>2.476190</td>\n      <td>0.147906</td>\n    </tr>\n    <tr>\n      <th>4</th>\n      <td>Sun</td>\n      <td>No</td>\n      <td>20.506667</td>\n      <td>3.167895</td>\n      <td>2.929825</td>\n      <td>0.160113</td>\n    </tr>\n    <tr>\n      <th>5</th>\n      <td>Sun</td>\n      <td>Yes</td>\n      <td>24.120000</td>\n      <td>3.516842</td>\n      <td>2.578947</td>\n      <td>0.187250</td>\n    </tr>\n    <tr>\n      <th>6</th>\n      <td>Thur</td>\n      <td>No</td>\n      <td>17.113111</td>\n      <td>2.673778</td>\n      <td>2.488889</td>\n      <td>0.160298</td>\n    </tr>\n    <tr>\n      <th>7</th>\n      <td>Thur</td>\n      <td>Yes</td>\n      <td>19.190588</td>\n      <td>3.030000</td>\n      <td>2.352941</td>\n      <td>0.163863</td>\n    </tr>\n  </tbody>\n</table>\n</div>"
     },
     "metadata": {},
     "execution_count": 165
    }
   ],
   "source": [
    "tips.groupby(['day','smoker'], as_index=False).mean()"
   ]
  },
  {
   "source": [
    "## Apply: General split-apply-combine\n",
    "\n",
    "The most general-purpose GroupBy method is `apply`, which is the subject of the rest of this section.\n",
    "![alt text here](images/apply.jpg)"
   ],
   "cell_type": "markdown",
   "metadata": {}
  },
  {
   "cell_type": "code",
   "execution_count": 166,
   "metadata": {},
   "outputs": [
    {
     "output_type": "execute_result",
     "data": {
      "text/plain": [
       "     total_bill   tip     sex smoker  day    time  size  tips_pct\n",
       "109       14.31  4.00  Female    Yes  Sat  Dinner     2  0.279525\n",
       "183       23.17  6.50    Male    Yes  Sun  Dinner     4  0.280535\n",
       "232       11.61  3.39    Male     No  Sat  Dinner     2  0.291990\n",
       "67         3.07  1.00  Female    Yes  Sat  Dinner     1  0.325733\n",
       "178        9.60  4.00  Female    Yes  Sun  Dinner     2  0.416667\n",
       "172        7.25  5.15    Male    Yes  Sun  Dinner     2  0.710345"
      ],
      "text/html": "<div>\n<style scoped>\n    .dataframe tbody tr th:only-of-type {\n        vertical-align: middle;\n    }\n\n    .dataframe tbody tr th {\n        vertical-align: top;\n    }\n\n    .dataframe thead th {\n        text-align: right;\n    }\n</style>\n<table border=\"1\" class=\"dataframe\">\n  <thead>\n    <tr style=\"text-align: right;\">\n      <th></th>\n      <th>total_bill</th>\n      <th>tip</th>\n      <th>sex</th>\n      <th>smoker</th>\n      <th>day</th>\n      <th>time</th>\n      <th>size</th>\n      <th>tips_pct</th>\n    </tr>\n  </thead>\n  <tbody>\n    <tr>\n      <th>109</th>\n      <td>14.31</td>\n      <td>4.00</td>\n      <td>Female</td>\n      <td>Yes</td>\n      <td>Sat</td>\n      <td>Dinner</td>\n      <td>2</td>\n      <td>0.279525</td>\n    </tr>\n    <tr>\n      <th>183</th>\n      <td>23.17</td>\n      <td>6.50</td>\n      <td>Male</td>\n      <td>Yes</td>\n      <td>Sun</td>\n      <td>Dinner</td>\n      <td>4</td>\n      <td>0.280535</td>\n    </tr>\n    <tr>\n      <th>232</th>\n      <td>11.61</td>\n      <td>3.39</td>\n      <td>Male</td>\n      <td>No</td>\n      <td>Sat</td>\n      <td>Dinner</td>\n      <td>2</td>\n      <td>0.291990</td>\n    </tr>\n    <tr>\n      <th>67</th>\n      <td>3.07</td>\n      <td>1.00</td>\n      <td>Female</td>\n      <td>Yes</td>\n      <td>Sat</td>\n      <td>Dinner</td>\n      <td>1</td>\n      <td>0.325733</td>\n    </tr>\n    <tr>\n      <th>178</th>\n      <td>9.60</td>\n      <td>4.00</td>\n      <td>Female</td>\n      <td>Yes</td>\n      <td>Sun</td>\n      <td>Dinner</td>\n      <td>2</td>\n      <td>0.416667</td>\n    </tr>\n    <tr>\n      <th>172</th>\n      <td>7.25</td>\n      <td>5.15</td>\n      <td>Male</td>\n      <td>Yes</td>\n      <td>Sun</td>\n      <td>Dinner</td>\n      <td>2</td>\n      <td>0.710345</td>\n    </tr>\n  </tbody>\n</table>\n</div>"
     },
     "metadata": {},
     "execution_count": 166
    }
   ],
   "source": [
    "def top(df, n = 5, column = 'tips_pct'):\n",
    "    return df.sort_values(by = column)[-n:]\n",
    "\n",
    "top(tips, n = 6)"
   ]
  },
  {
   "cell_type": "code",
   "execution_count": 167,
   "metadata": {},
   "outputs": [
    {
     "output_type": "execute_result",
     "data": {
      "text/plain": [
       "            total_bill   tip     sex smoker   day    time  size  tips_pct\n",
       "smoker                                                                   \n",
       "No     88        24.71  5.85    Male     No  Thur   Lunch     2  0.236746\n",
       "       185       20.69  5.00    Male     No   Sun  Dinner     5  0.241663\n",
       "       51        10.29  2.60  Female     No   Sun  Dinner     2  0.252672\n",
       "       149        7.51  2.00    Male     No  Thur   Lunch     2  0.266312\n",
       "       232       11.61  3.39    Male     No   Sat  Dinner     2  0.291990\n",
       "Yes    109       14.31  4.00  Female    Yes   Sat  Dinner     2  0.279525\n",
       "       183       23.17  6.50    Male    Yes   Sun  Dinner     4  0.280535\n",
       "       67         3.07  1.00  Female    Yes   Sat  Dinner     1  0.325733\n",
       "       178        9.60  4.00  Female    Yes   Sun  Dinner     2  0.416667\n",
       "       172        7.25  5.15    Male    Yes   Sun  Dinner     2  0.710345"
      ],
      "text/html": "<div>\n<style scoped>\n    .dataframe tbody tr th:only-of-type {\n        vertical-align: middle;\n    }\n\n    .dataframe tbody tr th {\n        vertical-align: top;\n    }\n\n    .dataframe thead th {\n        text-align: right;\n    }\n</style>\n<table border=\"1\" class=\"dataframe\">\n  <thead>\n    <tr style=\"text-align: right;\">\n      <th></th>\n      <th></th>\n      <th>total_bill</th>\n      <th>tip</th>\n      <th>sex</th>\n      <th>smoker</th>\n      <th>day</th>\n      <th>time</th>\n      <th>size</th>\n      <th>tips_pct</th>\n    </tr>\n    <tr>\n      <th>smoker</th>\n      <th></th>\n      <th></th>\n      <th></th>\n      <th></th>\n      <th></th>\n      <th></th>\n      <th></th>\n      <th></th>\n      <th></th>\n    </tr>\n  </thead>\n  <tbody>\n    <tr>\n      <th rowspan=\"5\" valign=\"top\">No</th>\n      <th>88</th>\n      <td>24.71</td>\n      <td>5.85</td>\n      <td>Male</td>\n      <td>No</td>\n      <td>Thur</td>\n      <td>Lunch</td>\n      <td>2</td>\n      <td>0.236746</td>\n    </tr>\n    <tr>\n      <th>185</th>\n      <td>20.69</td>\n      <td>5.00</td>\n      <td>Male</td>\n      <td>No</td>\n      <td>Sun</td>\n      <td>Dinner</td>\n      <td>5</td>\n      <td>0.241663</td>\n    </tr>\n    <tr>\n      <th>51</th>\n      <td>10.29</td>\n      <td>2.60</td>\n      <td>Female</td>\n      <td>No</td>\n      <td>Sun</td>\n      <td>Dinner</td>\n      <td>2</td>\n      <td>0.252672</td>\n    </tr>\n    <tr>\n      <th>149</th>\n      <td>7.51</td>\n      <td>2.00</td>\n      <td>Male</td>\n      <td>No</td>\n      <td>Thur</td>\n      <td>Lunch</td>\n      <td>2</td>\n      <td>0.266312</td>\n    </tr>\n    <tr>\n      <th>232</th>\n      <td>11.61</td>\n      <td>3.39</td>\n      <td>Male</td>\n      <td>No</td>\n      <td>Sat</td>\n      <td>Dinner</td>\n      <td>2</td>\n      <td>0.291990</td>\n    </tr>\n    <tr>\n      <th rowspan=\"5\" valign=\"top\">Yes</th>\n      <th>109</th>\n      <td>14.31</td>\n      <td>4.00</td>\n      <td>Female</td>\n      <td>Yes</td>\n      <td>Sat</td>\n      <td>Dinner</td>\n      <td>2</td>\n      <td>0.279525</td>\n    </tr>\n    <tr>\n      <th>183</th>\n      <td>23.17</td>\n      <td>6.50</td>\n      <td>Male</td>\n      <td>Yes</td>\n      <td>Sun</td>\n      <td>Dinner</td>\n      <td>4</td>\n      <td>0.280535</td>\n    </tr>\n    <tr>\n      <th>67</th>\n      <td>3.07</td>\n      <td>1.00</td>\n      <td>Female</td>\n      <td>Yes</td>\n      <td>Sat</td>\n      <td>Dinner</td>\n      <td>1</td>\n      <td>0.325733</td>\n    </tr>\n    <tr>\n      <th>178</th>\n      <td>9.60</td>\n      <td>4.00</td>\n      <td>Female</td>\n      <td>Yes</td>\n      <td>Sun</td>\n      <td>Dinner</td>\n      <td>2</td>\n      <td>0.416667</td>\n    </tr>\n    <tr>\n      <th>172</th>\n      <td>7.25</td>\n      <td>5.15</td>\n      <td>Male</td>\n      <td>Yes</td>\n      <td>Sun</td>\n      <td>Dinner</td>\n      <td>2</td>\n      <td>0.710345</td>\n    </tr>\n  </tbody>\n</table>\n</div>"
     },
     "metadata": {},
     "execution_count": 167
    }
   ],
   "source": [
    "# If we group by smoker, say, and call apply with this function.a\n",
    "tips.groupby('smoker').apply(top)"
   ]
  },
  {
   "cell_type": "code",
   "execution_count": 168,
   "metadata": {},
   "outputs": [
    {
     "output_type": "execute_result",
     "data": {
      "text/plain": [
       "                 total_bill    tip     sex smoker   day    time  size  \\\n",
       "smoker day                                                              \n",
       "No     Fri  94        22.75   3.25  Female     No   Fri  Dinner     2   \n",
       "       Sat  212       48.33   9.00    Male     No   Sat  Dinner     4   \n",
       "       Sun  156       48.17   5.00    Male     No   Sun  Dinner     6   \n",
       "       Thur 142       41.19   5.00    Male     No  Thur   Lunch     5   \n",
       "Yes    Fri  95        40.17   4.73    Male    Yes   Fri  Dinner     4   \n",
       "       Sat  170       50.81  10.00    Male    Yes   Sat  Dinner     3   \n",
       "       Sun  182       45.35   3.50    Male    Yes   Sun  Dinner     3   \n",
       "       Thur 197       43.11   5.00  Female    Yes  Thur   Lunch     4   \n",
       "\n",
       "                 tips_pct  \n",
       "smoker day                 \n",
       "No     Fri  94   0.142857  \n",
       "       Sat  212  0.186220  \n",
       "       Sun  156  0.103799  \n",
       "       Thur 142  0.121389  \n",
       "Yes    Fri  95   0.117750  \n",
       "       Sat  170  0.196812  \n",
       "       Sun  182  0.077178  \n",
       "       Thur 197  0.115982  "
      ],
      "text/html": "<div>\n<style scoped>\n    .dataframe tbody tr th:only-of-type {\n        vertical-align: middle;\n    }\n\n    .dataframe tbody tr th {\n        vertical-align: top;\n    }\n\n    .dataframe thead th {\n        text-align: right;\n    }\n</style>\n<table border=\"1\" class=\"dataframe\">\n  <thead>\n    <tr style=\"text-align: right;\">\n      <th></th>\n      <th></th>\n      <th></th>\n      <th>total_bill</th>\n      <th>tip</th>\n      <th>sex</th>\n      <th>smoker</th>\n      <th>day</th>\n      <th>time</th>\n      <th>size</th>\n      <th>tips_pct</th>\n    </tr>\n    <tr>\n      <th>smoker</th>\n      <th>day</th>\n      <th></th>\n      <th></th>\n      <th></th>\n      <th></th>\n      <th></th>\n      <th></th>\n      <th></th>\n      <th></th>\n      <th></th>\n    </tr>\n  </thead>\n  <tbody>\n    <tr>\n      <th rowspan=\"4\" valign=\"top\">No</th>\n      <th>Fri</th>\n      <th>94</th>\n      <td>22.75</td>\n      <td>3.25</td>\n      <td>Female</td>\n      <td>No</td>\n      <td>Fri</td>\n      <td>Dinner</td>\n      <td>2</td>\n      <td>0.142857</td>\n    </tr>\n    <tr>\n      <th>Sat</th>\n      <th>212</th>\n      <td>48.33</td>\n      <td>9.00</td>\n      <td>Male</td>\n      <td>No</td>\n      <td>Sat</td>\n      <td>Dinner</td>\n      <td>4</td>\n      <td>0.186220</td>\n    </tr>\n    <tr>\n      <th>Sun</th>\n      <th>156</th>\n      <td>48.17</td>\n      <td>5.00</td>\n      <td>Male</td>\n      <td>No</td>\n      <td>Sun</td>\n      <td>Dinner</td>\n      <td>6</td>\n      <td>0.103799</td>\n    </tr>\n    <tr>\n      <th>Thur</th>\n      <th>142</th>\n      <td>41.19</td>\n      <td>5.00</td>\n      <td>Male</td>\n      <td>No</td>\n      <td>Thur</td>\n      <td>Lunch</td>\n      <td>5</td>\n      <td>0.121389</td>\n    </tr>\n    <tr>\n      <th rowspan=\"4\" valign=\"top\">Yes</th>\n      <th>Fri</th>\n      <th>95</th>\n      <td>40.17</td>\n      <td>4.73</td>\n      <td>Male</td>\n      <td>Yes</td>\n      <td>Fri</td>\n      <td>Dinner</td>\n      <td>4</td>\n      <td>0.117750</td>\n    </tr>\n    <tr>\n      <th>Sat</th>\n      <th>170</th>\n      <td>50.81</td>\n      <td>10.00</td>\n      <td>Male</td>\n      <td>Yes</td>\n      <td>Sat</td>\n      <td>Dinner</td>\n      <td>3</td>\n      <td>0.196812</td>\n    </tr>\n    <tr>\n      <th>Sun</th>\n      <th>182</th>\n      <td>45.35</td>\n      <td>3.50</td>\n      <td>Male</td>\n      <td>Yes</td>\n      <td>Sun</td>\n      <td>Dinner</td>\n      <td>3</td>\n      <td>0.077178</td>\n    </tr>\n    <tr>\n      <th>Thur</th>\n      <th>197</th>\n      <td>43.11</td>\n      <td>5.00</td>\n      <td>Female</td>\n      <td>Yes</td>\n      <td>Thur</td>\n      <td>Lunch</td>\n      <td>4</td>\n      <td>0.115982</td>\n    </tr>\n  </tbody>\n</table>\n</div>"
     },
     "metadata": {},
     "execution_count": 168
    }
   ],
   "source": [
    "tips.groupby(['smoker','day']).apply(top, n = 1, column = 'total_bill')"
   ]
  },
  {
   "cell_type": "code",
   "execution_count": 169,
   "metadata": {},
   "outputs": [],
   "source": [
    "result = tips.groupby('smoker')['tips_pct'].describe()"
   ]
  },
  {
   "cell_type": "code",
   "execution_count": 170,
   "metadata": {},
   "outputs": [
    {
     "output_type": "execute_result",
     "data": {
      "text/plain": [
       "        count      mean       std       min       25%       50%       75%  \\\n",
       "smoker                                                                      \n",
       "No      151.0  0.159328  0.039910  0.056797  0.136906  0.155625  0.185014   \n",
       "Yes      93.0  0.163196  0.085119  0.035638  0.106771  0.153846  0.195059   \n",
       "\n",
       "             max  \n",
       "smoker            \n",
       "No      0.291990  \n",
       "Yes     0.710345  "
      ],
      "text/html": "<div>\n<style scoped>\n    .dataframe tbody tr th:only-of-type {\n        vertical-align: middle;\n    }\n\n    .dataframe tbody tr th {\n        vertical-align: top;\n    }\n\n    .dataframe thead th {\n        text-align: right;\n    }\n</style>\n<table border=\"1\" class=\"dataframe\">\n  <thead>\n    <tr style=\"text-align: right;\">\n      <th></th>\n      <th>count</th>\n      <th>mean</th>\n      <th>std</th>\n      <th>min</th>\n      <th>25%</th>\n      <th>50%</th>\n      <th>75%</th>\n      <th>max</th>\n    </tr>\n    <tr>\n      <th>smoker</th>\n      <th></th>\n      <th></th>\n      <th></th>\n      <th></th>\n      <th></th>\n      <th></th>\n      <th></th>\n      <th></th>\n    </tr>\n  </thead>\n  <tbody>\n    <tr>\n      <th>No</th>\n      <td>151.0</td>\n      <td>0.159328</td>\n      <td>0.039910</td>\n      <td>0.056797</td>\n      <td>0.136906</td>\n      <td>0.155625</td>\n      <td>0.185014</td>\n      <td>0.291990</td>\n    </tr>\n    <tr>\n      <th>Yes</th>\n      <td>93.0</td>\n      <td>0.163196</td>\n      <td>0.085119</td>\n      <td>0.035638</td>\n      <td>0.106771</td>\n      <td>0.153846</td>\n      <td>0.195059</td>\n      <td>0.710345</td>\n    </tr>\n  </tbody>\n</table>\n</div>"
     },
     "metadata": {},
     "execution_count": 170
    }
   ],
   "source": [
    "result"
   ]
  },
  {
   "cell_type": "code",
   "execution_count": 171,
   "metadata": {},
   "outputs": [
    {
     "output_type": "execute_result",
     "data": {
      "text/plain": [
       "       smoker\n",
       "count  No        151.000000\n",
       "       Yes        93.000000\n",
       "mean   No          0.159328\n",
       "       Yes         0.163196\n",
       "std    No          0.039910\n",
       "       Yes         0.085119\n",
       "min    No          0.056797\n",
       "       Yes         0.035638\n",
       "25%    No          0.136906\n",
       "       Yes         0.106771\n",
       "50%    No          0.155625\n",
       "       Yes         0.153846\n",
       "75%    No          0.185014\n",
       "       Yes         0.195059\n",
       "max    No          0.291990\n",
       "       Yes         0.710345\n",
       "dtype: float64"
      ]
     },
     "metadata": {},
     "execution_count": 171
    }
   ],
   "source": [
    "result.unstack('smoker')"
   ]
  },
  {
   "cell_type": "code",
   "execution_count": 172,
   "metadata": {},
   "outputs": [
    {
     "output_type": "execute_result",
     "data": {
      "text/plain": [
       "                   total_bill       tip  size  tips_pct\n",
       "day  smoker                                            \n",
       "Fri  No     count    4.000000  4.000000  4.00  4.000000\n",
       "            mean    18.420000  2.812500  2.25  0.151650\n",
       "            std      5.059282  0.898494  0.50  0.028123\n",
       "            min     12.460000  1.500000  2.00  0.120385\n",
       "            25%     15.100000  2.625000  2.00  0.137239\n",
       "...                       ...       ...   ...       ...\n",
       "Thur Yes    min     10.340000  2.000000  2.00  0.090014\n",
       "            25%     13.510000  2.000000  2.00  0.148038\n",
       "            50%     16.470000  2.560000  2.00  0.153846\n",
       "            75%     19.810000  4.000000  2.00  0.194837\n",
       "            max     43.110000  5.000000  4.00  0.241255\n",
       "\n",
       "[64 rows x 4 columns]"
      ],
      "text/html": "<div>\n<style scoped>\n    .dataframe tbody tr th:only-of-type {\n        vertical-align: middle;\n    }\n\n    .dataframe tbody tr th {\n        vertical-align: top;\n    }\n\n    .dataframe thead th {\n        text-align: right;\n    }\n</style>\n<table border=\"1\" class=\"dataframe\">\n  <thead>\n    <tr style=\"text-align: right;\">\n      <th></th>\n      <th></th>\n      <th></th>\n      <th>total_bill</th>\n      <th>tip</th>\n      <th>size</th>\n      <th>tips_pct</th>\n    </tr>\n    <tr>\n      <th>day</th>\n      <th>smoker</th>\n      <th></th>\n      <th></th>\n      <th></th>\n      <th></th>\n      <th></th>\n    </tr>\n  </thead>\n  <tbody>\n    <tr>\n      <th rowspan=\"5\" valign=\"top\">Fri</th>\n      <th rowspan=\"5\" valign=\"top\">No</th>\n      <th>count</th>\n      <td>4.000000</td>\n      <td>4.000000</td>\n      <td>4.00</td>\n      <td>4.000000</td>\n    </tr>\n    <tr>\n      <th>mean</th>\n      <td>18.420000</td>\n      <td>2.812500</td>\n      <td>2.25</td>\n      <td>0.151650</td>\n    </tr>\n    <tr>\n      <th>std</th>\n      <td>5.059282</td>\n      <td>0.898494</td>\n      <td>0.50</td>\n      <td>0.028123</td>\n    </tr>\n    <tr>\n      <th>min</th>\n      <td>12.460000</td>\n      <td>1.500000</td>\n      <td>2.00</td>\n      <td>0.120385</td>\n    </tr>\n    <tr>\n      <th>25%</th>\n      <td>15.100000</td>\n      <td>2.625000</td>\n      <td>2.00</td>\n      <td>0.137239</td>\n    </tr>\n    <tr>\n      <th>...</th>\n      <th>...</th>\n      <th>...</th>\n      <td>...</td>\n      <td>...</td>\n      <td>...</td>\n      <td>...</td>\n    </tr>\n    <tr>\n      <th rowspan=\"5\" valign=\"top\">Thur</th>\n      <th rowspan=\"5\" valign=\"top\">Yes</th>\n      <th>min</th>\n      <td>10.340000</td>\n      <td>2.000000</td>\n      <td>2.00</td>\n      <td>0.090014</td>\n    </tr>\n    <tr>\n      <th>25%</th>\n      <td>13.510000</td>\n      <td>2.000000</td>\n      <td>2.00</td>\n      <td>0.148038</td>\n    </tr>\n    <tr>\n      <th>50%</th>\n      <td>16.470000</td>\n      <td>2.560000</td>\n      <td>2.00</td>\n      <td>0.153846</td>\n    </tr>\n    <tr>\n      <th>75%</th>\n      <td>19.810000</td>\n      <td>4.000000</td>\n      <td>2.00</td>\n      <td>0.194837</td>\n    </tr>\n    <tr>\n      <th>max</th>\n      <td>43.110000</td>\n      <td>5.000000</td>\n      <td>4.00</td>\n      <td>0.241255</td>\n    </tr>\n  </tbody>\n</table>\n<p>64 rows × 4 columns</p>\n</div>"
     },
     "metadata": {},
     "execution_count": 172
    }
   ],
   "source": [
    "# When you invoke a method like describe, it is actually just a shortcut for:\n",
    "\n",
    "f = lambda x: x.describe()\n",
    "grouped.apply(f)"
   ]
  },
  {
   "source": [
    "### Suppressing the group keys\n",
    "\n",
    "The resulting object has a hierarchical index formed from the group keys along with the indexes of each piece of the original object. You can disable this by passing `group_keys=False` to `groupby`"
   ],
   "cell_type": "markdown",
   "metadata": {}
  },
  {
   "cell_type": "code",
   "execution_count": 173,
   "metadata": {},
   "outputs": [
    {
     "output_type": "execute_result",
     "data": {
      "text/plain": [
       "     total_bill   tip     sex smoker   day    time  size  tips_pct\n",
       "88        24.71  5.85    Male     No  Thur   Lunch     2  0.236746\n",
       "185       20.69  5.00    Male     No   Sun  Dinner     5  0.241663\n",
       "51        10.29  2.60  Female     No   Sun  Dinner     2  0.252672\n",
       "149        7.51  2.00    Male     No  Thur   Lunch     2  0.266312\n",
       "232       11.61  3.39    Male     No   Sat  Dinner     2  0.291990\n",
       "109       14.31  4.00  Female    Yes   Sat  Dinner     2  0.279525\n",
       "183       23.17  6.50    Male    Yes   Sun  Dinner     4  0.280535\n",
       "67         3.07  1.00  Female    Yes   Sat  Dinner     1  0.325733\n",
       "178        9.60  4.00  Female    Yes   Sun  Dinner     2  0.416667\n",
       "172        7.25  5.15    Male    Yes   Sun  Dinner     2  0.710345"
      ],
      "text/html": "<div>\n<style scoped>\n    .dataframe tbody tr th:only-of-type {\n        vertical-align: middle;\n    }\n\n    .dataframe tbody tr th {\n        vertical-align: top;\n    }\n\n    .dataframe thead th {\n        text-align: right;\n    }\n</style>\n<table border=\"1\" class=\"dataframe\">\n  <thead>\n    <tr style=\"text-align: right;\">\n      <th></th>\n      <th>total_bill</th>\n      <th>tip</th>\n      <th>sex</th>\n      <th>smoker</th>\n      <th>day</th>\n      <th>time</th>\n      <th>size</th>\n      <th>tips_pct</th>\n    </tr>\n  </thead>\n  <tbody>\n    <tr>\n      <th>88</th>\n      <td>24.71</td>\n      <td>5.85</td>\n      <td>Male</td>\n      <td>No</td>\n      <td>Thur</td>\n      <td>Lunch</td>\n      <td>2</td>\n      <td>0.236746</td>\n    </tr>\n    <tr>\n      <th>185</th>\n      <td>20.69</td>\n      <td>5.00</td>\n      <td>Male</td>\n      <td>No</td>\n      <td>Sun</td>\n      <td>Dinner</td>\n      <td>5</td>\n      <td>0.241663</td>\n    </tr>\n    <tr>\n      <th>51</th>\n      <td>10.29</td>\n      <td>2.60</td>\n      <td>Female</td>\n      <td>No</td>\n      <td>Sun</td>\n      <td>Dinner</td>\n      <td>2</td>\n      <td>0.252672</td>\n    </tr>\n    <tr>\n      <th>149</th>\n      <td>7.51</td>\n      <td>2.00</td>\n      <td>Male</td>\n      <td>No</td>\n      <td>Thur</td>\n      <td>Lunch</td>\n      <td>2</td>\n      <td>0.266312</td>\n    </tr>\n    <tr>\n      <th>232</th>\n      <td>11.61</td>\n      <td>3.39</td>\n      <td>Male</td>\n      <td>No</td>\n      <td>Sat</td>\n      <td>Dinner</td>\n      <td>2</td>\n      <td>0.291990</td>\n    </tr>\n    <tr>\n      <th>109</th>\n      <td>14.31</td>\n      <td>4.00</td>\n      <td>Female</td>\n      <td>Yes</td>\n      <td>Sat</td>\n      <td>Dinner</td>\n      <td>2</td>\n      <td>0.279525</td>\n    </tr>\n    <tr>\n      <th>183</th>\n      <td>23.17</td>\n      <td>6.50</td>\n      <td>Male</td>\n      <td>Yes</td>\n      <td>Sun</td>\n      <td>Dinner</td>\n      <td>4</td>\n      <td>0.280535</td>\n    </tr>\n    <tr>\n      <th>67</th>\n      <td>3.07</td>\n      <td>1.00</td>\n      <td>Female</td>\n      <td>Yes</td>\n      <td>Sat</td>\n      <td>Dinner</td>\n      <td>1</td>\n      <td>0.325733</td>\n    </tr>\n    <tr>\n      <th>178</th>\n      <td>9.60</td>\n      <td>4.00</td>\n      <td>Female</td>\n      <td>Yes</td>\n      <td>Sun</td>\n      <td>Dinner</td>\n      <td>2</td>\n      <td>0.416667</td>\n    </tr>\n    <tr>\n      <th>172</th>\n      <td>7.25</td>\n      <td>5.15</td>\n      <td>Male</td>\n      <td>Yes</td>\n      <td>Sun</td>\n      <td>Dinner</td>\n      <td>2</td>\n      <td>0.710345</td>\n    </tr>\n  </tbody>\n</table>\n</div>"
     },
     "metadata": {},
     "execution_count": 173
    }
   ],
   "source": [
    "tips.groupby('smoker', group_keys=False).apply(top)"
   ]
  },
  {
   "source": [
    "### Quantile and bucket analysis\n",
    "\n"
   ],
   "cell_type": "markdown",
   "metadata": {}
  },
  {
   "cell_type": "code",
   "execution_count": 174,
   "metadata": {},
   "outputs": [
    {
     "output_type": "execute_result",
     "data": {
      "text/plain": [
       "0      (0.214, 1.717]\n",
       "1     (-1.289, 0.214]\n",
       "2    (-2.799, -1.289]\n",
       "3     (-1.289, 0.214]\n",
       "4     (-1.289, 0.214]\n",
       "5     (-1.289, 0.214]\n",
       "6     (-1.289, 0.214]\n",
       "7      (1.717, 3.221]\n",
       "8      (0.214, 1.717]\n",
       "9      (0.214, 1.717]\n",
       "Name: data1, dtype: category\n",
       "Categories (4, interval[float64]): [(-2.799, -1.289] < (-1.289, 0.214] < (0.214, 1.717] < (1.717, 3.221]]"
      ]
     },
     "metadata": {},
     "execution_count": 174
    }
   ],
   "source": [
    "frame = pd.DataFrame({'data1': np.random.randn(1000), 'data2': np.random.randn(1000)})\n",
    "\n",
    "quartiles = pd.cut(frame.data1, 4)\n",
    "\n",
    "quartiles[:10]"
   ]
  },
  {
   "cell_type": "code",
   "execution_count": 175,
   "metadata": {},
   "outputs": [
    {
     "output_type": "execute_result",
     "data": {
      "text/plain": [
       "                       min       max  count      mean\n",
       "data1                                                \n",
       "(-2.799, -1.289] -2.722241  1.969175  105.0 -0.219115\n",
       "(-1.289, 0.214]  -2.947469  3.055888  481.0  0.056012\n",
       "(0.214, 1.717]   -3.244358  4.017828  372.0  0.000260\n",
       "(1.717, 3.221]   -1.624765  1.609747   42.0 -0.004773"
      ],
      "text/html": "<div>\n<style scoped>\n    .dataframe tbody tr th:only-of-type {\n        vertical-align: middle;\n    }\n\n    .dataframe tbody tr th {\n        vertical-align: top;\n    }\n\n    .dataframe thead th {\n        text-align: right;\n    }\n</style>\n<table border=\"1\" class=\"dataframe\">\n  <thead>\n    <tr style=\"text-align: right;\">\n      <th></th>\n      <th>min</th>\n      <th>max</th>\n      <th>count</th>\n      <th>mean</th>\n    </tr>\n    <tr>\n      <th>data1</th>\n      <th></th>\n      <th></th>\n      <th></th>\n      <th></th>\n    </tr>\n  </thead>\n  <tbody>\n    <tr>\n      <th>(-2.799, -1.289]</th>\n      <td>-2.722241</td>\n      <td>1.969175</td>\n      <td>105.0</td>\n      <td>-0.219115</td>\n    </tr>\n    <tr>\n      <th>(-1.289, 0.214]</th>\n      <td>-2.947469</td>\n      <td>3.055888</td>\n      <td>481.0</td>\n      <td>0.056012</td>\n    </tr>\n    <tr>\n      <th>(0.214, 1.717]</th>\n      <td>-3.244358</td>\n      <td>4.017828</td>\n      <td>372.0</td>\n      <td>0.000260</td>\n    </tr>\n    <tr>\n      <th>(1.717, 3.221]</th>\n      <td>-1.624765</td>\n      <td>1.609747</td>\n      <td>42.0</td>\n      <td>-0.004773</td>\n    </tr>\n  </tbody>\n</table>\n</div>"
     },
     "metadata": {},
     "execution_count": 175
    }
   ],
   "source": [
    "# The categorical object returned by cut can be passed directly to groupby.\n",
    "\n",
    "def get_stats(group):\n",
    "    return {'min':group.min(), 'max':group.max(), 'count':group.count(), 'mean':group.mean()}\n",
    "\n",
    "grouped = frame.data2.groupby(quartiles)\n",
    "\n",
    "grouped.apply(get_stats).unstack()"
   ]
  },
  {
   "cell_type": "code",
   "execution_count": 176,
   "metadata": {},
   "outputs": [
    {
     "output_type": "execute_result",
     "data": {
      "text/plain": [
       "            min       max  count      mean\n",
       "data1                                     \n",
       "0     -2.722241  1.969175  100.0 -0.218817\n",
       "1     -2.102919  3.055888  100.0 -0.076556\n",
       "2     -2.432829  2.234884  100.0  0.016535\n",
       "3     -2.246667  2.010452  100.0  0.028383\n",
       "4     -2.947469  2.857545  100.0  0.120175\n",
       "5     -1.607793  2.420269  100.0  0.179316\n",
       "6     -3.079945  2.028754  100.0 -0.089465\n",
       "7     -2.565098  4.017828  100.0 -0.061335\n",
       "8     -3.244358  2.367541  100.0  0.170705\n",
       "9     -2.847245  1.672403  100.0 -0.030633"
      ],
      "text/html": "<div>\n<style scoped>\n    .dataframe tbody tr th:only-of-type {\n        vertical-align: middle;\n    }\n\n    .dataframe tbody tr th {\n        vertical-align: top;\n    }\n\n    .dataframe thead th {\n        text-align: right;\n    }\n</style>\n<table border=\"1\" class=\"dataframe\">\n  <thead>\n    <tr style=\"text-align: right;\">\n      <th></th>\n      <th>min</th>\n      <th>max</th>\n      <th>count</th>\n      <th>mean</th>\n    </tr>\n    <tr>\n      <th>data1</th>\n      <th></th>\n      <th></th>\n      <th></th>\n      <th></th>\n    </tr>\n  </thead>\n  <tbody>\n    <tr>\n      <th>0</th>\n      <td>-2.722241</td>\n      <td>1.969175</td>\n      <td>100.0</td>\n      <td>-0.218817</td>\n    </tr>\n    <tr>\n      <th>1</th>\n      <td>-2.102919</td>\n      <td>3.055888</td>\n      <td>100.0</td>\n      <td>-0.076556</td>\n    </tr>\n    <tr>\n      <th>2</th>\n      <td>-2.432829</td>\n      <td>2.234884</td>\n      <td>100.0</td>\n      <td>0.016535</td>\n    </tr>\n    <tr>\n      <th>3</th>\n      <td>-2.246667</td>\n      <td>2.010452</td>\n      <td>100.0</td>\n      <td>0.028383</td>\n    </tr>\n    <tr>\n      <th>4</th>\n      <td>-2.947469</td>\n      <td>2.857545</td>\n      <td>100.0</td>\n      <td>0.120175</td>\n    </tr>\n    <tr>\n      <th>5</th>\n      <td>-1.607793</td>\n      <td>2.420269</td>\n      <td>100.0</td>\n      <td>0.179316</td>\n    </tr>\n    <tr>\n      <th>6</th>\n      <td>-3.079945</td>\n      <td>2.028754</td>\n      <td>100.0</td>\n      <td>-0.089465</td>\n    </tr>\n    <tr>\n      <th>7</th>\n      <td>-2.565098</td>\n      <td>4.017828</td>\n      <td>100.0</td>\n      <td>-0.061335</td>\n    </tr>\n    <tr>\n      <th>8</th>\n      <td>-3.244358</td>\n      <td>2.367541</td>\n      <td>100.0</td>\n      <td>0.170705</td>\n    </tr>\n    <tr>\n      <th>9</th>\n      <td>-2.847245</td>\n      <td>1.672403</td>\n      <td>100.0</td>\n      <td>-0.030633</td>\n    </tr>\n  </tbody>\n</table>\n</div>"
     },
     "metadata": {},
     "execution_count": 176
    }
   ],
   "source": [
    "# These were equal-length buckets; to comupte equal-size buckets based on sample quantiles, use qcut.\n",
    "# Return quantile numbers\n",
    "\n",
    "grouping = pd.qcut(frame.data1, 10, labels=False)\n",
    "\n",
    "grouped = frame.data2.groupby(grouping)\n",
    "\n",
    "grouped.apply(get_stats).unstack()"
   ]
  },
  {
   "source": [
    "### Example: filling missing values with group-specific values\n",
    "\n",
    "When cleaning up missing data, in some cases you will replace data observations using `dropna`, but in others you may want to impute (fill in) the null (NA) values using a fixed value or some value derived from the data.  `fillna` is the right tool to use."
   ],
   "cell_type": "markdown",
   "metadata": {}
  },
  {
   "cell_type": "code",
   "execution_count": 177,
   "metadata": {},
   "outputs": [
    {
     "output_type": "execute_result",
     "data": {
      "text/plain": [
       "0         NaN\n",
       "1   -0.009925\n",
       "2         NaN\n",
       "3   -1.920840\n",
       "4         NaN\n",
       "5    2.040251\n",
       "dtype: float64"
      ]
     },
     "metadata": {},
     "execution_count": 177
    }
   ],
   "source": [
    "s = pd.Series(np.random.randn(6))\n",
    "\n",
    "s[::2] = np.nan\n",
    "\n",
    "s"
   ]
  },
  {
   "cell_type": "code",
   "execution_count": 178,
   "metadata": {},
   "outputs": [
    {
     "output_type": "execute_result",
     "data": {
      "text/plain": [
       "0    0.036495\n",
       "1   -0.009925\n",
       "2    0.036495\n",
       "3   -1.920840\n",
       "4    0.036495\n",
       "5    2.040251\n",
       "dtype: float64"
      ]
     },
     "metadata": {},
     "execution_count": 178
    }
   ],
   "source": [
    "s.fillna(s.mean())"
   ]
  },
  {
   "source": [
    "Suppose you need the fill value to vary by group. One way to do this is to group the data and use `apply` with a function that calls `fillna` on each data chunk."
   ],
   "cell_type": "markdown",
   "metadata": {}
  },
  {
   "cell_type": "code",
   "execution_count": 179,
   "metadata": {},
   "outputs": [
    {
     "output_type": "execute_result",
     "data": {
      "text/plain": [
       "Ohio       1.373964\n",
       "NY        -0.658468\n",
       "Vermont    0.908406\n",
       "Florida   -1.067885\n",
       "Oregon    -0.654349\n",
       "Nevada    -0.885859\n",
       "CA         0.751873\n",
       "Idaho     -0.812901\n",
       "dtype: float64"
      ]
     },
     "metadata": {},
     "execution_count": 179
    }
   ],
   "source": [
    "states = ['Ohio','NY','Vermont','Florida','Oregon','Nevada','CA','Idaho']\n",
    "\n",
    "group_key = ['East'] * 4 + ['West'] * 4\n",
    "\n",
    "data = pd.Series(np.random.randn(8), index = states)\n",
    "\n",
    "data"
   ]
  },
  {
   "cell_type": "code",
   "execution_count": 180,
   "metadata": {},
   "outputs": [
    {
     "output_type": "execute_result",
     "data": {
      "text/plain": [
       "Ohio       1.373964\n",
       "NY        -0.658468\n",
       "Vermont         NaN\n",
       "Florida   -1.067885\n",
       "Oregon    -0.654349\n",
       "Nevada          NaN\n",
       "CA         0.751873\n",
       "Idaho           NaN\n",
       "dtype: float64"
      ]
     },
     "metadata": {},
     "execution_count": 180
    }
   ],
   "source": [
    "data[['Vermont','Nevada','Idaho']] = np.nan\n",
    "data"
   ]
  },
  {
   "cell_type": "code",
   "execution_count": 181,
   "metadata": {},
   "outputs": [
    {
     "output_type": "execute_result",
     "data": {
      "text/plain": [
       "East   -0.117463\n",
       "West    0.048762\n",
       "dtype: float64"
      ]
     },
     "metadata": {},
     "execution_count": 181
    }
   ],
   "source": [
    "data.groupby(group_key).mean()"
   ]
  },
  {
   "cell_type": "code",
   "execution_count": 182,
   "metadata": {},
   "outputs": [
    {
     "output_type": "execute_result",
     "data": {
      "text/plain": [
       "Ohio       1.373964\n",
       "NY        -0.658468\n",
       "Vermont   -0.117463\n",
       "Florida   -1.067885\n",
       "Oregon    -0.654349\n",
       "Nevada     0.048762\n",
       "CA         0.751873\n",
       "Idaho      0.048762\n",
       "dtype: float64"
      ]
     },
     "metadata": {},
     "execution_count": 182
    }
   ],
   "source": [
    "# Fill the NA values using the group means\n",
    "\n",
    "fill_mean = lambda g: g.fillna(g.mean())\n",
    "\n",
    "data.groupby(group_key).apply(fill_mean)"
   ]
  },
  {
   "cell_type": "code",
   "execution_count": 183,
   "metadata": {},
   "outputs": [
    {
     "output_type": "execute_result",
     "data": {
      "text/plain": [
       "Ohio       1.373964\n",
       "NY        -0.658468\n",
       "Vermont    0.500000\n",
       "Florida   -1.067885\n",
       "Oregon    -0.654349\n",
       "Nevada    -1.000000\n",
       "CA         0.751873\n",
       "Idaho     -1.000000\n",
       "dtype: float64"
      ]
     },
     "metadata": {},
     "execution_count": 183
    }
   ],
   "source": [
    "fill_values = {'East': 0.5, 'West': -1}\n",
    "\n",
    "fill_func = lambda g: g.fillna(fill_values[g.name])\n",
    "\n",
    "data.groupby(group_key).apply(fill_func)"
   ]
  },
  {
   "source": [
    "### Example: random sampling and permutation\n",
    "\n",
    "Suppose you wanted to draw a random sample (with or without replacement) from a large dataset for Monte Carlo simulation purposes. There are a number of ways to perform the \"draws\""
   ],
   "cell_type": "markdown",
   "metadata": {}
  },
  {
   "cell_type": "code",
   "execution_count": 184,
   "metadata": {},
   "outputs": [],
   "source": [
    "# Heart, Spades, Clubs, Diamonds\n",
    "\n",
    "suits = ['H','S','C','D']\n",
    "card_val = (list(range(1, 11)) + [10] * 3) * 4\n",
    "base_names = ['A'] + list(range(2, 11)) + ['J','K','Q']\n",
    "cards = []\n",
    "\n",
    "for suit in ['H','S','C','D']:\n",
    "    cards.extend(str(num) + suit for num in base_names)\n",
    "\n",
    "deck = pd.Series(card_val, index = cards)"
   ]
  },
  {
   "cell_type": "code",
   "execution_count": 185,
   "metadata": {},
   "outputs": [
    {
     "output_type": "execute_result",
     "data": {
      "text/plain": [
       "AH      1\n",
       "2H      2\n",
       "3H      3\n",
       "4H      4\n",
       "5H      5\n",
       "6H      6\n",
       "7H      7\n",
       "8H      8\n",
       "9H      9\n",
       "10H    10\n",
       "JH     10\n",
       "KH     10\n",
       "QH     10\n",
       "dtype: int64"
      ]
     },
     "metadata": {},
     "execution_count": 185
    }
   ],
   "source": [
    "deck[:13]"
   ]
  },
  {
   "cell_type": "code",
   "execution_count": 186,
   "metadata": {},
   "outputs": [
    {
     "output_type": "execute_result",
     "data": {
      "text/plain": [
       "9S     9\n",
       "KH    10\n",
       "2C     2\n",
       "3S     3\n",
       "3C     3\n",
       "dtype: int64"
      ]
     },
     "metadata": {},
     "execution_count": 186
    }
   ],
   "source": [
    "def draw(deck, n = 5):\n",
    "    return deck.sample(n)\n",
    "\n",
    "draw(deck)"
   ]
  },
  {
   "cell_type": "code",
   "execution_count": 187,
   "metadata": {},
   "outputs": [
    {
     "output_type": "execute_result",
     "data": {
      "text/plain": [
       "C  QC    10\n",
       "   9C     9\n",
       "D  8D     8\n",
       "   5D     5\n",
       "H  9H     9\n",
       "   4H     4\n",
       "S  JS    10\n",
       "   8S     8\n",
       "dtype: int64"
      ]
     },
     "metadata": {},
     "execution_count": 187
    }
   ],
   "source": [
    "# Suppose you wanted two random cards from each suit.\n",
    "\n",
    "get_suit = lambda card: card[-1]  # last letter is suit\n",
    "\n",
    "deck.groupby(get_suit).apply(draw, n = 2)"
   ]
  },
  {
   "cell_type": "code",
   "execution_count": 188,
   "metadata": {},
   "outputs": [
    {
     "output_type": "execute_result",
     "data": {
      "text/plain": [
       "4C      4\n",
       "QC     10\n",
       "6D      6\n",
       "2D      2\n",
       "2H      2\n",
       "10H    10\n",
       "2S      2\n",
       "6S      6\n",
       "dtype: int64"
      ]
     },
     "metadata": {},
     "execution_count": 188
    }
   ],
   "source": [
    "# Alternatively, we could write:\n",
    "\n",
    "deck.groupby(get_suit, group_keys = False).apply(draw, n = 2)"
   ]
  },
  {
   "source": [
    "## Pivot Tables and Cross-Tabulation\n",
    "\n",
    "A *pivot table* is a data summarization tool frequently found in spreadsheet programs and other data analysis software. It aggregates a table of data by one or more keys, arranging the data in a rectanble with some of the group keys along the rows and some along the columns."
   ],
   "cell_type": "markdown",
   "metadata": {}
  },
  {
   "cell_type": "code",
   "execution_count": 189,
   "metadata": {},
   "outputs": [
    {
     "output_type": "execute_result",
     "data": {
      "text/plain": [
       "                 size       tip  tips_pct  total_bill\n",
       "day  smoker                                          \n",
       "Fri  No      2.250000  2.812500  0.151650   18.420000\n",
       "     Yes     2.066667  2.714000  0.174783   16.813333\n",
       "Sat  No      2.555556  3.102889  0.158048   19.661778\n",
       "     Yes     2.476190  2.875476  0.147906   21.276667\n",
       "Sun  No      2.929825  3.167895  0.160113   20.506667\n",
       "     Yes     2.578947  3.516842  0.187250   24.120000\n",
       "Thur No      2.488889  2.673778  0.160298   17.113111\n",
       "     Yes     2.352941  3.030000  0.163863   19.190588"
      ],
      "text/html": "<div>\n<style scoped>\n    .dataframe tbody tr th:only-of-type {\n        vertical-align: middle;\n    }\n\n    .dataframe tbody tr th {\n        vertical-align: top;\n    }\n\n    .dataframe thead th {\n        text-align: right;\n    }\n</style>\n<table border=\"1\" class=\"dataframe\">\n  <thead>\n    <tr style=\"text-align: right;\">\n      <th></th>\n      <th></th>\n      <th>size</th>\n      <th>tip</th>\n      <th>tips_pct</th>\n      <th>total_bill</th>\n    </tr>\n    <tr>\n      <th>day</th>\n      <th>smoker</th>\n      <th></th>\n      <th></th>\n      <th></th>\n      <th></th>\n    </tr>\n  </thead>\n  <tbody>\n    <tr>\n      <th rowspan=\"2\" valign=\"top\">Fri</th>\n      <th>No</th>\n      <td>2.250000</td>\n      <td>2.812500</td>\n      <td>0.151650</td>\n      <td>18.420000</td>\n    </tr>\n    <tr>\n      <th>Yes</th>\n      <td>2.066667</td>\n      <td>2.714000</td>\n      <td>0.174783</td>\n      <td>16.813333</td>\n    </tr>\n    <tr>\n      <th rowspan=\"2\" valign=\"top\">Sat</th>\n      <th>No</th>\n      <td>2.555556</td>\n      <td>3.102889</td>\n      <td>0.158048</td>\n      <td>19.661778</td>\n    </tr>\n    <tr>\n      <th>Yes</th>\n      <td>2.476190</td>\n      <td>2.875476</td>\n      <td>0.147906</td>\n      <td>21.276667</td>\n    </tr>\n    <tr>\n      <th rowspan=\"2\" valign=\"top\">Sun</th>\n      <th>No</th>\n      <td>2.929825</td>\n      <td>3.167895</td>\n      <td>0.160113</td>\n      <td>20.506667</td>\n    </tr>\n    <tr>\n      <th>Yes</th>\n      <td>2.578947</td>\n      <td>3.516842</td>\n      <td>0.187250</td>\n      <td>24.120000</td>\n    </tr>\n    <tr>\n      <th rowspan=\"2\" valign=\"top\">Thur</th>\n      <th>No</th>\n      <td>2.488889</td>\n      <td>2.673778</td>\n      <td>0.160298</td>\n      <td>17.113111</td>\n    </tr>\n    <tr>\n      <th>Yes</th>\n      <td>2.352941</td>\n      <td>3.030000</td>\n      <td>0.163863</td>\n      <td>19.190588</td>\n    </tr>\n  </tbody>\n</table>\n</div>"
     },
     "metadata": {},
     "execution_count": 189
    }
   ],
   "source": [
    "tips.pivot_table(index = ['day','smoker'])"
   ]
  },
  {
   "cell_type": "code",
   "execution_count": 190,
   "metadata": {},
   "outputs": [
    {
     "output_type": "execute_result",
     "data": {
      "text/plain": [
       "                 size            tips_pct          \n",
       "smoker             No       Yes        No       Yes\n",
       "time   day                                         \n",
       "Dinner Fri   2.000000  2.222222  0.139622  0.165347\n",
       "       Sat   2.555556  2.476190  0.158048  0.147906\n",
       "       Sun   2.929825  2.578947  0.160113  0.187250\n",
       "       Thur  2.000000       NaN  0.159744       NaN\n",
       "Lunch  Fri   3.000000  1.833333  0.187735  0.188937\n",
       "       Thur  2.500000  2.352941  0.160311  0.163863"
      ],
      "text/html": "<div>\n<style scoped>\n    .dataframe tbody tr th:only-of-type {\n        vertical-align: middle;\n    }\n\n    .dataframe tbody tr th {\n        vertical-align: top;\n    }\n\n    .dataframe thead tr th {\n        text-align: left;\n    }\n\n    .dataframe thead tr:last-of-type th {\n        text-align: right;\n    }\n</style>\n<table border=\"1\" class=\"dataframe\">\n  <thead>\n    <tr>\n      <th></th>\n      <th></th>\n      <th colspan=\"2\" halign=\"left\">size</th>\n      <th colspan=\"2\" halign=\"left\">tips_pct</th>\n    </tr>\n    <tr>\n      <th></th>\n      <th>smoker</th>\n      <th>No</th>\n      <th>Yes</th>\n      <th>No</th>\n      <th>Yes</th>\n    </tr>\n    <tr>\n      <th>time</th>\n      <th>day</th>\n      <th></th>\n      <th></th>\n      <th></th>\n      <th></th>\n    </tr>\n  </thead>\n  <tbody>\n    <tr>\n      <th rowspan=\"4\" valign=\"top\">Dinner</th>\n      <th>Fri</th>\n      <td>2.000000</td>\n      <td>2.222222</td>\n      <td>0.139622</td>\n      <td>0.165347</td>\n    </tr>\n    <tr>\n      <th>Sat</th>\n      <td>2.555556</td>\n      <td>2.476190</td>\n      <td>0.158048</td>\n      <td>0.147906</td>\n    </tr>\n    <tr>\n      <th>Sun</th>\n      <td>2.929825</td>\n      <td>2.578947</td>\n      <td>0.160113</td>\n      <td>0.187250</td>\n    </tr>\n    <tr>\n      <th>Thur</th>\n      <td>2.000000</td>\n      <td>NaN</td>\n      <td>0.159744</td>\n      <td>NaN</td>\n    </tr>\n    <tr>\n      <th rowspan=\"2\" valign=\"top\">Lunch</th>\n      <th>Fri</th>\n      <td>3.000000</td>\n      <td>1.833333</td>\n      <td>0.187735</td>\n      <td>0.188937</td>\n    </tr>\n    <tr>\n      <th>Thur</th>\n      <td>2.500000</td>\n      <td>2.352941</td>\n      <td>0.160311</td>\n      <td>0.163863</td>\n    </tr>\n  </tbody>\n</table>\n</div>"
     },
     "metadata": {},
     "execution_count": 190
    }
   ],
   "source": [
    "# This could have been produced with groupby directly.\n",
    "# Suppose we want to aggregate only tip_pct and size, and additionally group by time.\n",
    "\n",
    "tips.pivot_table(['tips_pct', 'size'], index = ['time','day'], columns = 'smoker')"
   ]
  },
  {
   "cell_type": "code",
   "execution_count": 191,
   "metadata": {},
   "outputs": [
    {
     "output_type": "execute_result",
     "data": {
      "text/plain": [
       "                 size                      tips_pct                    \n",
       "smoker             No       Yes       All        No       Yes       All\n",
       "time   day                                                             \n",
       "Dinner Fri   2.000000  2.222222  2.166667  0.139622  0.165347  0.158916\n",
       "       Sat   2.555556  2.476190  2.517241  0.158048  0.147906  0.153152\n",
       "       Sun   2.929825  2.578947  2.842105  0.160113  0.187250  0.166897\n",
       "       Thur  2.000000       NaN  2.000000  0.159744       NaN  0.159744\n",
       "Lunch  Fri   3.000000  1.833333  2.000000  0.187735  0.188937  0.188765\n",
       "       Thur  2.500000  2.352941  2.459016  0.160311  0.163863  0.161301\n",
       "All          2.668874  2.408602  2.569672  0.159328  0.163196  0.160803"
      ],
      "text/html": "<div>\n<style scoped>\n    .dataframe tbody tr th:only-of-type {\n        vertical-align: middle;\n    }\n\n    .dataframe tbody tr th {\n        vertical-align: top;\n    }\n\n    .dataframe thead tr th {\n        text-align: left;\n    }\n\n    .dataframe thead tr:last-of-type th {\n        text-align: right;\n    }\n</style>\n<table border=\"1\" class=\"dataframe\">\n  <thead>\n    <tr>\n      <th></th>\n      <th></th>\n      <th colspan=\"3\" halign=\"left\">size</th>\n      <th colspan=\"3\" halign=\"left\">tips_pct</th>\n    </tr>\n    <tr>\n      <th></th>\n      <th>smoker</th>\n      <th>No</th>\n      <th>Yes</th>\n      <th>All</th>\n      <th>No</th>\n      <th>Yes</th>\n      <th>All</th>\n    </tr>\n    <tr>\n      <th>time</th>\n      <th>day</th>\n      <th></th>\n      <th></th>\n      <th></th>\n      <th></th>\n      <th></th>\n      <th></th>\n    </tr>\n  </thead>\n  <tbody>\n    <tr>\n      <th rowspan=\"4\" valign=\"top\">Dinner</th>\n      <th>Fri</th>\n      <td>2.000000</td>\n      <td>2.222222</td>\n      <td>2.166667</td>\n      <td>0.139622</td>\n      <td>0.165347</td>\n      <td>0.158916</td>\n    </tr>\n    <tr>\n      <th>Sat</th>\n      <td>2.555556</td>\n      <td>2.476190</td>\n      <td>2.517241</td>\n      <td>0.158048</td>\n      <td>0.147906</td>\n      <td>0.153152</td>\n    </tr>\n    <tr>\n      <th>Sun</th>\n      <td>2.929825</td>\n      <td>2.578947</td>\n      <td>2.842105</td>\n      <td>0.160113</td>\n      <td>0.187250</td>\n      <td>0.166897</td>\n    </tr>\n    <tr>\n      <th>Thur</th>\n      <td>2.000000</td>\n      <td>NaN</td>\n      <td>2.000000</td>\n      <td>0.159744</td>\n      <td>NaN</td>\n      <td>0.159744</td>\n    </tr>\n    <tr>\n      <th rowspan=\"2\" valign=\"top\">Lunch</th>\n      <th>Fri</th>\n      <td>3.000000</td>\n      <td>1.833333</td>\n      <td>2.000000</td>\n      <td>0.187735</td>\n      <td>0.188937</td>\n      <td>0.188765</td>\n    </tr>\n    <tr>\n      <th>Thur</th>\n      <td>2.500000</td>\n      <td>2.352941</td>\n      <td>2.459016</td>\n      <td>0.160311</td>\n      <td>0.163863</td>\n      <td>0.161301</td>\n    </tr>\n    <tr>\n      <th>All</th>\n      <th></th>\n      <td>2.668874</td>\n      <td>2.408602</td>\n      <td>2.569672</td>\n      <td>0.159328</td>\n      <td>0.163196</td>\n      <td>0.160803</td>\n    </tr>\n  </tbody>\n</table>\n</div>"
     },
     "metadata": {},
     "execution_count": 191
    }
   ],
   "source": [
    "# We could augment this table to include partial totals by passing margins = True. \n",
    "\n",
    "tips.pivot_table(['tips_pct','size'], index = ['time','day'], columns = 'smoker', margins=True)"
   ]
  },
  {
   "cell_type": "code",
   "execution_count": 192,
   "metadata": {},
   "outputs": [
    {
     "output_type": "execute_result",
     "data": {
      "text/plain": [
       "day             Fri   Sat   Sun  Thur    All\n",
       "time   smoker                               \n",
       "Dinner No       3.0  45.0  57.0   1.0  106.0\n",
       "       Yes      9.0  42.0  19.0   NaN   70.0\n",
       "Lunch  No       1.0   NaN   NaN  44.0   45.0\n",
       "       Yes      6.0   NaN   NaN  17.0   23.0\n",
       "All            19.0  87.0  76.0  62.0  244.0"
      ],
      "text/html": "<div>\n<style scoped>\n    .dataframe tbody tr th:only-of-type {\n        vertical-align: middle;\n    }\n\n    .dataframe tbody tr th {\n        vertical-align: top;\n    }\n\n    .dataframe thead th {\n        text-align: right;\n    }\n</style>\n<table border=\"1\" class=\"dataframe\">\n  <thead>\n    <tr style=\"text-align: right;\">\n      <th></th>\n      <th>day</th>\n      <th>Fri</th>\n      <th>Sat</th>\n      <th>Sun</th>\n      <th>Thur</th>\n      <th>All</th>\n    </tr>\n    <tr>\n      <th>time</th>\n      <th>smoker</th>\n      <th></th>\n      <th></th>\n      <th></th>\n      <th></th>\n      <th></th>\n    </tr>\n  </thead>\n  <tbody>\n    <tr>\n      <th rowspan=\"2\" valign=\"top\">Dinner</th>\n      <th>No</th>\n      <td>3.0</td>\n      <td>45.0</td>\n      <td>57.0</td>\n      <td>1.0</td>\n      <td>106.0</td>\n    </tr>\n    <tr>\n      <th>Yes</th>\n      <td>9.0</td>\n      <td>42.0</td>\n      <td>19.0</td>\n      <td>NaN</td>\n      <td>70.0</td>\n    </tr>\n    <tr>\n      <th rowspan=\"2\" valign=\"top\">Lunch</th>\n      <th>No</th>\n      <td>1.0</td>\n      <td>NaN</td>\n      <td>NaN</td>\n      <td>44.0</td>\n      <td>45.0</td>\n    </tr>\n    <tr>\n      <th>Yes</th>\n      <td>6.0</td>\n      <td>NaN</td>\n      <td>NaN</td>\n      <td>17.0</td>\n      <td>23.0</td>\n    </tr>\n    <tr>\n      <th>All</th>\n      <th></th>\n      <td>19.0</td>\n      <td>87.0</td>\n      <td>76.0</td>\n      <td>62.0</td>\n      <td>244.0</td>\n    </tr>\n  </tbody>\n</table>\n</div>"
     },
     "metadata": {},
     "execution_count": 192
    }
   ],
   "source": [
    "# To use a different aggregation function, pass it to aggfunc.\n",
    "\n",
    "tips.pivot_table('tips_pct', index = ['time','smoker'], columns = 'day', aggfunc = len, margins=True)"
   ]
  },
  {
   "cell_type": "code",
   "execution_count": 193,
   "metadata": {},
   "outputs": [
    {
     "output_type": "execute_result",
     "data": {
      "text/plain": [
       "day                      Fri       Sat       Sun      Thur\n",
       "time   size smoker                                        \n",
       "Dinner 1    No      0.000000  0.137931  0.000000  0.000000\n",
       "            Yes     0.000000  0.325733  0.000000  0.000000\n",
       "       2    No      0.139622  0.162705  0.168859  0.159744\n",
       "            Yes     0.171297  0.148668  0.207893  0.000000\n",
       "       3    No      0.000000  0.154661  0.152663  0.000000\n",
       "            Yes     0.000000  0.144995  0.152660  0.000000\n",
       "       4    No      0.000000  0.150096  0.148143  0.000000\n",
       "            Yes     0.117750  0.124515  0.193370  0.000000\n",
       "       5    No      0.000000  0.000000  0.206928  0.000000\n",
       "            Yes     0.000000  0.106572  0.065660  0.000000\n",
       "       6    No      0.000000  0.000000  0.103799  0.000000\n",
       "Lunch  1    No      0.000000  0.000000  0.000000  0.181728\n",
       "            Yes     0.223776  0.000000  0.000000  0.000000\n",
       "       2    No      0.000000  0.000000  0.000000  0.166005\n",
       "            Yes     0.181969  0.000000  0.000000  0.158843\n",
       "       3    No      0.187735  0.000000  0.000000  0.084246\n",
       "            Yes     0.000000  0.000000  0.000000  0.204952\n",
       "       4    No      0.000000  0.000000  0.000000  0.138919\n",
       "            Yes     0.000000  0.000000  0.000000  0.155410\n",
       "       5    No      0.000000  0.000000  0.000000  0.121389\n",
       "       6    No      0.000000  0.000000  0.000000  0.173706"
      ],
      "text/html": "<div>\n<style scoped>\n    .dataframe tbody tr th:only-of-type {\n        vertical-align: middle;\n    }\n\n    .dataframe tbody tr th {\n        vertical-align: top;\n    }\n\n    .dataframe thead th {\n        text-align: right;\n    }\n</style>\n<table border=\"1\" class=\"dataframe\">\n  <thead>\n    <tr style=\"text-align: right;\">\n      <th></th>\n      <th></th>\n      <th>day</th>\n      <th>Fri</th>\n      <th>Sat</th>\n      <th>Sun</th>\n      <th>Thur</th>\n    </tr>\n    <tr>\n      <th>time</th>\n      <th>size</th>\n      <th>smoker</th>\n      <th></th>\n      <th></th>\n      <th></th>\n      <th></th>\n    </tr>\n  </thead>\n  <tbody>\n    <tr>\n      <th rowspan=\"11\" valign=\"top\">Dinner</th>\n      <th rowspan=\"2\" valign=\"top\">1</th>\n      <th>No</th>\n      <td>0.000000</td>\n      <td>0.137931</td>\n      <td>0.000000</td>\n      <td>0.000000</td>\n    </tr>\n    <tr>\n      <th>Yes</th>\n      <td>0.000000</td>\n      <td>0.325733</td>\n      <td>0.000000</td>\n      <td>0.000000</td>\n    </tr>\n    <tr>\n      <th rowspan=\"2\" valign=\"top\">2</th>\n      <th>No</th>\n      <td>0.139622</td>\n      <td>0.162705</td>\n      <td>0.168859</td>\n      <td>0.159744</td>\n    </tr>\n    <tr>\n      <th>Yes</th>\n      <td>0.171297</td>\n      <td>0.148668</td>\n      <td>0.207893</td>\n      <td>0.000000</td>\n    </tr>\n    <tr>\n      <th rowspan=\"2\" valign=\"top\">3</th>\n      <th>No</th>\n      <td>0.000000</td>\n      <td>0.154661</td>\n      <td>0.152663</td>\n      <td>0.000000</td>\n    </tr>\n    <tr>\n      <th>Yes</th>\n      <td>0.000000</td>\n      <td>0.144995</td>\n      <td>0.152660</td>\n      <td>0.000000</td>\n    </tr>\n    <tr>\n      <th rowspan=\"2\" valign=\"top\">4</th>\n      <th>No</th>\n      <td>0.000000</td>\n      <td>0.150096</td>\n      <td>0.148143</td>\n      <td>0.000000</td>\n    </tr>\n    <tr>\n      <th>Yes</th>\n      <td>0.117750</td>\n      <td>0.124515</td>\n      <td>0.193370</td>\n      <td>0.000000</td>\n    </tr>\n    <tr>\n      <th rowspan=\"2\" valign=\"top\">5</th>\n      <th>No</th>\n      <td>0.000000</td>\n      <td>0.000000</td>\n      <td>0.206928</td>\n      <td>0.000000</td>\n    </tr>\n    <tr>\n      <th>Yes</th>\n      <td>0.000000</td>\n      <td>0.106572</td>\n      <td>0.065660</td>\n      <td>0.000000</td>\n    </tr>\n    <tr>\n      <th>6</th>\n      <th>No</th>\n      <td>0.000000</td>\n      <td>0.000000</td>\n      <td>0.103799</td>\n      <td>0.000000</td>\n    </tr>\n    <tr>\n      <th rowspan=\"10\" valign=\"top\">Lunch</th>\n      <th rowspan=\"2\" valign=\"top\">1</th>\n      <th>No</th>\n      <td>0.000000</td>\n      <td>0.000000</td>\n      <td>0.000000</td>\n      <td>0.181728</td>\n    </tr>\n    <tr>\n      <th>Yes</th>\n      <td>0.223776</td>\n      <td>0.000000</td>\n      <td>0.000000</td>\n      <td>0.000000</td>\n    </tr>\n    <tr>\n      <th rowspan=\"2\" valign=\"top\">2</th>\n      <th>No</th>\n      <td>0.000000</td>\n      <td>0.000000</td>\n      <td>0.000000</td>\n      <td>0.166005</td>\n    </tr>\n    <tr>\n      <th>Yes</th>\n      <td>0.181969</td>\n      <td>0.000000</td>\n      <td>0.000000</td>\n      <td>0.158843</td>\n    </tr>\n    <tr>\n      <th rowspan=\"2\" valign=\"top\">3</th>\n      <th>No</th>\n      <td>0.187735</td>\n      <td>0.000000</td>\n      <td>0.000000</td>\n      <td>0.084246</td>\n    </tr>\n    <tr>\n      <th>Yes</th>\n      <td>0.000000</td>\n      <td>0.000000</td>\n      <td>0.000000</td>\n      <td>0.204952</td>\n    </tr>\n    <tr>\n      <th rowspan=\"2\" valign=\"top\">4</th>\n      <th>No</th>\n      <td>0.000000</td>\n      <td>0.000000</td>\n      <td>0.000000</td>\n      <td>0.138919</td>\n    </tr>\n    <tr>\n      <th>Yes</th>\n      <td>0.000000</td>\n      <td>0.000000</td>\n      <td>0.000000</td>\n      <td>0.155410</td>\n    </tr>\n    <tr>\n      <th>5</th>\n      <th>No</th>\n      <td>0.000000</td>\n      <td>0.000000</td>\n      <td>0.000000</td>\n      <td>0.121389</td>\n    </tr>\n    <tr>\n      <th>6</th>\n      <th>No</th>\n      <td>0.000000</td>\n      <td>0.000000</td>\n      <td>0.000000</td>\n      <td>0.173706</td>\n    </tr>\n  </tbody>\n</table>\n</div>"
     },
     "metadata": {},
     "execution_count": 193
    }
   ],
   "source": [
    "# If some combinations are empty, you may wish to pass a fill_value. \n",
    "\n",
    "tips.pivot_table('tips_pct', index = ['time','size','smoker'], columns = 'day', aggfunc = 'mean', fill_value = 0)"
   ]
  },
  {
   "source": [
    "### Cross-Tabulations: Crosstab\n",
    "\n",
    "A cross-tabulation (or *crosstab* for short) is a special case of a pivot table that computers group frequencies"
   ],
   "cell_type": "markdown",
   "metadata": {}
  },
  {
   "cell_type": "code",
   "execution_count": 194,
   "metadata": {},
   "outputs": [
    {
     "output_type": "execute_result",
     "data": {
      "text/plain": [
       "  Status  No Friend   education about me family  gender relationship  \\\n",
       "0   real        170  university      yes    yes    male   complicate   \n",
       "1   real        353  university      yes    yes    male        alone   \n",
       "2   real        517  university       no    yes    male        alone   \n",
       "3   real        460  university       no    yes    male        alone   \n",
       "4   real        240  university       no    yes  female   complicate   \n",
       "\n",
       "   phototag*  photopost*  video  ...  music  film  series  book  game  \\\n",
       "0         29          59      8  ...      1     3       6     0     6   \n",
       "1          1          13      0  ...     11     6      10     1     1   \n",
       "2        112         236      3  ...      0     8       3     1     5   \n",
       "3         74         142      3  ...     16    14      17     6    19   \n",
       "4         23          13      1  ...      0     0       0     0     0   \n",
       "\n",
       "   restaurant  like  group  note  post shared/post posted rate  \n",
       "0           2   101      2   yes                           0.1  \n",
       "1           6   550     19    no                           0.1  \n",
       "2          17   318     23   yes                           0.5  \n",
       "3           0   900     32   yes                           0.3  \n",
       "4           0    15      2    no                           0.1  \n",
       "\n",
       "[5 rows x 23 columns]"
      ],
      "text/html": "<div>\n<style scoped>\n    .dataframe tbody tr th:only-of-type {\n        vertical-align: middle;\n    }\n\n    .dataframe tbody tr th {\n        vertical-align: top;\n    }\n\n    .dataframe thead th {\n        text-align: right;\n    }\n</style>\n<table border=\"1\" class=\"dataframe\">\n  <thead>\n    <tr style=\"text-align: right;\">\n      <th></th>\n      <th>Status</th>\n      <th>No Friend</th>\n      <th>education</th>\n      <th>about me</th>\n      <th>family</th>\n      <th>gender</th>\n      <th>relationship</th>\n      <th>phototag*</th>\n      <th>photopost*</th>\n      <th>video</th>\n      <th>...</th>\n      <th>music</th>\n      <th>film</th>\n      <th>series</th>\n      <th>book</th>\n      <th>game</th>\n      <th>restaurant</th>\n      <th>like</th>\n      <th>group</th>\n      <th>note</th>\n      <th>post shared/post posted rate</th>\n    </tr>\n  </thead>\n  <tbody>\n    <tr>\n      <th>0</th>\n      <td>real</td>\n      <td>170</td>\n      <td>university</td>\n      <td>yes</td>\n      <td>yes</td>\n      <td>male</td>\n      <td>complicate</td>\n      <td>29</td>\n      <td>59</td>\n      <td>8</td>\n      <td>...</td>\n      <td>1</td>\n      <td>3</td>\n      <td>6</td>\n      <td>0</td>\n      <td>6</td>\n      <td>2</td>\n      <td>101</td>\n      <td>2</td>\n      <td>yes</td>\n      <td>0.1</td>\n    </tr>\n    <tr>\n      <th>1</th>\n      <td>real</td>\n      <td>353</td>\n      <td>university</td>\n      <td>yes</td>\n      <td>yes</td>\n      <td>male</td>\n      <td>alone</td>\n      <td>1</td>\n      <td>13</td>\n      <td>0</td>\n      <td>...</td>\n      <td>11</td>\n      <td>6</td>\n      <td>10</td>\n      <td>1</td>\n      <td>1</td>\n      <td>6</td>\n      <td>550</td>\n      <td>19</td>\n      <td>no</td>\n      <td>0.1</td>\n    </tr>\n    <tr>\n      <th>2</th>\n      <td>real</td>\n      <td>517</td>\n      <td>university</td>\n      <td>no</td>\n      <td>yes</td>\n      <td>male</td>\n      <td>alone</td>\n      <td>112</td>\n      <td>236</td>\n      <td>3</td>\n      <td>...</td>\n      <td>0</td>\n      <td>8</td>\n      <td>3</td>\n      <td>1</td>\n      <td>5</td>\n      <td>17</td>\n      <td>318</td>\n      <td>23</td>\n      <td>yes</td>\n      <td>0.5</td>\n    </tr>\n    <tr>\n      <th>3</th>\n      <td>real</td>\n      <td>460</td>\n      <td>university</td>\n      <td>no</td>\n      <td>yes</td>\n      <td>male</td>\n      <td>alone</td>\n      <td>74</td>\n      <td>142</td>\n      <td>3</td>\n      <td>...</td>\n      <td>16</td>\n      <td>14</td>\n      <td>17</td>\n      <td>6</td>\n      <td>19</td>\n      <td>0</td>\n      <td>900</td>\n      <td>32</td>\n      <td>yes</td>\n      <td>0.3</td>\n    </tr>\n    <tr>\n      <th>4</th>\n      <td>real</td>\n      <td>240</td>\n      <td>university</td>\n      <td>no</td>\n      <td>yes</td>\n      <td>female</td>\n      <td>complicate</td>\n      <td>23</td>\n      <td>13</td>\n      <td>1</td>\n      <td>...</td>\n      <td>0</td>\n      <td>0</td>\n      <td>0</td>\n      <td>0</td>\n      <td>0</td>\n      <td>0</td>\n      <td>15</td>\n      <td>2</td>\n      <td>no</td>\n      <td>0.1</td>\n    </tr>\n  </tbody>\n</table>\n<p>5 rows × 23 columns</p>\n</div>"
     },
     "metadata": {},
     "execution_count": 194
    }
   ],
   "source": [
    "df = pd.read_csv('datasets/facebookac.csv')\n",
    "df.head()"
   ]
  },
  {
   "cell_type": "code",
   "execution_count": 195,
   "metadata": {},
   "outputs": [
    {
     "output_type": "execute_result",
     "data": {
      "text/plain": [
       "Index(['Status', 'No Friend', 'education', 'about me', 'family', 'gender',\n",
       "       'relationship', 'phototag*', 'photopost*', 'video', 'checkin', 'sport',\n",
       "       'player', 'music', 'film', 'series', 'book', 'game', 'restaurant',\n",
       "       'like', 'group', 'note', 'post shared/post posted rate'],\n",
       "      dtype='object')"
      ]
     },
     "metadata": {},
     "execution_count": 195
    }
   ],
   "source": [
    "df_n = df.dropna()\n",
    "df.columns"
   ]
  },
  {
   "cell_type": "code",
   "execution_count": 196,
   "metadata": {},
   "outputs": [],
   "source": [
    "df = df.replace(' ', 'not available')"
   ]
  },
  {
   "cell_type": "code",
   "execution_count": 197,
   "metadata": {},
   "outputs": [
    {
     "output_type": "execute_result",
     "data": {
      "text/plain": [
       "  Status  No Friend   education about me family  gender relationship  \\\n",
       "0   real        170  university      yes    yes    male   complicate   \n",
       "1   real        353  university      yes    yes    male        alone   \n",
       "2   real        517  university       no    yes    male        alone   \n",
       "3   real        460  university       no    yes    male        alone   \n",
       "4   real        240  university       no    yes  female   complicate   \n",
       "\n",
       "   phototag*  photopost*  video  ...  music  film  series  book  game  \\\n",
       "0         29          59      8  ...      1     3       6     0     6   \n",
       "1          1          13      0  ...     11     6      10     1     1   \n",
       "2        112         236      3  ...      0     8       3     1     5   \n",
       "3         74         142      3  ...     16    14      17     6    19   \n",
       "4         23          13      1  ...      0     0       0     0     0   \n",
       "\n",
       "   restaurant  like  group  note  post shared/post posted rate  \n",
       "0           2   101      2   yes                           0.1  \n",
       "1           6   550     19    no                           0.1  \n",
       "2          17   318     23   yes                           0.5  \n",
       "3           0   900     32   yes                           0.3  \n",
       "4           0    15      2    no                           0.1  \n",
       "\n",
       "[5 rows x 23 columns]"
      ],
      "text/html": "<div>\n<style scoped>\n    .dataframe tbody tr th:only-of-type {\n        vertical-align: middle;\n    }\n\n    .dataframe tbody tr th {\n        vertical-align: top;\n    }\n\n    .dataframe thead th {\n        text-align: right;\n    }\n</style>\n<table border=\"1\" class=\"dataframe\">\n  <thead>\n    <tr style=\"text-align: right;\">\n      <th></th>\n      <th>Status</th>\n      <th>No Friend</th>\n      <th>education</th>\n      <th>about me</th>\n      <th>family</th>\n      <th>gender</th>\n      <th>relationship</th>\n      <th>phototag*</th>\n      <th>photopost*</th>\n      <th>video</th>\n      <th>...</th>\n      <th>music</th>\n      <th>film</th>\n      <th>series</th>\n      <th>book</th>\n      <th>game</th>\n      <th>restaurant</th>\n      <th>like</th>\n      <th>group</th>\n      <th>note</th>\n      <th>post shared/post posted rate</th>\n    </tr>\n  </thead>\n  <tbody>\n    <tr>\n      <th>0</th>\n      <td>real</td>\n      <td>170</td>\n      <td>university</td>\n      <td>yes</td>\n      <td>yes</td>\n      <td>male</td>\n      <td>complicate</td>\n      <td>29</td>\n      <td>59</td>\n      <td>8</td>\n      <td>...</td>\n      <td>1</td>\n      <td>3</td>\n      <td>6</td>\n      <td>0</td>\n      <td>6</td>\n      <td>2</td>\n      <td>101</td>\n      <td>2</td>\n      <td>yes</td>\n      <td>0.1</td>\n    </tr>\n    <tr>\n      <th>1</th>\n      <td>real</td>\n      <td>353</td>\n      <td>university</td>\n      <td>yes</td>\n      <td>yes</td>\n      <td>male</td>\n      <td>alone</td>\n      <td>1</td>\n      <td>13</td>\n      <td>0</td>\n      <td>...</td>\n      <td>11</td>\n      <td>6</td>\n      <td>10</td>\n      <td>1</td>\n      <td>1</td>\n      <td>6</td>\n      <td>550</td>\n      <td>19</td>\n      <td>no</td>\n      <td>0.1</td>\n    </tr>\n    <tr>\n      <th>2</th>\n      <td>real</td>\n      <td>517</td>\n      <td>university</td>\n      <td>no</td>\n      <td>yes</td>\n      <td>male</td>\n      <td>alone</td>\n      <td>112</td>\n      <td>236</td>\n      <td>3</td>\n      <td>...</td>\n      <td>0</td>\n      <td>8</td>\n      <td>3</td>\n      <td>1</td>\n      <td>5</td>\n      <td>17</td>\n      <td>318</td>\n      <td>23</td>\n      <td>yes</td>\n      <td>0.5</td>\n    </tr>\n    <tr>\n      <th>3</th>\n      <td>real</td>\n      <td>460</td>\n      <td>university</td>\n      <td>no</td>\n      <td>yes</td>\n      <td>male</td>\n      <td>alone</td>\n      <td>74</td>\n      <td>142</td>\n      <td>3</td>\n      <td>...</td>\n      <td>16</td>\n      <td>14</td>\n      <td>17</td>\n      <td>6</td>\n      <td>19</td>\n      <td>0</td>\n      <td>900</td>\n      <td>32</td>\n      <td>yes</td>\n      <td>0.3</td>\n    </tr>\n    <tr>\n      <th>4</th>\n      <td>real</td>\n      <td>240</td>\n      <td>university</td>\n      <td>no</td>\n      <td>yes</td>\n      <td>female</td>\n      <td>complicate</td>\n      <td>23</td>\n      <td>13</td>\n      <td>1</td>\n      <td>...</td>\n      <td>0</td>\n      <td>0</td>\n      <td>0</td>\n      <td>0</td>\n      <td>0</td>\n      <td>0</td>\n      <td>15</td>\n      <td>2</td>\n      <td>no</td>\n      <td>0.1</td>\n    </tr>\n  </tbody>\n</table>\n<p>5 rows × 23 columns</p>\n</div>"
     },
     "metadata": {},
     "execution_count": 197
    }
   ],
   "source": [
    "df.head()"
   ]
  },
  {
   "cell_type": "code",
   "execution_count": 198,
   "metadata": {},
   "outputs": [
    {
     "output_type": "execute_result",
     "data": {
      "text/plain": [
       "Status         fake  real\n",
       "relationship             \n",
       "alone           418   353\n",
       "complicate       14    64\n",
       "married           0    15\n",
       "not available     3    22"
      ],
      "text/html": "<div>\n<style scoped>\n    .dataframe tbody tr th:only-of-type {\n        vertical-align: middle;\n    }\n\n    .dataframe tbody tr th {\n        vertical-align: top;\n    }\n\n    .dataframe thead th {\n        text-align: right;\n    }\n</style>\n<table border=\"1\" class=\"dataframe\">\n  <thead>\n    <tr style=\"text-align: right;\">\n      <th>Status</th>\n      <th>fake</th>\n      <th>real</th>\n    </tr>\n    <tr>\n      <th>relationship</th>\n      <th></th>\n      <th></th>\n    </tr>\n  </thead>\n  <tbody>\n    <tr>\n      <th>alone</th>\n      <td>418</td>\n      <td>353</td>\n    </tr>\n    <tr>\n      <th>complicate</th>\n      <td>14</td>\n      <td>64</td>\n    </tr>\n    <tr>\n      <th>married</th>\n      <td>0</td>\n      <td>15</td>\n    </tr>\n    <tr>\n      <th>not available</th>\n      <td>3</td>\n      <td>22</td>\n    </tr>\n  </tbody>\n</table>\n</div>"
     },
     "metadata": {},
     "execution_count": 198
    }
   ],
   "source": [
    "pd.crosstab(df['relationship'], df['Status'])"
   ]
  },
  {
   "cell_type": "code",
   "execution_count": 199,
   "metadata": {},
   "outputs": [
    {
     "output_type": "execute_result",
     "data": {
      "text/plain": [
       "Status         fake  real  Total\n",
       "relationship                    \n",
       "alone           418   353    771\n",
       "complicate       14    64     78\n",
       "married           0    15     15\n",
       "not available     3    22     25\n",
       "Total           435   454    889"
      ],
      "text/html": "<div>\n<style scoped>\n    .dataframe tbody tr th:only-of-type {\n        vertical-align: middle;\n    }\n\n    .dataframe tbody tr th {\n        vertical-align: top;\n    }\n\n    .dataframe thead th {\n        text-align: right;\n    }\n</style>\n<table border=\"1\" class=\"dataframe\">\n  <thead>\n    <tr style=\"text-align: right;\">\n      <th>Status</th>\n      <th>fake</th>\n      <th>real</th>\n      <th>Total</th>\n    </tr>\n    <tr>\n      <th>relationship</th>\n      <th></th>\n      <th></th>\n      <th></th>\n    </tr>\n  </thead>\n  <tbody>\n    <tr>\n      <th>alone</th>\n      <td>418</td>\n      <td>353</td>\n      <td>771</td>\n    </tr>\n    <tr>\n      <th>complicate</th>\n      <td>14</td>\n      <td>64</td>\n      <td>78</td>\n    </tr>\n    <tr>\n      <th>married</th>\n      <td>0</td>\n      <td>15</td>\n      <td>15</td>\n    </tr>\n    <tr>\n      <th>not available</th>\n      <td>3</td>\n      <td>22</td>\n      <td>25</td>\n    </tr>\n    <tr>\n      <th>Total</th>\n      <td>435</td>\n      <td>454</td>\n      <td>889</td>\n    </tr>\n  </tbody>\n</table>\n</div>"
     },
     "metadata": {},
     "execution_count": 199
    }
   ],
   "source": [
    "pd.crosstab(df['relationship'], df['Status'], margins=True, margins_name='Total')"
   ]
  },
  {
   "cell_type": "code",
   "execution_count": 200,
   "metadata": {},
   "outputs": [
    {
     "output_type": "execute_result",
     "data": {
      "text/plain": [
       "Status             fake      real\n",
       "relationship                     \n",
       "alone          0.470191  0.397075\n",
       "complicate     0.015748  0.071991\n",
       "married        0.000000  0.016873\n",
       "not available  0.003375  0.024747"
      ],
      "text/html": "<div>\n<style scoped>\n    .dataframe tbody tr th:only-of-type {\n        vertical-align: middle;\n    }\n\n    .dataframe tbody tr th {\n        vertical-align: top;\n    }\n\n    .dataframe thead th {\n        text-align: right;\n    }\n</style>\n<table border=\"1\" class=\"dataframe\">\n  <thead>\n    <tr style=\"text-align: right;\">\n      <th>Status</th>\n      <th>fake</th>\n      <th>real</th>\n    </tr>\n    <tr>\n      <th>relationship</th>\n      <th></th>\n      <th></th>\n    </tr>\n  </thead>\n  <tbody>\n    <tr>\n      <th>alone</th>\n      <td>0.470191</td>\n      <td>0.397075</td>\n    </tr>\n    <tr>\n      <th>complicate</th>\n      <td>0.015748</td>\n      <td>0.071991</td>\n    </tr>\n    <tr>\n      <th>married</th>\n      <td>0.000000</td>\n      <td>0.016873</td>\n    </tr>\n    <tr>\n      <th>not available</th>\n      <td>0.003375</td>\n      <td>0.024747</td>\n    </tr>\n  </tbody>\n</table>\n</div>"
     },
     "metadata": {},
     "execution_count": 200
    }
   ],
   "source": [
    "pd.crosstab(df['relationship'], df['Status'], normalize=True)"
   ]
  },
  {
   "cell_type": "code",
   "execution_count": 201,
   "metadata": {},
   "outputs": [
    {
     "output_type": "execute_result",
     "data": {
      "text/plain": [
       "gender                  female      male\n",
       "relationship  Status                    \n",
       "alone         fake    0.587473  0.342723\n",
       "              real    0.308855  0.492958\n",
       "complicate    fake    0.017279  0.014085\n",
       "              real    0.038877  0.107981\n",
       "married       real    0.012959  0.021127\n",
       "not available fake    0.000000  0.007042\n",
       "              real    0.034557  0.014085"
      ],
      "text/html": "<div>\n<style scoped>\n    .dataframe tbody tr th:only-of-type {\n        vertical-align: middle;\n    }\n\n    .dataframe tbody tr th {\n        vertical-align: top;\n    }\n\n    .dataframe thead th {\n        text-align: right;\n    }\n</style>\n<table border=\"1\" class=\"dataframe\">\n  <thead>\n    <tr style=\"text-align: right;\">\n      <th></th>\n      <th>gender</th>\n      <th>female</th>\n      <th>male</th>\n    </tr>\n    <tr>\n      <th>relationship</th>\n      <th>Status</th>\n      <th></th>\n      <th></th>\n    </tr>\n  </thead>\n  <tbody>\n    <tr>\n      <th rowspan=\"2\" valign=\"top\">alone</th>\n      <th>fake</th>\n      <td>0.587473</td>\n      <td>0.342723</td>\n    </tr>\n    <tr>\n      <th>real</th>\n      <td>0.308855</td>\n      <td>0.492958</td>\n    </tr>\n    <tr>\n      <th rowspan=\"2\" valign=\"top\">complicate</th>\n      <th>fake</th>\n      <td>0.017279</td>\n      <td>0.014085</td>\n    </tr>\n    <tr>\n      <th>real</th>\n      <td>0.038877</td>\n      <td>0.107981</td>\n    </tr>\n    <tr>\n      <th>married</th>\n      <th>real</th>\n      <td>0.012959</td>\n      <td>0.021127</td>\n    </tr>\n    <tr>\n      <th rowspan=\"2\" valign=\"top\">not available</th>\n      <th>fake</th>\n      <td>0.000000</td>\n      <td>0.007042</td>\n    </tr>\n    <tr>\n      <th>real</th>\n      <td>0.034557</td>\n      <td>0.014085</td>\n    </tr>\n  </tbody>\n</table>\n</div>"
     },
     "metadata": {},
     "execution_count": 201
    }
   ],
   "source": [
    "pd.crosstab([df['relationship'], df['Status']], df['gender'], normalize=1)"
   ]
  },
  {
   "source": [
    "## Advanced pandas\n",
    "\n",
    "### Categorical data\n",
    "\n",
    "#### Background and motivation\n",
    "\n",
    "Frequently, a column in a table may contain repeated instances of a smaller set of distinct values."
   ],
   "cell_type": "markdown",
   "metadata": {}
  },
  {
   "cell_type": "code",
   "execution_count": 202,
   "metadata": {},
   "outputs": [
    {
     "output_type": "execute_result",
     "data": {
      "text/plain": [
       "0     apple\n",
       "1    orange\n",
       "2     apple\n",
       "3     apple\n",
       "4     apple\n",
       "5    orange\n",
       "6     apple\n",
       "7     apple\n",
       "dtype: object"
      ]
     },
     "metadata": {},
     "execution_count": 202
    }
   ],
   "source": [
    "values = pd.Series(['apple','orange','apple','apple'] * 2)\n",
    "\n",
    "values"
   ]
  },
  {
   "cell_type": "code",
   "execution_count": 203,
   "metadata": {},
   "outputs": [
    {
     "output_type": "execute_result",
     "data": {
      "text/plain": [
       "array(['apple', 'orange'], dtype=object)"
      ]
     },
     "metadata": {},
     "execution_count": 203
    }
   ],
   "source": [
    "pd.unique(values)"
   ]
  },
  {
   "cell_type": "code",
   "execution_count": 204,
   "metadata": {},
   "outputs": [
    {
     "output_type": "execute_result",
     "data": {
      "text/plain": [
       "apple     6\n",
       "orange    2\n",
       "dtype: int64"
      ]
     },
     "metadata": {},
     "execution_count": 204
    }
   ],
   "source": [
    "pd.value_counts(values)"
   ]
  },
  {
   "source": [
    "In data warehousing, a best practice is to use so-called *dimension tables* containing the distinct values and storing the primary observations as integer keys referencing the dimension table"
   ],
   "cell_type": "markdown",
   "metadata": {}
  },
  {
   "cell_type": "code",
   "execution_count": 205,
   "metadata": {},
   "outputs": [
    {
     "output_type": "execute_result",
     "data": {
      "text/plain": [
       "0    0\n",
       "1    1\n",
       "2    0\n",
       "3    0\n",
       "4    0\n",
       "5    1\n",
       "6    0\n",
       "7    0\n",
       "dtype: int64"
      ]
     },
     "metadata": {},
     "execution_count": 205
    }
   ],
   "source": [
    "values = pd.Series([0, 1, 0, 0] * 2)\n",
    "\n",
    "dim = pd.Series(['apple','orange'])\n",
    "\n",
    "values"
   ]
  },
  {
   "cell_type": "code",
   "execution_count": 206,
   "metadata": {},
   "outputs": [
    {
     "output_type": "execute_result",
     "data": {
      "text/plain": [
       "0     apple\n",
       "1    orange\n",
       "dtype: object"
      ]
     },
     "metadata": {},
     "execution_count": 206
    }
   ],
   "source": [
    "dim"
   ]
  },
  {
   "cell_type": "code",
   "execution_count": 207,
   "metadata": {},
   "outputs": [
    {
     "output_type": "execute_result",
     "data": {
      "text/plain": [
       "0     apple\n",
       "1    orange\n",
       "0     apple\n",
       "0     apple\n",
       "0     apple\n",
       "1    orange\n",
       "0     apple\n",
       "0     apple\n",
       "dtype: object"
      ]
     },
     "metadata": {},
     "execution_count": 207
    }
   ],
   "source": [
    "dim.take(values)"
   ]
  },
  {
   "source": [
    "This representation as integers is called the *categorical* or *dictionary-encoded* representation. The array of distinct values can be called the *categories, dictionary,* or *levels* of the data. The integer values that reference the categorries are called the *category codes* or simply *codes*.\n",
    "\n",
    "The categorical representation can yield significant performance improvements when you are doing analytics. You can also perform transformations on the categories while leaving the codes unmodified.\n",
    "\n",
    "#### Categorical type in pandas\n",
    "\n",
    "pandas has a special `Categorical* type for holding data that uses the integer-based categorical representation or *encoding*."
   ],
   "cell_type": "markdown",
   "metadata": {}
  },
  {
   "cell_type": "code",
   "execution_count": 208,
   "metadata": {},
   "outputs": [
    {
     "output_type": "execute_result",
     "data": {
      "text/plain": [
       "   basket_id   fruit  count    weight\n",
       "0          0   apple      9  0.402473\n",
       "1          1  orange     12  1.943740\n",
       "2          2   apple      6  0.154543\n",
       "3          3   apple     11  3.413788\n",
       "4          4   apple      8  2.233013\n",
       "5          5  orange      7  0.351828\n",
       "6          6   apple      7  0.663507\n",
       "7          7   apple      9  2.865975"
      ],
      "text/html": "<div>\n<style scoped>\n    .dataframe tbody tr th:only-of-type {\n        vertical-align: middle;\n    }\n\n    .dataframe tbody tr th {\n        vertical-align: top;\n    }\n\n    .dataframe thead th {\n        text-align: right;\n    }\n</style>\n<table border=\"1\" class=\"dataframe\">\n  <thead>\n    <tr style=\"text-align: right;\">\n      <th></th>\n      <th>basket_id</th>\n      <th>fruit</th>\n      <th>count</th>\n      <th>weight</th>\n    </tr>\n  </thead>\n  <tbody>\n    <tr>\n      <th>0</th>\n      <td>0</td>\n      <td>apple</td>\n      <td>9</td>\n      <td>0.402473</td>\n    </tr>\n    <tr>\n      <th>1</th>\n      <td>1</td>\n      <td>orange</td>\n      <td>12</td>\n      <td>1.943740</td>\n    </tr>\n    <tr>\n      <th>2</th>\n      <td>2</td>\n      <td>apple</td>\n      <td>6</td>\n      <td>0.154543</td>\n    </tr>\n    <tr>\n      <th>3</th>\n      <td>3</td>\n      <td>apple</td>\n      <td>11</td>\n      <td>3.413788</td>\n    </tr>\n    <tr>\n      <th>4</th>\n      <td>4</td>\n      <td>apple</td>\n      <td>8</td>\n      <td>2.233013</td>\n    </tr>\n    <tr>\n      <th>5</th>\n      <td>5</td>\n      <td>orange</td>\n      <td>7</td>\n      <td>0.351828</td>\n    </tr>\n    <tr>\n      <th>6</th>\n      <td>6</td>\n      <td>apple</td>\n      <td>7</td>\n      <td>0.663507</td>\n    </tr>\n    <tr>\n      <th>7</th>\n      <td>7</td>\n      <td>apple</td>\n      <td>9</td>\n      <td>2.865975</td>\n    </tr>\n  </tbody>\n</table>\n</div>"
     },
     "metadata": {},
     "execution_count": 208
    }
   ],
   "source": [
    "fruits = ['apple','orange','apple','apple'] * 2\n",
    "\n",
    "N = len(fruits)\n",
    "\n",
    "df = pd.DataFrame({'fruit': fruits, 'basket_id':np.arange(N), 'count':np.random.randint(3, 15, size=N), 'weight':np.random.uniform(0, 4, size=N)}, columns = ['basket_id','fruit','count','weight'])\n",
    "\n",
    "df"
   ]
  },
  {
   "cell_type": "code",
   "execution_count": 209,
   "metadata": {},
   "outputs": [
    {
     "output_type": "execute_result",
     "data": {
      "text/plain": [
       "0     apple\n",
       "1    orange\n",
       "2     apple\n",
       "3     apple\n",
       "4     apple\n",
       "5    orange\n",
       "6     apple\n",
       "7     apple\n",
       "Name: fruit, dtype: category\n",
       "Categories (2, object): ['apple', 'orange']"
      ]
     },
     "metadata": {},
     "execution_count": 209
    }
   ],
   "source": [
    "# df['fruit'] is an array of Python string objects. We can convert it to categorical by calling:\n",
    "\n",
    "fruit_cat = df['fruit'].astype('category')\n",
    "\n",
    "fruit_cat"
   ]
  },
  {
   "cell_type": "code",
   "execution_count": 210,
   "metadata": {},
   "outputs": [],
   "source": [
    "# The values for fruit_cat are not a NumPy array, but an instance of pandas.Categorical:\n",
    "\n",
    "c = fruit_cat.values"
   ]
  },
  {
   "cell_type": "code",
   "execution_count": 211,
   "metadata": {},
   "outputs": [
    {
     "output_type": "execute_result",
     "data": {
      "text/plain": [
       "pandas.core.arrays.categorical.Categorical"
      ]
     },
     "metadata": {},
     "execution_count": 211
    }
   ],
   "source": [
    "type(c)"
   ]
  },
  {
   "cell_type": "code",
   "execution_count": 212,
   "metadata": {},
   "outputs": [
    {
     "output_type": "execute_result",
     "data": {
      "text/plain": [
       "0     apple\n",
       "1    orange\n",
       "2     apple\n",
       "3     apple\n",
       "4     apple\n",
       "5    orange\n",
       "6     apple\n",
       "7     apple\n",
       "Name: fruit, dtype: category\n",
       "Categories (2, object): ['apple', 'orange']"
      ]
     },
     "metadata": {},
     "execution_count": 212
    }
   ],
   "source": [
    "# Convert a Dataframe column to categorical by assigning the converted result:\n",
    "\n",
    "df['fruit'] = df['fruit'].astype('category')\n",
    "df.fruit"
   ]
  },
  {
   "cell_type": "code",
   "execution_count": 213,
   "metadata": {},
   "outputs": [
    {
     "output_type": "execute_result",
     "data": {
      "text/plain": [
       "['foo', 'bar', 'baz', 'foo', 'bar']\n",
       "Categories (3, object): ['bar', 'baz', 'foo']"
      ]
     },
     "metadata": {},
     "execution_count": 213
    }
   ],
   "source": [
    "# Create pandas.Categorical directly from other types of Python sequences:\n",
    "\n",
    "my_categories = pd.Categorical(['foo','bar','baz','foo','bar'])\n",
    "\n",
    "my_categories"
   ]
  },
  {
   "cell_type": "code",
   "execution_count": 214,
   "metadata": {},
   "outputs": [
    {
     "output_type": "execute_result",
     "data": {
      "text/plain": [
       "['foo', 'bar', 'baz', 'foo', 'foo', 'bar']\n",
       "Categories (3, object): ['foo', 'bar', 'baz']"
      ]
     },
     "metadata": {},
     "execution_count": 214
    }
   ],
   "source": [
    "# If you have obtained categorical encoded data from another source, you can use the alternative from_codes constructor:\n",
    "\n",
    "categories = ['foo','bar','baz']\n",
    "\n",
    "codes = [0 ,1, 2, 0, 0, 1]\n",
    "\n",
    "my_cats_2 = pd.Categorical.from_codes(codes, categories)\n",
    "\n",
    "my_cats_2"
   ]
  },
  {
   "cell_type": "code",
   "execution_count": 215,
   "metadata": {},
   "outputs": [
    {
     "output_type": "execute_result",
     "data": {
      "text/plain": [
       "['foo', 'bar', 'baz', 'foo', 'foo', 'bar']\n",
       "Categories (3, object): ['foo' < 'bar' < 'baz']"
      ]
     },
     "metadata": {},
     "execution_count": 215
    }
   ],
   "source": [
    "# Unless explicitly specified, categorical conversions assume no specific ordering of the categories. So the categories array may be in a different order depending on the ordering of the input data. When using from_codes or any of the other constructors, you can indicate that the categories have a meaningful ordering:\n",
    "\n",
    "ordered_cat = pd.Categorical.from_codes(codes, categories, ordered=True)\n",
    "\n",
    "ordered_cat"
   ]
  },
  {
   "cell_type": "code",
   "execution_count": 216,
   "metadata": {},
   "outputs": [
    {
     "output_type": "execute_result",
     "data": {
      "text/plain": [
       "['foo', 'bar', 'baz', 'foo', 'foo', 'bar']\n",
       "Categories (3, object): ['foo' < 'bar' < 'baz']"
      ]
     },
     "metadata": {},
     "execution_count": 216
    }
   ],
   "source": [
    "my_cats_2.as_ordered()"
   ]
  },
  {
   "source": [
    "#### Computations with categoricals\n",
    "\n",
    "Using `Categorical` in pandas compared with the non-encoded version generally behaves thesame way. Some parts of pandas, like `groupby` function, perform better when working with categoricals. There are also some fnctions that can utilize the `ordered` flag."
   ],
   "cell_type": "markdown",
   "metadata": {}
  },
  {
   "cell_type": "code",
   "execution_count": 217,
   "metadata": {},
   "outputs": [
    {
     "output_type": "execute_result",
     "data": {
      "text/plain": [
       "array([-0.20470766,  0.47894334, -0.51943872, -0.5557303 ,  1.96578057])"
      ]
     },
     "metadata": {},
     "execution_count": 217
    }
   ],
   "source": [
    "np.random.seed(12345)\n",
    "\n",
    "draws = np.random.randn(1000)\n",
    "\n",
    "draws[:5]"
   ]
  },
  {
   "cell_type": "code",
   "execution_count": 218,
   "metadata": {},
   "outputs": [
    {
     "output_type": "execute_result",
     "data": {
      "text/plain": [
       "[(-0.684, -0.0101], (-0.0101, 0.63], (-0.684, -0.0101], (-0.684, -0.0101], (0.63, 3.928], ..., (-0.0101, 0.63], (-0.684, -0.0101], (-2.9499999999999997, -0.684], (-0.0101, 0.63], (0.63, 3.928]]\n",
       "Length: 1000\n",
       "Categories (4, interval[float64]): [(-2.9499999999999997, -0.684] < (-0.684, -0.0101] < (-0.0101, 0.63] < (0.63, 3.928]]"
      ]
     },
     "metadata": {},
     "execution_count": 218
    }
   ],
   "source": [
    "bins = pd.qcut(draws, 4)\n",
    "\n",
    "bins"
   ]
  },
  {
   "cell_type": "code",
   "execution_count": 219,
   "metadata": {},
   "outputs": [
    {
     "output_type": "execute_result",
     "data": {
      "text/plain": [
       "['Q2', 'Q3', 'Q2', 'Q2', 'Q4', ..., 'Q3', 'Q2', 'Q1', 'Q3', 'Q4']\n",
       "Length: 1000\n",
       "Categories (4, object): ['Q1' < 'Q2' < 'Q3' < 'Q4']"
      ]
     },
     "metadata": {},
     "execution_count": 219
    }
   ],
   "source": [
    "bins = pd.qcut(draws, 4, labels = ['Q1','Q2','Q3','Q4'])\n",
    "bins"
   ]
  },
  {
   "cell_type": "code",
   "execution_count": 220,
   "metadata": {},
   "outputs": [
    {
     "output_type": "execute_result",
     "data": {
      "text/plain": [
       "  quartile  count       min       max\n",
       "0       Q1    250 -2.949343 -0.685484\n",
       "1       Q2    250 -0.683066 -0.010115\n",
       "2       Q3    250 -0.010032  0.628894\n",
       "3       Q4    250  0.634238  3.927528"
      ],
      "text/html": "<div>\n<style scoped>\n    .dataframe tbody tr th:only-of-type {\n        vertical-align: middle;\n    }\n\n    .dataframe tbody tr th {\n        vertical-align: top;\n    }\n\n    .dataframe thead th {\n        text-align: right;\n    }\n</style>\n<table border=\"1\" class=\"dataframe\">\n  <thead>\n    <tr style=\"text-align: right;\">\n      <th></th>\n      <th>quartile</th>\n      <th>count</th>\n      <th>min</th>\n      <th>max</th>\n    </tr>\n  </thead>\n  <tbody>\n    <tr>\n      <th>0</th>\n      <td>Q1</td>\n      <td>250</td>\n      <td>-2.949343</td>\n      <td>-0.685484</td>\n    </tr>\n    <tr>\n      <th>1</th>\n      <td>Q2</td>\n      <td>250</td>\n      <td>-0.683066</td>\n      <td>-0.010115</td>\n    </tr>\n    <tr>\n      <th>2</th>\n      <td>Q3</td>\n      <td>250</td>\n      <td>-0.010032</td>\n      <td>0.628894</td>\n    </tr>\n    <tr>\n      <th>3</th>\n      <td>Q4</td>\n      <td>250</td>\n      <td>0.634238</td>\n      <td>3.927528</td>\n    </tr>\n  </tbody>\n</table>\n</div>"
     },
     "metadata": {},
     "execution_count": 220
    }
   ],
   "source": [
    "# The labeled bins categorical does not contain information about the bin edges in the data, so we can use groupby\n",
    "# to extract some summary statistics:\n",
    "\n",
    "bins = pd.Series(bins, name = 'quartile')\n",
    "\n",
    "results = (pd.Series(draws).groupby(bins).agg(['count','min','max']).reset_index())\n",
    "\n",
    "results"
   ]
  },
  {
   "cell_type": "code",
   "execution_count": 221,
   "metadata": {},
   "outputs": [
    {
     "output_type": "execute_result",
     "data": {
      "text/plain": [
       "0    Q1\n",
       "1    Q2\n",
       "2    Q3\n",
       "3    Q4\n",
       "Name: quartile, dtype: category\n",
       "Categories (4, object): ['Q1' < 'Q2' < 'Q3' < 'Q4']"
      ]
     },
     "metadata": {},
     "execution_count": 221
    }
   ],
   "source": [
    "# The 'quartile' column in the result retains the original categorical information, including ordering, from bins:\n",
    "\n",
    "results['quartile']"
   ]
  },
  {
   "source": [
    "### Better performance with categoricals\n",
    "\n",
    "If you do a lot of analytics on a particular dataset, converting to categorical can yield substantial overall performance gains. A categorical version of a Dataframe column will often use significantly less memory, too."
   ],
   "cell_type": "markdown",
   "metadata": {}
  },
  {
   "cell_type": "code",
   "execution_count": 222,
   "metadata": {},
   "outputs": [],
   "source": [
    "N = 10000000\n",
    "\n",
    "draws = pd.Series(np.random.randn(N))\n",
    "\n",
    "labels = pd.Series(['foo','bar','baz','qux'] * (N // 4))"
   ]
  },
  {
   "cell_type": "code",
   "execution_count": 223,
   "metadata": {},
   "outputs": [],
   "source": [
    "categories = labels.astype('category') # Convert labels to categorical"
   ]
  },
  {
   "cell_type": "code",
   "execution_count": 224,
   "metadata": {},
   "outputs": [
    {
     "output_type": "execute_result",
     "data": {
      "text/plain": [
       "80000128"
      ]
     },
     "metadata": {},
     "execution_count": 224
    }
   ],
   "source": [
    "labels.memory_usage()"
   ]
  },
  {
   "cell_type": "code",
   "execution_count": 225,
   "metadata": {},
   "outputs": [
    {
     "output_type": "execute_result",
     "data": {
      "text/plain": [
       "10000320"
      ]
     },
     "metadata": {},
     "execution_count": 225
    }
   ],
   "source": [
    "categories.memory_usage()"
   ]
  },
  {
   "cell_type": "code",
   "execution_count": 226,
   "metadata": {},
   "outputs": [
    {
     "output_type": "stream",
     "name": "stdout",
     "text": [
      "Wall time: 576 ms\n"
     ]
    }
   ],
   "source": [
    "# Note that labels uses significantly more memory than categories\n",
    "# The conversion to category is not free, but it is one-time cost\n",
    "\n",
    "%time _ =labels.astype('category')"
   ]
  },
  {
   "source": [
    "#### Categorical Methods\n",
    "\n",
    "Series containing Categorical data have several special methods similar to the `Series.str` specialized string methods. This also provides convenient access to the categories and codes."
   ],
   "cell_type": "markdown",
   "metadata": {}
  },
  {
   "cell_type": "code",
   "execution_count": 227,
   "metadata": {},
   "outputs": [
    {
     "output_type": "execute_result",
     "data": {
      "text/plain": [
       "0    a\n",
       "1    b\n",
       "2    c\n",
       "3    d\n",
       "4    a\n",
       "5    b\n",
       "6    c\n",
       "7    d\n",
       "dtype: category\n",
       "Categories (4, object): ['a', 'b', 'c', 'd']"
      ]
     },
     "metadata": {},
     "execution_count": 227
    }
   ],
   "source": [
    "s = pd.Series(['a','b','c','d'] * 2)\n",
    "\n",
    "cat_s = s.astype('category')\n",
    "\n",
    "cat_s"
   ]
  },
  {
   "cell_type": "code",
   "execution_count": 228,
   "metadata": {},
   "outputs": [
    {
     "output_type": "execute_result",
     "data": {
      "text/plain": [
       "0    0\n",
       "1    1\n",
       "2    2\n",
       "3    3\n",
       "4    0\n",
       "5    1\n",
       "6    2\n",
       "7    3\n",
       "dtype: int8"
      ]
     },
     "metadata": {},
     "execution_count": 228
    }
   ],
   "source": [
    "cat_s.cat.codes"
   ]
  },
  {
   "cell_type": "code",
   "execution_count": 229,
   "metadata": {},
   "outputs": [
    {
     "output_type": "execute_result",
     "data": {
      "text/plain": [
       "0    a\n",
       "1    b\n",
       "2    c\n",
       "3    d\n",
       "4    a\n",
       "5    b\n",
       "6    c\n",
       "7    d\n",
       "dtype: category\n",
       "Categories (5, object): ['a', 'b', 'c', 'd', 'e']"
      ]
     },
     "metadata": {},
     "execution_count": 229
    }
   ],
   "source": [
    "# Suppose that we know the actual set of categories for this data extends beyond the four values observed in data. \n",
    "# We can use the set_categories method to change them.\n",
    "actual_categories = ['a','b','c','d','e']\n",
    "\n",
    "cat_s2 = cat_s.cat.set_categories(actual_categories)\n",
    "\n",
    "cat_s2"
   ]
  },
  {
   "cell_type": "code",
   "execution_count": 230,
   "metadata": {},
   "outputs": [
    {
     "output_type": "execute_result",
     "data": {
      "text/plain": [
       "d    2\n",
       "c    2\n",
       "b    2\n",
       "a    2\n",
       "dtype: int64"
      ]
     },
     "metadata": {},
     "execution_count": 230
    }
   ],
   "source": [
    "# While it appears that the data is unchanged, the new categories will be reflected in operations that use them.\n",
    "\n",
    "cat_s.value_counts()"
   ]
  },
  {
   "cell_type": "code",
   "execution_count": 231,
   "metadata": {},
   "outputs": [
    {
     "output_type": "execute_result",
     "data": {
      "text/plain": [
       "d    2\n",
       "c    2\n",
       "b    2\n",
       "a    2\n",
       "e    0\n",
       "dtype: int64"
      ]
     },
     "metadata": {},
     "execution_count": 231
    }
   ],
   "source": [
    "cat_s2.value_counts()"
   ]
  },
  {
   "source": [
    "In large datasets, catgoricals are often used as a convenient tool for memory savings and better performance. After you filter a large DataFrame or Series, many of the categories may not appera in the data."
   ],
   "cell_type": "markdown",
   "metadata": {}
  },
  {
   "cell_type": "code",
   "execution_count": 232,
   "metadata": {},
   "outputs": [
    {
     "output_type": "execute_result",
     "data": {
      "text/plain": [
       "0    a\n",
       "1    b\n",
       "4    a\n",
       "5    b\n",
       "dtype: category\n",
       "Categories (4, object): ['a', 'b', 'c', 'd']"
      ]
     },
     "metadata": {},
     "execution_count": 232
    }
   ],
   "source": [
    "cat_s3 = cat_s[cat_s.isin(['a','b'])]\n",
    "\n",
    "cat_s3"
   ]
  },
  {
   "cell_type": "code",
   "execution_count": 233,
   "metadata": {},
   "outputs": [
    {
     "output_type": "execute_result",
     "data": {
      "text/plain": [
       "0    a\n",
       "1    b\n",
       "4    a\n",
       "5    b\n",
       "dtype: category\n",
       "Categories (2, object): ['a', 'b']"
      ]
     },
     "metadata": {},
     "execution_count": 233
    }
   ],
   "source": [
    "cat_s3.cat.remove_unused_categories()"
   ]
  },
  {
   "source": [
    "### Creating dummy variables for modeling\n",
    "\n",
    "when you're using statistics or machine learning tools, you will often transform categorical data into *dummy variables*, aka *one-hot* encoding. This involves creating a DataFrame with a column for each distinct category; these columns contain 1s for occurrences of a given category and 0 otherwise."
   ],
   "cell_type": "markdown",
   "metadata": {}
  },
  {
   "cell_type": "code",
   "execution_count": 234,
   "metadata": {},
   "outputs": [],
   "source": [
    "cat_s = pd.Series(['a','b','c','d'] * 2, dtype = 'category')"
   ]
  },
  {
   "cell_type": "code",
   "execution_count": 235,
   "metadata": {},
   "outputs": [
    {
     "output_type": "execute_result",
     "data": {
      "text/plain": [
       "   a  b  c  d\n",
       "0  1  0  0  0\n",
       "1  0  1  0  0\n",
       "2  0  0  1  0\n",
       "3  0  0  0  1\n",
       "4  1  0  0  0\n",
       "5  0  1  0  0\n",
       "6  0  0  1  0\n",
       "7  0  0  0  1"
      ],
      "text/html": "<div>\n<style scoped>\n    .dataframe tbody tr th:only-of-type {\n        vertical-align: middle;\n    }\n\n    .dataframe tbody tr th {\n        vertical-align: top;\n    }\n\n    .dataframe thead th {\n        text-align: right;\n    }\n</style>\n<table border=\"1\" class=\"dataframe\">\n  <thead>\n    <tr style=\"text-align: right;\">\n      <th></th>\n      <th>a</th>\n      <th>b</th>\n      <th>c</th>\n      <th>d</th>\n    </tr>\n  </thead>\n  <tbody>\n    <tr>\n      <th>0</th>\n      <td>1</td>\n      <td>0</td>\n      <td>0</td>\n      <td>0</td>\n    </tr>\n    <tr>\n      <th>1</th>\n      <td>0</td>\n      <td>1</td>\n      <td>0</td>\n      <td>0</td>\n    </tr>\n    <tr>\n      <th>2</th>\n      <td>0</td>\n      <td>0</td>\n      <td>1</td>\n      <td>0</td>\n    </tr>\n    <tr>\n      <th>3</th>\n      <td>0</td>\n      <td>0</td>\n      <td>0</td>\n      <td>1</td>\n    </tr>\n    <tr>\n      <th>4</th>\n      <td>1</td>\n      <td>0</td>\n      <td>0</td>\n      <td>0</td>\n    </tr>\n    <tr>\n      <th>5</th>\n      <td>0</td>\n      <td>1</td>\n      <td>0</td>\n      <td>0</td>\n    </tr>\n    <tr>\n      <th>6</th>\n      <td>0</td>\n      <td>0</td>\n      <td>1</td>\n      <td>0</td>\n    </tr>\n    <tr>\n      <th>7</th>\n      <td>0</td>\n      <td>0</td>\n      <td>0</td>\n      <td>1</td>\n    </tr>\n  </tbody>\n</table>\n</div>"
     },
     "metadata": {},
     "execution_count": 235
    }
   ],
   "source": [
    "pd.get_dummies(cat_s)"
   ]
  },
  {
   "source": [
    "## Advanced GroupBy use\n",
    "\n",
    "### Group transforms and \"unwrapped\" groupbys\n",
    "\n",
    "* It can produce a scalar value to be broadcast to the shape of the group.\n",
    "* It can produce an object of the same shape as the input group.\n",
    "* It must not mutate its input"
   ],
   "cell_type": "markdown",
   "metadata": {}
  },
  {
   "cell_type": "code",
   "execution_count": 236,
   "metadata": {},
   "outputs": [],
   "source": [
    "df = pd.DataFrame({'key':['a','b','c'] * 4, 'value':np.arange(12.)})"
   ]
  },
  {
   "cell_type": "code",
   "execution_count": 237,
   "metadata": {},
   "outputs": [
    {
     "output_type": "execute_result",
     "data": {
      "text/plain": [
       "   key  value\n",
       "0    a    0.0\n",
       "1    b    1.0\n",
       "2    c    2.0\n",
       "3    a    3.0\n",
       "4    b    4.0\n",
       "5    c    5.0\n",
       "6    a    6.0\n",
       "7    b    7.0\n",
       "8    c    8.0\n",
       "9    a    9.0\n",
       "10   b   10.0\n",
       "11   c   11.0"
      ],
      "text/html": "<div>\n<style scoped>\n    .dataframe tbody tr th:only-of-type {\n        vertical-align: middle;\n    }\n\n    .dataframe tbody tr th {\n        vertical-align: top;\n    }\n\n    .dataframe thead th {\n        text-align: right;\n    }\n</style>\n<table border=\"1\" class=\"dataframe\">\n  <thead>\n    <tr style=\"text-align: right;\">\n      <th></th>\n      <th>key</th>\n      <th>value</th>\n    </tr>\n  </thead>\n  <tbody>\n    <tr>\n      <th>0</th>\n      <td>a</td>\n      <td>0.0</td>\n    </tr>\n    <tr>\n      <th>1</th>\n      <td>b</td>\n      <td>1.0</td>\n    </tr>\n    <tr>\n      <th>2</th>\n      <td>c</td>\n      <td>2.0</td>\n    </tr>\n    <tr>\n      <th>3</th>\n      <td>a</td>\n      <td>3.0</td>\n    </tr>\n    <tr>\n      <th>4</th>\n      <td>b</td>\n      <td>4.0</td>\n    </tr>\n    <tr>\n      <th>5</th>\n      <td>c</td>\n      <td>5.0</td>\n    </tr>\n    <tr>\n      <th>6</th>\n      <td>a</td>\n      <td>6.0</td>\n    </tr>\n    <tr>\n      <th>7</th>\n      <td>b</td>\n      <td>7.0</td>\n    </tr>\n    <tr>\n      <th>8</th>\n      <td>c</td>\n      <td>8.0</td>\n    </tr>\n    <tr>\n      <th>9</th>\n      <td>a</td>\n      <td>9.0</td>\n    </tr>\n    <tr>\n      <th>10</th>\n      <td>b</td>\n      <td>10.0</td>\n    </tr>\n    <tr>\n      <th>11</th>\n      <td>c</td>\n      <td>11.0</td>\n    </tr>\n  </tbody>\n</table>\n</div>"
     },
     "metadata": {},
     "execution_count": 237
    }
   ],
   "source": [
    "df"
   ]
  },
  {
   "cell_type": "code",
   "execution_count": 238,
   "metadata": {},
   "outputs": [],
   "source": [
    "g = df.groupby('key').value"
   ]
  },
  {
   "cell_type": "code",
   "execution_count": 239,
   "metadata": {},
   "outputs": [
    {
     "output_type": "execute_result",
     "data": {
      "text/plain": [
       "<pandas.core.groupby.generic.SeriesGroupBy object at 0x000001DBB6179280>"
      ]
     },
     "metadata": {},
     "execution_count": 239
    }
   ],
   "source": [
    "g"
   ]
  },
  {
   "cell_type": "code",
   "execution_count": 240,
   "metadata": {},
   "outputs": [
    {
     "output_type": "execute_result",
     "data": {
      "text/plain": [
       "key\n",
       "a    4.5\n",
       "b    5.5\n",
       "c    6.5\n",
       "Name: value, dtype: float64"
      ]
     },
     "metadata": {},
     "execution_count": 240
    }
   ],
   "source": [
    "g.mean()"
   ]
  },
  {
   "cell_type": "code",
   "execution_count": 241,
   "metadata": {},
   "outputs": [
    {
     "output_type": "execute_result",
     "data": {
      "text/plain": [
       "0     4.5\n",
       "1     5.5\n",
       "2     6.5\n",
       "3     4.5\n",
       "4     5.5\n",
       "5     6.5\n",
       "6     4.5\n",
       "7     5.5\n",
       "8     6.5\n",
       "9     4.5\n",
       "10    5.5\n",
       "11    6.5\n",
       "Name: value, dtype: float64"
      ]
     },
     "metadata": {},
     "execution_count": 241
    }
   ],
   "source": [
    "# Suppose instead we wanted to produce a Series of the same shape as df['value'] but with values replaced by the \n",
    "# average grouped by 'key'. We can pass the function lambda x: x.mean() to transform.\n",
    "\n",
    "g.transform(lambda x: x.mean())"
   ]
  },
  {
   "cell_type": "code",
   "execution_count": 242,
   "metadata": {},
   "outputs": [
    {
     "output_type": "execute_result",
     "data": {
      "text/plain": [
       "0     4.5\n",
       "1     5.5\n",
       "2     6.5\n",
       "3     4.5\n",
       "4     5.5\n",
       "5     6.5\n",
       "6     4.5\n",
       "7     5.5\n",
       "8     6.5\n",
       "9     4.5\n",
       "10    5.5\n",
       "11    6.5\n",
       "Name: value, dtype: float64"
      ]
     },
     "metadata": {},
     "execution_count": 242
    }
   ],
   "source": [
    "g.transform('mean')"
   ]
  },
  {
   "cell_type": "code",
   "execution_count": 243,
   "metadata": {},
   "outputs": [
    {
     "output_type": "execute_result",
     "data": {
      "text/plain": [
       "0      0.0\n",
       "1      2.0\n",
       "2      4.0\n",
       "3      6.0\n",
       "4      8.0\n",
       "5     10.0\n",
       "6     12.0\n",
       "7     14.0\n",
       "8     16.0\n",
       "9     18.0\n",
       "10    20.0\n",
       "11    22.0\n",
       "Name: value, dtype: float64"
      ]
     },
     "metadata": {},
     "execution_count": 243
    }
   ],
   "source": [
    "g.transform(lambda x:x * 2)"
   ]
  },
  {
   "cell_type": "code",
   "execution_count": 244,
   "metadata": {},
   "outputs": [
    {
     "output_type": "execute_result",
     "data": {
      "text/plain": [
       "0     4.0\n",
       "1     4.0\n",
       "2     4.0\n",
       "3     3.0\n",
       "4     3.0\n",
       "5     3.0\n",
       "6     2.0\n",
       "7     2.0\n",
       "8     2.0\n",
       "9     1.0\n",
       "10    1.0\n",
       "11    1.0\n",
       "Name: value, dtype: float64"
      ]
     },
     "metadata": {},
     "execution_count": 244
    }
   ],
   "source": [
    "g.transform(lambda x:x.rank(ascending = False))"
   ]
  },
  {
   "cell_type": "code",
   "execution_count": 245,
   "metadata": {},
   "outputs": [],
   "source": [
    "def normalize(x):\n",
    "    return (x - x.mean())/x.std()"
   ]
  },
  {
   "cell_type": "code",
   "execution_count": 246,
   "metadata": {},
   "outputs": [
    {
     "output_type": "execute_result",
     "data": {
      "text/plain": [
       "0    -1.161895\n",
       "1    -1.161895\n",
       "2    -1.161895\n",
       "3    -0.387298\n",
       "4    -0.387298\n",
       "5    -0.387298\n",
       "6     0.387298\n",
       "7     0.387298\n",
       "8     0.387298\n",
       "9     1.161895\n",
       "10    1.161895\n",
       "11    1.161895\n",
       "Name: value, dtype: float64"
      ]
     },
     "metadata": {},
     "execution_count": 246
    }
   ],
   "source": [
    "g.transform(normalize)"
   ]
  },
  {
   "cell_type": "code",
   "execution_count": 247,
   "metadata": {},
   "outputs": [
    {
     "output_type": "execute_result",
     "data": {
      "text/plain": [
       "0    -1.161895\n",
       "1    -1.161895\n",
       "2    -1.161895\n",
       "3    -0.387298\n",
       "4    -0.387298\n",
       "5    -0.387298\n",
       "6     0.387298\n",
       "7     0.387298\n",
       "8     0.387298\n",
       "9     1.161895\n",
       "10    1.161895\n",
       "11    1.161895\n",
       "Name: value, dtype: float64"
      ]
     },
     "metadata": {},
     "execution_count": 247
    }
   ],
   "source": [
    "g.apply(normalize)"
   ]
  },
  {
   "cell_type": "code",
   "execution_count": 248,
   "metadata": {},
   "outputs": [
    {
     "output_type": "execute_result",
     "data": {
      "text/plain": [
       "0     4.5\n",
       "1     5.5\n",
       "2     6.5\n",
       "3     4.5\n",
       "4     5.5\n",
       "5     6.5\n",
       "6     4.5\n",
       "7     5.5\n",
       "8     6.5\n",
       "9     4.5\n",
       "10    5.5\n",
       "11    6.5\n",
       "Name: value, dtype: float64"
      ]
     },
     "metadata": {},
     "execution_count": 248
    }
   ],
   "source": [
    "# Build in aggregae functions like 'mean' or 'sum' are often much faster than a general apply function \n",
    "# These also have a \"fast past\" when used with transform.\n",
    "g.transform('mean')"
   ]
  },
  {
   "cell_type": "code",
   "execution_count": 249,
   "metadata": {},
   "outputs": [],
   "source": [
    "normalized = (df['value'] - g.transform('mean')) / g.transform('std')"
   ]
  },
  {
   "cell_type": "code",
   "execution_count": 250,
   "metadata": {},
   "outputs": [
    {
     "output_type": "execute_result",
     "data": {
      "text/plain": [
       "0    -1.161895\n",
       "1    -1.161895\n",
       "2    -1.161895\n",
       "3    -0.387298\n",
       "4    -0.387298\n",
       "5    -0.387298\n",
       "6     0.387298\n",
       "7     0.387298\n",
       "8     0.387298\n",
       "9     1.161895\n",
       "10    1.161895\n",
       "11    1.161895\n",
       "Name: value, dtype: float64"
      ]
     },
     "metadata": {},
     "execution_count": 250
    }
   ],
   "source": [
    "normalized"
   ]
  },
  {
   "source": [
    "#### Groped time resampling\n",
    "\n",
    "For time series data, the `resample` method is semanitically a group operation based on a time intervalization."
   ],
   "cell_type": "markdown",
   "metadata": {}
  },
  {
   "cell_type": "code",
   "execution_count": 252,
   "metadata": {},
   "outputs": [],
   "source": [
    "N = 15\n",
    "\n",
    "times = pd.date_range('2017-5-20 00:00', freq = '1min', periods = N)\n",
    "\n",
    "df = pd.DataFrame({'time': times, 'value': np.arange(N)})"
   ]
  },
  {
   "cell_type": "code",
   "execution_count": 253,
   "metadata": {},
   "outputs": [
    {
     "output_type": "execute_result",
     "data": {
      "text/plain": [
       "                  time  value\n",
       "0  2017-05-20 00:00:00      0\n",
       "1  2017-05-20 00:01:00      1\n",
       "2  2017-05-20 00:02:00      2\n",
       "3  2017-05-20 00:03:00      3\n",
       "4  2017-05-20 00:04:00      4\n",
       "5  2017-05-20 00:05:00      5\n",
       "6  2017-05-20 00:06:00      6\n",
       "7  2017-05-20 00:07:00      7\n",
       "8  2017-05-20 00:08:00      8\n",
       "9  2017-05-20 00:09:00      9\n",
       "10 2017-05-20 00:10:00     10\n",
       "11 2017-05-20 00:11:00     11\n",
       "12 2017-05-20 00:12:00     12\n",
       "13 2017-05-20 00:13:00     13\n",
       "14 2017-05-20 00:14:00     14"
      ],
      "text/html": "<div>\n<style scoped>\n    .dataframe tbody tr th:only-of-type {\n        vertical-align: middle;\n    }\n\n    .dataframe tbody tr th {\n        vertical-align: top;\n    }\n\n    .dataframe thead th {\n        text-align: right;\n    }\n</style>\n<table border=\"1\" class=\"dataframe\">\n  <thead>\n    <tr style=\"text-align: right;\">\n      <th></th>\n      <th>time</th>\n      <th>value</th>\n    </tr>\n  </thead>\n  <tbody>\n    <tr>\n      <th>0</th>\n      <td>2017-05-20 00:00:00</td>\n      <td>0</td>\n    </tr>\n    <tr>\n      <th>1</th>\n      <td>2017-05-20 00:01:00</td>\n      <td>1</td>\n    </tr>\n    <tr>\n      <th>2</th>\n      <td>2017-05-20 00:02:00</td>\n      <td>2</td>\n    </tr>\n    <tr>\n      <th>3</th>\n      <td>2017-05-20 00:03:00</td>\n      <td>3</td>\n    </tr>\n    <tr>\n      <th>4</th>\n      <td>2017-05-20 00:04:00</td>\n      <td>4</td>\n    </tr>\n    <tr>\n      <th>5</th>\n      <td>2017-05-20 00:05:00</td>\n      <td>5</td>\n    </tr>\n    <tr>\n      <th>6</th>\n      <td>2017-05-20 00:06:00</td>\n      <td>6</td>\n    </tr>\n    <tr>\n      <th>7</th>\n      <td>2017-05-20 00:07:00</td>\n      <td>7</td>\n    </tr>\n    <tr>\n      <th>8</th>\n      <td>2017-05-20 00:08:00</td>\n      <td>8</td>\n    </tr>\n    <tr>\n      <th>9</th>\n      <td>2017-05-20 00:09:00</td>\n      <td>9</td>\n    </tr>\n    <tr>\n      <th>10</th>\n      <td>2017-05-20 00:10:00</td>\n      <td>10</td>\n    </tr>\n    <tr>\n      <th>11</th>\n      <td>2017-05-20 00:11:00</td>\n      <td>11</td>\n    </tr>\n    <tr>\n      <th>12</th>\n      <td>2017-05-20 00:12:00</td>\n      <td>12</td>\n    </tr>\n    <tr>\n      <th>13</th>\n      <td>2017-05-20 00:13:00</td>\n      <td>13</td>\n    </tr>\n    <tr>\n      <th>14</th>\n      <td>2017-05-20 00:14:00</td>\n      <td>14</td>\n    </tr>\n  </tbody>\n</table>\n</div>"
     },
     "metadata": {},
     "execution_count": 253
    }
   ],
   "source": [
    "df"
   ]
  },
  {
   "cell_type": "code",
   "execution_count": 255,
   "metadata": {},
   "outputs": [
    {
     "output_type": "execute_result",
     "data": {
      "text/plain": [
       "                     value\n",
       "time                      \n",
       "2017-05-20 00:00:00      5\n",
       "2017-05-20 00:05:00      5\n",
       "2017-05-20 00:10:00      5"
      ],
      "text/html": "<div>\n<style scoped>\n    .dataframe tbody tr th:only-of-type {\n        vertical-align: middle;\n    }\n\n    .dataframe tbody tr th {\n        vertical-align: top;\n    }\n\n    .dataframe thead th {\n        text-align: right;\n    }\n</style>\n<table border=\"1\" class=\"dataframe\">\n  <thead>\n    <tr style=\"text-align: right;\">\n      <th></th>\n      <th>value</th>\n    </tr>\n    <tr>\n      <th>time</th>\n      <th></th>\n    </tr>\n  </thead>\n  <tbody>\n    <tr>\n      <th>2017-05-20 00:00:00</th>\n      <td>5</td>\n    </tr>\n    <tr>\n      <th>2017-05-20 00:05:00</th>\n      <td>5</td>\n    </tr>\n    <tr>\n      <th>2017-05-20 00:10:00</th>\n      <td>5</td>\n    </tr>\n  </tbody>\n</table>\n</div>"
     },
     "metadata": {},
     "execution_count": 255
    }
   ],
   "source": [
    "# Index by 'time' and then resample.\n",
    "df.set_index('time').resample('5min').count()"
   ]
  },
  {
   "cell_type": "code",
   "execution_count": 257,
   "metadata": {},
   "outputs": [
    {
     "output_type": "execute_result",
     "data": {
      "text/plain": [
       "                 time key  value\n",
       "0 2017-05-20 00:00:00   a    0.0\n",
       "1 2017-05-20 00:00:00   b    1.0\n",
       "2 2017-05-20 00:00:00   c    2.0\n",
       "3 2017-05-20 00:01:00   a    3.0\n",
       "4 2017-05-20 00:01:00   b    4.0\n",
       "5 2017-05-20 00:01:00   c    5.0\n",
       "6 2017-05-20 00:02:00   a    6.0"
      ],
      "text/html": "<div>\n<style scoped>\n    .dataframe tbody tr th:only-of-type {\n        vertical-align: middle;\n    }\n\n    .dataframe tbody tr th {\n        vertical-align: top;\n    }\n\n    .dataframe thead th {\n        text-align: right;\n    }\n</style>\n<table border=\"1\" class=\"dataframe\">\n  <thead>\n    <tr style=\"text-align: right;\">\n      <th></th>\n      <th>time</th>\n      <th>key</th>\n      <th>value</th>\n    </tr>\n  </thead>\n  <tbody>\n    <tr>\n      <th>0</th>\n      <td>2017-05-20 00:00:00</td>\n      <td>a</td>\n      <td>0.0</td>\n    </tr>\n    <tr>\n      <th>1</th>\n      <td>2017-05-20 00:00:00</td>\n      <td>b</td>\n      <td>1.0</td>\n    </tr>\n    <tr>\n      <th>2</th>\n      <td>2017-05-20 00:00:00</td>\n      <td>c</td>\n      <td>2.0</td>\n    </tr>\n    <tr>\n      <th>3</th>\n      <td>2017-05-20 00:01:00</td>\n      <td>a</td>\n      <td>3.0</td>\n    </tr>\n    <tr>\n      <th>4</th>\n      <td>2017-05-20 00:01:00</td>\n      <td>b</td>\n      <td>4.0</td>\n    </tr>\n    <tr>\n      <th>5</th>\n      <td>2017-05-20 00:01:00</td>\n      <td>c</td>\n      <td>5.0</td>\n    </tr>\n    <tr>\n      <th>6</th>\n      <td>2017-05-20 00:02:00</td>\n      <td>a</td>\n      <td>6.0</td>\n    </tr>\n  </tbody>\n</table>\n</div>"
     },
     "metadata": {},
     "execution_count": 257
    }
   ],
   "source": [
    "# Suppose that a DataFrame contains multiple time series, marked by an additional group key column.\n",
    "df2 = pd.DataFrame({'time':times.repeat(3), 'key': np.tile(['a','b','c'], N), 'value':np.arange(N * 3.)})\n",
    "\n",
    "df2[:7]"
   ]
  },
  {
   "cell_type": "code",
   "execution_count": 265,
   "metadata": {},
   "outputs": [
    {
     "output_type": "execute_result",
     "data": {
      "text/plain": [
       "Grouper(key='5min', axis=0, sort=False)"
      ]
     },
     "metadata": {},
     "execution_count": 265
    }
   ],
   "source": [
    "# To do the same resampling for each value of 'key', we introduce the pandas.TimeGrouper object\n",
    "\n",
    "time_key = pd.Grouper('5min')\n",
    "time_key"
   ]
  },
  {
   "cell_type": "code",
   "execution_count": 266,
   "metadata": {},
   "outputs": [
    {
     "output_type": "error",
     "ename": "KeyError",
     "evalue": "'The grouper name 5min is not found'",
     "traceback": [
      "\u001b[1;31m---------------------------------------------------------------------------\u001b[0m",
      "\u001b[1;31mKeyError\u001b[0m                                  Traceback (most recent call last)",
      "\u001b[1;32m<ipython-input-266-ab36a293266d>\u001b[0m in \u001b[0;36m<module>\u001b[1;34m\u001b[0m\n\u001b[1;32m----> 1\u001b[1;33m \u001b[0mresampled\u001b[0m \u001b[1;33m=\u001b[0m \u001b[1;33m(\u001b[0m\u001b[0mdf2\u001b[0m\u001b[1;33m.\u001b[0m\u001b[0mset_index\u001b[0m\u001b[1;33m(\u001b[0m\u001b[1;34m'time'\u001b[0m\u001b[1;33m)\u001b[0m\u001b[1;33m.\u001b[0m\u001b[0mgroupby\u001b[0m\u001b[1;33m(\u001b[0m\u001b[1;33m[\u001b[0m\u001b[1;34m'key'\u001b[0m\u001b[1;33m,\u001b[0m \u001b[0mtime_key\u001b[0m\u001b[1;33m]\u001b[0m\u001b[1;33m)\u001b[0m\u001b[1;33m.\u001b[0m\u001b[0msum\u001b[0m\u001b[1;33m(\u001b[0m\u001b[1;33m)\u001b[0m\u001b[1;33m)\u001b[0m\u001b[1;33m\u001b[0m\u001b[1;33m\u001b[0m\u001b[0m\n\u001b[0m",
      "\u001b[1;32m~\\anaconda3\\lib\\site-packages\\pandas\\core\\frame.py\u001b[0m in \u001b[0;36mgroupby\u001b[1;34m(self, by, axis, level, as_index, sort, group_keys, squeeze, observed, dropna)\u001b[0m\n\u001b[0;32m   6509\u001b[0m         \u001b[0maxis\u001b[0m \u001b[1;33m=\u001b[0m \u001b[0mself\u001b[0m\u001b[1;33m.\u001b[0m\u001b[0m_get_axis_number\u001b[0m\u001b[1;33m(\u001b[0m\u001b[0maxis\u001b[0m\u001b[1;33m)\u001b[0m\u001b[1;33m\u001b[0m\u001b[1;33m\u001b[0m\u001b[0m\n\u001b[0;32m   6510\u001b[0m \u001b[1;33m\u001b[0m\u001b[0m\n\u001b[1;32m-> 6511\u001b[1;33m         return DataFrameGroupBy(\n\u001b[0m\u001b[0;32m   6512\u001b[0m             \u001b[0mobj\u001b[0m\u001b[1;33m=\u001b[0m\u001b[0mself\u001b[0m\u001b[1;33m,\u001b[0m\u001b[1;33m\u001b[0m\u001b[1;33m\u001b[0m\u001b[0m\n\u001b[0;32m   6513\u001b[0m             \u001b[0mkeys\u001b[0m\u001b[1;33m=\u001b[0m\u001b[0mby\u001b[0m\u001b[1;33m,\u001b[0m\u001b[1;33m\u001b[0m\u001b[1;33m\u001b[0m\u001b[0m\n",
      "\u001b[1;32m~\\anaconda3\\lib\\site-packages\\pandas\\core\\groupby\\groupby.py\u001b[0m in \u001b[0;36m__init__\u001b[1;34m(self, obj, keys, axis, level, grouper, exclusions, selection, as_index, sort, group_keys, squeeze, observed, mutated, dropna)\u001b[0m\n\u001b[0;32m    523\u001b[0m             \u001b[1;32mfrom\u001b[0m \u001b[0mpandas\u001b[0m\u001b[1;33m.\u001b[0m\u001b[0mcore\u001b[0m\u001b[1;33m.\u001b[0m\u001b[0mgroupby\u001b[0m\u001b[1;33m.\u001b[0m\u001b[0mgrouper\u001b[0m \u001b[1;32mimport\u001b[0m \u001b[0mget_grouper\u001b[0m\u001b[1;33m\u001b[0m\u001b[1;33m\u001b[0m\u001b[0m\n\u001b[0;32m    524\u001b[0m \u001b[1;33m\u001b[0m\u001b[0m\n\u001b[1;32m--> 525\u001b[1;33m             grouper, exclusions, obj = get_grouper(\n\u001b[0m\u001b[0;32m    526\u001b[0m                 \u001b[0mobj\u001b[0m\u001b[1;33m,\u001b[0m\u001b[1;33m\u001b[0m\u001b[1;33m\u001b[0m\u001b[0m\n\u001b[0;32m    527\u001b[0m                 \u001b[0mkeys\u001b[0m\u001b[1;33m,\u001b[0m\u001b[1;33m\u001b[0m\u001b[1;33m\u001b[0m\u001b[0m\n",
      "\u001b[1;32m~\\anaconda3\\lib\\site-packages\\pandas\\core\\groupby\\grouper.py\u001b[0m in \u001b[0;36mget_grouper\u001b[1;34m(obj, key, axis, level, sort, observed, mutated, validate, dropna)\u001b[0m\n\u001b[0;32m    796\u001b[0m         \u001b[1;31m# allow us to passing the actual Grouping as the gpr\u001b[0m\u001b[1;33m\u001b[0m\u001b[1;33m\u001b[0m\u001b[1;33m\u001b[0m\u001b[0m\n\u001b[0;32m    797\u001b[0m         ping = (\n\u001b[1;32m--> 798\u001b[1;33m             Grouping(\n\u001b[0m\u001b[0;32m    799\u001b[0m                 \u001b[0mgroup_axis\u001b[0m\u001b[1;33m,\u001b[0m\u001b[1;33m\u001b[0m\u001b[1;33m\u001b[0m\u001b[0m\n\u001b[0;32m    800\u001b[0m                 \u001b[0mgpr\u001b[0m\u001b[1;33m,\u001b[0m\u001b[1;33m\u001b[0m\u001b[1;33m\u001b[0m\u001b[0m\n",
      "\u001b[1;32m~\\anaconda3\\lib\\site-packages\\pandas\\core\\groupby\\grouper.py\u001b[0m in \u001b[0;36m__init__\u001b[1;34m(self, index, grouper, obj, name, level, sort, observed, in_axis, dropna)\u001b[0m\n\u001b[0;32m    466\u001b[0m             \u001b[1;31m# check again as we have by this point converted these\u001b[0m\u001b[1;33m\u001b[0m\u001b[1;33m\u001b[0m\u001b[1;33m\u001b[0m\u001b[0m\n\u001b[0;32m    467\u001b[0m             \u001b[1;31m# to an actual value (rather than a pd.Grouper)\u001b[0m\u001b[1;33m\u001b[0m\u001b[1;33m\u001b[0m\u001b[1;33m\u001b[0m\u001b[0m\n\u001b[1;32m--> 468\u001b[1;33m             \u001b[0m_\u001b[0m\u001b[1;33m,\u001b[0m \u001b[0mgrouper\u001b[0m\u001b[1;33m,\u001b[0m \u001b[0m_\u001b[0m \u001b[1;33m=\u001b[0m \u001b[0mself\u001b[0m\u001b[1;33m.\u001b[0m\u001b[0mgrouper\u001b[0m\u001b[1;33m.\u001b[0m\u001b[0m_get_grouper\u001b[0m\u001b[1;33m(\u001b[0m\u001b[0mself\u001b[0m\u001b[1;33m.\u001b[0m\u001b[0mobj\u001b[0m\u001b[1;33m,\u001b[0m \u001b[0mvalidate\u001b[0m\u001b[1;33m=\u001b[0m\u001b[1;32mFalse\u001b[0m\u001b[1;33m)\u001b[0m\u001b[1;33m\u001b[0m\u001b[1;33m\u001b[0m\u001b[0m\n\u001b[0m\u001b[0;32m    469\u001b[0m             \u001b[1;32mif\u001b[0m \u001b[0mself\u001b[0m\u001b[1;33m.\u001b[0m\u001b[0mname\u001b[0m \u001b[1;32mis\u001b[0m \u001b[1;32mNone\u001b[0m\u001b[1;33m:\u001b[0m\u001b[1;33m\u001b[0m\u001b[1;33m\u001b[0m\u001b[0m\n\u001b[0;32m    470\u001b[0m                 \u001b[0mself\u001b[0m\u001b[1;33m.\u001b[0m\u001b[0mname\u001b[0m \u001b[1;33m=\u001b[0m \u001b[0mgrouper\u001b[0m\u001b[1;33m.\u001b[0m\u001b[0mresult_index\u001b[0m\u001b[1;33m.\u001b[0m\u001b[0mname\u001b[0m\u001b[1;33m\u001b[0m\u001b[1;33m\u001b[0m\u001b[0m\n",
      "\u001b[1;32m~\\anaconda3\\lib\\site-packages\\pandas\\core\\groupby\\grouper.py\u001b[0m in \u001b[0;36m_get_grouper\u001b[1;34m(self, obj, validate)\u001b[0m\n\u001b[0;32m    300\u001b[0m         \u001b[0ma\u001b[0m \u001b[0mtuple\u001b[0m \u001b[0mof\u001b[0m \u001b[0mbinner\u001b[0m\u001b[1;33m,\u001b[0m \u001b[0mgrouper\u001b[0m\u001b[1;33m,\u001b[0m \u001b[0mobj\u001b[0m \u001b[1;33m(\u001b[0m\u001b[0mpossibly\u001b[0m \u001b[0msorted\u001b[0m\u001b[1;33m)\u001b[0m\u001b[1;33m\u001b[0m\u001b[1;33m\u001b[0m\u001b[0m\n\u001b[0;32m    301\u001b[0m         \"\"\"\n\u001b[1;32m--> 302\u001b[1;33m         \u001b[0mself\u001b[0m\u001b[1;33m.\u001b[0m\u001b[0m_set_grouper\u001b[0m\u001b[1;33m(\u001b[0m\u001b[0mobj\u001b[0m\u001b[1;33m)\u001b[0m\u001b[1;33m\u001b[0m\u001b[1;33m\u001b[0m\u001b[0m\n\u001b[0m\u001b[0;32m    303\u001b[0m         self.grouper, _, self.obj = get_grouper(\n\u001b[0;32m    304\u001b[0m             \u001b[0mself\u001b[0m\u001b[1;33m.\u001b[0m\u001b[0mobj\u001b[0m\u001b[1;33m,\u001b[0m\u001b[1;33m\u001b[0m\u001b[1;33m\u001b[0m\u001b[0m\n",
      "\u001b[1;32m~\\anaconda3\\lib\\site-packages\\pandas\\core\\groupby\\grouper.py\u001b[0m in \u001b[0;36m_set_grouper\u001b[1;34m(self, obj, sort)\u001b[0m\n\u001b[0;32m    342\u001b[0m             \u001b[1;32melse\u001b[0m\u001b[1;33m:\u001b[0m\u001b[1;33m\u001b[0m\u001b[1;33m\u001b[0m\u001b[0m\n\u001b[0;32m    343\u001b[0m                 \u001b[1;32mif\u001b[0m \u001b[0mkey\u001b[0m \u001b[1;32mnot\u001b[0m \u001b[1;32min\u001b[0m \u001b[0mobj\u001b[0m\u001b[1;33m.\u001b[0m\u001b[0m_info_axis\u001b[0m\u001b[1;33m:\u001b[0m\u001b[1;33m\u001b[0m\u001b[1;33m\u001b[0m\u001b[0m\n\u001b[1;32m--> 344\u001b[1;33m                     \u001b[1;32mraise\u001b[0m \u001b[0mKeyError\u001b[0m\u001b[1;33m(\u001b[0m\u001b[1;34mf\"The grouper name {key} is not found\"\u001b[0m\u001b[1;33m)\u001b[0m\u001b[1;33m\u001b[0m\u001b[1;33m\u001b[0m\u001b[0m\n\u001b[0m\u001b[0;32m    345\u001b[0m                 \u001b[0max\u001b[0m \u001b[1;33m=\u001b[0m \u001b[0mIndex\u001b[0m\u001b[1;33m(\u001b[0m\u001b[0mobj\u001b[0m\u001b[1;33m[\u001b[0m\u001b[0mkey\u001b[0m\u001b[1;33m]\u001b[0m\u001b[1;33m,\u001b[0m \u001b[0mname\u001b[0m\u001b[1;33m=\u001b[0m\u001b[0mkey\u001b[0m\u001b[1;33m)\u001b[0m\u001b[1;33m\u001b[0m\u001b[1;33m\u001b[0m\u001b[0m\n\u001b[0;32m    346\u001b[0m \u001b[1;33m\u001b[0m\u001b[0m\n",
      "\u001b[1;31mKeyError\u001b[0m: 'The grouper name 5min is not found'"
     ]
    }
   ],
   "source": [
    "resampled = (df2.set_index('time').groupby(['key', time_key]).sum())"
   ]
  },
  {
   "cell_type": "code",
   "execution_count": null,
   "metadata": {},
   "outputs": [],
   "source": []
  }
 ],
 "metadata": {
  "kernelspec": {
   "display_name": "Python 3",
   "language": "python",
   "name": "python3"
  },
  "language_info": {
   "codemirror_mode": {
    "name": "ipython",
    "version": 3
   },
   "file_extension": ".py",
   "mimetype": "text/x-python",
   "name": "python",
   "nbconvert_exporter": "python",
   "pygments_lexer": "ipython3",
   "version": "3.8.5-final"
  }
 },
 "nbformat": 4,
 "nbformat_minor": 4
}