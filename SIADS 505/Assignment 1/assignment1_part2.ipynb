{
 "cells": [
  {
   "cell_type": "markdown",
   "metadata": {
    "deletable": false,
    "editable": false,
    "mentor_academy_cell_type": "part_description",
    "nbgrader": {
     "checksum": "0594fb130397610dcb04e7a8d9ba9f83",
     "grade": false,
     "grade_id": "cell-0c88e1f3d7921e6b",
     "locked": true,
     "schema_version": 1,
     "solution": false
    },
    "part_id": "ufxqepry",
    "part_order": 2,
    "submit": "submit",
    "type": "stub"
   },
   "source": [
    "# Assignment 1 Part 2\n",
    "## Grades\n",
    "\n",
    "The dataset file in [assets/grades.txt](assets/grades.txt) contains multiple lines of people along with their grades in a class. Fix the incorrect regex between `### BEGIN CODE` and `### END CODE` to generate a list of just those students who received a B in the course (e.g., \\[\\'John Doe\\', \\'Jane Doe\\'\\].)"
   ]
  },
  {
   "cell_type": "code",
   "execution_count": 2,
   "metadata": {
    "deletable": false,
    "if_hint": true,
    "mentor_academy_cell_type": "part_student_solution_code",
    "nbgrader": {
     "checksum": "aaf64abc936d2fa08b84bca775364e2c",
     "grade": false,
     "grade_id": "grades",
     "locked": false,
     "schema_version": 1,
     "solution": true
    },
    "part_id": "ufxqepry",
    "part_order": 2,
    "type": "stub"
   },
   "outputs": [
    {
     "data": {
      "text/plain": [
       "['Bell Kassulke',\n",
       " 'Simon Loidl',\n",
       " 'Elias Jovanovic',\n",
       " 'Hakim Botros',\n",
       " 'Emilie Lorentsen',\n",
       " 'Jake Wood',\n",
       " 'Fatemeh Akhtar',\n",
       " 'Kim Weston',\n",
       " 'Yasmin Dar',\n",
       " 'Viswamitra Upandhye',\n",
       " 'Killian Kaufman',\n",
       " 'Elwood Page',\n",
       " 'Elodie Booker',\n",
       " 'Adnan Chen',\n",
       " 'Hank Spinka',\n",
       " 'Hannah Bayer']"
      ]
     },
     "execution_count": 2,
     "metadata": {},
     "output_type": "execute_result"
    }
   ],
   "source": [
    "import re\n",
    "\n",
    "def student_grades():\n",
    "    with open (\"assets/grades.txt\", \"r\") as file:\n",
    "        grades = file.read()\n",
    "\n",
    "    ### BEGIN CODE\n",
    "    # pattern = \"\"\"(\\w+)\"\"\"\n",
    "    # matches = re.findall(pattern,grades)\n",
    "    ### END CODE\n",
    "        \n",
    "        \n",
    "    # YOUR CODE HERE\n",
    "    pattern = \"[\\w]*\\ [\\w]*(?=:\\ B)\"\n",
    "    matches = re.findall(pattern, grades)\n",
    "    #raise NotImplementedError()\n",
    "\n",
    "    return matches  \n",
    "    \n",
    "student_grades()\n"
   ]
  },
  {
   "cell_type": "code",
   "execution_count": null,
   "metadata": {
    "deletable": false,
    "editable": false,
    "hideCode": true,
    "mentor_academy_cell_type": "part_sample_solution_code",
    "nbgrader": {
     "checksum": "fce5378cac415725d1d549a4c6a6bcad",
     "grade": true,
     "grade_id": "correct_grades",
     "locked": true,
     "points": 1,
     "schema_version": 1,
     "solution": false
    },
    "part_id": "ufxqepry",
    "part_order": 2,
    "solution": "True",
    "type": "stub"
   },
   "outputs": [],
   "source": [
    "assert len(student_grades()) == 16"
   ]
  }
 ],
 "metadata": {
  "anaconda-cloud": {},
  "kernelspec": {
   "display_name": "Python 3",
   "language": "python",
   "name": "python3"
  },
  "language_info": {
   "codemirror_mode": {
    "name": "ipython",
    "version": 3
   },
   "file_extension": ".py",
   "mimetype": "text/x-python",
   "name": "python",
   "nbconvert_exporter": "python",
   "pygments_lexer": "ipython3",
   "version": "3.7.3"
  },
  "michigan": {
   "schema_names": [
    "mads_data_manipulation_v2_assignment1_part2"
   ]
  },
  "umich": {
   "id": "Assignment 2",
   "submit": "yes",
   "version": "1.2"
  }
 },
 "nbformat": 4,
 "nbformat_minor": 1
}
