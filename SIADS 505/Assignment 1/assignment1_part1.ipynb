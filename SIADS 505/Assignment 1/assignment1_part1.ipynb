{
 "cells": [
  {
   "cell_type": "markdown",
   "metadata": {
    "deletable": false,
    "description": "",
    "editable": false,
    "license": "CC0",
    "mentor_academy_cell_type": "question_description",
    "nbgrader": {
     "checksum": "44af8d98ecec40e766bff55e6abc3e99",
     "grade": false,
     "grade_id": "cell-6a5e709e533e86a5",
     "locked": true,
     "schema_version": 1,
     "solution": false
    },
    "partlist_id": "rjjykzww",
    "publish_status": "draft",
    "question_id": "junbrems",
    "type": "prologue"
   },
   "source": [
    "# Assignment 1 Part 1\n",
    "Before you start working on the problems, here is a small example to help you understand how to write your answers. The solution should be written within the function body given, and the final result should be returned. Then the autograder will try to call the function and validate your returned result accordingly. "
   ]
  },
  {
   "cell_type": "code",
   "execution_count": null,
   "metadata": {
    "deletable": false,
    "editable": false,
    "mentor_academy_cell_type": "question_code",
    "nbgrader": {
     "checksum": "05f0f717c8d1a604e5d0d8d32a66786c",
     "grade": false,
     "grade_id": "cell-e307958b7d57bc5b",
     "locked": true,
     "schema_version": 1,
     "solution": false
    },
    "question_id": "junbrems",
    "type": "stub"
   },
   "outputs": [],
   "source": [
    "def example_word_count():\n",
    "    # This example question requires counting words in the example_string below.\n",
    "    example_string = \"Amy is 5 years old\"\n",
    "\n",
    "    # You should fix the given code only between ### BEGIN CODE and ### END CODE. \n",
    "    # Your code should return a result. \n",
    "    # You can use \"Show Hint\" button to see helpful information for solving problems.    \n",
    "    # You can comment out or delete the NotImplementedError below.\n",
    "    \n",
    "    ### BEGIN CODE \n",
    "    result = example_string.split(\" \")\n",
    "    ### END CODE \n",
    "    #raise NotImplementedError()\n",
    "    return len(result)"
   ]
  },
  {
   "cell_type": "markdown",
   "metadata": {
    "deletable": false,
    "editable": false,
    "mentor_academy_cell_type": "part_description",
    "nbgrader": {
     "checksum": "a6f09ed63aa59af8734b86439525e67e",
     "grade": false,
     "grade_id": "cell-87517a6ea156ec89",
     "locked": true,
     "schema_version": 1,
     "solution": false
    },
    "part_id": "xntbbolm",
    "part_order": 1,
    "type": "stub"
   },
   "source": [
    "### Part 1: Names\n",
    "Fix the incorrect regex between `### BEGIN CODE` and `### END CODE` to generate a list of names in the simple_string."
   ]
  },
  {
   "cell_type": "code",
   "execution_count": 15,
   "metadata": {
    "deletable": false,
    "if_hint": true,
    "mentor_academy_cell_type": "part_student_solution_code",
    "nbgrader": {
     "checksum": "26a983e1c530d009747bcf801b846bd2",
     "grade": false,
     "grade_id": "names",
     "locked": false,
     "schema_version": 1,
     "solution": true
    },
    "part_id": "xntbbolm",
    "part_order": 1,
    "type": "stub"
   },
   "outputs": [
    {
     "data": {
      "text/plain": [
       "['Amy', 'Mary', 'Ruth', 'Peter']"
      ]
     },
     "execution_count": 15,
     "metadata": {},
     "output_type": "execute_result"
    }
   ],
   "source": [
    "import re\n",
    "def names():\n",
    "    simple_string = \"\"\"Amy is 5 years old, and her sister Mary is 2 years old. \n",
    "    Ruth and Peter, their parents, have 3 kids.\"\"\"\n",
    "\n",
    "    ### BEGIN CODE  \n",
    "    #pattern = r'[A-Za-z]?'\n",
    "    #match = re.finditer(pattern, simple_string)\n",
    "    ### END CODE  \n",
    "    \n",
    "    # YOUR CODE HERE\n",
    "    pattern = '[A-Z][a-z]*'\n",
    "    match = re.findall(pattern, simple_string)\n",
    "    #raise NotImplementedError()\n",
    "    \n",
    "    return match\n",
    "    \n",
    "names()"
   ]
  },
  {
   "cell_type": "code",
   "execution_count": null,
   "metadata": {
    "deletable": false,
    "editable": false,
    "mentor_academy_cell_type": "part_sample_solution_code",
    "nbgrader": {
     "checksum": "ed5c09ac57f7d98130d5abc557f6d6c4",
     "grade": true,
     "grade_id": "correct_names",
     "locked": true,
     "points": 1,
     "schema_version": 1,
     "solution": false
    },
    "part_id": "xntbbolm",
    "part_order": 1,
    "solution": "True",
    "type": "stub"
   },
   "outputs": [],
   "source": [
    "assert len(names()) == 4, \"There are four names in the simple_string\"\n"
   ]
  }
 ],
 "metadata": {
  "anaconda-cloud": {},
  "coursera": {
   "schema_names": [
    "mads_data_manipulation_v2_assignment1_part1"
   ]
  },
  "kernelspec": {
   "display_name": "Python 3",
   "language": "python",
   "name": "python3"
  },
  "language_info": {
   "codemirror_mode": {
    "name": "ipython",
    "version": 3
   },
   "file_extension": ".py",
   "mimetype": "text/x-python",
   "name": "python",
   "nbconvert_exporter": "python",
   "pygments_lexer": "ipython3",
   "version": "3.7.3"
  },
  "umich": {
   "id": "Assignment 2",
   "submit": "yes",
   "version": "1.2"
  }
 },
 "nbformat": 4,
 "nbformat_minor": 1
}
