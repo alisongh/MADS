{
 "metadata": {
  "language_info": {
   "codemirror_mode": {
    "name": "ipython",
    "version": 3
   },
   "file_extension": ".py",
   "mimetype": "text/x-python",
   "name": "python",
   "nbconvert_exporter": "python",
   "pygments_lexer": "ipython3",
   "version": "3.8.5-final"
  },
  "orig_nbformat": 2,
  "kernelspec": {
   "name": "python3",
   "display_name": "Python 3",
   "language": "python"
  }
 },
 "nbformat": 4,
 "nbformat_minor": 2,
 "cells": [
  {
   "source": [
    "## Basic Statistical Testing\n",
    "\n",
    "The goal of hypothesis testing is to determine if, for instance, the two different conditions we have in an experiment have resulted in different impacts."
   ],
   "cell_type": "markdown",
   "metadata": {}
  },
  {
   "cell_type": "code",
   "execution_count": 1,
   "metadata": {},
   "outputs": [],
   "source": [
    "import pandas as pd"
   ]
  },
  {
   "cell_type": "code",
   "execution_count": 2,
   "metadata": {},
   "outputs": [],
   "source": [
    "import numpy as np"
   ]
  },
  {
   "cell_type": "code",
   "execution_count": 3,
   "metadata": {},
   "outputs": [],
   "source": [
    "from scipy import stats"
   ]
  },
  {
   "cell_type": "code",
   "execution_count": 4,
   "metadata": {},
   "outputs": [],
   "source": [
    "# scipy is an interesting collection of libraries for data science and you will use most or perhaps all of libraries for data science. \n",
    "# It includes numpy and pandas, but also plotting libraries such as matplotlib, and a number of scientific library functions."
   ]
  },
  {
   "source": [
    "Two statements of interests:\n",
    "1. Actual explanation, which is the alternative hypothesis.\n",
    "2. explanation is not sufficient, which is the null hypothesis. \n",
    "\n",
    "The actual testing method is to determine whether the null hypothesis is true or not. \n",
    "If there is a difference between groups, reject the null hypothesis and accept the alternative."
   ],
   "cell_type": "markdown",
   "metadata": {}
  },
  {
   "cell_type": "code",
   "execution_count": 5,
   "metadata": {},
   "outputs": [
    {
     "output_type": "execute_result",
     "data": {
      "text/plain": [
       "                             student_id  assignment1_grade  \\\n",
       "0  B73F2C11-70F0-E37D-8B10-1D20AFED50B1          92.733946   \n",
       "1  98A0FAE0-A19A-13D2-4BB5-CFBFD94031D1          86.790821   \n",
       "2  D0F62040-CEB0-904C-F563-2F8620916C4E          85.512541   \n",
       "3  FFDF2B2C-F514-EF7F-6538-A6A53518E9DC          86.030665   \n",
       "4  5ECBEEB6-F1CE-80AE-3164-E45E99473FB4          64.813800   \n",
       "\n",
       "          assignment1_submission  assignment2_grade  \\\n",
       "0  2015-11-02 06:55:34.282000000          83.030552   \n",
       "1  2015-11-29 14:57:44.429000000          86.290821   \n",
       "2  2016-01-09 05:36:02.389000000          85.512541   \n",
       "3  2016-04-30 06:50:39.801000000          68.824532   \n",
       "4  2015-12-13 17:06:10.750000000          51.491040   \n",
       "\n",
       "          assignment2_submission  assignment3_grade  \\\n",
       "0  2015-11-09 02:22:58.938000000          67.164441   \n",
       "1  2015-12-06 17:41:18.449000000          69.772657   \n",
       "2  2016-01-09 06:39:44.416000000          68.410033   \n",
       "3  2016-04-30 17:20:38.727000000          61.942079   \n",
       "4  2015-12-14 12:25:12.056000000          41.932832   \n",
       "\n",
       "          assignment3_submission  assignment4_grade  \\\n",
       "0  2015-11-12 08:58:33.998000000          53.011553   \n",
       "1  2015-12-10 08:54:55.904000000          55.098125   \n",
       "2  2016-01-15 20:22:45.882000000          54.728026   \n",
       "3  2016-05-12 07:47:16.326000000          49.553663   \n",
       "4  2015-12-29 14:25:22.594000000          36.929549   \n",
       "\n",
       "          assignment4_submission  assignment5_grade  \\\n",
       "0  2015-11-16 01:21:24.663000000          47.710398   \n",
       "1  2015-12-13 17:32:30.941000000          49.588313   \n",
       "2  2016-01-11 12:41:50.749000000          49.255224   \n",
       "3  2016-05-07 16:09:20.485000000          49.553663   \n",
       "4  2015-12-28 01:29:55.901000000          33.236594   \n",
       "\n",
       "          assignment5_submission  assignment6_grade  \\\n",
       "0  2015-11-20 13:24:59.692000000          38.168318   \n",
       "1  2015-12-19 23:26:39.285000000          44.629482   \n",
       "2  2016-01-11 17:31:12.489000000          44.329701   \n",
       "3  2016-05-24 12:51:18.016000000          44.598297   \n",
       "4  2015-12-29 14:46:06.628000000          33.236594   \n",
       "\n",
       "          assignment6_submission  \n",
       "0  2015-11-22 18:31:15.934000000  \n",
       "1  2015-12-21 17:07:24.275000000  \n",
       "2  2016-01-17 16:24:42.765000000  \n",
       "3  2016-05-26 08:09:12.058000000  \n",
       "4  2016-01-05 01:06:59.546000000  "
      ],
      "text/html": "<div>\n<style scoped>\n    .dataframe tbody tr th:only-of-type {\n        vertical-align: middle;\n    }\n\n    .dataframe tbody tr th {\n        vertical-align: top;\n    }\n\n    .dataframe thead th {\n        text-align: right;\n    }\n</style>\n<table border=\"1\" class=\"dataframe\">\n  <thead>\n    <tr style=\"text-align: right;\">\n      <th></th>\n      <th>student_id</th>\n      <th>assignment1_grade</th>\n      <th>assignment1_submission</th>\n      <th>assignment2_grade</th>\n      <th>assignment2_submission</th>\n      <th>assignment3_grade</th>\n      <th>assignment3_submission</th>\n      <th>assignment4_grade</th>\n      <th>assignment4_submission</th>\n      <th>assignment5_grade</th>\n      <th>assignment5_submission</th>\n      <th>assignment6_grade</th>\n      <th>assignment6_submission</th>\n    </tr>\n  </thead>\n  <tbody>\n    <tr>\n      <th>0</th>\n      <td>B73F2C11-70F0-E37D-8B10-1D20AFED50B1</td>\n      <td>92.733946</td>\n      <td>2015-11-02 06:55:34.282000000</td>\n      <td>83.030552</td>\n      <td>2015-11-09 02:22:58.938000000</td>\n      <td>67.164441</td>\n      <td>2015-11-12 08:58:33.998000000</td>\n      <td>53.011553</td>\n      <td>2015-11-16 01:21:24.663000000</td>\n      <td>47.710398</td>\n      <td>2015-11-20 13:24:59.692000000</td>\n      <td>38.168318</td>\n      <td>2015-11-22 18:31:15.934000000</td>\n    </tr>\n    <tr>\n      <th>1</th>\n      <td>98A0FAE0-A19A-13D2-4BB5-CFBFD94031D1</td>\n      <td>86.790821</td>\n      <td>2015-11-29 14:57:44.429000000</td>\n      <td>86.290821</td>\n      <td>2015-12-06 17:41:18.449000000</td>\n      <td>69.772657</td>\n      <td>2015-12-10 08:54:55.904000000</td>\n      <td>55.098125</td>\n      <td>2015-12-13 17:32:30.941000000</td>\n      <td>49.588313</td>\n      <td>2015-12-19 23:26:39.285000000</td>\n      <td>44.629482</td>\n      <td>2015-12-21 17:07:24.275000000</td>\n    </tr>\n    <tr>\n      <th>2</th>\n      <td>D0F62040-CEB0-904C-F563-2F8620916C4E</td>\n      <td>85.512541</td>\n      <td>2016-01-09 05:36:02.389000000</td>\n      <td>85.512541</td>\n      <td>2016-01-09 06:39:44.416000000</td>\n      <td>68.410033</td>\n      <td>2016-01-15 20:22:45.882000000</td>\n      <td>54.728026</td>\n      <td>2016-01-11 12:41:50.749000000</td>\n      <td>49.255224</td>\n      <td>2016-01-11 17:31:12.489000000</td>\n      <td>44.329701</td>\n      <td>2016-01-17 16:24:42.765000000</td>\n    </tr>\n    <tr>\n      <th>3</th>\n      <td>FFDF2B2C-F514-EF7F-6538-A6A53518E9DC</td>\n      <td>86.030665</td>\n      <td>2016-04-30 06:50:39.801000000</td>\n      <td>68.824532</td>\n      <td>2016-04-30 17:20:38.727000000</td>\n      <td>61.942079</td>\n      <td>2016-05-12 07:47:16.326000000</td>\n      <td>49.553663</td>\n      <td>2016-05-07 16:09:20.485000000</td>\n      <td>49.553663</td>\n      <td>2016-05-24 12:51:18.016000000</td>\n      <td>44.598297</td>\n      <td>2016-05-26 08:09:12.058000000</td>\n    </tr>\n    <tr>\n      <th>4</th>\n      <td>5ECBEEB6-F1CE-80AE-3164-E45E99473FB4</td>\n      <td>64.813800</td>\n      <td>2015-12-13 17:06:10.750000000</td>\n      <td>51.491040</td>\n      <td>2015-12-14 12:25:12.056000000</td>\n      <td>41.932832</td>\n      <td>2015-12-29 14:25:22.594000000</td>\n      <td>36.929549</td>\n      <td>2015-12-28 01:29:55.901000000</td>\n      <td>33.236594</td>\n      <td>2015-12-29 14:46:06.628000000</td>\n      <td>33.236594</td>\n      <td>2016-01-05 01:06:59.546000000</td>\n    </tr>\n  </tbody>\n</table>\n</div>"
     },
     "metadata": {},
     "execution_count": 5
    }
   ],
   "source": [
    "df = pd.read_csv(\"assets/grades.csv\")\n",
    "df.head()"
   ]
  },
  {
   "source": [
    "There are six different assignment. Let's look at some summary statistics for this DataFrame"
   ],
   "cell_type": "markdown",
   "metadata": {}
  },
  {
   "cell_type": "code",
   "execution_count": 6,
   "metadata": {},
   "outputs": [
    {
     "output_type": "stream",
     "name": "stdout",
     "text": [
      "There are 2315 rows and 13 columns\n"
     ]
    }
   ],
   "source": [
    "print(\"There are {} rows and {} columns\".format(df.shape[0], df.shape[1]))"
   ]
  },
  {
   "cell_type": "code",
   "execution_count": 10,
   "metadata": {},
   "outputs": [
    {
     "output_type": "execute_result",
     "data": {
      "text/plain": [
       "                             student_id  assignment1_grade  \\\n",
       "0  B73F2C11-70F0-E37D-8B10-1D20AFED50B1          92.733946   \n",
       "1  98A0FAE0-A19A-13D2-4BB5-CFBFD94031D1          86.790821   \n",
       "4  5ECBEEB6-F1CE-80AE-3164-E45E99473FB4          64.813800   \n",
       "5  D09000A0-827B-C0FF-3433-BF8FF286E15B          71.647278   \n",
       "8  C9D51293-BD58-F113-4167-A7C0BAFCB6E5          66.595568   \n",
       "\n",
       "          assignment1_submission  assignment2_grade  \\\n",
       "0  2015-11-02 06:55:34.282000000          83.030552   \n",
       "1  2015-11-29 14:57:44.429000000          86.290821   \n",
       "4  2015-12-13 17:06:10.750000000          51.491040   \n",
       "5  2015-12-28 04:35:32.836000000          64.052550   \n",
       "8  2015-12-25 02:29:28.415000000          52.916454   \n",
       "\n",
       "          assignment2_submission  assignment3_grade  \\\n",
       "0  2015-11-09 02:22:58.938000000          67.164441   \n",
       "1  2015-12-06 17:41:18.449000000          69.772657   \n",
       "4  2015-12-14 12:25:12.056000000          41.932832   \n",
       "5  2016-01-03 21:05:38.392000000          64.752550   \n",
       "8  2015-12-31 01:42:30.046000000          48.344809   \n",
       "\n",
       "          assignment3_submission  assignment4_grade  \\\n",
       "0  2015-11-12 08:58:33.998000000          53.011553   \n",
       "1  2015-12-10 08:54:55.904000000          55.098125   \n",
       "4  2015-12-29 14:25:22.594000000          36.929549   \n",
       "5  2016-01-07 08:55:43.692000000          57.467295   \n",
       "8  2016-01-05 23:34:02.180000000          47.444809   \n",
       "\n",
       "          assignment4_submission  assignment5_grade  \\\n",
       "0  2015-11-16 01:21:24.663000000          47.710398   \n",
       "1  2015-12-13 17:32:30.941000000          49.588313   \n",
       "4  2015-12-28 01:29:55.901000000          33.236594   \n",
       "5  2016-01-11 00:45:28.706000000          57.467295   \n",
       "8  2016-01-02 07:48:42.517000000          37.955847   \n",
       "\n",
       "          assignment5_submission  assignment6_grade  \\\n",
       "0  2015-11-20 13:24:59.692000000          38.168318   \n",
       "1  2015-12-19 23:26:39.285000000          44.629482   \n",
       "4  2015-12-29 14:46:06.628000000          33.236594   \n",
       "5  2016-01-11 00:54:13.579000000          57.467295   \n",
       "8  2016-01-03 21:27:04.266000000          37.955847   \n",
       "\n",
       "          assignment6_submission  \n",
       "0  2015-11-22 18:31:15.934000000  \n",
       "1  2015-12-21 17:07:24.275000000  \n",
       "4  2016-01-05 01:06:59.546000000  \n",
       "5  2016-01-20 19:54:46.166000000  \n",
       "8  2016-01-19 15:24:31.060000000  "
      ],
      "text/html": "<div>\n<style scoped>\n    .dataframe tbody tr th:only-of-type {\n        vertical-align: middle;\n    }\n\n    .dataframe tbody tr th {\n        vertical-align: top;\n    }\n\n    .dataframe thead th {\n        text-align: right;\n    }\n</style>\n<table border=\"1\" class=\"dataframe\">\n  <thead>\n    <tr style=\"text-align: right;\">\n      <th></th>\n      <th>student_id</th>\n      <th>assignment1_grade</th>\n      <th>assignment1_submission</th>\n      <th>assignment2_grade</th>\n      <th>assignment2_submission</th>\n      <th>assignment3_grade</th>\n      <th>assignment3_submission</th>\n      <th>assignment4_grade</th>\n      <th>assignment4_submission</th>\n      <th>assignment5_grade</th>\n      <th>assignment5_submission</th>\n      <th>assignment6_grade</th>\n      <th>assignment6_submission</th>\n    </tr>\n  </thead>\n  <tbody>\n    <tr>\n      <th>0</th>\n      <td>B73F2C11-70F0-E37D-8B10-1D20AFED50B1</td>\n      <td>92.733946</td>\n      <td>2015-11-02 06:55:34.282000000</td>\n      <td>83.030552</td>\n      <td>2015-11-09 02:22:58.938000000</td>\n      <td>67.164441</td>\n      <td>2015-11-12 08:58:33.998000000</td>\n      <td>53.011553</td>\n      <td>2015-11-16 01:21:24.663000000</td>\n      <td>47.710398</td>\n      <td>2015-11-20 13:24:59.692000000</td>\n      <td>38.168318</td>\n      <td>2015-11-22 18:31:15.934000000</td>\n    </tr>\n    <tr>\n      <th>1</th>\n      <td>98A0FAE0-A19A-13D2-4BB5-CFBFD94031D1</td>\n      <td>86.790821</td>\n      <td>2015-11-29 14:57:44.429000000</td>\n      <td>86.290821</td>\n      <td>2015-12-06 17:41:18.449000000</td>\n      <td>69.772657</td>\n      <td>2015-12-10 08:54:55.904000000</td>\n      <td>55.098125</td>\n      <td>2015-12-13 17:32:30.941000000</td>\n      <td>49.588313</td>\n      <td>2015-12-19 23:26:39.285000000</td>\n      <td>44.629482</td>\n      <td>2015-12-21 17:07:24.275000000</td>\n    </tr>\n    <tr>\n      <th>4</th>\n      <td>5ECBEEB6-F1CE-80AE-3164-E45E99473FB4</td>\n      <td>64.813800</td>\n      <td>2015-12-13 17:06:10.750000000</td>\n      <td>51.491040</td>\n      <td>2015-12-14 12:25:12.056000000</td>\n      <td>41.932832</td>\n      <td>2015-12-29 14:25:22.594000000</td>\n      <td>36.929549</td>\n      <td>2015-12-28 01:29:55.901000000</td>\n      <td>33.236594</td>\n      <td>2015-12-29 14:46:06.628000000</td>\n      <td>33.236594</td>\n      <td>2016-01-05 01:06:59.546000000</td>\n    </tr>\n    <tr>\n      <th>5</th>\n      <td>D09000A0-827B-C0FF-3433-BF8FF286E15B</td>\n      <td>71.647278</td>\n      <td>2015-12-28 04:35:32.836000000</td>\n      <td>64.052550</td>\n      <td>2016-01-03 21:05:38.392000000</td>\n      <td>64.752550</td>\n      <td>2016-01-07 08:55:43.692000000</td>\n      <td>57.467295</td>\n      <td>2016-01-11 00:45:28.706000000</td>\n      <td>57.467295</td>\n      <td>2016-01-11 00:54:13.579000000</td>\n      <td>57.467295</td>\n      <td>2016-01-20 19:54:46.166000000</td>\n    </tr>\n    <tr>\n      <th>8</th>\n      <td>C9D51293-BD58-F113-4167-A7C0BAFCB6E5</td>\n      <td>66.595568</td>\n      <td>2015-12-25 02:29:28.415000000</td>\n      <td>52.916454</td>\n      <td>2015-12-31 01:42:30.046000000</td>\n      <td>48.344809</td>\n      <td>2016-01-05 23:34:02.180000000</td>\n      <td>47.444809</td>\n      <td>2016-01-02 07:48:42.517000000</td>\n      <td>37.955847</td>\n      <td>2016-01-03 21:27:04.266000000</td>\n      <td>37.955847</td>\n      <td>2016-01-19 15:24:31.060000000</td>\n    </tr>\n  </tbody>\n</table>\n</div>"
     },
     "metadata": {},
     "execution_count": 10
    }
   ],
   "source": [
    "# Let's segment this population into two pieces\n",
    "# Those who finish the first assignment by the end of Dec 2015 are early finishers\n",
    "# Those who finish it sometime after that are late finishers\n",
    "\n",
    "early_finishers = df[pd.to_datetime(df['assignment1_submission']) < '2016']\n",
    "early_finishers.head()"
   ]
  },
  {
   "cell_type": "code",
   "execution_count": 14,
   "metadata": {},
   "outputs": [
    {
     "output_type": "execute_result",
     "data": {
      "text/plain": [
       "                             student_id  assignment1_grade  \\\n",
       "2  D0F62040-CEB0-904C-F563-2F8620916C4E          85.512541   \n",
       "3  FFDF2B2C-F514-EF7F-6538-A6A53518E9DC          86.030665   \n",
       "6  3217BE3F-E4B0-C3B6-9F64-462456819CE4          87.498744   \n",
       "7  F1CB5AA1-B3DE-5460-FAFF-BE951FD38B5F          80.576090   \n",
       "9  E2C617C2-4654-622C-AB50-1550C4BE42A0          59.270882   \n",
       "\n",
       "          assignment1_submission  assignment2_grade  \\\n",
       "2  2016-01-09 05:36:02.389000000          85.512541   \n",
       "3  2016-04-30 06:50:39.801000000          68.824532   \n",
       "6  2016-03-05 11:05:25.408000000          69.998995   \n",
       "7  2016-01-24 18:24:25.619000000          72.518481   \n",
       "9  2016-03-06 12:06:26.185000000          59.270882   \n",
       "\n",
       "          assignment2_submission  assignment3_grade  \\\n",
       "2  2016-01-09 06:39:44.416000000          68.410033   \n",
       "3  2016-04-30 17:20:38.727000000          61.942079   \n",
       "6  2016-03-09 07:29:52.405000000          55.999196   \n",
       "7  2016-01-27 13:37:12.943000000          65.266633   \n",
       "9  2016-03-13 02:07:25.289000000          53.343794   \n",
       "\n",
       "          assignment3_submission  assignment4_grade  \\\n",
       "2  2016-01-15 20:22:45.882000000          54.728026   \n",
       "3  2016-05-12 07:47:16.326000000          49.553663   \n",
       "6  2016-03-16 22:31:24.316000000          50.399276   \n",
       "7  2016-01-30 14:34:36.581000000          65.266633   \n",
       "9  2016-03-17 07:30:09.241000000          53.343794   \n",
       "\n",
       "          assignment4_submission  assignment5_grade  \\\n",
       "2  2016-01-11 12:41:50.749000000          49.255224   \n",
       "3  2016-05-07 16:09:20.485000000          49.553663   \n",
       "6  2016-03-18 07:19:26.032000000          45.359349   \n",
       "7  2016-02-03 22:08:49.002000000          65.266633   \n",
       "9  2016-03-20 21:45:56.229000000          42.675035   \n",
       "\n",
       "          assignment5_submission  assignment6_grade  \\\n",
       "2  2016-01-11 17:31:12.489000000          44.329701   \n",
       "3  2016-05-24 12:51:18.016000000          44.598297   \n",
       "6  2016-03-19 10:35:41.869000000          45.359349   \n",
       "7  2016-02-16 14:22:23.664000000          65.266633   \n",
       "9  2016-03-27 15:55:04.414000000          38.407532   \n",
       "\n",
       "          assignment6_submission  \n",
       "2  2016-01-17 16:24:42.765000000  \n",
       "3  2016-05-26 08:09:12.058000000  \n",
       "6  2016-03-23 14:02:00.987000000  \n",
       "7  2016-02-18 08:35:04.796000000  \n",
       "9  2016-03-30 20:33:13.554000000  "
      ],
      "text/html": "<div>\n<style scoped>\n    .dataframe tbody tr th:only-of-type {\n        vertical-align: middle;\n    }\n\n    .dataframe tbody tr th {\n        vertical-align: top;\n    }\n\n    .dataframe thead th {\n        text-align: right;\n    }\n</style>\n<table border=\"1\" class=\"dataframe\">\n  <thead>\n    <tr style=\"text-align: right;\">\n      <th></th>\n      <th>student_id</th>\n      <th>assignment1_grade</th>\n      <th>assignment1_submission</th>\n      <th>assignment2_grade</th>\n      <th>assignment2_submission</th>\n      <th>assignment3_grade</th>\n      <th>assignment3_submission</th>\n      <th>assignment4_grade</th>\n      <th>assignment4_submission</th>\n      <th>assignment5_grade</th>\n      <th>assignment5_submission</th>\n      <th>assignment6_grade</th>\n      <th>assignment6_submission</th>\n    </tr>\n  </thead>\n  <tbody>\n    <tr>\n      <th>2</th>\n      <td>D0F62040-CEB0-904C-F563-2F8620916C4E</td>\n      <td>85.512541</td>\n      <td>2016-01-09 05:36:02.389000000</td>\n      <td>85.512541</td>\n      <td>2016-01-09 06:39:44.416000000</td>\n      <td>68.410033</td>\n      <td>2016-01-15 20:22:45.882000000</td>\n      <td>54.728026</td>\n      <td>2016-01-11 12:41:50.749000000</td>\n      <td>49.255224</td>\n      <td>2016-01-11 17:31:12.489000000</td>\n      <td>44.329701</td>\n      <td>2016-01-17 16:24:42.765000000</td>\n    </tr>\n    <tr>\n      <th>3</th>\n      <td>FFDF2B2C-F514-EF7F-6538-A6A53518E9DC</td>\n      <td>86.030665</td>\n      <td>2016-04-30 06:50:39.801000000</td>\n      <td>68.824532</td>\n      <td>2016-04-30 17:20:38.727000000</td>\n      <td>61.942079</td>\n      <td>2016-05-12 07:47:16.326000000</td>\n      <td>49.553663</td>\n      <td>2016-05-07 16:09:20.485000000</td>\n      <td>49.553663</td>\n      <td>2016-05-24 12:51:18.016000000</td>\n      <td>44.598297</td>\n      <td>2016-05-26 08:09:12.058000000</td>\n    </tr>\n    <tr>\n      <th>6</th>\n      <td>3217BE3F-E4B0-C3B6-9F64-462456819CE4</td>\n      <td>87.498744</td>\n      <td>2016-03-05 11:05:25.408000000</td>\n      <td>69.998995</td>\n      <td>2016-03-09 07:29:52.405000000</td>\n      <td>55.999196</td>\n      <td>2016-03-16 22:31:24.316000000</td>\n      <td>50.399276</td>\n      <td>2016-03-18 07:19:26.032000000</td>\n      <td>45.359349</td>\n      <td>2016-03-19 10:35:41.869000000</td>\n      <td>45.359349</td>\n      <td>2016-03-23 14:02:00.987000000</td>\n    </tr>\n    <tr>\n      <th>7</th>\n      <td>F1CB5AA1-B3DE-5460-FAFF-BE951FD38B5F</td>\n      <td>80.576090</td>\n      <td>2016-01-24 18:24:25.619000000</td>\n      <td>72.518481</td>\n      <td>2016-01-27 13:37:12.943000000</td>\n      <td>65.266633</td>\n      <td>2016-01-30 14:34:36.581000000</td>\n      <td>65.266633</td>\n      <td>2016-02-03 22:08:49.002000000</td>\n      <td>65.266633</td>\n      <td>2016-02-16 14:22:23.664000000</td>\n      <td>65.266633</td>\n      <td>2016-02-18 08:35:04.796000000</td>\n    </tr>\n    <tr>\n      <th>9</th>\n      <td>E2C617C2-4654-622C-AB50-1550C4BE42A0</td>\n      <td>59.270882</td>\n      <td>2016-03-06 12:06:26.185000000</td>\n      <td>59.270882</td>\n      <td>2016-03-13 02:07:25.289000000</td>\n      <td>53.343794</td>\n      <td>2016-03-17 07:30:09.241000000</td>\n      <td>53.343794</td>\n      <td>2016-03-20 21:45:56.229000000</td>\n      <td>42.675035</td>\n      <td>2016-03-27 15:55:04.414000000</td>\n      <td>38.407532</td>\n      <td>2016-03-30 20:33:13.554000000</td>\n    </tr>\n  </tbody>\n</table>\n</div>"
     },
     "metadata": {},
     "execution_count": 14
    }
   ],
   "source": [
    "late_finishers_try1 = df[pd.to_datetime(df['assignment1_submission']) >= '2016']\n",
    "late_finishers_try1.head()"
   ]
  },
  {
   "cell_type": "code",
   "execution_count": 13,
   "metadata": {},
   "outputs": [
    {
     "output_type": "execute_result",
     "data": {
      "text/plain": [
       "                             student_id  assignment1_grade  \\\n",
       "2  D0F62040-CEB0-904C-F563-2F8620916C4E          85.512541   \n",
       "3  FFDF2B2C-F514-EF7F-6538-A6A53518E9DC          86.030665   \n",
       "6  3217BE3F-E4B0-C3B6-9F64-462456819CE4          87.498744   \n",
       "7  F1CB5AA1-B3DE-5460-FAFF-BE951FD38B5F          80.576090   \n",
       "9  E2C617C2-4654-622C-AB50-1550C4BE42A0          59.270882   \n",
       "\n",
       "          assignment1_submission  assignment2_grade  \\\n",
       "2  2016-01-09 05:36:02.389000000          85.512541   \n",
       "3  2016-04-30 06:50:39.801000000          68.824532   \n",
       "6  2016-03-05 11:05:25.408000000          69.998995   \n",
       "7  2016-01-24 18:24:25.619000000          72.518481   \n",
       "9  2016-03-06 12:06:26.185000000          59.270882   \n",
       "\n",
       "          assignment2_submission  assignment3_grade  \\\n",
       "2  2016-01-09 06:39:44.416000000          68.410033   \n",
       "3  2016-04-30 17:20:38.727000000          61.942079   \n",
       "6  2016-03-09 07:29:52.405000000          55.999196   \n",
       "7  2016-01-27 13:37:12.943000000          65.266633   \n",
       "9  2016-03-13 02:07:25.289000000          53.343794   \n",
       "\n",
       "          assignment3_submission  assignment4_grade  \\\n",
       "2  2016-01-15 20:22:45.882000000          54.728026   \n",
       "3  2016-05-12 07:47:16.326000000          49.553663   \n",
       "6  2016-03-16 22:31:24.316000000          50.399276   \n",
       "7  2016-01-30 14:34:36.581000000          65.266633   \n",
       "9  2016-03-17 07:30:09.241000000          53.343794   \n",
       "\n",
       "          assignment4_submission  assignment5_grade  \\\n",
       "2  2016-01-11 12:41:50.749000000          49.255224   \n",
       "3  2016-05-07 16:09:20.485000000          49.553663   \n",
       "6  2016-03-18 07:19:26.032000000          45.359349   \n",
       "7  2016-02-03 22:08:49.002000000          65.266633   \n",
       "9  2016-03-20 21:45:56.229000000          42.675035   \n",
       "\n",
       "          assignment5_submission  assignment6_grade  \\\n",
       "2  2016-01-11 17:31:12.489000000          44.329701   \n",
       "3  2016-05-24 12:51:18.016000000          44.598297   \n",
       "6  2016-03-19 10:35:41.869000000          45.359349   \n",
       "7  2016-02-16 14:22:23.664000000          65.266633   \n",
       "9  2016-03-27 15:55:04.414000000          38.407532   \n",
       "\n",
       "          assignment6_submission  \n",
       "2  2016-01-17 16:24:42.765000000  \n",
       "3  2016-05-26 08:09:12.058000000  \n",
       "6  2016-03-23 14:02:00.987000000  \n",
       "7  2016-02-18 08:35:04.796000000  \n",
       "9  2016-03-30 20:33:13.554000000  "
      ],
      "text/html": "<div>\n<style scoped>\n    .dataframe tbody tr th:only-of-type {\n        vertical-align: middle;\n    }\n\n    .dataframe tbody tr th {\n        vertical-align: top;\n    }\n\n    .dataframe thead th {\n        text-align: right;\n    }\n</style>\n<table border=\"1\" class=\"dataframe\">\n  <thead>\n    <tr style=\"text-align: right;\">\n      <th></th>\n      <th>student_id</th>\n      <th>assignment1_grade</th>\n      <th>assignment1_submission</th>\n      <th>assignment2_grade</th>\n      <th>assignment2_submission</th>\n      <th>assignment3_grade</th>\n      <th>assignment3_submission</th>\n      <th>assignment4_grade</th>\n      <th>assignment4_submission</th>\n      <th>assignment5_grade</th>\n      <th>assignment5_submission</th>\n      <th>assignment6_grade</th>\n      <th>assignment6_submission</th>\n    </tr>\n  </thead>\n  <tbody>\n    <tr>\n      <th>2</th>\n      <td>D0F62040-CEB0-904C-F563-2F8620916C4E</td>\n      <td>85.512541</td>\n      <td>2016-01-09 05:36:02.389000000</td>\n      <td>85.512541</td>\n      <td>2016-01-09 06:39:44.416000000</td>\n      <td>68.410033</td>\n      <td>2016-01-15 20:22:45.882000000</td>\n      <td>54.728026</td>\n      <td>2016-01-11 12:41:50.749000000</td>\n      <td>49.255224</td>\n      <td>2016-01-11 17:31:12.489000000</td>\n      <td>44.329701</td>\n      <td>2016-01-17 16:24:42.765000000</td>\n    </tr>\n    <tr>\n      <th>3</th>\n      <td>FFDF2B2C-F514-EF7F-6538-A6A53518E9DC</td>\n      <td>86.030665</td>\n      <td>2016-04-30 06:50:39.801000000</td>\n      <td>68.824532</td>\n      <td>2016-04-30 17:20:38.727000000</td>\n      <td>61.942079</td>\n      <td>2016-05-12 07:47:16.326000000</td>\n      <td>49.553663</td>\n      <td>2016-05-07 16:09:20.485000000</td>\n      <td>49.553663</td>\n      <td>2016-05-24 12:51:18.016000000</td>\n      <td>44.598297</td>\n      <td>2016-05-26 08:09:12.058000000</td>\n    </tr>\n    <tr>\n      <th>6</th>\n      <td>3217BE3F-E4B0-C3B6-9F64-462456819CE4</td>\n      <td>87.498744</td>\n      <td>2016-03-05 11:05:25.408000000</td>\n      <td>69.998995</td>\n      <td>2016-03-09 07:29:52.405000000</td>\n      <td>55.999196</td>\n      <td>2016-03-16 22:31:24.316000000</td>\n      <td>50.399276</td>\n      <td>2016-03-18 07:19:26.032000000</td>\n      <td>45.359349</td>\n      <td>2016-03-19 10:35:41.869000000</td>\n      <td>45.359349</td>\n      <td>2016-03-23 14:02:00.987000000</td>\n    </tr>\n    <tr>\n      <th>7</th>\n      <td>F1CB5AA1-B3DE-5460-FAFF-BE951FD38B5F</td>\n      <td>80.576090</td>\n      <td>2016-01-24 18:24:25.619000000</td>\n      <td>72.518481</td>\n      <td>2016-01-27 13:37:12.943000000</td>\n      <td>65.266633</td>\n      <td>2016-01-30 14:34:36.581000000</td>\n      <td>65.266633</td>\n      <td>2016-02-03 22:08:49.002000000</td>\n      <td>65.266633</td>\n      <td>2016-02-16 14:22:23.664000000</td>\n      <td>65.266633</td>\n      <td>2016-02-18 08:35:04.796000000</td>\n    </tr>\n    <tr>\n      <th>9</th>\n      <td>E2C617C2-4654-622C-AB50-1550C4BE42A0</td>\n      <td>59.270882</td>\n      <td>2016-03-06 12:06:26.185000000</td>\n      <td>59.270882</td>\n      <td>2016-03-13 02:07:25.289000000</td>\n      <td>53.343794</td>\n      <td>2016-03-17 07:30:09.241000000</td>\n      <td>53.343794</td>\n      <td>2016-03-20 21:45:56.229000000</td>\n      <td>42.675035</td>\n      <td>2016-03-27 15:55:04.414000000</td>\n      <td>38.407532</td>\n      <td>2016-03-30 20:33:13.554000000</td>\n    </tr>\n  </tbody>\n</table>\n</div>"
     },
     "metadata": {},
     "execution_count": 13
    }
   ],
   "source": [
    "# Want everything in the df which is not in early_finishers\n",
    "late_finishers = df[~df.index.isin(early_finishers.index)]\n",
    "late_finishers.head()"
   ]
  },
  {
   "source": [
    "1. Join of the dataframe df with early_finishers. If you do a left join you only keep the items in the left dataframe, so this would have been a good answer.\n",
    "2. A function that determines if someone is early or late, and then called .apply() on the dataframe and added a new conlumn to the dataframe."
   ],
   "cell_type": "markdown",
   "metadata": {}
  },
  {
   "cell_type": "code",
   "execution_count": 16,
   "metadata": {},
   "outputs": [
    {
     "output_type": "stream",
     "name": "stdout",
     "text": [
      "74.94728457024303\n74.0450648477065\n"
     ]
    }
   ],
   "source": [
    "print(early_finishers['assignment1_grade'].mean())\n",
    "print(late_finishers['assignment1_grade'].mean())"
   ]
  },
  {
   "cell_type": "code",
   "execution_count": 17,
   "metadata": {},
   "outputs": [],
   "source": [
    "# What do we mean by similar?\n",
    "# This is where the students' t-test comes in. It allows us to form the alternative hypthesis as well as the \n",
    "# null hypothesis and then test that null hypothesis\n",
    "\n",
    "# When doing hypothsis testing, we have to choose a significance level as a threshold for how much of a \n",
    "# chance we're willing to accept. This significance level is typically called alpha."
   ]
  },
  {
   "cell_type": "code",
   "execution_count": 18,
   "metadata": {},
   "outputs": [
    {
     "output_type": "execute_result",
     "data": {
      "text/plain": [
       "Ttest_indResult(statistic=1.322354085372139, pvalue=0.1861810110171455)"
      ]
     },
     "metadata": {},
     "execution_count": 18
    }
   ],
   "source": [
    "from scipy.stats import ttest_ind\n",
    "\n",
    "ttest_ind(early_finishers['assignment1_grade'], late_finishers['assignment1_grade'])"
   ]
  },
  {
   "source": [
    "The p-value is 0.18 and above our alpha value of 0.05. This means that we cannot reject the null hypothesis.\n",
    "\n",
    "The null hypothesis was that the two populations are the same, and we don't have enough certainty in our evidence (becasue it is greater than alpha) to come to a conlcusion to the contrary. This doesn't mean that we have proven the populations are the same."
   ],
   "cell_type": "markdown",
   "metadata": {}
  },
  {
   "cell_type": "code",
   "execution_count": 19,
   "metadata": {},
   "outputs": [
    {
     "output_type": "execute_result",
     "data": {
      "text/plain": [
       "         0         1         2         3         4         5         6   \\\n",
       "0  0.781037  0.578030  0.957090  0.863923  0.023813  0.321775  0.985980   \n",
       "1  0.276768  0.386151  0.296504  0.746178  0.262391  0.722245  0.033479   \n",
       "2  0.575770  0.045751  0.941714  0.237793  0.650395  0.222964  0.377363   \n",
       "3  0.110826  0.022395  0.650159  0.329160  0.042542  0.860804  0.098154   \n",
       "4  0.822043  0.437353  0.922702  0.949546  0.721122  0.929068  0.428405   \n",
       "\n",
       "         7         8         9   ...        90        91        92        93  \\\n",
       "0  0.875277  0.823929  0.865984  ...  0.730081  0.893980  0.182539  0.717723   \n",
       "1  0.222070  0.839301  0.914214  ...  0.460948  0.870931  0.286714  0.528930   \n",
       "2  0.700825  0.677531  0.522036  ...  0.942535  0.492913  0.804804  0.108795   \n",
       "3  0.364955  0.412324  0.614992  ...  0.916943  0.312286  0.170000  0.170893   \n",
       "4  0.911523  0.632004  0.019619  ...  0.413681  0.731408  0.971511  0.689614   \n",
       "\n",
       "         94        95        96        97        98        99  \n",
       "0  0.707501  0.657830  0.642496  0.682527  0.361978  0.536748  \n",
       "1  0.953518  0.274413  0.021581  0.519306  0.723609  0.875261  \n",
       "2  0.329727  0.270312  0.348645  0.686009  0.148566  0.030767  \n",
       "3  0.149150  0.923076  0.731500  0.578633  0.032146  0.204681  \n",
       "4  0.876563  0.445081  0.161910  0.556171  0.818006  0.188925  \n",
       "\n",
       "[5 rows x 100 columns]"
      ],
      "text/html": "<div>\n<style scoped>\n    .dataframe tbody tr th:only-of-type {\n        vertical-align: middle;\n    }\n\n    .dataframe tbody tr th {\n        vertical-align: top;\n    }\n\n    .dataframe thead th {\n        text-align: right;\n    }\n</style>\n<table border=\"1\" class=\"dataframe\">\n  <thead>\n    <tr style=\"text-align: right;\">\n      <th></th>\n      <th>0</th>\n      <th>1</th>\n      <th>2</th>\n      <th>3</th>\n      <th>4</th>\n      <th>5</th>\n      <th>6</th>\n      <th>7</th>\n      <th>8</th>\n      <th>9</th>\n      <th>...</th>\n      <th>90</th>\n      <th>91</th>\n      <th>92</th>\n      <th>93</th>\n      <th>94</th>\n      <th>95</th>\n      <th>96</th>\n      <th>97</th>\n      <th>98</th>\n      <th>99</th>\n    </tr>\n  </thead>\n  <tbody>\n    <tr>\n      <th>0</th>\n      <td>0.781037</td>\n      <td>0.578030</td>\n      <td>0.957090</td>\n      <td>0.863923</td>\n      <td>0.023813</td>\n      <td>0.321775</td>\n      <td>0.985980</td>\n      <td>0.875277</td>\n      <td>0.823929</td>\n      <td>0.865984</td>\n      <td>...</td>\n      <td>0.730081</td>\n      <td>0.893980</td>\n      <td>0.182539</td>\n      <td>0.717723</td>\n      <td>0.707501</td>\n      <td>0.657830</td>\n      <td>0.642496</td>\n      <td>0.682527</td>\n      <td>0.361978</td>\n      <td>0.536748</td>\n    </tr>\n    <tr>\n      <th>1</th>\n      <td>0.276768</td>\n      <td>0.386151</td>\n      <td>0.296504</td>\n      <td>0.746178</td>\n      <td>0.262391</td>\n      <td>0.722245</td>\n      <td>0.033479</td>\n      <td>0.222070</td>\n      <td>0.839301</td>\n      <td>0.914214</td>\n      <td>...</td>\n      <td>0.460948</td>\n      <td>0.870931</td>\n      <td>0.286714</td>\n      <td>0.528930</td>\n      <td>0.953518</td>\n      <td>0.274413</td>\n      <td>0.021581</td>\n      <td>0.519306</td>\n      <td>0.723609</td>\n      <td>0.875261</td>\n    </tr>\n    <tr>\n      <th>2</th>\n      <td>0.575770</td>\n      <td>0.045751</td>\n      <td>0.941714</td>\n      <td>0.237793</td>\n      <td>0.650395</td>\n      <td>0.222964</td>\n      <td>0.377363</td>\n      <td>0.700825</td>\n      <td>0.677531</td>\n      <td>0.522036</td>\n      <td>...</td>\n      <td>0.942535</td>\n      <td>0.492913</td>\n      <td>0.804804</td>\n      <td>0.108795</td>\n      <td>0.329727</td>\n      <td>0.270312</td>\n      <td>0.348645</td>\n      <td>0.686009</td>\n      <td>0.148566</td>\n      <td>0.030767</td>\n    </tr>\n    <tr>\n      <th>3</th>\n      <td>0.110826</td>\n      <td>0.022395</td>\n      <td>0.650159</td>\n      <td>0.329160</td>\n      <td>0.042542</td>\n      <td>0.860804</td>\n      <td>0.098154</td>\n      <td>0.364955</td>\n      <td>0.412324</td>\n      <td>0.614992</td>\n      <td>...</td>\n      <td>0.916943</td>\n      <td>0.312286</td>\n      <td>0.170000</td>\n      <td>0.170893</td>\n      <td>0.149150</td>\n      <td>0.923076</td>\n      <td>0.731500</td>\n      <td>0.578633</td>\n      <td>0.032146</td>\n      <td>0.204681</td>\n    </tr>\n    <tr>\n      <th>4</th>\n      <td>0.822043</td>\n      <td>0.437353</td>\n      <td>0.922702</td>\n      <td>0.949546</td>\n      <td>0.721122</td>\n      <td>0.929068</td>\n      <td>0.428405</td>\n      <td>0.911523</td>\n      <td>0.632004</td>\n      <td>0.019619</td>\n      <td>...</td>\n      <td>0.413681</td>\n      <td>0.731408</td>\n      <td>0.971511</td>\n      <td>0.689614</td>\n      <td>0.876563</td>\n      <td>0.445081</td>\n      <td>0.161910</td>\n      <td>0.556171</td>\n      <td>0.818006</td>\n      <td>0.188925</td>\n    </tr>\n  </tbody>\n</table>\n<p>5 rows × 100 columns</p>\n</div>"
     },
     "metadata": {},
     "execution_count": 19
    }
   ],
   "source": [
    "df1 = pd.DataFrame([np.random.random(100) for x in range(100)])\n",
    "df1.head()"
   ]
  },
  {
   "cell_type": "code",
   "execution_count": 20,
   "metadata": {},
   "outputs": [
    {
     "output_type": "execute_result",
     "data": {
      "text/plain": [
       "         0         1         2         3         4         5         6   \\\n",
       "0  0.320641  0.794225  0.111155  0.743778  0.115088  0.983482  0.257087   \n",
       "1  0.719144  0.085116  0.369136  0.842764  0.952956  0.668071  0.116102   \n",
       "2  0.376177  0.620183  0.686659  0.881225  0.878423  0.713644  0.961147   \n",
       "3  0.242707  0.762029  0.760593  0.328970  0.758009  0.673745  0.679601   \n",
       "4  0.017931  0.341615  0.016940  0.517245  0.568095  0.017260  0.816769   \n",
       "\n",
       "         7         8         9   ...        90        91        92        93  \\\n",
       "0  0.692234  0.813613  0.579759  ...  0.881761  0.537904  0.406771  0.114959   \n",
       "1  0.788610  0.313235  0.988071  ...  0.948449  0.304528  0.118420  0.560352   \n",
       "2  0.178687  0.281547  0.580469  ...  0.820664  0.202190  0.495658  0.879154   \n",
       "3  0.317576  0.597414  0.168291  ...  0.412177  0.041766  0.476118  0.184581   \n",
       "4  0.359560  0.074111  0.071266  ...  0.569583  0.514131  0.392947  0.942193   \n",
       "\n",
       "         94        95        96        97        98        99  \n",
       "0  0.970291  0.582301  0.054140  0.750849  0.332425  0.627580  \n",
       "1  0.182920  0.729624  0.615499  0.504834  0.663980  0.041319  \n",
       "2  0.035058  0.979497  0.117621  0.263765  0.000150  0.782920  \n",
       "3  0.277603  0.456813  0.881678  0.654450  0.795106  0.015345  \n",
       "4  0.853500  0.372454  0.265007  0.370098  0.113914  0.672143  \n",
       "\n",
       "[5 rows x 100 columns]"
      ],
      "text/html": "<div>\n<style scoped>\n    .dataframe tbody tr th:only-of-type {\n        vertical-align: middle;\n    }\n\n    .dataframe tbody tr th {\n        vertical-align: top;\n    }\n\n    .dataframe thead th {\n        text-align: right;\n    }\n</style>\n<table border=\"1\" class=\"dataframe\">\n  <thead>\n    <tr style=\"text-align: right;\">\n      <th></th>\n      <th>0</th>\n      <th>1</th>\n      <th>2</th>\n      <th>3</th>\n      <th>4</th>\n      <th>5</th>\n      <th>6</th>\n      <th>7</th>\n      <th>8</th>\n      <th>9</th>\n      <th>...</th>\n      <th>90</th>\n      <th>91</th>\n      <th>92</th>\n      <th>93</th>\n      <th>94</th>\n      <th>95</th>\n      <th>96</th>\n      <th>97</th>\n      <th>98</th>\n      <th>99</th>\n    </tr>\n  </thead>\n  <tbody>\n    <tr>\n      <th>0</th>\n      <td>0.320641</td>\n      <td>0.794225</td>\n      <td>0.111155</td>\n      <td>0.743778</td>\n      <td>0.115088</td>\n      <td>0.983482</td>\n      <td>0.257087</td>\n      <td>0.692234</td>\n      <td>0.813613</td>\n      <td>0.579759</td>\n      <td>...</td>\n      <td>0.881761</td>\n      <td>0.537904</td>\n      <td>0.406771</td>\n      <td>0.114959</td>\n      <td>0.970291</td>\n      <td>0.582301</td>\n      <td>0.054140</td>\n      <td>0.750849</td>\n      <td>0.332425</td>\n      <td>0.627580</td>\n    </tr>\n    <tr>\n      <th>1</th>\n      <td>0.719144</td>\n      <td>0.085116</td>\n      <td>0.369136</td>\n      <td>0.842764</td>\n      <td>0.952956</td>\n      <td>0.668071</td>\n      <td>0.116102</td>\n      <td>0.788610</td>\n      <td>0.313235</td>\n      <td>0.988071</td>\n      <td>...</td>\n      <td>0.948449</td>\n      <td>0.304528</td>\n      <td>0.118420</td>\n      <td>0.560352</td>\n      <td>0.182920</td>\n      <td>0.729624</td>\n      <td>0.615499</td>\n      <td>0.504834</td>\n      <td>0.663980</td>\n      <td>0.041319</td>\n    </tr>\n    <tr>\n      <th>2</th>\n      <td>0.376177</td>\n      <td>0.620183</td>\n      <td>0.686659</td>\n      <td>0.881225</td>\n      <td>0.878423</td>\n      <td>0.713644</td>\n      <td>0.961147</td>\n      <td>0.178687</td>\n      <td>0.281547</td>\n      <td>0.580469</td>\n      <td>...</td>\n      <td>0.820664</td>\n      <td>0.202190</td>\n      <td>0.495658</td>\n      <td>0.879154</td>\n      <td>0.035058</td>\n      <td>0.979497</td>\n      <td>0.117621</td>\n      <td>0.263765</td>\n      <td>0.000150</td>\n      <td>0.782920</td>\n    </tr>\n    <tr>\n      <th>3</th>\n      <td>0.242707</td>\n      <td>0.762029</td>\n      <td>0.760593</td>\n      <td>0.328970</td>\n      <td>0.758009</td>\n      <td>0.673745</td>\n      <td>0.679601</td>\n      <td>0.317576</td>\n      <td>0.597414</td>\n      <td>0.168291</td>\n      <td>...</td>\n      <td>0.412177</td>\n      <td>0.041766</td>\n      <td>0.476118</td>\n      <td>0.184581</td>\n      <td>0.277603</td>\n      <td>0.456813</td>\n      <td>0.881678</td>\n      <td>0.654450</td>\n      <td>0.795106</td>\n      <td>0.015345</td>\n    </tr>\n    <tr>\n      <th>4</th>\n      <td>0.017931</td>\n      <td>0.341615</td>\n      <td>0.016940</td>\n      <td>0.517245</td>\n      <td>0.568095</td>\n      <td>0.017260</td>\n      <td>0.816769</td>\n      <td>0.359560</td>\n      <td>0.074111</td>\n      <td>0.071266</td>\n      <td>...</td>\n      <td>0.569583</td>\n      <td>0.514131</td>\n      <td>0.392947</td>\n      <td>0.942193</td>\n      <td>0.853500</td>\n      <td>0.372454</td>\n      <td>0.265007</td>\n      <td>0.370098</td>\n      <td>0.113914</td>\n      <td>0.672143</td>\n    </tr>\n  </tbody>\n</table>\n<p>5 rows × 100 columns</p>\n</div>"
     },
     "metadata": {},
     "execution_count": 20
    }
   ],
   "source": [
    "df2 = pd.DataFrame([np.random.random(100) for x in range(100)])\n",
    "df2.head()"
   ]
  },
  {
   "cell_type": "code",
   "execution_count": 24,
   "metadata": {},
   "outputs": [
    {
     "output_type": "stream",
     "name": "stdout",
     "text": [
      "Col 9 is statistically significanty different at alpha = 0.1, pval = 0.022255617901449525\nCol 10 is statistically significanty different at alpha = 0.1, pval = 0.04300000339167113\nCol 17 is statistically significanty different at alpha = 0.1, pval = 0.04655201384057509\nCol 53 is statistically significanty different at alpha = 0.1, pval = 0.0774223826190771\nCol 62 is statistically significanty different at alpha = 0.1, pval = 0.0871131782042013\nCol 85 is statistically significanty different at alpha = 0.1, pval = 0.0807164137263577\nTotal number different was 6, which is 6.0%\n"
     ]
    }
   ],
   "source": [
    "# Are these two DataFrames the same? Maybe a better question is, for a given row inside of df1, is it the same \n",
    "# as the row inside of 2?\n",
    "\n",
    "# Critical value is 0.1, or alpha of 10%\n",
    "\n",
    "def test_columns(alpha = 0.1):\n",
    "    # Keep track of how many differ\n",
    "    num_diff = 0\n",
    "    # Iterate over the columns\n",
    "    for col in df1.columns:\n",
    "        # Run out ttest_ind between the two dataframes\n",
    "        teststat,pval = ttest_ind(df1[col], df2[col])\n",
    "        # Check the pvalue versus the alpha\n",
    "        if pval <= alpha:\n",
    "            print(\"Col {} is statistically significanty different at alpha = {}, pval = {}\".format(col, alpha, pval))\n",
    "            num_diff = num_diff + 1\n",
    "    # Print some summary stats\n",
    "    print(\"Total number different was {}, which is {}%\".format(num_diff, float(num_diff)/len(df1.columns)*100))\n",
    "\n",
    "test_columns()"
   ]
  },
  {
   "source": [
    "All ttest does is check if two sets are similar given ome level of confidence, in our case, 10% \n",
    "\n",
    "The more random comparisons you do, the more will just happen to be the same by chance. In this example, we checked 100 columns, so we would expect there to be roughly 10 of them if our alpha was 0.1"
   ],
   "cell_type": "markdown",
   "metadata": {}
  },
  {
   "cell_type": "code",
   "execution_count": 25,
   "metadata": {},
   "outputs": [
    {
     "output_type": "stream",
     "name": "stdout",
     "text": [
      "Col 9 is statistically significanty different at alpha = 0.05, pval = 0.022255617901449525\nCol 10 is statistically significanty different at alpha = 0.05, pval = 0.04300000339167113\nCol 17 is statistically significanty different at alpha = 0.05, pval = 0.04655201384057509\nTotal number different was 3, which is 3.0%\n"
     ]
    }
   ],
   "source": [
    "test_columns(0.05)"
   ]
  },
  {
   "source": [
    "Keep this in mind when you are doing statistical tests like the t-test which has a p-value. Understand that this p-value isn't magic, that it's a threshold for you when reporting results and trying to answer your hypothesis. \n",
    "\n",
    "What's a reasonable threshold? Depends on your question, and you need to engage domain experts to better understand what they would consider significant."
   ],
   "cell_type": "markdown",
   "metadata": {}
  },
  {
   "cell_type": "code",
   "execution_count": 26,
   "metadata": {},
   "outputs": [],
   "source": [
    "df2 = pd.DataFrame([np.random.chisquare(df=1,size=100) for x in range(100)])"
   ]
  },
  {
   "cell_type": "code",
   "execution_count": 27,
   "metadata": {},
   "outputs": [
    {
     "output_type": "execute_result",
     "data": {
      "text/plain": [
       "         0         1         2         3         4         5         6   \\\n",
       "0  0.014095  0.165917  0.548317  0.736558  0.011588  0.017947  1.971273   \n",
       "1  0.082443  0.364093  1.475380  0.226480  0.001110  0.574390  0.927932   \n",
       "2  0.816413  0.088087  0.201689  0.091542  0.000012  0.332167  0.000643   \n",
       "3  0.009786  0.001924  1.271808  0.492390  0.242373  3.826152  0.033403   \n",
       "4  2.468948  0.010017  0.001198  0.110663  0.000096  1.376623  0.071788   \n",
       "\n",
       "         7         8         9   ...        90        91        92        93  \\\n",
       "0  0.751031  0.892050  0.002533  ...  0.322931  0.364089  0.764990  0.658565   \n",
       "1  0.001655  0.174158  4.974089  ...  0.496773  0.143406  2.807119  2.716798   \n",
       "2  1.065374  0.964419  0.117485  ...  0.422728  0.978301  0.571465  0.210810   \n",
       "3  3.060671  1.138687  3.997034  ...  0.088515  0.012039  0.334683  0.264116   \n",
       "4  0.339618  0.108358  7.367742  ...  1.462841  0.164284  0.393093  0.147552   \n",
       "\n",
       "         94        95        96        97        98        99  \n",
       "0  1.092446  3.389651  0.013253  0.850113  4.259518  0.203684  \n",
       "1  0.322123  0.026221  1.624929  0.000270  0.022333  1.677690  \n",
       "2  0.391875  0.275450  0.576890  0.067704  0.023073  1.885851  \n",
       "3  0.017430  0.326187  1.392091  0.165286  0.117668  0.093462  \n",
       "4  0.020886  0.288106  0.781177  1.286430  0.973932  0.556855  \n",
       "\n",
       "[5 rows x 100 columns]"
      ],
      "text/html": "<div>\n<style scoped>\n    .dataframe tbody tr th:only-of-type {\n        vertical-align: middle;\n    }\n\n    .dataframe tbody tr th {\n        vertical-align: top;\n    }\n\n    .dataframe thead th {\n        text-align: right;\n    }\n</style>\n<table border=\"1\" class=\"dataframe\">\n  <thead>\n    <tr style=\"text-align: right;\">\n      <th></th>\n      <th>0</th>\n      <th>1</th>\n      <th>2</th>\n      <th>3</th>\n      <th>4</th>\n      <th>5</th>\n      <th>6</th>\n      <th>7</th>\n      <th>8</th>\n      <th>9</th>\n      <th>...</th>\n      <th>90</th>\n      <th>91</th>\n      <th>92</th>\n      <th>93</th>\n      <th>94</th>\n      <th>95</th>\n      <th>96</th>\n      <th>97</th>\n      <th>98</th>\n      <th>99</th>\n    </tr>\n  </thead>\n  <tbody>\n    <tr>\n      <th>0</th>\n      <td>0.014095</td>\n      <td>0.165917</td>\n      <td>0.548317</td>\n      <td>0.736558</td>\n      <td>0.011588</td>\n      <td>0.017947</td>\n      <td>1.971273</td>\n      <td>0.751031</td>\n      <td>0.892050</td>\n      <td>0.002533</td>\n      <td>...</td>\n      <td>0.322931</td>\n      <td>0.364089</td>\n      <td>0.764990</td>\n      <td>0.658565</td>\n      <td>1.092446</td>\n      <td>3.389651</td>\n      <td>0.013253</td>\n      <td>0.850113</td>\n      <td>4.259518</td>\n      <td>0.203684</td>\n    </tr>\n    <tr>\n      <th>1</th>\n      <td>0.082443</td>\n      <td>0.364093</td>\n      <td>1.475380</td>\n      <td>0.226480</td>\n      <td>0.001110</td>\n      <td>0.574390</td>\n      <td>0.927932</td>\n      <td>0.001655</td>\n      <td>0.174158</td>\n      <td>4.974089</td>\n      <td>...</td>\n      <td>0.496773</td>\n      <td>0.143406</td>\n      <td>2.807119</td>\n      <td>2.716798</td>\n      <td>0.322123</td>\n      <td>0.026221</td>\n      <td>1.624929</td>\n      <td>0.000270</td>\n      <td>0.022333</td>\n      <td>1.677690</td>\n    </tr>\n    <tr>\n      <th>2</th>\n      <td>0.816413</td>\n      <td>0.088087</td>\n      <td>0.201689</td>\n      <td>0.091542</td>\n      <td>0.000012</td>\n      <td>0.332167</td>\n      <td>0.000643</td>\n      <td>1.065374</td>\n      <td>0.964419</td>\n      <td>0.117485</td>\n      <td>...</td>\n      <td>0.422728</td>\n      <td>0.978301</td>\n      <td>0.571465</td>\n      <td>0.210810</td>\n      <td>0.391875</td>\n      <td>0.275450</td>\n      <td>0.576890</td>\n      <td>0.067704</td>\n      <td>0.023073</td>\n      <td>1.885851</td>\n    </tr>\n    <tr>\n      <th>3</th>\n      <td>0.009786</td>\n      <td>0.001924</td>\n      <td>1.271808</td>\n      <td>0.492390</td>\n      <td>0.242373</td>\n      <td>3.826152</td>\n      <td>0.033403</td>\n      <td>3.060671</td>\n      <td>1.138687</td>\n      <td>3.997034</td>\n      <td>...</td>\n      <td>0.088515</td>\n      <td>0.012039</td>\n      <td>0.334683</td>\n      <td>0.264116</td>\n      <td>0.017430</td>\n      <td>0.326187</td>\n      <td>1.392091</td>\n      <td>0.165286</td>\n      <td>0.117668</td>\n      <td>0.093462</td>\n    </tr>\n    <tr>\n      <th>4</th>\n      <td>2.468948</td>\n      <td>0.010017</td>\n      <td>0.001198</td>\n      <td>0.110663</td>\n      <td>0.000096</td>\n      <td>1.376623</td>\n      <td>0.071788</td>\n      <td>0.339618</td>\n      <td>0.108358</td>\n      <td>7.367742</td>\n      <td>...</td>\n      <td>1.462841</td>\n      <td>0.164284</td>\n      <td>0.393093</td>\n      <td>0.147552</td>\n      <td>0.020886</td>\n      <td>0.288106</td>\n      <td>0.781177</td>\n      <td>1.286430</td>\n      <td>0.973932</td>\n      <td>0.556855</td>\n    </tr>\n  </tbody>\n</table>\n<p>5 rows × 100 columns</p>\n</div>"
     },
     "metadata": {},
     "execution_count": 27
    }
   ],
   "source": [
    "df2.head()"
   ]
  },
  {
   "cell_type": "code",
   "execution_count": null,
   "metadata": {},
   "outputs": [],
   "source": []
  }
 ]
}